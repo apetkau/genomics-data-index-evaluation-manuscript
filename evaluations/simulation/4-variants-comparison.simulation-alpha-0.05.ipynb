{
 "cells": [
  {
   "cell_type": "markdown",
   "id": "2f66aa00-6c01-46a5-8f31-0e579da614b2",
   "metadata": {
    "papermill": {
     "duration": 0.011329,
     "end_time": "2022-10-19T01:56:48.501947",
     "exception": false,
     "start_time": "2022-10-19T01:56:48.490618",
     "status": "completed"
    },
    "tags": []
   },
   "source": [
    "# 1. Parameters"
   ]
  },
  {
   "cell_type": "code",
   "execution_count": 1,
   "id": "f2cfe9b4-3c45-4e2e-9ba2-17f4119f5f6d",
   "metadata": {
    "execution": {
     "iopub.execute_input": "2022-10-19T01:56:48.516678Z",
     "iopub.status.busy": "2022-10-19T01:56:48.515677Z",
     "iopub.status.idle": "2022-10-19T01:56:48.531890Z",
     "shell.execute_reply": "2022-10-19T01:56:48.530568Z"
    },
    "papermill": {
     "duration": 0.027269,
     "end_time": "2022-10-19T01:56:48.535262",
     "exception": false,
     "start_time": "2022-10-19T01:56:48.507993",
     "status": "completed"
    },
    "tags": [
     "parameters"
    ]
   },
   "outputs": [],
   "source": [
    "# Defaults\n",
    "\n",
    "simulation_dir = 'simulations/unset'\n",
    "reference_file = 'simulations/reference/reference.fa.gz'"
   ]
  },
  {
   "cell_type": "code",
   "execution_count": 2,
   "id": "0ddfd679",
   "metadata": {
    "execution": {
     "iopub.execute_input": "2022-10-19T01:56:48.550530Z",
     "iopub.status.busy": "2022-10-19T01:56:48.550000Z",
     "iopub.status.idle": "2022-10-19T01:56:48.556951Z",
     "shell.execute_reply": "2022-10-19T01:56:48.555478Z"
    },
    "papermill": {
     "duration": 0.016664,
     "end_time": "2022-10-19T01:56:48.559457",
     "exception": false,
     "start_time": "2022-10-19T01:56:48.542793",
     "status": "completed"
    },
    "tags": [
     "injected-parameters"
    ]
   },
   "outputs": [],
   "source": [
    "# Parameters\n",
    "read_coverage = 30\n",
    "mincov = 10\n",
    "simulation_dir = \"simulations/alpha-0.05-cov-30\"\n",
    "iterations = 1\n",
    "sub_alpha = 0.05\n"
   ]
  },
  {
   "cell_type": "code",
   "execution_count": 3,
   "id": "9ddaa924-b1ac-4740-8070-0eaa05b80e96",
   "metadata": {
    "execution": {
     "iopub.execute_input": "2022-10-19T01:56:48.572197Z",
     "iopub.status.busy": "2022-10-19T01:56:48.571672Z",
     "iopub.status.idle": "2022-10-19T01:56:48.580521Z",
     "shell.execute_reply": "2022-10-19T01:56:48.579251Z"
    },
    "papermill": {
     "duration": 0.01818,
     "end_time": "2022-10-19T01:56:48.582831",
     "exception": false,
     "start_time": "2022-10-19T01:56:48.564651",
     "status": "completed"
    },
    "tags": []
   },
   "outputs": [],
   "source": [
    "from pathlib import Path\n",
    "\n",
    "simulation_dir_path = Path(simulation_dir)\n",
    "\n",
    "case_name = str(simulation_dir_path.name)\n",
    "\n",
    "simulation_data_path = simulation_dir_path / 'simulated_data'\n",
    "simulated_variants_file = simulation_data_path / 'haplotypes.vcf.gz'\n",
    "\n",
    "case_name = str(simulation_dir_path.name)\n",
    "index_reads_path = simulation_dir_path / 'index-reads'\n",
    "index_assemblies_path = simulation_dir_path / 'index-assemblies'\n",
    "index_assemblies_reads_path = simulation_dir_path / 'index-assemblies-reads'"
   ]
  },
  {
   "cell_type": "markdown",
   "id": "2b6c7ffd-d5d7-447f-ba62-7ec7d1b0b583",
   "metadata": {
    "papermill": {
     "duration": 0.005032,
     "end_time": "2022-10-19T01:56:48.593474",
     "exception": false,
     "start_time": "2022-10-19T01:56:48.588442",
     "status": "completed"
    },
    "tags": []
   },
   "source": [
    "# 2. Load simulated variants (VCF)"
   ]
  },
  {
   "cell_type": "code",
   "execution_count": 4,
   "id": "e01f3458-fb5e-4fc1-b1f0-69b7a9c9d033",
   "metadata": {
    "execution": {
     "iopub.execute_input": "2022-10-19T01:56:48.603082Z",
     "iopub.status.busy": "2022-10-19T01:56:48.602463Z",
     "iopub.status.idle": "2022-10-19T01:56:49.226891Z",
     "shell.execute_reply": "2022-10-19T01:56:49.226229Z"
    },
    "papermill": {
     "duration": 0.634721,
     "end_time": "2022-10-19T01:56:49.231973",
     "exception": false,
     "start_time": "2022-10-19T01:56:48.597252",
     "status": "completed"
    },
    "tags": []
   },
   "outputs": [
    {
     "data": {
      "text/html": [
       "<div>\n",
       "<style scoped>\n",
       "    .dataframe tbody tr th:only-of-type {\n",
       "        vertical-align: middle;\n",
       "    }\n",
       "\n",
       "    .dataframe tbody tr th {\n",
       "        vertical-align: top;\n",
       "    }\n",
       "\n",
       "    .dataframe thead th {\n",
       "        text-align: right;\n",
       "    }\n",
       "</style>\n",
       "<table border=\"1\" class=\"dataframe\">\n",
       "  <thead>\n",
       "    <tr style=\"text-align: right;\">\n",
       "      <th></th>\n",
       "      <th>CHROM</th>\n",
       "      <th>POS</th>\n",
       "      <th>REF</th>\n",
       "      <th>samples</th>\n",
       "    </tr>\n",
       "  </thead>\n",
       "  <tbody>\n",
       "    <tr>\n",
       "      <th>0</th>\n",
       "      <td>chrom0</td>\n",
       "      <td>18</td>\n",
       "      <td>G</td>\n",
       "      <td>[Call(sample=reference, CallData(GT=0, GQ=4414...</td>\n",
       "    </tr>\n",
       "    <tr>\n",
       "      <th>1</th>\n",
       "      <td>chrom0</td>\n",
       "      <td>43</td>\n",
       "      <td>A</td>\n",
       "      <td>[Call(sample=reference, CallData(GT=0, GQ=4414...</td>\n",
       "    </tr>\n",
       "    <tr>\n",
       "      <th>2</th>\n",
       "      <td>chrom0</td>\n",
       "      <td>49</td>\n",
       "      <td>C</td>\n",
       "      <td>[Call(sample=reference, CallData(GT=0, GQ=4414...</td>\n",
       "    </tr>\n",
       "    <tr>\n",
       "      <th>3</th>\n",
       "      <td>chrom0</td>\n",
       "      <td>94</td>\n",
       "      <td>A</td>\n",
       "      <td>[Call(sample=reference, CallData(GT=0, GQ=4414...</td>\n",
       "    </tr>\n",
       "    <tr>\n",
       "      <th>4</th>\n",
       "      <td>chrom0</td>\n",
       "      <td>123</td>\n",
       "      <td>C</td>\n",
       "      <td>[Call(sample=reference, CallData(GT=0, GQ=4414...</td>\n",
       "    </tr>\n",
       "  </tbody>\n",
       "</table>\n",
       "</div>"
      ],
      "text/plain": [
       "    CHROM  POS REF                                            samples\n",
       "0  chrom0   18   G  [Call(sample=reference, CallData(GT=0, GQ=4414...\n",
       "1  chrom0   43   A  [Call(sample=reference, CallData(GT=0, GQ=4414...\n",
       "2  chrom0   49   C  [Call(sample=reference, CallData(GT=0, GQ=4414...\n",
       "3  chrom0   94   A  [Call(sample=reference, CallData(GT=0, GQ=4414...\n",
       "4  chrom0  123   C  [Call(sample=reference, CallData(GT=0, GQ=4414..."
      ]
     },
     "execution_count": 4,
     "metadata": {},
     "output_type": "execute_result"
    }
   ],
   "source": [
    "import vcf\n",
    "import pandas as pd\n",
    "import time\n",
    "\n",
    "reader = vcf.Reader(filename=str(simulated_variants_file))\n",
    "simulated_df = pd.DataFrame([vars(r) for r in reader])\n",
    "simulated_df = simulated_df[['CHROM', 'POS', 'REF', 'samples']]\n",
    "simulated_df.head(5)"
   ]
  },
  {
   "cell_type": "markdown",
   "id": "f1c95d8a-de3e-4bb4-b13f-0f88e6466925",
   "metadata": {
    "papermill": {
     "duration": 0.006014,
     "end_time": "2022-10-19T01:56:49.246276",
     "exception": false,
     "start_time": "2022-10-19T01:56:49.240262",
     "status": "completed"
    },
    "tags": []
   },
   "source": [
    "## 2.1. Construct sample:variant identifiers"
   ]
  },
  {
   "cell_type": "code",
   "execution_count": 5,
   "id": "bac0a5e7-a844-47bb-9204-3b4711d0c329",
   "metadata": {
    "execution": {
     "iopub.execute_input": "2022-10-19T01:56:49.256321Z",
     "iopub.status.busy": "2022-10-19T01:56:49.255789Z",
     "iopub.status.idle": "2022-10-19T01:56:49.496075Z",
     "shell.execute_reply": "2022-10-19T01:56:49.495376Z"
    },
    "papermill": {
     "duration": 0.248981,
     "end_time": "2022-10-19T01:56:49.499642",
     "exception": false,
     "start_time": "2022-10-19T01:56:49.250661",
     "status": "completed"
    },
    "tags": []
   },
   "outputs": [
    {
     "name": "stdout",
     "output_type": "stream",
     "text": [
      "There are 10629 expected sample/variant pairs like: ['SH12-014:chrom0:18:G:C', 'SH08-001:chrom0:18:G:C', 'SH09-29:chrom0:43:A:T']\n",
      "Took 0.0 minutes\n"
     ]
    }
   ],
   "source": [
    "before = time.time()\n",
    "\n",
    "# Explode dataframe so that we have one row per sample\n",
    "simulated_df_exploded = simulated_df.explode('samples')\n",
    "simulated_df_exploded['SAMPLE'] = simulated_df_exploded['samples'].apply(lambda x: x.sample)\n",
    "\n",
    "# Extrat ALT for each sample\n",
    "simulated_df_exploded['ALT'] = simulated_df_exploded['samples'].apply(lambda x: x.gt_bases)\n",
    "\n",
    "# Only keep mutations/those where REF and ALT are different\n",
    "simulated_df_exploded = simulated_df_exploded[simulated_df_exploded['REF'] != simulated_df_exploded['ALT']]\n",
    "\n",
    "# Create SPDI-like identifier with Sample name for comparison (SAMPLE:CHROM:POS:REF:ALT)\n",
    "simulated_df_exploded['ID'] = simulated_df_exploded.apply(\n",
    "    lambda x: f\"{x['SAMPLE']}:{x['CHROM']}:{x['POS']}:{x['REF']}:{x['ALT']}\", axis='columns')\n",
    "\n",
    "simulated_variants = simulated_df_exploded['ID'].reset_index(drop=True)\n",
    "expected_sample_variants = set(simulated_variants)\n",
    "\n",
    "after = time.time()\n",
    "\n",
    "print(f'There are {len(expected_sample_variants)} expected sample/variant pairs like: '\n",
    "      f'{list(simulated_variants[0:3])}')\n",
    "print(f'Took {(after - before)/60:0.1f} minutes')"
   ]
  },
  {
   "cell_type": "code",
   "execution_count": 6,
   "id": "e3f05c50-a98a-431f-b8c8-a5083738255c",
   "metadata": {
    "execution": {
     "iopub.execute_input": "2022-10-19T01:56:49.518117Z",
     "iopub.status.busy": "2022-10-19T01:56:49.517702Z",
     "iopub.status.idle": "2022-10-19T01:56:49.534932Z",
     "shell.execute_reply": "2022-10-19T01:56:49.534065Z"
    },
    "papermill": {
     "duration": 0.027116,
     "end_time": "2022-10-19T01:56:49.537281",
     "exception": false,
     "start_time": "2022-10-19T01:56:49.510165",
     "status": "completed"
    },
    "tags": []
   },
   "outputs": [
    {
     "data": {
      "text/html": [
       "<div>\n",
       "<style scoped>\n",
       "    .dataframe tbody tr th:only-of-type {\n",
       "        vertical-align: middle;\n",
       "    }\n",
       "\n",
       "    .dataframe tbody tr th {\n",
       "        vertical-align: top;\n",
       "    }\n",
       "\n",
       "    .dataframe thead th {\n",
       "        text-align: right;\n",
       "    }\n",
       "</style>\n",
       "<table border=\"1\" class=\"dataframe\">\n",
       "  <thead>\n",
       "    <tr style=\"text-align: right;\">\n",
       "      <th></th>\n",
       "      <th>CHROM</th>\n",
       "      <th>POS</th>\n",
       "      <th>REF</th>\n",
       "      <th>samples</th>\n",
       "      <th>SAMPLE</th>\n",
       "      <th>ALT</th>\n",
       "      <th>ID</th>\n",
       "    </tr>\n",
       "  </thead>\n",
       "  <tbody>\n",
       "    <tr>\n",
       "      <th>0</th>\n",
       "      <td>chrom0</td>\n",
       "      <td>18</td>\n",
       "      <td>G</td>\n",
       "      <td>Call(sample=SH12-014, CallData(GT=1, GQ=441453))</td>\n",
       "      <td>SH12-014</td>\n",
       "      <td>C</td>\n",
       "      <td>SH12-014:chrom0:18:G:C</td>\n",
       "    </tr>\n",
       "    <tr>\n",
       "      <th>0</th>\n",
       "      <td>chrom0</td>\n",
       "      <td>18</td>\n",
       "      <td>G</td>\n",
       "      <td>Call(sample=SH08-001, CallData(GT=1, GQ=441453))</td>\n",
       "      <td>SH08-001</td>\n",
       "      <td>C</td>\n",
       "      <td>SH08-001:chrom0:18:G:C</td>\n",
       "    </tr>\n",
       "    <tr>\n",
       "      <th>1</th>\n",
       "      <td>chrom0</td>\n",
       "      <td>43</td>\n",
       "      <td>A</td>\n",
       "      <td>Call(sample=SH09-29, CallData(GT=1, GQ=441453))</td>\n",
       "      <td>SH09-29</td>\n",
       "      <td>T</td>\n",
       "      <td>SH09-29:chrom0:43:A:T</td>\n",
       "    </tr>\n",
       "    <tr>\n",
       "      <th>1</th>\n",
       "      <td>chrom0</td>\n",
       "      <td>43</td>\n",
       "      <td>A</td>\n",
       "      <td>Call(sample=SH10-30, CallData(GT=1, GQ=441453))</td>\n",
       "      <td>SH10-30</td>\n",
       "      <td>T</td>\n",
       "      <td>SH10-30:chrom0:43:A:T</td>\n",
       "    </tr>\n",
       "    <tr>\n",
       "      <th>1</th>\n",
       "      <td>chrom0</td>\n",
       "      <td>43</td>\n",
       "      <td>A</td>\n",
       "      <td>Call(sample=SH14-001, CallData(GT=1, GQ=441453))</td>\n",
       "      <td>SH14-001</td>\n",
       "      <td>T</td>\n",
       "      <td>SH14-001:chrom0:43:A:T</td>\n",
       "    </tr>\n",
       "    <tr>\n",
       "      <th>...</th>\n",
       "      <td>...</td>\n",
       "      <td>...</td>\n",
       "      <td>...</td>\n",
       "      <td>...</td>\n",
       "      <td>...</td>\n",
       "      <td>...</td>\n",
       "      <td>...</td>\n",
       "    </tr>\n",
       "    <tr>\n",
       "      <th>884</th>\n",
       "      <td>chrom1</td>\n",
       "      <td>8797</td>\n",
       "      <td>C</td>\n",
       "      <td>Call(sample=SH12-001, CallData(GT=1, GQ=441453))</td>\n",
       "      <td>SH12-001</td>\n",
       "      <td>A</td>\n",
       "      <td>SH12-001:chrom1:8797:C:A</td>\n",
       "    </tr>\n",
       "    <tr>\n",
       "      <th>884</th>\n",
       "      <td>chrom1</td>\n",
       "      <td>8797</td>\n",
       "      <td>C</td>\n",
       "      <td>Call(sample=SH12-009, CallData(GT=1, GQ=441453))</td>\n",
       "      <td>SH12-009</td>\n",
       "      <td>A</td>\n",
       "      <td>SH12-009:chrom1:8797:C:A</td>\n",
       "    </tr>\n",
       "    <tr>\n",
       "      <th>884</th>\n",
       "      <td>chrom1</td>\n",
       "      <td>8797</td>\n",
       "      <td>C</td>\n",
       "      <td>Call(sample=SH12-010, CallData(GT=1, GQ=441453))</td>\n",
       "      <td>SH12-010</td>\n",
       "      <td>A</td>\n",
       "      <td>SH12-010:chrom1:8797:C:A</td>\n",
       "    </tr>\n",
       "    <tr>\n",
       "      <th>884</th>\n",
       "      <td>chrom1</td>\n",
       "      <td>8797</td>\n",
       "      <td>C</td>\n",
       "      <td>Call(sample=SH12-002, CallData(GT=1, GQ=441453))</td>\n",
       "      <td>SH12-002</td>\n",
       "      <td>A</td>\n",
       "      <td>SH12-002:chrom1:8797:C:A</td>\n",
       "    </tr>\n",
       "    <tr>\n",
       "      <th>884</th>\n",
       "      <td>chrom1</td>\n",
       "      <td>8797</td>\n",
       "      <td>C</td>\n",
       "      <td>Call(sample=SH12-007, CallData(GT=1, GQ=441453))</td>\n",
       "      <td>SH12-007</td>\n",
       "      <td>A</td>\n",
       "      <td>SH12-007:chrom1:8797:C:A</td>\n",
       "    </tr>\n",
       "  </tbody>\n",
       "</table>\n",
       "<p>10629 rows × 7 columns</p>\n",
       "</div>"
      ],
      "text/plain": [
       "      CHROM   POS REF                                           samples  \\\n",
       "0    chrom0    18   G  Call(sample=SH12-014, CallData(GT=1, GQ=441453))   \n",
       "0    chrom0    18   G  Call(sample=SH08-001, CallData(GT=1, GQ=441453))   \n",
       "1    chrom0    43   A   Call(sample=SH09-29, CallData(GT=1, GQ=441453))   \n",
       "1    chrom0    43   A   Call(sample=SH10-30, CallData(GT=1, GQ=441453))   \n",
       "1    chrom0    43   A  Call(sample=SH14-001, CallData(GT=1, GQ=441453))   \n",
       "..      ...   ...  ..                                               ...   \n",
       "884  chrom1  8797   C  Call(sample=SH12-001, CallData(GT=1, GQ=441453))   \n",
       "884  chrom1  8797   C  Call(sample=SH12-009, CallData(GT=1, GQ=441453))   \n",
       "884  chrom1  8797   C  Call(sample=SH12-010, CallData(GT=1, GQ=441453))   \n",
       "884  chrom1  8797   C  Call(sample=SH12-002, CallData(GT=1, GQ=441453))   \n",
       "884  chrom1  8797   C  Call(sample=SH12-007, CallData(GT=1, GQ=441453))   \n",
       "\n",
       "       SAMPLE ALT                        ID  \n",
       "0    SH12-014   C    SH12-014:chrom0:18:G:C  \n",
       "0    SH08-001   C    SH08-001:chrom0:18:G:C  \n",
       "1     SH09-29   T     SH09-29:chrom0:43:A:T  \n",
       "1     SH10-30   T     SH10-30:chrom0:43:A:T  \n",
       "1    SH14-001   T    SH14-001:chrom0:43:A:T  \n",
       "..        ...  ..                       ...  \n",
       "884  SH12-001   A  SH12-001:chrom1:8797:C:A  \n",
       "884  SH12-009   A  SH12-009:chrom1:8797:C:A  \n",
       "884  SH12-010   A  SH12-010:chrom1:8797:C:A  \n",
       "884  SH12-002   A  SH12-002:chrom1:8797:C:A  \n",
       "884  SH12-007   A  SH12-007:chrom1:8797:C:A  \n",
       "\n",
       "[10629 rows x 7 columns]"
      ]
     },
     "execution_count": 6,
     "metadata": {},
     "output_type": "execute_result"
    }
   ],
   "source": [
    "simulated_df_exploded"
   ]
  },
  {
   "cell_type": "markdown",
   "id": "85d49181-9782-48b6-bdef-dfa2b19cd6b6",
   "metadata": {
    "papermill": {
     "duration": 0.00644,
     "end_time": "2022-10-19T01:56:49.550694",
     "exception": false,
     "start_time": "2022-10-19T01:56:49.544254",
     "status": "completed"
    },
    "tags": []
   },
   "source": [
    "## 1.2. Load reference genome for use with positive/negative calculations"
   ]
  },
  {
   "cell_type": "code",
   "execution_count": 7,
   "id": "bfaacd7f-746e-452a-9b4b-cb4526424b13",
   "metadata": {
    "execution": {
     "iopub.execute_input": "2022-10-19T01:56:49.561883Z",
     "iopub.status.busy": "2022-10-19T01:56:49.561230Z",
     "iopub.status.idle": "2022-10-19T01:56:49.637241Z",
     "shell.execute_reply": "2022-10-19T01:56:49.636599Z"
    },
    "papermill": {
     "duration": 0.085628,
     "end_time": "2022-10-19T01:56:49.640819",
     "exception": false,
     "start_time": "2022-10-19T01:56:49.555191",
     "status": "completed"
    },
    "tags": []
   },
   "outputs": [
    {
     "name": "stdout",
     "output_type": "stream",
     "text": [
      "Reference length: 10834\n",
      "Number samples: 59\n"
     ]
    }
   ],
   "source": [
    "import gzip\n",
    "from Bio import SeqIO\n",
    "\n",
    "with gzip.open(reference_file, mode='rt') as f:\n",
    "    sequences = list(SeqIO.parse(f, 'fasta'))\n",
    "    reference_length = len(sequences[0])\n",
    "    \n",
    "sample_names = set(simulated_df_exploded.groupby('SAMPLE').agg({'SAMPLE': 'count'}).index)\n",
    "sample_names = sample_names - {'reference'}\n",
    "number_samples = len(sample_names)\n",
    "\n",
    "print(f'Reference length: {reference_length}')\n",
    "print(f'Number samples: {number_samples}')"
   ]
  },
  {
   "cell_type": "markdown",
   "id": "31d39af6-8bcb-416b-ba4c-38c06fc6085e",
   "metadata": {
    "papermill": {
     "duration": 0.006494,
     "end_time": "2022-10-19T01:56:49.657598",
     "exception": false,
     "start_time": "2022-10-19T01:56:49.651104",
     "status": "completed"
    },
    "tags": []
   },
   "source": [
    "# 3. Load detected variants\n",
    "\n",
    "## 3.1. Load from reads index"
   ]
  },
  {
   "cell_type": "code",
   "execution_count": 8,
   "id": "89978058-5e1b-4c20-ba21-fc23daa74dcb",
   "metadata": {
    "execution": {
     "iopub.execute_input": "2022-10-19T01:56:49.694699Z",
     "iopub.status.busy": "2022-10-19T01:56:49.693887Z",
     "iopub.status.idle": "2022-10-19T01:56:54.231841Z",
     "shell.execute_reply": "2022-10-19T01:56:54.231002Z"
    },
    "papermill": {
     "duration": 4.551794,
     "end_time": "2022-10-19T01:56:54.235661",
     "exception": false,
     "start_time": "2022-10-19T01:56:49.683867",
     "status": "completed"
    },
    "tags": []
   },
   "outputs": [
    {
     "name": "stdout",
     "output_type": "stream",
     "text": [
      "There are 10071 actual sample/variant pairs (reads)\n",
      "Took 0.0 minutes\n",
      "Actual variants look like: ['SH12-010:chrom0:4466:T:G', 'SH14-024:chrom0:4466:T:G', 'SH10-015:chrom1:4677:T:A', 'SH14-001:chrom0:3601:G:C', 'SH14-014:chrom0:10389:C:G']\n"
     ]
    }
   ],
   "source": [
    "from typing import Set\n",
    "import genomics_data_index.api as gdi\n",
    "\n",
    "def get_sample_variant_idenifiers(index_dir: Path) -> Set[str]:\n",
    "    db = gdi.GenomicsDataIndex.connect(index_dir)\n",
    "    q = db.samples_query()\n",
    "\n",
    "    actual_sample_variants = set()\n",
    "    for sample in q.tolist():\n",
    "        sample_features = q.isa(sample).features_summary().reset_index()\n",
    "        sample_features_set = set(sample_features['Mutation'].apply(lambda x: f\"{sample}:{x}\"))\n",
    "        actual_sample_variants.update(sample_features_set)\n",
    "    return actual_sample_variants\n",
    "\n",
    "before = time.time()\n",
    "actual_sample_variants_reads = get_sample_variant_idenifiers(index_reads_path)\n",
    "after = time.time()\n",
    "\n",
    "print(f'There are {len(actual_sample_variants_reads)} actual sample/variant pairs (reads)')\n",
    "print(f'Took {(after - before)/60:0.1f} minutes')\n",
    "print(f'Actual variants look like: {list(actual_sample_variants_reads)[0:5]}')"
   ]
  },
  {
   "cell_type": "markdown",
   "id": "4eb6bf76-40f0-449f-8cac-72679f484e8c",
   "metadata": {
    "papermill": {
     "duration": 0.006619,
     "end_time": "2022-10-19T01:56:54.258911",
     "exception": false,
     "start_time": "2022-10-19T01:56:54.252292",
     "status": "completed"
    },
    "tags": []
   },
   "source": [
    "## 2.2. Load from assemblies index"
   ]
  },
  {
   "cell_type": "code",
   "execution_count": 9,
   "id": "b91c4675-1b29-4a1c-b976-ba88a80d2c78",
   "metadata": {
    "execution": {
     "iopub.execute_input": "2022-10-19T01:56:54.271812Z",
     "iopub.status.busy": "2022-10-19T01:56:54.270728Z",
     "iopub.status.idle": "2022-10-19T01:56:56.443351Z",
     "shell.execute_reply": "2022-10-19T01:56:56.442688Z"
    },
    "papermill": {
     "duration": 2.183416,
     "end_time": "2022-10-19T01:56:56.447232",
     "exception": false,
     "start_time": "2022-10-19T01:56:54.263816",
     "status": "completed"
    },
    "tags": []
   },
   "outputs": [
    {
     "name": "stderr",
     "output_type": "stream",
     "text": [
      "Attempting to set global database_path_translator=<genomics_data_index.storage.model.db.DatabasePathTranslator.DatabasePathTranslator object at 0x7f08203d3070> but it is already set\n"
     ]
    },
    {
     "name": "stdout",
     "output_type": "stream",
     "text": [
      "There are 10606 actual sample/variant pairs (assemblies)\n",
      "Took 0.0 minutes\n"
     ]
    }
   ],
   "source": [
    "before = time.time()\n",
    "actual_sample_variants_assemblies = get_sample_variant_idenifiers(index_assemblies_path)\n",
    "after = time.time()\n",
    "\n",
    "print(f'There are {len(actual_sample_variants_assemblies)} actual sample/variant pairs (assemblies)')\n",
    "print(f'Took {(after - before)/60:0.1f} minutes')"
   ]
  },
  {
   "cell_type": "markdown",
   "id": "d44443ae-96df-4372-9eca-06c7a3f5c347",
   "metadata": {
    "papermill": {
     "duration": 0.006465,
     "end_time": "2022-10-19T01:56:56.470297",
     "exception": false,
     "start_time": "2022-10-19T01:56:56.463832",
     "status": "completed"
    },
    "tags": []
   },
   "source": [
    "## 2.3. Load from assemblies reads index"
   ]
  },
  {
   "cell_type": "code",
   "execution_count": 10,
   "id": "434390d4-3b8a-4391-966b-00ff61b38724",
   "metadata": {
    "execution": {
     "iopub.execute_input": "2022-10-19T01:56:56.481861Z",
     "iopub.status.busy": "2022-10-19T01:56:56.481284Z",
     "iopub.status.idle": "2022-10-19T01:56:58.722328Z",
     "shell.execute_reply": "2022-10-19T01:56:58.721663Z"
    },
    "papermill": {
     "duration": 2.250858,
     "end_time": "2022-10-19T01:56:58.725795",
     "exception": false,
     "start_time": "2022-10-19T01:56:56.474937",
     "status": "completed"
    },
    "tags": []
   },
   "outputs": [
    {
     "name": "stderr",
     "output_type": "stream",
     "text": [
      "Attempting to set global database_path_translator=<genomics_data_index.storage.model.db.DatabasePathTranslator.DatabasePathTranslator object at 0x7f07da929ac0> but it is already set\n"
     ]
    },
    {
     "name": "stdout",
     "output_type": "stream",
     "text": [
      "There are 10335 actual sample/variant pairs (assemblies reads)\n",
      "Took 0.0 minutes\n"
     ]
    }
   ],
   "source": [
    "before = time.time()\n",
    "actual_sample_variants_assemblies_reads = get_sample_variant_idenifiers(index_assemblies_reads_path)\n",
    "after = time.time()\n",
    "\n",
    "print(f'There are {len(actual_sample_variants_assemblies_reads)} actual sample/variant pairs (assemblies reads)')\n",
    "print(f'Took {(after - before)/60:0.1f} minutes')"
   ]
  },
  {
   "cell_type": "markdown",
   "id": "52efd18a-5198-45cc-a092-4dfaba600ca1",
   "metadata": {
    "papermill": {
     "duration": 0.007051,
     "end_time": "2022-10-19T01:56:58.743612",
     "exception": false,
     "start_time": "2022-10-19T01:56:58.736561",
     "status": "completed"
    },
    "tags": []
   },
   "source": [
    "# 3. Compare expected/actual variants\n",
    "\n",
    "## 3.1. Compare with reads index"
   ]
  },
  {
   "cell_type": "code",
   "execution_count": 11,
   "id": "3897d419-cc74-49d0-92d6-371f365f3ff1",
   "metadata": {
    "execution": {
     "iopub.execute_input": "2022-10-19T01:56:58.755075Z",
     "iopub.status.busy": "2022-10-19T01:56:58.754754Z",
     "iopub.status.idle": "2022-10-19T01:56:58.781593Z",
     "shell.execute_reply": "2022-10-19T01:56:58.780995Z"
    },
    "papermill": {
     "duration": 0.038074,
     "end_time": "2022-10-19T01:56:58.786739",
     "exception": false,
     "start_time": "2022-10-19T01:56:58.748665",
     "status": "completed"
    },
    "tags": []
   },
   "outputs": [
    {
     "name": "stdout",
     "output_type": "stream",
     "text": [
      "Sensitivity: 0.9276\n",
      "Specificity: ~1 (not calculated)\n",
      "Precision: 0.9789\n",
      "F1 Score: 0.9526\n"
     ]
    },
    {
     "data": {
      "text/html": [
       "<div>\n",
       "<style scoped>\n",
       "    .dataframe tbody tr th:only-of-type {\n",
       "        vertical-align: middle;\n",
       "    }\n",
       "\n",
       "    .dataframe tbody tr th {\n",
       "        vertical-align: top;\n",
       "    }\n",
       "\n",
       "    .dataframe thead th {\n",
       "        text-align: right;\n",
       "    }\n",
       "</style>\n",
       "<table border=\"1\" class=\"dataframe\">\n",
       "  <thead>\n",
       "    <tr style=\"text-align: right;\">\n",
       "      <th></th>\n",
       "      <th>Name</th>\n",
       "      <th>True Positives</th>\n",
       "      <th>True Negatives</th>\n",
       "      <th>False Positives</th>\n",
       "      <th>False Negatives</th>\n",
       "      <th>Sensitivity</th>\n",
       "      <th>Specificity</th>\n",
       "      <th>Precision</th>\n",
       "      <th>F1 Score</th>\n",
       "    </tr>\n",
       "  </thead>\n",
       "  <tbody>\n",
       "    <tr>\n",
       "      <th>0</th>\n",
       "      <td>alpha-0.05-cov-30 reads</td>\n",
       "      <td>9859</td>\n",
       "      <td>&lt;NA&gt;</td>\n",
       "      <td>212</td>\n",
       "      <td>770</td>\n",
       "      <td>0.927557</td>\n",
       "      <td>~1 (not calculated)</td>\n",
       "      <td>0.978949</td>\n",
       "      <td>0.95256</td>\n",
       "    </tr>\n",
       "  </tbody>\n",
       "</table>\n",
       "</div>"
      ],
      "text/plain": [
       "                      Name  True Positives True Negatives  False Positives  \\\n",
       "0  alpha-0.05-cov-30 reads            9859           <NA>              212   \n",
       "\n",
       "   False Negatives  Sensitivity          Specificity  Precision  F1 Score  \n",
       "0              770     0.927557  ~1 (not calculated)   0.978949   0.95256  "
      ]
     },
     "execution_count": 11,
     "metadata": {},
     "output_type": "execute_result"
    }
   ],
   "source": [
    "def compare_expected_actual(name: str, actual_sample_variants: Set[str]) -> pd.DataFrame:\n",
    "    number_expected = len(expected_sample_variants)\n",
    "    number_actual = len(actual_sample_variants)\n",
    "\n",
    "    true_positives = actual_sample_variants & expected_sample_variants\n",
    "    false_negatives = expected_sample_variants - actual_sample_variants\n",
    "    false_positives = actual_sample_variants - expected_sample_variants\n",
    "    # I cannot get true negatives since I would need to know the total number of negatives (i.e., all possible \n",
    "    #  variants with respect to the reference genome that were not simulated). This would be a finite, but \n",
    "    #  very very large number (and I haven't worked out how to calculate it).\n",
    "    # For example, one negative is Sample:1:A:T, another negative is Sample:1:AG:TT, and so on for the entire \n",
    "    # length of the genome.\n",
    "    # true_negatives = set()\n",
    "\n",
    "    sensitivity = len(true_positives) / (len(true_positives) + len(false_negatives))\n",
    "    precision = len(true_positives) / (len(true_positives) + len(false_positives))\n",
    "    f1_score = 2 * len(true_positives) / (2 * len(true_positives) + len(false_positives) + len(false_negatives))\n",
    "\n",
    "    # Since true_negatives are a very large number, then for all intents and purposes\n",
    "    # specificity will be very very close to 1. So instead of trying to calculate it\n",
    "    # I just call it ~1, but it's also not very useful because of this.\n",
    "    #specificity = len(true_negatives) / (len(true_negatives) + len(false_positives))\n",
    "    specificity = '~1 (not calculated)'\n",
    "\n",
    "    print(f'Sensitivity: {sensitivity:0.4f}')\n",
    "    print(f'Specificity: {specificity}')\n",
    "    print(f'Precision: {precision:0.4f}')\n",
    "    print(f'F1 Score: {f1_score:0.4f}')\n",
    "    \n",
    "    comparison_df = pd.DataFrame([{\n",
    "        'Name': name,\n",
    "        'True Positives': len(true_positives),\n",
    "        'True Negatives': pd.NA,\n",
    "        'False Positives': len(false_positives),\n",
    "        'False Negatives': len(false_negatives),\n",
    "        'Sensitivity': sensitivity,\n",
    "        'Specificity': specificity,\n",
    "        'Precision': precision,\n",
    "        'F1 Score': f1_score,\n",
    "    }])\n",
    "    \n",
    "    data = {\n",
    "        'tp': true_positives,\n",
    "        'fp': false_positives,\n",
    "        'fn': false_negatives\n",
    "    }\n",
    "    \n",
    "    return comparison_df, data\n",
    "    \n",
    "comparison_reads_df, data_reads = compare_expected_actual(name=f'{case_name} reads',\n",
    "                                                          actual_sample_variants=actual_sample_variants_reads)\n",
    "comparison_reads_df"
   ]
  },
  {
   "cell_type": "markdown",
   "id": "d5f3bf59-c828-40e1-9394-f0c40a73dfa6",
   "metadata": {
    "papermill": {
     "duration": 0.007334,
     "end_time": "2022-10-19T01:56:58.804910",
     "exception": false,
     "start_time": "2022-10-19T01:56:58.797576",
     "status": "completed"
    },
    "tags": []
   },
   "source": [
    "## 3.2. Compare with assemblies index"
   ]
  },
  {
   "cell_type": "code",
   "execution_count": 12,
   "id": "341de1ba-a120-471c-97f8-f85537dca10b",
   "metadata": {
    "execution": {
     "iopub.execute_input": "2022-10-19T01:56:58.817028Z",
     "iopub.status.busy": "2022-10-19T01:56:58.816494Z",
     "iopub.status.idle": "2022-10-19T01:56:58.840350Z",
     "shell.execute_reply": "2022-10-19T01:56:58.839411Z"
    },
    "papermill": {
     "duration": 0.035358,
     "end_time": "2022-10-19T01:56:58.845259",
     "exception": false,
     "start_time": "2022-10-19T01:56:58.809901",
     "status": "completed"
    },
    "tags": []
   },
   "outputs": [
    {
     "name": "stdout",
     "output_type": "stream",
     "text": [
      "Sensitivity: 0.9978\n",
      "Specificity: ~1 (not calculated)\n",
      "Precision: 1.0000\n",
      "F1 Score: 0.9989\n"
     ]
    },
    {
     "data": {
      "text/html": [
       "<div>\n",
       "<style scoped>\n",
       "    .dataframe tbody tr th:only-of-type {\n",
       "        vertical-align: middle;\n",
       "    }\n",
       "\n",
       "    .dataframe tbody tr th {\n",
       "        vertical-align: top;\n",
       "    }\n",
       "\n",
       "    .dataframe thead th {\n",
       "        text-align: right;\n",
       "    }\n",
       "</style>\n",
       "<table border=\"1\" class=\"dataframe\">\n",
       "  <thead>\n",
       "    <tr style=\"text-align: right;\">\n",
       "      <th></th>\n",
       "      <th>Name</th>\n",
       "      <th>True Positives</th>\n",
       "      <th>True Negatives</th>\n",
       "      <th>False Positives</th>\n",
       "      <th>False Negatives</th>\n",
       "      <th>Sensitivity</th>\n",
       "      <th>Specificity</th>\n",
       "      <th>Precision</th>\n",
       "      <th>F1 Score</th>\n",
       "    </tr>\n",
       "  </thead>\n",
       "  <tbody>\n",
       "    <tr>\n",
       "      <th>0</th>\n",
       "      <td>alpha-0.05-cov-30 assemblies</td>\n",
       "      <td>10606</td>\n",
       "      <td>&lt;NA&gt;</td>\n",
       "      <td>0</td>\n",
       "      <td>23</td>\n",
       "      <td>0.997836</td>\n",
       "      <td>~1 (not calculated)</td>\n",
       "      <td>1.0</td>\n",
       "      <td>0.998917</td>\n",
       "    </tr>\n",
       "  </tbody>\n",
       "</table>\n",
       "</div>"
      ],
      "text/plain": [
       "                           Name  True Positives True Negatives  \\\n",
       "0  alpha-0.05-cov-30 assemblies           10606           <NA>   \n",
       "\n",
       "   False Positives  False Negatives  Sensitivity          Specificity  \\\n",
       "0                0               23     0.997836  ~1 (not calculated)   \n",
       "\n",
       "   Precision  F1 Score  \n",
       "0        1.0  0.998917  "
      ]
     },
     "execution_count": 12,
     "metadata": {},
     "output_type": "execute_result"
    }
   ],
   "source": [
    "comparison_assemblies_df, data_assemblies = compare_expected_actual(name=f'{case_name} assemblies',\n",
    "                                                                    actual_sample_variants=actual_sample_variants_assemblies)\n",
    "comparison_assemblies_df"
   ]
  },
  {
   "cell_type": "markdown",
   "id": "1027e408-91e0-4323-a4f2-8e0d3c799e15",
   "metadata": {
    "papermill": {
     "duration": 0.006507,
     "end_time": "2022-10-19T01:56:58.862325",
     "exception": false,
     "start_time": "2022-10-19T01:56:58.855818",
     "status": "completed"
    },
    "tags": []
   },
   "source": [
    "## 3.3. Compare with assemblies reads index"
   ]
  },
  {
   "cell_type": "code",
   "execution_count": 13,
   "id": "a413335c-f55f-4367-abc4-6d33562e6ea8",
   "metadata": {
    "execution": {
     "iopub.execute_input": "2022-10-19T01:56:58.874133Z",
     "iopub.status.busy": "2022-10-19T01:56:58.873595Z",
     "iopub.status.idle": "2022-10-19T01:56:58.897275Z",
     "shell.execute_reply": "2022-10-19T01:56:58.896357Z"
    },
    "papermill": {
     "duration": 0.034547,
     "end_time": "2022-10-19T01:56:58.902218",
     "exception": false,
     "start_time": "2022-10-19T01:56:58.867671",
     "status": "completed"
    },
    "tags": []
   },
   "outputs": [
    {
     "name": "stdout",
     "output_type": "stream",
     "text": [
      "Sensitivity: 0.9672\n",
      "Specificity: ~1 (not calculated)\n",
      "Precision: 0.9947\n",
      "F1 Score: 0.9807\n"
     ]
    },
    {
     "data": {
      "text/html": [
       "<div>\n",
       "<style scoped>\n",
       "    .dataframe tbody tr th:only-of-type {\n",
       "        vertical-align: middle;\n",
       "    }\n",
       "\n",
       "    .dataframe tbody tr th {\n",
       "        vertical-align: top;\n",
       "    }\n",
       "\n",
       "    .dataframe thead th {\n",
       "        text-align: right;\n",
       "    }\n",
       "</style>\n",
       "<table border=\"1\" class=\"dataframe\">\n",
       "  <thead>\n",
       "    <tr style=\"text-align: right;\">\n",
       "      <th></th>\n",
       "      <th>Name</th>\n",
       "      <th>True Positives</th>\n",
       "      <th>True Negatives</th>\n",
       "      <th>False Positives</th>\n",
       "      <th>False Negatives</th>\n",
       "      <th>Sensitivity</th>\n",
       "      <th>Specificity</th>\n",
       "      <th>Precision</th>\n",
       "      <th>F1 Score</th>\n",
       "    </tr>\n",
       "  </thead>\n",
       "  <tbody>\n",
       "    <tr>\n",
       "      <th>0</th>\n",
       "      <td>alpha-0.05-cov-30 assemblies reads</td>\n",
       "      <td>10280</td>\n",
       "      <td>&lt;NA&gt;</td>\n",
       "      <td>55</td>\n",
       "      <td>349</td>\n",
       "      <td>0.967165</td>\n",
       "      <td>~1 (not calculated)</td>\n",
       "      <td>0.994678</td>\n",
       "      <td>0.980729</td>\n",
       "    </tr>\n",
       "  </tbody>\n",
       "</table>\n",
       "</div>"
      ],
      "text/plain": [
       "                                 Name  True Positives True Negatives  \\\n",
       "0  alpha-0.05-cov-30 assemblies reads           10280           <NA>   \n",
       "\n",
       "   False Positives  False Negatives  Sensitivity          Specificity  \\\n",
       "0               55              349     0.967165  ~1 (not calculated)   \n",
       "\n",
       "   Precision  F1 Score  \n",
       "0   0.994678  0.980729  "
      ]
     },
     "execution_count": 13,
     "metadata": {},
     "output_type": "execute_result"
    }
   ],
   "source": [
    "comparison_assemblies_reads_df, data_assemblies_reads = compare_expected_actual(name=f'{case_name} assemblies reads',\n",
    "                                                                    actual_sample_variants=actual_sample_variants_assemblies_reads)\n",
    "comparison_assemblies_reads_df"
   ]
  },
  {
   "cell_type": "markdown",
   "id": "13ddcf68-f5d4-494f-8a13-e9325390b953",
   "metadata": {
    "papermill": {
     "duration": 0.006799,
     "end_time": "2022-10-19T01:56:58.918971",
     "exception": false,
     "start_time": "2022-10-19T01:56:58.912172",
     "status": "completed"
    },
    "tags": []
   },
   "source": [
    "## 3.3. Combine results"
   ]
  },
  {
   "cell_type": "code",
   "execution_count": 14,
   "id": "17df418e-5244-4000-b9f9-2f35f8ce998f",
   "metadata": {
    "execution": {
     "iopub.execute_input": "2022-10-19T01:56:58.931332Z",
     "iopub.status.busy": "2022-10-19T01:56:58.930793Z",
     "iopub.status.idle": "2022-10-19T01:56:58.954046Z",
     "shell.execute_reply": "2022-10-19T01:56:58.953021Z"
    },
    "papermill": {
     "duration": 0.032927,
     "end_time": "2022-10-19T01:56:58.957419",
     "exception": false,
     "start_time": "2022-10-19T01:56:58.924492",
     "status": "completed"
    },
    "tags": []
   },
   "outputs": [
    {
     "data": {
      "text/html": [
       "<div>\n",
       "<style scoped>\n",
       "    .dataframe tbody tr th:only-of-type {\n",
       "        vertical-align: middle;\n",
       "    }\n",
       "\n",
       "    .dataframe tbody tr th {\n",
       "        vertical-align: top;\n",
       "    }\n",
       "\n",
       "    .dataframe thead th {\n",
       "        text-align: right;\n",
       "    }\n",
       "</style>\n",
       "<table border=\"1\" class=\"dataframe\">\n",
       "  <thead>\n",
       "    <tr style=\"text-align: right;\">\n",
       "      <th></th>\n",
       "      <th>Name</th>\n",
       "      <th>True Positives</th>\n",
       "      <th>True Negatives</th>\n",
       "      <th>False Positives</th>\n",
       "      <th>False Negatives</th>\n",
       "      <th>Sensitivity</th>\n",
       "      <th>Specificity</th>\n",
       "      <th>Precision</th>\n",
       "      <th>F1 Score</th>\n",
       "    </tr>\n",
       "  </thead>\n",
       "  <tbody>\n",
       "    <tr>\n",
       "      <th>0</th>\n",
       "      <td>alpha-0.05-cov-30 reads</td>\n",
       "      <td>9859</td>\n",
       "      <td>&lt;NA&gt;</td>\n",
       "      <td>212</td>\n",
       "      <td>770</td>\n",
       "      <td>0.927557</td>\n",
       "      <td>~1 (not calculated)</td>\n",
       "      <td>0.978949</td>\n",
       "      <td>0.952560</td>\n",
       "    </tr>\n",
       "    <tr>\n",
       "      <th>0</th>\n",
       "      <td>alpha-0.05-cov-30 assemblies</td>\n",
       "      <td>10606</td>\n",
       "      <td>&lt;NA&gt;</td>\n",
       "      <td>0</td>\n",
       "      <td>23</td>\n",
       "      <td>0.997836</td>\n",
       "      <td>~1 (not calculated)</td>\n",
       "      <td>1.000000</td>\n",
       "      <td>0.998917</td>\n",
       "    </tr>\n",
       "    <tr>\n",
       "      <th>0</th>\n",
       "      <td>alpha-0.05-cov-30 assemblies reads</td>\n",
       "      <td>10280</td>\n",
       "      <td>&lt;NA&gt;</td>\n",
       "      <td>55</td>\n",
       "      <td>349</td>\n",
       "      <td>0.967165</td>\n",
       "      <td>~1 (not calculated)</td>\n",
       "      <td>0.994678</td>\n",
       "      <td>0.980729</td>\n",
       "    </tr>\n",
       "  </tbody>\n",
       "</table>\n",
       "</div>"
      ],
      "text/plain": [
       "                                 Name  True Positives True Negatives  \\\n",
       "0             alpha-0.05-cov-30 reads            9859           <NA>   \n",
       "0        alpha-0.05-cov-30 assemblies           10606           <NA>   \n",
       "0  alpha-0.05-cov-30 assemblies reads           10280           <NA>   \n",
       "\n",
       "   False Positives  False Negatives  Sensitivity          Specificity  \\\n",
       "0              212              770     0.927557  ~1 (not calculated)   \n",
       "0                0               23     0.997836  ~1 (not calculated)   \n",
       "0               55              349     0.967165  ~1 (not calculated)   \n",
       "\n",
       "   Precision  F1 Score  \n",
       "0   0.978949  0.952560  \n",
       "0   1.000000  0.998917  \n",
       "0   0.994678  0.980729  "
      ]
     },
     "execution_count": 14,
     "metadata": {},
     "output_type": "execute_result"
    }
   ],
   "source": [
    "results_df = pd.concat([comparison_reads_df, comparison_assemblies_df, comparison_assemblies_reads_df])\n",
    "results_df"
   ]
  },
  {
   "cell_type": "code",
   "execution_count": 15,
   "id": "20211251-04f9-4a94-ae10-473c6d52aaf2",
   "metadata": {
    "execution": {
     "iopub.execute_input": "2022-10-19T01:56:58.979971Z",
     "iopub.status.busy": "2022-10-19T01:56:58.979268Z",
     "iopub.status.idle": "2022-10-19T01:56:58.990710Z",
     "shell.execute_reply": "2022-10-19T01:56:58.989211Z"
    },
    "papermill": {
     "duration": 0.024703,
     "end_time": "2022-10-19T01:56:58.994382",
     "exception": false,
     "start_time": "2022-10-19T01:56:58.969679",
     "status": "completed"
    },
    "tags": []
   },
   "outputs": [],
   "source": [
    "results_df_output = simulation_dir_path / 'variants-comparison.tsv'\n",
    "results_df.to_csv(results_df_output, sep='\\t', index=False)"
   ]
  }
 ],
 "metadata": {
  "kernelspec": {
   "display_name": "Python 3 (ipykernel)",
   "language": "python",
   "name": "python3"
  },
  "language_info": {
   "codemirror_mode": {
    "name": "ipython",
    "version": 3
   },
   "file_extension": ".py",
   "mimetype": "text/x-python",
   "name": "python",
   "nbconvert_exporter": "python",
   "pygments_lexer": "ipython3",
   "version": "3.8.13"
  },
  "papermill": {
   "default_parameters": {},
   "duration": 12.52606,
   "end_time": "2022-10-19T01:56:59.631231",
   "environment_variables": {},
   "exception": null,
   "input_path": "template-4-variants-comparison.ipynb",
   "output_path": "4-variants-comparison.simulation-alpha-0.05.ipynb",
   "parameters": {
    "iterations": 1,
    "mincov": 10,
    "read_coverage": 30,
    "simulation_dir": "simulations/alpha-0.05-cov-30",
    "sub_alpha": 0.05
   },
   "start_time": "2022-10-19T01:56:47.105171",
   "version": "2.3.4"
  }
 },
 "nbformat": 4,
 "nbformat_minor": 5
}