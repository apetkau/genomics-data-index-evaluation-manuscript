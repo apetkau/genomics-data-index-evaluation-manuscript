{
 "cells": [
  {
   "cell_type": "markdown",
   "id": "acfa5482-d626-44d6-b613-863e6911fa98",
   "metadata": {
    "papermill": {
     "duration": 0.006456,
     "end_time": "2022-09-29T18:54:07.190402",
     "exception": false,
     "start_time": "2022-09-29T18:54:07.183946",
     "status": "completed"
    },
    "tags": []
   },
   "source": [
    "# 1. Parameters"
   ]
  },
  {
   "cell_type": "code",
   "execution_count": 1,
   "id": "36126d74-a9d8-4431-ba49-767c1fc2ec49",
   "metadata": {
    "execution": {
     "iopub.execute_input": "2022-09-29T18:54:07.200605Z",
     "iopub.status.busy": "2022-09-29T18:54:07.199853Z",
     "iopub.status.idle": "2022-09-29T18:54:07.215686Z",
     "shell.execute_reply": "2022-09-29T18:54:07.214597Z"
    },
    "papermill": {
     "duration": 0.023892,
     "end_time": "2022-09-29T18:54:07.219148",
     "exception": false,
     "start_time": "2022-09-29T18:54:07.195256",
     "status": "completed"
    },
    "tags": [
     "parameters"
    ]
   },
   "outputs": [],
   "source": [
    "# Defaults\n",
    "simulation_dir = 'simulations/unset'\n",
    "ncores = 48"
   ]
  },
  {
   "cell_type": "code",
   "execution_count": 2,
   "id": "72c22ad3",
   "metadata": {
    "execution": {
     "iopub.execute_input": "2022-09-29T18:54:07.229982Z",
     "iopub.status.busy": "2022-09-29T18:54:07.229455Z",
     "iopub.status.idle": "2022-09-29T18:54:07.236452Z",
     "shell.execute_reply": "2022-09-29T18:54:07.235004Z"
    },
    "papermill": {
     "duration": 0.016184,
     "end_time": "2022-09-29T18:54:07.239805",
     "exception": false,
     "start_time": "2022-09-29T18:54:07.223621",
     "status": "completed"
    },
    "tags": [
     "injected-parameters"
    ]
   },
   "outputs": [],
   "source": [
    "# Parameters\n",
    "read_coverage = 30\n",
    "mincov = 10\n",
    "simulation_dir = \"simulations/alpha-1.0-cov-30\"\n",
    "iterations = 3\n",
    "sub_alpha = 1.0\n"
   ]
  },
  {
   "cell_type": "code",
   "execution_count": 3,
   "id": "15e911d7-0ffc-4110-aefe-71bc77e689cd",
   "metadata": {
    "execution": {
     "iopub.execute_input": "2022-09-29T18:54:07.249992Z",
     "iopub.status.busy": "2022-09-29T18:54:07.249338Z",
     "iopub.status.idle": "2022-09-29T18:54:07.257815Z",
     "shell.execute_reply": "2022-09-29T18:54:07.256593Z"
    },
    "papermill": {
     "duration": 0.016816,
     "end_time": "2022-09-29T18:54:07.261146",
     "exception": false,
     "start_time": "2022-09-29T18:54:07.244330",
     "status": "completed"
    },
    "tags": []
   },
   "outputs": [],
   "source": [
    "from pathlib import Path\n",
    "import os\n",
    "\n",
    "simulation_data_dir = Path(simulation_dir) / 'simulated_data'\n",
    "initial_reads_dir = simulation_data_dir / 'reads_initial'\n",
    "reads_dir = simulation_data_dir / 'reads'\n",
    "assemblies_dir = simulation_data_dir / 'assemblies'\n",
    "\n",
    "if not reads_dir.exists():\n",
    "    os.mkdir(reads_dir)"
   ]
  },
  {
   "cell_type": "markdown",
   "id": "rotary-regard",
   "metadata": {
    "papermill": {
     "duration": 0.004018,
     "end_time": "2022-09-29T18:54:07.269564",
     "exception": false,
     "start_time": "2022-09-29T18:54:07.265546",
     "status": "completed"
    },
    "tags": []
   },
   "source": [
    "# 2. Fix reads\n",
    "\n",
    "Fix read file names and data so they can be indexed."
   ]
  },
  {
   "cell_type": "code",
   "execution_count": 4,
   "id": "convenient-blackberry",
   "metadata": {
    "execution": {
     "iopub.execute_input": "2022-09-29T18:54:07.282431Z",
     "iopub.status.busy": "2022-09-29T18:54:07.281776Z",
     "iopub.status.idle": "2022-09-29T18:54:07.469177Z",
     "shell.execute_reply": "2022-09-29T18:54:07.467316Z"
    },
    "papermill": {
     "duration": 0.197034,
     "end_time": "2022-09-29T18:54:07.473190",
     "exception": false,
     "start_time": "2022-09-29T18:54:07.276156",
     "status": "completed"
    },
    "tags": []
   },
   "outputs": [
    {
     "name": "stdout",
     "output_type": "stream",
     "text": [
      "~/workspace/genomics-data-index-evaluation-manuscript/evaluations/simulation/simulations/alpha-1.0-cov-30/simulated_data/reads_initial ~/workspace/genomics-data-index-evaluation-manuscript/evaluations/simulation\r\n"
     ]
    },
    {
     "name": "stdout",
     "output_type": "stream",
     "text": [
      "~/workspace/genomics-data-index-evaluation-manuscript/evaluations/simulation\r\n"
     ]
    }
   ],
   "source": [
    "import os\n",
    "\n",
    "# Fix warning about locale unset\n",
    "os.environ['LANG'] = 'en_US.UTF-8'\n",
    "\n",
    "!pushd {initial_reads_dir}; prename 's/data_//' *.fq.gz; popd"
   ]
  },
  {
   "cell_type": "markdown",
   "id": "median-belle",
   "metadata": {
    "papermill": {
     "duration": 0.005287,
     "end_time": "2022-09-29T18:54:07.484208",
     "exception": false,
     "start_time": "2022-09-29T18:54:07.478921",
     "status": "completed"
    },
    "tags": []
   },
   "source": [
    "Jackalope produces reads with non-standard identifiers where pairs of reads don't have matching identifiers. For example:\n",
    "\n",
    "* Pair 1: `@SH08-001-NC_011083-3048632-R/1`\n",
    "* Pair 2: `@SH08-001-NC_011083-3048396-F/2`\n",
    "\n",
    "In order to run snippy, these paired identifiers need to match (except for the `/1` and `/2` suffix).\n",
    "\n",
    "So, I have to replace them all with something unique, but which matches in each pair of files. I do this by replacing the position (I think) with the read number (as it appears in the file). So the above identifiers become:\n",
    "\n",
    "* Pair 1: `@SH08-001-NC_011083-1/1`\n",
    "* Pair 2: `@SH08-001-NC_011083-1/2`"
   ]
  },
  {
   "cell_type": "code",
   "execution_count": 5,
   "id": "remarkable-berry",
   "metadata": {
    "execution": {
     "iopub.execute_input": "2022-09-29T18:54:07.495136Z",
     "iopub.status.busy": "2022-09-29T18:54:07.494408Z",
     "iopub.status.idle": "2022-09-29T18:54:08.517637Z",
     "shell.execute_reply": "2022-09-29T18:54:08.515473Z"
    },
    "papermill": {
     "duration": 1.033147,
     "end_time": "2022-09-29T18:54:08.521656",
     "exception": false,
     "start_time": "2022-09-29T18:54:07.488509",
     "status": "completed"
    },
    "tags": []
   },
   "outputs": [],
   "source": [
    "import glob\n",
    "import os\n",
    "\n",
    "files = [os.path.basename(f) for f in glob.glob(f'{initial_reads_dir}/*.fq.gz')]\n",
    "!parallel -j {ncores} -I% 'gzip -d --stdout {initial_reads_dir}/% | perl scripts/replace-fastq-header.pl | gzip > {reads_dir}/%' \\\n",
    "    ::: {' '.join(files)}"
   ]
  },
  {
   "cell_type": "code",
   "execution_count": 6,
   "id": "8318e7a8-1057-4e4f-aaec-fccdec42a75f",
   "metadata": {
    "execution": {
     "iopub.execute_input": "2022-09-29T18:54:08.535608Z",
     "iopub.status.busy": "2022-09-29T18:54:08.535038Z",
     "iopub.status.idle": "2022-09-29T18:54:08.553788Z",
     "shell.execute_reply": "2022-09-29T18:54:08.552642Z"
    },
    "papermill": {
     "duration": 0.029922,
     "end_time": "2022-09-29T18:54:08.557318",
     "exception": false,
     "start_time": "2022-09-29T18:54:08.527396",
     "status": "completed"
    },
    "tags": []
   },
   "outputs": [],
   "source": [
    "import shutil\n",
    "\n",
    "shutil.rmtree(initial_reads_dir)"
   ]
  },
  {
   "cell_type": "markdown",
   "id": "cf630b4f-ed63-4e14-9657-e0aaea0953ab",
   "metadata": {
    "papermill": {
     "duration": 0.004475,
     "end_time": "2022-09-29T18:54:08.567453",
     "exception": false,
     "start_time": "2022-09-29T18:54:08.562978",
     "status": "completed"
    },
    "tags": []
   },
   "source": [
    "# 3. Fix assemblies\n",
    "\n",
    "Fix assembly genome names"
   ]
  },
  {
   "cell_type": "code",
   "execution_count": 7,
   "id": "08fac610-3ab3-4afa-9873-406973041963",
   "metadata": {
    "execution": {
     "iopub.execute_input": "2022-09-29T18:54:08.576946Z",
     "iopub.status.busy": "2022-09-29T18:54:08.576254Z",
     "iopub.status.idle": "2022-09-29T18:54:08.758436Z",
     "shell.execute_reply": "2022-09-29T18:54:08.756820Z"
    },
    "papermill": {
     "duration": 0.19096,
     "end_time": "2022-09-29T18:54:08.762149",
     "exception": false,
     "start_time": "2022-09-29T18:54:08.571189",
     "status": "completed"
    },
    "tags": []
   },
   "outputs": [
    {
     "name": "stdout",
     "output_type": "stream",
     "text": [
      "~/workspace/genomics-data-index-evaluation-manuscript/evaluations/simulation/simulations/alpha-1.0-cov-30/simulated_data/assemblies ~/workspace/genomics-data-index-evaluation-manuscript/evaluations/simulation\r\n"
     ]
    },
    {
     "name": "stdout",
     "output_type": "stream",
     "text": [
      "~/workspace/genomics-data-index-evaluation-manuscript/evaluations/simulation\r\n"
     ]
    }
   ],
   "source": [
    "!pushd {assemblies_dir}; prename 's/data__//' *.fa.gz; popd"
   ]
  }
 ],
 "metadata": {
  "kernelspec": {
   "display_name": "Python 3 (ipykernel)",
   "language": "python",
   "name": "python3"
  },
  "language_info": {
   "codemirror_mode": {
    "name": "ipython",
    "version": 3
   },
   "file_extension": ".py",
   "mimetype": "text/x-python",
   "name": "python",
   "nbconvert_exporter": "python",
   "pygments_lexer": "ipython3",
   "version": "3.8.13"
  },
  "papermill": {
   "default_parameters": {},
   "duration": 3.353001,
   "end_time": "2022-09-29T18:54:08.991184",
   "environment_variables": {},
   "exception": null,
   "input_path": "template-2-fix-simulated-files.ipynb",
   "output_path": "2-fix-simulated-files.simulation-alpha-1.0.ipynb",
   "parameters": {
    "iterations": 3,
    "mincov": 10,
    "read_coverage": 30,
    "simulation_dir": "simulations/alpha-1.0-cov-30",
    "sub_alpha": 1.0
   },
   "start_time": "2022-09-29T18:54:05.638183",
   "version": "2.3.4"
  }
 },
 "nbformat": 4,
 "nbformat_minor": 5
}