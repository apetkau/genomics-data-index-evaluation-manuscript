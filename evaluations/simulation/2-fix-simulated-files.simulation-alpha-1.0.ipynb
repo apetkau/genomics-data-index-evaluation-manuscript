{
 "cells": [
  {
   "cell_type": "markdown",
   "id": "acfa5482-d626-44d6-b613-863e6911fa98",
   "metadata": {
    "papermill": {
     "duration": 0.007407,
     "end_time": "2022-10-18T22:23:29.044053",
     "exception": false,
     "start_time": "2022-10-18T22:23:29.036646",
     "status": "completed"
    },
    "tags": []
   },
   "source": [
    "# 1. Parameters"
   ]
  },
  {
   "cell_type": "code",
   "execution_count": 1,
   "id": "36126d74-a9d8-4431-ba49-767c1fc2ec49",
   "metadata": {
    "execution": {
     "iopub.execute_input": "2022-10-18T22:23:29.057624Z",
     "iopub.status.busy": "2022-10-18T22:23:29.056967Z",
     "iopub.status.idle": "2022-10-18T22:23:29.072958Z",
     "shell.execute_reply": "2022-10-18T22:23:29.071688Z"
    },
    "papermill": {
     "duration": 0.026074,
     "end_time": "2022-10-18T22:23:29.076439",
     "exception": false,
     "start_time": "2022-10-18T22:23:29.050365",
     "status": "completed"
    },
    "tags": [
     "parameters"
    ]
   },
   "outputs": [],
   "source": [
    "# Defaults\n",
    "simulation_dir = 'simulations/unset'\n",
    "ncores = 48"
   ]
  },
  {
   "cell_type": "code",
   "execution_count": 2,
   "id": "8410079a",
   "metadata": {
    "execution": {
     "iopub.execute_input": "2022-10-18T22:23:29.089001Z",
     "iopub.status.busy": "2022-10-18T22:23:29.088379Z",
     "iopub.status.idle": "2022-10-18T22:23:29.095384Z",
     "shell.execute_reply": "2022-10-18T22:23:29.094104Z"
    },
    "papermill": {
     "duration": 0.01642,
     "end_time": "2022-10-18T22:23:29.098547",
     "exception": false,
     "start_time": "2022-10-18T22:23:29.082127",
     "status": "completed"
    },
    "tags": [
     "injected-parameters"
    ]
   },
   "outputs": [],
   "source": [
    "# Parameters\n",
    "read_coverage = 30\n",
    "mincov = 10\n",
    "simulation_dir = \"simulations/alpha-1.0-cov-30\"\n",
    "iterations = 1\n",
    "sub_alpha = 1.0\n"
   ]
  },
  {
   "cell_type": "code",
   "execution_count": 3,
   "id": "15e911d7-0ffc-4110-aefe-71bc77e689cd",
   "metadata": {
    "execution": {
     "iopub.execute_input": "2022-10-18T22:23:29.109967Z",
     "iopub.status.busy": "2022-10-18T22:23:29.109460Z",
     "iopub.status.idle": "2022-10-18T22:23:29.119466Z",
     "shell.execute_reply": "2022-10-18T22:23:29.117998Z"
    },
    "papermill": {
     "duration": 0.018242,
     "end_time": "2022-10-18T22:23:29.122208",
     "exception": false,
     "start_time": "2022-10-18T22:23:29.103966",
     "status": "completed"
    },
    "tags": []
   },
   "outputs": [],
   "source": [
    "from pathlib import Path\n",
    "import os\n",
    "\n",
    "simulation_data_dir = Path(simulation_dir) / 'simulated_data'\n",
    "initial_reads_dir = simulation_data_dir / 'reads_initial'\n",
    "reads_dir = simulation_data_dir / 'reads'\n",
    "assemblies_dir = simulation_data_dir / 'assemblies'\n",
    "assembled_reads_dir = simulation_data_dir / 'assembled_reads'\n",
    "\n",
    "if not reads_dir.exists():\n",
    "    os.mkdir(reads_dir)\n",
    "    \n",
    "if not assembled_reads_dir.exists():\n",
    "    os.mkdir(assembled_reads_dir)"
   ]
  },
  {
   "cell_type": "markdown",
   "id": "rotary-regard",
   "metadata": {
    "papermill": {
     "duration": 0.005566,
     "end_time": "2022-10-18T22:23:29.133136",
     "exception": false,
     "start_time": "2022-10-18T22:23:29.127570",
     "status": "completed"
    },
    "tags": []
   },
   "source": [
    "# 2. Fix reads\n",
    "\n",
    "Fix read file names and data so they can be indexed."
   ]
  },
  {
   "cell_type": "code",
   "execution_count": 4,
   "id": "convenient-blackberry",
   "metadata": {
    "execution": {
     "iopub.execute_input": "2022-10-18T22:23:29.142746Z",
     "iopub.status.busy": "2022-10-18T22:23:29.142092Z",
     "iopub.status.idle": "2022-10-18T22:23:29.325264Z",
     "shell.execute_reply": "2022-10-18T22:23:29.323227Z"
    },
    "papermill": {
     "duration": 0.191896,
     "end_time": "2022-10-18T22:23:29.328813",
     "exception": false,
     "start_time": "2022-10-18T22:23:29.136917",
     "status": "completed"
    },
    "tags": []
   },
   "outputs": [
    {
     "name": "stdout",
     "output_type": "stream",
     "text": [
      "~/workspace/genomics-data-index-evaluation-manuscript/evaluations/simulation/simulations/alpha-1.0-cov-30/simulated_data/reads_initial ~/workspace/genomics-data-index-evaluation-manuscript/evaluations/simulation\r\n"
     ]
    },
    {
     "name": "stdout",
     "output_type": "stream",
     "text": [
      "~/workspace/genomics-data-index-evaluation-manuscript/evaluations/simulation\r\n"
     ]
    }
   ],
   "source": [
    "import os\n",
    "\n",
    "# Fix warning about locale unset\n",
    "os.environ['LANG'] = 'en_US.UTF-8'\n",
    "\n",
    "!pushd {initial_reads_dir}; prename 's/data_//' *.fq.gz; popd"
   ]
  },
  {
   "cell_type": "markdown",
   "id": "median-belle",
   "metadata": {
    "papermill": {
     "duration": 0.005115,
     "end_time": "2022-10-18T22:23:29.340110",
     "exception": false,
     "start_time": "2022-10-18T22:23:29.334995",
     "status": "completed"
    },
    "tags": []
   },
   "source": [
    "Jackalope produces reads with non-standard identifiers where pairs of reads don't have matching identifiers. For example:\n",
    "\n",
    "* Pair 1: `@SH08-001-NC_011083-3048632-R/1`\n",
    "* Pair 2: `@SH08-001-NC_011083-3048396-F/2`\n",
    "\n",
    "In order to run snippy, these paired identifiers need to match (except for the `/1` and `/2` suffix).\n",
    "\n",
    "So, I have to replace them all with something unique, but which matches in each pair of files. I do this by replacing the position (I think) with the read number (as it appears in the file). So the above identifiers become:\n",
    "\n",
    "* Pair 1: `@SH08-001-NC_011083-1/1`\n",
    "* Pair 2: `@SH08-001-NC_011083-1/2`"
   ]
  },
  {
   "cell_type": "code",
   "execution_count": 5,
   "id": "remarkable-berry",
   "metadata": {
    "execution": {
     "iopub.execute_input": "2022-10-18T22:23:29.351290Z",
     "iopub.status.busy": "2022-10-18T22:23:29.350701Z",
     "iopub.status.idle": "2022-10-18T22:23:30.368567Z",
     "shell.execute_reply": "2022-10-18T22:23:30.366272Z"
    },
    "papermill": {
     "duration": 1.027672,
     "end_time": "2022-10-18T22:23:30.372821",
     "exception": false,
     "start_time": "2022-10-18T22:23:29.345149",
     "status": "completed"
    },
    "tags": []
   },
   "outputs": [],
   "source": [
    "import glob\n",
    "import os\n",
    "\n",
    "files = [os.path.basename(f) for f in glob.glob(f'{initial_reads_dir}/*.fq.gz')]\n",
    "!parallel -j {ncores} -I% 'gzip -d --stdout {initial_reads_dir}/% | perl scripts/replace-fastq-header.pl | gzip > {reads_dir}/%' \\\n",
    "    ::: {' '.join(files)}"
   ]
  },
  {
   "cell_type": "code",
   "execution_count": 6,
   "id": "8318e7a8-1057-4e4f-aaec-fccdec42a75f",
   "metadata": {
    "execution": {
     "iopub.execute_input": "2022-10-18T22:23:30.388146Z",
     "iopub.status.busy": "2022-10-18T22:23:30.387556Z",
     "iopub.status.idle": "2022-10-18T22:23:30.410481Z",
     "shell.execute_reply": "2022-10-18T22:23:30.409013Z"
    },
    "papermill": {
     "duration": 0.033924,
     "end_time": "2022-10-18T22:23:30.413857",
     "exception": false,
     "start_time": "2022-10-18T22:23:30.379933",
     "status": "completed"
    },
    "tags": []
   },
   "outputs": [],
   "source": [
    "import shutil\n",
    "\n",
    "shutil.rmtree(initial_reads_dir)"
   ]
  },
  {
   "cell_type": "markdown",
   "id": "cf630b4f-ed63-4e14-9657-e0aaea0953ab",
   "metadata": {
    "papermill": {
     "duration": 0.00523,
     "end_time": "2022-10-18T22:23:30.425385",
     "exception": false,
     "start_time": "2022-10-18T22:23:30.420155",
     "status": "completed"
    },
    "tags": []
   },
   "source": [
    "# 3. Fix assemblies\n",
    "\n",
    "Fix assembly genome names"
   ]
  },
  {
   "cell_type": "code",
   "execution_count": 7,
   "id": "08fac610-3ab3-4afa-9873-406973041963",
   "metadata": {
    "execution": {
     "iopub.execute_input": "2022-10-18T22:23:30.436003Z",
     "iopub.status.busy": "2022-10-18T22:23:30.435092Z",
     "iopub.status.idle": "2022-10-18T22:23:30.616233Z",
     "shell.execute_reply": "2022-10-18T22:23:30.614355Z"
    },
    "papermill": {
     "duration": 0.190613,
     "end_time": "2022-10-18T22:23:30.619986",
     "exception": false,
     "start_time": "2022-10-18T22:23:30.429373",
     "status": "completed"
    },
    "tags": []
   },
   "outputs": [
    {
     "name": "stdout",
     "output_type": "stream",
     "text": [
      "~/workspace/genomics-data-index-evaluation-manuscript/evaluations/simulation/simulations/alpha-1.0-cov-30/simulated_data/assemblies ~/workspace/genomics-data-index-evaluation-manuscript/evaluations/simulation\r\n"
     ]
    },
    {
     "name": "stdout",
     "output_type": "stream",
     "text": [
      "~/workspace/genomics-data-index-evaluation-manuscript/evaluations/simulation\r\n"
     ]
    }
   ],
   "source": [
    "!pushd {assemblies_dir}; prename 's/data__//' *.fa.gz; popd"
   ]
  },
  {
   "cell_type": "markdown",
   "id": "a0856fbc-ba98-4ba1-870b-6923cd636892",
   "metadata": {
    "papermill": {
     "duration": 0.006444,
     "end_time": "2022-10-18T22:23:30.633033",
     "exception": false,
     "start_time": "2022-10-18T22:23:30.626589",
     "status": "completed"
    },
    "tags": []
   },
   "source": [
    "# 4. Assemble reads\n",
    "\n",
    "Assemble reads to have another scenario of imperfect assemblies."
   ]
  },
  {
   "cell_type": "code",
   "execution_count": 8,
   "id": "c1a1b18f-ecd1-4ca3-af9f-ef44648edbd3",
   "metadata": {
    "execution": {
     "iopub.execute_input": "2022-10-18T22:23:30.661027Z",
     "iopub.status.busy": "2022-10-18T22:23:30.660477Z",
     "iopub.status.idle": "2022-10-18T22:23:31.946395Z",
     "shell.execute_reply": "2022-10-18T22:23:31.944376Z"
    },
    "papermill": {
     "duration": 1.298314,
     "end_time": "2022-10-18T22:23:31.950258",
     "exception": false,
     "start_time": "2022-10-18T22:23:30.651944",
     "status": "completed"
    },
    "tags": []
   },
   "outputs": [
    {
     "name": "stdout",
     "output_type": "stream",
     "text": [
      "SKESA 2.4.0\r\n",
      "\r\n",
      "skesa --version \r\n",
      "\r\n",
      "\r\n"
     ]
    }
   ],
   "source": [
    "!conda run -n skesa skesa --version"
   ]
  },
  {
   "cell_type": "code",
   "execution_count": 9,
   "id": "419476b6-ecce-477b-a838-d2419d1d160e",
   "metadata": {
    "execution": {
     "iopub.execute_input": "2022-10-18T22:23:31.967847Z",
     "iopub.status.busy": "2022-10-18T22:23:31.966970Z",
     "iopub.status.idle": "2022-10-18T22:23:49.928184Z",
     "shell.execute_reply": "2022-10-18T22:23:49.925885Z"
    },
    "papermill": {
     "duration": 17.974833,
     "end_time": "2022-10-18T22:23:49.932619",
     "exception": false,
     "start_time": "2022-10-18T22:23:31.957786",
     "status": "completed"
    },
    "tags": []
   },
   "outputs": [],
   "source": [
    "import glob\n",
    "import re\n",
    "\n",
    "fastq_names = [os.path.basename(f) for f in glob.glob(f'{reads_dir}/*_R1.fq.gz')]\n",
    "sample_names = [re.sub(r'_R\\d.fq.gz', '', f) for f in fastq_names]\n",
    "!parallel -j {ncores} -I% 'conda run -n skesa skesa --reads {reads_dir}/%_R1.fq.gz,{reads_dir}/%_R2.fq.gz --contigs_out {assembled_reads_dir}/%.fasta > {assembled_reads_dir}/log.% 2>&1' \\\n",
    "    ::: {' '.join(sample_names)}"
   ]
  }
 ],
 "metadata": {
  "kernelspec": {
   "display_name": "Python 3 (ipykernel)",
   "language": "python",
   "name": "python3"
  },
  "language_info": {
   "codemirror_mode": {
    "name": "ipython",
    "version": 3
   },
   "file_extension": ".py",
   "mimetype": "text/x-python",
   "name": "python",
   "nbconvert_exporter": "python",
   "pygments_lexer": "ipython3",
   "version": "3.8.13"
  },
  "papermill": {
   "default_parameters": {},
   "duration": 22.531139,
   "end_time": "2022-10-18T22:23:50.174788",
   "environment_variables": {},
   "exception": null,
   "input_path": "template-2-fix-simulated-files.ipynb",
   "output_path": "2-fix-simulated-files.simulation-alpha-1.0.ipynb",
   "parameters": {
    "iterations": 1,
    "mincov": 10,
    "read_coverage": 30,
    "simulation_dir": "simulations/alpha-1.0-cov-30",
    "sub_alpha": 1.0
   },
   "start_time": "2022-10-18T22:23:27.643649",
   "version": "2.3.4"
  }
 },
 "nbformat": 4,
 "nbformat_minor": 5
}