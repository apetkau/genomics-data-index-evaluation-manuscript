{
 "cells": [
  {
   "cell_type": "markdown",
   "id": "acfa5482-d626-44d6-b613-863e6911fa98",
   "metadata": {
    "papermill": {
     "duration": 0.006541,
     "end_time": "2022-09-29T19:04:19.177846",
     "exception": false,
     "start_time": "2022-09-29T19:04:19.171305",
     "status": "completed"
    },
    "tags": []
   },
   "source": [
    "# 1. Parameters"
   ]
  },
  {
   "cell_type": "code",
   "execution_count": 1,
   "id": "36126d74-a9d8-4431-ba49-767c1fc2ec49",
   "metadata": {
    "execution": {
     "iopub.execute_input": "2022-09-29T19:04:19.189118Z",
     "iopub.status.busy": "2022-09-29T19:04:19.188187Z",
     "iopub.status.idle": "2022-09-29T19:04:19.204501Z",
     "shell.execute_reply": "2022-09-29T19:04:19.203277Z"
    },
    "papermill": {
     "duration": 0.025263,
     "end_time": "2022-09-29T19:04:19.208289",
     "exception": false,
     "start_time": "2022-09-29T19:04:19.183026",
     "status": "completed"
    },
    "tags": [
     "parameters"
    ]
   },
   "outputs": [],
   "source": [
    "# Defaults\n",
    "simulation_dir = 'simulations/unset'\n",
    "ncores = 48"
   ]
  },
  {
   "cell_type": "code",
   "execution_count": 2,
   "id": "cdc11686",
   "metadata": {
    "execution": {
     "iopub.execute_input": "2022-09-29T19:04:19.219604Z",
     "iopub.status.busy": "2022-09-29T19:04:19.219072Z",
     "iopub.status.idle": "2022-09-29T19:04:19.225920Z",
     "shell.execute_reply": "2022-09-29T19:04:19.224710Z"
    },
    "papermill": {
     "duration": 0.016299,
     "end_time": "2022-09-29T19:04:19.229551",
     "exception": false,
     "start_time": "2022-09-29T19:04:19.213252",
     "status": "completed"
    },
    "tags": [
     "injected-parameters"
    ]
   },
   "outputs": [],
   "source": [
    "# Parameters\n",
    "read_coverage = 30\n",
    "mincov = 10\n",
    "simulation_dir = \"simulations/alpha-2.0-cov-30\"\n",
    "iterations = 3\n",
    "sub_alpha = 2.0\n"
   ]
  },
  {
   "cell_type": "code",
   "execution_count": 3,
   "id": "15e911d7-0ffc-4110-aefe-71bc77e689cd",
   "metadata": {
    "execution": {
     "iopub.execute_input": "2022-09-29T19:04:19.240739Z",
     "iopub.status.busy": "2022-09-29T19:04:19.239608Z",
     "iopub.status.idle": "2022-09-29T19:04:19.247898Z",
     "shell.execute_reply": "2022-09-29T19:04:19.246691Z"
    },
    "papermill": {
     "duration": 0.016222,
     "end_time": "2022-09-29T19:04:19.250654",
     "exception": false,
     "start_time": "2022-09-29T19:04:19.234432",
     "status": "completed"
    },
    "tags": []
   },
   "outputs": [],
   "source": [
    "from pathlib import Path\n",
    "import os\n",
    "\n",
    "simulation_data_dir = Path(simulation_dir) / 'simulated_data'\n",
    "initial_reads_dir = simulation_data_dir / 'reads_initial'\n",
    "reads_dir = simulation_data_dir / 'reads'\n",
    "assemblies_dir = simulation_data_dir / 'assemblies'\n",
    "\n",
    "if not reads_dir.exists():\n",
    "    os.mkdir(reads_dir)"
   ]
  },
  {
   "cell_type": "markdown",
   "id": "rotary-regard",
   "metadata": {
    "papermill": {
     "duration": 0.0101,
     "end_time": "2022-09-29T19:04:19.264417",
     "exception": false,
     "start_time": "2022-09-29T19:04:19.254317",
     "status": "completed"
    },
    "tags": []
   },
   "source": [
    "# 2. Fix reads\n",
    "\n",
    "Fix read file names and data so they can be indexed."
   ]
  },
  {
   "cell_type": "code",
   "execution_count": 4,
   "id": "convenient-blackberry",
   "metadata": {
    "execution": {
     "iopub.execute_input": "2022-09-29T19:04:19.272823Z",
     "iopub.status.busy": "2022-09-29T19:04:19.272109Z",
     "iopub.status.idle": "2022-09-29T19:04:19.458876Z",
     "shell.execute_reply": "2022-09-29T19:04:19.457259Z"
    },
    "papermill": {
     "duration": 0.195062,
     "end_time": "2022-09-29T19:04:19.462766",
     "exception": false,
     "start_time": "2022-09-29T19:04:19.267704",
     "status": "completed"
    },
    "tags": []
   },
   "outputs": [
    {
     "name": "stdout",
     "output_type": "stream",
     "text": [
      "~/workspace/genomics-data-index-evaluation-manuscript/evaluations/simulation/simulations/alpha-2.0-cov-30/simulated_data/reads_initial ~/workspace/genomics-data-index-evaluation-manuscript/evaluations/simulation\r\n"
     ]
    },
    {
     "name": "stdout",
     "output_type": "stream",
     "text": [
      "~/workspace/genomics-data-index-evaluation-manuscript/evaluations/simulation\r\n"
     ]
    }
   ],
   "source": [
    "import os\n",
    "\n",
    "# Fix warning about locale unset\n",
    "os.environ['LANG'] = 'en_US.UTF-8'\n",
    "\n",
    "!pushd {initial_reads_dir}; prename 's/data_//' *.fq.gz; popd"
   ]
  },
  {
   "cell_type": "markdown",
   "id": "median-belle",
   "metadata": {
    "papermill": {
     "duration": 0.005387,
     "end_time": "2022-09-29T19:04:19.473871",
     "exception": false,
     "start_time": "2022-09-29T19:04:19.468484",
     "status": "completed"
    },
    "tags": []
   },
   "source": [
    "Jackalope produces reads with non-standard identifiers where pairs of reads don't have matching identifiers. For example:\n",
    "\n",
    "* Pair 1: `@SH08-001-NC_011083-3048632-R/1`\n",
    "* Pair 2: `@SH08-001-NC_011083-3048396-F/2`\n",
    "\n",
    "In order to run snippy, these paired identifiers need to match (except for the `/1` and `/2` suffix).\n",
    "\n",
    "So, I have to replace them all with something unique, but which matches in each pair of files. I do this by replacing the position (I think) with the read number (as it appears in the file). So the above identifiers become:\n",
    "\n",
    "* Pair 1: `@SH08-001-NC_011083-1/1`\n",
    "* Pair 2: `@SH08-001-NC_011083-1/2`"
   ]
  },
  {
   "cell_type": "code",
   "execution_count": 5,
   "id": "remarkable-berry",
   "metadata": {
    "execution": {
     "iopub.execute_input": "2022-09-29T19:04:19.484721Z",
     "iopub.status.busy": "2022-09-29T19:04:19.483897Z",
     "iopub.status.idle": "2022-09-29T19:04:20.515565Z",
     "shell.execute_reply": "2022-09-29T19:04:20.513418Z"
    },
    "papermill": {
     "duration": 1.041698,
     "end_time": "2022-09-29T19:04:20.519662",
     "exception": false,
     "start_time": "2022-09-29T19:04:19.477964",
     "status": "completed"
    },
    "tags": []
   },
   "outputs": [],
   "source": [
    "import glob\n",
    "import os\n",
    "\n",
    "files = [os.path.basename(f) for f in glob.glob(f'{initial_reads_dir}/*.fq.gz')]\n",
    "!parallel -j {ncores} -I% 'gzip -d --stdout {initial_reads_dir}/% | perl scripts/replace-fastq-header.pl | gzip > {reads_dir}/%' \\\n",
    "    ::: {' '.join(files)}"
   ]
  },
  {
   "cell_type": "code",
   "execution_count": 6,
   "id": "8318e7a8-1057-4e4f-aaec-fccdec42a75f",
   "metadata": {
    "execution": {
     "iopub.execute_input": "2022-09-29T19:04:20.533317Z",
     "iopub.status.busy": "2022-09-29T19:04:20.532731Z",
     "iopub.status.idle": "2022-09-29T19:04:20.552328Z",
     "shell.execute_reply": "2022-09-29T19:04:20.550886Z"
    },
    "papermill": {
     "duration": 0.0305,
     "end_time": "2022-09-29T19:04:20.555895",
     "exception": false,
     "start_time": "2022-09-29T19:04:20.525395",
     "status": "completed"
    },
    "tags": []
   },
   "outputs": [],
   "source": [
    "import shutil\n",
    "\n",
    "shutil.rmtree(initial_reads_dir)"
   ]
  },
  {
   "cell_type": "markdown",
   "id": "cf630b4f-ed63-4e14-9657-e0aaea0953ab",
   "metadata": {
    "papermill": {
     "duration": 0.004643,
     "end_time": "2022-09-29T19:04:20.566129",
     "exception": false,
     "start_time": "2022-09-29T19:04:20.561486",
     "status": "completed"
    },
    "tags": []
   },
   "source": [
    "# 3. Fix assemblies\n",
    "\n",
    "Fix assembly genome names"
   ]
  },
  {
   "cell_type": "code",
   "execution_count": 7,
   "id": "08fac610-3ab3-4afa-9873-406973041963",
   "metadata": {
    "execution": {
     "iopub.execute_input": "2022-09-29T19:04:20.575411Z",
     "iopub.status.busy": "2022-09-29T19:04:20.574894Z",
     "iopub.status.idle": "2022-09-29T19:04:20.753327Z",
     "shell.execute_reply": "2022-09-29T19:04:20.751492Z"
    },
    "papermill": {
     "duration": 0.187286,
     "end_time": "2022-09-29T19:04:20.757134",
     "exception": false,
     "start_time": "2022-09-29T19:04:20.569848",
     "status": "completed"
    },
    "tags": []
   },
   "outputs": [
    {
     "name": "stdout",
     "output_type": "stream",
     "text": [
      "~/workspace/genomics-data-index-evaluation-manuscript/evaluations/simulation/simulations/alpha-2.0-cov-30/simulated_data/assemblies ~/workspace/genomics-data-index-evaluation-manuscript/evaluations/simulation\r\n"
     ]
    },
    {
     "name": "stdout",
     "output_type": "stream",
     "text": [
      "~/workspace/genomics-data-index-evaluation-manuscript/evaluations/simulation\r\n"
     ]
    }
   ],
   "source": [
    "!pushd {assemblies_dir}; prename 's/data__//' *.fa.gz; popd"
   ]
  }
 ],
 "metadata": {
  "kernelspec": {
   "display_name": "Python 3 (ipykernel)",
   "language": "python",
   "name": "python3"
  },
  "language_info": {
   "codemirror_mode": {
    "name": "ipython",
    "version": 3
   },
   "file_extension": ".py",
   "mimetype": "text/x-python",
   "name": "python",
   "nbconvert_exporter": "python",
   "pygments_lexer": "ipython3",
   "version": "3.8.13"
  },
  "papermill": {
   "default_parameters": {},
   "duration": 3.390472,
   "end_time": "2022-09-29T19:04:20.986090",
   "environment_variables": {},
   "exception": null,
   "input_path": "template-2-fix-simulated-files.ipynb",
   "output_path": "2-fix-simulated-files.simulation-alpha-2.0.ipynb",
   "parameters": {
    "iterations": 3,
    "mincov": 10,
    "read_coverage": 30,
    "simulation_dir": "simulations/alpha-2.0-cov-30",
    "sub_alpha": 2.0
   },
   "start_time": "2022-09-29T19:04:17.595618",
   "version": "2.3.4"
  }
 },
 "nbformat": 4,
 "nbformat_minor": 5
}