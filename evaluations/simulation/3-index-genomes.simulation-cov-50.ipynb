{
 "cells": [
  {
   "cell_type": "markdown",
   "id": "7d3667b4-b1f8-4347-96e3-830c25b06740",
   "metadata": {
    "papermill": {
     "duration": 0.009853,
     "end_time": "2022-10-19T01:18:42.115458",
     "exception": false,
     "start_time": "2022-10-19T01:18:42.105605",
     "status": "completed"
    },
    "tags": []
   },
   "source": [
    "# 1. Parameters"
   ]
  },
  {
   "cell_type": "code",
   "execution_count": 1,
   "id": "d4ab0749-b286-4c34-b63c-a854e4952bae",
   "metadata": {
    "execution": {
     "iopub.execute_input": "2022-10-19T01:18:42.131020Z",
     "iopub.status.busy": "2022-10-19T01:18:42.130248Z",
     "iopub.status.idle": "2022-10-19T01:18:42.146634Z",
     "shell.execute_reply": "2022-10-19T01:18:42.145425Z"
    },
    "papermill": {
     "duration": 0.026572,
     "end_time": "2022-10-19T01:18:42.149559",
     "exception": false,
     "start_time": "2022-10-19T01:18:42.122987",
     "status": "completed"
    },
    "tags": [
     "parameters"
    ]
   },
   "outputs": [],
   "source": [
    "# Defaults\n",
    "simulation_dir = 'simulations/unset'\n",
    "reference_file = 'simulations/reference/reference.fa.gz'\n",
    "iterations = 1\n",
    "mincov = 10\n",
    "ncores = 32"
   ]
  },
  {
   "cell_type": "code",
   "execution_count": 2,
   "id": "474c5e04",
   "metadata": {
    "execution": {
     "iopub.execute_input": "2022-10-19T01:18:42.165029Z",
     "iopub.status.busy": "2022-10-19T01:18:42.164500Z",
     "iopub.status.idle": "2022-10-19T01:18:42.171612Z",
     "shell.execute_reply": "2022-10-19T01:18:42.170038Z"
    },
    "papermill": {
     "duration": 0.018063,
     "end_time": "2022-10-19T01:18:42.174667",
     "exception": false,
     "start_time": "2022-10-19T01:18:42.156604",
     "status": "completed"
    },
    "tags": [
     "injected-parameters"
    ]
   },
   "outputs": [],
   "source": [
    "# Parameters\n",
    "read_coverage = 50\n",
    "mincov = 10\n",
    "simulation_dir = \"simulations/cov-50\"\n",
    "iterations = 1\n",
    "sub_alpha = 0.2\n"
   ]
  },
  {
   "cell_type": "code",
   "execution_count": 3,
   "id": "ce5962e4-261c-4210-b39b-47044e28466b",
   "metadata": {
    "execution": {
     "iopub.execute_input": "2022-10-19T01:18:42.187642Z",
     "iopub.status.busy": "2022-10-19T01:18:42.186936Z",
     "iopub.status.idle": "2022-10-19T01:18:44.932610Z",
     "shell.execute_reply": "2022-10-19T01:18:44.930852Z"
    },
    "papermill": {
     "duration": 2.756639,
     "end_time": "2022-10-19T01:18:44.937050",
     "exception": false,
     "start_time": "2022-10-19T01:18:42.180411",
     "status": "completed"
    },
    "tags": []
   },
   "outputs": [
    {
     "name": "stderr",
     "output_type": "stream",
     "text": [
      "/tmp/ipykernel_11709/3212986174.py:2: DeprecationWarning: the imp module is deprecated in favour of importlib; see the module's documentation for alternative uses\n",
      "  import imp\n"
     ]
    }
   ],
   "source": [
    "from pathlib import Path\n",
    "import imp\n",
    "fp, pathname, description = imp.find_module('gdi_benchmark', ['../../lib'])\n",
    "gdi_benchmark = imp.load_module('gdi_benchmark', fp, pathname, description)\n",
    "\n",
    "simulation_dir_path = Path(simulation_dir)\n",
    "\n",
    "case_name = str(simulation_dir_path.name)\n",
    "reads_dir = simulation_dir_path / 'simulated_data' / 'reads'\n",
    "assemblies_dir = simulation_dir_path / 'simulated_data' / 'assemblies'\n",
    "assemblies_reads_dir = simulation_dir_path / 'simulated_data' / 'assembled_reads'\n",
    "index_reads_path = simulation_dir_path / 'index-reads'\n",
    "index_assemblies_path = simulation_dir_path / 'index-assemblies'\n",
    "index_assemblies_reads_path = simulation_dir_path / 'index-assemblies-reads'\n",
    "output_reads_tree = index_reads_path / 'reads.tre'\n",
    "output_assemblies_tree = index_assemblies_path / 'assemblies.tre'\n",
    "output_assemblies_reads_tree = index_assemblies_reads_path / 'assemblies-reads.tre'\n",
    "reference_name = Path(reference_file).name.split('.')[0]"
   ]
  },
  {
   "cell_type": "markdown",
   "id": "f208279e-7558-47fc-9362-da29df92828a",
   "metadata": {
    "papermill": {
     "duration": 0.007096,
     "end_time": "2022-10-19T01:18:44.953204",
     "exception": false,
     "start_time": "2022-10-19T01:18:44.946108",
     "status": "completed"
    },
    "tags": []
   },
   "source": [
    "# 2. Index genomes"
   ]
  },
  {
   "cell_type": "code",
   "execution_count": 4,
   "id": "4e936f7c-2fcd-4188-b0e6-6b3ceb5cdcd2",
   "metadata": {
    "execution": {
     "iopub.execute_input": "2022-10-19T01:18:44.965795Z",
     "iopub.status.busy": "2022-10-19T01:18:44.964878Z",
     "iopub.status.idle": "2022-10-19T01:18:48.212526Z",
     "shell.execute_reply": "2022-10-19T01:18:48.210432Z"
    },
    "papermill": {
     "duration": 3.258487,
     "end_time": "2022-10-19T01:18:48.216836",
     "exception": false,
     "start_time": "2022-10-19T01:18:44.958349",
     "status": "completed"
    },
    "tags": []
   },
   "outputs": [
    {
     "name": "stdout",
     "output_type": "stream",
     "text": [
      "gdi, version 0.8.1\r\n"
     ]
    }
   ],
   "source": [
    "!gdi --version"
   ]
  },
  {
   "cell_type": "markdown",
   "id": "5409ecf8-2158-4361-9d2f-6b1a6c7c63a6",
   "metadata": {
    "papermill": {
     "duration": 0.005413,
     "end_time": "2022-10-19T01:18:48.231027",
     "exception": false,
     "start_time": "2022-10-19T01:18:48.225614",
     "status": "completed"
    },
    "tags": []
   },
   "source": [
    "## 2.1. Index reads"
   ]
  },
  {
   "cell_type": "code",
   "execution_count": 5,
   "id": "b5324f79-913b-4dac-8122-19ad5c0f24b2",
   "metadata": {
    "execution": {
     "iopub.execute_input": "2022-10-19T01:18:48.242769Z",
     "iopub.status.busy": "2022-10-19T01:18:48.242157Z",
     "iopub.status.idle": "2022-10-19T01:18:51.523247Z",
     "shell.execute_reply": "2022-10-19T01:18:51.521273Z"
    },
    "papermill": {
     "duration": 3.290752,
     "end_time": "2022-10-19T01:18:51.527080",
     "exception": false,
     "start_time": "2022-10-19T01:18:48.236328",
     "status": "completed"
    },
    "tags": []
   },
   "outputs": [
    {
     "name": "stdout",
     "output_type": "stream",
     "text": [
      "\u001b[32m2022-10-18 20:18:51\u001b[0m \u001b[1;30mWARNING:\u001b[0m \u001b[33m--skip-existing-samples is enabled but no --project-dir is set. Will not skip existing samples.\u001b[0m\r\n"
     ]
    }
   ],
   "source": [
    "input_genomes_file = simulation_dir_path / 'input-reads.tsv'\n",
    "\n",
    "!gdi input --absolute {reads_dir}/*.fq.gz > {input_genomes_file}"
   ]
  },
  {
   "cell_type": "code",
   "execution_count": 6,
   "id": "3d63e861-733e-46f2-8bce-bd1a2c7c7058",
   "metadata": {
    "execution": {
     "iopub.execute_input": "2022-10-19T01:18:51.545258Z",
     "iopub.status.busy": "2022-10-19T01:18:51.544666Z",
     "iopub.status.idle": "2022-10-19T01:21:12.351169Z",
     "shell.execute_reply": "2022-10-19T01:21:12.349527Z"
    },
    "papermill": {
     "duration": 140.819774,
     "end_time": "2022-10-19T01:21:12.355773",
     "exception": false,
     "start_time": "2022-10-19T01:18:51.535999",
     "status": "completed"
    },
    "tags": []
   },
   "outputs": [
    {
     "name": "stdout",
     "output_type": "stream",
     "text": [
      "\n",
      "Iteration 1 of index/analysis of 60 samples with 32 cores\n",
      "Removing any extra snakemake directories: ['snakemake-assemblies.1666142178.4566832']\n"
     ]
    },
    {
     "name": "stdout",
     "output_type": "stream",
     "text": [
      "Creating new index: [gdi init simulations/cov-50/index-reads]\n"
     ]
    },
    {
     "name": "stderr",
     "output_type": "stream",
     "text": [
      "/home/CSCScience.ca/apetkau/miniconda3/envs/gdi-manuscript/lib/python3.8/multiprocessing/popen_fork.py:70: ResourceWarning: Unclosed socket <zmq.Socket(zmq.PUSH) at 0x7fc80ea1c7c0>\n",
      "  self.pid = os.fork()\n",
      "ResourceWarning: Enable tracemalloc to get the object allocation traceback\n"
     ]
    },
    {
     "name": "stderr",
     "output_type": "stream",
     "text": [
      "/home/CSCScience.ca/apetkau/miniconda3/envs/gdi-manuscript/lib/python3.8/multiprocessing/popen_fork.py:70: ResourceWarning: Unclosed socket <zmq.Socket(zmq.PUSH) at 0x7fc80ea1c7c0>\n",
      "  self.pid = os.fork()\n",
      "ResourceWarning: Enable tracemalloc to get the object allocation traceback\n"
     ]
    },
    {
     "name": "stdout",
     "output_type": "stream",
     "text": [
      "Creating a new index took 3.34 seconds\n",
      "Analysis running: [gdi --project-dir simulations/cov-50/index-reads --ncores 32 analysis --use-conda --no-load-data --reference-file simulations/reference/reference.fa.gz --kmer-size 31 --kmer-size 51 --kmer-size 71 --include-kmer --reads-mincov 10 --input-structured-genomes-file simulations/cov-50/input-reads.tsv]\n"
     ]
    },
    {
     "name": "stderr",
     "output_type": "stream",
     "text": [
      "/home/CSCScience.ca/apetkau/miniconda3/envs/gdi-manuscript/lib/python3.8/multiprocessing/popen_fork.py:70: ResourceWarning: Unclosed socket <zmq.Socket(zmq.PUSH) at 0x7fc80ea1c7c0>\n",
      "  self.pid = os.fork()\n",
      "ResourceWarning: Enable tracemalloc to get the object allocation traceback\n"
     ]
    },
    {
     "name": "stderr",
     "output_type": "stream",
     "text": [
      "/home/CSCScience.ca/apetkau/miniconda3/envs/gdi-manuscript/lib/python3.8/multiprocessing/popen_fork.py:70: ResourceWarning: Unclosed socket <zmq.Socket(zmq.PUSH) at 0x7fc80ea1c7c0>\n",
      "  self.pid = os.fork()\n",
      "ResourceWarning: Enable tracemalloc to get the object allocation traceback\n"
     ]
    },
    {
     "name": "stdout",
     "output_type": "stream",
     "text": [
      "Analysis took 1.96 minutes\n",
      "Index running: [gdi --project-dir simulations/cov-50/index-reads --ncores 32 load vcf-kmer --sample-batch-size 2000 --reference-file simulations/reference/reference.fa.gz /home/CSCScience.ca/apetkau/workspace/genomics-data-index-evaluation-manuscript/evaluations/simulation/snakemake-assemblies.1666142339.5434923/gdi-input.fofn]\n"
     ]
    },
    {
     "name": "stderr",
     "output_type": "stream",
     "text": [
      "/home/CSCScience.ca/apetkau/miniconda3/envs/gdi-manuscript/lib/python3.8/multiprocessing/popen_fork.py:70: ResourceWarning: Unclosed socket <zmq.Socket(zmq.PUSH) at 0x7fc80ea1c7c0>\n",
      "  self.pid = os.fork()\n",
      "ResourceWarning: Enable tracemalloc to get the object allocation traceback\n"
     ]
    },
    {
     "name": "stderr",
     "output_type": "stream",
     "text": [
      "/home/CSCScience.ca/apetkau/miniconda3/envs/gdi-manuscript/lib/python3.8/multiprocessing/popen_fork.py:70: ResourceWarning: Unclosed socket <zmq.Socket(zmq.PUSH) at 0x7fc80ea1c7c0>\n",
      "  self.pid = os.fork()\n",
      "ResourceWarning: Enable tracemalloc to get the object allocation traceback\n"
     ]
    },
    {
     "name": "stdout",
     "output_type": "stream",
     "text": [
      "Indexing took 0.13 minutes\n",
      "Building tree: [gdi --project-dir simulations/cov-50/index-reads --ncores 32 rebuild tree --align-type full --extra-params '--fast -m GTR+F+R4' reference]\n"
     ]
    },
    {
     "name": "stderr",
     "output_type": "stream",
     "text": [
      "/home/CSCScience.ca/apetkau/miniconda3/envs/gdi-manuscript/lib/python3.8/multiprocessing/popen_fork.py:70: ResourceWarning: Unclosed socket <zmq.Socket(zmq.PUSH) at 0x7fc80ea1c7c0>\n",
      "  self.pid = os.fork()\n",
      "ResourceWarning: Enable tracemalloc to get the object allocation traceback\n"
     ]
    },
    {
     "name": "stderr",
     "output_type": "stream",
     "text": [
      "/home/CSCScience.ca/apetkau/miniconda3/envs/gdi-manuscript/lib/python3.8/multiprocessing/popen_fork.py:70: ResourceWarning: Unclosed socket <zmq.Socket(zmq.PUSH) at 0x7fc80ea1c7c0>\n",
      "  self.pid = os.fork()\n",
      "ResourceWarning: Enable tracemalloc to get the object allocation traceback\n"
     ]
    },
    {
     "name": "stdout",
     "output_type": "stream",
     "text": [
      "Building tree took 0.17 minutes\n"
     ]
    },
    {
     "name": "stderr",
     "output_type": "stream",
     "text": [
      "A reminder to myself to look for a Python solution for directory sizes (instead of running `du`)\n"
     ]
    }
   ],
   "source": [
    "results_handler = gdi_benchmark.BenchmarkResultsHandler(name=f'{case_name} reads')\n",
    "benchmarker = gdi_benchmark.IndexBenchmarker(benchmark_results_handler=results_handler,\n",
    "                                             index_path=index_reads_path, input_files_file=input_genomes_file,\n",
    "                                             reference_file=reference_file, mincov=mincov, build_tree=True,\n",
    "                                             ncores=ncores)\n",
    "\n",
    "benchmark_df = benchmarker.benchmark(iterations=iterations)"
   ]
  },
  {
   "cell_type": "code",
   "execution_count": 7,
   "id": "3bcb6da7-0164-47f2-abdd-a4c159da1e3b",
   "metadata": {
    "execution": {
     "iopub.execute_input": "2022-10-19T01:21:12.376349Z",
     "iopub.status.busy": "2022-10-19T01:21:12.375931Z",
     "iopub.status.idle": "2022-10-19T01:21:12.407663Z",
     "shell.execute_reply": "2022-10-19T01:21:12.406552Z"
    },
    "papermill": {
     "duration": 0.044698,
     "end_time": "2022-10-19T01:21:12.411522",
     "exception": false,
     "start_time": "2022-10-19T01:21:12.366824",
     "status": "completed"
    },
    "tags": []
   },
   "outputs": [
    {
     "data": {
      "text/html": [
       "<div>\n",
       "<style scoped>\n",
       "    .dataframe tbody tr th:only-of-type {\n",
       "        vertical-align: middle;\n",
       "    }\n",
       "\n",
       "    .dataframe tbody tr th {\n",
       "        vertical-align: top;\n",
       "    }\n",
       "\n",
       "    .dataframe thead th {\n",
       "        text-align: right;\n",
       "    }\n",
       "</style>\n",
       "<table border=\"1\" class=\"dataframe\">\n",
       "  <thead>\n",
       "    <tr style=\"text-align: right;\">\n",
       "      <th></th>\n",
       "      <th>Name</th>\n",
       "      <th>Reference name</th>\n",
       "      <th>Iteration</th>\n",
       "      <th>Number samples</th>\n",
       "      <th>Number features (all)</th>\n",
       "      <th>Number features (no unknown)</th>\n",
       "      <th>Number cores</th>\n",
       "      <th>Reference length</th>\n",
       "      <th>Analysis runtime</th>\n",
       "      <th>Analysis memory (max)</th>\n",
       "      <th>...</th>\n",
       "      <th>Analysis disk uage</th>\n",
       "      <th>Index runtime</th>\n",
       "      <th>Index memory (max)</th>\n",
       "      <th>Index memory (max/process)</th>\n",
       "      <th>Index size</th>\n",
       "      <th>Tree runtime</th>\n",
       "      <th>Tree memory (max)</th>\n",
       "      <th>Tree memory (max/process)</th>\n",
       "      <th>Total runtime</th>\n",
       "      <th>Max memory</th>\n",
       "    </tr>\n",
       "  </thead>\n",
       "  <tbody>\n",
       "    <tr>\n",
       "      <th>0</th>\n",
       "      <td>cov-50 reads</td>\n",
       "      <td>reference</td>\n",
       "      <td>1</td>\n",
       "      <td>60</td>\n",
       "      <td>2393</td>\n",
       "      <td>1398</td>\n",
       "      <td>32</td>\n",
       "      <td>19699</td>\n",
       "      <td>117.18</td>\n",
       "      <td>3.231146e+09</td>\n",
       "      <td>...</td>\n",
       "      <td>3.266675e+09</td>\n",
       "      <td>7.8</td>\n",
       "      <td>6.198886e+09</td>\n",
       "      <td>297455616.0</td>\n",
       "      <td>2060288.0</td>\n",
       "      <td>10.31</td>\n",
       "      <td>283373568.0</td>\n",
       "      <td>251600896.0</td>\n",
       "      <td>135.29</td>\n",
       "      <td>6.198886e+09</td>\n",
       "    </tr>\n",
       "  </tbody>\n",
       "</table>\n",
       "<p>1 rows × 21 columns</p>\n",
       "</div>"
      ],
      "text/plain": [
       "           Name Reference name  Iteration  Number samples  \\\n",
       "0  cov-50 reads      reference          1              60   \n",
       "\n",
       "   Number features (all)  Number features (no unknown)  Number cores  \\\n",
       "0                   2393                          1398            32   \n",
       "\n",
       "   Reference length  Analysis runtime  Analysis memory (max)  ...  \\\n",
       "0             19699            117.18           3.231146e+09  ...   \n",
       "\n",
       "   Analysis disk uage  Index runtime  Index memory (max)  \\\n",
       "0        3.266675e+09            7.8        6.198886e+09   \n",
       "\n",
       "   Index memory (max/process)  Index size  Tree runtime  Tree memory (max)  \\\n",
       "0                 297455616.0   2060288.0         10.31        283373568.0   \n",
       "\n",
       "   Tree memory (max/process)  Total runtime    Max memory  \n",
       "0                251600896.0         135.29  6.198886e+09  \n",
       "\n",
       "[1 rows x 21 columns]"
      ]
     },
     "execution_count": 7,
     "metadata": {},
     "output_type": "execute_result"
    }
   ],
   "source": [
    "benchmark_df"
   ]
  },
  {
   "cell_type": "code",
   "execution_count": 8,
   "id": "535a9ccc-ab9c-4919-806f-128e1efd2389",
   "metadata": {
    "execution": {
     "iopub.execute_input": "2022-10-19T01:21:12.430435Z",
     "iopub.status.busy": "2022-10-19T01:21:12.429255Z",
     "iopub.status.idle": "2022-10-19T01:21:12.440678Z",
     "shell.execute_reply": "2022-10-19T01:21:12.439180Z"
    },
    "papermill": {
     "duration": 0.022857,
     "end_time": "2022-10-19T01:21:12.443520",
     "exception": false,
     "start_time": "2022-10-19T01:21:12.420663",
     "status": "completed"
    },
    "tags": []
   },
   "outputs": [],
   "source": [
    "index_reads_runtime = simulation_dir_path / 'reads-index-info.tsv'\n",
    "benchmark_df.to_csv(index_reads_runtime, sep='\\t', index=False)"
   ]
  },
  {
   "cell_type": "markdown",
   "id": "c331578f-4026-4a9f-a3ba-288814b02ed2",
   "metadata": {
    "papermill": {
     "duration": 0.007274,
     "end_time": "2022-10-19T01:21:12.460667",
     "exception": false,
     "start_time": "2022-10-19T01:21:12.453393",
     "status": "completed"
    },
    "tags": []
   },
   "source": [
    "## 2.2. Index assemblies"
   ]
  },
  {
   "cell_type": "code",
   "execution_count": 9,
   "id": "6e6664f4-94ee-4c45-b1fc-e048b387fa49",
   "metadata": {
    "execution": {
     "iopub.execute_input": "2022-10-19T01:21:12.511974Z",
     "iopub.status.busy": "2022-10-19T01:21:12.511406Z",
     "iopub.status.idle": "2022-10-19T01:21:15.853055Z",
     "shell.execute_reply": "2022-10-19T01:21:15.850944Z"
    },
    "papermill": {
     "duration": 3.360978,
     "end_time": "2022-10-19T01:21:15.857015",
     "exception": false,
     "start_time": "2022-10-19T01:21:12.496037",
     "status": "completed"
    },
    "tags": []
   },
   "outputs": [
    {
     "name": "stdout",
     "output_type": "stream",
     "text": [
      "\u001b[32m2022-10-18 20:21:15\u001b[0m \u001b[1;30mWARNING:\u001b[0m \u001b[33m--skip-existing-samples is enabled but no --project-dir is set. Will not skip existing samples.\u001b[0m\r\n"
     ]
    }
   ],
   "source": [
    "input_genomes_file = simulation_dir_path / 'input-assemblies.tsv'\n",
    "\n",
    "!gdi input --absolute {assemblies_dir}/*.fa.gz > {input_genomes_file}"
   ]
  },
  {
   "cell_type": "code",
   "execution_count": 10,
   "id": "0a1e62f3-3b0c-4a90-a7fe-f0bc1094e350",
   "metadata": {
    "execution": {
     "iopub.execute_input": "2022-10-19T01:21:15.878692Z",
     "iopub.status.busy": "2022-10-19T01:21:15.878095Z",
     "iopub.status.idle": "2022-10-19T01:23:18.754427Z",
     "shell.execute_reply": "2022-10-19T01:23:18.752406Z"
    },
    "papermill": {
     "duration": 122.890771,
     "end_time": "2022-10-19T01:23:18.758800",
     "exception": false,
     "start_time": "2022-10-19T01:21:15.868029",
     "status": "completed"
    },
    "tags": []
   },
   "outputs": [
    {
     "name": "stdout",
     "output_type": "stream",
     "text": [
      "\n",
      "Iteration 1 of index/analysis of 60 samples with 32 cores\n",
      "Removing any extra snakemake directories: ['snakemake-assemblies.1666142339.5434923']\n"
     ]
    },
    {
     "name": "stdout",
     "output_type": "stream",
     "text": [
      "Creating new index: [gdi init simulations/cov-50/index-assemblies]\n"
     ]
    },
    {
     "name": "stderr",
     "output_type": "stream",
     "text": [
      "/home/CSCScience.ca/apetkau/miniconda3/envs/gdi-manuscript/lib/python3.8/multiprocessing/popen_fork.py:70: ResourceWarning: Unclosed socket <zmq.Socket(zmq.PUSH) at 0x7fc80ea1c7c0>\n",
      "  self.pid = os.fork()\n",
      "ResourceWarning: Enable tracemalloc to get the object allocation traceback\n"
     ]
    },
    {
     "name": "stderr",
     "output_type": "stream",
     "text": [
      "/home/CSCScience.ca/apetkau/miniconda3/envs/gdi-manuscript/lib/python3.8/multiprocessing/popen_fork.py:70: ResourceWarning: Unclosed socket <zmq.Socket(zmq.PUSH) at 0x7fc80ea1c7c0>\n",
      "  self.pid = os.fork()\n",
      "ResourceWarning: Enable tracemalloc to get the object allocation traceback\n"
     ]
    },
    {
     "name": "stdout",
     "output_type": "stream",
     "text": [
      "Creating a new index took 3.34 seconds\n",
      "Analysis running: [gdi --project-dir simulations/cov-50/index-assemblies --ncores 32 analysis --use-conda --no-load-data --reference-file simulations/reference/reference.fa.gz --kmer-size 31 --kmer-size 51 --kmer-size 71 --include-kmer --reads-mincov 10 --input-structured-genomes-file simulations/cov-50/input-assemblies.tsv]\n"
     ]
    },
    {
     "name": "stderr",
     "output_type": "stream",
     "text": [
      "/home/CSCScience.ca/apetkau/miniconda3/envs/gdi-manuscript/lib/python3.8/multiprocessing/popen_fork.py:70: ResourceWarning: Unclosed socket <zmq.Socket(zmq.PUSH) at 0x7fc80ea1c7c0>\n",
      "  self.pid = os.fork()\n",
      "ResourceWarning: Enable tracemalloc to get the object allocation traceback\n"
     ]
    },
    {
     "name": "stderr",
     "output_type": "stream",
     "text": [
      "/home/CSCScience.ca/apetkau/miniconda3/envs/gdi-manuscript/lib/python3.8/multiprocessing/popen_fork.py:70: ResourceWarning: Unclosed socket <zmq.Socket(zmq.PUSH) at 0x7fc80ea1c7c0>\n",
      "  self.pid = os.fork()\n",
      "ResourceWarning: Enable tracemalloc to get the object allocation traceback\n"
     ]
    },
    {
     "name": "stdout",
     "output_type": "stream",
     "text": [
      "Analysis took 1.70 minutes\n",
      "Index running: [gdi --project-dir simulations/cov-50/index-assemblies --ncores 32 load vcf-kmer --sample-batch-size 2000 --reference-file simulations/reference/reference.fa.gz /home/CSCScience.ca/apetkau/workspace/genomics-data-index-evaluation-manuscript/evaluations/simulation/snakemake-assemblies.1666142484.126415/gdi-input.fofn]\n"
     ]
    },
    {
     "name": "stderr",
     "output_type": "stream",
     "text": [
      "/home/CSCScience.ca/apetkau/miniconda3/envs/gdi-manuscript/lib/python3.8/multiprocessing/popen_fork.py:70: ResourceWarning: Unclosed socket <zmq.Socket(zmq.PUSH) at 0x7fc80ea1c7c0>\n",
      "  self.pid = os.fork()\n",
      "ResourceWarning: Enable tracemalloc to get the object allocation traceback\n"
     ]
    },
    {
     "name": "stderr",
     "output_type": "stream",
     "text": [
      "/home/CSCScience.ca/apetkau/miniconda3/envs/gdi-manuscript/lib/python3.8/multiprocessing/popen_fork.py:70: ResourceWarning: Unclosed socket <zmq.Socket(zmq.PUSH) at 0x7fc80ea1c7c0>\n",
      "  self.pid = os.fork()\n",
      "ResourceWarning: Enable tracemalloc to get the object allocation traceback\n"
     ]
    },
    {
     "name": "stdout",
     "output_type": "stream",
     "text": [
      "Indexing took 0.11 minutes\n",
      "Building tree: [gdi --project-dir simulations/cov-50/index-assemblies --ncores 32 rebuild tree --align-type full --extra-params '--fast -m GTR+F+R4' reference]\n"
     ]
    },
    {
     "name": "stderr",
     "output_type": "stream",
     "text": [
      "/home/CSCScience.ca/apetkau/miniconda3/envs/gdi-manuscript/lib/python3.8/multiprocessing/popen_fork.py:70: ResourceWarning: Unclosed socket <zmq.Socket(zmq.PUSH) at 0x7fc80ea1c7c0>\n",
      "  self.pid = os.fork()\n",
      "ResourceWarning: Enable tracemalloc to get the object allocation traceback\n"
     ]
    },
    {
     "name": "stderr",
     "output_type": "stream",
     "text": [
      "/home/CSCScience.ca/apetkau/miniconda3/envs/gdi-manuscript/lib/python3.8/multiprocessing/popen_fork.py:70: ResourceWarning: Unclosed socket <zmq.Socket(zmq.PUSH) at 0x7fc80ea1c7c0>\n",
      "  self.pid = os.fork()\n",
      "ResourceWarning: Enable tracemalloc to get the object allocation traceback\n"
     ]
    },
    {
     "name": "stdout",
     "output_type": "stream",
     "text": [
      "Building tree took 0.14 minutes\n"
     ]
    },
    {
     "name": "stderr",
     "output_type": "stream",
     "text": [
      "Attempting to set global database_path_translator=<genomics_data_index.storage.model.db.DatabasePathTranslator.DatabasePathTranslator object at 0x7fca08281d60> but it is already set\n"
     ]
    },
    {
     "name": "stderr",
     "output_type": "stream",
     "text": [
      "A reminder to myself to look for a Python solution for directory sizes (instead of running `du`)\n"
     ]
    }
   ],
   "source": [
    "results_handler = gdi_benchmark.BenchmarkResultsHandler(name=f'{case_name} assemblies')\n",
    "benchmarker = gdi_benchmark.IndexBenchmarker(benchmark_results_handler=results_handler,\n",
    "                                             index_path=index_assemblies_path, input_files_file=input_genomes_file,\n",
    "                                             reference_file=reference_file, mincov=mincov, build_tree=True,\n",
    "                                             ncores=ncores)\n",
    "\n",
    "benchmark_df = benchmarker.benchmark(iterations=iterations)"
   ]
  },
  {
   "cell_type": "code",
   "execution_count": 11,
   "id": "a6d55a9d-be2f-4851-b66c-04b5ebd597a1",
   "metadata": {
    "execution": {
     "iopub.execute_input": "2022-10-19T01:23:18.784299Z",
     "iopub.status.busy": "2022-10-19T01:23:18.783707Z",
     "iopub.status.idle": "2022-10-19T01:23:18.815019Z",
     "shell.execute_reply": "2022-10-19T01:23:18.813497Z"
    },
    "papermill": {
     "duration": 0.046116,
     "end_time": "2022-10-19T01:23:18.818672",
     "exception": false,
     "start_time": "2022-10-19T01:23:18.772556",
     "status": "completed"
    },
    "tags": []
   },
   "outputs": [
    {
     "data": {
      "text/html": [
       "<div>\n",
       "<style scoped>\n",
       "    .dataframe tbody tr th:only-of-type {\n",
       "        vertical-align: middle;\n",
       "    }\n",
       "\n",
       "    .dataframe tbody tr th {\n",
       "        vertical-align: top;\n",
       "    }\n",
       "\n",
       "    .dataframe thead th {\n",
       "        text-align: right;\n",
       "    }\n",
       "</style>\n",
       "<table border=\"1\" class=\"dataframe\">\n",
       "  <thead>\n",
       "    <tr style=\"text-align: right;\">\n",
       "      <th></th>\n",
       "      <th>Name</th>\n",
       "      <th>Reference name</th>\n",
       "      <th>Iteration</th>\n",
       "      <th>Number samples</th>\n",
       "      <th>Number features (all)</th>\n",
       "      <th>Number features (no unknown)</th>\n",
       "      <th>Number cores</th>\n",
       "      <th>Reference length</th>\n",
       "      <th>Analysis runtime</th>\n",
       "      <th>Analysis memory (max)</th>\n",
       "      <th>...</th>\n",
       "      <th>Analysis disk uage</th>\n",
       "      <th>Index runtime</th>\n",
       "      <th>Index memory (max)</th>\n",
       "      <th>Index memory (max/process)</th>\n",
       "      <th>Index size</th>\n",
       "      <th>Tree runtime</th>\n",
       "      <th>Tree memory (max)</th>\n",
       "      <th>Tree memory (max/process)</th>\n",
       "      <th>Total runtime</th>\n",
       "      <th>Max memory</th>\n",
       "    </tr>\n",
       "  </thead>\n",
       "  <tbody>\n",
       "    <tr>\n",
       "      <th>0</th>\n",
       "      <td>cov-50 assemblies</td>\n",
       "      <td>reference</td>\n",
       "      <td>1</td>\n",
       "      <td>60</td>\n",
       "      <td>1498</td>\n",
       "      <td>1421</td>\n",
       "      <td>32</td>\n",
       "      <td>19699</td>\n",
       "      <td>102.15</td>\n",
       "      <td>2.730770e+09</td>\n",
       "      <td>...</td>\n",
       "      <td>2.232435e+09</td>\n",
       "      <td>6.77</td>\n",
       "      <td>6.186848e+09</td>\n",
       "      <td>269627392.0</td>\n",
       "      <td>1388544.0</td>\n",
       "      <td>8.31</td>\n",
       "      <td>272842752.0</td>\n",
       "      <td>251629568.0</td>\n",
       "      <td>117.23</td>\n",
       "      <td>6.186848e+09</td>\n",
       "    </tr>\n",
       "  </tbody>\n",
       "</table>\n",
       "<p>1 rows × 21 columns</p>\n",
       "</div>"
      ],
      "text/plain": [
       "                Name Reference name  Iteration  Number samples  \\\n",
       "0  cov-50 assemblies      reference          1              60   \n",
       "\n",
       "   Number features (all)  Number features (no unknown)  Number cores  \\\n",
       "0                   1498                          1421            32   \n",
       "\n",
       "   Reference length  Analysis runtime  Analysis memory (max)  ...  \\\n",
       "0             19699            102.15           2.730770e+09  ...   \n",
       "\n",
       "   Analysis disk uage  Index runtime  Index memory (max)  \\\n",
       "0        2.232435e+09           6.77        6.186848e+09   \n",
       "\n",
       "   Index memory (max/process)  Index size  Tree runtime  Tree memory (max)  \\\n",
       "0                 269627392.0   1388544.0          8.31        272842752.0   \n",
       "\n",
       "   Tree memory (max/process)  Total runtime    Max memory  \n",
       "0                251629568.0         117.23  6.186848e+09  \n",
       "\n",
       "[1 rows x 21 columns]"
      ]
     },
     "execution_count": 11,
     "metadata": {},
     "output_type": "execute_result"
    }
   ],
   "source": [
    "benchmark_df"
   ]
  },
  {
   "cell_type": "code",
   "execution_count": 12,
   "id": "e1a6d962-50bc-4c8d-a6f2-3a661da706b4",
   "metadata": {
    "execution": {
     "iopub.execute_input": "2022-10-19T01:23:18.839945Z",
     "iopub.status.busy": "2022-10-19T01:23:18.839572Z",
     "iopub.status.idle": "2022-10-19T01:23:18.848692Z",
     "shell.execute_reply": "2022-10-19T01:23:18.847118Z"
    },
    "papermill": {
     "duration": 0.021506,
     "end_time": "2022-10-19T01:23:18.852058",
     "exception": false,
     "start_time": "2022-10-19T01:23:18.830552",
     "status": "completed"
    },
    "tags": []
   },
   "outputs": [],
   "source": [
    "index_assemblies_runtime = simulation_dir_path / 'assemblies-index-info.tsv'\n",
    "benchmark_df.to_csv(index_assemblies_runtime, sep='\\t', index=False)"
   ]
  },
  {
   "cell_type": "markdown",
   "id": "29b5daf4-244d-47c9-9a3b-6b0d4a0cdfbf",
   "metadata": {
    "papermill": {
     "duration": 0.008067,
     "end_time": "2022-10-19T01:23:18.872507",
     "exception": false,
     "start_time": "2022-10-19T01:23:18.864440",
     "status": "completed"
    },
    "tags": []
   },
   "source": [
    "## 2.3. Index assembled reads"
   ]
  },
  {
   "cell_type": "code",
   "execution_count": 13,
   "id": "909b2f43-9df1-40cd-bddb-6dc70630cacd",
   "metadata": {
    "execution": {
     "iopub.execute_input": "2022-10-19T01:23:18.885921Z",
     "iopub.status.busy": "2022-10-19T01:23:18.885216Z",
     "iopub.status.idle": "2022-10-19T01:23:22.287622Z",
     "shell.execute_reply": "2022-10-19T01:23:22.285782Z"
    },
    "papermill": {
     "duration": 3.413721,
     "end_time": "2022-10-19T01:23:22.292071",
     "exception": false,
     "start_time": "2022-10-19T01:23:18.878350",
     "status": "completed"
    },
    "tags": []
   },
   "outputs": [
    {
     "name": "stdout",
     "output_type": "stream",
     "text": [
      "\u001b[32m2022-10-18 20:23:21\u001b[0m \u001b[1;30mWARNING:\u001b[0m \u001b[33m--skip-existing-samples is enabled but no --project-dir is set. Will not skip existing samples.\u001b[0m\r\n"
     ]
    }
   ],
   "source": [
    "input_genomes_file = simulation_dir_path / 'input-assemblies-reads.tsv'\n",
    "\n",
    "!gdi input --absolute {assemblies_reads_dir}/*.fasta > {input_genomes_file}"
   ]
  },
  {
   "cell_type": "code",
   "execution_count": 14,
   "id": "9fe0b3db-dc07-4da9-937e-d899648131eb",
   "metadata": {
    "execution": {
     "iopub.execute_input": "2022-10-19T01:23:22.318736Z",
     "iopub.status.busy": "2022-10-19T01:23:22.318145Z",
     "iopub.status.idle": "2022-10-19T01:25:31.022926Z",
     "shell.execute_reply": "2022-10-19T01:25:31.021201Z"
    },
    "papermill": {
     "duration": 128.72039,
     "end_time": "2022-10-19T01:25:31.027172",
     "exception": false,
     "start_time": "2022-10-19T01:23:22.306782",
     "status": "completed"
    },
    "tags": []
   },
   "outputs": [
    {
     "name": "stdout",
     "output_type": "stream",
     "text": [
      "\n",
      "Iteration 1 of index/analysis of 60 samples with 32 cores\n",
      "Removing any extra snakemake directories: ['snakemake-assemblies.1666142484.126415']\n"
     ]
    },
    {
     "name": "stdout",
     "output_type": "stream",
     "text": [
      "Creating new index: [gdi init simulations/cov-50/index-assemblies-reads]\n"
     ]
    },
    {
     "name": "stderr",
     "output_type": "stream",
     "text": [
      "/home/CSCScience.ca/apetkau/miniconda3/envs/gdi-manuscript/lib/python3.8/multiprocessing/popen_fork.py:70: ResourceWarning: Unclosed socket <zmq.Socket(zmq.PUSH) at 0x7fc80ea1c7c0>\n",
      "  self.pid = os.fork()\n",
      "ResourceWarning: Enable tracemalloc to get the object allocation traceback\n"
     ]
    },
    {
     "name": "stderr",
     "output_type": "stream",
     "text": [
      "/home/CSCScience.ca/apetkau/miniconda3/envs/gdi-manuscript/lib/python3.8/multiprocessing/popen_fork.py:70: ResourceWarning: Unclosed socket <zmq.Socket(zmq.PUSH) at 0x7fc80ea1c7c0>\n",
      "  self.pid = os.fork()\n",
      "ResourceWarning: Enable tracemalloc to get the object allocation traceback\n"
     ]
    },
    {
     "name": "stdout",
     "output_type": "stream",
     "text": [
      "Creating a new index took 3.48 seconds\n",
      "Analysis running: [gdi --project-dir simulations/cov-50/index-assemblies-reads --ncores 32 analysis --use-conda --no-load-data --reference-file simulations/reference/reference.fa.gz --kmer-size 31 --kmer-size 51 --kmer-size 71 --include-kmer --reads-mincov 10 --input-structured-genomes-file simulations/cov-50/input-assemblies-reads.tsv]\n"
     ]
    },
    {
     "name": "stderr",
     "output_type": "stream",
     "text": [
      "/home/CSCScience.ca/apetkau/miniconda3/envs/gdi-manuscript/lib/python3.8/multiprocessing/popen_fork.py:70: ResourceWarning: Unclosed socket <zmq.Socket(zmq.PUSH) at 0x7fc80ea1c7c0>\n",
      "  self.pid = os.fork()\n",
      "ResourceWarning: Enable tracemalloc to get the object allocation traceback\n"
     ]
    },
    {
     "name": "stderr",
     "output_type": "stream",
     "text": [
      "/home/CSCScience.ca/apetkau/miniconda3/envs/gdi-manuscript/lib/python3.8/multiprocessing/popen_fork.py:70: ResourceWarning: Unclosed socket <zmq.Socket(zmq.PUSH) at 0x7fc80ea1c7c0>\n",
      "  self.pid = os.fork()\n",
      "ResourceWarning: Enable tracemalloc to get the object allocation traceback\n"
     ]
    },
    {
     "name": "stdout",
     "output_type": "stream",
     "text": [
      "Analysis took 1.78 minutes\n",
      "Index running: [gdi --project-dir simulations/cov-50/index-assemblies-reads --ncores 32 load vcf-kmer --sample-batch-size 2000 --reference-file simulations/reference/reference.fa.gz /home/CSCScience.ca/apetkau/workspace/genomics-data-index-evaluation-manuscript/evaluations/simulation/snakemake-assemblies.1666142610.5915487/gdi-input.fofn]\n"
     ]
    },
    {
     "name": "stderr",
     "output_type": "stream",
     "text": [
      "/home/CSCScience.ca/apetkau/miniconda3/envs/gdi-manuscript/lib/python3.8/multiprocessing/popen_fork.py:70: ResourceWarning: Unclosed socket <zmq.Socket(zmq.PUSH) at 0x7fc80ea1c7c0>\n",
      "  self.pid = os.fork()\n",
      "ResourceWarning: Enable tracemalloc to get the object allocation traceback\n"
     ]
    },
    {
     "name": "stderr",
     "output_type": "stream",
     "text": [
      "/home/CSCScience.ca/apetkau/miniconda3/envs/gdi-manuscript/lib/python3.8/multiprocessing/popen_fork.py:70: ResourceWarning: Unclosed socket <zmq.Socket(zmq.PUSH) at 0x7fc80ea1c7c0>\n",
      "  self.pid = os.fork()\n",
      "ResourceWarning: Enable tracemalloc to get the object allocation traceback\n",
      "Exception during reset or similar\n",
      "Traceback (most recent call last):\n",
      "  File \"/home/CSCScience.ca/apetkau/miniconda3/envs/gdi-manuscript/lib/python3.8/site-packages/sqlalchemy/pool/base.py\", line 753, in _finalize_fairy\n",
      "    fairy._reset(pool)\n",
      "  File \"/home/CSCScience.ca/apetkau/miniconda3/envs/gdi-manuscript/lib/python3.8/site-packages/sqlalchemy/pool/base.py\", line 1004, in _reset\n",
      "    pool._dialect.do_rollback(self)\n",
      "  File \"/home/CSCScience.ca/apetkau/miniconda3/envs/gdi-manuscript/lib/python3.8/site-packages/sqlalchemy/engine/default.py\", line 683, in do_rollback\n",
      "    dbapi_connection.rollback()\n",
      "sqlite3.ProgrammingError: SQLite objects created in a thread can only be used in that same thread. The object was created in thread id 140505814210368 and this is thread id 140505476224768.\n"
     ]
    },
    {
     "name": "stderr",
     "output_type": "stream",
     "text": [
      "Exception closing connection <sqlite3.Connection object at 0x7fc9a6074300>\n",
      "Traceback (most recent call last):\n",
      "  File \"/home/CSCScience.ca/apetkau/miniconda3/envs/gdi-manuscript/lib/python3.8/site-packages/sqlalchemy/pool/base.py\", line 753, in _finalize_fairy\n",
      "    fairy._reset(pool)\n",
      "  File \"/home/CSCScience.ca/apetkau/miniconda3/envs/gdi-manuscript/lib/python3.8/site-packages/sqlalchemy/pool/base.py\", line 1004, in _reset\n",
      "    pool._dialect.do_rollback(self)\n",
      "  File \"/home/CSCScience.ca/apetkau/miniconda3/envs/gdi-manuscript/lib/python3.8/site-packages/sqlalchemy/engine/default.py\", line 683, in do_rollback\n",
      "    dbapi_connection.rollback()\n",
      "sqlite3.ProgrammingError: SQLite objects created in a thread can only be used in that same thread. The object was created in thread id 140505814210368 and this is thread id 140505476224768.\n",
      "\n",
      "During handling of the above exception, another exception occurred:\n",
      "\n",
      "Traceback (most recent call last):\n",
      "  File \"/home/CSCScience.ca/apetkau/miniconda3/envs/gdi-manuscript/lib/python3.8/site-packages/sqlalchemy/pool/base.py\", line 255, in _close_connection\n",
      "    self._dialect.do_terminate(connection)\n",
      "  File \"/home/CSCScience.ca/apetkau/miniconda3/envs/gdi-manuscript/lib/python3.8/site-packages/sqlalchemy/engine/default.py\", line 689, in do_terminate\n",
      "    self.do_close(dbapi_connection)\n",
      "  File \"/home/CSCScience.ca/apetkau/miniconda3/envs/gdi-manuscript/lib/python3.8/site-packages/sqlalchemy/engine/default.py\", line 692, in do_close\n",
      "    dbapi_connection.close()\n",
      "sqlite3.ProgrammingError: SQLite objects created in a thread can only be used in that same thread. The object was created in thread id 140505814210368 and this is thread id 140505476224768.\n"
     ]
    },
    {
     "name": "stderr",
     "output_type": "stream",
     "text": [
      "/home/CSCScience.ca/apetkau/miniconda3/envs/gdi-manuscript/lib/python3.8/multiprocessing/popen_fork.py:70: ResourceWarning: Unclosed socket <zmq.Socket(zmq.PUSH) at 0x7fc80ea1c7c0>\n",
      "  self.pid = os.fork()\n",
      "ResourceWarning: Enable tracemalloc to get the object allocation traceback\n"
     ]
    },
    {
     "name": "stdout",
     "output_type": "stream",
     "text": [
      "Indexing took 0.12 minutes\n",
      "Building tree: [gdi --project-dir simulations/cov-50/index-assemblies-reads --ncores 32 rebuild tree --align-type full --extra-params '--fast -m GTR+F+R4' reference]\n"
     ]
    },
    {
     "name": "stderr",
     "output_type": "stream",
     "text": [
      "/home/CSCScience.ca/apetkau/miniconda3/envs/gdi-manuscript/lib/python3.8/multiprocessing/popen_fork.py:70: ResourceWarning: Unclosed socket <zmq.Socket(zmq.PUSH) at 0x7fc80ea1c7c0>\n",
      "  self.pid = os.fork()\n",
      "ResourceWarning: Enable tracemalloc to get the object allocation traceback\n",
      "Exception during reset or similar\n",
      "Traceback (most recent call last):\n",
      "  File \"/home/CSCScience.ca/apetkau/miniconda3/envs/gdi-manuscript/lib/python3.8/site-packages/sqlalchemy/pool/base.py\", line 753, in _finalize_fairy\n",
      "    fairy._reset(pool)\n",
      "  File \"/home/CSCScience.ca/apetkau/miniconda3/envs/gdi-manuscript/lib/python3.8/site-packages/sqlalchemy/pool/base.py\", line 1004, in _reset\n",
      "    pool._dialect.do_rollback(self)\n",
      "  File \"/home/CSCScience.ca/apetkau/miniconda3/envs/gdi-manuscript/lib/python3.8/site-packages/sqlalchemy/engine/default.py\", line 683, in do_rollback\n",
      "    dbapi_connection.rollback()\n",
      "sqlite3.ProgrammingError: SQLite objects created in a thread can only be used in that same thread. The object was created in thread id 140505814210368 and this is thread id 140505705518848.\n"
     ]
    },
    {
     "name": "stderr",
     "output_type": "stream",
     "text": [
      "Exception closing connection <sqlite3.Connection object at 0x7fc9a6074300>\n",
      "Traceback (most recent call last):\n",
      "  File \"/home/CSCScience.ca/apetkau/miniconda3/envs/gdi-manuscript/lib/python3.8/site-packages/sqlalchemy/pool/base.py\", line 753, in _finalize_fairy\n",
      "    fairy._reset(pool)\n",
      "  File \"/home/CSCScience.ca/apetkau/miniconda3/envs/gdi-manuscript/lib/python3.8/site-packages/sqlalchemy/pool/base.py\", line 1004, in _reset\n",
      "    pool._dialect.do_rollback(self)\n",
      "  File \"/home/CSCScience.ca/apetkau/miniconda3/envs/gdi-manuscript/lib/python3.8/site-packages/sqlalchemy/engine/default.py\", line 683, in do_rollback\n",
      "    dbapi_connection.rollback()\n",
      "sqlite3.ProgrammingError: SQLite objects created in a thread can only be used in that same thread. The object was created in thread id 140505814210368 and this is thread id 140505705518848.\n",
      "\n",
      "During handling of the above exception, another exception occurred:\n",
      "\n",
      "Traceback (most recent call last):\n",
      "  File \"/home/CSCScience.ca/apetkau/miniconda3/envs/gdi-manuscript/lib/python3.8/site-packages/sqlalchemy/pool/base.py\", line 255, in _close_connection\n",
      "    self._dialect.do_terminate(connection)\n",
      "  File \"/home/CSCScience.ca/apetkau/miniconda3/envs/gdi-manuscript/lib/python3.8/site-packages/sqlalchemy/engine/default.py\", line 689, in do_terminate\n",
      "    self.do_close(dbapi_connection)\n",
      "  File \"/home/CSCScience.ca/apetkau/miniconda3/envs/gdi-manuscript/lib/python3.8/site-packages/sqlalchemy/engine/default.py\", line 692, in do_close\n",
      "    dbapi_connection.close()\n",
      "sqlite3.ProgrammingError: SQLite objects created in a thread can only be used in that same thread. The object was created in thread id 140505814210368 and this is thread id 140505705518848.\n"
     ]
    },
    {
     "name": "stderr",
     "output_type": "stream",
     "text": [
      "/home/CSCScience.ca/apetkau/miniconda3/envs/gdi-manuscript/lib/python3.8/multiprocessing/popen_fork.py:70: ResourceWarning: Unclosed socket <zmq.Socket(zmq.PUSH) at 0x7fc80ea1c7c0>\n",
      "  self.pid = os.fork()\n",
      "ResourceWarning: Enable tracemalloc to get the object allocation traceback\n"
     ]
    },
    {
     "name": "stderr",
     "output_type": "stream",
     "text": [
      "/home/CSCScience.ca/apetkau/miniconda3/envs/gdi-manuscript/lib/python3.8/multiprocessing/popen_fork.py:70: ResourceWarning: Unclosed socket <zmq.Socket(zmq.PUSH) at 0x7fc80ea1c7c0>\n",
      "  self.pid = os.fork()\n",
      "ResourceWarning: Enable tracemalloc to get the object allocation traceback\n"
     ]
    },
    {
     "name": "stdout",
     "output_type": "stream",
     "text": [
      "Building tree took 0.16 minutes\n"
     ]
    },
    {
     "name": "stderr",
     "output_type": "stream",
     "text": [
      "Attempting to set global database_path_translator=<genomics_data_index.storage.model.db.DatabasePathTranslator.DatabasePathTranslator object at 0x7fc98c8a9bb0> but it is already set\n"
     ]
    },
    {
     "name": "stderr",
     "output_type": "stream",
     "text": [
      "A reminder to myself to look for a Python solution for directory sizes (instead of running `du`)\n"
     ]
    }
   ],
   "source": [
    "results_handler = gdi_benchmark.BenchmarkResultsHandler(name=f'{case_name} assemblies')\n",
    "benchmarker = gdi_benchmark.IndexBenchmarker(benchmark_results_handler=results_handler,\n",
    "                                             index_path=index_assemblies_reads_path, input_files_file=input_genomes_file,\n",
    "                                             reference_file=reference_file, mincov=mincov, build_tree=True,\n",
    "                                             ncores=ncores)\n",
    "\n",
    "benchmark_df = benchmarker.benchmark(iterations=iterations)"
   ]
  },
  {
   "cell_type": "code",
   "execution_count": 15,
   "id": "120761a0-c80b-4868-bec6-654fecbc76f8",
   "metadata": {
    "execution": {
     "iopub.execute_input": "2022-10-19T01:25:31.052833Z",
     "iopub.status.busy": "2022-10-19T01:25:31.052243Z",
     "iopub.status.idle": "2022-10-19T01:25:31.095953Z",
     "shell.execute_reply": "2022-10-19T01:25:31.094148Z"
    },
    "papermill": {
     "duration": 0.05856,
     "end_time": "2022-10-19T01:25:31.099663",
     "exception": false,
     "start_time": "2022-10-19T01:25:31.041103",
     "status": "completed"
    },
    "tags": []
   },
   "outputs": [
    {
     "data": {
      "text/html": [
       "<div>\n",
       "<style scoped>\n",
       "    .dataframe tbody tr th:only-of-type {\n",
       "        vertical-align: middle;\n",
       "    }\n",
       "\n",
       "    .dataframe tbody tr th {\n",
       "        vertical-align: top;\n",
       "    }\n",
       "\n",
       "    .dataframe thead th {\n",
       "        text-align: right;\n",
       "    }\n",
       "</style>\n",
       "<table border=\"1\" class=\"dataframe\">\n",
       "  <thead>\n",
       "    <tr style=\"text-align: right;\">\n",
       "      <th></th>\n",
       "      <th>Name</th>\n",
       "      <th>Reference name</th>\n",
       "      <th>Iteration</th>\n",
       "      <th>Number samples</th>\n",
       "      <th>Number features (all)</th>\n",
       "      <th>Number features (no unknown)</th>\n",
       "      <th>Number cores</th>\n",
       "      <th>Reference length</th>\n",
       "      <th>Analysis runtime</th>\n",
       "      <th>Analysis memory (max)</th>\n",
       "      <th>...</th>\n",
       "      <th>Analysis disk uage</th>\n",
       "      <th>Index runtime</th>\n",
       "      <th>Index memory (max)</th>\n",
       "      <th>Index memory (max/process)</th>\n",
       "      <th>Index size</th>\n",
       "      <th>Tree runtime</th>\n",
       "      <th>Tree memory (max)</th>\n",
       "      <th>Tree memory (max/process)</th>\n",
       "      <th>Total runtime</th>\n",
       "      <th>Max memory</th>\n",
       "    </tr>\n",
       "  </thead>\n",
       "  <tbody>\n",
       "    <tr>\n",
       "      <th>0</th>\n",
       "      <td>cov-50 assemblies</td>\n",
       "      <td>reference</td>\n",
       "      <td>1</td>\n",
       "      <td>60</td>\n",
       "      <td>1939</td>\n",
       "      <td>1409</td>\n",
       "      <td>32</td>\n",
       "      <td>19699</td>\n",
       "      <td>106.37</td>\n",
       "      <td>2.582856e+09</td>\n",
       "      <td>...</td>\n",
       "      <td>2.232234e+09</td>\n",
       "      <td>7.08</td>\n",
       "      <td>6.197158e+09</td>\n",
       "      <td>286154752.0</td>\n",
       "      <td>1441792.0</td>\n",
       "      <td>9.58</td>\n",
       "      <td>279449600.0</td>\n",
       "      <td>251502592.0</td>\n",
       "      <td>123.03</td>\n",
       "      <td>6.197158e+09</td>\n",
       "    </tr>\n",
       "  </tbody>\n",
       "</table>\n",
       "<p>1 rows × 21 columns</p>\n",
       "</div>"
      ],
      "text/plain": [
       "                Name Reference name  Iteration  Number samples  \\\n",
       "0  cov-50 assemblies      reference          1              60   \n",
       "\n",
       "   Number features (all)  Number features (no unknown)  Number cores  \\\n",
       "0                   1939                          1409            32   \n",
       "\n",
       "   Reference length  Analysis runtime  Analysis memory (max)  ...  \\\n",
       "0             19699            106.37           2.582856e+09  ...   \n",
       "\n",
       "   Analysis disk uage  Index runtime  Index memory (max)  \\\n",
       "0        2.232234e+09           7.08        6.197158e+09   \n",
       "\n",
       "   Index memory (max/process)  Index size  Tree runtime  Tree memory (max)  \\\n",
       "0                 286154752.0   1441792.0          9.58        279449600.0   \n",
       "\n",
       "   Tree memory (max/process)  Total runtime    Max memory  \n",
       "0                251502592.0         123.03  6.197158e+09  \n",
       "\n",
       "[1 rows x 21 columns]"
      ]
     },
     "execution_count": 15,
     "metadata": {},
     "output_type": "execute_result"
    }
   ],
   "source": [
    "benchmark_df"
   ]
  },
  {
   "cell_type": "code",
   "execution_count": 16,
   "id": "98442c2b-0156-4eb3-a764-84ce3c80b49f",
   "metadata": {
    "execution": {
     "iopub.execute_input": "2022-10-19T01:25:31.125386Z",
     "iopub.status.busy": "2022-10-19T01:25:31.124976Z",
     "iopub.status.idle": "2022-10-19T01:25:31.136630Z",
     "shell.execute_reply": "2022-10-19T01:25:31.135045Z"
    },
    "papermill": {
     "duration": 0.026047,
     "end_time": "2022-10-19T01:25:31.140442",
     "exception": false,
     "start_time": "2022-10-19T01:25:31.114395",
     "status": "completed"
    },
    "tags": []
   },
   "outputs": [],
   "source": [
    "index_assemblies_reads_runtime = simulation_dir_path / 'assemblies-reads-index-info.tsv'\n",
    "benchmark_df.to_csv(index_assemblies_reads_runtime, sep='\\t', index=False)"
   ]
  },
  {
   "cell_type": "markdown",
   "id": "6cb7673b-9f85-4c43-b2e2-93538497a196",
   "metadata": {
    "papermill": {
     "duration": 0.009957,
     "end_time": "2022-10-19T01:25:31.166331",
     "exception": false,
     "start_time": "2022-10-19T01:25:31.156374",
     "status": "completed"
    },
    "tags": []
   },
   "source": [
    "# 3. Export trees"
   ]
  },
  {
   "cell_type": "code",
   "execution_count": 17,
   "id": "5280f82c-5434-4391-8c44-b937a7c95bd5",
   "metadata": {
    "execution": {
     "iopub.execute_input": "2022-10-19T01:25:31.181832Z",
     "iopub.status.busy": "2022-10-19T01:25:31.181128Z",
     "iopub.status.idle": "2022-10-19T01:25:41.136956Z",
     "shell.execute_reply": "2022-10-19T01:25:41.134954Z"
    },
    "papermill": {
     "duration": 9.96742,
     "end_time": "2022-10-19T01:25:41.140785",
     "exception": false,
     "start_time": "2022-10-19T01:25:31.173365",
     "status": "completed"
    },
    "tags": []
   },
   "outputs": [
    {
     "name": "stdout",
     "output_type": "stream",
     "text": [
      "Wrote assemblies tree to simulations/cov-50/index-assemblies/assemblies.tre\n"
     ]
    },
    {
     "name": "stdout",
     "output_type": "stream",
     "text": [
      "Wrote assemblies tree to simulations/cov-50/index-reads/reads.tre\n"
     ]
    },
    {
     "name": "stdout",
     "output_type": "stream",
     "text": [
      "Wrote assemblies tree to simulations/cov-50/index-assemblies-reads/assemblies-reads.tre\n"
     ]
    }
   ],
   "source": [
    "!gdi --project-dir {index_assemblies_path} export tree {reference_name} > {output_assemblies_tree}\n",
    "print(f'Wrote assemblies tree to {output_assemblies_tree}')\n",
    "\n",
    "!gdi --project-dir {index_reads_path} export tree {reference_name} > {output_reads_tree}\n",
    "print(f'Wrote assemblies tree to {output_reads_tree}')\n",
    "\n",
    "!gdi --project-dir {index_assemblies_reads_path} export tree {reference_name} > {output_assemblies_reads_tree}\n",
    "print(f'Wrote assemblies tree to {output_assemblies_reads_tree}')"
   ]
  }
 ],
 "metadata": {
  "kernelspec": {
   "display_name": "Python 3 (ipykernel)",
   "language": "python",
   "name": "python3"
  },
  "language_info": {
   "codemirror_mode": {
    "name": "ipython",
    "version": 3
   },
   "file_extension": ".py",
   "mimetype": "text/x-python",
   "name": "python",
   "nbconvert_exporter": "python",
   "pygments_lexer": "ipython3",
   "version": "3.8.13"
  },
  "papermill": {
   "default_parameters": {},
   "duration": 421.067379,
   "end_time": "2022-10-19T01:25:41.782565",
   "environment_variables": {},
   "exception": null,
   "input_path": "template-3-index-genomes.ipynb",
   "output_path": "3-index-genomes.simulation-cov-50.ipynb",
   "parameters": {
    "iterations": 1,
    "mincov": 10,
    "read_coverage": 50,
    "simulation_dir": "simulations/cov-50",
    "sub_alpha": 0.2
   },
   "start_time": "2022-10-19T01:18:40.715186",
   "version": "2.3.4"
  }
 },
 "nbformat": 4,
 "nbformat_minor": 5
}