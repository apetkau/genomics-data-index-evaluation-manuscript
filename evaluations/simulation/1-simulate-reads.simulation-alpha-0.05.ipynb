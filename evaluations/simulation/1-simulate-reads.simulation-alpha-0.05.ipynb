{
 "cells": [
  {
   "cell_type": "markdown",
   "id": "39afc998-7d9f-4d4e-9147-fb6198f83f2d",
   "metadata": {
    "papermill": {
     "duration": 0.006953,
     "end_time": "2022-09-29T18:33:09.467967",
     "exception": false,
     "start_time": "2022-09-29T18:33:09.461014",
     "status": "completed"
    },
    "tags": []
   },
   "source": [
    "# 1. Parameters"
   ]
  },
  {
   "cell_type": "code",
   "execution_count": 1,
   "id": "8eee723b-55a2-4355-b867-c5e682a9f800",
   "metadata": {
    "execution": {
     "iopub.execute_input": "2022-09-29T18:33:09.488539Z",
     "iopub.status.busy": "2022-09-29T18:33:09.481624Z",
     "iopub.status.idle": "2022-09-29T18:33:09.557748Z",
     "shell.execute_reply": "2022-09-29T18:33:09.555964Z"
    },
    "papermill": {
     "duration": 0.087739,
     "end_time": "2022-09-29T18:33:09.561354",
     "exception": false,
     "start_time": "2022-09-29T18:33:09.473615",
     "status": "completed"
    },
    "tags": [
     "parameters"
    ]
   },
   "outputs": [],
   "source": [
    "# Defaults\n",
    "\n",
    "## Random seed\n",
    "random_seed <- 25524\n",
    "\n",
    "## Directories\n",
    "simulation_dir <- \"simulations/unset\"\n",
    "reference_file <- \"simulations/reference/reference.fa.gz\"\n",
    "initial_tree_file <- \"input/salmonella.tre\"\n",
    "\n",
    "## Simulation parameters\n",
    "sub_lambda <- 1e-2\n",
    "sub_pi_tcag <- c(0.1, 0.2, 0.3, 0.4)\n",
    "sub_alpha <- 0.2\n",
    "sub_beta <- sub_alpha/2\n",
    "sub_mu <- 1\n",
    "sub_invariant <- 0.3\n",
    "ins_rate <- 1e-4\n",
    "ins_max_length <- 60\n",
    "ins_a <- 1.6\n",
    "del_rate <- 1e-4\n",
    "del_max_length <- 60\n",
    "del_a <- 1.6\n",
    "\n",
    "## Read simulation information\n",
    "read_coverage <- 30\n",
    "read_length <- 250\n",
    "\n",
    "## Other\n",
    "ncores <- 48"
   ]
  },
  {
   "cell_type": "code",
   "execution_count": 2,
   "id": "4da36568",
   "metadata": {
    "execution": {
     "iopub.execute_input": "2022-09-29T18:33:09.611660Z",
     "iopub.status.busy": "2022-09-29T18:33:09.572932Z",
     "iopub.status.idle": "2022-09-29T18:33:09.626121Z",
     "shell.execute_reply": "2022-09-29T18:33:09.624878Z"
    },
    "papermill": {
     "duration": 0.062268,
     "end_time": "2022-09-29T18:33:09.629201",
     "exception": false,
     "start_time": "2022-09-29T18:33:09.566933",
     "status": "completed"
    },
    "tags": [
     "injected-parameters"
    ]
   },
   "outputs": [],
   "source": [
    "# Parameters\n",
    "read_coverage = 30\n",
    "mincov = 10\n",
    "simulation_dir = \"simulations/alpha-0.05-cov-30\"\n",
    "iterations = 3\n",
    "sub_alpha = 0.05\n"
   ]
  },
  {
   "cell_type": "code",
   "execution_count": 3,
   "id": "845350c4-9369-4350-bcce-504d05f5ff55",
   "metadata": {
    "execution": {
     "iopub.execute_input": "2022-09-29T18:33:09.642367Z",
     "iopub.status.busy": "2022-09-29T18:33:09.641096Z",
     "iopub.status.idle": "2022-09-29T18:33:09.661378Z",
     "shell.execute_reply": "2022-09-29T18:33:09.660085Z"
    },
    "papermill": {
     "duration": 0.029434,
     "end_time": "2022-09-29T18:33:09.664183",
     "exception": false,
     "start_time": "2022-09-29T18:33:09.634749",
     "status": "completed"
    },
    "tags": []
   },
   "outputs": [
    {
     "name": "stdout",
     "output_type": "stream",
     "text": [
      "[1] \"simulations/alpha-0.05-cov-30/simulated_data\"\n"
     ]
    },
    {
     "name": "stdout",
     "output_type": "stream",
     "text": [
      "[1] \"simulations/alpha-0.05-cov-30/simulated_data/haplotypes\"\n"
     ]
    }
   ],
   "source": [
    "output_dir <- file.path(simulation_dir, \"simulated_data\")\n",
    "output_vcf_prefix <- file.path(output_dir, \"haplotypes\")\n",
    "reads_data_initial_prefix <- file.path(output_dir, \"reads_initial\", \"data\")\n",
    "set.seed(random_seed)\n",
    "print(output_dir)\n",
    "print(output_vcf_prefix)"
   ]
  },
  {
   "cell_type": "markdown",
   "id": "noticed-coating",
   "metadata": {
    "papermill": {
     "duration": 0.00349,
     "end_time": "2022-09-29T18:33:09.672773",
     "exception": false,
     "start_time": "2022-09-29T18:33:09.669283",
     "status": "completed"
    },
    "tags": []
   },
   "source": [
    "# 2. Generate simulated data\n",
    "\n",
    "This simulates *Salmonella* data using a reference genome and a tree."
   ]
  },
  {
   "cell_type": "code",
   "execution_count": 4,
   "id": "bright-polymer",
   "metadata": {
    "execution": {
     "iopub.execute_input": "2022-09-29T18:33:09.682387Z",
     "iopub.status.busy": "2022-09-29T18:33:09.680786Z",
     "iopub.status.idle": "2022-09-29T18:33:09.786044Z",
     "shell.execute_reply": "2022-09-29T18:33:09.784584Z"
    },
    "papermill": {
     "duration": 0.112126,
     "end_time": "2022-09-29T18:33:09.788495",
     "exception": false,
     "start_time": "2022-09-29T18:33:09.676369",
     "status": "completed"
    },
    "tags": []
   },
   "outputs": [
    {
     "data": {
      "text/html": [
       "TRUE"
      ],
      "text/latex": [
       "TRUE"
      ],
      "text/markdown": [
       "TRUE"
      ],
      "text/plain": [
       "[1] TRUE"
      ]
     },
     "metadata": {},
     "output_type": "display_data"
    }
   ],
   "source": [
    "library(jackalope)\n",
    "\n",
    "# Make sure we've complied with openmp\n",
    "jackalope:::using_openmp()"
   ]
  },
  {
   "cell_type": "code",
   "execution_count": 5,
   "id": "303635b1-41dc-4917-8e90-30832a9acafd",
   "metadata": {
    "execution": {
     "iopub.execute_input": "2022-09-29T18:33:09.802977Z",
     "iopub.status.busy": "2022-09-29T18:33:09.801702Z",
     "iopub.status.idle": "2022-09-29T18:33:09.837806Z",
     "shell.execute_reply": "2022-09-29T18:33:09.835913Z"
    },
    "papermill": {
     "duration": 0.045858,
     "end_time": "2022-09-29T18:33:09.840718",
     "exception": false,
     "start_time": "2022-09-29T18:33:09.794860",
     "status": "completed"
    },
    "tags": []
   },
   "outputs": [
    {
     "data": {
      "text/plain": [
       "< Set of 2 chromosomes >\n",
       "# Total size: 19,699 bp\n",
       "  name                             chromosome                             length\n",
       "chrom0     GTATTGCGAGGGTGGGGGAGTACGGCAG...CAAGAATGCAACCGACTCTGTCGGGACT     10834\n",
       "chrom1     CACCTCGAGCAGATCCTAGTTTGCGCGA...TGCGAATTTATCGCCTAATCCAATGTTA      8865"
      ]
     },
     "metadata": {},
     "output_type": "display_data"
    }
   ],
   "source": [
    "reference <- read_fasta(reference_file)\n",
    "reference_len <- sum(reference$sizes())\n",
    "reference"
   ]
  },
  {
   "cell_type": "code",
   "execution_count": 6,
   "id": "documented-helmet",
   "metadata": {
    "execution": {
     "iopub.execute_input": "2022-09-29T18:33:09.857309Z",
     "iopub.status.busy": "2022-09-29T18:33:09.855602Z",
     "iopub.status.idle": "2022-09-29T18:33:09.963523Z",
     "shell.execute_reply": "2022-09-29T18:33:09.962070Z"
    },
    "papermill": {
     "duration": 0.117623,
     "end_time": "2022-09-29T18:33:09.966630",
     "exception": false,
     "start_time": "2022-09-29T18:33:09.849007",
     "status": "completed"
    },
    "tags": []
   },
   "outputs": [
    {
     "data": {
      "text/plain": [
       "\n",
       "Phylogenetic tree with 60 tips and 59 internal nodes.\n",
       "\n",
       "Tip labels:\n",
       "  reference, SH12-013, SH12-014, SH10-015, SH10-014, SH11-002, ...\n",
       "Node labels:\n",
       "  Root, 1.000000, 0.000000, 0.000000, 1.000000, 0.000000, ...\n",
       "\n",
       "Rooted; includes branch lengths."
      ]
     },
     "metadata": {},
     "output_type": "display_data"
    }
   ],
   "source": [
    "library(ape)\n",
    "\n",
    "tree <- read.tree(initial_tree_file)\n",
    "tree <- root(tree, \"reference\", resolve.root=TRUE)\n",
    "tree"
   ]
  },
  {
   "cell_type": "code",
   "execution_count": 7,
   "id": "proved-silver",
   "metadata": {
    "execution": {
     "iopub.execute_input": "2022-09-29T18:33:09.992658Z",
     "iopub.status.busy": "2022-09-29T18:33:09.991175Z",
     "iopub.status.idle": "2022-09-29T18:33:10.114814Z",
     "shell.execute_reply": "2022-09-29T18:33:10.113543Z"
    },
    "papermill": {
     "duration": 0.145242,
     "end_time": "2022-09-29T18:33:10.118124",
     "exception": false,
     "start_time": "2022-09-29T18:33:09.972882",
     "status": "completed"
    },
    "tags": []
   },
   "outputs": [
    {
     "data": {
      "text/plain": [
       "                              << haplotypes object >>\n",
       "# Haplotypes: 60\n",
       "# Mutations: 10,629\n",
       "\n",
       "                          << Reference genome info: >>\n",
       "< Set of 2 chromosomes >\n",
       "# Total size: 19,699 bp\n",
       "  name                             chromosome                             length\n",
       "chrom0     GTATTGCGAGGGTGGGGGAGTACGGCAG...CAAGAATGCAACCGACTCTGTCGGGACT     10834\n",
       "chrom1     CACCTCGAGCAGATCCTAGTTTGCGCGA...TGCGAATTTATCGCCTAATCCAATGTTA      8865"
      ]
     },
     "metadata": {},
     "output_type": "display_data"
    }
   ],
   "source": [
    "sub <- sub_HKY85(pi_tcag = sub_pi_tcag, mu = sub_mu,\n",
    "                 alpha = sub_alpha, beta = sub_beta, gamma_shape=1, gamma_k = 5,\n",
    "                 invariant = sub_invariant)\n",
    "ins <- indels(rate = ins_rate, max_length = ins_max_length, a = ins_a)\n",
    "del <- indels(rate = del_rate, max_length = del_max_length, a = del_a)\n",
    "\n",
    "ref_haplotypes <- create_haplotypes(reference, haps_phylo(tree), sub=sub, ins=ins, del=del)\n",
    "ref_haplotypes"
   ]
  },
  {
   "cell_type": "markdown",
   "id": "535fa02d-c76c-4067-9582-74f3694d16ea",
   "metadata": {
    "papermill": {
     "duration": 0.005697,
     "end_time": "2022-09-29T18:33:10.130338",
     "exception": false,
     "start_time": "2022-09-29T18:33:10.124641",
     "status": "completed"
    },
    "tags": []
   },
   "source": [
    "# 3. Write simulated data"
   ]
  },
  {
   "cell_type": "code",
   "execution_count": 8,
   "id": "smoking-geology",
   "metadata": {
    "execution": {
     "iopub.execute_input": "2022-09-29T18:33:10.141714Z",
     "iopub.status.busy": "2022-09-29T18:33:10.140146Z",
     "iopub.status.idle": "2022-09-29T18:33:10.169826Z",
     "shell.execute_reply": "2022-09-29T18:33:10.168589Z"
    },
    "papermill": {
     "duration": 0.037615,
     "end_time": "2022-09-29T18:33:10.172386",
     "exception": false,
     "start_time": "2022-09-29T18:33:10.134771",
     "status": "completed"
    },
    "tags": []
   },
   "outputs": [],
   "source": [
    "write_vcf(ref_haplotypes, out_prefix=output_vcf_prefix, compress=TRUE)"
   ]
  },
  {
   "cell_type": "code",
   "execution_count": 9,
   "id": "d2657fc5-481e-4b24-bbf8-78c02ee735ce",
   "metadata": {
    "execution": {
     "iopub.execute_input": "2022-09-29T18:33:10.187227Z",
     "iopub.status.busy": "2022-09-29T18:33:10.185965Z",
     "iopub.status.idle": "2022-09-29T18:33:10.279773Z",
     "shell.execute_reply": "2022-09-29T18:33:10.276836Z"
    },
    "papermill": {
     "duration": 0.103606,
     "end_time": "2022-09-29T18:33:10.282958",
     "exception": false,
     "start_time": "2022-09-29T18:33:10.179352",
     "status": "completed"
    },
    "tags": []
   },
   "outputs": [],
   "source": [
    "assemblies_prefix = file.path(output_dir, \"assemblies\", \"data\")\n",
    "\n",
    "write_fasta(ref_haplotypes, out_prefix=assemblies_prefix,\n",
    "            compress=TRUE, n_threads=ncores, overwrite=TRUE)"
   ]
  },
  {
   "cell_type": "code",
   "execution_count": 10,
   "id": "continent-freeze",
   "metadata": {
    "execution": {
     "iopub.execute_input": "2022-09-29T18:33:10.294158Z",
     "iopub.status.busy": "2022-09-29T18:33:10.292947Z",
     "iopub.status.idle": "2022-09-29T18:38:22.234651Z",
     "shell.execute_reply": "2022-09-29T18:38:22.231824Z"
    },
    "papermill": {
     "duration": 311.952378,
     "end_time": "2022-09-29T18:38:22.239982",
     "exception": false,
     "start_time": "2022-09-29T18:33:10.287604",
     "status": "completed"
    },
    "tags": []
   },
   "outputs": [
    {
     "name": "stdout",
     "output_type": "stream",
     "text": [
      "[1] \"Number of reads for coverage 30X and read length 250 over 60 samples with respect to reference with length 19699: 141833\"\n"
     ]
    }
   ],
   "source": [
    "n_samples <- length(tree$tip)\n",
    "n_reads <- round((reference_len * read_coverage * n_samples) / read_length)\n",
    "print(sprintf(\"Number of reads for coverage %sX and read length %s over %s samples with respect to reference with length %s: %s\", \n",
    "              read_coverage, read_length, n_samples, reference_len, n_reads))\n",
    "\n",
    "illumina(ref_haplotypes, out_prefix = reads_data_initial_prefix, sep_files=TRUE, n_reads = n_reads,\n",
    "         frag_mean = read_length * 2 + 50, frag_sd = 100,\n",
    "         compress=TRUE, comp_method=\"bgzip\", n_threads=ncores,\n",
    "         paired=TRUE, read_length = read_length)"
   ]
  }
 ],
 "metadata": {
  "kernelspec": {
   "display_name": "R",
   "language": "R",
   "name": "ir"
  },
  "language_info": {
   "codemirror_mode": "r",
   "file_extension": ".r",
   "mimetype": "text/x-r-source",
   "name": "R",
   "pygments_lexer": "r",
   "version": "4.1.3"
  },
  "papermill": {
   "default_parameters": {},
   "duration": 314.874836,
   "end_time": "2022-09-29T18:38:22.793066",
   "environment_variables": {},
   "exception": null,
   "input_path": "template-1-simulate-reads.ipynb",
   "output_path": "1-simulate-reads.simulation-alpha-0.05.ipynb",
   "parameters": {
    "iterations": 3,
    "mincov": 10,
    "read_coverage": 30,
    "simulation_dir": "simulations/alpha-0.05-cov-30",
    "sub_alpha": 0.05
   },
   "start_time": "2022-09-29T18:33:07.918230",
   "version": "2.3.4"
  }
 },
 "nbformat": 4,
 "nbformat_minor": 5
}