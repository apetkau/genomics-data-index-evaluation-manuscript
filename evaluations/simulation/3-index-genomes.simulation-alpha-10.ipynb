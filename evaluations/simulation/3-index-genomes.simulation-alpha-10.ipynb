{
 "cells": [
  {
   "cell_type": "markdown",
   "id": "7d3667b4-b1f8-4347-96e3-830c25b06740",
   "metadata": {
    "papermill": {
     "duration": 0.010253,
     "end_time": "2022-10-19T00:17:45.894412",
     "exception": false,
     "start_time": "2022-10-19T00:17:45.884159",
     "status": "completed"
    },
    "tags": []
   },
   "source": [
    "# 1. Parameters"
   ]
  },
  {
   "cell_type": "code",
   "execution_count": 1,
   "id": "d4ab0749-b286-4c34-b63c-a854e4952bae",
   "metadata": {
    "execution": {
     "iopub.execute_input": "2022-10-19T00:17:45.908405Z",
     "iopub.status.busy": "2022-10-19T00:17:45.907667Z",
     "iopub.status.idle": "2022-10-19T00:17:45.924954Z",
     "shell.execute_reply": "2022-10-19T00:17:45.923533Z"
    },
    "papermill": {
     "duration": 0.028229,
     "end_time": "2022-10-19T00:17:45.928756",
     "exception": false,
     "start_time": "2022-10-19T00:17:45.900527",
     "status": "completed"
    },
    "tags": [
     "parameters"
    ]
   },
   "outputs": [],
   "source": [
    "# Defaults\n",
    "simulation_dir = 'simulations/unset'\n",
    "reference_file = 'simulations/reference/reference.fa.gz'\n",
    "iterations = 1\n",
    "mincov = 10\n",
    "ncores = 32"
   ]
  },
  {
   "cell_type": "code",
   "execution_count": 2,
   "id": "a10a3f5c",
   "metadata": {
    "execution": {
     "iopub.execute_input": "2022-10-19T00:17:45.944310Z",
     "iopub.status.busy": "2022-10-19T00:17:45.943772Z",
     "iopub.status.idle": "2022-10-19T00:17:45.950585Z",
     "shell.execute_reply": "2022-10-19T00:17:45.949177Z"
    },
    "papermill": {
     "duration": 0.016467,
     "end_time": "2022-10-19T00:17:45.953338",
     "exception": false,
     "start_time": "2022-10-19T00:17:45.936871",
     "status": "completed"
    },
    "tags": [
     "injected-parameters"
    ]
   },
   "outputs": [],
   "source": [
    "# Parameters\n",
    "read_coverage = 30\n",
    "mincov = 10\n",
    "simulation_dir = \"simulations/alpha-10-cov-30\"\n",
    "iterations = 1\n",
    "sub_alpha = 10\n"
   ]
  },
  {
   "cell_type": "code",
   "execution_count": 3,
   "id": "ce5962e4-261c-4210-b39b-47044e28466b",
   "metadata": {
    "execution": {
     "iopub.execute_input": "2022-10-19T00:17:45.965416Z",
     "iopub.status.busy": "2022-10-19T00:17:45.964767Z",
     "iopub.status.idle": "2022-10-19T00:17:48.788896Z",
     "shell.execute_reply": "2022-10-19T00:17:48.788077Z"
    },
    "papermill": {
     "duration": 2.834514,
     "end_time": "2022-10-19T00:17:48.792865",
     "exception": false,
     "start_time": "2022-10-19T00:17:45.958351",
     "status": "completed"
    },
    "tags": []
   },
   "outputs": [
    {
     "name": "stderr",
     "output_type": "stream",
     "text": [
      "/tmp/ipykernel_46868/3212986174.py:2: DeprecationWarning: the imp module is deprecated in favour of importlib; see the module's documentation for alternative uses\n",
      "  import imp\n"
     ]
    }
   ],
   "source": [
    "from pathlib import Path\n",
    "import imp\n",
    "fp, pathname, description = imp.find_module('gdi_benchmark', ['../../lib'])\n",
    "gdi_benchmark = imp.load_module('gdi_benchmark', fp, pathname, description)\n",
    "\n",
    "simulation_dir_path = Path(simulation_dir)\n",
    "\n",
    "case_name = str(simulation_dir_path.name)\n",
    "reads_dir = simulation_dir_path / 'simulated_data' / 'reads'\n",
    "assemblies_dir = simulation_dir_path / 'simulated_data' / 'assemblies'\n",
    "assemblies_reads_dir = simulation_dir_path / 'simulated_data' / 'assembled_reads'\n",
    "index_reads_path = simulation_dir_path / 'index-reads'\n",
    "index_assemblies_path = simulation_dir_path / 'index-assemblies'\n",
    "index_assemblies_reads_path = simulation_dir_path / 'index-assemblies-reads'\n",
    "output_reads_tree = index_reads_path / 'reads.tre'\n",
    "output_assemblies_tree = index_assemblies_path / 'assemblies.tre'\n",
    "output_assemblies_reads_tree = index_assemblies_reads_path / 'assemblies-reads.tre'\n",
    "reference_name = Path(reference_file).name.split('.')[0]"
   ]
  },
  {
   "cell_type": "markdown",
   "id": "f208279e-7558-47fc-9362-da29df92828a",
   "metadata": {
    "papermill": {
     "duration": 0.006522,
     "end_time": "2022-10-19T00:17:48.808311",
     "exception": false,
     "start_time": "2022-10-19T00:17:48.801789",
     "status": "completed"
    },
    "tags": []
   },
   "source": [
    "# 2. Index genomes"
   ]
  },
  {
   "cell_type": "code",
   "execution_count": 4,
   "id": "4e936f7c-2fcd-4188-b0e6-6b3ceb5cdcd2",
   "metadata": {
    "execution": {
     "iopub.execute_input": "2022-10-19T00:17:48.820063Z",
     "iopub.status.busy": "2022-10-19T00:17:48.819289Z",
     "iopub.status.idle": "2022-10-19T00:17:52.094295Z",
     "shell.execute_reply": "2022-10-19T00:17:52.092339Z"
    },
    "papermill": {
     "duration": 3.284715,
     "end_time": "2022-10-19T00:17:52.098078",
     "exception": false,
     "start_time": "2022-10-19T00:17:48.813363",
     "status": "completed"
    },
    "tags": []
   },
   "outputs": [
    {
     "name": "stdout",
     "output_type": "stream",
     "text": [
      "gdi, version 0.8.1\r\n"
     ]
    }
   ],
   "source": [
    "!gdi --version"
   ]
  },
  {
   "cell_type": "markdown",
   "id": "5409ecf8-2158-4361-9d2f-6b1a6c7c63a6",
   "metadata": {
    "papermill": {
     "duration": 0.006096,
     "end_time": "2022-10-19T00:17:52.112714",
     "exception": false,
     "start_time": "2022-10-19T00:17:52.106618",
     "status": "completed"
    },
    "tags": []
   },
   "source": [
    "## 2.1. Index reads"
   ]
  },
  {
   "cell_type": "code",
   "execution_count": 5,
   "id": "b5324f79-913b-4dac-8122-19ad5c0f24b2",
   "metadata": {
    "execution": {
     "iopub.execute_input": "2022-10-19T00:17:52.124681Z",
     "iopub.status.busy": "2022-10-19T00:17:52.124078Z",
     "iopub.status.idle": "2022-10-19T00:17:55.411742Z",
     "shell.execute_reply": "2022-10-19T00:17:55.409784Z"
    },
    "papermill": {
     "duration": 3.297428,
     "end_time": "2022-10-19T00:17:55.415472",
     "exception": false,
     "start_time": "2022-10-19T00:17:52.118044",
     "status": "completed"
    },
    "tags": []
   },
   "outputs": [
    {
     "name": "stdout",
     "output_type": "stream",
     "text": [
      "\u001b[32m2022-10-18 19:17:54\u001b[0m \u001b[1;30mWARNING:\u001b[0m \u001b[33m--skip-existing-samples is enabled but no --project-dir is set. Will not skip existing samples.\u001b[0m\r\n"
     ]
    }
   ],
   "source": [
    "input_genomes_file = simulation_dir_path / 'input-reads.tsv'\n",
    "\n",
    "!gdi input --absolute {reads_dir}/*.fq.gz > {input_genomes_file}"
   ]
  },
  {
   "cell_type": "code",
   "execution_count": 6,
   "id": "3d63e861-733e-46f2-8bce-bd1a2c7c7058",
   "metadata": {
    "execution": {
     "iopub.execute_input": "2022-10-19T00:17:55.434217Z",
     "iopub.status.busy": "2022-10-19T00:17:55.433617Z",
     "iopub.status.idle": "2022-10-19T00:20:35.231566Z",
     "shell.execute_reply": "2022-10-19T00:20:35.229892Z"
    },
    "papermill": {
     "duration": 159.812329,
     "end_time": "2022-10-19T00:20:35.236340",
     "exception": false,
     "start_time": "2022-10-19T00:17:55.424011",
     "status": "completed"
    },
    "tags": []
   },
   "outputs": [
    {
     "name": "stdout",
     "output_type": "stream",
     "text": [
      "\n",
      "Iteration 1 of index/analysis of 60 samples with 32 cores\n",
      "Removing any extra snakemake directories: ['snakemake-assemblies.1666138527.4585147']\n"
     ]
    },
    {
     "name": "stdout",
     "output_type": "stream",
     "text": [
      "Creating new index: [gdi init simulations/alpha-10-cov-30/index-reads]\n"
     ]
    },
    {
     "name": "stderr",
     "output_type": "stream",
     "text": [
      "/home/CSCScience.ca/apetkau/miniconda3/envs/gdi-manuscript/lib/python3.8/multiprocessing/popen_fork.py:70: ResourceWarning: Unclosed socket <zmq.Socket(zmq.PUSH) at 0x7efcb44ed820>\n",
      "  self.pid = os.fork()\n",
      "ResourceWarning: Enable tracemalloc to get the object allocation traceback\n"
     ]
    },
    {
     "name": "stderr",
     "output_type": "stream",
     "text": [
      "/home/CSCScience.ca/apetkau/miniconda3/envs/gdi-manuscript/lib/python3.8/multiprocessing/popen_fork.py:70: ResourceWarning: Unclosed socket <zmq.Socket(zmq.PUSH) at 0x7efcb44ed820>\n",
      "  self.pid = os.fork()\n",
      "ResourceWarning: Enable tracemalloc to get the object allocation traceback\n"
     ]
    },
    {
     "name": "stdout",
     "output_type": "stream",
     "text": [
      "Creating a new index took 3.26 seconds\n",
      "Analysis running: [gdi --project-dir simulations/alpha-10-cov-30/index-reads --ncores 32 analysis --use-conda --no-load-data --reference-file simulations/reference/reference.fa.gz --kmer-size 31 --kmer-size 51 --kmer-size 71 --include-kmer --reads-mincov 10 --input-structured-genomes-file simulations/alpha-10-cov-30/input-reads.tsv]\n"
     ]
    },
    {
     "name": "stderr",
     "output_type": "stream",
     "text": [
      "/home/CSCScience.ca/apetkau/miniconda3/envs/gdi-manuscript/lib/python3.8/multiprocessing/popen_fork.py:70: ResourceWarning: Unclosed socket <zmq.Socket(zmq.PUSH) at 0x7efcb44ed820>\n",
      "  self.pid = os.fork()\n",
      "ResourceWarning: Enable tracemalloc to get the object allocation traceback\n"
     ]
    },
    {
     "name": "stderr",
     "output_type": "stream",
     "text": [
      "/home/CSCScience.ca/apetkau/miniconda3/envs/gdi-manuscript/lib/python3.8/multiprocessing/popen_fork.py:70: ResourceWarning: Unclosed socket <zmq.Socket(zmq.PUSH) at 0x7efcb44ed820>\n",
      "  self.pid = os.fork()\n",
      "ResourceWarning: Enable tracemalloc to get the object allocation traceback\n"
     ]
    },
    {
     "name": "stdout",
     "output_type": "stream",
     "text": [
      "Analysis took 1.93 minutes\n",
      "Index running: [gdi --project-dir simulations/alpha-10-cov-30/index-reads --ncores 32 load vcf-kmer --sample-batch-size 2000 --reference-file simulations/reference/reference.fa.gz /home/CSCScience.ca/apetkau/workspace/genomics-data-index-evaluation-manuscript/evaluations/simulation/snakemake-assemblies.1666138683.339963/gdi-input.fofn]\n"
     ]
    },
    {
     "name": "stderr",
     "output_type": "stream",
     "text": [
      "/home/CSCScience.ca/apetkau/miniconda3/envs/gdi-manuscript/lib/python3.8/multiprocessing/popen_fork.py:70: ResourceWarning: Unclosed socket <zmq.Socket(zmq.PUSH) at 0x7efcb44ed820>\n",
      "  self.pid = os.fork()\n",
      "ResourceWarning: Enable tracemalloc to get the object allocation traceback\n"
     ]
    },
    {
     "name": "stderr",
     "output_type": "stream",
     "text": [
      "/home/CSCScience.ca/apetkau/miniconda3/envs/gdi-manuscript/lib/python3.8/multiprocessing/popen_fork.py:70: ResourceWarning: Unclosed socket <zmq.Socket(zmq.PUSH) at 0x7efcb44ed820>\n",
      "  self.pid = os.fork()\n",
      "ResourceWarning: Enable tracemalloc to get the object allocation traceback\n"
     ]
    },
    {
     "name": "stdout",
     "output_type": "stream",
     "text": [
      "Indexing took 0.53 minutes\n",
      "Building tree: [gdi --project-dir simulations/alpha-10-cov-30/index-reads --ncores 32 rebuild tree --align-type full --extra-params '--fast -m GTR+F+R4' reference]\n"
     ]
    },
    {
     "name": "stderr",
     "output_type": "stream",
     "text": [
      "/home/CSCScience.ca/apetkau/miniconda3/envs/gdi-manuscript/lib/python3.8/multiprocessing/popen_fork.py:70: ResourceWarning: Unclosed socket <zmq.Socket(zmq.PUSH) at 0x7efcb44ed820>\n",
      "  self.pid = os.fork()\n",
      "ResourceWarning: Enable tracemalloc to get the object allocation traceback\n"
     ]
    },
    {
     "name": "stderr",
     "output_type": "stream",
     "text": [
      "/home/CSCScience.ca/apetkau/miniconda3/envs/gdi-manuscript/lib/python3.8/multiprocessing/popen_fork.py:70: ResourceWarning: Unclosed socket <zmq.Socket(zmq.PUSH) at 0x7efcb44ed820>\n",
      "  self.pid = os.fork()\n",
      "ResourceWarning: Enable tracemalloc to get the object allocation traceback\n"
     ]
    },
    {
     "name": "stdout",
     "output_type": "stream",
     "text": [
      "Building tree took 0.11 minutes\n"
     ]
    },
    {
     "name": "stderr",
     "output_type": "stream",
     "text": [
      "A reminder to myself to look for a Python solution for directory sizes (instead of running `du`)\n"
     ]
    }
   ],
   "source": [
    "results_handler = gdi_benchmark.BenchmarkResultsHandler(name=f'{case_name} reads')\n",
    "benchmarker = gdi_benchmark.IndexBenchmarker(benchmark_results_handler=results_handler,\n",
    "                                             index_path=index_reads_path, input_files_file=input_genomes_file,\n",
    "                                             reference_file=reference_file, mincov=mincov, build_tree=True,\n",
    "                                             ncores=ncores)\n",
    "\n",
    "benchmark_df = benchmarker.benchmark(iterations=iterations)"
   ]
  },
  {
   "cell_type": "code",
   "execution_count": 7,
   "id": "3bcb6da7-0164-47f2-abdd-a4c159da1e3b",
   "metadata": {
    "execution": {
     "iopub.execute_input": "2022-10-19T00:20:35.258119Z",
     "iopub.status.busy": "2022-10-19T00:20:35.257707Z",
     "iopub.status.idle": "2022-10-19T00:20:35.291555Z",
     "shell.execute_reply": "2022-10-19T00:20:35.290953Z"
    },
    "papermill": {
     "duration": 0.048979,
     "end_time": "2022-10-19T00:20:35.296433",
     "exception": false,
     "start_time": "2022-10-19T00:20:35.247454",
     "status": "completed"
    },
    "tags": []
   },
   "outputs": [
    {
     "data": {
      "text/html": [
       "<div>\n",
       "<style scoped>\n",
       "    .dataframe tbody tr th:only-of-type {\n",
       "        vertical-align: middle;\n",
       "    }\n",
       "\n",
       "    .dataframe tbody tr th {\n",
       "        vertical-align: top;\n",
       "    }\n",
       "\n",
       "    .dataframe thead th {\n",
       "        text-align: right;\n",
       "    }\n",
       "</style>\n",
       "<table border=\"1\" class=\"dataframe\">\n",
       "  <thead>\n",
       "    <tr style=\"text-align: right;\">\n",
       "      <th></th>\n",
       "      <th>Name</th>\n",
       "      <th>Reference name</th>\n",
       "      <th>Iteration</th>\n",
       "      <th>Number samples</th>\n",
       "      <th>Number features (all)</th>\n",
       "      <th>Number features (no unknown)</th>\n",
       "      <th>Number cores</th>\n",
       "      <th>Reference length</th>\n",
       "      <th>Analysis runtime</th>\n",
       "      <th>Analysis memory (max)</th>\n",
       "      <th>...</th>\n",
       "      <th>Analysis disk uage</th>\n",
       "      <th>Index runtime</th>\n",
       "      <th>Index memory (max)</th>\n",
       "      <th>Index memory (max/process)</th>\n",
       "      <th>Index size</th>\n",
       "      <th>Tree runtime</th>\n",
       "      <th>Tree memory (max)</th>\n",
       "      <th>Tree memory (max/process)</th>\n",
       "      <th>Total runtime</th>\n",
       "      <th>Max memory</th>\n",
       "    </tr>\n",
       "  </thead>\n",
       "  <tbody>\n",
       "    <tr>\n",
       "      <th>0</th>\n",
       "      <td>alpha-10-cov-30 reads</td>\n",
       "      <td>reference</td>\n",
       "      <td>1</td>\n",
       "      <td>60</td>\n",
       "      <td>22302</td>\n",
       "      <td>2603</td>\n",
       "      <td>32</td>\n",
       "      <td>19699</td>\n",
       "      <td>115.78</td>\n",
       "      <td>3.329155e+09</td>\n",
       "      <td>...</td>\n",
       "      <td>3.220177e+09</td>\n",
       "      <td>31.86</td>\n",
       "      <td>6.763155e+09</td>\n",
       "      <td>1.314333e+09</td>\n",
       "      <td>4005888.0</td>\n",
       "      <td>6.64</td>\n",
       "      <td>263376896.0</td>\n",
       "      <td>251748352.0</td>\n",
       "      <td>154.28</td>\n",
       "      <td>6.763155e+09</td>\n",
       "    </tr>\n",
       "  </tbody>\n",
       "</table>\n",
       "<p>1 rows × 21 columns</p>\n",
       "</div>"
      ],
      "text/plain": [
       "                    Name Reference name  Iteration  Number samples  \\\n",
       "0  alpha-10-cov-30 reads      reference          1              60   \n",
       "\n",
       "   Number features (all)  Number features (no unknown)  Number cores  \\\n",
       "0                  22302                          2603            32   \n",
       "\n",
       "   Reference length  Analysis runtime  Analysis memory (max)  ...  \\\n",
       "0             19699            115.78           3.329155e+09  ...   \n",
       "\n",
       "   Analysis disk uage  Index runtime  Index memory (max)  \\\n",
       "0        3.220177e+09          31.86        6.763155e+09   \n",
       "\n",
       "   Index memory (max/process)  Index size  Tree runtime  Tree memory (max)  \\\n",
       "0                1.314333e+09   4005888.0          6.64        263376896.0   \n",
       "\n",
       "   Tree memory (max/process)  Total runtime    Max memory  \n",
       "0                251748352.0         154.28  6.763155e+09  \n",
       "\n",
       "[1 rows x 21 columns]"
      ]
     },
     "execution_count": 7,
     "metadata": {},
     "output_type": "execute_result"
    }
   ],
   "source": [
    "benchmark_df"
   ]
  },
  {
   "cell_type": "code",
   "execution_count": 8,
   "id": "535a9ccc-ab9c-4919-806f-128e1efd2389",
   "metadata": {
    "execution": {
     "iopub.execute_input": "2022-10-19T00:20:35.313724Z",
     "iopub.status.busy": "2022-10-19T00:20:35.313412Z",
     "iopub.status.idle": "2022-10-19T00:20:35.321159Z",
     "shell.execute_reply": "2022-10-19T00:20:35.320108Z"
    },
    "papermill": {
     "duration": 0.017735,
     "end_time": "2022-10-19T00:20:35.323384",
     "exception": false,
     "start_time": "2022-10-19T00:20:35.305649",
     "status": "completed"
    },
    "tags": []
   },
   "outputs": [],
   "source": [
    "index_reads_runtime = simulation_dir_path / 'reads-index-info.tsv'\n",
    "benchmark_df.to_csv(index_reads_runtime, sep='\\t', index=False)"
   ]
  },
  {
   "cell_type": "markdown",
   "id": "c331578f-4026-4a9f-a3ba-288814b02ed2",
   "metadata": {
    "papermill": {
     "duration": 0.00984,
     "end_time": "2022-10-19T00:20:35.361811",
     "exception": false,
     "start_time": "2022-10-19T00:20:35.351971",
     "status": "completed"
    },
    "tags": []
   },
   "source": [
    "## 2.2. Index assemblies"
   ]
  },
  {
   "cell_type": "code",
   "execution_count": 9,
   "id": "6e6664f4-94ee-4c45-b1fc-e048b387fa49",
   "metadata": {
    "execution": {
     "iopub.execute_input": "2022-10-19T00:20:35.378907Z",
     "iopub.status.busy": "2022-10-19T00:20:35.377918Z",
     "iopub.status.idle": "2022-10-19T00:20:38.808583Z",
     "shell.execute_reply": "2022-10-19T00:20:38.806460Z"
    },
    "papermill": {
     "duration": 3.442535,
     "end_time": "2022-10-19T00:20:38.812958",
     "exception": false,
     "start_time": "2022-10-19T00:20:35.370423",
     "status": "completed"
    },
    "tags": []
   },
   "outputs": [
    {
     "name": "stdout",
     "output_type": "stream",
     "text": [
      "\u001b[32m2022-10-18 19:20:38\u001b[0m \u001b[1;30mWARNING:\u001b[0m \u001b[33m--skip-existing-samples is enabled but no --project-dir is set. Will not skip existing samples.\u001b[0m\r\n"
     ]
    }
   ],
   "source": [
    "input_genomes_file = simulation_dir_path / 'input-assemblies.tsv'\n",
    "\n",
    "!gdi input --absolute {assemblies_dir}/*.fa.gz > {input_genomes_file}"
   ]
  },
  {
   "cell_type": "code",
   "execution_count": 10,
   "id": "0a1e62f3-3b0c-4a90-a7fe-f0bc1094e350",
   "metadata": {
    "execution": {
     "iopub.execute_input": "2022-10-19T00:20:38.837324Z",
     "iopub.status.busy": "2022-10-19T00:20:38.836714Z",
     "iopub.status.idle": "2022-10-19T00:23:03.078333Z",
     "shell.execute_reply": "2022-10-19T00:23:03.077365Z"
    },
    "papermill": {
     "duration": 144.254832,
     "end_time": "2022-10-19T00:23:03.082188",
     "exception": false,
     "start_time": "2022-10-19T00:20:38.827356",
     "status": "completed"
    },
    "tags": []
   },
   "outputs": [
    {
     "name": "stdout",
     "output_type": "stream",
     "text": [
      "\n",
      "Iteration 1 of index/analysis of 60 samples with 32 cores\n",
      "Removing any extra snakemake directories: ['snakemake-assemblies.1666138683.339963']\n"
     ]
    },
    {
     "name": "stdout",
     "output_type": "stream",
     "text": [
      "Creating new index: [gdi init simulations/alpha-10-cov-30/index-assemblies]\n"
     ]
    },
    {
     "name": "stderr",
     "output_type": "stream",
     "text": [
      "/home/CSCScience.ca/apetkau/miniconda3/envs/gdi-manuscript/lib/python3.8/multiprocessing/popen_fork.py:70: ResourceWarning: Unclosed socket <zmq.Socket(zmq.PUSH) at 0x7efcb44ed820>\n",
      "  self.pid = os.fork()\n",
      "ResourceWarning: Enable tracemalloc to get the object allocation traceback\n"
     ]
    },
    {
     "name": "stderr",
     "output_type": "stream",
     "text": [
      "/home/CSCScience.ca/apetkau/miniconda3/envs/gdi-manuscript/lib/python3.8/multiprocessing/popen_fork.py:70: ResourceWarning: Unclosed socket <zmq.Socket(zmq.PUSH) at 0x7efcb44ed820>\n",
      "  self.pid = os.fork()\n",
      "ResourceWarning: Enable tracemalloc to get the object allocation traceback\n"
     ]
    },
    {
     "name": "stdout",
     "output_type": "stream",
     "text": [
      "Creating a new index took 3.40 seconds\n",
      "Analysis running: [gdi --project-dir simulations/alpha-10-cov-30/index-assemblies --ncores 32 analysis --use-conda --no-load-data --reference-file simulations/reference/reference.fa.gz --kmer-size 31 --kmer-size 51 --kmer-size 71 --include-kmer --reads-mincov 10 --input-structured-genomes-file simulations/alpha-10-cov-30/input-assemblies.tsv]\n"
     ]
    },
    {
     "name": "stderr",
     "output_type": "stream",
     "text": [
      "/home/CSCScience.ca/apetkau/miniconda3/envs/gdi-manuscript/lib/python3.8/multiprocessing/popen_fork.py:70: ResourceWarning: Unclosed socket <zmq.Socket(zmq.PUSH) at 0x7efcb44ed820>\n",
      "  self.pid = os.fork()\n",
      "ResourceWarning: Enable tracemalloc to get the object allocation traceback\n"
     ]
    },
    {
     "name": "stderr",
     "output_type": "stream",
     "text": [
      "/home/CSCScience.ca/apetkau/miniconda3/envs/gdi-manuscript/lib/python3.8/multiprocessing/popen_fork.py:70: ResourceWarning: Unclosed socket <zmq.Socket(zmq.PUSH) at 0x7efcb44ed820>\n",
      "  self.pid = os.fork()\n",
      "ResourceWarning: Enable tracemalloc to get the object allocation traceback\n"
     ]
    },
    {
     "name": "stdout",
     "output_type": "stream",
     "text": [
      "Analysis took 1.67 minutes\n",
      "Index running: [gdi --project-dir simulations/alpha-10-cov-30/index-assemblies --ncores 32 load vcf-kmer --sample-batch-size 2000 --reference-file simulations/reference/reference.fa.gz /home/CSCScience.ca/apetkau/workspace/genomics-data-index-evaluation-manuscript/evaluations/simulation/snakemake-assemblies.1666138847.0086925/gdi-input.fofn]\n"
     ]
    },
    {
     "name": "stderr",
     "output_type": "stream",
     "text": [
      "/home/CSCScience.ca/apetkau/miniconda3/envs/gdi-manuscript/lib/python3.8/multiprocessing/popen_fork.py:70: ResourceWarning: Unclosed socket <zmq.Socket(zmq.PUSH) at 0x7efcb44ed820>\n",
      "  self.pid = os.fork()\n",
      "ResourceWarning: Enable tracemalloc to get the object allocation traceback\n"
     ]
    },
    {
     "name": "stderr",
     "output_type": "stream",
     "text": [
      "/home/CSCScience.ca/apetkau/miniconda3/envs/gdi-manuscript/lib/python3.8/multiprocessing/popen_fork.py:70: ResourceWarning: Unclosed socket <zmq.Socket(zmq.PUSH) at 0x7efcb44ed820>\n",
      "  self.pid = os.fork()\n",
      "ResourceWarning: Enable tracemalloc to get the object allocation traceback\n"
     ]
    },
    {
     "name": "stdout",
     "output_type": "stream",
     "text": [
      "Indexing took 0.55 minutes\n",
      "Building tree: [gdi --project-dir simulations/alpha-10-cov-30/index-assemblies --ncores 32 rebuild tree --align-type full --extra-params '--fast -m GTR+F+R4' reference]\n"
     ]
    },
    {
     "name": "stderr",
     "output_type": "stream",
     "text": [
      "/home/CSCScience.ca/apetkau/miniconda3/envs/gdi-manuscript/lib/python3.8/multiprocessing/popen_fork.py:70: ResourceWarning: Unclosed socket <zmq.Socket(zmq.PUSH) at 0x7efcb44ed820>\n",
      "  self.pid = os.fork()\n",
      "ResourceWarning: Enable tracemalloc to get the object allocation traceback\n"
     ]
    },
    {
     "name": "stderr",
     "output_type": "stream",
     "text": [
      "/home/CSCScience.ca/apetkau/miniconda3/envs/gdi-manuscript/lib/python3.8/multiprocessing/popen_fork.py:70: ResourceWarning: Unclosed socket <zmq.Socket(zmq.PUSH) at 0x7efcb44ed820>\n",
      "  self.pid = os.fork()\n",
      "ResourceWarning: Enable tracemalloc to get the object allocation traceback\n"
     ]
    },
    {
     "name": "stdout",
     "output_type": "stream",
     "text": [
      "Building tree took 0.09 minutes\n"
     ]
    },
    {
     "name": "stderr",
     "output_type": "stream",
     "text": [
      "Attempting to set global database_path_translator=<genomics_data_index.storage.model.db.DatabasePathTranslator.DatabasePathTranslator object at 0x7efe2a463fd0> but it is already set\n"
     ]
    },
    {
     "name": "stderr",
     "output_type": "stream",
     "text": [
      "A reminder to myself to look for a Python solution for directory sizes (instead of running `du`)\n"
     ]
    }
   ],
   "source": [
    "results_handler = gdi_benchmark.BenchmarkResultsHandler(name=f'{case_name} assemblies')\n",
    "benchmarker = gdi_benchmark.IndexBenchmarker(benchmark_results_handler=results_handler,\n",
    "                                             index_path=index_assemblies_path, input_files_file=input_genomes_file,\n",
    "                                             reference_file=reference_file, mincov=mincov, build_tree=True,\n",
    "                                             ncores=ncores)\n",
    "\n",
    "benchmark_df = benchmarker.benchmark(iterations=iterations)"
   ]
  },
  {
   "cell_type": "code",
   "execution_count": 11,
   "id": "a6d55a9d-be2f-4851-b66c-04b5ebd597a1",
   "metadata": {
    "execution": {
     "iopub.execute_input": "2022-10-19T00:23:03.106670Z",
     "iopub.status.busy": "2022-10-19T00:23:03.106102Z",
     "iopub.status.idle": "2022-10-19T00:23:03.135294Z",
     "shell.execute_reply": "2022-10-19T00:23:03.134477Z"
    },
    "papermill": {
     "duration": 0.043789,
     "end_time": "2022-10-19T00:23:03.138963",
     "exception": false,
     "start_time": "2022-10-19T00:23:03.095174",
     "status": "completed"
    },
    "tags": []
   },
   "outputs": [
    {
     "data": {
      "text/html": [
       "<div>\n",
       "<style scoped>\n",
       "    .dataframe tbody tr th:only-of-type {\n",
       "        vertical-align: middle;\n",
       "    }\n",
       "\n",
       "    .dataframe tbody tr th {\n",
       "        vertical-align: top;\n",
       "    }\n",
       "\n",
       "    .dataframe thead th {\n",
       "        text-align: right;\n",
       "    }\n",
       "</style>\n",
       "<table border=\"1\" class=\"dataframe\">\n",
       "  <thead>\n",
       "    <tr style=\"text-align: right;\">\n",
       "      <th></th>\n",
       "      <th>Name</th>\n",
       "      <th>Reference name</th>\n",
       "      <th>Iteration</th>\n",
       "      <th>Number samples</th>\n",
       "      <th>Number features (all)</th>\n",
       "      <th>Number features (no unknown)</th>\n",
       "      <th>Number cores</th>\n",
       "      <th>Reference length</th>\n",
       "      <th>Analysis runtime</th>\n",
       "      <th>Analysis memory (max)</th>\n",
       "      <th>...</th>\n",
       "      <th>Analysis disk uage</th>\n",
       "      <th>Index runtime</th>\n",
       "      <th>Index memory (max)</th>\n",
       "      <th>Index memory (max/process)</th>\n",
       "      <th>Index size</th>\n",
       "      <th>Tree runtime</th>\n",
       "      <th>Tree memory (max)</th>\n",
       "      <th>Tree memory (max/process)</th>\n",
       "      <th>Total runtime</th>\n",
       "      <th>Max memory</th>\n",
       "    </tr>\n",
       "  </thead>\n",
       "  <tbody>\n",
       "    <tr>\n",
       "      <th>0</th>\n",
       "      <td>alpha-10-cov-30 assemblies</td>\n",
       "      <td>reference</td>\n",
       "      <td>1</td>\n",
       "      <td>60</td>\n",
       "      <td>19699</td>\n",
       "      <td>0</td>\n",
       "      <td>32</td>\n",
       "      <td>19699</td>\n",
       "      <td>99.98</td>\n",
       "      <td>2.632196e+09</td>\n",
       "      <td>...</td>\n",
       "      <td>2.228769e+09</td>\n",
       "      <td>32.98</td>\n",
       "      <td>7.511908e+09</td>\n",
       "      <td>1.375945e+09</td>\n",
       "      <td>3207168.0</td>\n",
       "      <td>5.55</td>\n",
       "      <td>261820416.0</td>\n",
       "      <td>251822080.0</td>\n",
       "      <td>138.51</td>\n",
       "      <td>7.511908e+09</td>\n",
       "    </tr>\n",
       "  </tbody>\n",
       "</table>\n",
       "<p>1 rows × 21 columns</p>\n",
       "</div>"
      ],
      "text/plain": [
       "                         Name Reference name  Iteration  Number samples  \\\n",
       "0  alpha-10-cov-30 assemblies      reference          1              60   \n",
       "\n",
       "   Number features (all)  Number features (no unknown)  Number cores  \\\n",
       "0                  19699                             0            32   \n",
       "\n",
       "   Reference length  Analysis runtime  Analysis memory (max)  ...  \\\n",
       "0             19699             99.98           2.632196e+09  ...   \n",
       "\n",
       "   Analysis disk uage  Index runtime  Index memory (max)  \\\n",
       "0        2.228769e+09          32.98        7.511908e+09   \n",
       "\n",
       "   Index memory (max/process)  Index size  Tree runtime  Tree memory (max)  \\\n",
       "0                1.375945e+09   3207168.0          5.55        261820416.0   \n",
       "\n",
       "   Tree memory (max/process)  Total runtime    Max memory  \n",
       "0                251822080.0         138.51  7.511908e+09  \n",
       "\n",
       "[1 rows x 21 columns]"
      ]
     },
     "execution_count": 11,
     "metadata": {},
     "output_type": "execute_result"
    }
   ],
   "source": [
    "benchmark_df"
   ]
  },
  {
   "cell_type": "code",
   "execution_count": 12,
   "id": "e1a6d962-50bc-4c8d-a6f2-3a661da706b4",
   "metadata": {
    "execution": {
     "iopub.execute_input": "2022-10-19T00:23:03.158910Z",
     "iopub.status.busy": "2022-10-19T00:23:03.158409Z",
     "iopub.status.idle": "2022-10-19T00:23:03.166448Z",
     "shell.execute_reply": "2022-10-19T00:23:03.165066Z"
    },
    "papermill": {
     "duration": 0.019042,
     "end_time": "2022-10-19T00:23:03.168728",
     "exception": false,
     "start_time": "2022-10-19T00:23:03.149686",
     "status": "completed"
    },
    "tags": []
   },
   "outputs": [],
   "source": [
    "index_assemblies_runtime = simulation_dir_path / 'assemblies-index-info.tsv'\n",
    "benchmark_df.to_csv(index_assemblies_runtime, sep='\\t', index=False)"
   ]
  },
  {
   "cell_type": "markdown",
   "id": "29b5daf4-244d-47c9-9a3b-6b0d4a0cdfbf",
   "metadata": {
    "papermill": {
     "duration": 0.006231,
     "end_time": "2022-10-19T00:23:03.181888",
     "exception": false,
     "start_time": "2022-10-19T00:23:03.175657",
     "status": "completed"
    },
    "tags": []
   },
   "source": [
    "## 2.3. Index assembled reads"
   ]
  },
  {
   "cell_type": "code",
   "execution_count": 13,
   "id": "909b2f43-9df1-40cd-bddb-6dc70630cacd",
   "metadata": {
    "execution": {
     "iopub.execute_input": "2022-10-19T00:23:03.194197Z",
     "iopub.status.busy": "2022-10-19T00:23:03.193518Z",
     "iopub.status.idle": "2022-10-19T00:23:06.486162Z",
     "shell.execute_reply": "2022-10-19T00:23:06.484093Z"
    },
    "papermill": {
     "duration": 3.302776,
     "end_time": "2022-10-19T00:23:06.490123",
     "exception": false,
     "start_time": "2022-10-19T00:23:03.187347",
     "status": "completed"
    },
    "tags": []
   },
   "outputs": [
    {
     "name": "stdout",
     "output_type": "stream",
     "text": [
      "\u001b[32m2022-10-18 19:23:06\u001b[0m \u001b[1;30mWARNING:\u001b[0m \u001b[33m--skip-existing-samples is enabled but no --project-dir is set. Will not skip existing samples.\u001b[0m\r\n"
     ]
    }
   ],
   "source": [
    "input_genomes_file = simulation_dir_path / 'input-assemblies-reads.tsv'\n",
    "\n",
    "!gdi input --absolute {assemblies_reads_dir}/*.fasta > {input_genomes_file}"
   ]
  },
  {
   "cell_type": "code",
   "execution_count": 14,
   "id": "9fe0b3db-dc07-4da9-937e-d899648131eb",
   "metadata": {
    "execution": {
     "iopub.execute_input": "2022-10-19T00:23:06.513817Z",
     "iopub.status.busy": "2022-10-19T00:23:06.513207Z",
     "iopub.status.idle": "2022-10-19T00:25:32.665130Z",
     "shell.execute_reply": "2022-10-19T00:25:32.663831Z"
    },
    "papermill": {
     "duration": 146.166525,
     "end_time": "2022-10-19T00:25:32.669158",
     "exception": false,
     "start_time": "2022-10-19T00:23:06.502633",
     "status": "completed"
    },
    "tags": []
   },
   "outputs": [
    {
     "name": "stdout",
     "output_type": "stream",
     "text": [
      "\n",
      "Iteration 1 of index/analysis of 60 samples with 32 cores\n",
      "Removing any extra snakemake directories: ['snakemake-assemblies.1666138847.0086925']\n"
     ]
    },
    {
     "name": "stdout",
     "output_type": "stream",
     "text": [
      "Creating new index: [gdi init simulations/alpha-10-cov-30/index-assemblies-reads]\n"
     ]
    },
    {
     "name": "stderr",
     "output_type": "stream",
     "text": [
      "/home/CSCScience.ca/apetkau/miniconda3/envs/gdi-manuscript/lib/python3.8/multiprocessing/popen_fork.py:70: ResourceWarning: Unclosed socket <zmq.Socket(zmq.PUSH) at 0x7efcb44ed820>\n",
      "  self.pid = os.fork()\n",
      "ResourceWarning: Enable tracemalloc to get the object allocation traceback\n"
     ]
    },
    {
     "name": "stderr",
     "output_type": "stream",
     "text": [
      "/home/CSCScience.ca/apetkau/miniconda3/envs/gdi-manuscript/lib/python3.8/multiprocessing/popen_fork.py:70: ResourceWarning: Unclosed socket <zmq.Socket(zmq.PUSH) at 0x7efcb44ed820>\n",
      "  self.pid = os.fork()\n",
      "ResourceWarning: Enable tracemalloc to get the object allocation traceback\n"
     ]
    },
    {
     "name": "stdout",
     "output_type": "stream",
     "text": [
      "Creating a new index took 3.26 seconds\n",
      "Analysis running: [gdi --project-dir simulations/alpha-10-cov-30/index-assemblies-reads --ncores 32 analysis --use-conda --no-load-data --reference-file simulations/reference/reference.fa.gz --kmer-size 31 --kmer-size 51 --kmer-size 71 --include-kmer --reads-mincov 10 --input-structured-genomes-file simulations/alpha-10-cov-30/input-assemblies-reads.tsv]\n"
     ]
    },
    {
     "name": "stderr",
     "output_type": "stream",
     "text": [
      "/home/CSCScience.ca/apetkau/miniconda3/envs/gdi-manuscript/lib/python3.8/multiprocessing/popen_fork.py:70: ResourceWarning: Unclosed socket <zmq.Socket(zmq.PUSH) at 0x7efcb44ed820>\n",
      "  self.pid = os.fork()\n",
      "ResourceWarning: Enable tracemalloc to get the object allocation traceback\n"
     ]
    },
    {
     "name": "stderr",
     "output_type": "stream",
     "text": [
      "/home/CSCScience.ca/apetkau/miniconda3/envs/gdi-manuscript/lib/python3.8/multiprocessing/popen_fork.py:70: ResourceWarning: Unclosed socket <zmq.Socket(zmq.PUSH) at 0x7efcb44ed820>\n",
      "  self.pid = os.fork()\n",
      "ResourceWarning: Enable tracemalloc to get the object allocation traceback\n"
     ]
    },
    {
     "name": "stdout",
     "output_type": "stream",
     "text": [
      "Analysis took 1.72 minutes\n",
      "Index running: [gdi --project-dir simulations/alpha-10-cov-30/index-assemblies-reads --ncores 32 load vcf-kmer --sample-batch-size 2000 --reference-file simulations/reference/reference.fa.gz /home/CSCScience.ca/apetkau/workspace/genomics-data-index-evaluation-manuscript/evaluations/simulation/snakemake-assemblies.1666138994.3679616/gdi-input.fofn]\n"
     ]
    },
    {
     "name": "stderr",
     "output_type": "stream",
     "text": [
      "/home/CSCScience.ca/apetkau/miniconda3/envs/gdi-manuscript/lib/python3.8/multiprocessing/popen_fork.py:70: ResourceWarning: Unclosed socket <zmq.Socket(zmq.PUSH) at 0x7efcb44ed820>\n",
      "  self.pid = os.fork()\n",
      "ResourceWarning: Enable tracemalloc to get the object allocation traceback\n"
     ]
    },
    {
     "name": "stderr",
     "output_type": "stream",
     "text": [
      "/home/CSCScience.ca/apetkau/miniconda3/envs/gdi-manuscript/lib/python3.8/multiprocessing/popen_fork.py:70: ResourceWarning: Unclosed socket <zmq.Socket(zmq.PUSH) at 0x7efcb44ed820>\n",
      "  self.pid = os.fork()\n",
      "ResourceWarning: Enable tracemalloc to get the object allocation traceback\n",
      "Exception during reset or similar\n",
      "Traceback (most recent call last):\n",
      "  File \"/home/CSCScience.ca/apetkau/miniconda3/envs/gdi-manuscript/lib/python3.8/site-packages/sqlalchemy/pool/base.py\", line 753, in _finalize_fairy\n",
      "    fairy._reset(pool)\n",
      "  File \"/home/CSCScience.ca/apetkau/miniconda3/envs/gdi-manuscript/lib/python3.8/site-packages/sqlalchemy/pool/base.py\", line 1004, in _reset\n",
      "    pool._dialect.do_rollback(self)\n",
      "  File \"/home/CSCScience.ca/apetkau/miniconda3/envs/gdi-manuscript/lib/python3.8/site-packages/sqlalchemy/engine/default.py\", line 683, in do_rollback\n",
      "    dbapi_connection.rollback()\n",
      "sqlite3.ProgrammingError: SQLite objects created in a thread can only be used in that same thread. The object was created in thread id 139632420476736 and this is thread id 139632286607104.\n"
     ]
    },
    {
     "name": "stderr",
     "output_type": "stream",
     "text": [
      "Exception closing connection <sqlite3.Connection object at 0x7efe32f18300>\n",
      "Traceback (most recent call last):\n",
      "  File \"/home/CSCScience.ca/apetkau/miniconda3/envs/gdi-manuscript/lib/python3.8/site-packages/sqlalchemy/pool/base.py\", line 753, in _finalize_fairy\n",
      "    fairy._reset(pool)\n",
      "  File \"/home/CSCScience.ca/apetkau/miniconda3/envs/gdi-manuscript/lib/python3.8/site-packages/sqlalchemy/pool/base.py\", line 1004, in _reset\n",
      "    pool._dialect.do_rollback(self)\n",
      "  File \"/home/CSCScience.ca/apetkau/miniconda3/envs/gdi-manuscript/lib/python3.8/site-packages/sqlalchemy/engine/default.py\", line 683, in do_rollback\n",
      "    dbapi_connection.rollback()\n",
      "sqlite3.ProgrammingError: SQLite objects created in a thread can only be used in that same thread. The object was created in thread id 139632420476736 and this is thread id 139632286607104.\n",
      "\n",
      "During handling of the above exception, another exception occurred:\n",
      "\n",
      "Traceback (most recent call last):\n",
      "  File \"/home/CSCScience.ca/apetkau/miniconda3/envs/gdi-manuscript/lib/python3.8/site-packages/sqlalchemy/pool/base.py\", line 255, in _close_connection\n",
      "    self._dialect.do_terminate(connection)\n",
      "  File \"/home/CSCScience.ca/apetkau/miniconda3/envs/gdi-manuscript/lib/python3.8/site-packages/sqlalchemy/engine/default.py\", line 689, in do_terminate\n",
      "    self.do_close(dbapi_connection)\n",
      "  File \"/home/CSCScience.ca/apetkau/miniconda3/envs/gdi-manuscript/lib/python3.8/site-packages/sqlalchemy/engine/default.py\", line 692, in do_close\n",
      "    dbapi_connection.close()\n",
      "sqlite3.ProgrammingError: SQLite objects created in a thread can only be used in that same thread. The object was created in thread id 139632420476736 and this is thread id 139632286607104.\n"
     ]
    },
    {
     "name": "stderr",
     "output_type": "stream",
     "text": [
      "/home/CSCScience.ca/apetkau/miniconda3/envs/gdi-manuscript/lib/python3.8/multiprocessing/popen_fork.py:70: ResourceWarning: Unclosed socket <zmq.Socket(zmq.PUSH) at 0x7efcb44ed820>\n",
      "  self.pid = os.fork()\n",
      "ResourceWarning: Enable tracemalloc to get the object allocation traceback\n"
     ]
    },
    {
     "name": "stdout",
     "output_type": "stream",
     "text": [
      "Indexing took 0.53 minutes\n",
      "Building tree: [gdi --project-dir simulations/alpha-10-cov-30/index-assemblies-reads --ncores 32 rebuild tree --align-type full --extra-params '--fast -m GTR+F+R4' reference]\n"
     ]
    },
    {
     "name": "stderr",
     "output_type": "stream",
     "text": [
      "/home/CSCScience.ca/apetkau/miniconda3/envs/gdi-manuscript/lib/python3.8/multiprocessing/popen_fork.py:70: ResourceWarning: Unclosed socket <zmq.Socket(zmq.PUSH) at 0x7efcb44ed820>\n",
      "  self.pid = os.fork()\n",
      "ResourceWarning: Enable tracemalloc to get the object allocation traceback\n",
      "Exception during reset or similar\n",
      "Traceback (most recent call last):\n",
      "  File \"/home/CSCScience.ca/apetkau/miniconda3/envs/gdi-manuscript/lib/python3.8/site-packages/sqlalchemy/pool/base.py\", line 753, in _finalize_fairy\n",
      "    fairy._reset(pool)\n",
      "  File \"/home/CSCScience.ca/apetkau/miniconda3/envs/gdi-manuscript/lib/python3.8/site-packages/sqlalchemy/pool/base.py\", line 1004, in _reset\n",
      "    pool._dialect.do_rollback(self)\n",
      "  File \"/home/CSCScience.ca/apetkau/miniconda3/envs/gdi-manuscript/lib/python3.8/site-packages/sqlalchemy/engine/default.py\", line 683, in do_rollback\n",
      "    dbapi_connection.rollback()\n",
      "sqlite3.ProgrammingError: SQLite objects created in a thread can only be used in that same thread. The object was created in thread id 139632420476736 and this is thread id 139632311785216.\n"
     ]
    },
    {
     "name": "stderr",
     "output_type": "stream",
     "text": [
      "Exception closing connection <sqlite3.Connection object at 0x7efe32f18300>\n",
      "Traceback (most recent call last):\n",
      "  File \"/home/CSCScience.ca/apetkau/miniconda3/envs/gdi-manuscript/lib/python3.8/site-packages/sqlalchemy/pool/base.py\", line 753, in _finalize_fairy\n",
      "    fairy._reset(pool)\n",
      "  File \"/home/CSCScience.ca/apetkau/miniconda3/envs/gdi-manuscript/lib/python3.8/site-packages/sqlalchemy/pool/base.py\", line 1004, in _reset\n",
      "    pool._dialect.do_rollback(self)\n",
      "  File \"/home/CSCScience.ca/apetkau/miniconda3/envs/gdi-manuscript/lib/python3.8/site-packages/sqlalchemy/engine/default.py\", line 683, in do_rollback\n",
      "    dbapi_connection.rollback()\n",
      "sqlite3.ProgrammingError: SQLite objects created in a thread can only be used in that same thread. The object was created in thread id 139632420476736 and this is thread id 139632311785216.\n",
      "\n",
      "During handling of the above exception, another exception occurred:\n",
      "\n",
      "Traceback (most recent call last):\n",
      "  File \"/home/CSCScience.ca/apetkau/miniconda3/envs/gdi-manuscript/lib/python3.8/site-packages/sqlalchemy/pool/base.py\", line 255, in _close_connection\n",
      "    self._dialect.do_terminate(connection)\n",
      "  File \"/home/CSCScience.ca/apetkau/miniconda3/envs/gdi-manuscript/lib/python3.8/site-packages/sqlalchemy/engine/default.py\", line 689, in do_terminate\n",
      "    self.do_close(dbapi_connection)\n",
      "  File \"/home/CSCScience.ca/apetkau/miniconda3/envs/gdi-manuscript/lib/python3.8/site-packages/sqlalchemy/engine/default.py\", line 692, in do_close\n",
      "    dbapi_connection.close()\n",
      "sqlite3.ProgrammingError: SQLite objects created in a thread can only be used in that same thread. The object was created in thread id 139632420476736 and this is thread id 139632311785216.\n"
     ]
    },
    {
     "name": "stderr",
     "output_type": "stream",
     "text": [
      "/home/CSCScience.ca/apetkau/miniconda3/envs/gdi-manuscript/lib/python3.8/multiprocessing/popen_fork.py:70: ResourceWarning: Unclosed socket <zmq.Socket(zmq.PUSH) at 0x7efcb44ed820>\n",
      "  self.pid = os.fork()\n",
      "ResourceWarning: Enable tracemalloc to get the object allocation traceback\n"
     ]
    },
    {
     "name": "stderr",
     "output_type": "stream",
     "text": [
      "/home/CSCScience.ca/apetkau/miniconda3/envs/gdi-manuscript/lib/python3.8/multiprocessing/popen_fork.py:70: ResourceWarning: Unclosed socket <zmq.Socket(zmq.PUSH) at 0x7efcb44ed820>\n",
      "  self.pid = os.fork()\n",
      "ResourceWarning: Enable tracemalloc to get the object allocation traceback\n"
     ]
    },
    {
     "name": "stdout",
     "output_type": "stream",
     "text": [
      "Building tree took 0.11 minutes\n"
     ]
    },
    {
     "name": "stderr",
     "output_type": "stream",
     "text": [
      "Attempting to set global database_path_translator=<genomics_data_index.storage.model.db.DatabasePathTranslator.DatabasePathTranslator object at 0x7efe2a4d1e50> but it is already set\n"
     ]
    },
    {
     "name": "stderr",
     "output_type": "stream",
     "text": [
      "A reminder to myself to look for a Python solution for directory sizes (instead of running `du`)\n"
     ]
    }
   ],
   "source": [
    "results_handler = gdi_benchmark.BenchmarkResultsHandler(name=f'{case_name} assemblies')\n",
    "benchmarker = gdi_benchmark.IndexBenchmarker(benchmark_results_handler=results_handler,\n",
    "                                             index_path=index_assemblies_reads_path, input_files_file=input_genomes_file,\n",
    "                                             reference_file=reference_file, mincov=mincov, build_tree=True,\n",
    "                                             ncores=ncores)\n",
    "\n",
    "benchmark_df = benchmarker.benchmark(iterations=iterations)"
   ]
  },
  {
   "cell_type": "code",
   "execution_count": 15,
   "id": "120761a0-c80b-4868-bec6-654fecbc76f8",
   "metadata": {
    "execution": {
     "iopub.execute_input": "2022-10-19T00:25:32.698018Z",
     "iopub.status.busy": "2022-10-19T00:25:32.697494Z",
     "iopub.status.idle": "2022-10-19T00:25:32.728305Z",
     "shell.execute_reply": "2022-10-19T00:25:32.727454Z"
    },
    "papermill": {
     "duration": 0.047019,
     "end_time": "2022-10-19T00:25:32.732510",
     "exception": false,
     "start_time": "2022-10-19T00:25:32.685491",
     "status": "completed"
    },
    "tags": []
   },
   "outputs": [
    {
     "data": {
      "text/html": [
       "<div>\n",
       "<style scoped>\n",
       "    .dataframe tbody tr th:only-of-type {\n",
       "        vertical-align: middle;\n",
       "    }\n",
       "\n",
       "    .dataframe tbody tr th {\n",
       "        vertical-align: top;\n",
       "    }\n",
       "\n",
       "    .dataframe thead th {\n",
       "        text-align: right;\n",
       "    }\n",
       "</style>\n",
       "<table border=\"1\" class=\"dataframe\">\n",
       "  <thead>\n",
       "    <tr style=\"text-align: right;\">\n",
       "      <th></th>\n",
       "      <th>Name</th>\n",
       "      <th>Reference name</th>\n",
       "      <th>Iteration</th>\n",
       "      <th>Number samples</th>\n",
       "      <th>Number features (all)</th>\n",
       "      <th>Number features (no unknown)</th>\n",
       "      <th>Number cores</th>\n",
       "      <th>Reference length</th>\n",
       "      <th>Analysis runtime</th>\n",
       "      <th>Analysis memory (max)</th>\n",
       "      <th>...</th>\n",
       "      <th>Analysis disk uage</th>\n",
       "      <th>Index runtime</th>\n",
       "      <th>Index memory (max)</th>\n",
       "      <th>Index memory (max/process)</th>\n",
       "      <th>Index size</th>\n",
       "      <th>Tree runtime</th>\n",
       "      <th>Tree memory (max)</th>\n",
       "      <th>Tree memory (max/process)</th>\n",
       "      <th>Total runtime</th>\n",
       "      <th>Max memory</th>\n",
       "    </tr>\n",
       "  </thead>\n",
       "  <tbody>\n",
       "    <tr>\n",
       "      <th>0</th>\n",
       "      <td>alpha-10-cov-30 assemblies</td>\n",
       "      <td>reference</td>\n",
       "      <td>1</td>\n",
       "      <td>60</td>\n",
       "      <td>19699</td>\n",
       "      <td>0</td>\n",
       "      <td>32</td>\n",
       "      <td>19699</td>\n",
       "      <td>103.17</td>\n",
       "      <td>2.717200e+09</td>\n",
       "      <td>...</td>\n",
       "      <td>2.228773e+09</td>\n",
       "      <td>31.33</td>\n",
       "      <td>7.509230e+09</td>\n",
       "      <td>1.376117e+09</td>\n",
       "      <td>3194880.0</td>\n",
       "      <td>6.19</td>\n",
       "      <td>262123520.0</td>\n",
       "      <td>252047360.0</td>\n",
       "      <td>140.69</td>\n",
       "      <td>7.509230e+09</td>\n",
       "    </tr>\n",
       "  </tbody>\n",
       "</table>\n",
       "<p>1 rows × 21 columns</p>\n",
       "</div>"
      ],
      "text/plain": [
       "                         Name Reference name  Iteration  Number samples  \\\n",
       "0  alpha-10-cov-30 assemblies      reference          1              60   \n",
       "\n",
       "   Number features (all)  Number features (no unknown)  Number cores  \\\n",
       "0                  19699                             0            32   \n",
       "\n",
       "   Reference length  Analysis runtime  Analysis memory (max)  ...  \\\n",
       "0             19699            103.17           2.717200e+09  ...   \n",
       "\n",
       "   Analysis disk uage  Index runtime  Index memory (max)  \\\n",
       "0        2.228773e+09          31.33        7.509230e+09   \n",
       "\n",
       "   Index memory (max/process)  Index size  Tree runtime  Tree memory (max)  \\\n",
       "0                1.376117e+09   3194880.0          6.19        262123520.0   \n",
       "\n",
       "   Tree memory (max/process)  Total runtime    Max memory  \n",
       "0                252047360.0         140.69  7.509230e+09  \n",
       "\n",
       "[1 rows x 21 columns]"
      ]
     },
     "execution_count": 15,
     "metadata": {},
     "output_type": "execute_result"
    }
   ],
   "source": [
    "benchmark_df"
   ]
  },
  {
   "cell_type": "code",
   "execution_count": 16,
   "id": "98442c2b-0156-4eb3-a764-84ce3c80b49f",
   "metadata": {
    "execution": {
     "iopub.execute_input": "2022-10-19T00:25:32.757918Z",
     "iopub.status.busy": "2022-10-19T00:25:32.757266Z",
     "iopub.status.idle": "2022-10-19T00:25:32.767155Z",
     "shell.execute_reply": "2022-10-19T00:25:32.765709Z"
    },
    "papermill": {
     "duration": 0.023171,
     "end_time": "2022-10-19T00:25:32.769609",
     "exception": false,
     "start_time": "2022-10-19T00:25:32.746438",
     "status": "completed"
    },
    "tags": []
   },
   "outputs": [],
   "source": [
    "index_assemblies_reads_runtime = simulation_dir_path / 'assemblies-reads-index-info.tsv'\n",
    "benchmark_df.to_csv(index_assemblies_reads_runtime, sep='\\t', index=False)"
   ]
  },
  {
   "cell_type": "markdown",
   "id": "6cb7673b-9f85-4c43-b2e2-93538497a196",
   "metadata": {
    "papermill": {
     "duration": 0.007706,
     "end_time": "2022-10-19T00:25:32.786773",
     "exception": false,
     "start_time": "2022-10-19T00:25:32.779067",
     "status": "completed"
    },
    "tags": []
   },
   "source": [
    "# 3. Export trees"
   ]
  },
  {
   "cell_type": "code",
   "execution_count": 17,
   "id": "5280f82c-5434-4391-8c44-b937a7c95bd5",
   "metadata": {
    "execution": {
     "iopub.execute_input": "2022-10-19T00:25:32.800963Z",
     "iopub.status.busy": "2022-10-19T00:25:32.800281Z",
     "iopub.status.idle": "2022-10-19T00:25:42.614110Z",
     "shell.execute_reply": "2022-10-19T00:25:42.611817Z"
    },
    "papermill": {
     "duration": 9.824811,
     "end_time": "2022-10-19T00:25:42.617885",
     "exception": false,
     "start_time": "2022-10-19T00:25:32.793074",
     "status": "completed"
    },
    "tags": []
   },
   "outputs": [
    {
     "name": "stdout",
     "output_type": "stream",
     "text": [
      "\u001b[32m2022-10-18 19:25:35\u001b[0m \u001b[1;30mERROR:\u001b[0m \u001b[31mreference_genome=[<Reference(id=1, name=reference, length=19699)>] does not have a tree\u001b[0m\r\n"
     ]
    },
    {
     "name": "stdout",
     "output_type": "stream",
     "text": [
      "Wrote assemblies tree to simulations/alpha-10-cov-30/index-assemblies/assemblies.tre\n"
     ]
    },
    {
     "name": "stdout",
     "output_type": "stream",
     "text": [
      "\u001b[32m2022-10-18 19:25:38\u001b[0m \u001b[1;30mERROR:\u001b[0m \u001b[31mreference_genome=[<Reference(id=1, name=reference, length=19699)>] does not have a tree\u001b[0m\r\n"
     ]
    },
    {
     "name": "stdout",
     "output_type": "stream",
     "text": [
      "Wrote assemblies tree to simulations/alpha-10-cov-30/index-reads/reads.tre"
     ]
    },
    {
     "name": "stdout",
     "output_type": "stream",
     "text": [
      "\n"
     ]
    },
    {
     "name": "stdout",
     "output_type": "stream",
     "text": [
      "\u001b[32m2022-10-18 19:25:42\u001b[0m \u001b[1;30mERROR:\u001b[0m \u001b[31mreference_genome=[<Reference(id=1, name=reference, length=19699)>] does not have a tree\u001b[0m\r\n"
     ]
    },
    {
     "name": "stdout",
     "output_type": "stream",
     "text": [
      "Wrote assemblies tree to simulations/alpha-10-cov-30/index-assemblies-reads/assemblies-reads.tre\n"
     ]
    }
   ],
   "source": [
    "!gdi --project-dir {index_assemblies_path} export tree {reference_name} > {output_assemblies_tree}\n",
    "print(f'Wrote assemblies tree to {output_assemblies_tree}')\n",
    "\n",
    "!gdi --project-dir {index_reads_path} export tree {reference_name} > {output_reads_tree}\n",
    "print(f'Wrote assemblies tree to {output_reads_tree}')\n",
    "\n",
    "!gdi --project-dir {index_assemblies_reads_path} export tree {reference_name} > {output_assemblies_reads_tree}\n",
    "print(f'Wrote assemblies tree to {output_assemblies_reads_tree}')"
   ]
  }
 ],
 "metadata": {
  "kernelspec": {
   "display_name": "Python 3 (ipykernel)",
   "language": "python",
   "name": "python3"
  },
  "language_info": {
   "codemirror_mode": {
    "name": "ipython",
    "version": 3
   },
   "file_extension": ".py",
   "mimetype": "text/x-python",
   "name": "python",
   "nbconvert_exporter": "python",
   "pygments_lexer": "ipython3",
   "version": "3.8.13"
  },
  "papermill": {
   "default_parameters": {},
   "duration": 478.765612,
   "end_time": "2022-10-19T00:25:43.261242",
   "environment_variables": {},
   "exception": null,
   "input_path": "template-3-index-genomes.ipynb",
   "output_path": "3-index-genomes.simulation-alpha-10.ipynb",
   "parameters": {
    "iterations": 1,
    "mincov": 10,
    "read_coverage": 30,
    "simulation_dir": "simulations/alpha-10-cov-30",
    "sub_alpha": 10
   },
   "start_time": "2022-10-19T00:17:44.495630",
   "version": "2.3.4"
  }
 },
 "nbformat": 4,
 "nbformat_minor": 5
}