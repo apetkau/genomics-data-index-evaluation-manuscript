{
 "cells": [
  {
   "cell_type": "markdown",
   "id": "4bec7bff-a3d5-4e0f-a7f4-bb3cc6acc83e",
   "metadata": {
    "tags": []
   },
   "source": [
    "# 1. Parameters"
   ]
  },
  {
   "cell_type": "code",
   "execution_count": 1,
   "id": "3ec8545e-ccee-404b-a37c-d10396bb1458",
   "metadata": {},
   "outputs": [],
   "source": [
    "random_seed <- 30422\n",
    "reference_dir <- \"simulations/reference\"\n",
    "reference_prefix <- file.path(reference_dir, \"reference\")\n",
    "reference_num_chromosomes <- 2\n",
    "reference_chromosomes_len_mean <- 10000\n",
    "reference_chromosomes_len_sdev <- 1000\n",
    "\n",
    "set.seed(random_seed)"
   ]
  },
  {
   "cell_type": "markdown",
   "id": "fcaff2ab-b492-4de1-80c9-012b908958eb",
   "metadata": {},
   "source": [
    "# 2. Create reference genome"
   ]
  },
  {
   "cell_type": "code",
   "execution_count": 2,
   "id": "6f011b1b-a1af-48c5-ac55-1aa24aca95aa",
   "metadata": {},
   "outputs": [
    {
     "data": {
      "text/plain": [
       "< Set of 2 chromosomes >\n",
       "# Total size: 19,699 bp\n",
       "  name                             chromosome                             length\n",
       "chrom0     GTATTGCGAGGGTGGGGGAGTACGGCAG...CAAGAATGCAACCGACTCTGTCGGGACT     10834\n",
       "chrom1     CACCTCGAGCAGATCCTAGTTTGCGCGA...TGCGAATTTATCGCCTAATCCAATGTTA      8865"
      ]
     },
     "metadata": {},
     "output_type": "display_data"
    }
   ],
   "source": [
    "library(jackalope)\n",
    "\n",
    "reference <- create_genome(n_chroms = reference_num_chromosomes,\n",
    "                           len_mean = reference_chromosomes_len_mean,\n",
    "                           len_sd = reference_chromosomes_len_sdev)\n",
    "reference"
   ]
  },
  {
   "cell_type": "code",
   "execution_count": 3,
   "id": "ec79a09a-d1ad-446d-b944-614b3a2de1d0",
   "metadata": {},
   "outputs": [
    {
     "name": "stdout",
     "output_type": "stream",
     "text": [
      "[1] \"Wrote reference to: simulations/reference/reference.fa.gz\"\n"
     ]
    }
   ],
   "source": [
    "write_fasta(reference, out_prefix=reference_prefix,\n",
    "            compress=TRUE, n_threads=1, overwrite=TRUE)\n",
    "print(sprintf(\"Wrote reference to: %s.fa.gz\", reference_prefix))"
   ]
  },
  {
   "cell_type": "code",
   "execution_count": null,
   "id": "581787e5-624e-42aa-adce-4e753d4ecf0a",
   "metadata": {},
   "outputs": [],
   "source": []
  }
 ],
 "metadata": {
  "kernelspec": {
   "display_name": "R",
   "language": "R",
   "name": "ir"
  },
  "language_info": {
   "codemirror_mode": "r",
   "file_extension": ".r",
   "mimetype": "text/x-r-source",
   "name": "R",
   "pygments_lexer": "r",
   "version": "4.1.3"
  }
 },
 "nbformat": 4,
 "nbformat_minor": 5
}
