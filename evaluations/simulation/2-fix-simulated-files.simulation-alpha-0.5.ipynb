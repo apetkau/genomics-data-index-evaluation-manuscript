{
 "cells": [
  {
   "cell_type": "markdown",
   "id": "acfa5482-d626-44d6-b613-863e6911fa98",
   "metadata": {
    "papermill": {
     "duration": 0.007402,
     "end_time": "2022-10-18T22:17:32.431816",
     "exception": false,
     "start_time": "2022-10-18T22:17:32.424414",
     "status": "completed"
    },
    "tags": []
   },
   "source": [
    "# 1. Parameters"
   ]
  },
  {
   "cell_type": "code",
   "execution_count": 1,
   "id": "36126d74-a9d8-4431-ba49-767c1fc2ec49",
   "metadata": {
    "execution": {
     "iopub.execute_input": "2022-10-18T22:17:32.443754Z",
     "iopub.status.busy": "2022-10-18T22:17:32.443054Z",
     "iopub.status.idle": "2022-10-18T22:17:32.459878Z",
     "shell.execute_reply": "2022-10-18T22:17:32.458330Z"
    },
    "papermill": {
     "duration": 0.025968,
     "end_time": "2022-10-18T22:17:32.463697",
     "exception": false,
     "start_time": "2022-10-18T22:17:32.437729",
     "status": "completed"
    },
    "tags": [
     "parameters"
    ]
   },
   "outputs": [],
   "source": [
    "# Defaults\n",
    "simulation_dir = 'simulations/unset'\n",
    "ncores = 48"
   ]
  },
  {
   "cell_type": "code",
   "execution_count": 2,
   "id": "164bb0d0",
   "metadata": {
    "execution": {
     "iopub.execute_input": "2022-10-18T22:17:32.476264Z",
     "iopub.status.busy": "2022-10-18T22:17:32.475738Z",
     "iopub.status.idle": "2022-10-18T22:17:32.483018Z",
     "shell.execute_reply": "2022-10-18T22:17:32.481509Z"
    },
    "papermill": {
     "duration": 0.017055,
     "end_time": "2022-10-18T22:17:32.485964",
     "exception": false,
     "start_time": "2022-10-18T22:17:32.468909",
     "status": "completed"
    },
    "tags": [
     "injected-parameters"
    ]
   },
   "outputs": [],
   "source": [
    "# Parameters\n",
    "read_coverage = 30\n",
    "mincov = 10\n",
    "simulation_dir = \"simulations/alpha-0.5-cov-30\"\n",
    "iterations = 1\n",
    "sub_alpha = 0.5\n"
   ]
  },
  {
   "cell_type": "code",
   "execution_count": 3,
   "id": "15e911d7-0ffc-4110-aefe-71bc77e689cd",
   "metadata": {
    "execution": {
     "iopub.execute_input": "2022-10-18T22:17:32.497904Z",
     "iopub.status.busy": "2022-10-18T22:17:32.497214Z",
     "iopub.status.idle": "2022-10-18T22:17:32.507149Z",
     "shell.execute_reply": "2022-10-18T22:17:32.505860Z"
    },
    "papermill": {
     "duration": 0.019614,
     "end_time": "2022-10-18T22:17:32.510416",
     "exception": false,
     "start_time": "2022-10-18T22:17:32.490802",
     "status": "completed"
    },
    "tags": []
   },
   "outputs": [],
   "source": [
    "from pathlib import Path\n",
    "import os\n",
    "\n",
    "simulation_data_dir = Path(simulation_dir) / 'simulated_data'\n",
    "initial_reads_dir = simulation_data_dir / 'reads_initial'\n",
    "reads_dir = simulation_data_dir / 'reads'\n",
    "assemblies_dir = simulation_data_dir / 'assemblies'\n",
    "assembled_reads_dir = simulation_data_dir / 'assembled_reads'\n",
    "\n",
    "if not reads_dir.exists():\n",
    "    os.mkdir(reads_dir)\n",
    "    \n",
    "if not assembled_reads_dir.exists():\n",
    "    os.mkdir(assembled_reads_dir)"
   ]
  },
  {
   "cell_type": "markdown",
   "id": "rotary-regard",
   "metadata": {
    "papermill": {
     "duration": 0.004238,
     "end_time": "2022-10-18T22:17:32.519514",
     "exception": false,
     "start_time": "2022-10-18T22:17:32.515276",
     "status": "completed"
    },
    "tags": []
   },
   "source": [
    "# 2. Fix reads\n",
    "\n",
    "Fix read file names and data so they can be indexed."
   ]
  },
  {
   "cell_type": "code",
   "execution_count": 4,
   "id": "convenient-blackberry",
   "metadata": {
    "execution": {
     "iopub.execute_input": "2022-10-18T22:17:32.529309Z",
     "iopub.status.busy": "2022-10-18T22:17:32.528612Z",
     "iopub.status.idle": "2022-10-18T22:17:32.713907Z",
     "shell.execute_reply": "2022-10-18T22:17:32.712060Z"
    },
    "papermill": {
     "duration": 0.19441,
     "end_time": "2022-10-18T22:17:32.717589",
     "exception": false,
     "start_time": "2022-10-18T22:17:32.523179",
     "status": "completed"
    },
    "tags": []
   },
   "outputs": [
    {
     "name": "stdout",
     "output_type": "stream",
     "text": [
      "~/workspace/genomics-data-index-evaluation-manuscript/evaluations/simulation/simulations/alpha-0.5-cov-30/simulated_data/reads_initial ~/workspace/genomics-data-index-evaluation-manuscript/evaluations/simulation\r\n"
     ]
    },
    {
     "name": "stdout",
     "output_type": "stream",
     "text": [
      "~/workspace/genomics-data-index-evaluation-manuscript/evaluations/simulation\r\n"
     ]
    }
   ],
   "source": [
    "import os\n",
    "\n",
    "# Fix warning about locale unset\n",
    "os.environ['LANG'] = 'en_US.UTF-8'\n",
    "\n",
    "!pushd {initial_reads_dir}; prename 's/data_//' *.fq.gz; popd"
   ]
  },
  {
   "cell_type": "markdown",
   "id": "median-belle",
   "metadata": {
    "papermill": {
     "duration": 0.005636,
     "end_time": "2022-10-18T22:17:32.729529",
     "exception": false,
     "start_time": "2022-10-18T22:17:32.723893",
     "status": "completed"
    },
    "tags": []
   },
   "source": [
    "Jackalope produces reads with non-standard identifiers where pairs of reads don't have matching identifiers. For example:\n",
    "\n",
    "* Pair 1: `@SH08-001-NC_011083-3048632-R/1`\n",
    "* Pair 2: `@SH08-001-NC_011083-3048396-F/2`\n",
    "\n",
    "In order to run snippy, these paired identifiers need to match (except for the `/1` and `/2` suffix).\n",
    "\n",
    "So, I have to replace them all with something unique, but which matches in each pair of files. I do this by replacing the position (I think) with the read number (as it appears in the file). So the above identifiers become:\n",
    "\n",
    "* Pair 1: `@SH08-001-NC_011083-1/1`\n",
    "* Pair 2: `@SH08-001-NC_011083-1/2`"
   ]
  },
  {
   "cell_type": "code",
   "execution_count": 5,
   "id": "remarkable-berry",
   "metadata": {
    "execution": {
     "iopub.execute_input": "2022-10-18T22:17:32.740099Z",
     "iopub.status.busy": "2022-10-18T22:17:32.739363Z",
     "iopub.status.idle": "2022-10-18T22:17:33.717541Z",
     "shell.execute_reply": "2022-10-18T22:17:33.715284Z"
    },
    "papermill": {
     "duration": 0.988425,
     "end_time": "2022-10-18T22:17:33.721864",
     "exception": false,
     "start_time": "2022-10-18T22:17:32.733439",
     "status": "completed"
    },
    "tags": []
   },
   "outputs": [],
   "source": [
    "import glob\n",
    "import os\n",
    "\n",
    "files = [os.path.basename(f) for f in glob.glob(f'{initial_reads_dir}/*.fq.gz')]\n",
    "!parallel -j {ncores} -I% 'gzip -d --stdout {initial_reads_dir}/% | perl scripts/replace-fastq-header.pl | gzip > {reads_dir}/%' \\\n",
    "    ::: {' '.join(files)}"
   ]
  },
  {
   "cell_type": "code",
   "execution_count": 6,
   "id": "8318e7a8-1057-4e4f-aaec-fccdec42a75f",
   "metadata": {
    "execution": {
     "iopub.execute_input": "2022-10-18T22:17:33.737451Z",
     "iopub.status.busy": "2022-10-18T22:17:33.736883Z",
     "iopub.status.idle": "2022-10-18T22:17:33.758362Z",
     "shell.execute_reply": "2022-10-18T22:17:33.757411Z"
    },
    "papermill": {
     "duration": 0.033033,
     "end_time": "2022-10-18T22:17:33.761937",
     "exception": false,
     "start_time": "2022-10-18T22:17:33.728904",
     "status": "completed"
    },
    "tags": []
   },
   "outputs": [],
   "source": [
    "import shutil\n",
    "\n",
    "shutil.rmtree(initial_reads_dir)"
   ]
  },
  {
   "cell_type": "markdown",
   "id": "cf630b4f-ed63-4e14-9657-e0aaea0953ab",
   "metadata": {
    "papermill": {
     "duration": 0.005672,
     "end_time": "2022-10-18T22:17:33.773974",
     "exception": false,
     "start_time": "2022-10-18T22:17:33.768302",
     "status": "completed"
    },
    "tags": []
   },
   "source": [
    "# 3. Fix assemblies\n",
    "\n",
    "Fix assembly genome names"
   ]
  },
  {
   "cell_type": "code",
   "execution_count": 7,
   "id": "08fac610-3ab3-4afa-9873-406973041963",
   "metadata": {
    "execution": {
     "iopub.execute_input": "2022-10-18T22:17:33.785221Z",
     "iopub.status.busy": "2022-10-18T22:17:33.784696Z",
     "iopub.status.idle": "2022-10-18T22:17:33.964192Z",
     "shell.execute_reply": "2022-10-18T22:17:33.962565Z"
    },
    "papermill": {
     "duration": 0.188748,
     "end_time": "2022-10-18T22:17:33.967893",
     "exception": false,
     "start_time": "2022-10-18T22:17:33.779145",
     "status": "completed"
    },
    "tags": []
   },
   "outputs": [
    {
     "name": "stdout",
     "output_type": "stream",
     "text": [
      "~/workspace/genomics-data-index-evaluation-manuscript/evaluations/simulation/simulations/alpha-0.5-cov-30/simulated_data/assemblies ~/workspace/genomics-data-index-evaluation-manuscript/evaluations/simulation\r\n"
     ]
    },
    {
     "name": "stdout",
     "output_type": "stream",
     "text": [
      "~/workspace/genomics-data-index-evaluation-manuscript/evaluations/simulation\r\n"
     ]
    }
   ],
   "source": [
    "!pushd {assemblies_dir}; prename 's/data__//' *.fa.gz; popd"
   ]
  },
  {
   "cell_type": "markdown",
   "id": "a0856fbc-ba98-4ba1-870b-6923cd636892",
   "metadata": {
    "papermill": {
     "duration": 0.006031,
     "end_time": "2022-10-18T22:17:33.980581",
     "exception": false,
     "start_time": "2022-10-18T22:17:33.974550",
     "status": "completed"
    },
    "tags": []
   },
   "source": [
    "# 4. Assemble reads\n",
    "\n",
    "Assemble reads to have another scenario of imperfect assemblies."
   ]
  },
  {
   "cell_type": "code",
   "execution_count": 8,
   "id": "c1a1b18f-ecd1-4ca3-af9f-ef44648edbd3",
   "metadata": {
    "execution": {
     "iopub.execute_input": "2022-10-18T22:17:34.009234Z",
     "iopub.status.busy": "2022-10-18T22:17:34.008683Z",
     "iopub.status.idle": "2022-10-18T22:17:35.300355Z",
     "shell.execute_reply": "2022-10-18T22:17:35.298582Z"
    },
    "papermill": {
     "duration": 1.304235,
     "end_time": "2022-10-18T22:17:35.304186",
     "exception": false,
     "start_time": "2022-10-18T22:17:33.999951",
     "status": "completed"
    },
    "tags": []
   },
   "outputs": [
    {
     "name": "stdout",
     "output_type": "stream",
     "text": [
      "SKESA 2.4.0\r\n",
      "\r\n",
      "skesa --version \r\n",
      "\r\n",
      "\r\n"
     ]
    }
   ],
   "source": [
    "!conda run -n skesa skesa --version"
   ]
  },
  {
   "cell_type": "code",
   "execution_count": 9,
   "id": "419476b6-ecce-477b-a838-d2419d1d160e",
   "metadata": {
    "execution": {
     "iopub.execute_input": "2022-10-18T22:17:35.321221Z",
     "iopub.status.busy": "2022-10-18T22:17:35.320639Z",
     "iopub.status.idle": "2022-10-18T22:17:53.287283Z",
     "shell.execute_reply": "2022-10-18T22:17:53.285061Z"
    },
    "papermill": {
     "duration": 17.979851,
     "end_time": "2022-10-18T22:17:53.291697",
     "exception": false,
     "start_time": "2022-10-18T22:17:35.311846",
     "status": "completed"
    },
    "tags": []
   },
   "outputs": [],
   "source": [
    "import glob\n",
    "import re\n",
    "\n",
    "fastq_names = [os.path.basename(f) for f in glob.glob(f'{reads_dir}/*_R1.fq.gz')]\n",
    "sample_names = [re.sub(r'_R\\d.fq.gz', '', f) for f in fastq_names]\n",
    "!parallel -j {ncores} -I% 'conda run -n skesa skesa --reads {reads_dir}/%_R1.fq.gz,{reads_dir}/%_R2.fq.gz --contigs_out {assembled_reads_dir}/%.fasta > {assembled_reads_dir}/log.% 2>&1' \\\n",
    "    ::: {' '.join(sample_names)}"
   ]
  }
 ],
 "metadata": {
  "kernelspec": {
   "display_name": "Python 3 (ipykernel)",
   "language": "python",
   "name": "python3"
  },
  "language_info": {
   "codemirror_mode": {
    "name": "ipython",
    "version": 3
   },
   "file_extension": ".py",
   "mimetype": "text/x-python",
   "name": "python",
   "nbconvert_exporter": "python",
   "pygments_lexer": "ipython3",
   "version": "3.8.13"
  },
  "papermill": {
   "default_parameters": {},
   "duration": 22.481875,
   "end_time": "2022-10-18T22:17:53.520607",
   "environment_variables": {},
   "exception": null,
   "input_path": "template-2-fix-simulated-files.ipynb",
   "output_path": "2-fix-simulated-files.simulation-alpha-0.5.ipynb",
   "parameters": {
    "iterations": 1,
    "mincov": 10,
    "read_coverage": 30,
    "simulation_dir": "simulations/alpha-0.5-cov-30",
    "sub_alpha": 0.5
   },
   "start_time": "2022-10-18T22:17:31.038732",
   "version": "2.3.4"
  }
 },
 "nbformat": 4,
 "nbformat_minor": 5
}