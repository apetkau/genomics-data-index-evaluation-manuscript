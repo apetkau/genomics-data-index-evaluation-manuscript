{
 "cells": [
  {
   "cell_type": "markdown",
   "id": "acfa5482-d626-44d6-b613-863e6911fa98",
   "metadata": {
    "papermill": {
     "duration": 0.006493,
     "end_time": "2022-09-29T18:49:00.746783",
     "exception": false,
     "start_time": "2022-09-29T18:49:00.740290",
     "status": "completed"
    },
    "tags": []
   },
   "source": [
    "# 1. Parameters"
   ]
  },
  {
   "cell_type": "code",
   "execution_count": 1,
   "id": "36126d74-a9d8-4431-ba49-767c1fc2ec49",
   "metadata": {
    "execution": {
     "iopub.execute_input": "2022-09-29T18:49:00.760133Z",
     "iopub.status.busy": "2022-09-29T18:49:00.759344Z",
     "iopub.status.idle": "2022-09-29T18:49:00.773390Z",
     "shell.execute_reply": "2022-09-29T18:49:00.772326Z"
    },
    "papermill": {
     "duration": 0.02414,
     "end_time": "2022-09-29T18:49:00.776077",
     "exception": false,
     "start_time": "2022-09-29T18:49:00.751937",
     "status": "completed"
    },
    "tags": [
     "parameters"
    ]
   },
   "outputs": [],
   "source": [
    "# Defaults\n",
    "simulation_dir = 'simulations/unset'\n",
    "ncores = 48"
   ]
  },
  {
   "cell_type": "code",
   "execution_count": 2,
   "id": "cb7c9cc4",
   "metadata": {
    "execution": {
     "iopub.execute_input": "2022-09-29T18:49:00.785455Z",
     "iopub.status.busy": "2022-09-29T18:49:00.785131Z",
     "iopub.status.idle": "2022-09-29T18:49:00.789425Z",
     "shell.execute_reply": "2022-09-29T18:49:00.788574Z"
    },
    "papermill": {
     "duration": 0.01199,
     "end_time": "2022-09-29T18:49:00.791096",
     "exception": false,
     "start_time": "2022-09-29T18:49:00.779106",
     "status": "completed"
    },
    "tags": [
     "injected-parameters"
    ]
   },
   "outputs": [],
   "source": [
    "# Parameters\n",
    "read_coverage = 30\n",
    "mincov = 10\n",
    "simulation_dir = \"simulations/alpha-0.5-cov-30\"\n",
    "iterations = 3\n",
    "sub_alpha = 0.5\n"
   ]
  },
  {
   "cell_type": "code",
   "execution_count": 3,
   "id": "15e911d7-0ffc-4110-aefe-71bc77e689cd",
   "metadata": {
    "execution": {
     "iopub.execute_input": "2022-09-29T18:49:00.796244Z",
     "iopub.status.busy": "2022-09-29T18:49:00.795951Z",
     "iopub.status.idle": "2022-09-29T18:49:00.800974Z",
     "shell.execute_reply": "2022-09-29T18:49:00.800108Z"
    },
    "papermill": {
     "duration": 0.009452,
     "end_time": "2022-09-29T18:49:00.802595",
     "exception": false,
     "start_time": "2022-09-29T18:49:00.793143",
     "status": "completed"
    },
    "tags": []
   },
   "outputs": [],
   "source": [
    "from pathlib import Path\n",
    "import os\n",
    "\n",
    "simulation_data_dir = Path(simulation_dir) / 'simulated_data'\n",
    "initial_reads_dir = simulation_data_dir / 'reads_initial'\n",
    "reads_dir = simulation_data_dir / 'reads'\n",
    "assemblies_dir = simulation_data_dir / 'assemblies'\n",
    "\n",
    "if not reads_dir.exists():\n",
    "    os.mkdir(reads_dir)"
   ]
  },
  {
   "cell_type": "markdown",
   "id": "rotary-regard",
   "metadata": {
    "papermill": {
     "duration": 0.002301,
     "end_time": "2022-09-29T18:49:00.806888",
     "exception": false,
     "start_time": "2022-09-29T18:49:00.804587",
     "status": "completed"
    },
    "tags": []
   },
   "source": [
    "# 2. Fix reads\n",
    "\n",
    "Fix read file names and data so they can be indexed."
   ]
  },
  {
   "cell_type": "code",
   "execution_count": 4,
   "id": "convenient-blackberry",
   "metadata": {
    "execution": {
     "iopub.execute_input": "2022-09-29T18:49:00.812956Z",
     "iopub.status.busy": "2022-09-29T18:49:00.812312Z",
     "iopub.status.idle": "2022-09-29T18:49:00.998267Z",
     "shell.execute_reply": "2022-09-29T18:49:00.996633Z"
    },
    "papermill": {
     "duration": 0.193127,
     "end_time": "2022-09-29T18:49:01.002283",
     "exception": false,
     "start_time": "2022-09-29T18:49:00.809156",
     "status": "completed"
    },
    "tags": []
   },
   "outputs": [
    {
     "name": "stdout",
     "output_type": "stream",
     "text": [
      "~/workspace/genomics-data-index-evaluation-manuscript/evaluations/simulation/simulations/alpha-0.5-cov-30/simulated_data/reads_initial ~/workspace/genomics-data-index-evaluation-manuscript/evaluations/simulation\r\n"
     ]
    },
    {
     "name": "stdout",
     "output_type": "stream",
     "text": [
      "~/workspace/genomics-data-index-evaluation-manuscript/evaluations/simulation\r\n"
     ]
    }
   ],
   "source": [
    "import os\n",
    "\n",
    "# Fix warning about locale unset\n",
    "os.environ['LANG'] = 'en_US.UTF-8'\n",
    "\n",
    "!pushd {initial_reads_dir}; prename 's/data_//' *.fq.gz; popd"
   ]
  },
  {
   "cell_type": "markdown",
   "id": "median-belle",
   "metadata": {
    "papermill": {
     "duration": 0.00535,
     "end_time": "2022-09-29T18:49:01.013260",
     "exception": false,
     "start_time": "2022-09-29T18:49:01.007910",
     "status": "completed"
    },
    "tags": []
   },
   "source": [
    "Jackalope produces reads with non-standard identifiers where pairs of reads don't have matching identifiers. For example:\n",
    "\n",
    "* Pair 1: `@SH08-001-NC_011083-3048632-R/1`\n",
    "* Pair 2: `@SH08-001-NC_011083-3048396-F/2`\n",
    "\n",
    "In order to run snippy, these paired identifiers need to match (except for the `/1` and `/2` suffix).\n",
    "\n",
    "So, I have to replace them all with something unique, but which matches in each pair of files. I do this by replacing the position (I think) with the read number (as it appears in the file). So the above identifiers become:\n",
    "\n",
    "* Pair 1: `@SH08-001-NC_011083-1/1`\n",
    "* Pair 2: `@SH08-001-NC_011083-1/2`"
   ]
  },
  {
   "cell_type": "code",
   "execution_count": 5,
   "id": "remarkable-berry",
   "metadata": {
    "execution": {
     "iopub.execute_input": "2022-09-29T18:49:01.023724Z",
     "iopub.status.busy": "2022-09-29T18:49:01.023338Z",
     "iopub.status.idle": "2022-09-29T18:49:02.038418Z",
     "shell.execute_reply": "2022-09-29T18:49:02.036253Z"
    },
    "papermill": {
     "duration": 1.024803,
     "end_time": "2022-09-29T18:49:02.042794",
     "exception": false,
     "start_time": "2022-09-29T18:49:01.017991",
     "status": "completed"
    },
    "tags": []
   },
   "outputs": [],
   "source": [
    "import glob\n",
    "import os\n",
    "\n",
    "files = [os.path.basename(f) for f in glob.glob(f'{initial_reads_dir}/*.fq.gz')]\n",
    "!parallel -j {ncores} -I% 'gzip -d --stdout {initial_reads_dir}/% | perl scripts/replace-fastq-header.pl | gzip > {reads_dir}/%' \\\n",
    "    ::: {' '.join(files)}"
   ]
  },
  {
   "cell_type": "code",
   "execution_count": 6,
   "id": "8318e7a8-1057-4e4f-aaec-fccdec42a75f",
   "metadata": {
    "execution": {
     "iopub.execute_input": "2022-09-29T18:49:02.058527Z",
     "iopub.status.busy": "2022-09-29T18:49:02.057955Z",
     "iopub.status.idle": "2022-09-29T18:49:02.078218Z",
     "shell.execute_reply": "2022-09-29T18:49:02.077191Z"
    },
    "papermill": {
     "duration": 0.03114,
     "end_time": "2022-09-29T18:49:02.081789",
     "exception": false,
     "start_time": "2022-09-29T18:49:02.050649",
     "status": "completed"
    },
    "tags": []
   },
   "outputs": [],
   "source": [
    "import shutil\n",
    "\n",
    "shutil.rmtree(initial_reads_dir)"
   ]
  },
  {
   "cell_type": "markdown",
   "id": "cf630b4f-ed63-4e14-9657-e0aaea0953ab",
   "metadata": {
    "papermill": {
     "duration": 0.005388,
     "end_time": "2022-09-29T18:49:02.092964",
     "exception": false,
     "start_time": "2022-09-29T18:49:02.087576",
     "status": "completed"
    },
    "tags": []
   },
   "source": [
    "# 3. Fix assemblies\n",
    "\n",
    "Fix assembly genome names"
   ]
  },
  {
   "cell_type": "code",
   "execution_count": 7,
   "id": "08fac610-3ab3-4afa-9873-406973041963",
   "metadata": {
    "execution": {
     "iopub.execute_input": "2022-09-29T18:49:02.103281Z",
     "iopub.status.busy": "2022-09-29T18:49:02.102749Z",
     "iopub.status.idle": "2022-09-29T18:49:02.281819Z",
     "shell.execute_reply": "2022-09-29T18:49:02.280195Z"
    },
    "papermill": {
     "duration": 0.188009,
     "end_time": "2022-09-29T18:49:02.285571",
     "exception": false,
     "start_time": "2022-09-29T18:49:02.097562",
     "status": "completed"
    },
    "tags": []
   },
   "outputs": [
    {
     "name": "stdout",
     "output_type": "stream",
     "text": [
      "~/workspace/genomics-data-index-evaluation-manuscript/evaluations/simulation/simulations/alpha-0.5-cov-30/simulated_data/assemblies ~/workspace/genomics-data-index-evaluation-manuscript/evaluations/simulation\r\n"
     ]
    },
    {
     "name": "stdout",
     "output_type": "stream",
     "text": [
      "~/workspace/genomics-data-index-evaluation-manuscript/evaluations/simulation\r\n"
     ]
    }
   ],
   "source": [
    "!pushd {assemblies_dir}; prename 's/data__//' *.fa.gz; popd"
   ]
  }
 ],
 "metadata": {
  "kernelspec": {
   "display_name": "Python 3 (ipykernel)",
   "language": "python",
   "name": "python3"
  },
  "language_info": {
   "codemirror_mode": {
    "name": "ipython",
    "version": 3
   },
   "file_extension": ".py",
   "mimetype": "text/x-python",
   "name": "python",
   "nbconvert_exporter": "python",
   "pygments_lexer": "ipython3",
   "version": "3.8.13"
  },
  "papermill": {
   "default_parameters": {},
   "duration": 3.339144,
   "end_time": "2022-09-29T18:49:02.514731",
   "environment_variables": {},
   "exception": null,
   "input_path": "template-2-fix-simulated-files.ipynb",
   "output_path": "2-fix-simulated-files.simulation-alpha-0.5.ipynb",
   "parameters": {
    "iterations": 3,
    "mincov": 10,
    "read_coverage": 30,
    "simulation_dir": "simulations/alpha-0.5-cov-30",
    "sub_alpha": 0.5
   },
   "start_time": "2022-09-29T18:48:59.175587",
   "version": "2.3.4"
  }
 },
 "nbformat": 4,
 "nbformat_minor": 5
}