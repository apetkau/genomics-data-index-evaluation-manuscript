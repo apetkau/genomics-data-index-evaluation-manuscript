{
 "cells": [
  {
   "cell_type": "markdown",
   "id": "acfa5482-d626-44d6-b613-863e6911fa98",
   "metadata": {
    "papermill": {
     "duration": 0.006561,
     "end_time": "2022-09-29T19:40:17.509532",
     "exception": false,
     "start_time": "2022-09-29T19:40:17.502971",
     "status": "completed"
    },
    "tags": []
   },
   "source": [
    "# 1. Parameters"
   ]
  },
  {
   "cell_type": "code",
   "execution_count": 1,
   "id": "36126d74-a9d8-4431-ba49-767c1fc2ec49",
   "metadata": {
    "execution": {
     "iopub.execute_input": "2022-09-29T19:40:17.521474Z",
     "iopub.status.busy": "2022-09-29T19:40:17.520854Z",
     "iopub.status.idle": "2022-09-29T19:40:17.536287Z",
     "shell.execute_reply": "2022-09-29T19:40:17.535095Z"
    },
    "papermill": {
     "duration": 0.025347,
     "end_time": "2022-09-29T19:40:17.539771",
     "exception": false,
     "start_time": "2022-09-29T19:40:17.514424",
     "status": "completed"
    },
    "tags": [
     "parameters"
    ]
   },
   "outputs": [],
   "source": [
    "# Defaults\n",
    "simulation_dir = 'simulations/unset'\n",
    "ncores = 48"
   ]
  },
  {
   "cell_type": "code",
   "execution_count": 2,
   "id": "c3d0a8f4",
   "metadata": {
    "execution": {
     "iopub.execute_input": "2022-09-29T19:40:17.551506Z",
     "iopub.status.busy": "2022-09-29T19:40:17.550977Z",
     "iopub.status.idle": "2022-09-29T19:40:17.557852Z",
     "shell.execute_reply": "2022-09-29T19:40:17.556382Z"
    },
    "papermill": {
     "duration": 0.01635,
     "end_time": "2022-09-29T19:40:17.561040",
     "exception": false,
     "start_time": "2022-09-29T19:40:17.544690",
     "status": "completed"
    },
    "tags": [
     "injected-parameters"
    ]
   },
   "outputs": [],
   "source": [
    "# Parameters\n",
    "read_coverage = 50\n",
    "mincov = 10\n",
    "simulation_dir = \"simulations/cov-50\"\n",
    "iterations = 3\n",
    "sub_alpha = 0.2\n"
   ]
  },
  {
   "cell_type": "code",
   "execution_count": 3,
   "id": "15e911d7-0ffc-4110-aefe-71bc77e689cd",
   "metadata": {
    "execution": {
     "iopub.execute_input": "2022-09-29T19:40:17.571361Z",
     "iopub.status.busy": "2022-09-29T19:40:17.570745Z",
     "iopub.status.idle": "2022-09-29T19:40:17.579047Z",
     "shell.execute_reply": "2022-09-29T19:40:17.577795Z"
    },
    "papermill": {
     "duration": 0.016991,
     "end_time": "2022-09-29T19:40:17.582206",
     "exception": false,
     "start_time": "2022-09-29T19:40:17.565215",
     "status": "completed"
    },
    "tags": []
   },
   "outputs": [],
   "source": [
    "from pathlib import Path\n",
    "import os\n",
    "\n",
    "simulation_data_dir = Path(simulation_dir) / 'simulated_data'\n",
    "initial_reads_dir = simulation_data_dir / 'reads_initial'\n",
    "reads_dir = simulation_data_dir / 'reads'\n",
    "assemblies_dir = simulation_data_dir / 'assemblies'\n",
    "\n",
    "if not reads_dir.exists():\n",
    "    os.mkdir(reads_dir)"
   ]
  },
  {
   "cell_type": "markdown",
   "id": "rotary-regard",
   "metadata": {
    "papermill": {
     "duration": 0.004036,
     "end_time": "2022-09-29T19:40:17.590470",
     "exception": false,
     "start_time": "2022-09-29T19:40:17.586434",
     "status": "completed"
    },
    "tags": []
   },
   "source": [
    "# 2. Fix reads\n",
    "\n",
    "Fix read file names and data so they can be indexed."
   ]
  },
  {
   "cell_type": "code",
   "execution_count": 4,
   "id": "convenient-blackberry",
   "metadata": {
    "execution": {
     "iopub.execute_input": "2022-09-29T19:40:17.601373Z",
     "iopub.status.busy": "2022-09-29T19:40:17.600714Z",
     "iopub.status.idle": "2022-09-29T19:40:17.791331Z",
     "shell.execute_reply": "2022-09-29T19:40:17.789353Z"
    },
    "papermill": {
     "duration": 0.203311,
     "end_time": "2022-09-29T19:40:17.797128",
     "exception": false,
     "start_time": "2022-09-29T19:40:17.593817",
     "status": "completed"
    },
    "tags": []
   },
   "outputs": [
    {
     "name": "stdout",
     "output_type": "stream",
     "text": [
      "~/workspace/genomics-data-index-evaluation-manuscript/evaluations/simulation/simulations/cov-50/simulated_data/reads_initial ~/workspace/genomics-data-index-evaluation-manuscript/evaluations/simulation\r\n"
     ]
    },
    {
     "name": "stdout",
     "output_type": "stream",
     "text": [
      "~/workspace/genomics-data-index-evaluation-manuscript/evaluations/simulation\r\n"
     ]
    }
   ],
   "source": [
    "import os\n",
    "\n",
    "# Fix warning about locale unset\n",
    "os.environ['LANG'] = 'en_US.UTF-8'\n",
    "\n",
    "!pushd {initial_reads_dir}; prename 's/data_//' *.fq.gz; popd"
   ]
  },
  {
   "cell_type": "markdown",
   "id": "median-belle",
   "metadata": {
    "papermill": {
     "duration": 0.005159,
     "end_time": "2022-09-29T19:40:17.809106",
     "exception": false,
     "start_time": "2022-09-29T19:40:17.803947",
     "status": "completed"
    },
    "tags": []
   },
   "source": [
    "Jackalope produces reads with non-standard identifiers where pairs of reads don't have matching identifiers. For example:\n",
    "\n",
    "* Pair 1: `@SH08-001-NC_011083-3048632-R/1`\n",
    "* Pair 2: `@SH08-001-NC_011083-3048396-F/2`\n",
    "\n",
    "In order to run snippy, these paired identifiers need to match (except for the `/1` and `/2` suffix).\n",
    "\n",
    "So, I have to replace them all with something unique, but which matches in each pair of files. I do this by replacing the position (I think) with the read number (as it appears in the file). So the above identifiers become:\n",
    "\n",
    "* Pair 1: `@SH08-001-NC_011083-1/1`\n",
    "* Pair 2: `@SH08-001-NC_011083-1/2`"
   ]
  },
  {
   "cell_type": "code",
   "execution_count": 5,
   "id": "remarkable-berry",
   "metadata": {
    "execution": {
     "iopub.execute_input": "2022-09-29T19:40:17.819614Z",
     "iopub.status.busy": "2022-09-29T19:40:17.818822Z",
     "iopub.status.idle": "2022-09-29T19:40:18.935706Z",
     "shell.execute_reply": "2022-09-29T19:40:18.933486Z"
    },
    "papermill": {
     "duration": 1.12884,
     "end_time": "2022-09-29T19:40:18.942152",
     "exception": false,
     "start_time": "2022-09-29T19:40:17.813312",
     "status": "completed"
    },
    "tags": []
   },
   "outputs": [],
   "source": [
    "import glob\n",
    "import os\n",
    "\n",
    "files = [os.path.basename(f) for f in glob.glob(f'{initial_reads_dir}/*.fq.gz')]\n",
    "!parallel -j {ncores} -I% 'gzip -d --stdout {initial_reads_dir}/% | perl scripts/replace-fastq-header.pl | gzip > {reads_dir}/%' \\\n",
    "    ::: {' '.join(files)}"
   ]
  },
  {
   "cell_type": "code",
   "execution_count": 6,
   "id": "8318e7a8-1057-4e4f-aaec-fccdec42a75f",
   "metadata": {
    "execution": {
     "iopub.execute_input": "2022-09-29T19:40:18.955234Z",
     "iopub.status.busy": "2022-09-29T19:40:18.954659Z",
     "iopub.status.idle": "2022-09-29T19:40:18.977070Z",
     "shell.execute_reply": "2022-09-29T19:40:18.975793Z"
    },
    "papermill": {
     "duration": 0.032781,
     "end_time": "2022-09-29T19:40:18.980695",
     "exception": false,
     "start_time": "2022-09-29T19:40:18.947914",
     "status": "completed"
    },
    "tags": []
   },
   "outputs": [],
   "source": [
    "import shutil\n",
    "\n",
    "shutil.rmtree(initial_reads_dir)"
   ]
  },
  {
   "cell_type": "markdown",
   "id": "cf630b4f-ed63-4e14-9657-e0aaea0953ab",
   "metadata": {
    "papermill": {
     "duration": 0.005378,
     "end_time": "2022-09-29T19:40:18.991622",
     "exception": false,
     "start_time": "2022-09-29T19:40:18.986244",
     "status": "completed"
    },
    "tags": []
   },
   "source": [
    "# 3. Fix assemblies\n",
    "\n",
    "Fix assembly genome names"
   ]
  },
  {
   "cell_type": "code",
   "execution_count": 7,
   "id": "08fac610-3ab3-4afa-9873-406973041963",
   "metadata": {
    "execution": {
     "iopub.execute_input": "2022-09-29T19:40:19.000960Z",
     "iopub.status.busy": "2022-09-29T19:40:19.000467Z",
     "iopub.status.idle": "2022-09-29T19:40:19.178753Z",
     "shell.execute_reply": "2022-09-29T19:40:19.177098Z"
    },
    "papermill": {
     "duration": 0.187029,
     "end_time": "2022-09-29T19:40:19.182474",
     "exception": false,
     "start_time": "2022-09-29T19:40:18.995445",
     "status": "completed"
    },
    "tags": []
   },
   "outputs": [
    {
     "name": "stdout",
     "output_type": "stream",
     "text": [
      "~/workspace/genomics-data-index-evaluation-manuscript/evaluations/simulation/simulations/cov-50/simulated_data/assemblies ~/workspace/genomics-data-index-evaluation-manuscript/evaluations/simulation\r\n"
     ]
    },
    {
     "name": "stdout",
     "output_type": "stream",
     "text": [
      "~/workspace/genomics-data-index-evaluation-manuscript/evaluations/simulation\r\n"
     ]
    }
   ],
   "source": [
    "!pushd {assemblies_dir}; prename 's/data__//' *.fa.gz; popd"
   ]
  }
 ],
 "metadata": {
  "kernelspec": {
   "display_name": "Python 3 (ipykernel)",
   "language": "python",
   "name": "python3"
  },
  "language_info": {
   "codemirror_mode": {
    "name": "ipython",
    "version": 3
   },
   "file_extension": ".py",
   "mimetype": "text/x-python",
   "name": "python",
   "nbconvert_exporter": "python",
   "pygments_lexer": "ipython3",
   "version": "3.8.13"
  },
  "papermill": {
   "default_parameters": {},
   "duration": 3.302227,
   "end_time": "2022-09-29T19:40:19.413036",
   "environment_variables": {},
   "exception": null,
   "input_path": "template-2-fix-simulated-files.ipynb",
   "output_path": "2-fix-simulated-files.simulation-cov-50.ipynb",
   "parameters": {
    "iterations": 3,
    "mincov": 10,
    "read_coverage": 50,
    "simulation_dir": "simulations/cov-50",
    "sub_alpha": 0.2
   },
   "start_time": "2022-09-29T19:40:16.110809",
   "version": "2.3.4"
  }
 },
 "nbformat": 4,
 "nbformat_minor": 5
}