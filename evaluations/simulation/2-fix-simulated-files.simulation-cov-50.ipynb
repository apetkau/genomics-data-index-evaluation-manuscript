{
 "cells": [
  {
   "cell_type": "markdown",
   "id": "acfa5482-d626-44d6-b613-863e6911fa98",
   "metadata": {
    "papermill": {
     "duration": 0.00743,
     "end_time": "2022-10-18T23:17:31.023039",
     "exception": false,
     "start_time": "2022-10-18T23:17:31.015609",
     "status": "completed"
    },
    "tags": []
   },
   "source": [
    "# 1. Parameters"
   ]
  },
  {
   "cell_type": "code",
   "execution_count": 1,
   "id": "36126d74-a9d8-4431-ba49-767c1fc2ec49",
   "metadata": {
    "execution": {
     "iopub.execute_input": "2022-10-18T23:17:31.035841Z",
     "iopub.status.busy": "2022-10-18T23:17:31.034965Z",
     "iopub.status.idle": "2022-10-18T23:17:31.051010Z",
     "shell.execute_reply": "2022-10-18T23:17:31.049773Z"
    },
    "papermill": {
     "duration": 0.025499,
     "end_time": "2022-10-18T23:17:31.054845",
     "exception": false,
     "start_time": "2022-10-18T23:17:31.029346",
     "status": "completed"
    },
    "tags": [
     "parameters"
    ]
   },
   "outputs": [],
   "source": [
    "# Defaults\n",
    "simulation_dir = 'simulations/unset'\n",
    "ncores = 48"
   ]
  },
  {
   "cell_type": "code",
   "execution_count": 2,
   "id": "0db866b5",
   "metadata": {
    "execution": {
     "iopub.execute_input": "2022-10-18T23:17:31.067124Z",
     "iopub.status.busy": "2022-10-18T23:17:31.066600Z",
     "iopub.status.idle": "2022-10-18T23:17:31.073781Z",
     "shell.execute_reply": "2022-10-18T23:17:31.072315Z"
    },
    "papermill": {
     "duration": 0.016871,
     "end_time": "2022-10-18T23:17:31.077207",
     "exception": false,
     "start_time": "2022-10-18T23:17:31.060336",
     "status": "completed"
    },
    "tags": [
     "injected-parameters"
    ]
   },
   "outputs": [],
   "source": [
    "# Parameters\n",
    "read_coverage = 50\n",
    "mincov = 10\n",
    "simulation_dir = \"simulations/cov-50\"\n",
    "iterations = 1\n",
    "sub_alpha = 0.2\n"
   ]
  },
  {
   "cell_type": "code",
   "execution_count": 3,
   "id": "15e911d7-0ffc-4110-aefe-71bc77e689cd",
   "metadata": {
    "execution": {
     "iopub.execute_input": "2022-10-18T23:17:31.089293Z",
     "iopub.status.busy": "2022-10-18T23:17:31.088646Z",
     "iopub.status.idle": "2022-10-18T23:17:31.098573Z",
     "shell.execute_reply": "2022-10-18T23:17:31.097123Z"
    },
    "papermill": {
     "duration": 0.019726,
     "end_time": "2022-10-18T23:17:31.102212",
     "exception": false,
     "start_time": "2022-10-18T23:17:31.082486",
     "status": "completed"
    },
    "tags": []
   },
   "outputs": [],
   "source": [
    "from pathlib import Path\n",
    "import os\n",
    "\n",
    "simulation_data_dir = Path(simulation_dir) / 'simulated_data'\n",
    "initial_reads_dir = simulation_data_dir / 'reads_initial'\n",
    "reads_dir = simulation_data_dir / 'reads'\n",
    "assemblies_dir = simulation_data_dir / 'assemblies'\n",
    "assembled_reads_dir = simulation_data_dir / 'assembled_reads'\n",
    "\n",
    "if not reads_dir.exists():\n",
    "    os.mkdir(reads_dir)\n",
    "    \n",
    "if not assembled_reads_dir.exists():\n",
    "    os.mkdir(assembled_reads_dir)"
   ]
  },
  {
   "cell_type": "markdown",
   "id": "rotary-regard",
   "metadata": {
    "papermill": {
     "duration": 0.0044,
     "end_time": "2022-10-18T23:17:31.112331",
     "exception": false,
     "start_time": "2022-10-18T23:17:31.107931",
     "status": "completed"
    },
    "tags": []
   },
   "source": [
    "# 2. Fix reads\n",
    "\n",
    "Fix read file names and data so they can be indexed."
   ]
  },
  {
   "cell_type": "code",
   "execution_count": 4,
   "id": "convenient-blackberry",
   "metadata": {
    "execution": {
     "iopub.execute_input": "2022-10-18T23:17:31.122311Z",
     "iopub.status.busy": "2022-10-18T23:17:31.121715Z",
     "iopub.status.idle": "2022-10-18T23:17:31.304161Z",
     "shell.execute_reply": "2022-10-18T23:17:31.302545Z"
    },
    "papermill": {
     "duration": 0.191382,
     "end_time": "2022-10-18T23:17:31.307801",
     "exception": false,
     "start_time": "2022-10-18T23:17:31.116419",
     "status": "completed"
    },
    "tags": []
   },
   "outputs": [
    {
     "name": "stdout",
     "output_type": "stream",
     "text": [
      "~/workspace/genomics-data-index-evaluation-manuscript/evaluations/simulation/simulations/cov-50/simulated_data/reads_initial ~/workspace/genomics-data-index-evaluation-manuscript/evaluations/simulation\r\n"
     ]
    },
    {
     "name": "stdout",
     "output_type": "stream",
     "text": [
      "~/workspace/genomics-data-index-evaluation-manuscript/evaluations/simulation\r\n"
     ]
    }
   ],
   "source": [
    "import os\n",
    "\n",
    "# Fix warning about locale unset\n",
    "os.environ['LANG'] = 'en_US.UTF-8'\n",
    "\n",
    "!pushd {initial_reads_dir}; prename 's/data_//' *.fq.gz; popd"
   ]
  },
  {
   "cell_type": "markdown",
   "id": "median-belle",
   "metadata": {
    "papermill": {
     "duration": 0.005979,
     "end_time": "2022-10-18T23:17:31.320022",
     "exception": false,
     "start_time": "2022-10-18T23:17:31.314043",
     "status": "completed"
    },
    "tags": []
   },
   "source": [
    "Jackalope produces reads with non-standard identifiers where pairs of reads don't have matching identifiers. For example:\n",
    "\n",
    "* Pair 1: `@SH08-001-NC_011083-3048632-R/1`\n",
    "* Pair 2: `@SH08-001-NC_011083-3048396-F/2`\n",
    "\n",
    "In order to run snippy, these paired identifiers need to match (except for the `/1` and `/2` suffix).\n",
    "\n",
    "So, I have to replace them all with something unique, but which matches in each pair of files. I do this by replacing the position (I think) with the read number (as it appears in the file). So the above identifiers become:\n",
    "\n",
    "* Pair 1: `@SH08-001-NC_011083-1/1`\n",
    "* Pair 2: `@SH08-001-NC_011083-1/2`"
   ]
  },
  {
   "cell_type": "code",
   "execution_count": 5,
   "id": "remarkable-berry",
   "metadata": {
    "execution": {
     "iopub.execute_input": "2022-10-18T23:17:31.330739Z",
     "iopub.status.busy": "2022-10-18T23:17:31.330089Z",
     "iopub.status.idle": "2022-10-18T23:17:32.423803Z",
     "shell.execute_reply": "2022-10-18T23:17:32.421573Z"
    },
    "papermill": {
     "duration": 1.103936,
     "end_time": "2022-10-18T23:17:32.428304",
     "exception": false,
     "start_time": "2022-10-18T23:17:31.324368",
     "status": "completed"
    },
    "tags": []
   },
   "outputs": [],
   "source": [
    "import glob\n",
    "import os\n",
    "\n",
    "files = [os.path.basename(f) for f in glob.glob(f'{initial_reads_dir}/*.fq.gz')]\n",
    "!parallel -j {ncores} -I% 'gzip -d --stdout {initial_reads_dir}/% | perl scripts/replace-fastq-header.pl | gzip > {reads_dir}/%' \\\n",
    "    ::: {' '.join(files)}"
   ]
  },
  {
   "cell_type": "code",
   "execution_count": 6,
   "id": "8318e7a8-1057-4e4f-aaec-fccdec42a75f",
   "metadata": {
    "execution": {
     "iopub.execute_input": "2022-10-18T23:17:32.444592Z",
     "iopub.status.busy": "2022-10-18T23:17:32.444012Z",
     "iopub.status.idle": "2022-10-18T23:17:32.471399Z",
     "shell.execute_reply": "2022-10-18T23:17:32.470127Z"
    },
    "papermill": {
     "duration": 0.039176,
     "end_time": "2022-10-18T23:17:32.474715",
     "exception": false,
     "start_time": "2022-10-18T23:17:32.435539",
     "status": "completed"
    },
    "tags": []
   },
   "outputs": [],
   "source": [
    "import shutil\n",
    "\n",
    "shutil.rmtree(initial_reads_dir)"
   ]
  },
  {
   "cell_type": "markdown",
   "id": "cf630b4f-ed63-4e14-9657-e0aaea0953ab",
   "metadata": {
    "papermill": {
     "duration": 0.004919,
     "end_time": "2022-10-18T23:17:32.485951",
     "exception": false,
     "start_time": "2022-10-18T23:17:32.481032",
     "status": "completed"
    },
    "tags": []
   },
   "source": [
    "# 3. Fix assemblies\n",
    "\n",
    "Fix assembly genome names"
   ]
  },
  {
   "cell_type": "code",
   "execution_count": 7,
   "id": "08fac610-3ab3-4afa-9873-406973041963",
   "metadata": {
    "execution": {
     "iopub.execute_input": "2022-10-18T23:17:32.496712Z",
     "iopub.status.busy": "2022-10-18T23:17:32.496176Z",
     "iopub.status.idle": "2022-10-18T23:17:32.678716Z",
     "shell.execute_reply": "2022-10-18T23:17:32.677121Z"
    },
    "papermill": {
     "duration": 0.191482,
     "end_time": "2022-10-18T23:17:32.682296",
     "exception": false,
     "start_time": "2022-10-18T23:17:32.490814",
     "status": "completed"
    },
    "tags": []
   },
   "outputs": [
    {
     "name": "stdout",
     "output_type": "stream",
     "text": [
      "~/workspace/genomics-data-index-evaluation-manuscript/evaluations/simulation/simulations/cov-50/simulated_data/assemblies ~/workspace/genomics-data-index-evaluation-manuscript/evaluations/simulation\r\n"
     ]
    },
    {
     "name": "stdout",
     "output_type": "stream",
     "text": [
      "~/workspace/genomics-data-index-evaluation-manuscript/evaluations/simulation\r\n"
     ]
    }
   ],
   "source": [
    "!pushd {assemblies_dir}; prename 's/data__//' *.fa.gz; popd"
   ]
  },
  {
   "cell_type": "markdown",
   "id": "a0856fbc-ba98-4ba1-870b-6923cd636892",
   "metadata": {
    "papermill": {
     "duration": 0.005748,
     "end_time": "2022-10-18T23:17:32.694673",
     "exception": false,
     "start_time": "2022-10-18T23:17:32.688925",
     "status": "completed"
    },
    "tags": []
   },
   "source": [
    "# 4. Assemble reads\n",
    "\n",
    "Assemble reads to have another scenario of imperfect assemblies."
   ]
  },
  {
   "cell_type": "code",
   "execution_count": 8,
   "id": "c1a1b18f-ecd1-4ca3-af9f-ef44648edbd3",
   "metadata": {
    "execution": {
     "iopub.execute_input": "2022-10-18T23:17:32.733205Z",
     "iopub.status.busy": "2022-10-18T23:17:32.732430Z",
     "iopub.status.idle": "2022-10-18T23:17:34.012011Z",
     "shell.execute_reply": "2022-10-18T23:17:34.009996Z"
    },
    "papermill": {
     "duration": 1.292393,
     "end_time": "2022-10-18T23:17:34.016348",
     "exception": false,
     "start_time": "2022-10-18T23:17:32.723955",
     "status": "completed"
    },
    "tags": []
   },
   "outputs": [
    {
     "name": "stdout",
     "output_type": "stream",
     "text": [
      "SKESA 2.4.0\r\n",
      "\r\n",
      "skesa --version \r\n",
      "\r\n",
      "\r\n"
     ]
    }
   ],
   "source": [
    "!conda run -n skesa skesa --version"
   ]
  },
  {
   "cell_type": "code",
   "execution_count": 9,
   "id": "419476b6-ecce-477b-a838-d2419d1d160e",
   "metadata": {
    "execution": {
     "iopub.execute_input": "2022-10-18T23:17:34.032312Z",
     "iopub.status.busy": "2022-10-18T23:17:34.031536Z",
     "iopub.status.idle": "2022-10-18T23:17:56.187053Z",
     "shell.execute_reply": "2022-10-18T23:17:56.184789Z"
    },
    "papermill": {
     "duration": 22.167577,
     "end_time": "2022-10-18T23:17:56.191355",
     "exception": false,
     "start_time": "2022-10-18T23:17:34.023778",
     "status": "completed"
    },
    "tags": []
   },
   "outputs": [],
   "source": [
    "import glob\n",
    "import re\n",
    "\n",
    "fastq_names = [os.path.basename(f) for f in glob.glob(f'{reads_dir}/*_R1.fq.gz')]\n",
    "sample_names = [re.sub(r'_R\\d.fq.gz', '', f) for f in fastq_names]\n",
    "!parallel -j {ncores} -I% 'conda run -n skesa skesa --reads {reads_dir}/%_R1.fq.gz,{reads_dir}/%_R2.fq.gz --contigs_out {assembled_reads_dir}/%.fasta > {assembled_reads_dir}/log.% 2>&1' \\\n",
    "    ::: {' '.join(sample_names)}"
   ]
  }
 ],
 "metadata": {
  "kernelspec": {
   "display_name": "Python 3 (ipykernel)",
   "language": "python",
   "name": "python3"
  },
  "language_info": {
   "codemirror_mode": {
    "name": "ipython",
    "version": 3
   },
   "file_extension": ".py",
   "mimetype": "text/x-python",
   "name": "python",
   "nbconvert_exporter": "python",
   "pygments_lexer": "ipython3",
   "version": "3.8.13"
  },
  "papermill": {
   "default_parameters": {},
   "duration": 26.793716,
   "end_time": "2022-10-18T23:17:56.421926",
   "environment_variables": {},
   "exception": null,
   "input_path": "template-2-fix-simulated-files.ipynb",
   "output_path": "2-fix-simulated-files.simulation-cov-50.ipynb",
   "parameters": {
    "iterations": 1,
    "mincov": 10,
    "read_coverage": 50,
    "simulation_dir": "simulations/cov-50",
    "sub_alpha": 0.2
   },
   "start_time": "2022-10-18T23:17:29.628210",
   "version": "2.3.4"
  }
 },
 "nbformat": 4,
 "nbformat_minor": 5
}