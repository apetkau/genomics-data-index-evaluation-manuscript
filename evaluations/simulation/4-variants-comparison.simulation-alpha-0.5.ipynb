{
 "cells": [
  {
   "cell_type": "markdown",
   "id": "2f66aa00-6c01-46a5-8f31-0e579da614b2",
   "metadata": {
    "papermill": {
     "duration": 0.011235,
     "end_time": "2022-10-19T01:57:16.135139",
     "exception": false,
     "start_time": "2022-10-19T01:57:16.123904",
     "status": "completed"
    },
    "tags": []
   },
   "source": [
    "# 1. Parameters"
   ]
  },
  {
   "cell_type": "code",
   "execution_count": 1,
   "id": "f2cfe9b4-3c45-4e2e-9ba2-17f4119f5f6d",
   "metadata": {
    "execution": {
     "iopub.execute_input": "2022-10-19T01:57:16.151019Z",
     "iopub.status.busy": "2022-10-19T01:57:16.150239Z",
     "iopub.status.idle": "2022-10-19T01:57:16.166168Z",
     "shell.execute_reply": "2022-10-19T01:57:16.164903Z"
    },
    "papermill": {
     "duration": 0.02651,
     "end_time": "2022-10-19T01:57:16.168860",
     "exception": false,
     "start_time": "2022-10-19T01:57:16.142350",
     "status": "completed"
    },
    "tags": [
     "parameters"
    ]
   },
   "outputs": [],
   "source": [
    "# Defaults\n",
    "\n",
    "simulation_dir = 'simulations/unset'\n",
    "reference_file = 'simulations/reference/reference.fa.gz'"
   ]
  },
  {
   "cell_type": "code",
   "execution_count": 2,
   "id": "381a1f0e",
   "metadata": {
    "execution": {
     "iopub.execute_input": "2022-10-19T01:57:16.184280Z",
     "iopub.status.busy": "2022-10-19T01:57:16.183752Z",
     "iopub.status.idle": "2022-10-19T01:57:16.190661Z",
     "shell.execute_reply": "2022-10-19T01:57:16.189244Z"
    },
    "papermill": {
     "duration": 0.016953,
     "end_time": "2022-10-19T01:57:16.193338",
     "exception": false,
     "start_time": "2022-10-19T01:57:16.176385",
     "status": "completed"
    },
    "tags": [
     "injected-parameters"
    ]
   },
   "outputs": [],
   "source": [
    "# Parameters\n",
    "read_coverage = 30\n",
    "mincov = 10\n",
    "simulation_dir = \"simulations/alpha-0.5-cov-30\"\n",
    "iterations = 1\n",
    "sub_alpha = 0.5\n"
   ]
  },
  {
   "cell_type": "code",
   "execution_count": 3,
   "id": "9ddaa924-b1ac-4740-8070-0eaa05b80e96",
   "metadata": {
    "execution": {
     "iopub.execute_input": "2022-10-19T01:57:16.206209Z",
     "iopub.status.busy": "2022-10-19T01:57:16.205365Z",
     "iopub.status.idle": "2022-10-19T01:57:16.214114Z",
     "shell.execute_reply": "2022-10-19T01:57:16.212893Z"
    },
    "papermill": {
     "duration": 0.017688,
     "end_time": "2022-10-19T01:57:16.216579",
     "exception": false,
     "start_time": "2022-10-19T01:57:16.198891",
     "status": "completed"
    },
    "tags": []
   },
   "outputs": [],
   "source": [
    "from pathlib import Path\n",
    "\n",
    "simulation_dir_path = Path(simulation_dir)\n",
    "\n",
    "case_name = str(simulation_dir_path.name)\n",
    "\n",
    "simulation_data_path = simulation_dir_path / 'simulated_data'\n",
    "simulated_variants_file = simulation_data_path / 'haplotypes.vcf.gz'\n",
    "\n",
    "case_name = str(simulation_dir_path.name)\n",
    "index_reads_path = simulation_dir_path / 'index-reads'\n",
    "index_assemblies_path = simulation_dir_path / 'index-assemblies'\n",
    "index_assemblies_reads_path = simulation_dir_path / 'index-assemblies-reads'"
   ]
  },
  {
   "cell_type": "markdown",
   "id": "2b6c7ffd-d5d7-447f-ba62-7ec7d1b0b583",
   "metadata": {
    "papermill": {
     "duration": 0.005807,
     "end_time": "2022-10-19T01:57:16.227944",
     "exception": false,
     "start_time": "2022-10-19T01:57:16.222137",
     "status": "completed"
    },
    "tags": []
   },
   "source": [
    "# 2. Load simulated variants (VCF)"
   ]
  },
  {
   "cell_type": "code",
   "execution_count": 4,
   "id": "e01f3458-fb5e-4fc1-b1f0-69b7a9c9d033",
   "metadata": {
    "execution": {
     "iopub.execute_input": "2022-10-19T01:57:16.238732Z",
     "iopub.status.busy": "2022-10-19T01:57:16.237981Z",
     "iopub.status.idle": "2022-10-19T01:57:17.279097Z",
     "shell.execute_reply": "2022-10-19T01:57:17.278462Z"
    },
    "papermill": {
     "duration": 1.051844,
     "end_time": "2022-10-19T01:57:17.284289",
     "exception": false,
     "start_time": "2022-10-19T01:57:16.232445",
     "status": "completed"
    },
    "tags": []
   },
   "outputs": [
    {
     "data": {
      "text/html": [
       "<div>\n",
       "<style scoped>\n",
       "    .dataframe tbody tr th:only-of-type {\n",
       "        vertical-align: middle;\n",
       "    }\n",
       "\n",
       "    .dataframe tbody tr th {\n",
       "        vertical-align: top;\n",
       "    }\n",
       "\n",
       "    .dataframe thead th {\n",
       "        text-align: right;\n",
       "    }\n",
       "</style>\n",
       "<table border=\"1\" class=\"dataframe\">\n",
       "  <thead>\n",
       "    <tr style=\"text-align: right;\">\n",
       "      <th></th>\n",
       "      <th>CHROM</th>\n",
       "      <th>POS</th>\n",
       "      <th>REF</th>\n",
       "      <th>samples</th>\n",
       "    </tr>\n",
       "  </thead>\n",
       "  <tbody>\n",
       "    <tr>\n",
       "      <th>0</th>\n",
       "      <td>chrom0</td>\n",
       "      <td>10</td>\n",
       "      <td>G</td>\n",
       "      <td>[Call(sample=reference, CallData(GT=0, GQ=4414...</td>\n",
       "    </tr>\n",
       "    <tr>\n",
       "      <th>1</th>\n",
       "      <td>chrom0</td>\n",
       "      <td>29</td>\n",
       "      <td>C</td>\n",
       "      <td>[Call(sample=reference, CallData(GT=0, GQ=4414...</td>\n",
       "    </tr>\n",
       "    <tr>\n",
       "      <th>2</th>\n",
       "      <td>chrom0</td>\n",
       "      <td>31</td>\n",
       "      <td>C</td>\n",
       "      <td>[Call(sample=reference, CallData(GT=0, GQ=4414...</td>\n",
       "    </tr>\n",
       "    <tr>\n",
       "      <th>3</th>\n",
       "      <td>chrom0</td>\n",
       "      <td>42</td>\n",
       "      <td>G</td>\n",
       "      <td>[Call(sample=reference, CallData(GT=0, GQ=4414...</td>\n",
       "    </tr>\n",
       "    <tr>\n",
       "      <th>4</th>\n",
       "      <td>chrom0</td>\n",
       "      <td>43</td>\n",
       "      <td>A</td>\n",
       "      <td>[Call(sample=reference, CallData(GT=0, GQ=4414...</td>\n",
       "    </tr>\n",
       "  </tbody>\n",
       "</table>\n",
       "</div>"
      ],
      "text/plain": [
       "    CHROM  POS REF                                            samples\n",
       "0  chrom0   10   G  [Call(sample=reference, CallData(GT=0, GQ=4414...\n",
       "1  chrom0   29   C  [Call(sample=reference, CallData(GT=0, GQ=4414...\n",
       "2  chrom0   31   C  [Call(sample=reference, CallData(GT=0, GQ=4414...\n",
       "3  chrom0   42   G  [Call(sample=reference, CallData(GT=0, GQ=4414...\n",
       "4  chrom0   43   A  [Call(sample=reference, CallData(GT=0, GQ=4414..."
      ]
     },
     "execution_count": 4,
     "metadata": {},
     "output_type": "execute_result"
    }
   ],
   "source": [
    "import vcf\n",
    "import pandas as pd\n",
    "import time\n",
    "\n",
    "reader = vcf.Reader(filename=str(simulated_variants_file))\n",
    "simulated_df = pd.DataFrame([vars(r) for r in reader])\n",
    "simulated_df = simulated_df[['CHROM', 'POS', 'REF', 'samples']]\n",
    "simulated_df.head(5)"
   ]
  },
  {
   "cell_type": "markdown",
   "id": "f1c95d8a-de3e-4bb4-b13f-0f88e6466925",
   "metadata": {
    "papermill": {
     "duration": 0.006848,
     "end_time": "2022-10-19T01:57:17.299636",
     "exception": false,
     "start_time": "2022-10-19T01:57:17.292788",
     "status": "completed"
    },
    "tags": []
   },
   "source": [
    "## 2.1. Construct sample:variant identifiers"
   ]
  },
  {
   "cell_type": "code",
   "execution_count": 5,
   "id": "bac0a5e7-a844-47bb-9204-3b4711d0c329",
   "metadata": {
    "execution": {
     "iopub.execute_input": "2022-10-19T01:57:17.311315Z",
     "iopub.status.busy": "2022-10-19T01:57:17.310668Z",
     "iopub.status.idle": "2022-10-19T01:57:17.970567Z",
     "shell.execute_reply": "2022-10-19T01:57:17.969654Z"
    },
    "papermill": {
     "duration": 0.669531,
     "end_time": "2022-10-19T01:57:17.974387",
     "exception": false,
     "start_time": "2022-10-19T01:57:17.304856",
     "status": "completed"
    },
    "tags": []
   },
   "outputs": [
    {
     "name": "stdout",
     "output_type": "stream",
     "text": [
      "There are 31258 expected sample/variant pairs like: ['SH10-002:chrom0:10:G:A', 'SH08-001:chrom0:29:C:A', 'SH09-29:chrom0:31:C:A']\n",
      "Took 0.0 minutes\n"
     ]
    }
   ],
   "source": [
    "before = time.time()\n",
    "\n",
    "# Explode dataframe so that we have one row per sample\n",
    "simulated_df_exploded = simulated_df.explode('samples')\n",
    "simulated_df_exploded['SAMPLE'] = simulated_df_exploded['samples'].apply(lambda x: x.sample)\n",
    "\n",
    "# Extrat ALT for each sample\n",
    "simulated_df_exploded['ALT'] = simulated_df_exploded['samples'].apply(lambda x: x.gt_bases)\n",
    "\n",
    "# Only keep mutations/those where REF and ALT are different\n",
    "simulated_df_exploded = simulated_df_exploded[simulated_df_exploded['REF'] != simulated_df_exploded['ALT']]\n",
    "\n",
    "# Create SPDI-like identifier with Sample name for comparison (SAMPLE:CHROM:POS:REF:ALT)\n",
    "simulated_df_exploded['ID'] = simulated_df_exploded.apply(\n",
    "    lambda x: f\"{x['SAMPLE']}:{x['CHROM']}:{x['POS']}:{x['REF']}:{x['ALT']}\", axis='columns')\n",
    "\n",
    "simulated_variants = simulated_df_exploded['ID'].reset_index(drop=True)\n",
    "expected_sample_variants = set(simulated_variants)\n",
    "\n",
    "after = time.time()\n",
    "\n",
    "print(f'There are {len(expected_sample_variants)} expected sample/variant pairs like: '\n",
    "      f'{list(simulated_variants[0:3])}')\n",
    "print(f'Took {(after - before)/60:0.1f} minutes')"
   ]
  },
  {
   "cell_type": "code",
   "execution_count": 6,
   "id": "e3f05c50-a98a-431f-b8c8-a5083738255c",
   "metadata": {
    "execution": {
     "iopub.execute_input": "2022-10-19T01:57:17.991295Z",
     "iopub.status.busy": "2022-10-19T01:57:17.990927Z",
     "iopub.status.idle": "2022-10-19T01:57:18.008102Z",
     "shell.execute_reply": "2022-10-19T01:57:18.007260Z"
    },
    "papermill": {
     "duration": 0.02643,
     "end_time": "2022-10-19T01:57:18.010130",
     "exception": false,
     "start_time": "2022-10-19T01:57:17.983700",
     "status": "completed"
    },
    "tags": []
   },
   "outputs": [
    {
     "data": {
      "text/html": [
       "<div>\n",
       "<style scoped>\n",
       "    .dataframe tbody tr th:only-of-type {\n",
       "        vertical-align: middle;\n",
       "    }\n",
       "\n",
       "    .dataframe tbody tr th {\n",
       "        vertical-align: top;\n",
       "    }\n",
       "\n",
       "    .dataframe thead th {\n",
       "        text-align: right;\n",
       "    }\n",
       "</style>\n",
       "<table border=\"1\" class=\"dataframe\">\n",
       "  <thead>\n",
       "    <tr style=\"text-align: right;\">\n",
       "      <th></th>\n",
       "      <th>CHROM</th>\n",
       "      <th>POS</th>\n",
       "      <th>REF</th>\n",
       "      <th>samples</th>\n",
       "      <th>SAMPLE</th>\n",
       "      <th>ALT</th>\n",
       "      <th>ID</th>\n",
       "    </tr>\n",
       "  </thead>\n",
       "  <tbody>\n",
       "    <tr>\n",
       "      <th>0</th>\n",
       "      <td>chrom0</td>\n",
       "      <td>10</td>\n",
       "      <td>G</td>\n",
       "      <td>Call(sample=SH10-002, CallData(GT=1, GQ=441453))</td>\n",
       "      <td>SH10-002</td>\n",
       "      <td>A</td>\n",
       "      <td>SH10-002:chrom0:10:G:A</td>\n",
       "    </tr>\n",
       "    <tr>\n",
       "      <th>1</th>\n",
       "      <td>chrom0</td>\n",
       "      <td>29</td>\n",
       "      <td>C</td>\n",
       "      <td>Call(sample=SH08-001, CallData(GT=1, GQ=441453))</td>\n",
       "      <td>SH08-001</td>\n",
       "      <td>A</td>\n",
       "      <td>SH08-001:chrom0:29:C:A</td>\n",
       "    </tr>\n",
       "    <tr>\n",
       "      <th>2</th>\n",
       "      <td>chrom0</td>\n",
       "      <td>31</td>\n",
       "      <td>C</td>\n",
       "      <td>Call(sample=SH09-29, CallData(GT=1, GQ=441453))</td>\n",
       "      <td>SH09-29</td>\n",
       "      <td>A</td>\n",
       "      <td>SH09-29:chrom0:31:C:A</td>\n",
       "    </tr>\n",
       "    <tr>\n",
       "      <th>2</th>\n",
       "      <td>chrom0</td>\n",
       "      <td>31</td>\n",
       "      <td>C</td>\n",
       "      <td>Call(sample=SH10-30, CallData(GT=1, GQ=441453))</td>\n",
       "      <td>SH10-30</td>\n",
       "      <td>A</td>\n",
       "      <td>SH10-30:chrom0:31:C:A</td>\n",
       "    </tr>\n",
       "    <tr>\n",
       "      <th>2</th>\n",
       "      <td>chrom0</td>\n",
       "      <td>31</td>\n",
       "      <td>C</td>\n",
       "      <td>Call(sample=SH14-001, CallData(GT=1, GQ=441453))</td>\n",
       "      <td>SH14-001</td>\n",
       "      <td>A</td>\n",
       "      <td>SH14-001:chrom0:31:C:A</td>\n",
       "    </tr>\n",
       "    <tr>\n",
       "      <th>...</th>\n",
       "      <td>...</td>\n",
       "      <td>...</td>\n",
       "      <td>...</td>\n",
       "      <td>...</td>\n",
       "      <td>...</td>\n",
       "      <td>...</td>\n",
       "      <td>...</td>\n",
       "    </tr>\n",
       "    <tr>\n",
       "      <th>2220</th>\n",
       "      <td>chrom1</td>\n",
       "      <td>8862</td>\n",
       "      <td>G</td>\n",
       "      <td>Call(sample=SH12-001, CallData(GT=1, GQ=441453))</td>\n",
       "      <td>SH12-001</td>\n",
       "      <td>A</td>\n",
       "      <td>SH12-001:chrom1:8862:G:A</td>\n",
       "    </tr>\n",
       "    <tr>\n",
       "      <th>2220</th>\n",
       "      <td>chrom1</td>\n",
       "      <td>8862</td>\n",
       "      <td>G</td>\n",
       "      <td>Call(sample=SH12-009, CallData(GT=1, GQ=441453))</td>\n",
       "      <td>SH12-009</td>\n",
       "      <td>A</td>\n",
       "      <td>SH12-009:chrom1:8862:G:A</td>\n",
       "    </tr>\n",
       "    <tr>\n",
       "      <th>2220</th>\n",
       "      <td>chrom1</td>\n",
       "      <td>8862</td>\n",
       "      <td>G</td>\n",
       "      <td>Call(sample=SH12-010, CallData(GT=1, GQ=441453))</td>\n",
       "      <td>SH12-010</td>\n",
       "      <td>A</td>\n",
       "      <td>SH12-010:chrom1:8862:G:A</td>\n",
       "    </tr>\n",
       "    <tr>\n",
       "      <th>2220</th>\n",
       "      <td>chrom1</td>\n",
       "      <td>8862</td>\n",
       "      <td>G</td>\n",
       "      <td>Call(sample=SH12-002, CallData(GT=1, GQ=441453))</td>\n",
       "      <td>SH12-002</td>\n",
       "      <td>A</td>\n",
       "      <td>SH12-002:chrom1:8862:G:A</td>\n",
       "    </tr>\n",
       "    <tr>\n",
       "      <th>2220</th>\n",
       "      <td>chrom1</td>\n",
       "      <td>8862</td>\n",
       "      <td>G</td>\n",
       "      <td>Call(sample=SH12-007, CallData(GT=1, GQ=441453))</td>\n",
       "      <td>SH12-007</td>\n",
       "      <td>A</td>\n",
       "      <td>SH12-007:chrom1:8862:G:A</td>\n",
       "    </tr>\n",
       "  </tbody>\n",
       "</table>\n",
       "<p>31258 rows × 7 columns</p>\n",
       "</div>"
      ],
      "text/plain": [
       "       CHROM   POS REF                                           samples  \\\n",
       "0     chrom0    10   G  Call(sample=SH10-002, CallData(GT=1, GQ=441453))   \n",
       "1     chrom0    29   C  Call(sample=SH08-001, CallData(GT=1, GQ=441453))   \n",
       "2     chrom0    31   C   Call(sample=SH09-29, CallData(GT=1, GQ=441453))   \n",
       "2     chrom0    31   C   Call(sample=SH10-30, CallData(GT=1, GQ=441453))   \n",
       "2     chrom0    31   C  Call(sample=SH14-001, CallData(GT=1, GQ=441453))   \n",
       "...      ...   ...  ..                                               ...   \n",
       "2220  chrom1  8862   G  Call(sample=SH12-001, CallData(GT=1, GQ=441453))   \n",
       "2220  chrom1  8862   G  Call(sample=SH12-009, CallData(GT=1, GQ=441453))   \n",
       "2220  chrom1  8862   G  Call(sample=SH12-010, CallData(GT=1, GQ=441453))   \n",
       "2220  chrom1  8862   G  Call(sample=SH12-002, CallData(GT=1, GQ=441453))   \n",
       "2220  chrom1  8862   G  Call(sample=SH12-007, CallData(GT=1, GQ=441453))   \n",
       "\n",
       "        SAMPLE ALT                        ID  \n",
       "0     SH10-002   A    SH10-002:chrom0:10:G:A  \n",
       "1     SH08-001   A    SH08-001:chrom0:29:C:A  \n",
       "2      SH09-29   A     SH09-29:chrom0:31:C:A  \n",
       "2      SH10-30   A     SH10-30:chrom0:31:C:A  \n",
       "2     SH14-001   A    SH14-001:chrom0:31:C:A  \n",
       "...        ...  ..                       ...  \n",
       "2220  SH12-001   A  SH12-001:chrom1:8862:G:A  \n",
       "2220  SH12-009   A  SH12-009:chrom1:8862:G:A  \n",
       "2220  SH12-010   A  SH12-010:chrom1:8862:G:A  \n",
       "2220  SH12-002   A  SH12-002:chrom1:8862:G:A  \n",
       "2220  SH12-007   A  SH12-007:chrom1:8862:G:A  \n",
       "\n",
       "[31258 rows x 7 columns]"
      ]
     },
     "execution_count": 6,
     "metadata": {},
     "output_type": "execute_result"
    }
   ],
   "source": [
    "simulated_df_exploded"
   ]
  },
  {
   "cell_type": "markdown",
   "id": "85d49181-9782-48b6-bdef-dfa2b19cd6b6",
   "metadata": {
    "papermill": {
     "duration": 0.006507,
     "end_time": "2022-10-19T01:57:18.023448",
     "exception": false,
     "start_time": "2022-10-19T01:57:18.016941",
     "status": "completed"
    },
    "tags": []
   },
   "source": [
    "## 1.2. Load reference genome for use with positive/negative calculations"
   ]
  },
  {
   "cell_type": "code",
   "execution_count": 7,
   "id": "bfaacd7f-746e-452a-9b4b-cb4526424b13",
   "metadata": {
    "execution": {
     "iopub.execute_input": "2022-10-19T01:57:18.034459Z",
     "iopub.status.busy": "2022-10-19T01:57:18.033827Z",
     "iopub.status.idle": "2022-10-19T01:57:18.114960Z",
     "shell.execute_reply": "2022-10-19T01:57:18.114344Z"
    },
    "papermill": {
     "duration": 0.090808,
     "end_time": "2022-10-19T01:57:18.118709",
     "exception": false,
     "start_time": "2022-10-19T01:57:18.027901",
     "status": "completed"
    },
    "tags": []
   },
   "outputs": [
    {
     "name": "stdout",
     "output_type": "stream",
     "text": [
      "Reference length: 10834\n",
      "Number samples: 59\n"
     ]
    }
   ],
   "source": [
    "import gzip\n",
    "from Bio import SeqIO\n",
    "\n",
    "with gzip.open(reference_file, mode='rt') as f:\n",
    "    sequences = list(SeqIO.parse(f, 'fasta'))\n",
    "    reference_length = len(sequences[0])\n",
    "    \n",
    "sample_names = set(simulated_df_exploded.groupby('SAMPLE').agg({'SAMPLE': 'count'}).index)\n",
    "sample_names = sample_names - {'reference'}\n",
    "number_samples = len(sample_names)\n",
    "\n",
    "print(f'Reference length: {reference_length}')\n",
    "print(f'Number samples: {number_samples}')"
   ]
  },
  {
   "cell_type": "markdown",
   "id": "31d39af6-8bcb-416b-ba4c-38c06fc6085e",
   "metadata": {
    "papermill": {
     "duration": 0.007569,
     "end_time": "2022-10-19T01:57:18.136044",
     "exception": false,
     "start_time": "2022-10-19T01:57:18.128475",
     "status": "completed"
    },
    "tags": []
   },
   "source": [
    "# 3. Load detected variants\n",
    "\n",
    "## 3.1. Load from reads index"
   ]
  },
  {
   "cell_type": "code",
   "execution_count": 8,
   "id": "89978058-5e1b-4c20-ba21-fc23daa74dcb",
   "metadata": {
    "execution": {
     "iopub.execute_input": "2022-10-19T01:57:18.178468Z",
     "iopub.status.busy": "2022-10-19T01:57:18.177820Z",
     "iopub.status.idle": "2022-10-19T01:57:26.051994Z",
     "shell.execute_reply": "2022-10-19T01:57:26.051097Z"
    },
    "papermill": {
     "duration": 7.890521,
     "end_time": "2022-10-19T01:57:26.058389",
     "exception": false,
     "start_time": "2022-10-19T01:57:18.167868",
     "status": "completed"
    },
    "tags": []
   },
   "outputs": [
    {
     "name": "stdout",
     "output_type": "stream",
     "text": [
      "There are 27124 actual sample/variant pairs (reads)\n",
      "Took 0.1 minutes\n",
      "Actual variants look like: ['SH13-007:chrom0:6032:A:G', 'SH14-024:chrom1:8158:G:A', 'SH12-006:chrom0:4967:C:G', 'SH14-012:chrom1:6676:C:T', 'SH12-013:chrom0:1925:G:C']\n"
     ]
    }
   ],
   "source": [
    "from typing import Set\n",
    "import genomics_data_index.api as gdi\n",
    "\n",
    "def get_sample_variant_idenifiers(index_dir: Path) -> Set[str]:\n",
    "    db = gdi.GenomicsDataIndex.connect(index_dir)\n",
    "    q = db.samples_query()\n",
    "\n",
    "    actual_sample_variants = set()\n",
    "    for sample in q.tolist():\n",
    "        sample_features = q.isa(sample).features_summary().reset_index()\n",
    "        sample_features_set = set(sample_features['Mutation'].apply(lambda x: f\"{sample}:{x}\"))\n",
    "        actual_sample_variants.update(sample_features_set)\n",
    "    return actual_sample_variants\n",
    "\n",
    "before = time.time()\n",
    "actual_sample_variants_reads = get_sample_variant_idenifiers(index_reads_path)\n",
    "after = time.time()\n",
    "\n",
    "print(f'There are {len(actual_sample_variants_reads)} actual sample/variant pairs (reads)')\n",
    "print(f'Took {(after - before)/60:0.1f} minutes')\n",
    "print(f'Actual variants look like: {list(actual_sample_variants_reads)[0:5]}')"
   ]
  },
  {
   "cell_type": "markdown",
   "id": "4eb6bf76-40f0-449f-8cac-72679f484e8c",
   "metadata": {
    "papermill": {
     "duration": 0.003677,
     "end_time": "2022-10-19T01:57:26.067114",
     "exception": false,
     "start_time": "2022-10-19T01:57:26.063437",
     "status": "completed"
    },
    "tags": []
   },
   "source": [
    "## 2.2. Load from assemblies index"
   ]
  },
  {
   "cell_type": "code",
   "execution_count": 9,
   "id": "b91c4675-1b29-4a1c-b976-ba88a80d2c78",
   "metadata": {
    "execution": {
     "iopub.execute_input": "2022-10-19T01:57:26.075679Z",
     "iopub.status.busy": "2022-10-19T01:57:26.075191Z",
     "iopub.status.idle": "2022-10-19T01:57:31.451691Z",
     "shell.execute_reply": "2022-10-19T01:57:31.450994Z"
    },
    "papermill": {
     "duration": 5.384986,
     "end_time": "2022-10-19T01:57:31.455574",
     "exception": false,
     "start_time": "2022-10-19T01:57:26.070588",
     "status": "completed"
    },
    "tags": []
   },
   "outputs": [
    {
     "name": "stderr",
     "output_type": "stream",
     "text": [
      "Attempting to set global database_path_translator=<genomics_data_index.storage.model.db.DatabasePathTranslator.DatabasePathTranslator object at 0x7f8c7b81a2e0> but it is already set\n"
     ]
    },
    {
     "name": "stdout",
     "output_type": "stream",
     "text": [
      "There are 31151 actual sample/variant pairs (assemblies)\n",
      "Took 0.1 minutes\n"
     ]
    }
   ],
   "source": [
    "before = time.time()\n",
    "actual_sample_variants_assemblies = get_sample_variant_idenifiers(index_assemblies_path)\n",
    "after = time.time()\n",
    "\n",
    "print(f'There are {len(actual_sample_variants_assemblies)} actual sample/variant pairs (assemblies)')\n",
    "print(f'Took {(after - before)/60:0.1f} minutes')"
   ]
  },
  {
   "cell_type": "markdown",
   "id": "d44443ae-96df-4372-9eca-06c7a3f5c347",
   "metadata": {
    "papermill": {
     "duration": 0.006866,
     "end_time": "2022-10-19T01:57:31.475900",
     "exception": false,
     "start_time": "2022-10-19T01:57:31.469034",
     "status": "completed"
    },
    "tags": []
   },
   "source": [
    "## 2.3. Load from assemblies reads index"
   ]
  },
  {
   "cell_type": "code",
   "execution_count": 10,
   "id": "434390d4-3b8a-4391-966b-00ff61b38724",
   "metadata": {
    "execution": {
     "iopub.execute_input": "2022-10-19T01:57:31.487387Z",
     "iopub.status.busy": "2022-10-19T01:57:31.486681Z",
     "iopub.status.idle": "2022-10-19T01:57:37.001030Z",
     "shell.execute_reply": "2022-10-19T01:57:37.000269Z"
    },
    "papermill": {
     "duration": 5.524272,
     "end_time": "2022-10-19T01:57:37.004798",
     "exception": false,
     "start_time": "2022-10-19T01:57:31.480526",
     "status": "completed"
    },
    "tags": []
   },
   "outputs": [
    {
     "name": "stderr",
     "output_type": "stream",
     "text": [
      "Attempting to set global database_path_translator=<genomics_data_index.storage.model.db.DatabasePathTranslator.DatabasePathTranslator object at 0x7f8e80451be0> but it is already set\n"
     ]
    },
    {
     "name": "stdout",
     "output_type": "stream",
     "text": [
      "There are 30759 actual sample/variant pairs (assemblies reads)\n",
      "Took 0.1 minutes\n"
     ]
    }
   ],
   "source": [
    "before = time.time()\n",
    "actual_sample_variants_assemblies_reads = get_sample_variant_idenifiers(index_assemblies_reads_path)\n",
    "after = time.time()\n",
    "\n",
    "print(f'There are {len(actual_sample_variants_assemblies_reads)} actual sample/variant pairs (assemblies reads)')\n",
    "print(f'Took {(after - before)/60:0.1f} minutes')"
   ]
  },
  {
   "cell_type": "markdown",
   "id": "52efd18a-5198-45cc-a092-4dfaba600ca1",
   "metadata": {
    "papermill": {
     "duration": 0.012057,
     "end_time": "2022-10-19T01:57:37.031633",
     "exception": false,
     "start_time": "2022-10-19T01:57:37.019576",
     "status": "completed"
    },
    "tags": []
   },
   "source": [
    "# 3. Compare expected/actual variants\n",
    "\n",
    "## 3.1. Compare with reads index"
   ]
  },
  {
   "cell_type": "code",
   "execution_count": 11,
   "id": "3897d419-cc74-49d0-92d6-371f365f3ff1",
   "metadata": {
    "execution": {
     "iopub.execute_input": "2022-10-19T01:57:37.048383Z",
     "iopub.status.busy": "2022-10-19T01:57:37.047043Z",
     "iopub.status.idle": "2022-10-19T01:57:37.089891Z",
     "shell.execute_reply": "2022-10-19T01:57:37.089286Z"
    },
    "papermill": {
     "duration": 0.056011,
     "end_time": "2022-10-19T01:57:37.095357",
     "exception": false,
     "start_time": "2022-10-19T01:57:37.039346",
     "status": "completed"
    },
    "tags": []
   },
   "outputs": [
    {
     "name": "stdout",
     "output_type": "stream",
     "text": [
      "Sensitivity: 0.7742\n",
      "Specificity: ~1 (not calculated)\n",
      "Precision: 0.8922\n",
      "F1 Score: 0.8290\n"
     ]
    },
    {
     "data": {
      "text/html": [
       "<div>\n",
       "<style scoped>\n",
       "    .dataframe tbody tr th:only-of-type {\n",
       "        vertical-align: middle;\n",
       "    }\n",
       "\n",
       "    .dataframe tbody tr th {\n",
       "        vertical-align: top;\n",
       "    }\n",
       "\n",
       "    .dataframe thead th {\n",
       "        text-align: right;\n",
       "    }\n",
       "</style>\n",
       "<table border=\"1\" class=\"dataframe\">\n",
       "  <thead>\n",
       "    <tr style=\"text-align: right;\">\n",
       "      <th></th>\n",
       "      <th>Name</th>\n",
       "      <th>True Positives</th>\n",
       "      <th>True Negatives</th>\n",
       "      <th>False Positives</th>\n",
       "      <th>False Negatives</th>\n",
       "      <th>Sensitivity</th>\n",
       "      <th>Specificity</th>\n",
       "      <th>Precision</th>\n",
       "      <th>F1 Score</th>\n",
       "    </tr>\n",
       "  </thead>\n",
       "  <tbody>\n",
       "    <tr>\n",
       "      <th>0</th>\n",
       "      <td>alpha-0.5-cov-30 reads</td>\n",
       "      <td>24199</td>\n",
       "      <td>&lt;NA&gt;</td>\n",
       "      <td>2925</td>\n",
       "      <td>7059</td>\n",
       "      <td>0.77417</td>\n",
       "      <td>~1 (not calculated)</td>\n",
       "      <td>0.892162</td>\n",
       "      <td>0.828988</td>\n",
       "    </tr>\n",
       "  </tbody>\n",
       "</table>\n",
       "</div>"
      ],
      "text/plain": [
       "                     Name  True Positives True Negatives  False Positives  \\\n",
       "0  alpha-0.5-cov-30 reads           24199           <NA>             2925   \n",
       "\n",
       "   False Negatives  Sensitivity          Specificity  Precision  F1 Score  \n",
       "0             7059      0.77417  ~1 (not calculated)   0.892162  0.828988  "
      ]
     },
     "execution_count": 11,
     "metadata": {},
     "output_type": "execute_result"
    }
   ],
   "source": [
    "def compare_expected_actual(name: str, actual_sample_variants: Set[str]) -> pd.DataFrame:\n",
    "    number_expected = len(expected_sample_variants)\n",
    "    number_actual = len(actual_sample_variants)\n",
    "\n",
    "    true_positives = actual_sample_variants & expected_sample_variants\n",
    "    false_negatives = expected_sample_variants - actual_sample_variants\n",
    "    false_positives = actual_sample_variants - expected_sample_variants\n",
    "    # I cannot get true negatives since I would need to know the total number of negatives (i.e., all possible \n",
    "    #  variants with respect to the reference genome that were not simulated). This would be a finite, but \n",
    "    #  very very large number (and I haven't worked out how to calculate it).\n",
    "    # For example, one negative is Sample:1:A:T, another negative is Sample:1:AG:TT, and so on for the entire \n",
    "    # length of the genome.\n",
    "    # true_negatives = set()\n",
    "\n",
    "    sensitivity = len(true_positives) / (len(true_positives) + len(false_negatives))\n",
    "    precision = len(true_positives) / (len(true_positives) + len(false_positives))\n",
    "    f1_score = 2 * len(true_positives) / (2 * len(true_positives) + len(false_positives) + len(false_negatives))\n",
    "\n",
    "    # Since true_negatives are a very large number, then for all intents and purposes\n",
    "    # specificity will be very very close to 1. So instead of trying to calculate it\n",
    "    # I just call it ~1, but it's also not very useful because of this.\n",
    "    #specificity = len(true_negatives) / (len(true_negatives) + len(false_positives))\n",
    "    specificity = '~1 (not calculated)'\n",
    "\n",
    "    print(f'Sensitivity: {sensitivity:0.4f}')\n",
    "    print(f'Specificity: {specificity}')\n",
    "    print(f'Precision: {precision:0.4f}')\n",
    "    print(f'F1 Score: {f1_score:0.4f}')\n",
    "    \n",
    "    comparison_df = pd.DataFrame([{\n",
    "        'Name': name,\n",
    "        'True Positives': len(true_positives),\n",
    "        'True Negatives': pd.NA,\n",
    "        'False Positives': len(false_positives),\n",
    "        'False Negatives': len(false_negatives),\n",
    "        'Sensitivity': sensitivity,\n",
    "        'Specificity': specificity,\n",
    "        'Precision': precision,\n",
    "        'F1 Score': f1_score,\n",
    "    }])\n",
    "    \n",
    "    data = {\n",
    "        'tp': true_positives,\n",
    "        'fp': false_positives,\n",
    "        'fn': false_negatives\n",
    "    }\n",
    "    \n",
    "    return comparison_df, data\n",
    "    \n",
    "comparison_reads_df, data_reads = compare_expected_actual(name=f'{case_name} reads',\n",
    "                                                          actual_sample_variants=actual_sample_variants_reads)\n",
    "comparison_reads_df"
   ]
  },
  {
   "cell_type": "markdown",
   "id": "d5f3bf59-c828-40e1-9394-f0c40a73dfa6",
   "metadata": {
    "papermill": {
     "duration": 0.006605,
     "end_time": "2022-10-19T01:57:37.112042",
     "exception": false,
     "start_time": "2022-10-19T01:57:37.105437",
     "status": "completed"
    },
    "tags": []
   },
   "source": [
    "## 3.2. Compare with assemblies index"
   ]
  },
  {
   "cell_type": "code",
   "execution_count": 12,
   "id": "341de1ba-a120-471c-97f8-f85537dca10b",
   "metadata": {
    "execution": {
     "iopub.execute_input": "2022-10-19T01:57:37.123351Z",
     "iopub.status.busy": "2022-10-19T01:57:37.122771Z",
     "iopub.status.idle": "2022-10-19T01:57:37.155575Z",
     "shell.execute_reply": "2022-10-19T01:57:37.154277Z"
    },
    "papermill": {
     "duration": 0.043246,
     "end_time": "2022-10-19T01:57:37.160186",
     "exception": false,
     "start_time": "2022-10-19T01:57:37.116940",
     "status": "completed"
    },
    "tags": []
   },
   "outputs": [
    {
     "name": "stdout",
     "output_type": "stream",
     "text": [
      "Sensitivity: 0.9966\n",
      "Specificity: ~1 (not calculated)\n",
      "Precision: 1.0000\n",
      "F1 Score: 0.9983\n"
     ]
    },
    {
     "data": {
      "text/html": [
       "<div>\n",
       "<style scoped>\n",
       "    .dataframe tbody tr th:only-of-type {\n",
       "        vertical-align: middle;\n",
       "    }\n",
       "\n",
       "    .dataframe tbody tr th {\n",
       "        vertical-align: top;\n",
       "    }\n",
       "\n",
       "    .dataframe thead th {\n",
       "        text-align: right;\n",
       "    }\n",
       "</style>\n",
       "<table border=\"1\" class=\"dataframe\">\n",
       "  <thead>\n",
       "    <tr style=\"text-align: right;\">\n",
       "      <th></th>\n",
       "      <th>Name</th>\n",
       "      <th>True Positives</th>\n",
       "      <th>True Negatives</th>\n",
       "      <th>False Positives</th>\n",
       "      <th>False Negatives</th>\n",
       "      <th>Sensitivity</th>\n",
       "      <th>Specificity</th>\n",
       "      <th>Precision</th>\n",
       "      <th>F1 Score</th>\n",
       "    </tr>\n",
       "  </thead>\n",
       "  <tbody>\n",
       "    <tr>\n",
       "      <th>0</th>\n",
       "      <td>alpha-0.5-cov-30 assemblies</td>\n",
       "      <td>31151</td>\n",
       "      <td>&lt;NA&gt;</td>\n",
       "      <td>0</td>\n",
       "      <td>107</td>\n",
       "      <td>0.996577</td>\n",
       "      <td>~1 (not calculated)</td>\n",
       "      <td>1.0</td>\n",
       "      <td>0.998286</td>\n",
       "    </tr>\n",
       "  </tbody>\n",
       "</table>\n",
       "</div>"
      ],
      "text/plain": [
       "                          Name  True Positives True Negatives  \\\n",
       "0  alpha-0.5-cov-30 assemblies           31151           <NA>   \n",
       "\n",
       "   False Positives  False Negatives  Sensitivity          Specificity  \\\n",
       "0                0              107     0.996577  ~1 (not calculated)   \n",
       "\n",
       "   Precision  F1 Score  \n",
       "0        1.0  0.998286  "
      ]
     },
     "execution_count": 12,
     "metadata": {},
     "output_type": "execute_result"
    }
   ],
   "source": [
    "comparison_assemblies_df, data_assemblies = compare_expected_actual(name=f'{case_name} assemblies',\n",
    "                                                                    actual_sample_variants=actual_sample_variants_assemblies)\n",
    "comparison_assemblies_df"
   ]
  },
  {
   "cell_type": "markdown",
   "id": "1027e408-91e0-4323-a4f2-8e0d3c799e15",
   "metadata": {
    "papermill": {
     "duration": 0.006843,
     "end_time": "2022-10-19T01:57:37.177154",
     "exception": false,
     "start_time": "2022-10-19T01:57:37.170311",
     "status": "completed"
    },
    "tags": []
   },
   "source": [
    "## 3.3. Compare with assemblies reads index"
   ]
  },
  {
   "cell_type": "code",
   "execution_count": 13,
   "id": "a413335c-f55f-4367-abc4-6d33562e6ea8",
   "metadata": {
    "execution": {
     "iopub.execute_input": "2022-10-19T01:57:37.188907Z",
     "iopub.status.busy": "2022-10-19T01:57:37.188222Z",
     "iopub.status.idle": "2022-10-19T01:57:37.218731Z",
     "shell.execute_reply": "2022-10-19T01:57:37.217856Z"
    },
    "papermill": {
     "duration": 0.041027,
     "end_time": "2022-10-19T01:57:37.223713",
     "exception": false,
     "start_time": "2022-10-19T01:57:37.182686",
     "status": "completed"
    },
    "tags": []
   },
   "outputs": [
    {
     "name": "stdout",
     "output_type": "stream",
     "text": [
      "Sensitivity: 0.9799\n",
      "Specificity: ~1 (not calculated)\n",
      "Precision: 0.9958\n",
      "F1 Score: 0.9878\n"
     ]
    },
    {
     "data": {
      "text/html": [
       "<div>\n",
       "<style scoped>\n",
       "    .dataframe tbody tr th:only-of-type {\n",
       "        vertical-align: middle;\n",
       "    }\n",
       "\n",
       "    .dataframe tbody tr th {\n",
       "        vertical-align: top;\n",
       "    }\n",
       "\n",
       "    .dataframe thead th {\n",
       "        text-align: right;\n",
       "    }\n",
       "</style>\n",
       "<table border=\"1\" class=\"dataframe\">\n",
       "  <thead>\n",
       "    <tr style=\"text-align: right;\">\n",
       "      <th></th>\n",
       "      <th>Name</th>\n",
       "      <th>True Positives</th>\n",
       "      <th>True Negatives</th>\n",
       "      <th>False Positives</th>\n",
       "      <th>False Negatives</th>\n",
       "      <th>Sensitivity</th>\n",
       "      <th>Specificity</th>\n",
       "      <th>Precision</th>\n",
       "      <th>F1 Score</th>\n",
       "    </tr>\n",
       "  </thead>\n",
       "  <tbody>\n",
       "    <tr>\n",
       "      <th>0</th>\n",
       "      <td>alpha-0.5-cov-30 assemblies reads</td>\n",
       "      <td>30629</td>\n",
       "      <td>&lt;NA&gt;</td>\n",
       "      <td>130</td>\n",
       "      <td>629</td>\n",
       "      <td>0.979877</td>\n",
       "      <td>~1 (not calculated)</td>\n",
       "      <td>0.995774</td>\n",
       "      <td>0.987761</td>\n",
       "    </tr>\n",
       "  </tbody>\n",
       "</table>\n",
       "</div>"
      ],
      "text/plain": [
       "                                Name  True Positives True Negatives  \\\n",
       "0  alpha-0.5-cov-30 assemblies reads           30629           <NA>   \n",
       "\n",
       "   False Positives  False Negatives  Sensitivity          Specificity  \\\n",
       "0              130              629     0.979877  ~1 (not calculated)   \n",
       "\n",
       "   Precision  F1 Score  \n",
       "0   0.995774  0.987761  "
      ]
     },
     "execution_count": 13,
     "metadata": {},
     "output_type": "execute_result"
    }
   ],
   "source": [
    "comparison_assemblies_reads_df, data_assemblies_reads = compare_expected_actual(name=f'{case_name} assemblies reads',\n",
    "                                                                    actual_sample_variants=actual_sample_variants_assemblies_reads)\n",
    "comparison_assemblies_reads_df"
   ]
  },
  {
   "cell_type": "markdown",
   "id": "13ddcf68-f5d4-494f-8a13-e9325390b953",
   "metadata": {
    "papermill": {
     "duration": 0.007533,
     "end_time": "2022-10-19T01:57:37.242516",
     "exception": false,
     "start_time": "2022-10-19T01:57:37.234983",
     "status": "completed"
    },
    "tags": []
   },
   "source": [
    "## 3.3. Combine results"
   ]
  },
  {
   "cell_type": "code",
   "execution_count": 14,
   "id": "17df418e-5244-4000-b9f9-2f35f8ce998f",
   "metadata": {
    "execution": {
     "iopub.execute_input": "2022-10-19T01:57:37.255207Z",
     "iopub.status.busy": "2022-10-19T01:57:37.254530Z",
     "iopub.status.idle": "2022-10-19T01:57:37.277711Z",
     "shell.execute_reply": "2022-10-19T01:57:37.276498Z"
    },
    "papermill": {
     "duration": 0.033262,
     "end_time": "2022-10-19T01:57:37.281204",
     "exception": false,
     "start_time": "2022-10-19T01:57:37.247942",
     "status": "completed"
    },
    "tags": []
   },
   "outputs": [
    {
     "data": {
      "text/html": [
       "<div>\n",
       "<style scoped>\n",
       "    .dataframe tbody tr th:only-of-type {\n",
       "        vertical-align: middle;\n",
       "    }\n",
       "\n",
       "    .dataframe tbody tr th {\n",
       "        vertical-align: top;\n",
       "    }\n",
       "\n",
       "    .dataframe thead th {\n",
       "        text-align: right;\n",
       "    }\n",
       "</style>\n",
       "<table border=\"1\" class=\"dataframe\">\n",
       "  <thead>\n",
       "    <tr style=\"text-align: right;\">\n",
       "      <th></th>\n",
       "      <th>Name</th>\n",
       "      <th>True Positives</th>\n",
       "      <th>True Negatives</th>\n",
       "      <th>False Positives</th>\n",
       "      <th>False Negatives</th>\n",
       "      <th>Sensitivity</th>\n",
       "      <th>Specificity</th>\n",
       "      <th>Precision</th>\n",
       "      <th>F1 Score</th>\n",
       "    </tr>\n",
       "  </thead>\n",
       "  <tbody>\n",
       "    <tr>\n",
       "      <th>0</th>\n",
       "      <td>alpha-0.5-cov-30 reads</td>\n",
       "      <td>24199</td>\n",
       "      <td>&lt;NA&gt;</td>\n",
       "      <td>2925</td>\n",
       "      <td>7059</td>\n",
       "      <td>0.774170</td>\n",
       "      <td>~1 (not calculated)</td>\n",
       "      <td>0.892162</td>\n",
       "      <td>0.828988</td>\n",
       "    </tr>\n",
       "    <tr>\n",
       "      <th>0</th>\n",
       "      <td>alpha-0.5-cov-30 assemblies</td>\n",
       "      <td>31151</td>\n",
       "      <td>&lt;NA&gt;</td>\n",
       "      <td>0</td>\n",
       "      <td>107</td>\n",
       "      <td>0.996577</td>\n",
       "      <td>~1 (not calculated)</td>\n",
       "      <td>1.000000</td>\n",
       "      <td>0.998286</td>\n",
       "    </tr>\n",
       "    <tr>\n",
       "      <th>0</th>\n",
       "      <td>alpha-0.5-cov-30 assemblies reads</td>\n",
       "      <td>30629</td>\n",
       "      <td>&lt;NA&gt;</td>\n",
       "      <td>130</td>\n",
       "      <td>629</td>\n",
       "      <td>0.979877</td>\n",
       "      <td>~1 (not calculated)</td>\n",
       "      <td>0.995774</td>\n",
       "      <td>0.987761</td>\n",
       "    </tr>\n",
       "  </tbody>\n",
       "</table>\n",
       "</div>"
      ],
      "text/plain": [
       "                                Name  True Positives True Negatives  \\\n",
       "0             alpha-0.5-cov-30 reads           24199           <NA>   \n",
       "0        alpha-0.5-cov-30 assemblies           31151           <NA>   \n",
       "0  alpha-0.5-cov-30 assemblies reads           30629           <NA>   \n",
       "\n",
       "   False Positives  False Negatives  Sensitivity          Specificity  \\\n",
       "0             2925             7059     0.774170  ~1 (not calculated)   \n",
       "0                0              107     0.996577  ~1 (not calculated)   \n",
       "0              130              629     0.979877  ~1 (not calculated)   \n",
       "\n",
       "   Precision  F1 Score  \n",
       "0   0.892162  0.828988  \n",
       "0   1.000000  0.998286  \n",
       "0   0.995774  0.987761  "
      ]
     },
     "execution_count": 14,
     "metadata": {},
     "output_type": "execute_result"
    }
   ],
   "source": [
    "results_df = pd.concat([comparison_reads_df, comparison_assemblies_df, comparison_assemblies_reads_df])\n",
    "results_df"
   ]
  },
  {
   "cell_type": "code",
   "execution_count": 15,
   "id": "20211251-04f9-4a94-ae10-473c6d52aaf2",
   "metadata": {
    "execution": {
     "iopub.execute_input": "2022-10-19T01:57:37.304324Z",
     "iopub.status.busy": "2022-10-19T01:57:37.303621Z",
     "iopub.status.idle": "2022-10-19T01:57:37.316292Z",
     "shell.execute_reply": "2022-10-19T01:57:37.315006Z"
    },
    "papermill": {
     "duration": 0.026123,
     "end_time": "2022-10-19T01:57:37.319917",
     "exception": false,
     "start_time": "2022-10-19T01:57:37.293794",
     "status": "completed"
    },
    "tags": []
   },
   "outputs": [],
   "source": [
    "results_df_output = simulation_dir_path / 'variants-comparison.tsv'\n",
    "results_df.to_csv(results_df_output, sep='\\t', index=False)"
   ]
  }
 ],
 "metadata": {
  "kernelspec": {
   "display_name": "Python 3 (ipykernel)",
   "language": "python",
   "name": "python3"
  },
  "language_info": {
   "codemirror_mode": {
    "name": "ipython",
    "version": 3
   },
   "file_extension": ".py",
   "mimetype": "text/x-python",
   "name": "python",
   "nbconvert_exporter": "python",
   "pygments_lexer": "ipython3",
   "version": "3.8.13"
  },
  "papermill": {
   "default_parameters": {},
   "duration": 23.326412,
   "end_time": "2022-10-19T01:57:38.057756",
   "environment_variables": {},
   "exception": null,
   "input_path": "template-4-variants-comparison.ipynb",
   "output_path": "4-variants-comparison.simulation-alpha-0.5.ipynb",
   "parameters": {
    "iterations": 1,
    "mincov": 10,
    "read_coverage": 30,
    "simulation_dir": "simulations/alpha-0.5-cov-30",
    "sub_alpha": 0.5
   },
   "start_time": "2022-10-19T01:57:14.731344",
   "version": "2.3.4"
  }
 },
 "nbformat": 4,
 "nbformat_minor": 5
}