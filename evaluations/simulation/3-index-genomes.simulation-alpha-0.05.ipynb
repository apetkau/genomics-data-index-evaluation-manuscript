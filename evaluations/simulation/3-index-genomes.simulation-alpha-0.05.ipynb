{
 "cells": [
  {
   "cell_type": "markdown",
   "id": "7d3667b4-b1f8-4347-96e3-830c25b06740",
   "metadata": {
    "papermill": {
     "duration": 0.009644,
     "end_time": "2022-10-18T23:48:51.118235",
     "exception": false,
     "start_time": "2022-10-18T23:48:51.108591",
     "status": "completed"
    },
    "tags": []
   },
   "source": [
    "# 1. Parameters"
   ]
  },
  {
   "cell_type": "code",
   "execution_count": 1,
   "id": "d4ab0749-b286-4c34-b63c-a854e4952bae",
   "metadata": {
    "execution": {
     "iopub.execute_input": "2022-10-18T23:48:51.132281Z",
     "iopub.status.busy": "2022-10-18T23:48:51.131647Z",
     "iopub.status.idle": "2022-10-18T23:48:51.148357Z",
     "shell.execute_reply": "2022-10-18T23:48:51.147109Z"
    },
    "papermill": {
     "duration": 0.027492,
     "end_time": "2022-10-18T23:48:51.152148",
     "exception": false,
     "start_time": "2022-10-18T23:48:51.124656",
     "status": "completed"
    },
    "tags": [
     "parameters"
    ]
   },
   "outputs": [],
   "source": [
    "# Defaults\n",
    "simulation_dir = 'simulations/unset'\n",
    "reference_file = 'simulations/reference/reference.fa.gz'\n",
    "iterations = 1\n",
    "mincov = 10\n",
    "ncores = 32"
   ]
  },
  {
   "cell_type": "code",
   "execution_count": 2,
   "id": "12a842fa",
   "metadata": {
    "execution": {
     "iopub.execute_input": "2022-10-18T23:48:51.168938Z",
     "iopub.status.busy": "2022-10-18T23:48:51.168289Z",
     "iopub.status.idle": "2022-10-18T23:48:51.175006Z",
     "shell.execute_reply": "2022-10-18T23:48:51.173559Z"
    },
    "papermill": {
     "duration": 0.017494,
     "end_time": "2022-10-18T23:48:51.177502",
     "exception": false,
     "start_time": "2022-10-18T23:48:51.160008",
     "status": "completed"
    },
    "tags": [
     "injected-parameters"
    ]
   },
   "outputs": [],
   "source": [
    "# Parameters\n",
    "read_coverage = 30\n",
    "mincov = 10\n",
    "simulation_dir = \"simulations/alpha-0.05-cov-30\"\n",
    "iterations = 1\n",
    "sub_alpha = 0.05\n"
   ]
  },
  {
   "cell_type": "code",
   "execution_count": 3,
   "id": "ce5962e4-261c-4210-b39b-47044e28466b",
   "metadata": {
    "execution": {
     "iopub.execute_input": "2022-10-18T23:48:51.191096Z",
     "iopub.status.busy": "2022-10-18T23:48:51.190480Z",
     "iopub.status.idle": "2022-10-18T23:48:54.006637Z",
     "shell.execute_reply": "2022-10-18T23:48:54.005205Z"
    },
    "papermill": {
     "duration": 2.826841,
     "end_time": "2022-10-18T23:48:54.010415",
     "exception": false,
     "start_time": "2022-10-18T23:48:51.183574",
     "status": "completed"
    },
    "tags": []
   },
   "outputs": [
    {
     "name": "stderr",
     "output_type": "stream",
     "text": [
      "/tmp/ipykernel_55371/3212986174.py:2: DeprecationWarning: the imp module is deprecated in favour of importlib; see the module's documentation for alternative uses\n",
      "  import imp\n"
     ]
    }
   ],
   "source": [
    "from pathlib import Path\n",
    "import imp\n",
    "fp, pathname, description = imp.find_module('gdi_benchmark', ['../../lib'])\n",
    "gdi_benchmark = imp.load_module('gdi_benchmark', fp, pathname, description)\n",
    "\n",
    "simulation_dir_path = Path(simulation_dir)\n",
    "\n",
    "case_name = str(simulation_dir_path.name)\n",
    "reads_dir = simulation_dir_path / 'simulated_data' / 'reads'\n",
    "assemblies_dir = simulation_dir_path / 'simulated_data' / 'assemblies'\n",
    "assemblies_reads_dir = simulation_dir_path / 'simulated_data' / 'assembled_reads'\n",
    "index_reads_path = simulation_dir_path / 'index-reads'\n",
    "index_assemblies_path = simulation_dir_path / 'index-assemblies'\n",
    "index_assemblies_reads_path = simulation_dir_path / 'index-assemblies-reads'\n",
    "output_reads_tree = index_reads_path / 'reads.tre'\n",
    "output_assemblies_tree = index_assemblies_path / 'assemblies.tre'\n",
    "output_assemblies_reads_tree = index_assemblies_reads_path / 'assemblies-reads.tre'\n",
    "reference_name = Path(reference_file).name.split('.')[0]"
   ]
  },
  {
   "cell_type": "markdown",
   "id": "f208279e-7558-47fc-9362-da29df92828a",
   "metadata": {
    "papermill": {
     "duration": 0.005296,
     "end_time": "2022-10-18T23:48:54.024590",
     "exception": false,
     "start_time": "2022-10-18T23:48:54.019294",
     "status": "completed"
    },
    "tags": []
   },
   "source": [
    "# 2. Index genomes"
   ]
  },
  {
   "cell_type": "code",
   "execution_count": 4,
   "id": "4e936f7c-2fcd-4188-b0e6-6b3ceb5cdcd2",
   "metadata": {
    "execution": {
     "iopub.execute_input": "2022-10-18T23:48:54.035504Z",
     "iopub.status.busy": "2022-10-18T23:48:54.034614Z",
     "iopub.status.idle": "2022-10-18T23:48:57.427610Z",
     "shell.execute_reply": "2022-10-18T23:48:57.425452Z"
    },
    "papermill": {
     "duration": 3.401961,
     "end_time": "2022-10-18T23:48:57.431598",
     "exception": false,
     "start_time": "2022-10-18T23:48:54.029637",
     "status": "completed"
    },
    "tags": []
   },
   "outputs": [
    {
     "name": "stdout",
     "output_type": "stream",
     "text": [
      "gdi, version 0.8.1\r\n"
     ]
    }
   ],
   "source": [
    "!gdi --version"
   ]
  },
  {
   "cell_type": "markdown",
   "id": "5409ecf8-2158-4361-9d2f-6b1a6c7c63a6",
   "metadata": {
    "papermill": {
     "duration": 0.00636,
     "end_time": "2022-10-18T23:48:57.446469",
     "exception": false,
     "start_time": "2022-10-18T23:48:57.440109",
     "status": "completed"
    },
    "tags": []
   },
   "source": [
    "## 2.1. Index reads"
   ]
  },
  {
   "cell_type": "code",
   "execution_count": 5,
   "id": "b5324f79-913b-4dac-8122-19ad5c0f24b2",
   "metadata": {
    "execution": {
     "iopub.execute_input": "2022-10-18T23:48:57.458432Z",
     "iopub.status.busy": "2022-10-18T23:48:57.457837Z",
     "iopub.status.idle": "2022-10-18T23:49:00.730719Z",
     "shell.execute_reply": "2022-10-18T23:49:00.728603Z"
    },
    "papermill": {
     "duration": 3.283225,
     "end_time": "2022-10-18T23:49:00.735055",
     "exception": false,
     "start_time": "2022-10-18T23:48:57.451830",
     "status": "completed"
    },
    "tags": []
   },
   "outputs": [
    {
     "name": "stdout",
     "output_type": "stream",
     "text": [
      "\u001b[32m2022-10-18 18:49:00\u001b[0m \u001b[1;30mWARNING:\u001b[0m \u001b[33m--skip-existing-samples is enabled but no --project-dir is set. Will not skip existing samples.\u001b[0m\r\n"
     ]
    }
   ],
   "source": [
    "input_genomes_file = simulation_dir_path / 'input-reads.tsv'\n",
    "\n",
    "!gdi input --absolute {reads_dir}/*.fq.gz > {input_genomes_file}"
   ]
  },
  {
   "cell_type": "code",
   "execution_count": 6,
   "id": "3d63e861-733e-46f2-8bce-bd1a2c7c7058",
   "metadata": {
    "execution": {
     "iopub.execute_input": "2022-10-18T23:49:00.753900Z",
     "iopub.status.busy": "2022-10-18T23:49:00.753292Z",
     "iopub.status.idle": "2022-10-18T23:51:47.635405Z",
     "shell.execute_reply": "2022-10-18T23:51:47.634160Z"
    },
    "papermill": {
     "duration": 166.895579,
     "end_time": "2022-10-18T23:51:47.639678",
     "exception": false,
     "start_time": "2022-10-18T23:49:00.744099",
     "status": "completed"
    },
    "tags": []
   },
   "outputs": [
    {
     "name": "stdout",
     "output_type": "stream",
     "text": [
      "\n",
      "Iteration 1 of index/analysis of 60 samples with 32 cores\n",
      "Removing any extra snakemake directories: ['snakemake-assemblies.1666129881.5222619']\n"
     ]
    },
    {
     "name": "stdout",
     "output_type": "stream",
     "text": [
      "Creating new index: [gdi init simulations/alpha-0.05-cov-30/index-reads]\n"
     ]
    },
    {
     "name": "stderr",
     "output_type": "stream",
     "text": [
      "/home/CSCScience.ca/apetkau/miniconda3/envs/gdi-manuscript/lib/python3.8/multiprocessing/popen_fork.py:70: ResourceWarning: Unclosed socket <zmq.Socket(zmq.PUSH) at 0x7f37f7a77820>\n",
      "  self.pid = os.fork()\n",
      "ResourceWarning: Enable tracemalloc to get the object allocation traceback\n"
     ]
    },
    {
     "name": "stderr",
     "output_type": "stream",
     "text": [
      "/home/CSCScience.ca/apetkau/miniconda3/envs/gdi-manuscript/lib/python3.8/multiprocessing/popen_fork.py:70: ResourceWarning: Unclosed socket <zmq.Socket(zmq.PUSH) at 0x7f37f7a77820>\n",
      "  self.pid = os.fork()\n",
      "ResourceWarning: Enable tracemalloc to get the object allocation traceback\n"
     ]
    },
    {
     "name": "stdout",
     "output_type": "stream",
     "text": [
      "Creating a new index took 3.33 seconds\n",
      "Analysis running: [gdi --project-dir simulations/alpha-0.05-cov-30/index-reads --ncores 32 analysis --use-conda --no-load-data --reference-file simulations/reference/reference.fa.gz --kmer-size 31 --kmer-size 51 --kmer-size 71 --include-kmer --reads-mincov 10 --input-structured-genomes-file simulations/alpha-0.05-cov-30/input-reads.tsv]\n"
     ]
    },
    {
     "name": "stderr",
     "output_type": "stream",
     "text": [
      "/home/CSCScience.ca/apetkau/miniconda3/envs/gdi-manuscript/lib/python3.8/multiprocessing/popen_fork.py:70: ResourceWarning: Unclosed socket <zmq.Socket(zmq.PUSH) at 0x7f37f7a77820>\n",
      "  self.pid = os.fork()\n",
      "ResourceWarning: Enable tracemalloc to get the object allocation traceback\n"
     ]
    },
    {
     "name": "stderr",
     "output_type": "stream",
     "text": [
      "/home/CSCScience.ca/apetkau/miniconda3/envs/gdi-manuscript/lib/python3.8/multiprocessing/popen_fork.py:70: ResourceWarning: Unclosed socket <zmq.Socket(zmq.PUSH) at 0x7f37f7a77820>\n",
      "  self.pid = os.fork()\n",
      "ResourceWarning: Enable tracemalloc to get the object allocation traceback\n"
     ]
    },
    {
     "name": "stdout",
     "output_type": "stream",
     "text": [
      "Analysis took 2.41 minutes\n",
      "Index running: [gdi --project-dir simulations/alpha-0.05-cov-30/index-reads --ncores 32 load vcf-kmer --sample-batch-size 2000 --reference-file simulations/reference/reference.fa.gz /home/CSCScience.ca/apetkau/workspace/genomics-data-index-evaluation-manuscript/evaluations/simulation/snakemake-assemblies.1666136948.7143328/gdi-input.fofn]\n"
     ]
    },
    {
     "name": "stderr",
     "output_type": "stream",
     "text": [
      "/home/CSCScience.ca/apetkau/miniconda3/envs/gdi-manuscript/lib/python3.8/multiprocessing/popen_fork.py:70: ResourceWarning: Unclosed socket <zmq.Socket(zmq.PUSH) at 0x7f37f7a77820>\n",
      "  self.pid = os.fork()\n",
      "ResourceWarning: Enable tracemalloc to get the object allocation traceback\n"
     ]
    },
    {
     "name": "stderr",
     "output_type": "stream",
     "text": [
      "/home/CSCScience.ca/apetkau/miniconda3/envs/gdi-manuscript/lib/python3.8/multiprocessing/popen_fork.py:70: ResourceWarning: Unclosed socket <zmq.Socket(zmq.PUSH) at 0x7f37f7a77820>\n",
      "  self.pid = os.fork()\n",
      "ResourceWarning: Enable tracemalloc to get the object allocation traceback\n"
     ]
    },
    {
     "name": "stdout",
     "output_type": "stream",
     "text": [
      "Indexing took 0.12 minutes\n",
      "Building tree: [gdi --project-dir simulations/alpha-0.05-cov-30/index-reads --ncores 32 rebuild tree --align-type full --extra-params '--fast -m GTR+F+R4' reference]\n"
     ]
    },
    {
     "name": "stderr",
     "output_type": "stream",
     "text": [
      "/home/CSCScience.ca/apetkau/miniconda3/envs/gdi-manuscript/lib/python3.8/multiprocessing/popen_fork.py:70: ResourceWarning: Unclosed socket <zmq.Socket(zmq.PUSH) at 0x7f37f7a77820>\n",
      "  self.pid = os.fork()\n",
      "ResourceWarning: Enable tracemalloc to get the object allocation traceback\n"
     ]
    },
    {
     "name": "stderr",
     "output_type": "stream",
     "text": [
      "/home/CSCScience.ca/apetkau/miniconda3/envs/gdi-manuscript/lib/python3.8/multiprocessing/popen_fork.py:70: ResourceWarning: Unclosed socket <zmq.Socket(zmq.PUSH) at 0x7f37f7a77820>\n",
      "  self.pid = os.fork()\n",
      "ResourceWarning: Enable tracemalloc to get the object allocation traceback\n"
     ]
    },
    {
     "name": "stdout",
     "output_type": "stream",
     "text": [
      "Building tree took 0.17 minutes\n"
     ]
    },
    {
     "name": "stderr",
     "output_type": "stream",
     "text": [
      "A reminder to myself to look for a Python solution for directory sizes (instead of running `du`)\n"
     ]
    }
   ],
   "source": [
    "results_handler = gdi_benchmark.BenchmarkResultsHandler(name=f'{case_name} reads')\n",
    "benchmarker = gdi_benchmark.IndexBenchmarker(benchmark_results_handler=results_handler,\n",
    "                                             index_path=index_reads_path, input_files_file=input_genomes_file,\n",
    "                                             reference_file=reference_file, mincov=mincov, build_tree=True,\n",
    "                                             ncores=ncores)\n",
    "\n",
    "benchmark_df = benchmarker.benchmark(iterations=iterations)"
   ]
  },
  {
   "cell_type": "code",
   "execution_count": 7,
   "id": "3bcb6da7-0164-47f2-abdd-a4c159da1e3b",
   "metadata": {
    "execution": {
     "iopub.execute_input": "2022-10-18T23:51:47.661673Z",
     "iopub.status.busy": "2022-10-18T23:51:47.661272Z",
     "iopub.status.idle": "2022-10-18T23:51:47.696297Z",
     "shell.execute_reply": "2022-10-18T23:51:47.695670Z"
    },
    "papermill": {
     "duration": 0.049148,
     "end_time": "2022-10-18T23:51:47.701100",
     "exception": false,
     "start_time": "2022-10-18T23:51:47.651952",
     "status": "completed"
    },
    "tags": []
   },
   "outputs": [
    {
     "data": {
      "text/html": [
       "<div>\n",
       "<style scoped>\n",
       "    .dataframe tbody tr th:only-of-type {\n",
       "        vertical-align: middle;\n",
       "    }\n",
       "\n",
       "    .dataframe tbody tr th {\n",
       "        vertical-align: top;\n",
       "    }\n",
       "\n",
       "    .dataframe thead th {\n",
       "        text-align: right;\n",
       "    }\n",
       "</style>\n",
       "<table border=\"1\" class=\"dataframe\">\n",
       "  <thead>\n",
       "    <tr style=\"text-align: right;\">\n",
       "      <th></th>\n",
       "      <th>Name</th>\n",
       "      <th>Reference name</th>\n",
       "      <th>Iteration</th>\n",
       "      <th>Number samples</th>\n",
       "      <th>Number features (all)</th>\n",
       "      <th>Number features (no unknown)</th>\n",
       "      <th>Number cores</th>\n",
       "      <th>Reference length</th>\n",
       "      <th>Analysis runtime</th>\n",
       "      <th>Analysis memory (max)</th>\n",
       "      <th>...</th>\n",
       "      <th>Analysis disk uage</th>\n",
       "      <th>Index runtime</th>\n",
       "      <th>Index memory (max)</th>\n",
       "      <th>Index memory (max/process)</th>\n",
       "      <th>Index size</th>\n",
       "      <th>Tree runtime</th>\n",
       "      <th>Tree memory (max)</th>\n",
       "      <th>Tree memory (max/process)</th>\n",
       "      <th>Total runtime</th>\n",
       "      <th>Max memory</th>\n",
       "    </tr>\n",
       "  </thead>\n",
       "  <tbody>\n",
       "    <tr>\n",
       "      <th>0</th>\n",
       "      <td>alpha-0.05-cov-30 reads</td>\n",
       "      <td>reference</td>\n",
       "      <td>1</td>\n",
       "      <td>60</td>\n",
       "      <td>2915</td>\n",
       "      <td>894</td>\n",
       "      <td>32</td>\n",
       "      <td>19699</td>\n",
       "      <td>144.33</td>\n",
       "      <td>3.460891e+09</td>\n",
       "      <td>...</td>\n",
       "      <td>3.243082e+09</td>\n",
       "      <td>7.08</td>\n",
       "      <td>6.321459e+09</td>\n",
       "      <td>301367296.0</td>\n",
       "      <td>2048000.0</td>\n",
       "      <td>9.86</td>\n",
       "      <td>285904896.0</td>\n",
       "      <td>251555840.0</td>\n",
       "      <td>161.27</td>\n",
       "      <td>6.321459e+09</td>\n",
       "    </tr>\n",
       "  </tbody>\n",
       "</table>\n",
       "<p>1 rows × 21 columns</p>\n",
       "</div>"
      ],
      "text/plain": [
       "                      Name Reference name  Iteration  Number samples  \\\n",
       "0  alpha-0.05-cov-30 reads      reference          1              60   \n",
       "\n",
       "   Number features (all)  Number features (no unknown)  Number cores  \\\n",
       "0                   2915                           894            32   \n",
       "\n",
       "   Reference length  Analysis runtime  Analysis memory (max)  ...  \\\n",
       "0             19699            144.33           3.460891e+09  ...   \n",
       "\n",
       "   Analysis disk uage  Index runtime  Index memory (max)  \\\n",
       "0        3.243082e+09           7.08        6.321459e+09   \n",
       "\n",
       "   Index memory (max/process)  Index size  Tree runtime  Tree memory (max)  \\\n",
       "0                 301367296.0   2048000.0          9.86        285904896.0   \n",
       "\n",
       "   Tree memory (max/process)  Total runtime    Max memory  \n",
       "0                251555840.0         161.27  6.321459e+09  \n",
       "\n",
       "[1 rows x 21 columns]"
      ]
     },
     "execution_count": 7,
     "metadata": {},
     "output_type": "execute_result"
    }
   ],
   "source": [
    "benchmark_df"
   ]
  },
  {
   "cell_type": "code",
   "execution_count": 8,
   "id": "535a9ccc-ab9c-4919-806f-128e1efd2389",
   "metadata": {
    "execution": {
     "iopub.execute_input": "2022-10-18T23:51:47.718875Z",
     "iopub.status.busy": "2022-10-18T23:51:47.718437Z",
     "iopub.status.idle": "2022-10-18T23:51:47.727023Z",
     "shell.execute_reply": "2022-10-18T23:51:47.725623Z"
    },
    "papermill": {
     "duration": 0.01898,
     "end_time": "2022-10-18T23:51:47.729293",
     "exception": false,
     "start_time": "2022-10-18T23:51:47.710313",
     "status": "completed"
    },
    "tags": []
   },
   "outputs": [],
   "source": [
    "index_reads_runtime = simulation_dir_path / 'reads-index-info.tsv'\n",
    "benchmark_df.to_csv(index_reads_runtime, sep='\\t', index=False)"
   ]
  },
  {
   "cell_type": "markdown",
   "id": "c331578f-4026-4a9f-a3ba-288814b02ed2",
   "metadata": {
    "papermill": {
     "duration": 0.010818,
     "end_time": "2022-10-18T23:51:47.762853",
     "exception": false,
     "start_time": "2022-10-18T23:51:47.752035",
     "status": "completed"
    },
    "tags": []
   },
   "source": [
    "## 2.2. Index assemblies"
   ]
  },
  {
   "cell_type": "code",
   "execution_count": 9,
   "id": "6e6664f4-94ee-4c45-b1fc-e048b387fa49",
   "metadata": {
    "execution": {
     "iopub.execute_input": "2022-10-18T23:51:47.781008Z",
     "iopub.status.busy": "2022-10-18T23:51:47.780325Z",
     "iopub.status.idle": "2022-10-18T23:51:51.130892Z",
     "shell.execute_reply": "2022-10-18T23:51:51.128807Z"
    },
    "papermill": {
     "duration": 3.36155,
     "end_time": "2022-10-18T23:51:51.135113",
     "exception": false,
     "start_time": "2022-10-18T23:51:47.773563",
     "status": "completed"
    },
    "tags": []
   },
   "outputs": [
    {
     "name": "stdout",
     "output_type": "stream",
     "text": [
      "\u001b[32m2022-10-18 18:51:50\u001b[0m \u001b[1;30mWARNING:\u001b[0m \u001b[33m--skip-existing-samples is enabled but no --project-dir is set. Will not skip existing samples.\u001b[0m\r\n"
     ]
    }
   ],
   "source": [
    "input_genomes_file = simulation_dir_path / 'input-assemblies.tsv'\n",
    "\n",
    "!gdi input --absolute {assemblies_dir}/*.fa.gz > {input_genomes_file}"
   ]
  },
  {
   "cell_type": "code",
   "execution_count": 10,
   "id": "0a1e62f3-3b0c-4a90-a7fe-f0bc1094e350",
   "metadata": {
    "execution": {
     "iopub.execute_input": "2022-10-18T23:51:51.157361Z",
     "iopub.status.busy": "2022-10-18T23:51:51.156761Z",
     "iopub.status.idle": "2022-10-18T23:53:51.806672Z",
     "shell.execute_reply": "2022-10-18T23:53:51.804632Z"
    },
    "papermill": {
     "duration": 120.664257,
     "end_time": "2022-10-18T23:53:51.810857",
     "exception": false,
     "start_time": "2022-10-18T23:51:51.146600",
     "status": "completed"
    },
    "tags": []
   },
   "outputs": [
    {
     "name": "stdout",
     "output_type": "stream",
     "text": [
      "\n",
      "Iteration 1 of index/analysis of 60 samples with 32 cores\n",
      "Removing any extra snakemake directories: ['snakemake-assemblies.1666136948.7143328']\n"
     ]
    },
    {
     "name": "stdout",
     "output_type": "stream",
     "text": [
      "Creating new index: [gdi init simulations/alpha-0.05-cov-30/index-assemblies]\n"
     ]
    },
    {
     "name": "stderr",
     "output_type": "stream",
     "text": [
      "/home/CSCScience.ca/apetkau/miniconda3/envs/gdi-manuscript/lib/python3.8/multiprocessing/popen_fork.py:70: ResourceWarning: Unclosed socket <zmq.Socket(zmq.PUSH) at 0x7f37f7a77820>\n",
      "  self.pid = os.fork()\n",
      "ResourceWarning: Enable tracemalloc to get the object allocation traceback\n"
     ]
    },
    {
     "name": "stderr",
     "output_type": "stream",
     "text": [
      "/home/CSCScience.ca/apetkau/miniconda3/envs/gdi-manuscript/lib/python3.8/multiprocessing/popen_fork.py:70: ResourceWarning: Unclosed socket <zmq.Socket(zmq.PUSH) at 0x7f37f7a77820>\n",
      "  self.pid = os.fork()\n",
      "ResourceWarning: Enable tracemalloc to get the object allocation traceback\n"
     ]
    },
    {
     "name": "stdout",
     "output_type": "stream",
     "text": [
      "Creating a new index took 3.28 seconds\n",
      "Analysis running: [gdi --project-dir simulations/alpha-0.05-cov-30/index-assemblies --ncores 32 analysis --use-conda --no-load-data --reference-file simulations/reference/reference.fa.gz --kmer-size 31 --kmer-size 51 --kmer-size 71 --include-kmer --reads-mincov 10 --input-structured-genomes-file simulations/alpha-0.05-cov-30/input-assemblies.tsv]\n"
     ]
    },
    {
     "name": "stderr",
     "output_type": "stream",
     "text": [
      "/home/CSCScience.ca/apetkau/miniconda3/envs/gdi-manuscript/lib/python3.8/multiprocessing/popen_fork.py:70: ResourceWarning: Unclosed socket <zmq.Socket(zmq.PUSH) at 0x7f37f7a77820>\n",
      "  self.pid = os.fork()\n",
      "ResourceWarning: Enable tracemalloc to get the object allocation traceback\n"
     ]
    },
    {
     "name": "stderr",
     "output_type": "stream",
     "text": [
      "/home/CSCScience.ca/apetkau/miniconda3/envs/gdi-manuscript/lib/python3.8/multiprocessing/popen_fork.py:70: ResourceWarning: Unclosed socket <zmq.Socket(zmq.PUSH) at 0x7f37f7a77820>\n",
      "  self.pid = os.fork()\n",
      "ResourceWarning: Enable tracemalloc to get the object allocation traceback\n"
     ]
    },
    {
     "name": "stdout",
     "output_type": "stream",
     "text": [
      "Analysis took 1.67 minutes\n",
      "Index running: [gdi --project-dir simulations/alpha-0.05-cov-30/index-assemblies --ncores 32 load vcf-kmer --sample-batch-size 2000 --reference-file simulations/reference/reference.fa.gz /home/CSCScience.ca/apetkau/workspace/genomics-data-index-evaluation-manuscript/evaluations/simulation/snakemake-assemblies.1666137119.1644187/gdi-input.fofn]\n"
     ]
    },
    {
     "name": "stderr",
     "output_type": "stream",
     "text": [
      "/home/CSCScience.ca/apetkau/miniconda3/envs/gdi-manuscript/lib/python3.8/multiprocessing/popen_fork.py:70: ResourceWarning: Unclosed socket <zmq.Socket(zmq.PUSH) at 0x7f37f7a77820>\n",
      "  self.pid = os.fork()\n",
      "ResourceWarning: Enable tracemalloc to get the object allocation traceback\n"
     ]
    },
    {
     "name": "stderr",
     "output_type": "stream",
     "text": [
      "/home/CSCScience.ca/apetkau/miniconda3/envs/gdi-manuscript/lib/python3.8/multiprocessing/popen_fork.py:70: ResourceWarning: Unclosed socket <zmq.Socket(zmq.PUSH) at 0x7f37f7a77820>\n",
      "  self.pid = os.fork()\n",
      "ResourceWarning: Enable tracemalloc to get the object allocation traceback\n"
     ]
    },
    {
     "name": "stdout",
     "output_type": "stream",
     "text": [
      "Indexing took 0.11 minutes\n",
      "Building tree: [gdi --project-dir simulations/alpha-0.05-cov-30/index-assemblies --ncores 32 rebuild tree --align-type full --extra-params '--fast -m GTR+F+R4' reference]\n"
     ]
    },
    {
     "name": "stderr",
     "output_type": "stream",
     "text": [
      "/home/CSCScience.ca/apetkau/miniconda3/envs/gdi-manuscript/lib/python3.8/multiprocessing/popen_fork.py:70: ResourceWarning: Unclosed socket <zmq.Socket(zmq.PUSH) at 0x7f37f7a77820>\n",
      "  self.pid = os.fork()\n",
      "ResourceWarning: Enable tracemalloc to get the object allocation traceback\n"
     ]
    },
    {
     "name": "stderr",
     "output_type": "stream",
     "text": [
      "/home/CSCScience.ca/apetkau/miniconda3/envs/gdi-manuscript/lib/python3.8/multiprocessing/popen_fork.py:70: ResourceWarning: Unclosed socket <zmq.Socket(zmq.PUSH) at 0x7f37f7a77820>\n",
      "  self.pid = os.fork()\n",
      "ResourceWarning: Enable tracemalloc to get the object allocation traceback\n"
     ]
    },
    {
     "name": "stdout",
     "output_type": "stream",
     "text": [
      "Building tree took 0.14 minutes\n"
     ]
    },
    {
     "name": "stderr",
     "output_type": "stream",
     "text": [
      "Attempting to set global database_path_translator=<genomics_data_index.storage.model.db.DatabasePathTranslator.DatabasePathTranslator object at 0x7f39f02e2490> but it is already set\n"
     ]
    },
    {
     "name": "stderr",
     "output_type": "stream",
     "text": [
      "A reminder to myself to look for a Python solution for directory sizes (instead of running `du`)\n"
     ]
    }
   ],
   "source": [
    "results_handler = gdi_benchmark.BenchmarkResultsHandler(name=f'{case_name} assemblies')\n",
    "benchmarker = gdi_benchmark.IndexBenchmarker(benchmark_results_handler=results_handler,\n",
    "                                             index_path=index_assemblies_path, input_files_file=input_genomes_file,\n",
    "                                             reference_file=reference_file, mincov=mincov, build_tree=True,\n",
    "                                             ncores=ncores)\n",
    "\n",
    "benchmark_df = benchmarker.benchmark(iterations=iterations)"
   ]
  },
  {
   "cell_type": "code",
   "execution_count": 11,
   "id": "a6d55a9d-be2f-4851-b66c-04b5ebd597a1",
   "metadata": {
    "execution": {
     "iopub.execute_input": "2022-10-18T23:53:51.835145Z",
     "iopub.status.busy": "2022-10-18T23:53:51.834539Z",
     "iopub.status.idle": "2022-10-18T23:53:51.868559Z",
     "shell.execute_reply": "2022-10-18T23:53:51.867087Z"
    },
    "papermill": {
     "duration": 0.048681,
     "end_time": "2022-10-18T23:53:51.872377",
     "exception": false,
     "start_time": "2022-10-18T23:53:51.823696",
     "status": "completed"
    },
    "tags": []
   },
   "outputs": [
    {
     "data": {
      "text/html": [
       "<div>\n",
       "<style scoped>\n",
       "    .dataframe tbody tr th:only-of-type {\n",
       "        vertical-align: middle;\n",
       "    }\n",
       "\n",
       "    .dataframe tbody tr th {\n",
       "        vertical-align: top;\n",
       "    }\n",
       "\n",
       "    .dataframe thead th {\n",
       "        text-align: right;\n",
       "    }\n",
       "</style>\n",
       "<table border=\"1\" class=\"dataframe\">\n",
       "  <thead>\n",
       "    <tr style=\"text-align: right;\">\n",
       "      <th></th>\n",
       "      <th>Name</th>\n",
       "      <th>Reference name</th>\n",
       "      <th>Iteration</th>\n",
       "      <th>Number samples</th>\n",
       "      <th>Number features (all)</th>\n",
       "      <th>Number features (no unknown)</th>\n",
       "      <th>Number cores</th>\n",
       "      <th>Reference length</th>\n",
       "      <th>Analysis runtime</th>\n",
       "      <th>Analysis memory (max)</th>\n",
       "      <th>...</th>\n",
       "      <th>Analysis disk uage</th>\n",
       "      <th>Index runtime</th>\n",
       "      <th>Index memory (max)</th>\n",
       "      <th>Index memory (max/process)</th>\n",
       "      <th>Index size</th>\n",
       "      <th>Tree runtime</th>\n",
       "      <th>Tree memory (max)</th>\n",
       "      <th>Tree memory (max/process)</th>\n",
       "      <th>Total runtime</th>\n",
       "      <th>Max memory</th>\n",
       "    </tr>\n",
       "  </thead>\n",
       "  <tbody>\n",
       "    <tr>\n",
       "      <th>0</th>\n",
       "      <td>alpha-0.05-cov-30 assemblies</td>\n",
       "      <td>reference</td>\n",
       "      <td>1</td>\n",
       "      <td>60</td>\n",
       "      <td>974</td>\n",
       "      <td>914</td>\n",
       "      <td>32</td>\n",
       "      <td>19699</td>\n",
       "      <td>100.33</td>\n",
       "      <td>2.573402e+09</td>\n",
       "      <td>...</td>\n",
       "      <td>2.232259e+09</td>\n",
       "      <td>6.32</td>\n",
       "      <td>6.162031e+09</td>\n",
       "      <td>263606272.0</td>\n",
       "      <td>1339392.0</td>\n",
       "      <td>8.44</td>\n",
       "      <td>272396288.0</td>\n",
       "      <td>251498496.0</td>\n",
       "      <td>115.09</td>\n",
       "      <td>6.162031e+09</td>\n",
       "    </tr>\n",
       "  </tbody>\n",
       "</table>\n",
       "<p>1 rows × 21 columns</p>\n",
       "</div>"
      ],
      "text/plain": [
       "                           Name Reference name  Iteration  Number samples  \\\n",
       "0  alpha-0.05-cov-30 assemblies      reference          1              60   \n",
       "\n",
       "   Number features (all)  Number features (no unknown)  Number cores  \\\n",
       "0                    974                           914            32   \n",
       "\n",
       "   Reference length  Analysis runtime  Analysis memory (max)  ...  \\\n",
       "0             19699            100.33           2.573402e+09  ...   \n",
       "\n",
       "   Analysis disk uage  Index runtime  Index memory (max)  \\\n",
       "0        2.232259e+09           6.32        6.162031e+09   \n",
       "\n",
       "   Index memory (max/process)  Index size  Tree runtime  Tree memory (max)  \\\n",
       "0                 263606272.0   1339392.0          8.44        272396288.0   \n",
       "\n",
       "   Tree memory (max/process)  Total runtime    Max memory  \n",
       "0                251498496.0         115.09  6.162031e+09  \n",
       "\n",
       "[1 rows x 21 columns]"
      ]
     },
     "execution_count": 11,
     "metadata": {},
     "output_type": "execute_result"
    }
   ],
   "source": [
    "benchmark_df"
   ]
  },
  {
   "cell_type": "code",
   "execution_count": 12,
   "id": "e1a6d962-50bc-4c8d-a6f2-3a661da706b4",
   "metadata": {
    "execution": {
     "iopub.execute_input": "2022-10-18T23:53:51.895261Z",
     "iopub.status.busy": "2022-10-18T23:53:51.894701Z",
     "iopub.status.idle": "2022-10-18T23:53:51.905270Z",
     "shell.execute_reply": "2022-10-18T23:53:51.903682Z"
    },
    "papermill": {
     "duration": 0.023343,
     "end_time": "2022-10-18T23:53:51.907918",
     "exception": false,
     "start_time": "2022-10-18T23:53:51.884575",
     "status": "completed"
    },
    "tags": []
   },
   "outputs": [],
   "source": [
    "index_assemblies_runtime = simulation_dir_path / 'assemblies-index-info.tsv'\n",
    "benchmark_df.to_csv(index_assemblies_runtime, sep='\\t', index=False)"
   ]
  },
  {
   "cell_type": "markdown",
   "id": "29b5daf4-244d-47c9-9a3b-6b0d4a0cdfbf",
   "metadata": {
    "papermill": {
     "duration": 0.008316,
     "end_time": "2022-10-18T23:53:51.925053",
     "exception": false,
     "start_time": "2022-10-18T23:53:51.916737",
     "status": "completed"
    },
    "tags": []
   },
   "source": [
    "## 2.3. Index assembled reads"
   ]
  },
  {
   "cell_type": "code",
   "execution_count": 13,
   "id": "909b2f43-9df1-40cd-bddb-6dc70630cacd",
   "metadata": {
    "execution": {
     "iopub.execute_input": "2022-10-18T23:53:51.938571Z",
     "iopub.status.busy": "2022-10-18T23:53:51.937872Z",
     "iopub.status.idle": "2022-10-18T23:53:55.206723Z",
     "shell.execute_reply": "2022-10-18T23:53:55.204606Z"
    },
    "papermill": {
     "duration": 3.279888,
     "end_time": "2022-10-18T23:53:55.211229",
     "exception": false,
     "start_time": "2022-10-18T23:53:51.931341",
     "status": "completed"
    },
    "tags": []
   },
   "outputs": [
    {
     "name": "stdout",
     "output_type": "stream",
     "text": [
      "\u001b[32m2022-10-18 18:53:54\u001b[0m \u001b[1;30mWARNING:\u001b[0m \u001b[33m--skip-existing-samples is enabled but no --project-dir is set. Will not skip existing samples.\u001b[0m\r\n"
     ]
    }
   ],
   "source": [
    "input_genomes_file = simulation_dir_path / 'input-assemblies-reads.tsv'\n",
    "\n",
    "!gdi input --absolute {assemblies_reads_dir}/*.fasta > {input_genomes_file}"
   ]
  },
  {
   "cell_type": "code",
   "execution_count": 14,
   "id": "9fe0b3db-dc07-4da9-937e-d899648131eb",
   "metadata": {
    "execution": {
     "iopub.execute_input": "2022-10-18T23:53:55.237705Z",
     "iopub.status.busy": "2022-10-18T23:53:55.237115Z",
     "iopub.status.idle": "2022-10-18T23:55:58.293867Z",
     "shell.execute_reply": "2022-10-18T23:55:58.291499Z"
    },
    "papermill": {
     "duration": 123.072211,
     "end_time": "2022-10-18T23:55:58.298137",
     "exception": false,
     "start_time": "2022-10-18T23:53:55.225926",
     "status": "completed"
    },
    "tags": []
   },
   "outputs": [
    {
     "name": "stdout",
     "output_type": "stream",
     "text": [
      "\n",
      "Iteration 1 of index/analysis of 60 samples with 32 cores\n",
      "Removing any extra snakemake directories: ['snakemake-assemblies.1666137119.1644187']\n"
     ]
    },
    {
     "name": "stdout",
     "output_type": "stream",
     "text": [
      "Creating new index: [gdi init simulations/alpha-0.05-cov-30/index-assemblies-reads]\n"
     ]
    },
    {
     "name": "stderr",
     "output_type": "stream",
     "text": [
      "/home/CSCScience.ca/apetkau/miniconda3/envs/gdi-manuscript/lib/python3.8/multiprocessing/popen_fork.py:70: ResourceWarning: Unclosed socket <zmq.Socket(zmq.PUSH) at 0x7f37f7a77820>\n",
      "  self.pid = os.fork()\n",
      "ResourceWarning: Enable tracemalloc to get the object allocation traceback\n"
     ]
    },
    {
     "name": "stderr",
     "output_type": "stream",
     "text": [
      "/home/CSCScience.ca/apetkau/miniconda3/envs/gdi-manuscript/lib/python3.8/multiprocessing/popen_fork.py:70: ResourceWarning: Unclosed socket <zmq.Socket(zmq.PUSH) at 0x7f37f7a77820>\n",
      "  self.pid = os.fork()\n",
      "ResourceWarning: Enable tracemalloc to get the object allocation traceback\n"
     ]
    },
    {
     "name": "stdout",
     "output_type": "stream",
     "text": [
      "Creating a new index took 3.26 seconds\n",
      "Analysis running: [gdi --project-dir simulations/alpha-0.05-cov-30/index-assemblies-reads --ncores 32 analysis --use-conda --no-load-data --reference-file simulations/reference/reference.fa.gz --kmer-size 31 --kmer-size 51 --kmer-size 71 --include-kmer --reads-mincov 10 --input-structured-genomes-file simulations/alpha-0.05-cov-30/input-assemblies-reads.tsv]\n"
     ]
    },
    {
     "name": "stderr",
     "output_type": "stream",
     "text": [
      "/home/CSCScience.ca/apetkau/miniconda3/envs/gdi-manuscript/lib/python3.8/multiprocessing/popen_fork.py:70: ResourceWarning: Unclosed socket <zmq.Socket(zmq.PUSH) at 0x7f37f7a77820>\n",
      "  self.pid = os.fork()\n",
      "ResourceWarning: Enable tracemalloc to get the object allocation traceback\n"
     ]
    },
    {
     "name": "stderr",
     "output_type": "stream",
     "text": [
      "/home/CSCScience.ca/apetkau/miniconda3/envs/gdi-manuscript/lib/python3.8/multiprocessing/popen_fork.py:70: ResourceWarning: Unclosed socket <zmq.Socket(zmq.PUSH) at 0x7f37f7a77820>\n",
      "  self.pid = os.fork()\n",
      "ResourceWarning: Enable tracemalloc to get the object allocation traceback\n"
     ]
    },
    {
     "name": "stdout",
     "output_type": "stream",
     "text": [
      "Analysis took 1.68 minutes\n",
      "Index running: [gdi --project-dir simulations/alpha-0.05-cov-30/index-assemblies-reads --ncores 32 load vcf-kmer --sample-batch-size 2000 --reference-file simulations/reference/reference.fa.gz /home/CSCScience.ca/apetkau/workspace/genomics-data-index-evaluation-manuscript/evaluations/simulation/snakemake-assemblies.1666137243.111978/gdi-input.fofn]\n"
     ]
    },
    {
     "name": "stderr",
     "output_type": "stream",
     "text": [
      "/home/CSCScience.ca/apetkau/miniconda3/envs/gdi-manuscript/lib/python3.8/multiprocessing/popen_fork.py:70: ResourceWarning: Unclosed socket <zmq.Socket(zmq.PUSH) at 0x7f37f7a77820>\n",
      "  self.pid = os.fork()\n",
      "ResourceWarning: Enable tracemalloc to get the object allocation traceback\n"
     ]
    },
    {
     "name": "stderr",
     "output_type": "stream",
     "text": [
      "/home/CSCScience.ca/apetkau/miniconda3/envs/gdi-manuscript/lib/python3.8/multiprocessing/popen_fork.py:70: ResourceWarning: Unclosed socket <zmq.Socket(zmq.PUSH) at 0x7f37f7a77820>\n",
      "  self.pid = os.fork()\n",
      "ResourceWarning: Enable tracemalloc to get the object allocation traceback\n"
     ]
    },
    {
     "name": "stderr",
     "output_type": "stream",
     "text": [
      "/home/CSCScience.ca/apetkau/miniconda3/envs/gdi-manuscript/lib/python3.8/multiprocessing/popen_fork.py:70: ResourceWarning: Unclosed socket <zmq.Socket(zmq.PUSH) at 0x7f37f7a77820>\n",
      "  self.pid = os.fork()\n",
      "ResourceWarning: Enable tracemalloc to get the object allocation traceback\n",
      "Exception during reset or similar\n",
      "Traceback (most recent call last):\n",
      "  File \"/home/CSCScience.ca/apetkau/miniconda3/envs/gdi-manuscript/lib/python3.8/multiprocessing/managers.py\", line 243, in serve_client\n",
      "    request = recv()\n",
      "  File \"/home/CSCScience.ca/apetkau/miniconda3/envs/gdi-manuscript/lib/python3.8/multiprocessing/connection.py\", line 250, in recv\n",
      "    buf = self._recv_bytes()\n",
      "  File \"/home/CSCScience.ca/apetkau/miniconda3/envs/gdi-manuscript/lib/python3.8/multiprocessing/connection.py\", line 414, in _recv_bytes\n",
      "    buf = self._recv(4)\n",
      "  File \"/home/CSCScience.ca/apetkau/miniconda3/envs/gdi-manuscript/lib/python3.8/multiprocessing/connection.py\", line 383, in _recv\n",
      "    raise EOFError\n",
      "EOFError\n",
      "\n",
      "During handling of the above exception, another exception occurred:\n",
      "\n",
      "Traceback (most recent call last):\n",
      "  File \"/home/CSCScience.ca/apetkau/miniconda3/envs/gdi-manuscript/lib/python3.8/threading.py\", line 932, in _bootstrap_inner\n",
      "    self.run()\n",
      "  File \"/home/CSCScience.ca/apetkau/miniconda3/envs/gdi-manuscript/lib/python3.8/threading.py\", line 870, in run\n",
      "    self._target(*self._args, **self._kwargs)\n",
      "  File \"/home/CSCScience.ca/apetkau/miniconda3/envs/gdi-manuscript/lib/python3.8/multiprocessing/managers.py\", line 210, in handle_request\n",
      "    result = func(c, *args, **kwds)\n",
      "  File \"/home/CSCScience.ca/apetkau/miniconda3/envs/gdi-manuscript/lib/python3.8/multiprocessing/managers.py\", line 438, in accept_connection\n",
      "    self.serve_client(c)\n",
      "  File \"/home/CSCScience.ca/apetkau/miniconda3/envs/gdi-manuscript/lib/python3.8/multiprocessing/managers.py\", line 291, in serve_client\n",
      "    sys.exit(0)\n",
      "SystemExit: 0\n",
      "\n",
      "During handling of the above exception, another exception occurred:\n",
      "\n",
      "Traceback (most recent call last):\n",
      "  File \"/home/CSCScience.ca/apetkau/miniconda3/envs/gdi-manuscript/lib/python3.8/site-packages/sqlalchemy/pool/base.py\", line 753, in _finalize_fairy\n",
      "    fairy._reset(pool)\n",
      "  File \"/home/CSCScience.ca/apetkau/miniconda3/envs/gdi-manuscript/lib/python3.8/site-packages/sqlalchemy/pool/base.py\", line 1004, in _reset\n",
      "    pool._dialect.do_rollback(self)\n",
      "  File \"/home/CSCScience.ca/apetkau/miniconda3/envs/gdi-manuscript/lib/python3.8/site-packages/sqlalchemy/engine/default.py\", line 683, in do_rollback\n",
      "    dbapi_connection.rollback()\n",
      "sqlite3.ProgrammingError: SQLite objects created in a thread can only be used in that same thread. The object was created in thread id 139886953469760 and this is thread id 139886480848640.\n"
     ]
    },
    {
     "name": "stderr",
     "output_type": "stream",
     "text": [
      "Exception closing connection <sqlite3.Connection object at 0x7f3975f5d990>\n",
      "Traceback (most recent call last):\n",
      "  File \"/home/CSCScience.ca/apetkau/miniconda3/envs/gdi-manuscript/lib/python3.8/multiprocessing/managers.py\", line 243, in serve_client\n",
      "    request = recv()\n",
      "  File \"/home/CSCScience.ca/apetkau/miniconda3/envs/gdi-manuscript/lib/python3.8/multiprocessing/connection.py\", line 250, in recv\n",
      "    buf = self._recv_bytes()\n",
      "  File \"/home/CSCScience.ca/apetkau/miniconda3/envs/gdi-manuscript/lib/python3.8/multiprocessing/connection.py\", line 414, in _recv_bytes\n",
      "    buf = self._recv(4)\n",
      "  File \"/home/CSCScience.ca/apetkau/miniconda3/envs/gdi-manuscript/lib/python3.8/multiprocessing/connection.py\", line 383, in _recv\n",
      "    raise EOFError\n",
      "EOFError\n",
      "\n",
      "During handling of the above exception, another exception occurred:\n",
      "\n",
      "Traceback (most recent call last):\n",
      "  File \"/home/CSCScience.ca/apetkau/miniconda3/envs/gdi-manuscript/lib/python3.8/threading.py\", line 932, in _bootstrap_inner\n",
      "    self.run()\n",
      "  File \"/home/CSCScience.ca/apetkau/miniconda3/envs/gdi-manuscript/lib/python3.8/threading.py\", line 870, in run\n",
      "    self._target(*self._args, **self._kwargs)\n",
      "  File \"/home/CSCScience.ca/apetkau/miniconda3/envs/gdi-manuscript/lib/python3.8/multiprocessing/managers.py\", line 210, in handle_request\n",
      "    result = func(c, *args, **kwds)\n",
      "  File \"/home/CSCScience.ca/apetkau/miniconda3/envs/gdi-manuscript/lib/python3.8/multiprocessing/managers.py\", line 438, in accept_connection\n",
      "    self.serve_client(c)\n",
      "  File \"/home/CSCScience.ca/apetkau/miniconda3/envs/gdi-manuscript/lib/python3.8/multiprocessing/managers.py\", line 291, in serve_client\n",
      "    sys.exit(0)\n",
      "SystemExit: 0\n",
      "\n",
      "During handling of the above exception, another exception occurred:\n",
      "\n",
      "Traceback (most recent call last):\n",
      "  File \"/home/CSCScience.ca/apetkau/miniconda3/envs/gdi-manuscript/lib/python3.8/site-packages/sqlalchemy/pool/base.py\", line 753, in _finalize_fairy\n",
      "    fairy._reset(pool)\n",
      "  File \"/home/CSCScience.ca/apetkau/miniconda3/envs/gdi-manuscript/lib/python3.8/site-packages/sqlalchemy/pool/base.py\", line 1004, in _reset\n",
      "    pool._dialect.do_rollback(self)\n",
      "  File \"/home/CSCScience.ca/apetkau/miniconda3/envs/gdi-manuscript/lib/python3.8/site-packages/sqlalchemy/engine/default.py\", line 683, in do_rollback\n",
      "    dbapi_connection.rollback()\n",
      "sqlite3.ProgrammingError: SQLite objects created in a thread can only be used in that same thread. The object was created in thread id 139886953469760 and this is thread id 139886480848640.\n",
      "\n",
      "During handling of the above exception, another exception occurred:\n",
      "\n",
      "Traceback (most recent call last):\n",
      "  File \"/home/CSCScience.ca/apetkau/miniconda3/envs/gdi-manuscript/lib/python3.8/site-packages/sqlalchemy/pool/base.py\", line 255, in _close_connection\n",
      "    self._dialect.do_terminate(connection)\n",
      "  File \"/home/CSCScience.ca/apetkau/miniconda3/envs/gdi-manuscript/lib/python3.8/site-packages/sqlalchemy/engine/default.py\", line 689, in do_terminate\n",
      "    self.do_close(dbapi_connection)\n",
      "  File \"/home/CSCScience.ca/apetkau/miniconda3/envs/gdi-manuscript/lib/python3.8/site-packages/sqlalchemy/engine/default.py\", line 692, in do_close\n",
      "    dbapi_connection.close()\n",
      "sqlite3.ProgrammingError: SQLite objects created in a thread can only be used in that same thread. The object was created in thread id 139886953469760 and this is thread id 139886480848640.\n"
     ]
    },
    {
     "name": "stdout",
     "output_type": "stream",
     "text": [
      "Indexing took 0.12 minutes\n",
      "Building tree: [gdi --project-dir simulations/alpha-0.05-cov-30/index-assemblies-reads --ncores 32 rebuild tree --align-type full --extra-params '--fast -m GTR+F+R4' reference]\n"
     ]
    },
    {
     "name": "stderr",
     "output_type": "stream",
     "text": [
      "/home/CSCScience.ca/apetkau/miniconda3/envs/gdi-manuscript/lib/python3.8/multiprocessing/popen_fork.py:70: ResourceWarning: Unclosed socket <zmq.Socket(zmq.PUSH) at 0x7f37f7a77820>\n",
      "  self.pid = os.fork()\n",
      "ResourceWarning: Enable tracemalloc to get the object allocation traceback\n",
      "Exception during reset or similar\n",
      "Traceback (most recent call last):\n",
      "  File \"/home/CSCScience.ca/apetkau/miniconda3/envs/gdi-manuscript/lib/python3.8/site-packages/sqlalchemy/pool/base.py\", line 753, in _finalize_fairy\n",
      "    fairy._reset(pool)\n",
      "  File \"/home/CSCScience.ca/apetkau/miniconda3/envs/gdi-manuscript/lib/python3.8/site-packages/sqlalchemy/pool/base.py\", line 1004, in _reset\n",
      "    pool._dialect.do_rollback(self)\n",
      "  File \"/home/CSCScience.ca/apetkau/miniconda3/envs/gdi-manuscript/lib/python3.8/site-packages/sqlalchemy/engine/default.py\", line 683, in do_rollback\n",
      "    dbapi_connection.rollback()\n",
      "sqlite3.ProgrammingError: SQLite objects created in a thread can only be used in that same thread. The object was created in thread id 139886953469760 and this is thread id 139886844778240.\n"
     ]
    },
    {
     "name": "stderr",
     "output_type": "stream",
     "text": [
      "Exception closing connection <sqlite3.Connection object at 0x7f3975f5d990>\n",
      "Traceback (most recent call last):\n",
      "  File \"/home/CSCScience.ca/apetkau/miniconda3/envs/gdi-manuscript/lib/python3.8/site-packages/sqlalchemy/pool/base.py\", line 753, in _finalize_fairy\n",
      "    fairy._reset(pool)\n",
      "  File \"/home/CSCScience.ca/apetkau/miniconda3/envs/gdi-manuscript/lib/python3.8/site-packages/sqlalchemy/pool/base.py\", line 1004, in _reset\n",
      "    pool._dialect.do_rollback(self)\n",
      "  File \"/home/CSCScience.ca/apetkau/miniconda3/envs/gdi-manuscript/lib/python3.8/site-packages/sqlalchemy/engine/default.py\", line 683, in do_rollback\n",
      "    dbapi_connection.rollback()\n",
      "sqlite3.ProgrammingError: SQLite objects created in a thread can only be used in that same thread. The object was created in thread id 139886953469760 and this is thread id 139886844778240.\n",
      "\n",
      "During handling of the above exception, another exception occurred:\n",
      "\n",
      "Traceback (most recent call last):\n",
      "  File \"/home/CSCScience.ca/apetkau/miniconda3/envs/gdi-manuscript/lib/python3.8/site-packages/sqlalchemy/pool/base.py\", line 255, in _close_connection\n",
      "    self._dialect.do_terminate(connection)\n",
      "  File \"/home/CSCScience.ca/apetkau/miniconda3/envs/gdi-manuscript/lib/python3.8/site-packages/sqlalchemy/engine/default.py\", line 689, in do_terminate\n",
      "    self.do_close(dbapi_connection)\n",
      "  File \"/home/CSCScience.ca/apetkau/miniconda3/envs/gdi-manuscript/lib/python3.8/site-packages/sqlalchemy/engine/default.py\", line 692, in do_close\n",
      "    dbapi_connection.close()\n",
      "sqlite3.ProgrammingError: SQLite objects created in a thread can only be used in that same thread. The object was created in thread id 139886953469760 and this is thread id 139886844778240.\n"
     ]
    },
    {
     "name": "stderr",
     "output_type": "stream",
     "text": [
      "/home/CSCScience.ca/apetkau/miniconda3/envs/gdi-manuscript/lib/python3.8/multiprocessing/popen_fork.py:70: ResourceWarning: Unclosed socket <zmq.Socket(zmq.PUSH) at 0x7f37f7a77820>\n",
      "  self.pid = os.fork()\n",
      "ResourceWarning: Enable tracemalloc to get the object allocation traceback\n"
     ]
    },
    {
     "name": "stderr",
     "output_type": "stream",
     "text": [
      "/home/CSCScience.ca/apetkau/miniconda3/envs/gdi-manuscript/lib/python3.8/multiprocessing/popen_fork.py:70: ResourceWarning: Unclosed socket <zmq.Socket(zmq.PUSH) at 0x7f37f7a77820>\n",
      "  self.pid = os.fork()\n",
      "ResourceWarning: Enable tracemalloc to get the object allocation traceback\n"
     ]
    },
    {
     "name": "stdout",
     "output_type": "stream",
     "text": [
      "Building tree took 0.17 minutes\n"
     ]
    },
    {
     "name": "stderr",
     "output_type": "stream",
     "text": [
      "Attempting to set global database_path_translator=<genomics_data_index.storage.model.db.DatabasePathTranslator.DatabasePathTranslator object at 0x7f396552d8b0> but it is already set\n"
     ]
    },
    {
     "name": "stderr",
     "output_type": "stream",
     "text": [
      "A reminder to myself to look for a Python solution for directory sizes (instead of running `du`)\n"
     ]
    }
   ],
   "source": [
    "results_handler = gdi_benchmark.BenchmarkResultsHandler(name=f'{case_name} assemblies')\n",
    "benchmarker = gdi_benchmark.IndexBenchmarker(benchmark_results_handler=results_handler,\n",
    "                                             index_path=index_assemblies_reads_path, input_files_file=input_genomes_file,\n",
    "                                             reference_file=reference_file, mincov=mincov, build_tree=True,\n",
    "                                             ncores=ncores)\n",
    "\n",
    "benchmark_df = benchmarker.benchmark(iterations=iterations)"
   ]
  },
  {
   "cell_type": "code",
   "execution_count": 15,
   "id": "120761a0-c80b-4868-bec6-654fecbc76f8",
   "metadata": {
    "execution": {
     "iopub.execute_input": "2022-10-18T23:55:58.325947Z",
     "iopub.status.busy": "2022-10-18T23:55:58.325332Z",
     "iopub.status.idle": "2022-10-18T23:55:58.356577Z",
     "shell.execute_reply": "2022-10-18T23:55:58.355382Z"
    },
    "papermill": {
     "duration": 0.04706,
     "end_time": "2022-10-18T23:55:58.360264",
     "exception": false,
     "start_time": "2022-10-18T23:55:58.313204",
     "status": "completed"
    },
    "tags": []
   },
   "outputs": [
    {
     "data": {
      "text/html": [
       "<div>\n",
       "<style scoped>\n",
       "    .dataframe tbody tr th:only-of-type {\n",
       "        vertical-align: middle;\n",
       "    }\n",
       "\n",
       "    .dataframe tbody tr th {\n",
       "        vertical-align: top;\n",
       "    }\n",
       "\n",
       "    .dataframe thead th {\n",
       "        text-align: right;\n",
       "    }\n",
       "</style>\n",
       "<table border=\"1\" class=\"dataframe\">\n",
       "  <thead>\n",
       "    <tr style=\"text-align: right;\">\n",
       "      <th></th>\n",
       "      <th>Name</th>\n",
       "      <th>Reference name</th>\n",
       "      <th>Iteration</th>\n",
       "      <th>Number samples</th>\n",
       "      <th>Number features (all)</th>\n",
       "      <th>Number features (no unknown)</th>\n",
       "      <th>Number cores</th>\n",
       "      <th>Reference length</th>\n",
       "      <th>Analysis runtime</th>\n",
       "      <th>Analysis memory (max)</th>\n",
       "      <th>...</th>\n",
       "      <th>Analysis disk uage</th>\n",
       "      <th>Index runtime</th>\n",
       "      <th>Index memory (max)</th>\n",
       "      <th>Index memory (max/process)</th>\n",
       "      <th>Index size</th>\n",
       "      <th>Tree runtime</th>\n",
       "      <th>Tree memory (max)</th>\n",
       "      <th>Tree memory (max/process)</th>\n",
       "      <th>Total runtime</th>\n",
       "      <th>Max memory</th>\n",
       "    </tr>\n",
       "  </thead>\n",
       "  <tbody>\n",
       "    <tr>\n",
       "      <th>0</th>\n",
       "      <td>alpha-0.05-cov-30 assemblies</td>\n",
       "      <td>reference</td>\n",
       "      <td>1</td>\n",
       "      <td>60</td>\n",
       "      <td>1895</td>\n",
       "      <td>903</td>\n",
       "      <td>32</td>\n",
       "      <td>19699</td>\n",
       "      <td>100.58</td>\n",
       "      <td>2.543174e+09</td>\n",
       "      <td>...</td>\n",
       "      <td>2.232201e+09</td>\n",
       "      <td>7.15</td>\n",
       "      <td>6.173991e+09</td>\n",
       "      <td>282222592.0</td>\n",
       "      <td>1441792.0</td>\n",
       "      <td>9.9</td>\n",
       "      <td>279371776.0</td>\n",
       "      <td>251547648.0</td>\n",
       "      <td>117.63</td>\n",
       "      <td>6.173991e+09</td>\n",
       "    </tr>\n",
       "  </tbody>\n",
       "</table>\n",
       "<p>1 rows × 21 columns</p>\n",
       "</div>"
      ],
      "text/plain": [
       "                           Name Reference name  Iteration  Number samples  \\\n",
       "0  alpha-0.05-cov-30 assemblies      reference          1              60   \n",
       "\n",
       "   Number features (all)  Number features (no unknown)  Number cores  \\\n",
       "0                   1895                           903            32   \n",
       "\n",
       "   Reference length  Analysis runtime  Analysis memory (max)  ...  \\\n",
       "0             19699            100.58           2.543174e+09  ...   \n",
       "\n",
       "   Analysis disk uage  Index runtime  Index memory (max)  \\\n",
       "0        2.232201e+09           7.15        6.173991e+09   \n",
       "\n",
       "   Index memory (max/process)  Index size  Tree runtime  Tree memory (max)  \\\n",
       "0                 282222592.0   1441792.0           9.9        279371776.0   \n",
       "\n",
       "   Tree memory (max/process)  Total runtime    Max memory  \n",
       "0                251547648.0         117.63  6.173991e+09  \n",
       "\n",
       "[1 rows x 21 columns]"
      ]
     },
     "execution_count": 15,
     "metadata": {},
     "output_type": "execute_result"
    }
   ],
   "source": [
    "benchmark_df"
   ]
  },
  {
   "cell_type": "code",
   "execution_count": 16,
   "id": "98442c2b-0156-4eb3-a764-84ce3c80b49f",
   "metadata": {
    "execution": {
     "iopub.execute_input": "2022-10-18T23:55:58.385241Z",
     "iopub.status.busy": "2022-10-18T23:55:58.384703Z",
     "iopub.status.idle": "2022-10-18T23:55:58.395259Z",
     "shell.execute_reply": "2022-10-18T23:55:58.393699Z"
    },
    "papermill": {
     "duration": 0.024603,
     "end_time": "2022-10-18T23:55:58.398996",
     "exception": false,
     "start_time": "2022-10-18T23:55:58.374393",
     "status": "completed"
    },
    "tags": []
   },
   "outputs": [],
   "source": [
    "index_assemblies_reads_runtime = simulation_dir_path / 'assemblies-reads-index-info.tsv'\n",
    "benchmark_df.to_csv(index_assemblies_reads_runtime, sep='\\t', index=False)"
   ]
  },
  {
   "cell_type": "markdown",
   "id": "6cb7673b-9f85-4c43-b2e2-93538497a196",
   "metadata": {
    "papermill": {
     "duration": 0.009203,
     "end_time": "2022-10-18T23:55:58.422712",
     "exception": false,
     "start_time": "2022-10-18T23:55:58.413509",
     "status": "completed"
    },
    "tags": []
   },
   "source": [
    "# 3. Export trees"
   ]
  },
  {
   "cell_type": "code",
   "execution_count": 17,
   "id": "5280f82c-5434-4391-8c44-b937a7c95bd5",
   "metadata": {
    "execution": {
     "iopub.execute_input": "2022-10-18T23:55:58.437758Z",
     "iopub.status.busy": "2022-10-18T23:55:58.437069Z",
     "iopub.status.idle": "2022-10-18T23:56:08.650968Z",
     "shell.execute_reply": "2022-10-18T23:56:08.649146Z"
    },
    "papermill": {
     "duration": 10.22489,
     "end_time": "2022-10-18T23:56:08.654770",
     "exception": false,
     "start_time": "2022-10-18T23:55:58.429880",
     "status": "completed"
    },
    "tags": []
   },
   "outputs": [
    {
     "name": "stdout",
     "output_type": "stream",
     "text": [
      "Wrote assemblies tree to simulations/alpha-0.05-cov-30/index-assemblies/assemblies.tre\n"
     ]
    },
    {
     "name": "stdout",
     "output_type": "stream",
     "text": [
      "Wrote assemblies tree to simulations/alpha-0.05-cov-30/index-reads/reads.tre\n"
     ]
    },
    {
     "name": "stdout",
     "output_type": "stream",
     "text": [
      "Wrote assemblies tree to simulations/alpha-0.05-cov-30/index-assemblies-reads/assemblies-reads.tre\n"
     ]
    }
   ],
   "source": [
    "!gdi --project-dir {index_assemblies_path} export tree {reference_name} > {output_assemblies_tree}\n",
    "print(f'Wrote assemblies tree to {output_assemblies_tree}')\n",
    "\n",
    "!gdi --project-dir {index_reads_path} export tree {reference_name} > {output_reads_tree}\n",
    "print(f'Wrote assemblies tree to {output_reads_tree}')\n",
    "\n",
    "!gdi --project-dir {index_assemblies_reads_path} export tree {reference_name} > {output_assemblies_reads_tree}\n",
    "print(f'Wrote assemblies tree to {output_assemblies_reads_tree}')"
   ]
  }
 ],
 "metadata": {
  "kernelspec": {
   "display_name": "Python 3 (ipykernel)",
   "language": "python",
   "name": "python3"
  },
  "language_info": {
   "codemirror_mode": {
    "name": "ipython",
    "version": 3
   },
   "file_extension": ".py",
   "mimetype": "text/x-python",
   "name": "python",
   "nbconvert_exporter": "python",
   "pygments_lexer": "ipython3",
   "version": "3.8.13"
  },
  "papermill": {
   "default_parameters": {},
   "duration": 439.573499,
   "end_time": "2022-10-18T23:56:09.297108",
   "environment_variables": {},
   "exception": null,
   "input_path": "template-3-index-genomes.ipynb",
   "output_path": "3-index-genomes.simulation-alpha-0.05.ipynb",
   "parameters": {
    "iterations": 1,
    "mincov": 10,
    "read_coverage": 30,
    "simulation_dir": "simulations/alpha-0.05-cov-30",
    "sub_alpha": 0.05
   },
   "start_time": "2022-10-18T23:48:49.723609",
   "version": "2.3.4"
  }
 },
 "nbformat": 4,
 "nbformat_minor": 5
}