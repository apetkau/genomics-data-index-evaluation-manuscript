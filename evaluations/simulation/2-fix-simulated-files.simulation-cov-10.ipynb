{
 "cells": [
  {
   "cell_type": "markdown",
   "id": "acfa5482-d626-44d6-b613-863e6911fa98",
   "metadata": {
    "papermill": {
     "duration": 0.006438,
     "end_time": "2022-09-29T19:14:27.123626",
     "exception": false,
     "start_time": "2022-09-29T19:14:27.117188",
     "status": "completed"
    },
    "tags": []
   },
   "source": [
    "# 1. Parameters"
   ]
  },
  {
   "cell_type": "code",
   "execution_count": 1,
   "id": "36126d74-a9d8-4431-ba49-767c1fc2ec49",
   "metadata": {
    "execution": {
     "iopub.execute_input": "2022-09-29T19:14:27.134120Z",
     "iopub.status.busy": "2022-09-29T19:14:27.133507Z",
     "iopub.status.idle": "2022-09-29T19:14:27.149538Z",
     "shell.execute_reply": "2022-09-29T19:14:27.148328Z"
    },
    "papermill": {
     "duration": 0.024825,
     "end_time": "2022-09-29T19:14:27.153563",
     "exception": false,
     "start_time": "2022-09-29T19:14:27.128738",
     "status": "completed"
    },
    "tags": [
     "parameters"
    ]
   },
   "outputs": [],
   "source": [
    "# Defaults\n",
    "simulation_dir = 'simulations/unset'\n",
    "ncores = 48"
   ]
  },
  {
   "cell_type": "code",
   "execution_count": 2,
   "id": "fbc62d41",
   "metadata": {
    "execution": {
     "iopub.execute_input": "2022-09-29T19:14:27.165099Z",
     "iopub.status.busy": "2022-09-29T19:14:27.164564Z",
     "iopub.status.idle": "2022-09-29T19:14:27.171580Z",
     "shell.execute_reply": "2022-09-29T19:14:27.170087Z"
    },
    "papermill": {
     "duration": 0.016554,
     "end_time": "2022-09-29T19:14:27.175037",
     "exception": false,
     "start_time": "2022-09-29T19:14:27.158483",
     "status": "completed"
    },
    "tags": [
     "injected-parameters"
    ]
   },
   "outputs": [],
   "source": [
    "# Parameters\n",
    "read_coverage = 10\n",
    "mincov = 10\n",
    "simulation_dir = \"simulations/cov-10\"\n",
    "iterations = 3\n",
    "sub_alpha = 0.2\n"
   ]
  },
  {
   "cell_type": "code",
   "execution_count": 3,
   "id": "15e911d7-0ffc-4110-aefe-71bc77e689cd",
   "metadata": {
    "execution": {
     "iopub.execute_input": "2022-09-29T19:14:27.190787Z",
     "iopub.status.busy": "2022-09-29T19:14:27.190258Z",
     "iopub.status.idle": "2022-09-29T19:14:27.199238Z",
     "shell.execute_reply": "2022-09-29T19:14:27.197712Z"
    },
    "papermill": {
     "duration": 0.0192,
     "end_time": "2022-09-29T19:14:27.202188",
     "exception": false,
     "start_time": "2022-09-29T19:14:27.182988",
     "status": "completed"
    },
    "tags": []
   },
   "outputs": [],
   "source": [
    "from pathlib import Path\n",
    "import os\n",
    "\n",
    "simulation_data_dir = Path(simulation_dir) / 'simulated_data'\n",
    "initial_reads_dir = simulation_data_dir / 'reads_initial'\n",
    "reads_dir = simulation_data_dir / 'reads'\n",
    "assemblies_dir = simulation_data_dir / 'assemblies'\n",
    "\n",
    "if not reads_dir.exists():\n",
    "    os.mkdir(reads_dir)"
   ]
  },
  {
   "cell_type": "markdown",
   "id": "rotary-regard",
   "metadata": {
    "papermill": {
     "duration": 0.003534,
     "end_time": "2022-09-29T19:14:27.209159",
     "exception": false,
     "start_time": "2022-09-29T19:14:27.205625",
     "status": "completed"
    },
    "tags": []
   },
   "source": [
    "# 2. Fix reads\n",
    "\n",
    "Fix read file names and data so they can be indexed."
   ]
  },
  {
   "cell_type": "code",
   "execution_count": 4,
   "id": "convenient-blackberry",
   "metadata": {
    "execution": {
     "iopub.execute_input": "2022-09-29T19:14:27.217232Z",
     "iopub.status.busy": "2022-09-29T19:14:27.216536Z",
     "iopub.status.idle": "2022-09-29T19:14:27.411995Z",
     "shell.execute_reply": "2022-09-29T19:14:27.410020Z"
    },
    "papermill": {
     "duration": 0.203762,
     "end_time": "2022-09-29T19:14:27.415883",
     "exception": false,
     "start_time": "2022-09-29T19:14:27.212121",
     "status": "completed"
    },
    "tags": []
   },
   "outputs": [
    {
     "name": "stdout",
     "output_type": "stream",
     "text": [
      "~/workspace/genomics-data-index-evaluation-manuscript/evaluations/simulation/simulations/cov-10/simulated_data/reads_initial ~/workspace/genomics-data-index-evaluation-manuscript/evaluations/simulation\r\n"
     ]
    },
    {
     "name": "stdout",
     "output_type": "stream",
     "text": [
      "~/workspace/genomics-data-index-evaluation-manuscript/evaluations/simulation\r\n"
     ]
    }
   ],
   "source": [
    "import os\n",
    "\n",
    "# Fix warning about locale unset\n",
    "os.environ['LANG'] = 'en_US.UTF-8'\n",
    "\n",
    "!pushd {initial_reads_dir}; prename 's/data_//' *.fq.gz; popd"
   ]
  },
  {
   "cell_type": "markdown",
   "id": "median-belle",
   "metadata": {
    "papermill": {
     "duration": 0.005306,
     "end_time": "2022-09-29T19:14:27.429315",
     "exception": false,
     "start_time": "2022-09-29T19:14:27.424009",
     "status": "completed"
    },
    "tags": []
   },
   "source": [
    "Jackalope produces reads with non-standard identifiers where pairs of reads don't have matching identifiers. For example:\n",
    "\n",
    "* Pair 1: `@SH08-001-NC_011083-3048632-R/1`\n",
    "* Pair 2: `@SH08-001-NC_011083-3048396-F/2`\n",
    "\n",
    "In order to run snippy, these paired identifiers need to match (except for the `/1` and `/2` suffix).\n",
    "\n",
    "So, I have to replace them all with something unique, but which matches in each pair of files. I do this by replacing the position (I think) with the read number (as it appears in the file). So the above identifiers become:\n",
    "\n",
    "* Pair 1: `@SH08-001-NC_011083-1/1`\n",
    "* Pair 2: `@SH08-001-NC_011083-1/2`"
   ]
  },
  {
   "cell_type": "code",
   "execution_count": 5,
   "id": "remarkable-berry",
   "metadata": {
    "execution": {
     "iopub.execute_input": "2022-09-29T19:14:27.439710Z",
     "iopub.status.busy": "2022-09-29T19:14:27.438970Z",
     "iopub.status.idle": "2022-09-29T19:14:28.402629Z",
     "shell.execute_reply": "2022-09-29T19:14:28.400345Z"
    },
    "papermill": {
     "duration": 0.973822,
     "end_time": "2022-09-29T19:14:28.406946",
     "exception": false,
     "start_time": "2022-09-29T19:14:27.433124",
     "status": "completed"
    },
    "tags": []
   },
   "outputs": [],
   "source": [
    "import glob\n",
    "import os\n",
    "\n",
    "files = [os.path.basename(f) for f in glob.glob(f'{initial_reads_dir}/*.fq.gz')]\n",
    "!parallel -j {ncores} -I% 'gzip -d --stdout {initial_reads_dir}/% | perl scripts/replace-fastq-header.pl | gzip > {reads_dir}/%' \\\n",
    "    ::: {' '.join(files)}"
   ]
  },
  {
   "cell_type": "code",
   "execution_count": 6,
   "id": "8318e7a8-1057-4e4f-aaec-fccdec42a75f",
   "metadata": {
    "execution": {
     "iopub.execute_input": "2022-09-29T19:14:28.421053Z",
     "iopub.status.busy": "2022-09-29T19:14:28.420449Z",
     "iopub.status.idle": "2022-09-29T19:14:28.435827Z",
     "shell.execute_reply": "2022-09-29T19:14:28.434504Z"
    },
    "papermill": {
     "duration": 0.026605,
     "end_time": "2022-09-29T19:14:28.439286",
     "exception": false,
     "start_time": "2022-09-29T19:14:28.412681",
     "status": "completed"
    },
    "tags": []
   },
   "outputs": [],
   "source": [
    "import shutil\n",
    "\n",
    "shutil.rmtree(initial_reads_dir)"
   ]
  },
  {
   "cell_type": "markdown",
   "id": "cf630b4f-ed63-4e14-9657-e0aaea0953ab",
   "metadata": {
    "papermill": {
     "duration": 0.004815,
     "end_time": "2022-09-29T19:14:28.449632",
     "exception": false,
     "start_time": "2022-09-29T19:14:28.444817",
     "status": "completed"
    },
    "tags": []
   },
   "source": [
    "# 3. Fix assemblies\n",
    "\n",
    "Fix assembly genome names"
   ]
  },
  {
   "cell_type": "code",
   "execution_count": 7,
   "id": "08fac610-3ab3-4afa-9873-406973041963",
   "metadata": {
    "execution": {
     "iopub.execute_input": "2022-09-29T19:14:28.459040Z",
     "iopub.status.busy": "2022-09-29T19:14:28.458497Z",
     "iopub.status.idle": "2022-09-29T19:14:28.640545Z",
     "shell.execute_reply": "2022-09-29T19:14:28.638423Z"
    },
    "papermill": {
     "duration": 0.191105,
     "end_time": "2022-09-29T19:14:28.644455",
     "exception": false,
     "start_time": "2022-09-29T19:14:28.453350",
     "status": "completed"
    },
    "tags": []
   },
   "outputs": [
    {
     "name": "stdout",
     "output_type": "stream",
     "text": [
      "~/workspace/genomics-data-index-evaluation-manuscript/evaluations/simulation/simulations/cov-10/simulated_data/assemblies ~/workspace/genomics-data-index-evaluation-manuscript/evaluations/simulation\r\n"
     ]
    },
    {
     "name": "stdout",
     "output_type": "stream",
     "text": [
      "~/workspace/genomics-data-index-evaluation-manuscript/evaluations/simulation\r\n"
     ]
    }
   ],
   "source": [
    "!pushd {assemblies_dir}; prename 's/data__//' *.fa.gz; popd"
   ]
  }
 ],
 "metadata": {
  "kernelspec": {
   "display_name": "Python 3 (ipykernel)",
   "language": "python",
   "name": "python3"
  },
  "language_info": {
   "codemirror_mode": {
    "name": "ipython",
    "version": 3
   },
   "file_extension": ".py",
   "mimetype": "text/x-python",
   "name": "python",
   "nbconvert_exporter": "python",
   "pygments_lexer": "ipython3",
   "version": "3.8.13"
  },
  "papermill": {
   "default_parameters": {},
   "duration": 3.317965,
   "end_time": "2022-09-29T19:14:28.874015",
   "environment_variables": {},
   "exception": null,
   "input_path": "template-2-fix-simulated-files.ipynb",
   "output_path": "2-fix-simulated-files.simulation-cov-10.ipynb",
   "parameters": {
    "iterations": 3,
    "mincov": 10,
    "read_coverage": 10,
    "simulation_dir": "simulations/cov-10",
    "sub_alpha": 0.2
   },
   "start_time": "2022-09-29T19:14:25.556050",
   "version": "2.3.4"
  }
 },
 "nbformat": 4,
 "nbformat_minor": 5
}