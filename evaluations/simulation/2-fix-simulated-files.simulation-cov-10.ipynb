{
 "cells": [
  {
   "cell_type": "markdown",
   "id": "acfa5482-d626-44d6-b613-863e6911fa98",
   "metadata": {
    "papermill": {
     "duration": 0.00756,
     "end_time": "2022-10-18T22:47:48.623037",
     "exception": false,
     "start_time": "2022-10-18T22:47:48.615477",
     "status": "completed"
    },
    "tags": []
   },
   "source": [
    "# 1. Parameters"
   ]
  },
  {
   "cell_type": "code",
   "execution_count": 1,
   "id": "36126d74-a9d8-4431-ba49-767c1fc2ec49",
   "metadata": {
    "execution": {
     "iopub.execute_input": "2022-10-18T22:47:48.635536Z",
     "iopub.status.busy": "2022-10-18T22:47:48.634811Z",
     "iopub.status.idle": "2022-10-18T22:47:48.650607Z",
     "shell.execute_reply": "2022-10-18T22:47:48.649513Z"
    },
    "papermill": {
     "duration": 0.025315,
     "end_time": "2022-10-18T22:47:48.653662",
     "exception": false,
     "start_time": "2022-10-18T22:47:48.628347",
     "status": "completed"
    },
    "tags": [
     "parameters"
    ]
   },
   "outputs": [],
   "source": [
    "# Defaults\n",
    "simulation_dir = 'simulations/unset'\n",
    "ncores = 48"
   ]
  },
  {
   "cell_type": "code",
   "execution_count": 2,
   "id": "143606ab",
   "metadata": {
    "execution": {
     "iopub.execute_input": "2022-10-18T22:47:48.667102Z",
     "iopub.status.busy": "2022-10-18T22:47:48.666506Z",
     "iopub.status.idle": "2022-10-18T22:47:48.673061Z",
     "shell.execute_reply": "2022-10-18T22:47:48.671847Z"
    },
    "papermill": {
     "duration": 0.017135,
     "end_time": "2022-10-18T22:47:48.676351",
     "exception": false,
     "start_time": "2022-10-18T22:47:48.659216",
     "status": "completed"
    },
    "tags": [
     "injected-parameters"
    ]
   },
   "outputs": [],
   "source": [
    "# Parameters\n",
    "read_coverage = 10\n",
    "mincov = 10\n",
    "simulation_dir = \"simulations/cov-10\"\n",
    "iterations = 1\n",
    "sub_alpha = 0.2\n"
   ]
  },
  {
   "cell_type": "code",
   "execution_count": 3,
   "id": "15e911d7-0ffc-4110-aefe-71bc77e689cd",
   "metadata": {
    "execution": {
     "iopub.execute_input": "2022-10-18T22:47:48.689298Z",
     "iopub.status.busy": "2022-10-18T22:47:48.688642Z",
     "iopub.status.idle": "2022-10-18T22:47:48.698506Z",
     "shell.execute_reply": "2022-10-18T22:47:48.697047Z"
    },
    "papermill": {
     "duration": 0.01965,
     "end_time": "2022-10-18T22:47:48.702107",
     "exception": false,
     "start_time": "2022-10-18T22:47:48.682457",
     "status": "completed"
    },
    "tags": []
   },
   "outputs": [],
   "source": [
    "from pathlib import Path\n",
    "import os\n",
    "\n",
    "simulation_data_dir = Path(simulation_dir) / 'simulated_data'\n",
    "initial_reads_dir = simulation_data_dir / 'reads_initial'\n",
    "reads_dir = simulation_data_dir / 'reads'\n",
    "assemblies_dir = simulation_data_dir / 'assemblies'\n",
    "assembled_reads_dir = simulation_data_dir / 'assembled_reads'\n",
    "\n",
    "if not reads_dir.exists():\n",
    "    os.mkdir(reads_dir)\n",
    "    \n",
    "if not assembled_reads_dir.exists():\n",
    "    os.mkdir(assembled_reads_dir)"
   ]
  },
  {
   "cell_type": "markdown",
   "id": "rotary-regard",
   "metadata": {
    "papermill": {
     "duration": 0.004658,
     "end_time": "2022-10-18T22:47:48.712192",
     "exception": false,
     "start_time": "2022-10-18T22:47:48.707534",
     "status": "completed"
    },
    "tags": []
   },
   "source": [
    "# 2. Fix reads\n",
    "\n",
    "Fix read file names and data so they can be indexed."
   ]
  },
  {
   "cell_type": "code",
   "execution_count": 4,
   "id": "convenient-blackberry",
   "metadata": {
    "execution": {
     "iopub.execute_input": "2022-10-18T22:47:48.721865Z",
     "iopub.status.busy": "2022-10-18T22:47:48.721274Z",
     "iopub.status.idle": "2022-10-18T22:47:48.902276Z",
     "shell.execute_reply": "2022-10-18T22:47:48.900701Z"
    },
    "papermill": {
     "duration": 0.189473,
     "end_time": "2022-10-18T22:47:48.905958",
     "exception": false,
     "start_time": "2022-10-18T22:47:48.716485",
     "status": "completed"
    },
    "tags": []
   },
   "outputs": [
    {
     "name": "stdout",
     "output_type": "stream",
     "text": [
      "~/workspace/genomics-data-index-evaluation-manuscript/evaluations/simulation/simulations/cov-10/simulated_data/reads_initial ~/workspace/genomics-data-index-evaluation-manuscript/evaluations/simulation\r\n"
     ]
    },
    {
     "name": "stdout",
     "output_type": "stream",
     "text": [
      "~/workspace/genomics-data-index-evaluation-manuscript/evaluations/simulation\r\n"
     ]
    }
   ],
   "source": [
    "import os\n",
    "\n",
    "# Fix warning about locale unset\n",
    "os.environ['LANG'] = 'en_US.UTF-8'\n",
    "\n",
    "!pushd {initial_reads_dir}; prename 's/data_//' *.fq.gz; popd"
   ]
  },
  {
   "cell_type": "markdown",
   "id": "median-belle",
   "metadata": {
    "papermill": {
     "duration": 0.005195,
     "end_time": "2022-10-18T22:47:48.917355",
     "exception": false,
     "start_time": "2022-10-18T22:47:48.912160",
     "status": "completed"
    },
    "tags": []
   },
   "source": [
    "Jackalope produces reads with non-standard identifiers where pairs of reads don't have matching identifiers. For example:\n",
    "\n",
    "* Pair 1: `@SH08-001-NC_011083-3048632-R/1`\n",
    "* Pair 2: `@SH08-001-NC_011083-3048396-F/2`\n",
    "\n",
    "In order to run snippy, these paired identifiers need to match (except for the `/1` and `/2` suffix).\n",
    "\n",
    "So, I have to replace them all with something unique, but which matches in each pair of files. I do this by replacing the position (I think) with the read number (as it appears in the file). So the above identifiers become:\n",
    "\n",
    "* Pair 1: `@SH08-001-NC_011083-1/1`\n",
    "* Pair 2: `@SH08-001-NC_011083-1/2`"
   ]
  },
  {
   "cell_type": "code",
   "execution_count": 5,
   "id": "remarkable-berry",
   "metadata": {
    "execution": {
     "iopub.execute_input": "2022-10-18T22:47:48.927689Z",
     "iopub.status.busy": "2022-10-18T22:47:48.926989Z",
     "iopub.status.idle": "2022-10-18T22:47:49.931629Z",
     "shell.execute_reply": "2022-10-18T22:47:49.929441Z"
    },
    "papermill": {
     "duration": 1.01458,
     "end_time": "2022-10-18T22:47:49.935813",
     "exception": false,
     "start_time": "2022-10-18T22:47:48.921233",
     "status": "completed"
    },
    "tags": []
   },
   "outputs": [],
   "source": [
    "import glob\n",
    "import os\n",
    "\n",
    "files = [os.path.basename(f) for f in glob.glob(f'{initial_reads_dir}/*.fq.gz')]\n",
    "!parallel -j {ncores} -I% 'gzip -d --stdout {initial_reads_dir}/% | perl scripts/replace-fastq-header.pl | gzip > {reads_dir}/%' \\\n",
    "    ::: {' '.join(files)}"
   ]
  },
  {
   "cell_type": "code",
   "execution_count": 6,
   "id": "8318e7a8-1057-4e4f-aaec-fccdec42a75f",
   "metadata": {
    "execution": {
     "iopub.execute_input": "2022-10-18T22:47:49.950182Z",
     "iopub.status.busy": "2022-10-18T22:47:49.949597Z",
     "iopub.status.idle": "2022-10-18T22:47:49.964956Z",
     "shell.execute_reply": "2022-10-18T22:47:49.963846Z"
    },
    "papermill": {
     "duration": 0.025602,
     "end_time": "2022-10-18T22:47:49.968518",
     "exception": false,
     "start_time": "2022-10-18T22:47:49.942916",
     "status": "completed"
    },
    "tags": []
   },
   "outputs": [],
   "source": [
    "import shutil\n",
    "\n",
    "shutil.rmtree(initial_reads_dir)"
   ]
  },
  {
   "cell_type": "markdown",
   "id": "cf630b4f-ed63-4e14-9657-e0aaea0953ab",
   "metadata": {
    "papermill": {
     "duration": 0.005174,
     "end_time": "2022-10-18T22:47:49.979971",
     "exception": false,
     "start_time": "2022-10-18T22:47:49.974797",
     "status": "completed"
    },
    "tags": []
   },
   "source": [
    "# 3. Fix assemblies\n",
    "\n",
    "Fix assembly genome names"
   ]
  },
  {
   "cell_type": "code",
   "execution_count": 7,
   "id": "08fac610-3ab3-4afa-9873-406973041963",
   "metadata": {
    "execution": {
     "iopub.execute_input": "2022-10-18T22:47:49.990874Z",
     "iopub.status.busy": "2022-10-18T22:47:49.990346Z",
     "iopub.status.idle": "2022-10-18T22:47:50.171318Z",
     "shell.execute_reply": "2022-10-18T22:47:50.169545Z"
    },
    "papermill": {
     "duration": 0.189948,
     "end_time": "2022-10-18T22:47:50.175077",
     "exception": false,
     "start_time": "2022-10-18T22:47:49.985129",
     "status": "completed"
    },
    "tags": []
   },
   "outputs": [
    {
     "name": "stdout",
     "output_type": "stream",
     "text": [
      "~/workspace/genomics-data-index-evaluation-manuscript/evaluations/simulation/simulations/cov-10/simulated_data/assemblies ~/workspace/genomics-data-index-evaluation-manuscript/evaluations/simulation\r\n"
     ]
    },
    {
     "name": "stdout",
     "output_type": "stream",
     "text": [
      "~/workspace/genomics-data-index-evaluation-manuscript/evaluations/simulation\r\n"
     ]
    }
   ],
   "source": [
    "!pushd {assemblies_dir}; prename 's/data__//' *.fa.gz; popd"
   ]
  },
  {
   "cell_type": "markdown",
   "id": "a0856fbc-ba98-4ba1-870b-6923cd636892",
   "metadata": {
    "papermill": {
     "duration": 0.006198,
     "end_time": "2022-10-18T22:47:50.187959",
     "exception": false,
     "start_time": "2022-10-18T22:47:50.181761",
     "status": "completed"
    },
    "tags": []
   },
   "source": [
    "# 4. Assemble reads\n",
    "\n",
    "Assemble reads to have another scenario of imperfect assemblies."
   ]
  },
  {
   "cell_type": "code",
   "execution_count": 8,
   "id": "c1a1b18f-ecd1-4ca3-af9f-ef44648edbd3",
   "metadata": {
    "execution": {
     "iopub.execute_input": "2022-10-18T22:47:50.217020Z",
     "iopub.status.busy": "2022-10-18T22:47:50.216479Z",
     "iopub.status.idle": "2022-10-18T22:47:51.524069Z",
     "shell.execute_reply": "2022-10-18T22:47:51.522015Z"
    },
    "papermill": {
     "duration": 1.320168,
     "end_time": "2022-10-18T22:47:51.528141",
     "exception": false,
     "start_time": "2022-10-18T22:47:50.207973",
     "status": "completed"
    },
    "tags": []
   },
   "outputs": [
    {
     "name": "stdout",
     "output_type": "stream",
     "text": [
      "SKESA 2.4.0\r\n",
      "\r\n",
      "skesa --version \r\n",
      "\r\n",
      "\r\n"
     ]
    }
   ],
   "source": [
    "!conda run -n skesa skesa --version"
   ]
  },
  {
   "cell_type": "code",
   "execution_count": 9,
   "id": "419476b6-ecce-477b-a838-d2419d1d160e",
   "metadata": {
    "execution": {
     "iopub.execute_input": "2022-10-18T22:47:51.545070Z",
     "iopub.status.busy": "2022-10-18T22:47:51.544290Z",
     "iopub.status.idle": "2022-10-18T22:47:59.150711Z",
     "shell.execute_reply": "2022-10-18T22:47:59.148488Z"
    },
    "papermill": {
     "duration": 7.619151,
     "end_time": "2022-10-18T22:47:59.155010",
     "exception": false,
     "start_time": "2022-10-18T22:47:51.535859",
     "status": "completed"
    },
    "tags": []
   },
   "outputs": [],
   "source": [
    "import glob\n",
    "import re\n",
    "\n",
    "fastq_names = [os.path.basename(f) for f in glob.glob(f'{reads_dir}/*_R1.fq.gz')]\n",
    "sample_names = [re.sub(r'_R\\d.fq.gz', '', f) for f in fastq_names]\n",
    "!parallel -j {ncores} -I% 'conda run -n skesa skesa --reads {reads_dir}/%_R1.fq.gz,{reads_dir}/%_R2.fq.gz --contigs_out {assembled_reads_dir}/%.fasta > {assembled_reads_dir}/log.% 2>&1' \\\n",
    "    ::: {' '.join(sample_names)}"
   ]
  }
 ],
 "metadata": {
  "kernelspec": {
   "display_name": "Python 3 (ipykernel)",
   "language": "python",
   "name": "python3"
  },
  "language_info": {
   "codemirror_mode": {
    "name": "ipython",
    "version": 3
   },
   "file_extension": ".py",
   "mimetype": "text/x-python",
   "name": "python",
   "nbconvert_exporter": "python",
   "pygments_lexer": "ipython3",
   "version": "3.8.13"
  },
  "papermill": {
   "default_parameters": {},
   "duration": 12.16735,
   "end_time": "2022-10-18T22:47:59.394827",
   "environment_variables": {},
   "exception": null,
   "input_path": "template-2-fix-simulated-files.ipynb",
   "output_path": "2-fix-simulated-files.simulation-cov-10.ipynb",
   "parameters": {
    "iterations": 1,
    "mincov": 10,
    "read_coverage": 10,
    "simulation_dir": "simulations/cov-10",
    "sub_alpha": 0.2
   },
   "start_time": "2022-10-18T22:47:47.227477",
   "version": "2.3.4"
  }
 },
 "nbformat": 4,
 "nbformat_minor": 5
}