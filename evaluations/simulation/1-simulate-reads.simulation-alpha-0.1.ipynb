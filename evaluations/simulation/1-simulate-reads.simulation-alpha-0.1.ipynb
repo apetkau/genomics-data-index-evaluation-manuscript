{
 "cells": [
  {
   "cell_type": "markdown",
   "id": "39afc998-7d9f-4d4e-9147-fb6198f83f2d",
   "metadata": {
    "papermill": {
     "duration": 0.006998,
     "end_time": "2022-09-29T18:38:28.284517",
     "exception": false,
     "start_time": "2022-09-29T18:38:28.277519",
     "status": "completed"
    },
    "tags": []
   },
   "source": [
    "# 1. Parameters"
   ]
  },
  {
   "cell_type": "code",
   "execution_count": 1,
   "id": "8eee723b-55a2-4355-b867-c5e682a9f800",
   "metadata": {
    "execution": {
     "iopub.execute_input": "2022-09-29T18:38:28.337241Z",
     "iopub.status.busy": "2022-09-29T18:38:28.334595Z",
     "iopub.status.idle": "2022-09-29T18:38:28.392161Z",
     "shell.execute_reply": "2022-09-29T18:38:28.390505Z"
    },
    "papermill": {
     "duration": 0.106213,
     "end_time": "2022-09-29T18:38:28.395728",
     "exception": false,
     "start_time": "2022-09-29T18:38:28.289515",
     "status": "completed"
    },
    "tags": [
     "parameters"
    ]
   },
   "outputs": [],
   "source": [
    "# Defaults\n",
    "\n",
    "## Random seed\n",
    "random_seed <- 25524\n",
    "\n",
    "## Directories\n",
    "simulation_dir <- \"simulations/unset\"\n",
    "reference_file <- \"simulations/reference/reference.fa.gz\"\n",
    "initial_tree_file <- \"input/salmonella.tre\"\n",
    "\n",
    "## Simulation parameters\n",
    "sub_lambda <- 1e-2\n",
    "sub_pi_tcag <- c(0.1, 0.2, 0.3, 0.4)\n",
    "sub_alpha <- 0.2\n",
    "sub_beta <- sub_alpha/2\n",
    "sub_mu <- 1\n",
    "sub_invariant <- 0.3\n",
    "ins_rate <- 1e-4\n",
    "ins_max_length <- 60\n",
    "ins_a <- 1.6\n",
    "del_rate <- 1e-4\n",
    "del_max_length <- 60\n",
    "del_a <- 1.6\n",
    "\n",
    "## Read simulation information\n",
    "read_coverage <- 30\n",
    "read_length <- 250\n",
    "\n",
    "## Other\n",
    "ncores <- 48"
   ]
  },
  {
   "cell_type": "code",
   "execution_count": 2,
   "id": "c482b130",
   "metadata": {
    "execution": {
     "iopub.execute_input": "2022-09-29T18:38:28.442998Z",
     "iopub.status.busy": "2022-09-29T18:38:28.408328Z",
     "iopub.status.idle": "2022-09-29T18:38:28.459123Z",
     "shell.execute_reply": "2022-09-29T18:38:28.457820Z"
    },
    "papermill": {
     "duration": 0.060857,
     "end_time": "2022-09-29T18:38:28.462218",
     "exception": false,
     "start_time": "2022-09-29T18:38:28.401361",
     "status": "completed"
    },
    "tags": [
     "injected-parameters"
    ]
   },
   "outputs": [],
   "source": [
    "# Parameters\n",
    "read_coverage = 30\n",
    "mincov = 10\n",
    "simulation_dir = \"simulations/alpha-0.1-cov-30\"\n",
    "iterations = 3\n",
    "sub_alpha = 0.1\n"
   ]
  },
  {
   "cell_type": "code",
   "execution_count": 3,
   "id": "845350c4-9369-4350-bcce-504d05f5ff55",
   "metadata": {
    "execution": {
     "iopub.execute_input": "2022-09-29T18:38:28.475177Z",
     "iopub.status.busy": "2022-09-29T18:38:28.473939Z",
     "iopub.status.idle": "2022-09-29T18:38:28.494568Z",
     "shell.execute_reply": "2022-09-29T18:38:28.493321Z"
    },
    "papermill": {
     "duration": 0.029501,
     "end_time": "2022-09-29T18:38:28.497349",
     "exception": false,
     "start_time": "2022-09-29T18:38:28.467848",
     "status": "completed"
    },
    "tags": []
   },
   "outputs": [
    {
     "name": "stdout",
     "output_type": "stream",
     "text": [
      "[1] \"simulations/alpha-0.1-cov-30/simulated_data\"\n"
     ]
    },
    {
     "name": "stdout",
     "output_type": "stream",
     "text": [
      "[1] \"simulations/alpha-0.1-cov-30/simulated_data/haplotypes\"\n"
     ]
    }
   ],
   "source": [
    "output_dir <- file.path(simulation_dir, \"simulated_data\")\n",
    "output_vcf_prefix <- file.path(output_dir, \"haplotypes\")\n",
    "reads_data_initial_prefix <- file.path(output_dir, \"reads_initial\", \"data\")\n",
    "set.seed(random_seed)\n",
    "print(output_dir)\n",
    "print(output_vcf_prefix)"
   ]
  },
  {
   "cell_type": "markdown",
   "id": "noticed-coating",
   "metadata": {
    "papermill": {
     "duration": 0.003979,
     "end_time": "2022-09-29T18:38:28.506139",
     "exception": false,
     "start_time": "2022-09-29T18:38:28.502160",
     "status": "completed"
    },
    "tags": []
   },
   "source": [
    "# 2. Generate simulated data\n",
    "\n",
    "This simulates *Salmonella* data using a reference genome and a tree."
   ]
  },
  {
   "cell_type": "code",
   "execution_count": 4,
   "id": "bright-polymer",
   "metadata": {
    "execution": {
     "iopub.execute_input": "2022-09-29T18:38:28.515541Z",
     "iopub.status.busy": "2022-09-29T18:38:28.514311Z",
     "iopub.status.idle": "2022-09-29T18:38:28.611809Z",
     "shell.execute_reply": "2022-09-29T18:38:28.610481Z"
    },
    "papermill": {
     "duration": 0.105294,
     "end_time": "2022-09-29T18:38:28.615512",
     "exception": false,
     "start_time": "2022-09-29T18:38:28.510218",
     "status": "completed"
    },
    "tags": []
   },
   "outputs": [
    {
     "data": {
      "text/html": [
       "TRUE"
      ],
      "text/latex": [
       "TRUE"
      ],
      "text/markdown": [
       "TRUE"
      ],
      "text/plain": [
       "[1] TRUE"
      ]
     },
     "metadata": {},
     "output_type": "display_data"
    }
   ],
   "source": [
    "library(jackalope)\n",
    "\n",
    "# Make sure we've complied with openmp\n",
    "jackalope:::using_openmp()"
   ]
  },
  {
   "cell_type": "code",
   "execution_count": 5,
   "id": "303635b1-41dc-4917-8e90-30832a9acafd",
   "metadata": {
    "execution": {
     "iopub.execute_input": "2022-09-29T18:38:28.628422Z",
     "iopub.status.busy": "2022-09-29T18:38:28.627045Z",
     "iopub.status.idle": "2022-09-29T18:38:28.650761Z",
     "shell.execute_reply": "2022-09-29T18:38:28.649246Z"
    },
    "papermill": {
     "duration": 0.031725,
     "end_time": "2022-09-29T18:38:28.653533",
     "exception": false,
     "start_time": "2022-09-29T18:38:28.621808",
     "status": "completed"
    },
    "tags": []
   },
   "outputs": [
    {
     "data": {
      "text/plain": [
       "< Set of 2 chromosomes >\n",
       "# Total size: 19,699 bp\n",
       "  name                             chromosome                             length\n",
       "chrom0     GTATTGCGAGGGTGGGGGAGTACGGCAG...CAAGAATGCAACCGACTCTGTCGGGACT     10834\n",
       "chrom1     CACCTCGAGCAGATCCTAGTTTGCGCGA...TGCGAATTTATCGCCTAATCCAATGTTA      8865"
      ]
     },
     "metadata": {},
     "output_type": "display_data"
    }
   ],
   "source": [
    "reference <- read_fasta(reference_file)\n",
    "reference_len <- sum(reference$sizes())\n",
    "reference"
   ]
  },
  {
   "cell_type": "code",
   "execution_count": 6,
   "id": "documented-helmet",
   "metadata": {
    "execution": {
     "iopub.execute_input": "2022-09-29T18:38:28.667108Z",
     "iopub.status.busy": "2022-09-29T18:38:28.665892Z",
     "iopub.status.idle": "2022-09-29T18:38:28.772448Z",
     "shell.execute_reply": "2022-09-29T18:38:28.770967Z"
    },
    "papermill": {
     "duration": 0.115593,
     "end_time": "2022-09-29T18:38:28.775511",
     "exception": false,
     "start_time": "2022-09-29T18:38:28.659918",
     "status": "completed"
    },
    "tags": []
   },
   "outputs": [
    {
     "data": {
      "text/plain": [
       "\n",
       "Phylogenetic tree with 60 tips and 59 internal nodes.\n",
       "\n",
       "Tip labels:\n",
       "  reference, SH12-013, SH12-014, SH10-015, SH10-014, SH11-002, ...\n",
       "Node labels:\n",
       "  Root, 1.000000, 0.000000, 0.000000, 1.000000, 0.000000, ...\n",
       "\n",
       "Rooted; includes branch lengths."
      ]
     },
     "metadata": {},
     "output_type": "display_data"
    }
   ],
   "source": [
    "library(ape)\n",
    "\n",
    "tree <- read.tree(initial_tree_file)\n",
    "tree <- root(tree, \"reference\", resolve.root=TRUE)\n",
    "tree"
   ]
  },
  {
   "cell_type": "code",
   "execution_count": 7,
   "id": "proved-silver",
   "metadata": {
    "execution": {
     "iopub.execute_input": "2022-09-29T18:38:28.789885Z",
     "iopub.status.busy": "2022-09-29T18:38:28.788535Z",
     "iopub.status.idle": "2022-09-29T18:38:28.918445Z",
     "shell.execute_reply": "2022-09-29T18:38:28.917134Z"
    },
    "papermill": {
     "duration": 0.139592,
     "end_time": "2022-09-29T18:38:28.921876",
     "exception": false,
     "start_time": "2022-09-29T18:38:28.782284",
     "status": "completed"
    },
    "tags": []
   },
   "outputs": [
    {
     "data": {
      "text/plain": [
       "                              << haplotypes object >>\n",
       "# Haplotypes: 60\n",
       "# Mutations: 12,841\n",
       "\n",
       "                          << Reference genome info: >>\n",
       "< Set of 2 chromosomes >\n",
       "# Total size: 19,699 bp\n",
       "  name                             chromosome                             length\n",
       "chrom0     GTATTGCGAGGGTGGGGGAGTACGGCAG...CAAGAATGCAACCGACTCTGTCGGGACT     10834\n",
       "chrom1     CACCTCGAGCAGATCCTAGTTTGCGCGA...TGCGAATTTATCGCCTAATCCAATGTTA      8865"
      ]
     },
     "metadata": {},
     "output_type": "display_data"
    }
   ],
   "source": [
    "sub <- sub_HKY85(pi_tcag = sub_pi_tcag, mu = sub_mu,\n",
    "                 alpha = sub_alpha, beta = sub_beta, gamma_shape=1, gamma_k = 5,\n",
    "                 invariant = sub_invariant)\n",
    "ins <- indels(rate = ins_rate, max_length = ins_max_length, a = ins_a)\n",
    "del <- indels(rate = del_rate, max_length = del_max_length, a = del_a)\n",
    "\n",
    "ref_haplotypes <- create_haplotypes(reference, haps_phylo(tree), sub=sub, ins=ins, del=del)\n",
    "ref_haplotypes"
   ]
  },
  {
   "cell_type": "markdown",
   "id": "535fa02d-c76c-4067-9582-74f3694d16ea",
   "metadata": {
    "papermill": {
     "duration": 0.00608,
     "end_time": "2022-09-29T18:38:28.935005",
     "exception": false,
     "start_time": "2022-09-29T18:38:28.928925",
     "status": "completed"
    },
    "tags": []
   },
   "source": [
    "# 3. Write simulated data"
   ]
  },
  {
   "cell_type": "code",
   "execution_count": 8,
   "id": "smoking-geology",
   "metadata": {
    "execution": {
     "iopub.execute_input": "2022-09-29T18:38:28.951855Z",
     "iopub.status.busy": "2022-09-29T18:38:28.950077Z",
     "iopub.status.idle": "2022-09-29T18:38:28.980680Z",
     "shell.execute_reply": "2022-09-29T18:38:28.979503Z"
    },
    "papermill": {
     "duration": 0.043702,
     "end_time": "2022-09-29T18:38:28.983040",
     "exception": false,
     "start_time": "2022-09-29T18:38:28.939338",
     "status": "completed"
    },
    "tags": []
   },
   "outputs": [],
   "source": [
    "write_vcf(ref_haplotypes, out_prefix=output_vcf_prefix, compress=TRUE)"
   ]
  },
  {
   "cell_type": "code",
   "execution_count": 9,
   "id": "d2657fc5-481e-4b24-bbf8-78c02ee735ce",
   "metadata": {
    "execution": {
     "iopub.execute_input": "2022-09-29T18:38:28.998275Z",
     "iopub.status.busy": "2022-09-29T18:38:28.997052Z",
     "iopub.status.idle": "2022-09-29T18:38:29.097813Z",
     "shell.execute_reply": "2022-09-29T18:38:29.093804Z"
    },
    "papermill": {
     "duration": 0.112002,
     "end_time": "2022-09-29T18:38:29.101755",
     "exception": false,
     "start_time": "2022-09-29T18:38:28.989753",
     "status": "completed"
    },
    "tags": []
   },
   "outputs": [],
   "source": [
    "assemblies_prefix = file.path(output_dir, \"assemblies\", \"data\")\n",
    "\n",
    "write_fasta(ref_haplotypes, out_prefix=assemblies_prefix,\n",
    "            compress=TRUE, n_threads=ncores, overwrite=TRUE)"
   ]
  },
  {
   "cell_type": "code",
   "execution_count": 10,
   "id": "continent-freeze",
   "metadata": {
    "execution": {
     "iopub.execute_input": "2022-09-29T18:38:29.113118Z",
     "iopub.status.busy": "2022-09-29T18:38:29.110966Z",
     "iopub.status.idle": "2022-09-29T18:43:47.031703Z",
     "shell.execute_reply": "2022-09-29T18:43:47.027698Z"
    },
    "papermill": {
     "duration": 317.929159,
     "end_time": "2022-09-29T18:43:47.034836",
     "exception": false,
     "start_time": "2022-09-29T18:38:29.105677",
     "status": "completed"
    },
    "tags": []
   },
   "outputs": [
    {
     "name": "stdout",
     "output_type": "stream",
     "text": [
      "[1] \"Number of reads for coverage 30X and read length 250 over 60 samples with respect to reference with length 19699: 141833\"\n"
     ]
    }
   ],
   "source": [
    "n_samples <- length(tree$tip)\n",
    "n_reads <- round((reference_len * read_coverage * n_samples) / read_length)\n",
    "print(sprintf(\"Number of reads for coverage %sX and read length %s over %s samples with respect to reference with length %s: %s\", \n",
    "              read_coverage, read_length, n_samples, reference_len, n_reads))\n",
    "\n",
    "illumina(ref_haplotypes, out_prefix = reads_data_initial_prefix, sep_files=TRUE, n_reads = n_reads,\n",
    "         frag_mean = read_length * 2 + 50, frag_sd = 100,\n",
    "         compress=TRUE, comp_method=\"bgzip\", n_threads=ncores,\n",
    "         paired=TRUE, read_length = read_length)"
   ]
  }
 ],
 "metadata": {
  "kernelspec": {
   "display_name": "R",
   "language": "R",
   "name": "ir"
  },
  "language_info": {
   "codemirror_mode": "r",
   "file_extension": ".r",
   "mimetype": "text/x-r-source",
   "name": "R",
   "pygments_lexer": "r",
   "version": "4.1.3"
  },
  "papermill": {
   "default_parameters": {},
   "duration": 320.502855,
   "end_time": "2022-09-29T18:43:47.592318",
   "environment_variables": {},
   "exception": null,
   "input_path": "template-1-simulate-reads.ipynb",
   "output_path": "1-simulate-reads.simulation-alpha-0.1.ipynb",
   "parameters": {
    "iterations": 3,
    "mincov": 10,
    "read_coverage": 30,
    "simulation_dir": "simulations/alpha-0.1-cov-30",
    "sub_alpha": 0.1
   },
   "start_time": "2022-09-29T18:38:27.089463",
   "version": "2.3.4"
  }
 },
 "nbformat": 4,
 "nbformat_minor": 5
}