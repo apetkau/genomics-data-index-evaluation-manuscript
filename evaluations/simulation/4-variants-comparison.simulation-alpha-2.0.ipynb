{
 "cells": [
  {
   "cell_type": "markdown",
   "id": "2f66aa00-6c01-46a5-8f31-0e579da614b2",
   "metadata": {
    "papermill": {
     "duration": 0.011252,
     "end_time": "2022-10-19T01:58:33.072037",
     "exception": false,
     "start_time": "2022-10-19T01:58:33.060785",
     "status": "completed"
    },
    "tags": []
   },
   "source": [
    "# 1. Parameters"
   ]
  },
  {
   "cell_type": "code",
   "execution_count": 1,
   "id": "f2cfe9b4-3c45-4e2e-9ba2-17f4119f5f6d",
   "metadata": {
    "execution": {
     "iopub.execute_input": "2022-10-19T01:58:33.087551Z",
     "iopub.status.busy": "2022-10-19T01:58:33.086904Z",
     "iopub.status.idle": "2022-10-19T01:58:33.102271Z",
     "shell.execute_reply": "2022-10-19T01:58:33.101176Z"
    },
    "papermill": {
     "duration": 0.026828,
     "end_time": "2022-10-19T01:58:33.106067",
     "exception": false,
     "start_time": "2022-10-19T01:58:33.079239",
     "status": "completed"
    },
    "tags": [
     "parameters"
    ]
   },
   "outputs": [],
   "source": [
    "# Defaults\n",
    "\n",
    "simulation_dir = 'simulations/unset'\n",
    "reference_file = 'simulations/reference/reference.fa.gz'"
   ]
  },
  {
   "cell_type": "code",
   "execution_count": 2,
   "id": "4f256648",
   "metadata": {
    "execution": {
     "iopub.execute_input": "2022-10-19T01:58:33.123402Z",
     "iopub.status.busy": "2022-10-19T01:58:33.122775Z",
     "iopub.status.idle": "2022-10-19T01:58:33.129488Z",
     "shell.execute_reply": "2022-10-19T01:58:33.128231Z"
    },
    "papermill": {
     "duration": 0.017928,
     "end_time": "2022-10-19T01:58:33.133137",
     "exception": false,
     "start_time": "2022-10-19T01:58:33.115209",
     "status": "completed"
    },
    "tags": [
     "injected-parameters"
    ]
   },
   "outputs": [],
   "source": [
    "# Parameters\n",
    "read_coverage = 30\n",
    "mincov = 10\n",
    "simulation_dir = \"simulations/alpha-2.0-cov-30\"\n",
    "iterations = 1\n",
    "sub_alpha = 2.0\n"
   ]
  },
  {
   "cell_type": "code",
   "execution_count": 3,
   "id": "9ddaa924-b1ac-4740-8070-0eaa05b80e96",
   "metadata": {
    "execution": {
     "iopub.execute_input": "2022-10-19T01:58:33.149551Z",
     "iopub.status.busy": "2022-10-19T01:58:33.149039Z",
     "iopub.status.idle": "2022-10-19T01:58:33.157948Z",
     "shell.execute_reply": "2022-10-19T01:58:33.156529Z"
    },
    "papermill": {
     "duration": 0.019849,
     "end_time": "2022-10-19T01:58:33.160672",
     "exception": false,
     "start_time": "2022-10-19T01:58:33.140823",
     "status": "completed"
    },
    "tags": []
   },
   "outputs": [],
   "source": [
    "from pathlib import Path\n",
    "\n",
    "simulation_dir_path = Path(simulation_dir)\n",
    "\n",
    "case_name = str(simulation_dir_path.name)\n",
    "\n",
    "simulation_data_path = simulation_dir_path / 'simulated_data'\n",
    "simulated_variants_file = simulation_data_path / 'haplotypes.vcf.gz'\n",
    "\n",
    "case_name = str(simulation_dir_path.name)\n",
    "index_reads_path = simulation_dir_path / 'index-reads'\n",
    "index_assemblies_path = simulation_dir_path / 'index-assemblies'\n",
    "index_assemblies_reads_path = simulation_dir_path / 'index-assemblies-reads'"
   ]
  },
  {
   "cell_type": "markdown",
   "id": "2b6c7ffd-d5d7-447f-ba62-7ec7d1b0b583",
   "metadata": {
    "papermill": {
     "duration": 0.005039,
     "end_time": "2022-10-19T01:58:33.171644",
     "exception": false,
     "start_time": "2022-10-19T01:58:33.166605",
     "status": "completed"
    },
    "tags": []
   },
   "source": [
    "# 2. Load simulated variants (VCF)"
   ]
  },
  {
   "cell_type": "code",
   "execution_count": 4,
   "id": "e01f3458-fb5e-4fc1-b1f0-69b7a9c9d033",
   "metadata": {
    "execution": {
     "iopub.execute_input": "2022-10-19T01:58:33.182318Z",
     "iopub.status.busy": "2022-10-19T01:58:33.181666Z",
     "iopub.status.idle": "2022-10-19T01:58:35.195909Z",
     "shell.execute_reply": "2022-10-19T01:58:35.195164Z"
    },
    "papermill": {
     "duration": 2.023797,
     "end_time": "2022-10-19T01:58:35.200565",
     "exception": false,
     "start_time": "2022-10-19T01:58:33.176768",
     "status": "completed"
    },
    "tags": []
   },
   "outputs": [
    {
     "data": {
      "text/html": [
       "<div>\n",
       "<style scoped>\n",
       "    .dataframe tbody tr th:only-of-type {\n",
       "        vertical-align: middle;\n",
       "    }\n",
       "\n",
       "    .dataframe tbody tr th {\n",
       "        vertical-align: top;\n",
       "    }\n",
       "\n",
       "    .dataframe thead th {\n",
       "        text-align: right;\n",
       "    }\n",
       "</style>\n",
       "<table border=\"1\" class=\"dataframe\">\n",
       "  <thead>\n",
       "    <tr style=\"text-align: right;\">\n",
       "      <th></th>\n",
       "      <th>CHROM</th>\n",
       "      <th>POS</th>\n",
       "      <th>REF</th>\n",
       "      <th>samples</th>\n",
       "    </tr>\n",
       "  </thead>\n",
       "  <tbody>\n",
       "    <tr>\n",
       "      <th>0</th>\n",
       "      <td>chrom0</td>\n",
       "      <td>9</td>\n",
       "      <td>A</td>\n",
       "      <td>[Call(sample=reference, CallData(GT=0, GQ=4414...</td>\n",
       "    </tr>\n",
       "    <tr>\n",
       "      <th>1</th>\n",
       "      <td>chrom0</td>\n",
       "      <td>10</td>\n",
       "      <td>G</td>\n",
       "      <td>[Call(sample=reference, CallData(GT=0, GQ=4414...</td>\n",
       "    </tr>\n",
       "    <tr>\n",
       "      <th>2</th>\n",
       "      <td>chrom0</td>\n",
       "      <td>12</td>\n",
       "      <td>G</td>\n",
       "      <td>[Call(sample=reference, CallData(GT=0, GQ=4414...</td>\n",
       "    </tr>\n",
       "    <tr>\n",
       "      <th>3</th>\n",
       "      <td>chrom0</td>\n",
       "      <td>18</td>\n",
       "      <td>G</td>\n",
       "      <td>[Call(sample=reference, CallData(GT=0, GQ=4414...</td>\n",
       "    </tr>\n",
       "    <tr>\n",
       "      <th>4</th>\n",
       "      <td>chrom0</td>\n",
       "      <td>22</td>\n",
       "      <td>A</td>\n",
       "      <td>[Call(sample=reference, CallData(GT=0, GQ=4414...</td>\n",
       "    </tr>\n",
       "  </tbody>\n",
       "</table>\n",
       "</div>"
      ],
      "text/plain": [
       "    CHROM  POS REF                                            samples\n",
       "0  chrom0    9   A  [Call(sample=reference, CallData(GT=0, GQ=4414...\n",
       "1  chrom0   10   G  [Call(sample=reference, CallData(GT=0, GQ=4414...\n",
       "2  chrom0   12   G  [Call(sample=reference, CallData(GT=0, GQ=4414...\n",
       "3  chrom0   18   G  [Call(sample=reference, CallData(GT=0, GQ=4414...\n",
       "4  chrom0   22   A  [Call(sample=reference, CallData(GT=0, GQ=4414..."
      ]
     },
     "execution_count": 4,
     "metadata": {},
     "output_type": "execute_result"
    }
   ],
   "source": [
    "import vcf\n",
    "import pandas as pd\n",
    "import time\n",
    "\n",
    "reader = vcf.Reader(filename=str(simulated_variants_file))\n",
    "simulated_df = pd.DataFrame([vars(r) for r in reader])\n",
    "simulated_df = simulated_df[['CHROM', 'POS', 'REF', 'samples']]\n",
    "simulated_df.head(5)"
   ]
  },
  {
   "cell_type": "markdown",
   "id": "f1c95d8a-de3e-4bb4-b13f-0f88e6466925",
   "metadata": {
    "papermill": {
     "duration": 0.006209,
     "end_time": "2022-10-19T01:58:35.216219",
     "exception": false,
     "start_time": "2022-10-19T01:58:35.210010",
     "status": "completed"
    },
    "tags": []
   },
   "source": [
    "## 2.1. Construct sample:variant identifiers"
   ]
  },
  {
   "cell_type": "code",
   "execution_count": 5,
   "id": "bac0a5e7-a844-47bb-9204-3b4711d0c329",
   "metadata": {
    "execution": {
     "iopub.execute_input": "2022-10-19T01:58:35.228289Z",
     "iopub.status.busy": "2022-10-19T01:58:35.227413Z",
     "iopub.status.idle": "2022-10-19T01:58:36.866305Z",
     "shell.execute_reply": "2022-10-19T01:58:36.865177Z"
    },
    "papermill": {
     "duration": 1.647843,
     "end_time": "2022-10-19T01:58:36.869571",
     "exception": false,
     "start_time": "2022-10-19T01:58:35.221728",
     "status": "completed"
    },
    "tags": []
   },
   "outputs": [
    {
     "name": "stdout",
     "output_type": "stream",
     "text": [
      "There are 84916 expected sample/variant pairs like: ['SH12-014:chrom0:9:A:G', 'SH10-015:chrom0:9:A:C', 'SH10-014:chrom0:9:A:C']\n",
      "Took 0.0 minutes\n"
     ]
    }
   ],
   "source": [
    "before = time.time()\n",
    "\n",
    "# Explode dataframe so that we have one row per sample\n",
    "simulated_df_exploded = simulated_df.explode('samples')\n",
    "simulated_df_exploded['SAMPLE'] = simulated_df_exploded['samples'].apply(lambda x: x.sample)\n",
    "\n",
    "# Extrat ALT for each sample\n",
    "simulated_df_exploded['ALT'] = simulated_df_exploded['samples'].apply(lambda x: x.gt_bases)\n",
    "\n",
    "# Only keep mutations/those where REF and ALT are different\n",
    "simulated_df_exploded = simulated_df_exploded[simulated_df_exploded['REF'] != simulated_df_exploded['ALT']]\n",
    "\n",
    "# Create SPDI-like identifier with Sample name for comparison (SAMPLE:CHROM:POS:REF:ALT)\n",
    "simulated_df_exploded['ID'] = simulated_df_exploded.apply(\n",
    "    lambda x: f\"{x['SAMPLE']}:{x['CHROM']}:{x['POS']}:{x['REF']}:{x['ALT']}\", axis='columns')\n",
    "\n",
    "simulated_variants = simulated_df_exploded['ID'].reset_index(drop=True)\n",
    "expected_sample_variants = set(simulated_variants)\n",
    "\n",
    "after = time.time()\n",
    "\n",
    "print(f'There are {len(expected_sample_variants)} expected sample/variant pairs like: '\n",
    "      f'{list(simulated_variants[0:3])}')\n",
    "print(f'Took {(after - before)/60:0.1f} minutes')"
   ]
  },
  {
   "cell_type": "code",
   "execution_count": 6,
   "id": "e3f05c50-a98a-431f-b8c8-a5083738255c",
   "metadata": {
    "execution": {
     "iopub.execute_input": "2022-10-19T01:58:36.889998Z",
     "iopub.status.busy": "2022-10-19T01:58:36.889381Z",
     "iopub.status.idle": "2022-10-19T01:58:36.915948Z",
     "shell.execute_reply": "2022-10-19T01:58:36.915014Z"
    },
    "papermill": {
     "duration": 0.040257,
     "end_time": "2022-10-19T01:58:36.919819",
     "exception": false,
     "start_time": "2022-10-19T01:58:36.879562",
     "status": "completed"
    },
    "tags": []
   },
   "outputs": [
    {
     "data": {
      "text/html": [
       "<div>\n",
       "<style scoped>\n",
       "    .dataframe tbody tr th:only-of-type {\n",
       "        vertical-align: middle;\n",
       "    }\n",
       "\n",
       "    .dataframe tbody tr th {\n",
       "        vertical-align: top;\n",
       "    }\n",
       "\n",
       "    .dataframe thead th {\n",
       "        text-align: right;\n",
       "    }\n",
       "</style>\n",
       "<table border=\"1\" class=\"dataframe\">\n",
       "  <thead>\n",
       "    <tr style=\"text-align: right;\">\n",
       "      <th></th>\n",
       "      <th>CHROM</th>\n",
       "      <th>POS</th>\n",
       "      <th>REF</th>\n",
       "      <th>samples</th>\n",
       "      <th>SAMPLE</th>\n",
       "      <th>ALT</th>\n",
       "      <th>ID</th>\n",
       "    </tr>\n",
       "  </thead>\n",
       "  <tbody>\n",
       "    <tr>\n",
       "      <th>0</th>\n",
       "      <td>chrom0</td>\n",
       "      <td>9</td>\n",
       "      <td>A</td>\n",
       "      <td>Call(sample=SH12-014, CallData(GT=1, GQ=441453))</td>\n",
       "      <td>SH12-014</td>\n",
       "      <td>G</td>\n",
       "      <td>SH12-014:chrom0:9:A:G</td>\n",
       "    </tr>\n",
       "    <tr>\n",
       "      <th>0</th>\n",
       "      <td>chrom0</td>\n",
       "      <td>9</td>\n",
       "      <td>A</td>\n",
       "      <td>Call(sample=SH10-015, CallData(GT=2, GQ=441453))</td>\n",
       "      <td>SH10-015</td>\n",
       "      <td>C</td>\n",
       "      <td>SH10-015:chrom0:9:A:C</td>\n",
       "    </tr>\n",
       "    <tr>\n",
       "      <th>0</th>\n",
       "      <td>chrom0</td>\n",
       "      <td>9</td>\n",
       "      <td>A</td>\n",
       "      <td>Call(sample=SH10-014, CallData(GT=2, GQ=441453))</td>\n",
       "      <td>SH10-014</td>\n",
       "      <td>C</td>\n",
       "      <td>SH10-014:chrom0:9:A:C</td>\n",
       "    </tr>\n",
       "    <tr>\n",
       "      <th>0</th>\n",
       "      <td>chrom0</td>\n",
       "      <td>9</td>\n",
       "      <td>A</td>\n",
       "      <td>Call(sample=SH11-002, CallData(GT=2, GQ=441453))</td>\n",
       "      <td>SH11-002</td>\n",
       "      <td>C</td>\n",
       "      <td>SH11-002:chrom0:9:A:C</td>\n",
       "    </tr>\n",
       "    <tr>\n",
       "      <th>0</th>\n",
       "      <td>chrom0</td>\n",
       "      <td>9</td>\n",
       "      <td>A</td>\n",
       "      <td>Call(sample=SH13-006, CallData(GT=2, GQ=441453))</td>\n",
       "      <td>SH13-006</td>\n",
       "      <td>C</td>\n",
       "      <td>SH13-006:chrom0:9:A:C</td>\n",
       "    </tr>\n",
       "    <tr>\n",
       "      <th>...</th>\n",
       "      <td>...</td>\n",
       "      <td>...</td>\n",
       "      <td>...</td>\n",
       "      <td>...</td>\n",
       "      <td>...</td>\n",
       "      <td>...</td>\n",
       "      <td>...</td>\n",
       "    </tr>\n",
       "    <tr>\n",
       "      <th>5015</th>\n",
       "      <td>chrom1</td>\n",
       "      <td>8865</td>\n",
       "      <td>A</td>\n",
       "      <td>Call(sample=SH13-008, CallData(GT=1, GQ=441453))</td>\n",
       "      <td>SH13-008</td>\n",
       "      <td>G</td>\n",
       "      <td>SH13-008:chrom1:8865:A:G</td>\n",
       "    </tr>\n",
       "    <tr>\n",
       "      <th>5015</th>\n",
       "      <td>chrom1</td>\n",
       "      <td>8865</td>\n",
       "      <td>A</td>\n",
       "      <td>Call(sample=SH13-004, CallData(GT=1, GQ=441453))</td>\n",
       "      <td>SH13-004</td>\n",
       "      <td>G</td>\n",
       "      <td>SH13-004:chrom1:8865:A:G</td>\n",
       "    </tr>\n",
       "    <tr>\n",
       "      <th>5015</th>\n",
       "      <td>chrom1</td>\n",
       "      <td>8865</td>\n",
       "      <td>A</td>\n",
       "      <td>Call(sample=SH12-012, CallData(GT=1, GQ=441453))</td>\n",
       "      <td>SH12-012</td>\n",
       "      <td>G</td>\n",
       "      <td>SH12-012:chrom1:8865:A:G</td>\n",
       "    </tr>\n",
       "    <tr>\n",
       "      <th>5015</th>\n",
       "      <td>chrom1</td>\n",
       "      <td>8865</td>\n",
       "      <td>A</td>\n",
       "      <td>Call(sample=SH10-002, CallData(GT=1, GQ=441453))</td>\n",
       "      <td>SH10-002</td>\n",
       "      <td>G</td>\n",
       "      <td>SH10-002:chrom1:8865:A:G</td>\n",
       "    </tr>\n",
       "    <tr>\n",
       "      <th>5015</th>\n",
       "      <td>chrom1</td>\n",
       "      <td>8865</td>\n",
       "      <td>A</td>\n",
       "      <td>Call(sample=SH08-001, CallData(GT=1, GQ=441453))</td>\n",
       "      <td>SH08-001</td>\n",
       "      <td>G</td>\n",
       "      <td>SH08-001:chrom1:8865:A:G</td>\n",
       "    </tr>\n",
       "  </tbody>\n",
       "</table>\n",
       "<p>84916 rows × 7 columns</p>\n",
       "</div>"
      ],
      "text/plain": [
       "       CHROM   POS REF                                           samples  \\\n",
       "0     chrom0     9   A  Call(sample=SH12-014, CallData(GT=1, GQ=441453))   \n",
       "0     chrom0     9   A  Call(sample=SH10-015, CallData(GT=2, GQ=441453))   \n",
       "0     chrom0     9   A  Call(sample=SH10-014, CallData(GT=2, GQ=441453))   \n",
       "0     chrom0     9   A  Call(sample=SH11-002, CallData(GT=2, GQ=441453))   \n",
       "0     chrom0     9   A  Call(sample=SH13-006, CallData(GT=2, GQ=441453))   \n",
       "...      ...   ...  ..                                               ...   \n",
       "5015  chrom1  8865   A  Call(sample=SH13-008, CallData(GT=1, GQ=441453))   \n",
       "5015  chrom1  8865   A  Call(sample=SH13-004, CallData(GT=1, GQ=441453))   \n",
       "5015  chrom1  8865   A  Call(sample=SH12-012, CallData(GT=1, GQ=441453))   \n",
       "5015  chrom1  8865   A  Call(sample=SH10-002, CallData(GT=1, GQ=441453))   \n",
       "5015  chrom1  8865   A  Call(sample=SH08-001, CallData(GT=1, GQ=441453))   \n",
       "\n",
       "        SAMPLE ALT                        ID  \n",
       "0     SH12-014   G     SH12-014:chrom0:9:A:G  \n",
       "0     SH10-015   C     SH10-015:chrom0:9:A:C  \n",
       "0     SH10-014   C     SH10-014:chrom0:9:A:C  \n",
       "0     SH11-002   C     SH11-002:chrom0:9:A:C  \n",
       "0     SH13-006   C     SH13-006:chrom0:9:A:C  \n",
       "...        ...  ..                       ...  \n",
       "5015  SH13-008   G  SH13-008:chrom1:8865:A:G  \n",
       "5015  SH13-004   G  SH13-004:chrom1:8865:A:G  \n",
       "5015  SH12-012   G  SH12-012:chrom1:8865:A:G  \n",
       "5015  SH10-002   G  SH10-002:chrom1:8865:A:G  \n",
       "5015  SH08-001   G  SH08-001:chrom1:8865:A:G  \n",
       "\n",
       "[84916 rows x 7 columns]"
      ]
     },
     "execution_count": 6,
     "metadata": {},
     "output_type": "execute_result"
    }
   ],
   "source": [
    "simulated_df_exploded"
   ]
  },
  {
   "cell_type": "markdown",
   "id": "85d49181-9782-48b6-bdef-dfa2b19cd6b6",
   "metadata": {
    "papermill": {
     "duration": 0.006422,
     "end_time": "2022-10-19T01:58:36.934425",
     "exception": false,
     "start_time": "2022-10-19T01:58:36.928003",
     "status": "completed"
    },
    "tags": []
   },
   "source": [
    "## 1.2. Load reference genome for use with positive/negative calculations"
   ]
  },
  {
   "cell_type": "code",
   "execution_count": 7,
   "id": "bfaacd7f-746e-452a-9b4b-cb4526424b13",
   "metadata": {
    "execution": {
     "iopub.execute_input": "2022-10-19T01:58:36.945608Z",
     "iopub.status.busy": "2022-10-19T01:58:36.945085Z",
     "iopub.status.idle": "2022-10-19T01:58:37.038623Z",
     "shell.execute_reply": "2022-10-19T01:58:37.037443Z"
    },
    "papermill": {
     "duration": 0.102275,
     "end_time": "2022-10-19T01:58:37.041659",
     "exception": false,
     "start_time": "2022-10-19T01:58:36.939384",
     "status": "completed"
    },
    "tags": []
   },
   "outputs": [
    {
     "name": "stdout",
     "output_type": "stream",
     "text": [
      "Reference length: 10834\n",
      "Number samples: 59\n"
     ]
    }
   ],
   "source": [
    "import gzip\n",
    "from Bio import SeqIO\n",
    "\n",
    "with gzip.open(reference_file, mode='rt') as f:\n",
    "    sequences = list(SeqIO.parse(f, 'fasta'))\n",
    "    reference_length = len(sequences[0])\n",
    "    \n",
    "sample_names = set(simulated_df_exploded.groupby('SAMPLE').agg({'SAMPLE': 'count'}).index)\n",
    "sample_names = sample_names - {'reference'}\n",
    "number_samples = len(sample_names)\n",
    "\n",
    "print(f'Reference length: {reference_length}')\n",
    "print(f'Number samples: {number_samples}')"
   ]
  },
  {
   "cell_type": "markdown",
   "id": "31d39af6-8bcb-416b-ba4c-38c06fc6085e",
   "metadata": {
    "papermill": {
     "duration": 0.012478,
     "end_time": "2022-10-19T01:58:37.064912",
     "exception": false,
     "start_time": "2022-10-19T01:58:37.052434",
     "status": "completed"
    },
    "tags": []
   },
   "source": [
    "# 3. Load detected variants\n",
    "\n",
    "## 3.1. Load from reads index"
   ]
  },
  {
   "cell_type": "code",
   "execution_count": 8,
   "id": "89978058-5e1b-4c20-ba21-fc23daa74dcb",
   "metadata": {
    "execution": {
     "iopub.execute_input": "2022-10-19T01:58:37.105748Z",
     "iopub.status.busy": "2022-10-19T01:58:37.105075Z",
     "iopub.status.idle": "2022-10-19T01:58:51.722127Z",
     "shell.execute_reply": "2022-10-19T01:58:51.721385Z"
    },
    "papermill": {
     "duration": 14.634585,
     "end_time": "2022-10-19T01:58:51.726695",
     "exception": false,
     "start_time": "2022-10-19T01:58:37.092110",
     "status": "completed"
    },
    "tags": []
   },
   "outputs": [
    {
     "name": "stdout",
     "output_type": "stream",
     "text": [
      "There are 60295 actual sample/variant pairs (reads)\n",
      "Took 0.2 minutes\n",
      "Actual variants look like: ['SH10-015:chrom0:7957:ATTGCA:GTTACG', 'SH14-023:chrom0:1065:A:G', 'SH11-001:chrom0:5453:C:G', 'SH12-011:chrom1:8043:AGGG:GGGA', 'SH12-001:chrom1:6676:C:T']\n"
     ]
    }
   ],
   "source": [
    "from typing import Set\n",
    "import genomics_data_index.api as gdi\n",
    "\n",
    "def get_sample_variant_idenifiers(index_dir: Path) -> Set[str]:\n",
    "    db = gdi.GenomicsDataIndex.connect(index_dir)\n",
    "    q = db.samples_query()\n",
    "\n",
    "    actual_sample_variants = set()\n",
    "    for sample in q.tolist():\n",
    "        sample_features = q.isa(sample).features_summary().reset_index()\n",
    "        sample_features_set = set(sample_features['Mutation'].apply(lambda x: f\"{sample}:{x}\"))\n",
    "        actual_sample_variants.update(sample_features_set)\n",
    "    return actual_sample_variants\n",
    "\n",
    "before = time.time()\n",
    "actual_sample_variants_reads = get_sample_variant_idenifiers(index_reads_path)\n",
    "after = time.time()\n",
    "\n",
    "print(f'There are {len(actual_sample_variants_reads)} actual sample/variant pairs (reads)')\n",
    "print(f'Took {(after - before)/60:0.1f} minutes')\n",
    "print(f'Actual variants look like: {list(actual_sample_variants_reads)[0:5]}')"
   ]
  },
  {
   "cell_type": "markdown",
   "id": "4eb6bf76-40f0-449f-8cac-72679f484e8c",
   "metadata": {
    "papermill": {
     "duration": 0.00692,
     "end_time": "2022-10-19T01:58:51.743476",
     "exception": false,
     "start_time": "2022-10-19T01:58:51.736556",
     "status": "completed"
    },
    "tags": []
   },
   "source": [
    "## 2.2. Load from assemblies index"
   ]
  },
  {
   "cell_type": "code",
   "execution_count": 9,
   "id": "b91c4675-1b29-4a1c-b976-ba88a80d2c78",
   "metadata": {
    "execution": {
     "iopub.execute_input": "2022-10-19T01:58:51.755956Z",
     "iopub.status.busy": "2022-10-19T01:58:51.754993Z",
     "iopub.status.idle": "2022-10-19T01:58:54.259256Z",
     "shell.execute_reply": "2022-10-19T01:58:54.258608Z"
    },
    "papermill": {
     "duration": 2.514011,
     "end_time": "2022-10-19T01:58:54.262845",
     "exception": false,
     "start_time": "2022-10-19T01:58:51.748834",
     "status": "completed"
    },
    "tags": []
   },
   "outputs": [
    {
     "name": "stderr",
     "output_type": "stream",
     "text": [
      "Attempting to set global database_path_translator=<genomics_data_index.storage.model.db.DatabasePathTranslator.DatabasePathTranslator object at 0x7fea0a953640> but it is already set\n"
     ]
    },
    {
     "name": "stdout",
     "output_type": "stream",
     "text": [
      "There are 1763 actual sample/variant pairs (assemblies)\n",
      "Took 0.0 minutes\n"
     ]
    }
   ],
   "source": [
    "before = time.time()\n",
    "actual_sample_variants_assemblies = get_sample_variant_idenifiers(index_assemblies_path)\n",
    "after = time.time()\n",
    "\n",
    "print(f'There are {len(actual_sample_variants_assemblies)} actual sample/variant pairs (assemblies)')\n",
    "print(f'Took {(after - before)/60:0.1f} minutes')"
   ]
  },
  {
   "cell_type": "markdown",
   "id": "d44443ae-96df-4372-9eca-06c7a3f5c347",
   "metadata": {
    "papermill": {
     "duration": 0.006301,
     "end_time": "2022-10-19T01:58:54.282704",
     "exception": false,
     "start_time": "2022-10-19T01:58:54.276403",
     "status": "completed"
    },
    "tags": []
   },
   "source": [
    "## 2.3. Load from assemblies reads index"
   ]
  },
  {
   "cell_type": "code",
   "execution_count": 10,
   "id": "434390d4-3b8a-4391-966b-00ff61b38724",
   "metadata": {
    "execution": {
     "iopub.execute_input": "2022-10-19T01:58:54.294722Z",
     "iopub.status.busy": "2022-10-19T01:58:54.294035Z",
     "iopub.status.idle": "2022-10-19T01:58:56.790985Z",
     "shell.execute_reply": "2022-10-19T01:58:56.790333Z"
    },
    "papermill": {
     "duration": 2.506191,
     "end_time": "2022-10-19T01:58:56.794459",
     "exception": false,
     "start_time": "2022-10-19T01:58:54.288268",
     "status": "completed"
    },
    "tags": []
   },
   "outputs": [
    {
     "name": "stderr",
     "output_type": "stream",
     "text": [
      "Attempting to set global database_path_translator=<genomics_data_index.storage.model.db.DatabasePathTranslator.DatabasePathTranslator object at 0x7fea0a909be0> but it is already set\n"
     ]
    },
    {
     "name": "stdout",
     "output_type": "stream",
     "text": [
      "There are 1752 actual sample/variant pairs (assemblies reads)\n",
      "Took 0.0 minutes\n"
     ]
    }
   ],
   "source": [
    "before = time.time()\n",
    "actual_sample_variants_assemblies_reads = get_sample_variant_idenifiers(index_assemblies_reads_path)\n",
    "after = time.time()\n",
    "\n",
    "print(f'There are {len(actual_sample_variants_assemblies_reads)} actual sample/variant pairs (assemblies reads)')\n",
    "print(f'Took {(after - before)/60:0.1f} minutes')"
   ]
  },
  {
   "cell_type": "markdown",
   "id": "52efd18a-5198-45cc-a092-4dfaba600ca1",
   "metadata": {
    "papermill": {
     "duration": 0.006981,
     "end_time": "2022-10-19T01:58:56.811917",
     "exception": false,
     "start_time": "2022-10-19T01:58:56.804936",
     "status": "completed"
    },
    "tags": []
   },
   "source": [
    "# 3. Compare expected/actual variants\n",
    "\n",
    "## 3.1. Compare with reads index"
   ]
  },
  {
   "cell_type": "code",
   "execution_count": 11,
   "id": "3897d419-cc74-49d0-92d6-371f365f3ff1",
   "metadata": {
    "execution": {
     "iopub.execute_input": "2022-10-19T01:58:56.823414Z",
     "iopub.status.busy": "2022-10-19T01:58:56.822988Z",
     "iopub.status.idle": "2022-10-19T01:58:56.868678Z",
     "shell.execute_reply": "2022-10-19T01:58:56.868081Z"
    },
    "papermill": {
     "duration": 0.057891,
     "end_time": "2022-10-19T01:58:56.874879",
     "exception": false,
     "start_time": "2022-10-19T01:58:56.816988",
     "status": "completed"
    },
    "tags": []
   },
   "outputs": [
    {
     "name": "stdout",
     "output_type": "stream",
     "text": [
      "Sensitivity: 0.5188\n",
      "Specificity: ~1 (not calculated)\n",
      "Precision: 0.7306\n",
      "F1 Score: 0.6068\n"
     ]
    },
    {
     "data": {
      "text/html": [
       "<div>\n",
       "<style scoped>\n",
       "    .dataframe tbody tr th:only-of-type {\n",
       "        vertical-align: middle;\n",
       "    }\n",
       "\n",
       "    .dataframe tbody tr th {\n",
       "        vertical-align: top;\n",
       "    }\n",
       "\n",
       "    .dataframe thead th {\n",
       "        text-align: right;\n",
       "    }\n",
       "</style>\n",
       "<table border=\"1\" class=\"dataframe\">\n",
       "  <thead>\n",
       "    <tr style=\"text-align: right;\">\n",
       "      <th></th>\n",
       "      <th>Name</th>\n",
       "      <th>True Positives</th>\n",
       "      <th>True Negatives</th>\n",
       "      <th>False Positives</th>\n",
       "      <th>False Negatives</th>\n",
       "      <th>Sensitivity</th>\n",
       "      <th>Specificity</th>\n",
       "      <th>Precision</th>\n",
       "      <th>F1 Score</th>\n",
       "    </tr>\n",
       "  </thead>\n",
       "  <tbody>\n",
       "    <tr>\n",
       "      <th>0</th>\n",
       "      <td>alpha-2.0-cov-30 reads</td>\n",
       "      <td>44054</td>\n",
       "      <td>&lt;NA&gt;</td>\n",
       "      <td>16241</td>\n",
       "      <td>40862</td>\n",
       "      <td>0.518795</td>\n",
       "      <td>~1 (not calculated)</td>\n",
       "      <td>0.730641</td>\n",
       "      <td>0.606758</td>\n",
       "    </tr>\n",
       "  </tbody>\n",
       "</table>\n",
       "</div>"
      ],
      "text/plain": [
       "                     Name  True Positives True Negatives  False Positives  \\\n",
       "0  alpha-2.0-cov-30 reads           44054           <NA>            16241   \n",
       "\n",
       "   False Negatives  Sensitivity          Specificity  Precision  F1 Score  \n",
       "0            40862     0.518795  ~1 (not calculated)   0.730641  0.606758  "
      ]
     },
     "execution_count": 11,
     "metadata": {},
     "output_type": "execute_result"
    }
   ],
   "source": [
    "def compare_expected_actual(name: str, actual_sample_variants: Set[str]) -> pd.DataFrame:\n",
    "    number_expected = len(expected_sample_variants)\n",
    "    number_actual = len(actual_sample_variants)\n",
    "\n",
    "    true_positives = actual_sample_variants & expected_sample_variants\n",
    "    false_negatives = expected_sample_variants - actual_sample_variants\n",
    "    false_positives = actual_sample_variants - expected_sample_variants\n",
    "    # I cannot get true negatives since I would need to know the total number of negatives (i.e., all possible \n",
    "    #  variants with respect to the reference genome that were not simulated). This would be a finite, but \n",
    "    #  very very large number (and I haven't worked out how to calculate it).\n",
    "    # For example, one negative is Sample:1:A:T, another negative is Sample:1:AG:TT, and so on for the entire \n",
    "    # length of the genome.\n",
    "    # true_negatives = set()\n",
    "\n",
    "    sensitivity = len(true_positives) / (len(true_positives) + len(false_negatives))\n",
    "    precision = len(true_positives) / (len(true_positives) + len(false_positives))\n",
    "    f1_score = 2 * len(true_positives) / (2 * len(true_positives) + len(false_positives) + len(false_negatives))\n",
    "\n",
    "    # Since true_negatives are a very large number, then for all intents and purposes\n",
    "    # specificity will be very very close to 1. So instead of trying to calculate it\n",
    "    # I just call it ~1, but it's also not very useful because of this.\n",
    "    #specificity = len(true_negatives) / (len(true_negatives) + len(false_positives))\n",
    "    specificity = '~1 (not calculated)'\n",
    "\n",
    "    print(f'Sensitivity: {sensitivity:0.4f}')\n",
    "    print(f'Specificity: {specificity}')\n",
    "    print(f'Precision: {precision:0.4f}')\n",
    "    print(f'F1 Score: {f1_score:0.4f}')\n",
    "    \n",
    "    comparison_df = pd.DataFrame([{\n",
    "        'Name': name,\n",
    "        'True Positives': len(true_positives),\n",
    "        'True Negatives': pd.NA,\n",
    "        'False Positives': len(false_positives),\n",
    "        'False Negatives': len(false_negatives),\n",
    "        'Sensitivity': sensitivity,\n",
    "        'Specificity': specificity,\n",
    "        'Precision': precision,\n",
    "        'F1 Score': f1_score,\n",
    "    }])\n",
    "    \n",
    "    data = {\n",
    "        'tp': true_positives,\n",
    "        'fp': false_positives,\n",
    "        'fn': false_negatives\n",
    "    }\n",
    "    \n",
    "    return comparison_df, data\n",
    "    \n",
    "comparison_reads_df, data_reads = compare_expected_actual(name=f'{case_name} reads',\n",
    "                                                          actual_sample_variants=actual_sample_variants_reads)\n",
    "comparison_reads_df"
   ]
  },
  {
   "cell_type": "markdown",
   "id": "d5f3bf59-c828-40e1-9394-f0c40a73dfa6",
   "metadata": {
    "papermill": {
     "duration": 0.007298,
     "end_time": "2022-10-19T01:58:56.893028",
     "exception": false,
     "start_time": "2022-10-19T01:58:56.885730",
     "status": "completed"
    },
    "tags": []
   },
   "source": [
    "## 3.2. Compare with assemblies index"
   ]
  },
  {
   "cell_type": "code",
   "execution_count": 12,
   "id": "341de1ba-a120-471c-97f8-f85537dca10b",
   "metadata": {
    "execution": {
     "iopub.execute_input": "2022-10-19T01:58:56.904606Z",
     "iopub.status.busy": "2022-10-19T01:58:56.904176Z",
     "iopub.status.idle": "2022-10-19T01:58:56.930946Z",
     "shell.execute_reply": "2022-10-19T01:58:56.930101Z"
    },
    "papermill": {
     "duration": 0.036829,
     "end_time": "2022-10-19T01:58:56.934831",
     "exception": false,
     "start_time": "2022-10-19T01:58:56.898002",
     "status": "completed"
    },
    "tags": []
   },
   "outputs": [
    {
     "name": "stdout",
     "output_type": "stream",
     "text": [
      "Sensitivity: 0.0208\n",
      "Specificity: ~1 (not calculated)\n",
      "Precision: 1.0000\n",
      "F1 Score: 0.0407\n"
     ]
    },
    {
     "data": {
      "text/html": [
       "<div>\n",
       "<style scoped>\n",
       "    .dataframe tbody tr th:only-of-type {\n",
       "        vertical-align: middle;\n",
       "    }\n",
       "\n",
       "    .dataframe tbody tr th {\n",
       "        vertical-align: top;\n",
       "    }\n",
       "\n",
       "    .dataframe thead th {\n",
       "        text-align: right;\n",
       "    }\n",
       "</style>\n",
       "<table border=\"1\" class=\"dataframe\">\n",
       "  <thead>\n",
       "    <tr style=\"text-align: right;\">\n",
       "      <th></th>\n",
       "      <th>Name</th>\n",
       "      <th>True Positives</th>\n",
       "      <th>True Negatives</th>\n",
       "      <th>False Positives</th>\n",
       "      <th>False Negatives</th>\n",
       "      <th>Sensitivity</th>\n",
       "      <th>Specificity</th>\n",
       "      <th>Precision</th>\n",
       "      <th>F1 Score</th>\n",
       "    </tr>\n",
       "  </thead>\n",
       "  <tbody>\n",
       "    <tr>\n",
       "      <th>0</th>\n",
       "      <td>alpha-2.0-cov-30 assemblies</td>\n",
       "      <td>1763</td>\n",
       "      <td>&lt;NA&gt;</td>\n",
       "      <td>0</td>\n",
       "      <td>83153</td>\n",
       "      <td>0.020762</td>\n",
       "      <td>~1 (not calculated)</td>\n",
       "      <td>1.0</td>\n",
       "      <td>0.040679</td>\n",
       "    </tr>\n",
       "  </tbody>\n",
       "</table>\n",
       "</div>"
      ],
      "text/plain": [
       "                          Name  True Positives True Negatives  \\\n",
       "0  alpha-2.0-cov-30 assemblies            1763           <NA>   \n",
       "\n",
       "   False Positives  False Negatives  Sensitivity          Specificity  \\\n",
       "0                0            83153     0.020762  ~1 (not calculated)   \n",
       "\n",
       "   Precision  F1 Score  \n",
       "0        1.0  0.040679  "
      ]
     },
     "execution_count": 12,
     "metadata": {},
     "output_type": "execute_result"
    }
   ],
   "source": [
    "comparison_assemblies_df, data_assemblies = compare_expected_actual(name=f'{case_name} assemblies',\n",
    "                                                                    actual_sample_variants=actual_sample_variants_assemblies)\n",
    "comparison_assemblies_df"
   ]
  },
  {
   "cell_type": "markdown",
   "id": "1027e408-91e0-4323-a4f2-8e0d3c799e15",
   "metadata": {
    "papermill": {
     "duration": 0.007578,
     "end_time": "2022-10-19T01:58:56.953637",
     "exception": false,
     "start_time": "2022-10-19T01:58:56.946059",
     "status": "completed"
    },
    "tags": []
   },
   "source": [
    "## 3.3. Compare with assemblies reads index"
   ]
  },
  {
   "cell_type": "code",
   "execution_count": 13,
   "id": "a413335c-f55f-4367-abc4-6d33562e6ea8",
   "metadata": {
    "execution": {
     "iopub.execute_input": "2022-10-19T01:58:56.965549Z",
     "iopub.status.busy": "2022-10-19T01:58:56.965017Z",
     "iopub.status.idle": "2022-10-19T01:58:56.991576Z",
     "shell.execute_reply": "2022-10-19T01:58:56.990720Z"
    },
    "papermill": {
     "duration": 0.036991,
     "end_time": "2022-10-19T01:58:56.995598",
     "exception": false,
     "start_time": "2022-10-19T01:58:56.958607",
     "status": "completed"
    },
    "tags": []
   },
   "outputs": [
    {
     "name": "stdout",
     "output_type": "stream",
     "text": [
      "Sensitivity: 0.0164\n",
      "Specificity: ~1 (not calculated)\n",
      "Precision: 0.7939\n",
      "F1 Score: 0.0321\n"
     ]
    },
    {
     "data": {
      "text/html": [
       "<div>\n",
       "<style scoped>\n",
       "    .dataframe tbody tr th:only-of-type {\n",
       "        vertical-align: middle;\n",
       "    }\n",
       "\n",
       "    .dataframe tbody tr th {\n",
       "        vertical-align: top;\n",
       "    }\n",
       "\n",
       "    .dataframe thead th {\n",
       "        text-align: right;\n",
       "    }\n",
       "</style>\n",
       "<table border=\"1\" class=\"dataframe\">\n",
       "  <thead>\n",
       "    <tr style=\"text-align: right;\">\n",
       "      <th></th>\n",
       "      <th>Name</th>\n",
       "      <th>True Positives</th>\n",
       "      <th>True Negatives</th>\n",
       "      <th>False Positives</th>\n",
       "      <th>False Negatives</th>\n",
       "      <th>Sensitivity</th>\n",
       "      <th>Specificity</th>\n",
       "      <th>Precision</th>\n",
       "      <th>F1 Score</th>\n",
       "    </tr>\n",
       "  </thead>\n",
       "  <tbody>\n",
       "    <tr>\n",
       "      <th>0</th>\n",
       "      <td>alpha-2.0-cov-30 assemblies reads</td>\n",
       "      <td>1391</td>\n",
       "      <td>&lt;NA&gt;</td>\n",
       "      <td>361</td>\n",
       "      <td>83525</td>\n",
       "      <td>0.016381</td>\n",
       "      <td>~1 (not calculated)</td>\n",
       "      <td>0.79395</td>\n",
       "      <td>0.0321</td>\n",
       "    </tr>\n",
       "  </tbody>\n",
       "</table>\n",
       "</div>"
      ],
      "text/plain": [
       "                                Name  True Positives True Negatives  \\\n",
       "0  alpha-2.0-cov-30 assemblies reads            1391           <NA>   \n",
       "\n",
       "   False Positives  False Negatives  Sensitivity          Specificity  \\\n",
       "0              361            83525     0.016381  ~1 (not calculated)   \n",
       "\n",
       "   Precision  F1 Score  \n",
       "0    0.79395    0.0321  "
      ]
     },
     "execution_count": 13,
     "metadata": {},
     "output_type": "execute_result"
    }
   ],
   "source": [
    "comparison_assemblies_reads_df, data_assemblies_reads = compare_expected_actual(name=f'{case_name} assemblies reads',\n",
    "                                                                    actual_sample_variants=actual_sample_variants_assemblies_reads)\n",
    "comparison_assemblies_reads_df"
   ]
  },
  {
   "cell_type": "markdown",
   "id": "13ddcf68-f5d4-494f-8a13-e9325390b953",
   "metadata": {
    "papermill": {
     "duration": 0.007856,
     "end_time": "2022-10-19T01:58:57.015050",
     "exception": false,
     "start_time": "2022-10-19T01:58:57.007194",
     "status": "completed"
    },
    "tags": []
   },
   "source": [
    "## 3.3. Combine results"
   ]
  },
  {
   "cell_type": "code",
   "execution_count": 14,
   "id": "17df418e-5244-4000-b9f9-2f35f8ce998f",
   "metadata": {
    "execution": {
     "iopub.execute_input": "2022-10-19T01:58:57.027609Z",
     "iopub.status.busy": "2022-10-19T01:58:57.027060Z",
     "iopub.status.idle": "2022-10-19T01:58:57.049160Z",
     "shell.execute_reply": "2022-10-19T01:58:57.048244Z"
    },
    "papermill": {
     "duration": 0.031886,
     "end_time": "2022-10-19T01:58:57.052395",
     "exception": false,
     "start_time": "2022-10-19T01:58:57.020509",
     "status": "completed"
    },
    "tags": []
   },
   "outputs": [
    {
     "data": {
      "text/html": [
       "<div>\n",
       "<style scoped>\n",
       "    .dataframe tbody tr th:only-of-type {\n",
       "        vertical-align: middle;\n",
       "    }\n",
       "\n",
       "    .dataframe tbody tr th {\n",
       "        vertical-align: top;\n",
       "    }\n",
       "\n",
       "    .dataframe thead th {\n",
       "        text-align: right;\n",
       "    }\n",
       "</style>\n",
       "<table border=\"1\" class=\"dataframe\">\n",
       "  <thead>\n",
       "    <tr style=\"text-align: right;\">\n",
       "      <th></th>\n",
       "      <th>Name</th>\n",
       "      <th>True Positives</th>\n",
       "      <th>True Negatives</th>\n",
       "      <th>False Positives</th>\n",
       "      <th>False Negatives</th>\n",
       "      <th>Sensitivity</th>\n",
       "      <th>Specificity</th>\n",
       "      <th>Precision</th>\n",
       "      <th>F1 Score</th>\n",
       "    </tr>\n",
       "  </thead>\n",
       "  <tbody>\n",
       "    <tr>\n",
       "      <th>0</th>\n",
       "      <td>alpha-2.0-cov-30 reads</td>\n",
       "      <td>44054</td>\n",
       "      <td>&lt;NA&gt;</td>\n",
       "      <td>16241</td>\n",
       "      <td>40862</td>\n",
       "      <td>0.518795</td>\n",
       "      <td>~1 (not calculated)</td>\n",
       "      <td>0.730641</td>\n",
       "      <td>0.606758</td>\n",
       "    </tr>\n",
       "    <tr>\n",
       "      <th>0</th>\n",
       "      <td>alpha-2.0-cov-30 assemblies</td>\n",
       "      <td>1763</td>\n",
       "      <td>&lt;NA&gt;</td>\n",
       "      <td>0</td>\n",
       "      <td>83153</td>\n",
       "      <td>0.020762</td>\n",
       "      <td>~1 (not calculated)</td>\n",
       "      <td>1.000000</td>\n",
       "      <td>0.040679</td>\n",
       "    </tr>\n",
       "    <tr>\n",
       "      <th>0</th>\n",
       "      <td>alpha-2.0-cov-30 assemblies reads</td>\n",
       "      <td>1391</td>\n",
       "      <td>&lt;NA&gt;</td>\n",
       "      <td>361</td>\n",
       "      <td>83525</td>\n",
       "      <td>0.016381</td>\n",
       "      <td>~1 (not calculated)</td>\n",
       "      <td>0.793950</td>\n",
       "      <td>0.032100</td>\n",
       "    </tr>\n",
       "  </tbody>\n",
       "</table>\n",
       "</div>"
      ],
      "text/plain": [
       "                                Name  True Positives True Negatives  \\\n",
       "0             alpha-2.0-cov-30 reads           44054           <NA>   \n",
       "0        alpha-2.0-cov-30 assemblies            1763           <NA>   \n",
       "0  alpha-2.0-cov-30 assemblies reads            1391           <NA>   \n",
       "\n",
       "   False Positives  False Negatives  Sensitivity          Specificity  \\\n",
       "0            16241            40862     0.518795  ~1 (not calculated)   \n",
       "0                0            83153     0.020762  ~1 (not calculated)   \n",
       "0              361            83525     0.016381  ~1 (not calculated)   \n",
       "\n",
       "   Precision  F1 Score  \n",
       "0   0.730641  0.606758  \n",
       "0   1.000000  0.040679  \n",
       "0   0.793950  0.032100  "
      ]
     },
     "execution_count": 14,
     "metadata": {},
     "output_type": "execute_result"
    }
   ],
   "source": [
    "results_df = pd.concat([comparison_reads_df, comparison_assemblies_df, comparison_assemblies_reads_df])\n",
    "results_df"
   ]
  },
  {
   "cell_type": "code",
   "execution_count": 15,
   "id": "20211251-04f9-4a94-ae10-473c6d52aaf2",
   "metadata": {
    "execution": {
     "iopub.execute_input": "2022-10-19T01:58:57.076273Z",
     "iopub.status.busy": "2022-10-19T01:58:57.075736Z",
     "iopub.status.idle": "2022-10-19T01:58:57.087284Z",
     "shell.execute_reply": "2022-10-19T01:58:57.085793Z"
    },
    "papermill": {
     "duration": 0.025056,
     "end_time": "2022-10-19T01:58:57.090921",
     "exception": false,
     "start_time": "2022-10-19T01:58:57.065865",
     "status": "completed"
    },
    "tags": []
   },
   "outputs": [],
   "source": [
    "results_df_output = simulation_dir_path / 'variants-comparison.tsv'\n",
    "results_df.to_csv(results_df_output, sep='\\t', index=False)"
   ]
  }
 ],
 "metadata": {
  "kernelspec": {
   "display_name": "Python 3 (ipykernel)",
   "language": "python",
   "name": "python3"
  },
  "language_info": {
   "codemirror_mode": {
    "name": "ipython",
    "version": 3
   },
   "file_extension": ".py",
   "mimetype": "text/x-python",
   "name": "python",
   "nbconvert_exporter": "python",
   "pygments_lexer": "ipython3",
   "version": "3.8.13"
  },
  "papermill": {
   "default_parameters": {},
   "duration": 26.356549,
   "end_time": "2022-10-19T01:58:58.029451",
   "environment_variables": {},
   "exception": null,
   "input_path": "template-4-variants-comparison.ipynb",
   "output_path": "4-variants-comparison.simulation-alpha-2.0.ipynb",
   "parameters": {
    "iterations": 1,
    "mincov": 10,
    "read_coverage": 30,
    "simulation_dir": "simulations/alpha-2.0-cov-30",
    "sub_alpha": 2.0
   },
   "start_time": "2022-10-19T01:58:31.672902",
   "version": "2.3.4"
  }
 },
 "nbformat": 4,
 "nbformat_minor": 5
}