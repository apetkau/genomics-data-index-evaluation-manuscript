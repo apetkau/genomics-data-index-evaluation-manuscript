{
 "cells": [
  {
   "cell_type": "markdown",
   "id": "39afc998-7d9f-4d4e-9147-fb6198f83f2d",
   "metadata": {
    "papermill": {
     "duration": 0.007822,
     "end_time": "2022-10-18T22:30:02.590357",
     "exception": false,
     "start_time": "2022-10-18T22:30:02.582535",
     "status": "completed"
    },
    "tags": []
   },
   "source": [
    "# 1. Parameters"
   ]
  },
  {
   "cell_type": "code",
   "execution_count": 1,
   "id": "8eee723b-55a2-4355-b867-c5e682a9f800",
   "metadata": {
    "execution": {
     "iopub.execute_input": "2022-10-18T22:30:02.643876Z",
     "iopub.status.busy": "2022-10-18T22:30:02.641173Z",
     "iopub.status.idle": "2022-10-18T22:30:02.700731Z",
     "shell.execute_reply": "2022-10-18T22:30:02.698920Z"
    },
    "papermill": {
     "duration": 0.108524,
     "end_time": "2022-10-18T22:30:02.704348",
     "exception": false,
     "start_time": "2022-10-18T22:30:02.595824",
     "status": "completed"
    },
    "tags": [
     "parameters"
    ]
   },
   "outputs": [],
   "source": [
    "# Defaults\n",
    "\n",
    "## Random seed\n",
    "random_seed <- 25524\n",
    "\n",
    "## Directories\n",
    "simulation_dir <- \"simulations/unset\"\n",
    "reference_file <- \"simulations/reference/reference.fa.gz\"\n",
    "initial_tree_file <- \"input/salmonella.tre\"\n",
    "\n",
    "## Simulation parameters\n",
    "sub_lambda <- 1e-2\n",
    "sub_pi_tcag <- c(0.1, 0.2, 0.3, 0.4)\n",
    "sub_alpha <- 0.2\n",
    "sub_beta <- sub_alpha/2\n",
    "sub_mu <- 1\n",
    "sub_invariant <- 0.3\n",
    "ins_rate <- 1e-4\n",
    "ins_max_length <- 60\n",
    "ins_a <- 1.6\n",
    "del_rate <- 1e-4\n",
    "del_max_length <- 60\n",
    "del_a <- 1.6\n",
    "\n",
    "## Read simulation information\n",
    "read_coverage <- 30\n",
    "read_length <- 250\n",
    "\n",
    "## Other\n",
    "ncores <- 48"
   ]
  },
  {
   "cell_type": "code",
   "execution_count": 2,
   "id": "860c47d5",
   "metadata": {
    "execution": {
     "iopub.execute_input": "2022-10-18T22:30:02.753595Z",
     "iopub.status.busy": "2022-10-18T22:30:02.717934Z",
     "iopub.status.idle": "2022-10-18T22:30:02.768368Z",
     "shell.execute_reply": "2022-10-18T22:30:02.766986Z"
    },
    "papermill": {
     "duration": 0.06062,
     "end_time": "2022-10-18T22:30:02.771420",
     "exception": false,
     "start_time": "2022-10-18T22:30:02.710800",
     "status": "completed"
    },
    "tags": [
     "injected-parameters"
    ]
   },
   "outputs": [],
   "source": [
    "# Parameters\n",
    "read_coverage = 30\n",
    "mincov = 10\n",
    "simulation_dir = \"simulations/alpha-2.0-cov-30\"\n",
    "iterations = 1\n",
    "sub_alpha = 2.0\n"
   ]
  },
  {
   "cell_type": "code",
   "execution_count": 3,
   "id": "845350c4-9369-4350-bcce-504d05f5ff55",
   "metadata": {
    "execution": {
     "iopub.execute_input": "2022-10-18T22:30:02.786475Z",
     "iopub.status.busy": "2022-10-18T22:30:02.784857Z",
     "iopub.status.idle": "2022-10-18T22:30:02.809212Z",
     "shell.execute_reply": "2022-10-18T22:30:02.807931Z"
    },
    "papermill": {
     "duration": 0.034785,
     "end_time": "2022-10-18T22:30:02.812237",
     "exception": false,
     "start_time": "2022-10-18T22:30:02.777452",
     "status": "completed"
    },
    "tags": []
   },
   "outputs": [
    {
     "name": "stdout",
     "output_type": "stream",
     "text": [
      "[1] \"simulations/alpha-2.0-cov-30/simulated_data\"\n"
     ]
    },
    {
     "name": "stdout",
     "output_type": "stream",
     "text": [
      "[1] \"simulations/alpha-2.0-cov-30/simulated_data/haplotypes\"\n"
     ]
    }
   ],
   "source": [
    "output_dir <- file.path(simulation_dir, \"simulated_data\")\n",
    "output_vcf_prefix <- file.path(output_dir, \"haplotypes\")\n",
    "reads_data_initial_prefix <- file.path(output_dir, \"reads_initial\", \"data\")\n",
    "set.seed(random_seed)\n",
    "print(output_dir)\n",
    "print(output_vcf_prefix)"
   ]
  },
  {
   "cell_type": "markdown",
   "id": "noticed-coating",
   "metadata": {
    "papermill": {
     "duration": 0.003977,
     "end_time": "2022-10-18T22:30:02.821892",
     "exception": false,
     "start_time": "2022-10-18T22:30:02.817915",
     "status": "completed"
    },
    "tags": []
   },
   "source": [
    "# 2. Generate simulated data\n",
    "\n",
    "This simulates *Salmonella* data using a reference genome and a tree."
   ]
  },
  {
   "cell_type": "code",
   "execution_count": 4,
   "id": "bright-polymer",
   "metadata": {
    "execution": {
     "iopub.execute_input": "2022-10-18T22:30:02.832075Z",
     "iopub.status.busy": "2022-10-18T22:30:02.830274Z",
     "iopub.status.idle": "2022-10-18T22:30:02.928677Z",
     "shell.execute_reply": "2022-10-18T22:30:02.927281Z"
    },
    "papermill": {
     "duration": 0.106921,
     "end_time": "2022-10-18T22:30:02.932578",
     "exception": false,
     "start_time": "2022-10-18T22:30:02.825657",
     "status": "completed"
    },
    "tags": []
   },
   "outputs": [
    {
     "data": {
      "text/html": [
       "TRUE"
      ],
      "text/latex": [
       "TRUE"
      ],
      "text/markdown": [
       "TRUE"
      ],
      "text/plain": [
       "[1] TRUE"
      ]
     },
     "metadata": {},
     "output_type": "display_data"
    }
   ],
   "source": [
    "library(jackalope)\n",
    "\n",
    "# Make sure we've complied with openmp\n",
    "jackalope:::using_openmp()"
   ]
  },
  {
   "cell_type": "code",
   "execution_count": 5,
   "id": "303635b1-41dc-4917-8e90-30832a9acafd",
   "metadata": {
    "execution": {
     "iopub.execute_input": "2022-10-18T22:30:02.945838Z",
     "iopub.status.busy": "2022-10-18T22:30:02.944468Z",
     "iopub.status.idle": "2022-10-18T22:30:02.966851Z",
     "shell.execute_reply": "2022-10-18T22:30:02.965427Z"
    },
    "papermill": {
     "duration": 0.030884,
     "end_time": "2022-10-18T22:30:02.969530",
     "exception": false,
     "start_time": "2022-10-18T22:30:02.938646",
     "status": "completed"
    },
    "tags": []
   },
   "outputs": [
    {
     "data": {
      "text/plain": [
       "< Set of 2 chromosomes >\n",
       "# Total size: 19,699 bp\n",
       "  name                             chromosome                             length\n",
       "chrom0     GTATTGCGAGGGTGGGGGAGTACGGCAG...CAAGAATGCAACCGACTCTGTCGGGACT     10834\n",
       "chrom1     CACCTCGAGCAGATCCTAGTTTGCGCGA...TGCGAATTTATCGCCTAATCCAATGTTA      8865"
      ]
     },
     "metadata": {},
     "output_type": "display_data"
    }
   ],
   "source": [
    "reference <- read_fasta(reference_file)\n",
    "reference_len <- sum(reference$sizes())\n",
    "reference"
   ]
  },
  {
   "cell_type": "code",
   "execution_count": 6,
   "id": "documented-helmet",
   "metadata": {
    "execution": {
     "iopub.execute_input": "2022-10-18T22:30:02.984023Z",
     "iopub.status.busy": "2022-10-18T22:30:02.982665Z",
     "iopub.status.idle": "2022-10-18T22:30:03.057345Z",
     "shell.execute_reply": "2022-10-18T22:30:03.056047Z"
    },
    "papermill": {
     "duration": 0.084156,
     "end_time": "2022-10-18T22:30:03.060876",
     "exception": false,
     "start_time": "2022-10-18T22:30:02.976720",
     "status": "completed"
    },
    "tags": []
   },
   "outputs": [
    {
     "data": {
      "text/plain": [
       "\n",
       "Phylogenetic tree with 60 tips and 59 internal nodes.\n",
       "\n",
       "Tip labels:\n",
       "  reference, SH12-013, SH12-014, SH10-015, SH10-014, SH11-002, ...\n",
       "Node labels:\n",
       "  Root, 1.000000, 0.000000, 0.000000, 1.000000, 0.000000, ...\n",
       "\n",
       "Rooted; includes branch lengths."
      ]
     },
     "metadata": {},
     "output_type": "display_data"
    }
   ],
   "source": [
    "library(ape)\n",
    "\n",
    "tree <- read.tree(initial_tree_file)\n",
    "tree <- root(tree, \"reference\", resolve.root=TRUE)\n",
    "tree"
   ]
  },
  {
   "cell_type": "code",
   "execution_count": 7,
   "id": "proved-silver",
   "metadata": {
    "execution": {
     "iopub.execute_input": "2022-10-18T22:30:03.075488Z",
     "iopub.status.busy": "2022-10-18T22:30:03.074075Z",
     "iopub.status.idle": "2022-10-18T22:30:03.227325Z",
     "shell.execute_reply": "2022-10-18T22:30:03.226038Z"
    },
    "papermill": {
     "duration": 0.163005,
     "end_time": "2022-10-18T22:30:03.230944",
     "exception": false,
     "start_time": "2022-10-18T22:30:03.067939",
     "status": "completed"
    },
    "tags": []
   },
   "outputs": [
    {
     "data": {
      "text/plain": [
       "                              << haplotypes object >>\n",
       "# Haplotypes: 60\n",
       "# Mutations: 84,916\n",
       "\n",
       "                          << Reference genome info: >>\n",
       "< Set of 2 chromosomes >\n",
       "# Total size: 19,699 bp\n",
       "  name                             chromosome                             length\n",
       "chrom0     GTATTGCGAGGGTGGGGGAGTACGGCAG...CAAGAATGCAACCGACTCTGTCGGGACT     10834\n",
       "chrom1     CACCTCGAGCAGATCCTAGTTTGCGCGA...TGCGAATTTATCGCCTAATCCAATGTTA      8865"
      ]
     },
     "metadata": {},
     "output_type": "display_data"
    }
   ],
   "source": [
    "sub <- sub_HKY85(pi_tcag = sub_pi_tcag, mu = sub_mu,\n",
    "                 alpha = sub_alpha, beta = sub_beta, gamma_shape=1, gamma_k = 5,\n",
    "                 invariant = sub_invariant)\n",
    "ins <- indels(rate = ins_rate, max_length = ins_max_length, a = ins_a)\n",
    "del <- indels(rate = del_rate, max_length = del_max_length, a = del_a)\n",
    "\n",
    "ref_haplotypes <- create_haplotypes(reference, haps_phylo(tree), sub=sub, ins=ins, del=del)\n",
    "ref_haplotypes"
   ]
  },
  {
   "cell_type": "markdown",
   "id": "535fa02d-c76c-4067-9582-74f3694d16ea",
   "metadata": {
    "papermill": {
     "duration": 0.005103,
     "end_time": "2022-10-18T22:30:03.243840",
     "exception": false,
     "start_time": "2022-10-18T22:30:03.238737",
     "status": "completed"
    },
    "tags": []
   },
   "source": [
    "# 3. Write simulated data"
   ]
  },
  {
   "cell_type": "code",
   "execution_count": 8,
   "id": "smoking-geology",
   "metadata": {
    "execution": {
     "iopub.execute_input": "2022-10-18T22:30:03.255715Z",
     "iopub.status.busy": "2022-10-18T22:30:03.253813Z",
     "iopub.status.idle": "2022-10-18T22:30:03.343971Z",
     "shell.execute_reply": "2022-10-18T22:30:03.342712Z"
    },
    "papermill": {
     "duration": 0.098597,
     "end_time": "2022-10-18T22:30:03.347006",
     "exception": false,
     "start_time": "2022-10-18T22:30:03.248409",
     "status": "completed"
    },
    "tags": []
   },
   "outputs": [],
   "source": [
    "write_vcf(ref_haplotypes, out_prefix=output_vcf_prefix, compress=TRUE)"
   ]
  },
  {
   "cell_type": "code",
   "execution_count": 9,
   "id": "d2657fc5-481e-4b24-bbf8-78c02ee735ce",
   "metadata": {
    "execution": {
     "iopub.execute_input": "2022-10-18T22:30:03.364464Z",
     "iopub.status.busy": "2022-10-18T22:30:03.362928Z",
     "iopub.status.idle": "2022-10-18T22:30:03.468651Z",
     "shell.execute_reply": "2022-10-18T22:30:03.465191Z"
    },
    "papermill": {
     "duration": 0.119006,
     "end_time": "2022-10-18T22:30:03.473657",
     "exception": false,
     "start_time": "2022-10-18T22:30:03.354651",
     "status": "completed"
    },
    "tags": []
   },
   "outputs": [],
   "source": [
    "assemblies_prefix = file.path(output_dir, \"assemblies\", \"data\")\n",
    "\n",
    "write_fasta(ref_haplotypes, out_prefix=assemblies_prefix,\n",
    "            compress=TRUE, n_threads=ncores, overwrite=TRUE)"
   ]
  },
  {
   "cell_type": "code",
   "execution_count": 10,
   "id": "continent-freeze",
   "metadata": {
    "execution": {
     "iopub.execute_input": "2022-10-18T22:30:03.487482Z",
     "iopub.status.busy": "2022-10-18T22:30:03.485909Z",
     "iopub.status.idle": "2022-10-18T22:35:36.098429Z",
     "shell.execute_reply": "2022-10-18T22:35:36.095248Z"
    },
    "papermill": {
     "duration": 332.62065,
     "end_time": "2022-10-18T22:35:36.100700",
     "exception": false,
     "start_time": "2022-10-18T22:30:03.480050",
     "status": "completed"
    },
    "tags": []
   },
   "outputs": [
    {
     "name": "stdout",
     "output_type": "stream",
     "text": [
      "[1] \"Number of reads for coverage 30X and read length 250 over 60 samples with respect to reference with length 19699: 141833\"\n"
     ]
    }
   ],
   "source": [
    "n_samples <- length(tree$tip)\n",
    "n_reads <- round((reference_len * read_coverage * n_samples) / read_length)\n",
    "print(sprintf(\"Number of reads for coverage %sX and read length %s over %s samples with respect to reference with length %s: %s\", \n",
    "              read_coverage, read_length, n_samples, reference_len, n_reads))\n",
    "\n",
    "illumina(ref_haplotypes, out_prefix = reads_data_initial_prefix, sep_files=TRUE, n_reads = n_reads,\n",
    "         frag_mean = read_length * 2 + 50, frag_sd = 100,\n",
    "         compress=TRUE, comp_method=\"bgzip\", n_threads=ncores,\n",
    "         paired=TRUE, read_length = read_length)"
   ]
  },
  {
   "cell_type": "code",
   "execution_count": 11,
   "id": "22be4c4e-3289-43f7-852b-4357eb4dd758",
   "metadata": {
    "execution": {
     "iopub.execute_input": "2022-10-18T22:35:36.123752Z",
     "iopub.status.busy": "2022-10-18T22:35:36.122305Z",
     "iopub.status.idle": "2022-10-18T22:35:36.162563Z",
     "shell.execute_reply": "2022-10-18T22:35:36.161078Z"
    },
    "papermill": {
     "duration": 0.059601,
     "end_time": "2022-10-18T22:35:36.164427",
     "exception": false,
     "start_time": "2022-10-18T22:35:36.104826",
     "status": "completed"
    },
    "tags": []
   },
   "outputs": [
    {
     "name": "stdout",
     "output_type": "stream",
     "text": [
      "[1] \"Renaming: simulations/alpha-2.0-cov-30/simulated_data/reads_initial/data_reference_R1.fq.gz to simulations/alpha-2.0-cov-30/simulated_data/reads_initial/data_reference-simulated_R1.fq.gz\"\n"
     ]
    },
    {
     "name": "stdout",
     "output_type": "stream",
     "text": [
      "[1] \"Renaming: simulations/alpha-2.0-cov-30/simulated_data/reads_initial/data_reference_R2.fq.gz to simulations/alpha-2.0-cov-30/simulated_data/reads_initial/data_reference-simulated_R2.fq.gz\"\n"
     ]
    }
   ],
   "source": [
    "# Rename the simulated reads for the reference genome\n",
    "ref1 <- paste(toString(reads_data_initial_prefix), \"_reference_R1.fq.gz\", sep=\"\")\n",
    "ref2 <- paste(toString(reads_data_initial_prefix), \"_reference_R2.fq.gz\", sep=\"\")\n",
    "\n",
    "newref1 <- paste(toString(reads_data_initial_prefix), \"_reference-simulated_R1.fq.gz\", sep=\"\")\n",
    "newref2 <- paste(toString(reads_data_initial_prefix), \"_reference-simulated_R2.fq.gz\", sep=\"\")\n",
    "\n",
    "if (file.exists(ref1)) {\n",
    "    file.rename(ref1, newref1)\n",
    "    print(sprintf(\"Renaming: %s to %s\", ref1, newref1))\n",
    "}\n",
    "if (file.exists(ref2)) {\n",
    "    file.rename(ref2, newref2)\n",
    "    print(sprintf(\"Renaming: %s to %s\", ref2, newref2))\n",
    "}"
   ]
  }
 ],
 "metadata": {
  "kernelspec": {
   "display_name": "R",
   "language": "R",
   "name": "ir"
  },
  "language_info": {
   "codemirror_mode": "r",
   "file_extension": ".r",
   "mimetype": "text/x-r-source",
   "name": "R",
   "pygments_lexer": "r",
   "version": "4.1.3"
  },
  "papermill": {
   "default_parameters": {},
   "duration": 335.225393,
   "end_time": "2022-10-18T22:35:36.688717",
   "environment_variables": {},
   "exception": null,
   "input_path": "template-1-simulate-reads.ipynb",
   "output_path": "1-simulate-reads.simulation-alpha-2.0.ipynb",
   "parameters": {
    "iterations": 1,
    "mincov": 10,
    "read_coverage": 30,
    "simulation_dir": "simulations/alpha-2.0-cov-30",
    "sub_alpha": 2.0
   },
   "start_time": "2022-10-18T22:30:01.463324",
   "version": "2.3.4"
  }
 },
 "nbformat": 4,
 "nbformat_minor": 5
}