{
 "cells": [
  {
   "cell_type": "markdown",
   "id": "39afc998-7d9f-4d4e-9147-fb6198f83f2d",
   "metadata": {
    "papermill": {
     "duration": 0.007014,
     "end_time": "2022-09-29T18:59:18.047142",
     "exception": false,
     "start_time": "2022-09-29T18:59:18.040128",
     "status": "completed"
    },
    "tags": []
   },
   "source": [
    "# 1. Parameters"
   ]
  },
  {
   "cell_type": "code",
   "execution_count": 1,
   "id": "8eee723b-55a2-4355-b867-c5e682a9f800",
   "metadata": {
    "execution": {
     "iopub.execute_input": "2022-09-29T18:59:18.103183Z",
     "iopub.status.busy": "2022-09-29T18:59:18.100399Z",
     "iopub.status.idle": "2022-09-29T18:59:18.159019Z",
     "shell.execute_reply": "2022-09-29T18:59:18.157357Z"
    },
    "papermill": {
     "duration": 0.109827,
     "end_time": "2022-09-29T18:59:18.162599",
     "exception": false,
     "start_time": "2022-09-29T18:59:18.052772",
     "status": "completed"
    },
    "tags": [
     "parameters"
    ]
   },
   "outputs": [],
   "source": [
    "# Defaults\n",
    "\n",
    "## Random seed\n",
    "random_seed <- 25524\n",
    "\n",
    "## Directories\n",
    "simulation_dir <- \"simulations/unset\"\n",
    "reference_file <- \"simulations/reference/reference.fa.gz\"\n",
    "initial_tree_file <- \"input/salmonella.tre\"\n",
    "\n",
    "## Simulation parameters\n",
    "sub_lambda <- 1e-2\n",
    "sub_pi_tcag <- c(0.1, 0.2, 0.3, 0.4)\n",
    "sub_alpha <- 0.2\n",
    "sub_beta <- sub_alpha/2\n",
    "sub_mu <- 1\n",
    "sub_invariant <- 0.3\n",
    "ins_rate <- 1e-4\n",
    "ins_max_length <- 60\n",
    "ins_a <- 1.6\n",
    "del_rate <- 1e-4\n",
    "del_max_length <- 60\n",
    "del_a <- 1.6\n",
    "\n",
    "## Read simulation information\n",
    "read_coverage <- 30\n",
    "read_length <- 250\n",
    "\n",
    "## Other\n",
    "ncores <- 48"
   ]
  },
  {
   "cell_type": "code",
   "execution_count": 2,
   "id": "74b98770",
   "metadata": {
    "execution": {
     "iopub.execute_input": "2022-09-29T18:59:18.212404Z",
     "iopub.status.busy": "2022-09-29T18:59:18.174795Z",
     "iopub.status.idle": "2022-09-29T18:59:18.230046Z",
     "shell.execute_reply": "2022-09-29T18:59:18.228739Z"
    },
    "papermill": {
     "duration": 0.064897,
     "end_time": "2022-09-29T18:59:18.233112",
     "exception": false,
     "start_time": "2022-09-29T18:59:18.168215",
     "status": "completed"
    },
    "tags": [
     "injected-parameters"
    ]
   },
   "outputs": [],
   "source": [
    "# Parameters\n",
    "read_coverage = 30\n",
    "mincov = 10\n",
    "simulation_dir = \"simulations/alpha-2.0-cov-30\"\n",
    "iterations = 3\n",
    "sub_alpha = 2.0\n"
   ]
  },
  {
   "cell_type": "code",
   "execution_count": 3,
   "id": "845350c4-9369-4350-bcce-504d05f5ff55",
   "metadata": {
    "execution": {
     "iopub.execute_input": "2022-09-29T18:59:18.246669Z",
     "iopub.status.busy": "2022-09-29T18:59:18.245417Z",
     "iopub.status.idle": "2022-09-29T18:59:18.267375Z",
     "shell.execute_reply": "2022-09-29T18:59:18.266086Z"
    },
    "papermill": {
     "duration": 0.031647,
     "end_time": "2022-09-29T18:59:18.270309",
     "exception": false,
     "start_time": "2022-09-29T18:59:18.238662",
     "status": "completed"
    },
    "tags": []
   },
   "outputs": [
    {
     "name": "stdout",
     "output_type": "stream",
     "text": [
      "[1] \"simulations/alpha-2.0-cov-30/simulated_data\"\n"
     ]
    },
    {
     "name": "stdout",
     "output_type": "stream",
     "text": [
      "[1] \"simulations/alpha-2.0-cov-30/simulated_data/haplotypes\"\n"
     ]
    }
   ],
   "source": [
    "output_dir <- file.path(simulation_dir, \"simulated_data\")\n",
    "output_vcf_prefix <- file.path(output_dir, \"haplotypes\")\n",
    "reads_data_initial_prefix <- file.path(output_dir, \"reads_initial\", \"data\")\n",
    "set.seed(random_seed)\n",
    "print(output_dir)\n",
    "print(output_vcf_prefix)"
   ]
  },
  {
   "cell_type": "markdown",
   "id": "noticed-coating",
   "metadata": {
    "papermill": {
     "duration": 0.004209,
     "end_time": "2022-09-29T18:59:18.280261",
     "exception": false,
     "start_time": "2022-09-29T18:59:18.276052",
     "status": "completed"
    },
    "tags": []
   },
   "source": [
    "# 2. Generate simulated data\n",
    "\n",
    "This simulates *Salmonella* data using a reference genome and a tree."
   ]
  },
  {
   "cell_type": "code",
   "execution_count": 4,
   "id": "bright-polymer",
   "metadata": {
    "execution": {
     "iopub.execute_input": "2022-09-29T18:59:18.290638Z",
     "iopub.status.busy": "2022-09-29T18:59:18.288875Z",
     "iopub.status.idle": "2022-09-29T18:59:18.386049Z",
     "shell.execute_reply": "2022-09-29T18:59:18.384666Z"
    },
    "papermill": {
     "duration": 0.105893,
     "end_time": "2022-09-29T18:59:18.389726",
     "exception": false,
     "start_time": "2022-09-29T18:59:18.283833",
     "status": "completed"
    },
    "tags": []
   },
   "outputs": [
    {
     "data": {
      "text/html": [
       "TRUE"
      ],
      "text/latex": [
       "TRUE"
      ],
      "text/markdown": [
       "TRUE"
      ],
      "text/plain": [
       "[1] TRUE"
      ]
     },
     "metadata": {},
     "output_type": "display_data"
    }
   ],
   "source": [
    "library(jackalope)\n",
    "\n",
    "# Make sure we've complied with openmp\n",
    "jackalope:::using_openmp()"
   ]
  },
  {
   "cell_type": "code",
   "execution_count": 5,
   "id": "303635b1-41dc-4917-8e90-30832a9acafd",
   "metadata": {
    "execution": {
     "iopub.execute_input": "2022-09-29T18:59:18.404103Z",
     "iopub.status.busy": "2022-09-29T18:59:18.402729Z",
     "iopub.status.idle": "2022-09-29T18:59:18.423459Z",
     "shell.execute_reply": "2022-09-29T18:59:18.422232Z"
    },
    "papermill": {
     "duration": 0.030185,
     "end_time": "2022-09-29T18:59:18.426596",
     "exception": false,
     "start_time": "2022-09-29T18:59:18.396411",
     "status": "completed"
    },
    "tags": []
   },
   "outputs": [
    {
     "data": {
      "text/plain": [
       "< Set of 2 chromosomes >\n",
       "# Total size: 19,699 bp\n",
       "  name                             chromosome                             length\n",
       "chrom0     GTATTGCGAGGGTGGGGGAGTACGGCAG...CAAGAATGCAACCGACTCTGTCGGGACT     10834\n",
       "chrom1     CACCTCGAGCAGATCCTAGTTTGCGCGA...TGCGAATTTATCGCCTAATCCAATGTTA      8865"
      ]
     },
     "metadata": {},
     "output_type": "display_data"
    }
   ],
   "source": [
    "reference <- read_fasta(reference_file)\n",
    "reference_len <- sum(reference$sizes())\n",
    "reference"
   ]
  },
  {
   "cell_type": "code",
   "execution_count": 6,
   "id": "documented-helmet",
   "metadata": {
    "execution": {
     "iopub.execute_input": "2022-09-29T18:59:18.442154Z",
     "iopub.status.busy": "2022-09-29T18:59:18.440774Z",
     "iopub.status.idle": "2022-09-29T18:59:18.536217Z",
     "shell.execute_reply": "2022-09-29T18:59:18.534891Z"
    },
    "papermill": {
     "duration": 0.106543,
     "end_time": "2022-09-29T18:59:18.539549",
     "exception": false,
     "start_time": "2022-09-29T18:59:18.433006",
     "status": "completed"
    },
    "tags": []
   },
   "outputs": [
    {
     "data": {
      "text/plain": [
       "\n",
       "Phylogenetic tree with 60 tips and 59 internal nodes.\n",
       "\n",
       "Tip labels:\n",
       "  reference, SH12-013, SH12-014, SH10-015, SH10-014, SH11-002, ...\n",
       "Node labels:\n",
       "  Root, 1.000000, 0.000000, 0.000000, 1.000000, 0.000000, ...\n",
       "\n",
       "Rooted; includes branch lengths."
      ]
     },
     "metadata": {},
     "output_type": "display_data"
    }
   ],
   "source": [
    "library(ape)\n",
    "\n",
    "tree <- read.tree(initial_tree_file)\n",
    "tree <- root(tree, \"reference\", resolve.root=TRUE)\n",
    "tree"
   ]
  },
  {
   "cell_type": "code",
   "execution_count": 7,
   "id": "proved-silver",
   "metadata": {
    "execution": {
     "iopub.execute_input": "2022-09-29T18:59:18.554925Z",
     "iopub.status.busy": "2022-09-29T18:59:18.553563Z",
     "iopub.status.idle": "2022-09-29T18:59:18.690892Z",
     "shell.execute_reply": "2022-09-29T18:59:18.689599Z"
    },
    "papermill": {
     "duration": 0.147955,
     "end_time": "2022-09-29T18:59:18.694263",
     "exception": false,
     "start_time": "2022-09-29T18:59:18.546308",
     "status": "completed"
    },
    "tags": []
   },
   "outputs": [
    {
     "data": {
      "text/plain": [
       "                              << haplotypes object >>\n",
       "# Haplotypes: 60\n",
       "# Mutations: 84,916\n",
       "\n",
       "                          << Reference genome info: >>\n",
       "< Set of 2 chromosomes >\n",
       "# Total size: 19,699 bp\n",
       "  name                             chromosome                             length\n",
       "chrom0     GTATTGCGAGGGTGGGGGAGTACGGCAG...CAAGAATGCAACCGACTCTGTCGGGACT     10834\n",
       "chrom1     CACCTCGAGCAGATCCTAGTTTGCGCGA...TGCGAATTTATCGCCTAATCCAATGTTA      8865"
      ]
     },
     "metadata": {},
     "output_type": "display_data"
    }
   ],
   "source": [
    "sub <- sub_HKY85(pi_tcag = sub_pi_tcag, mu = sub_mu,\n",
    "                 alpha = sub_alpha, beta = sub_beta, gamma_shape=1, gamma_k = 5,\n",
    "                 invariant = sub_invariant)\n",
    "ins <- indels(rate = ins_rate, max_length = ins_max_length, a = ins_a)\n",
    "del <- indels(rate = del_rate, max_length = del_max_length, a = del_a)\n",
    "\n",
    "ref_haplotypes <- create_haplotypes(reference, haps_phylo(tree), sub=sub, ins=ins, del=del)\n",
    "ref_haplotypes"
   ]
  },
  {
   "cell_type": "markdown",
   "id": "535fa02d-c76c-4067-9582-74f3694d16ea",
   "metadata": {
    "papermill": {
     "duration": 0.004424,
     "end_time": "2022-09-29T18:59:18.705695",
     "exception": false,
     "start_time": "2022-09-29T18:59:18.701271",
     "status": "completed"
    },
    "tags": []
   },
   "source": [
    "# 3. Write simulated data"
   ]
  },
  {
   "cell_type": "code",
   "execution_count": 8,
   "id": "smoking-geology",
   "metadata": {
    "execution": {
     "iopub.execute_input": "2022-09-29T18:59:18.716930Z",
     "iopub.status.busy": "2022-09-29T18:59:18.715133Z",
     "iopub.status.idle": "2022-09-29T18:59:18.800459Z",
     "shell.execute_reply": "2022-09-29T18:59:18.799247Z"
    },
    "papermill": {
     "duration": 0.093386,
     "end_time": "2022-09-29T18:59:18.803432",
     "exception": false,
     "start_time": "2022-09-29T18:59:18.710046",
     "status": "completed"
    },
    "tags": []
   },
   "outputs": [],
   "source": [
    "write_vcf(ref_haplotypes, out_prefix=output_vcf_prefix, compress=TRUE)"
   ]
  },
  {
   "cell_type": "code",
   "execution_count": 9,
   "id": "d2657fc5-481e-4b24-bbf8-78c02ee735ce",
   "metadata": {
    "execution": {
     "iopub.execute_input": "2022-09-29T18:59:18.818359Z",
     "iopub.status.busy": "2022-09-29T18:59:18.817123Z",
     "iopub.status.idle": "2022-09-29T18:59:18.926336Z",
     "shell.execute_reply": "2022-09-29T18:59:18.924440Z"
    },
    "papermill": {
     "duration": 0.119505,
     "end_time": "2022-09-29T18:59:18.929898",
     "exception": false,
     "start_time": "2022-09-29T18:59:18.810393",
     "status": "completed"
    },
    "tags": []
   },
   "outputs": [],
   "source": [
    "assemblies_prefix = file.path(output_dir, \"assemblies\", \"data\")\n",
    "\n",
    "write_fasta(ref_haplotypes, out_prefix=assemblies_prefix,\n",
    "            compress=TRUE, n_threads=ncores, overwrite=TRUE)"
   ]
  },
  {
   "cell_type": "code",
   "execution_count": 10,
   "id": "continent-freeze",
   "metadata": {
    "execution": {
     "iopub.execute_input": "2022-09-29T18:59:18.945879Z",
     "iopub.status.busy": "2022-09-29T18:59:18.944694Z",
     "iopub.status.idle": "2022-09-29T19:04:16.280045Z",
     "shell.execute_reply": "2022-09-29T19:04:16.276007Z"
    },
    "papermill": {
     "duration": 297.346031,
     "end_time": "2022-09-29T19:04:16.283197",
     "exception": false,
     "start_time": "2022-09-29T18:59:18.937166",
     "status": "completed"
    },
    "tags": []
   },
   "outputs": [
    {
     "name": "stdout",
     "output_type": "stream",
     "text": [
      "[1] \"Number of reads for coverage 30X and read length 250 over 60 samples with respect to reference with length 19699: 141833\"\n"
     ]
    }
   ],
   "source": [
    "n_samples <- length(tree$tip)\n",
    "n_reads <- round((reference_len * read_coverage * n_samples) / read_length)\n",
    "print(sprintf(\"Number of reads for coverage %sX and read length %s over %s samples with respect to reference with length %s: %s\", \n",
    "              read_coverage, read_length, n_samples, reference_len, n_reads))\n",
    "\n",
    "illumina(ref_haplotypes, out_prefix = reads_data_initial_prefix, sep_files=TRUE, n_reads = n_reads,\n",
    "         frag_mean = read_length * 2 + 50, frag_sd = 100,\n",
    "         compress=TRUE, comp_method=\"bgzip\", n_threads=ncores,\n",
    "         paired=TRUE, read_length = read_length)"
   ]
  }
 ],
 "metadata": {
  "kernelspec": {
   "display_name": "R",
   "language": "R",
   "name": "ir"
  },
  "language_info": {
   "codemirror_mode": "r",
   "file_extension": ".r",
   "mimetype": "text/x-r-source",
   "name": "R",
   "pygments_lexer": "r",
   "version": "4.1.3"
  },
  "papermill": {
   "default_parameters": {},
   "duration": 300.074968,
   "end_time": "2022-09-29T19:04:16.940855",
   "environment_variables": {},
   "exception": null,
   "input_path": "template-1-simulate-reads.ipynb",
   "output_path": "1-simulate-reads.simulation-alpha-2.0.ipynb",
   "parameters": {
    "iterations": 3,
    "mincov": 10,
    "read_coverage": 30,
    "simulation_dir": "simulations/alpha-2.0-cov-30",
    "sub_alpha": 2.0
   },
   "start_time": "2022-09-29T18:59:16.865887",
   "version": "2.3.4"
  }
 },
 "nbformat": 4,
 "nbformat_minor": 5
}