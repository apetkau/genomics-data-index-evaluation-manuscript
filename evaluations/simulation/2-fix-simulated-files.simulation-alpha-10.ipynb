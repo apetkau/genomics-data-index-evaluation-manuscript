{
 "cells": [
  {
   "cell_type": "markdown",
   "id": "acfa5482-d626-44d6-b613-863e6911fa98",
   "metadata": {
    "papermill": {
     "duration": 0.007569,
     "end_time": "2022-10-18T22:29:40.034113",
     "exception": false,
     "start_time": "2022-10-18T22:29:40.026544",
     "status": "completed"
    },
    "tags": []
   },
   "source": [
    "# 1. Parameters"
   ]
  },
  {
   "cell_type": "code",
   "execution_count": 1,
   "id": "36126d74-a9d8-4431-ba49-767c1fc2ec49",
   "metadata": {
    "execution": {
     "iopub.execute_input": "2022-10-18T22:29:40.046483Z",
     "iopub.status.busy": "2022-10-18T22:29:40.045609Z",
     "iopub.status.idle": "2022-10-18T22:29:40.062718Z",
     "shell.execute_reply": "2022-10-18T22:29:40.061230Z"
    },
    "papermill": {
     "duration": 0.026359,
     "end_time": "2022-10-18T22:29:40.065634",
     "exception": false,
     "start_time": "2022-10-18T22:29:40.039275",
     "status": "completed"
    },
    "tags": [
     "parameters"
    ]
   },
   "outputs": [],
   "source": [
    "# Defaults\n",
    "simulation_dir = 'simulations/unset'\n",
    "ncores = 48"
   ]
  },
  {
   "cell_type": "code",
   "execution_count": 2,
   "id": "5e0ded3c",
   "metadata": {
    "execution": {
     "iopub.execute_input": "2022-10-18T22:29:40.078457Z",
     "iopub.status.busy": "2022-10-18T22:29:40.077920Z",
     "iopub.status.idle": "2022-10-18T22:29:40.084535Z",
     "shell.execute_reply": "2022-10-18T22:29:40.083272Z"
    },
    "papermill": {
     "duration": 0.01654,
     "end_time": "2022-10-18T22:29:40.087261",
     "exception": false,
     "start_time": "2022-10-18T22:29:40.070721",
     "status": "completed"
    },
    "tags": [
     "injected-parameters"
    ]
   },
   "outputs": [],
   "source": [
    "# Parameters\n",
    "read_coverage = 30\n",
    "mincov = 10\n",
    "simulation_dir = \"simulations/alpha-10-cov-30\"\n",
    "iterations = 1\n",
    "sub_alpha = 10\n"
   ]
  },
  {
   "cell_type": "code",
   "execution_count": 3,
   "id": "15e911d7-0ffc-4110-aefe-71bc77e689cd",
   "metadata": {
    "execution": {
     "iopub.execute_input": "2022-10-18T22:29:40.098699Z",
     "iopub.status.busy": "2022-10-18T22:29:40.098183Z",
     "iopub.status.idle": "2022-10-18T22:29:40.107778Z",
     "shell.execute_reply": "2022-10-18T22:29:40.106315Z"
    },
    "papermill": {
     "duration": 0.018668,
     "end_time": "2022-10-18T22:29:40.110755",
     "exception": false,
     "start_time": "2022-10-18T22:29:40.092087",
     "status": "completed"
    },
    "tags": []
   },
   "outputs": [],
   "source": [
    "from pathlib import Path\n",
    "import os\n",
    "\n",
    "simulation_data_dir = Path(simulation_dir) / 'simulated_data'\n",
    "initial_reads_dir = simulation_data_dir / 'reads_initial'\n",
    "reads_dir = simulation_data_dir / 'reads'\n",
    "assemblies_dir = simulation_data_dir / 'assemblies'\n",
    "assembled_reads_dir = simulation_data_dir / 'assembled_reads'\n",
    "\n",
    "if not reads_dir.exists():\n",
    "    os.mkdir(reads_dir)\n",
    "    \n",
    "if not assembled_reads_dir.exists():\n",
    "    os.mkdir(assembled_reads_dir)"
   ]
  },
  {
   "cell_type": "markdown",
   "id": "rotary-regard",
   "metadata": {
    "papermill": {
     "duration": 0.003929,
     "end_time": "2022-10-18T22:29:40.119165",
     "exception": false,
     "start_time": "2022-10-18T22:29:40.115236",
     "status": "completed"
    },
    "tags": []
   },
   "source": [
    "# 2. Fix reads\n",
    "\n",
    "Fix read file names and data so they can be indexed."
   ]
  },
  {
   "cell_type": "code",
   "execution_count": 4,
   "id": "convenient-blackberry",
   "metadata": {
    "execution": {
     "iopub.execute_input": "2022-10-18T22:29:40.129133Z",
     "iopub.status.busy": "2022-10-18T22:29:40.128475Z",
     "iopub.status.idle": "2022-10-18T22:29:40.314401Z",
     "shell.execute_reply": "2022-10-18T22:29:40.312651Z"
    },
    "papermill": {
     "duration": 0.1949,
     "end_time": "2022-10-18T22:29:40.318190",
     "exception": false,
     "start_time": "2022-10-18T22:29:40.123290",
     "status": "completed"
    },
    "tags": []
   },
   "outputs": [
    {
     "name": "stdout",
     "output_type": "stream",
     "text": [
      "~/workspace/genomics-data-index-evaluation-manuscript/evaluations/simulation/simulations/alpha-10-cov-30/simulated_data/reads_initial ~/workspace/genomics-data-index-evaluation-manuscript/evaluations/simulation\r\n"
     ]
    },
    {
     "name": "stdout",
     "output_type": "stream",
     "text": [
      "~/workspace/genomics-data-index-evaluation-manuscript/evaluations/simulation\r\n"
     ]
    }
   ],
   "source": [
    "import os\n",
    "\n",
    "# Fix warning about locale unset\n",
    "os.environ['LANG'] = 'en_US.UTF-8'\n",
    "\n",
    "!pushd {initial_reads_dir}; prename 's/data_//' *.fq.gz; popd"
   ]
  },
  {
   "cell_type": "markdown",
   "id": "median-belle",
   "metadata": {
    "papermill": {
     "duration": 0.005208,
     "end_time": "2022-10-18T22:29:40.329643",
     "exception": false,
     "start_time": "2022-10-18T22:29:40.324435",
     "status": "completed"
    },
    "tags": []
   },
   "source": [
    "Jackalope produces reads with non-standard identifiers where pairs of reads don't have matching identifiers. For example:\n",
    "\n",
    "* Pair 1: `@SH08-001-NC_011083-3048632-R/1`\n",
    "* Pair 2: `@SH08-001-NC_011083-3048396-F/2`\n",
    "\n",
    "In order to run snippy, these paired identifiers need to match (except for the `/1` and `/2` suffix).\n",
    "\n",
    "So, I have to replace them all with something unique, but which matches in each pair of files. I do this by replacing the position (I think) with the read number (as it appears in the file). So the above identifiers become:\n",
    "\n",
    "* Pair 1: `@SH08-001-NC_011083-1/1`\n",
    "* Pair 2: `@SH08-001-NC_011083-1/2`"
   ]
  },
  {
   "cell_type": "code",
   "execution_count": 5,
   "id": "remarkable-berry",
   "metadata": {
    "execution": {
     "iopub.execute_input": "2022-10-18T22:29:40.340466Z",
     "iopub.status.busy": "2022-10-18T22:29:40.339688Z",
     "iopub.status.idle": "2022-10-18T22:29:41.367232Z",
     "shell.execute_reply": "2022-10-18T22:29:41.365052Z"
    },
    "papermill": {
     "duration": 1.037793,
     "end_time": "2022-10-18T22:29:41.371311",
     "exception": false,
     "start_time": "2022-10-18T22:29:40.333518",
     "status": "completed"
    },
    "tags": []
   },
   "outputs": [],
   "source": [
    "import glob\n",
    "import os\n",
    "\n",
    "files = [os.path.basename(f) for f in glob.glob(f'{initial_reads_dir}/*.fq.gz')]\n",
    "!parallel -j {ncores} -I% 'gzip -d --stdout {initial_reads_dir}/% | perl scripts/replace-fastq-header.pl | gzip > {reads_dir}/%' \\\n",
    "    ::: {' '.join(files)}"
   ]
  },
  {
   "cell_type": "code",
   "execution_count": 6,
   "id": "8318e7a8-1057-4e4f-aaec-fccdec42a75f",
   "metadata": {
    "execution": {
     "iopub.execute_input": "2022-10-18T22:29:41.387153Z",
     "iopub.status.busy": "2022-10-18T22:29:41.386584Z",
     "iopub.status.idle": "2022-10-18T22:29:41.407978Z",
     "shell.execute_reply": "2022-10-18T22:29:41.406774Z"
    },
    "papermill": {
     "duration": 0.033556,
     "end_time": "2022-10-18T22:29:41.411489",
     "exception": false,
     "start_time": "2022-10-18T22:29:41.377933",
     "status": "completed"
    },
    "tags": []
   },
   "outputs": [],
   "source": [
    "import shutil\n",
    "\n",
    "shutil.rmtree(initial_reads_dir)"
   ]
  },
  {
   "cell_type": "markdown",
   "id": "cf630b4f-ed63-4e14-9657-e0aaea0953ab",
   "metadata": {
    "papermill": {
     "duration": 0.006137,
     "end_time": "2022-10-18T22:29:41.424003",
     "exception": false,
     "start_time": "2022-10-18T22:29:41.417866",
     "status": "completed"
    },
    "tags": []
   },
   "source": [
    "# 3. Fix assemblies\n",
    "\n",
    "Fix assembly genome names"
   ]
  },
  {
   "cell_type": "code",
   "execution_count": 7,
   "id": "08fac610-3ab3-4afa-9873-406973041963",
   "metadata": {
    "execution": {
     "iopub.execute_input": "2022-10-18T22:29:41.435274Z",
     "iopub.status.busy": "2022-10-18T22:29:41.434743Z",
     "iopub.status.idle": "2022-10-18T22:29:41.615251Z",
     "shell.execute_reply": "2022-10-18T22:29:41.613399Z"
    },
    "papermill": {
     "duration": 0.190053,
     "end_time": "2022-10-18T22:29:41.619196",
     "exception": false,
     "start_time": "2022-10-18T22:29:41.429143",
     "status": "completed"
    },
    "tags": []
   },
   "outputs": [
    {
     "name": "stdout",
     "output_type": "stream",
     "text": [
      "~/workspace/genomics-data-index-evaluation-manuscript/evaluations/simulation/simulations/alpha-10-cov-30/simulated_data/assemblies ~/workspace/genomics-data-index-evaluation-manuscript/evaluations/simulation\r\n"
     ]
    },
    {
     "name": "stdout",
     "output_type": "stream",
     "text": [
      "~/workspace/genomics-data-index-evaluation-manuscript/evaluations/simulation\r\n"
     ]
    }
   ],
   "source": [
    "!pushd {assemblies_dir}; prename 's/data__//' *.fa.gz; popd"
   ]
  },
  {
   "cell_type": "markdown",
   "id": "a0856fbc-ba98-4ba1-870b-6923cd636892",
   "metadata": {
    "papermill": {
     "duration": 0.004661,
     "end_time": "2022-10-18T22:29:41.630647",
     "exception": false,
     "start_time": "2022-10-18T22:29:41.625986",
     "status": "completed"
    },
    "tags": []
   },
   "source": [
    "# 4. Assemble reads\n",
    "\n",
    "Assemble reads to have another scenario of imperfect assemblies."
   ]
  },
  {
   "cell_type": "code",
   "execution_count": 8,
   "id": "c1a1b18f-ecd1-4ca3-af9f-ef44648edbd3",
   "metadata": {
    "execution": {
     "iopub.execute_input": "2022-10-18T22:29:41.661455Z",
     "iopub.status.busy": "2022-10-18T22:29:41.660873Z",
     "iopub.status.idle": "2022-10-18T22:29:42.914987Z",
     "shell.execute_reply": "2022-10-18T22:29:42.912950Z"
    },
    "papermill": {
     "duration": 1.266864,
     "end_time": "2022-10-18T22:29:42.918772",
     "exception": false,
     "start_time": "2022-10-18T22:29:41.651908",
     "status": "completed"
    },
    "tags": []
   },
   "outputs": [
    {
     "name": "stdout",
     "output_type": "stream",
     "text": [
      "SKESA 2.4.0\r\n",
      "\r\n",
      "skesa --version \r\n",
      "\r\n",
      "\r\n"
     ]
    }
   ],
   "source": [
    "!conda run -n skesa skesa --version"
   ]
  },
  {
   "cell_type": "code",
   "execution_count": 9,
   "id": "419476b6-ecce-477b-a838-d2419d1d160e",
   "metadata": {
    "execution": {
     "iopub.execute_input": "2022-10-18T22:29:42.933764Z",
     "iopub.status.busy": "2022-10-18T22:29:42.933180Z",
     "iopub.status.idle": "2022-10-18T22:30:00.741580Z",
     "shell.execute_reply": "2022-10-18T22:30:00.739615Z"
    },
    "papermill": {
     "duration": 17.820335,
     "end_time": "2022-10-18T22:30:00.745933",
     "exception": false,
     "start_time": "2022-10-18T22:29:42.925598",
     "status": "completed"
    },
    "tags": []
   },
   "outputs": [],
   "source": [
    "import glob\n",
    "import re\n",
    "\n",
    "fastq_names = [os.path.basename(f) for f in glob.glob(f'{reads_dir}/*_R1.fq.gz')]\n",
    "sample_names = [re.sub(r'_R\\d.fq.gz', '', f) for f in fastq_names]\n",
    "!parallel -j {ncores} -I% 'conda run -n skesa skesa --reads {reads_dir}/%_R1.fq.gz,{reads_dir}/%_R2.fq.gz --contigs_out {assembled_reads_dir}/%.fasta > {assembled_reads_dir}/log.% 2>&1' \\\n",
    "    ::: {' '.join(sample_names)}"
   ]
  }
 ],
 "metadata": {
  "kernelspec": {
   "display_name": "Python 3 (ipykernel)",
   "language": "python",
   "name": "python3"
  },
  "language_info": {
   "codemirror_mode": {
    "name": "ipython",
    "version": 3
   },
   "file_extension": ".py",
   "mimetype": "text/x-python",
   "name": "python",
   "nbconvert_exporter": "python",
   "pygments_lexer": "ipython3",
   "version": "3.8.13"
  },
  "papermill": {
   "default_parameters": {},
   "duration": 22.339662,
   "end_time": "2022-10-18T22:30:00.975704",
   "environment_variables": {},
   "exception": null,
   "input_path": "template-2-fix-simulated-files.ipynb",
   "output_path": "2-fix-simulated-files.simulation-alpha-10.ipynb",
   "parameters": {
    "iterations": 1,
    "mincov": 10,
    "read_coverage": 30,
    "simulation_dir": "simulations/alpha-10-cov-30",
    "sub_alpha": 10
   },
   "start_time": "2022-10-18T22:29:38.636042",
   "version": "2.3.4"
  }
 },
 "nbformat": 4,
 "nbformat_minor": 5
}