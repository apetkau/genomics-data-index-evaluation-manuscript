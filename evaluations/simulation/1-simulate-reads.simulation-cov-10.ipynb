{
 "cells": [
  {
   "cell_type": "markdown",
   "id": "39afc998-7d9f-4d4e-9147-fb6198f83f2d",
   "metadata": {
    "papermill": {
     "duration": 0.007788,
     "end_time": "2022-10-18T22:42:11.189126",
     "exception": false,
     "start_time": "2022-10-18T22:42:11.181338",
     "status": "completed"
    },
    "tags": []
   },
   "source": [
    "# 1. Parameters"
   ]
  },
  {
   "cell_type": "code",
   "execution_count": 1,
   "id": "8eee723b-55a2-4355-b867-c5e682a9f800",
   "metadata": {
    "execution": {
     "iopub.execute_input": "2022-10-18T22:42:11.244312Z",
     "iopub.status.busy": "2022-10-18T22:42:11.241717Z",
     "iopub.status.idle": "2022-10-18T22:42:11.299012Z",
     "shell.execute_reply": "2022-10-18T22:42:11.297388Z"
    },
    "papermill": {
     "duration": 0.107755,
     "end_time": "2022-10-18T22:42:11.302708",
     "exception": false,
     "start_time": "2022-10-18T22:42:11.194953",
     "status": "completed"
    },
    "tags": [
     "parameters"
    ]
   },
   "outputs": [],
   "source": [
    "# Defaults\n",
    "\n",
    "## Random seed\n",
    "random_seed <- 25524\n",
    "\n",
    "## Directories\n",
    "simulation_dir <- \"simulations/unset\"\n",
    "reference_file <- \"simulations/reference/reference.fa.gz\"\n",
    "initial_tree_file <- \"input/salmonella.tre\"\n",
    "\n",
    "## Simulation parameters\n",
    "sub_lambda <- 1e-2\n",
    "sub_pi_tcag <- c(0.1, 0.2, 0.3, 0.4)\n",
    "sub_alpha <- 0.2\n",
    "sub_beta <- sub_alpha/2\n",
    "sub_mu <- 1\n",
    "sub_invariant <- 0.3\n",
    "ins_rate <- 1e-4\n",
    "ins_max_length <- 60\n",
    "ins_a <- 1.6\n",
    "del_rate <- 1e-4\n",
    "del_max_length <- 60\n",
    "del_a <- 1.6\n",
    "\n",
    "## Read simulation information\n",
    "read_coverage <- 30\n",
    "read_length <- 250\n",
    "\n",
    "## Other\n",
    "ncores <- 48"
   ]
  },
  {
   "cell_type": "code",
   "execution_count": 2,
   "id": "5fb2992e",
   "metadata": {
    "execution": {
     "iopub.execute_input": "2022-10-18T22:42:11.352164Z",
     "iopub.status.busy": "2022-10-18T22:42:11.316528Z",
     "iopub.status.idle": "2022-10-18T22:42:11.365708Z",
     "shell.execute_reply": "2022-10-18T22:42:11.364488Z"
    },
    "papermill": {
     "duration": 0.059704,
     "end_time": "2022-10-18T22:42:11.368836",
     "exception": false,
     "start_time": "2022-10-18T22:42:11.309132",
     "status": "completed"
    },
    "tags": [
     "injected-parameters"
    ]
   },
   "outputs": [],
   "source": [
    "# Parameters\n",
    "read_coverage = 10\n",
    "mincov = 10\n",
    "simulation_dir = \"simulations/cov-10\"\n",
    "iterations = 1\n",
    "sub_alpha = 0.2\n"
   ]
  },
  {
   "cell_type": "code",
   "execution_count": 3,
   "id": "845350c4-9369-4350-bcce-504d05f5ff55",
   "metadata": {
    "execution": {
     "iopub.execute_input": "2022-10-18T22:42:11.381991Z",
     "iopub.status.busy": "2022-10-18T22:42:11.380744Z",
     "iopub.status.idle": "2022-10-18T22:42:11.401012Z",
     "shell.execute_reply": "2022-10-18T22:42:11.399732Z"
    },
    "papermill": {
     "duration": 0.029548,
     "end_time": "2022-10-18T22:42:11.404424",
     "exception": false,
     "start_time": "2022-10-18T22:42:11.374876",
     "status": "completed"
    },
    "tags": []
   },
   "outputs": [
    {
     "name": "stdout",
     "output_type": "stream",
     "text": [
      "[1] \"simulations/cov-10/simulated_data\"\n"
     ]
    },
    {
     "name": "stdout",
     "output_type": "stream",
     "text": [
      "[1] \"simulations/cov-10/simulated_data/haplotypes\"\n"
     ]
    }
   ],
   "source": [
    "output_dir <- file.path(simulation_dir, \"simulated_data\")\n",
    "output_vcf_prefix <- file.path(output_dir, \"haplotypes\")\n",
    "reads_data_initial_prefix <- file.path(output_dir, \"reads_initial\", \"data\")\n",
    "set.seed(random_seed)\n",
    "print(output_dir)\n",
    "print(output_vcf_prefix)"
   ]
  },
  {
   "cell_type": "markdown",
   "id": "noticed-coating",
   "metadata": {
    "papermill": {
     "duration": 0.004532,
     "end_time": "2022-10-18T22:42:11.414111",
     "exception": false,
     "start_time": "2022-10-18T22:42:11.409579",
     "status": "completed"
    },
    "tags": []
   },
   "source": [
    "# 2. Generate simulated data\n",
    "\n",
    "This simulates *Salmonella* data using a reference genome and a tree."
   ]
  },
  {
   "cell_type": "code",
   "execution_count": 4,
   "id": "bright-polymer",
   "metadata": {
    "execution": {
     "iopub.execute_input": "2022-10-18T22:42:11.423633Z",
     "iopub.status.busy": "2022-10-18T22:42:11.422100Z",
     "iopub.status.idle": "2022-10-18T22:42:11.513467Z",
     "shell.execute_reply": "2022-10-18T22:42:11.512226Z"
    },
    "papermill": {
     "duration": 0.099448,
     "end_time": "2022-10-18T22:42:11.517398",
     "exception": false,
     "start_time": "2022-10-18T22:42:11.417950",
     "status": "completed"
    },
    "tags": []
   },
   "outputs": [
    {
     "data": {
      "text/html": [
       "TRUE"
      ],
      "text/latex": [
       "TRUE"
      ],
      "text/markdown": [
       "TRUE"
      ],
      "text/plain": [
       "[1] TRUE"
      ]
     },
     "metadata": {},
     "output_type": "display_data"
    }
   ],
   "source": [
    "library(jackalope)\n",
    "\n",
    "# Make sure we've complied with openmp\n",
    "jackalope:::using_openmp()"
   ]
  },
  {
   "cell_type": "code",
   "execution_count": 5,
   "id": "303635b1-41dc-4917-8e90-30832a9acafd",
   "metadata": {
    "execution": {
     "iopub.execute_input": "2022-10-18T22:42:11.532294Z",
     "iopub.status.busy": "2022-10-18T22:42:11.531046Z",
     "iopub.status.idle": "2022-10-18T22:42:11.549357Z",
     "shell.execute_reply": "2022-10-18T22:42:11.548112Z"
    },
    "papermill": {
     "duration": 0.028237,
     "end_time": "2022-10-18T22:42:11.552252",
     "exception": false,
     "start_time": "2022-10-18T22:42:11.524015",
     "status": "completed"
    },
    "tags": []
   },
   "outputs": [
    {
     "data": {
      "text/plain": [
       "< Set of 2 chromosomes >\n",
       "# Total size: 19,699 bp\n",
       "  name                             chromosome                             length\n",
       "chrom0     GTATTGCGAGGGTGGGGGAGTACGGCAG...CAAGAATGCAACCGACTCTGTCGGGACT     10834\n",
       "chrom1     CACCTCGAGCAGATCCTAGTTTGCGCGA...TGCGAATTTATCGCCTAATCCAATGTTA      8865"
      ]
     },
     "metadata": {},
     "output_type": "display_data"
    }
   ],
   "source": [
    "reference <- read_fasta(reference_file)\n",
    "reference_len <- sum(reference$sizes())\n",
    "reference"
   ]
  },
  {
   "cell_type": "code",
   "execution_count": 6,
   "id": "documented-helmet",
   "metadata": {
    "execution": {
     "iopub.execute_input": "2022-10-18T22:42:11.565760Z",
     "iopub.status.busy": "2022-10-18T22:42:11.564529Z",
     "iopub.status.idle": "2022-10-18T22:42:11.646980Z",
     "shell.execute_reply": "2022-10-18T22:42:11.645446Z"
    },
    "papermill": {
     "duration": 0.091727,
     "end_time": "2022-10-18T22:42:11.650850",
     "exception": false,
     "start_time": "2022-10-18T22:42:11.559123",
     "status": "completed"
    },
    "tags": []
   },
   "outputs": [
    {
     "data": {
      "text/plain": [
       "\n",
       "Phylogenetic tree with 60 tips and 59 internal nodes.\n",
       "\n",
       "Tip labels:\n",
       "  reference, SH12-013, SH12-014, SH10-015, SH10-014, SH11-002, ...\n",
       "Node labels:\n",
       "  Root, 1.000000, 0.000000, 0.000000, 1.000000, 0.000000, ...\n",
       "\n",
       "Rooted; includes branch lengths."
      ]
     },
     "metadata": {},
     "output_type": "display_data"
    }
   ],
   "source": [
    "library(ape)\n",
    "\n",
    "tree <- read.tree(initial_tree_file)\n",
    "tree <- root(tree, \"reference\", resolve.root=TRUE)\n",
    "tree"
   ]
  },
  {
   "cell_type": "code",
   "execution_count": 7,
   "id": "proved-silver",
   "metadata": {
    "execution": {
     "iopub.execute_input": "2022-10-18T22:42:11.671217Z",
     "iopub.status.busy": "2022-10-18T22:42:11.667982Z",
     "iopub.status.idle": "2022-10-18T22:42:11.813334Z",
     "shell.execute_reply": "2022-10-18T22:42:11.811988Z"
    },
    "papermill": {
     "duration": 0.15839,
     "end_time": "2022-10-18T22:42:11.816496",
     "exception": false,
     "start_time": "2022-10-18T22:42:11.658106",
     "status": "completed"
    },
    "tags": []
   },
   "outputs": [
    {
     "data": {
      "text/plain": [
       "                              << haplotypes object >>\n",
       "# Haplotypes: 60\n",
       "# Mutations: 16,932\n",
       "\n",
       "                          << Reference genome info: >>\n",
       "< Set of 2 chromosomes >\n",
       "# Total size: 19,699 bp\n",
       "  name                             chromosome                             length\n",
       "chrom0     GTATTGCGAGGGTGGGGGAGTACGGCAG...CAAGAATGCAACCGACTCTGTCGGGACT     10834\n",
       "chrom1     CACCTCGAGCAGATCCTAGTTTGCGCGA...TGCGAATTTATCGCCTAATCCAATGTTA      8865"
      ]
     },
     "metadata": {},
     "output_type": "display_data"
    }
   ],
   "source": [
    "sub <- sub_HKY85(pi_tcag = sub_pi_tcag, mu = sub_mu,\n",
    "                 alpha = sub_alpha, beta = sub_beta, gamma_shape=1, gamma_k = 5,\n",
    "                 invariant = sub_invariant)\n",
    "ins <- indels(rate = ins_rate, max_length = ins_max_length, a = ins_a)\n",
    "del <- indels(rate = del_rate, max_length = del_max_length, a = del_a)\n",
    "\n",
    "ref_haplotypes <- create_haplotypes(reference, haps_phylo(tree), sub=sub, ins=ins, del=del)\n",
    "ref_haplotypes"
   ]
  },
  {
   "cell_type": "markdown",
   "id": "535fa02d-c76c-4067-9582-74f3694d16ea",
   "metadata": {
    "papermill": {
     "duration": 0.005265,
     "end_time": "2022-10-18T22:42:11.829384",
     "exception": false,
     "start_time": "2022-10-18T22:42:11.824119",
     "status": "completed"
    },
    "tags": []
   },
   "source": [
    "# 3. Write simulated data"
   ]
  },
  {
   "cell_type": "code",
   "execution_count": 8,
   "id": "smoking-geology",
   "metadata": {
    "execution": {
     "iopub.execute_input": "2022-10-18T22:42:11.843336Z",
     "iopub.status.busy": "2022-10-18T22:42:11.840175Z",
     "iopub.status.idle": "2022-10-18T22:42:11.881310Z",
     "shell.execute_reply": "2022-10-18T22:42:11.879939Z"
    },
    "papermill": {
     "duration": 0.050452,
     "end_time": "2022-10-18T22:42:11.884352",
     "exception": false,
     "start_time": "2022-10-18T22:42:11.833900",
     "status": "completed"
    },
    "tags": []
   },
   "outputs": [],
   "source": [
    "write_vcf(ref_haplotypes, out_prefix=output_vcf_prefix, compress=TRUE)"
   ]
  },
  {
   "cell_type": "code",
   "execution_count": 9,
   "id": "d2657fc5-481e-4b24-bbf8-78c02ee735ce",
   "metadata": {
    "execution": {
     "iopub.execute_input": "2022-10-18T22:42:11.903968Z",
     "iopub.status.busy": "2022-10-18T22:42:11.900845Z",
     "iopub.status.idle": "2022-10-18T22:42:12.020833Z",
     "shell.execute_reply": "2022-10-18T22:42:12.016541Z"
    },
    "papermill": {
     "duration": 0.13358,
     "end_time": "2022-10-18T22:42:12.025543",
     "exception": false,
     "start_time": "2022-10-18T22:42:11.891963",
     "status": "completed"
    },
    "tags": []
   },
   "outputs": [],
   "source": [
    "assemblies_prefix = file.path(output_dir, \"assemblies\", \"data\")\n",
    "\n",
    "write_fasta(ref_haplotypes, out_prefix=assemblies_prefix,\n",
    "            compress=TRUE, n_threads=ncores, overwrite=TRUE)"
   ]
  },
  {
   "cell_type": "code",
   "execution_count": 10,
   "id": "continent-freeze",
   "metadata": {
    "execution": {
     "iopub.execute_input": "2022-10-18T22:42:12.041601Z",
     "iopub.status.busy": "2022-10-18T22:42:12.039475Z",
     "iopub.status.idle": "2022-10-18T22:47:46.145978Z",
     "shell.execute_reply": "2022-10-18T22:47:46.143095Z"
    },
    "papermill": {
     "duration": 334.117012,
     "end_time": "2022-10-18T22:47:46.149251",
     "exception": false,
     "start_time": "2022-10-18T22:42:12.032239",
     "status": "completed"
    },
    "tags": []
   },
   "outputs": [
    {
     "name": "stdout",
     "output_type": "stream",
     "text": [
      "[1] \"Number of reads for coverage 10X and read length 250 over 60 samples with respect to reference with length 19699: 47278\"\n"
     ]
    }
   ],
   "source": [
    "n_samples <- length(tree$tip)\n",
    "n_reads <- round((reference_len * read_coverage * n_samples) / read_length)\n",
    "print(sprintf(\"Number of reads for coverage %sX and read length %s over %s samples with respect to reference with length %s: %s\", \n",
    "              read_coverage, read_length, n_samples, reference_len, n_reads))\n",
    "\n",
    "illumina(ref_haplotypes, out_prefix = reads_data_initial_prefix, sep_files=TRUE, n_reads = n_reads,\n",
    "         frag_mean = read_length * 2 + 50, frag_sd = 100,\n",
    "         compress=TRUE, comp_method=\"bgzip\", n_threads=ncores,\n",
    "         paired=TRUE, read_length = read_length)"
   ]
  },
  {
   "cell_type": "code",
   "execution_count": 11,
   "id": "22be4c4e-3289-43f7-852b-4357eb4dd758",
   "metadata": {
    "execution": {
     "iopub.execute_input": "2022-10-18T22:47:46.171108Z",
     "iopub.status.busy": "2022-10-18T22:47:46.169776Z",
     "iopub.status.idle": "2022-10-18T22:47:46.208124Z",
     "shell.execute_reply": "2022-10-18T22:47:46.206721Z"
    },
    "papermill": {
     "duration": 0.053228,
     "end_time": "2022-10-18T22:47:46.210892",
     "exception": false,
     "start_time": "2022-10-18T22:47:46.157664",
     "status": "completed"
    },
    "tags": []
   },
   "outputs": [
    {
     "name": "stdout",
     "output_type": "stream",
     "text": [
      "[1] \"Renaming: simulations/cov-10/simulated_data/reads_initial/data_reference_R1.fq.gz to simulations/cov-10/simulated_data/reads_initial/data_reference-simulated_R1.fq.gz\"\n"
     ]
    },
    {
     "name": "stdout",
     "output_type": "stream",
     "text": [
      "[1] \"Renaming: simulations/cov-10/simulated_data/reads_initial/data_reference_R2.fq.gz to simulations/cov-10/simulated_data/reads_initial/data_reference-simulated_R2.fq.gz\"\n"
     ]
    }
   ],
   "source": [
    "# Rename the simulated reads for the reference genome\n",
    "ref1 <- paste(toString(reads_data_initial_prefix), \"_reference_R1.fq.gz\", sep=\"\")\n",
    "ref2 <- paste(toString(reads_data_initial_prefix), \"_reference_R2.fq.gz\", sep=\"\")\n",
    "\n",
    "newref1 <- paste(toString(reads_data_initial_prefix), \"_reference-simulated_R1.fq.gz\", sep=\"\")\n",
    "newref2 <- paste(toString(reads_data_initial_prefix), \"_reference-simulated_R2.fq.gz\", sep=\"\")\n",
    "\n",
    "if (file.exists(ref1)) {\n",
    "    file.rename(ref1, newref1)\n",
    "    print(sprintf(\"Renaming: %s to %s\", ref1, newref1))\n",
    "}\n",
    "if (file.exists(ref2)) {\n",
    "    file.rename(ref2, newref2)\n",
    "    print(sprintf(\"Renaming: %s to %s\", ref2, newref2))\n",
    "}"
   ]
  }
 ],
 "metadata": {
  "kernelspec": {
   "display_name": "R",
   "language": "R",
   "name": "ir"
  },
  "language_info": {
   "codemirror_mode": "r",
   "file_extension": ".r",
   "mimetype": "text/x-r-source",
   "name": "R",
   "pygments_lexer": "r",
   "version": "4.1.3"
  },
  "papermill": {
   "default_parameters": {},
   "duration": 336.640014,
   "end_time": "2022-10-18T22:47:46.740247",
   "environment_variables": {},
   "exception": null,
   "input_path": "template-1-simulate-reads.ipynb",
   "output_path": "1-simulate-reads.simulation-cov-10.ipynb",
   "parameters": {
    "iterations": 1,
    "mincov": 10,
    "read_coverage": 10,
    "simulation_dir": "simulations/cov-10",
    "sub_alpha": 0.2
   },
   "start_time": "2022-10-18T22:42:10.100233",
   "version": "2.3.4"
  }
 },
 "nbformat": 4,
 "nbformat_minor": 5
}