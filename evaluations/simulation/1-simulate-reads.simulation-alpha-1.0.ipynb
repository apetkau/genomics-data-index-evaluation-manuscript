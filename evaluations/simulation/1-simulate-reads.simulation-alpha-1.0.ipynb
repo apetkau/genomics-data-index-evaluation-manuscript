{
 "cells": [
  {
   "cell_type": "markdown",
   "id": "39afc998-7d9f-4d4e-9147-fb6198f83f2d",
   "metadata": {
    "papermill": {
     "duration": 0.007021,
     "end_time": "2022-09-29T18:49:04.381948",
     "exception": false,
     "start_time": "2022-09-29T18:49:04.374927",
     "status": "completed"
    },
    "tags": []
   },
   "source": [
    "# 1. Parameters"
   ]
  },
  {
   "cell_type": "code",
   "execution_count": 1,
   "id": "8eee723b-55a2-4355-b867-c5e682a9f800",
   "metadata": {
    "execution": {
     "iopub.execute_input": "2022-09-29T18:49:04.401775Z",
     "iopub.status.busy": "2022-09-29T18:49:04.395047Z",
     "iopub.status.idle": "2022-09-29T18:49:04.468677Z",
     "shell.execute_reply": "2022-09-29T18:49:04.467001Z"
    },
    "papermill": {
     "duration": 0.084702,
     "end_time": "2022-09-29T18:49:04.472259",
     "exception": false,
     "start_time": "2022-09-29T18:49:04.387557",
     "status": "completed"
    },
    "tags": [
     "parameters"
    ]
   },
   "outputs": [],
   "source": [
    "# Defaults\n",
    "\n",
    "## Random seed\n",
    "random_seed <- 25524\n",
    "\n",
    "## Directories\n",
    "simulation_dir <- \"simulations/unset\"\n",
    "reference_file <- \"simulations/reference/reference.fa.gz\"\n",
    "initial_tree_file <- \"input/salmonella.tre\"\n",
    "\n",
    "## Simulation parameters\n",
    "sub_lambda <- 1e-2\n",
    "sub_pi_tcag <- c(0.1, 0.2, 0.3, 0.4)\n",
    "sub_alpha <- 0.2\n",
    "sub_beta <- sub_alpha/2\n",
    "sub_mu <- 1\n",
    "sub_invariant <- 0.3\n",
    "ins_rate <- 1e-4\n",
    "ins_max_length <- 60\n",
    "ins_a <- 1.6\n",
    "del_rate <- 1e-4\n",
    "del_max_length <- 60\n",
    "del_a <- 1.6\n",
    "\n",
    "## Read simulation information\n",
    "read_coverage <- 30\n",
    "read_length <- 250\n",
    "\n",
    "## Other\n",
    "ncores <- 48"
   ]
  },
  {
   "cell_type": "code",
   "execution_count": 2,
   "id": "0534110b",
   "metadata": {
    "execution": {
     "iopub.execute_input": "2022-09-29T18:49:04.517773Z",
     "iopub.status.busy": "2022-09-29T18:49:04.484458Z",
     "iopub.status.idle": "2022-09-29T18:49:04.531418Z",
     "shell.execute_reply": "2022-09-29T18:49:04.530225Z"
    },
    "papermill": {
     "duration": 0.056589,
     "end_time": "2022-09-29T18:49:04.534461",
     "exception": false,
     "start_time": "2022-09-29T18:49:04.477872",
     "status": "completed"
    },
    "tags": [
     "injected-parameters"
    ]
   },
   "outputs": [],
   "source": [
    "# Parameters\n",
    "read_coverage = 30\n",
    "mincov = 10\n",
    "simulation_dir = \"simulations/alpha-1.0-cov-30\"\n",
    "iterations = 3\n",
    "sub_alpha = 1.0\n"
   ]
  },
  {
   "cell_type": "code",
   "execution_count": 3,
   "id": "845350c4-9369-4350-bcce-504d05f5ff55",
   "metadata": {
    "execution": {
     "iopub.execute_input": "2022-09-29T18:49:04.547185Z",
     "iopub.status.busy": "2022-09-29T18:49:04.545937Z",
     "iopub.status.idle": "2022-09-29T18:49:04.566756Z",
     "shell.execute_reply": "2022-09-29T18:49:04.565507Z"
    },
    "papermill": {
     "duration": 0.029345,
     "end_time": "2022-09-29T18:49:04.569375",
     "exception": false,
     "start_time": "2022-09-29T18:49:04.540030",
     "status": "completed"
    },
    "tags": []
   },
   "outputs": [
    {
     "name": "stdout",
     "output_type": "stream",
     "text": [
      "[1] \"simulations/alpha-1.0-cov-30/simulated_data\"\n"
     ]
    },
    {
     "name": "stdout",
     "output_type": "stream",
     "text": [
      "[1] \"simulations/alpha-1.0-cov-30/simulated_data/haplotypes\"\n"
     ]
    }
   ],
   "source": [
    "output_dir <- file.path(simulation_dir, \"simulated_data\")\n",
    "output_vcf_prefix <- file.path(output_dir, \"haplotypes\")\n",
    "reads_data_initial_prefix <- file.path(output_dir, \"reads_initial\", \"data\")\n",
    "set.seed(random_seed)\n",
    "print(output_dir)\n",
    "print(output_vcf_prefix)"
   ]
  },
  {
   "cell_type": "markdown",
   "id": "noticed-coating",
   "metadata": {
    "papermill": {
     "duration": 0.00398,
     "end_time": "2022-09-29T18:49:04.578190",
     "exception": false,
     "start_time": "2022-09-29T18:49:04.574210",
     "status": "completed"
    },
    "tags": []
   },
   "source": [
    "# 2. Generate simulated data\n",
    "\n",
    "This simulates *Salmonella* data using a reference genome and a tree."
   ]
  },
  {
   "cell_type": "code",
   "execution_count": 4,
   "id": "bright-polymer",
   "metadata": {
    "execution": {
     "iopub.execute_input": "2022-09-29T18:49:04.587556Z",
     "iopub.status.busy": "2022-09-29T18:49:04.586297Z",
     "iopub.status.idle": "2022-09-29T18:49:04.678452Z",
     "shell.execute_reply": "2022-09-29T18:49:04.677174Z"
    },
    "papermill": {
     "duration": 0.098865,
     "end_time": "2022-09-29T18:49:04.681148",
     "exception": false,
     "start_time": "2022-09-29T18:49:04.582283",
     "status": "completed"
    },
    "tags": []
   },
   "outputs": [
    {
     "data": {
      "text/html": [
       "TRUE"
      ],
      "text/latex": [
       "TRUE"
      ],
      "text/markdown": [
       "TRUE"
      ],
      "text/plain": [
       "[1] TRUE"
      ]
     },
     "metadata": {},
     "output_type": "display_data"
    }
   ],
   "source": [
    "library(jackalope)\n",
    "\n",
    "# Make sure we've complied with openmp\n",
    "jackalope:::using_openmp()"
   ]
  },
  {
   "cell_type": "code",
   "execution_count": 5,
   "id": "303635b1-41dc-4917-8e90-30832a9acafd",
   "metadata": {
    "execution": {
     "iopub.execute_input": "2022-09-29T18:49:04.696425Z",
     "iopub.status.busy": "2022-09-29T18:49:04.695167Z",
     "iopub.status.idle": "2022-09-29T18:49:04.717155Z",
     "shell.execute_reply": "2022-09-29T18:49:04.712203Z"
    },
    "papermill": {
     "duration": 0.033131,
     "end_time": "2022-09-29T18:49:04.720105",
     "exception": false,
     "start_time": "2022-09-29T18:49:04.686974",
     "status": "completed"
    },
    "tags": []
   },
   "outputs": [
    {
     "data": {
      "text/plain": [
       "< Set of 2 chromosomes >\n",
       "# Total size: 19,699 bp\n",
       "  name                             chromosome                             length\n",
       "chrom0     GTATTGCGAGGGTGGGGGAGTACGGCAG...CAAGAATGCAACCGACTCTGTCGGGACT     10834\n",
       "chrom1     CACCTCGAGCAGATCCTAGTTTGCGCGA...TGCGAATTTATCGCCTAATCCAATGTTA      8865"
      ]
     },
     "metadata": {},
     "output_type": "display_data"
    }
   ],
   "source": [
    "reference <- read_fasta(reference_file)\n",
    "reference_len <- sum(reference$sizes())\n",
    "reference"
   ]
  },
  {
   "cell_type": "code",
   "execution_count": 6,
   "id": "documented-helmet",
   "metadata": {
    "execution": {
     "iopub.execute_input": "2022-09-29T18:49:04.736678Z",
     "iopub.status.busy": "2022-09-29T18:49:04.734893Z",
     "iopub.status.idle": "2022-09-29T18:49:04.831102Z",
     "shell.execute_reply": "2022-09-29T18:49:04.829603Z"
    },
    "papermill": {
     "duration": 0.107587,
     "end_time": "2022-09-29T18:49:04.834138",
     "exception": false,
     "start_time": "2022-09-29T18:49:04.726551",
     "status": "completed"
    },
    "tags": []
   },
   "outputs": [
    {
     "data": {
      "text/plain": [
       "\n",
       "Phylogenetic tree with 60 tips and 59 internal nodes.\n",
       "\n",
       "Tip labels:\n",
       "  reference, SH12-013, SH12-014, SH10-015, SH10-014, SH11-002, ...\n",
       "Node labels:\n",
       "  Root, 1.000000, 0.000000, 0.000000, 1.000000, 0.000000, ...\n",
       "\n",
       "Rooted; includes branch lengths."
      ]
     },
     "metadata": {},
     "output_type": "display_data"
    }
   ],
   "source": [
    "library(ape)\n",
    "\n",
    "tree <- read.tree(initial_tree_file)\n",
    "tree <- root(tree, \"reference\", resolve.root=TRUE)\n",
    "tree"
   ]
  },
  {
   "cell_type": "code",
   "execution_count": 7,
   "id": "proved-silver",
   "metadata": {
    "execution": {
     "iopub.execute_input": "2022-09-29T18:49:04.857151Z",
     "iopub.status.busy": "2022-09-29T18:49:04.855521Z",
     "iopub.status.idle": "2022-09-29T18:49:04.986284Z",
     "shell.execute_reply": "2022-09-29T18:49:04.984906Z"
    },
    "papermill": {
     "duration": 0.148516,
     "end_time": "2022-09-29T18:49:04.989418",
     "exception": false,
     "start_time": "2022-09-29T18:49:04.840902",
     "status": "completed"
    },
    "tags": []
   },
   "outputs": [
    {
     "data": {
      "text/plain": [
       "                              << haplotypes object >>\n",
       "# Haplotypes: 60\n",
       "# Mutations: 52,250\n",
       "\n",
       "                          << Reference genome info: >>\n",
       "< Set of 2 chromosomes >\n",
       "# Total size: 19,699 bp\n",
       "  name                             chromosome                             length\n",
       "chrom0     GTATTGCGAGGGTGGGGGAGTACGGCAG...CAAGAATGCAACCGACTCTGTCGGGACT     10834\n",
       "chrom1     CACCTCGAGCAGATCCTAGTTTGCGCGA...TGCGAATTTATCGCCTAATCCAATGTTA      8865"
      ]
     },
     "metadata": {},
     "output_type": "display_data"
    }
   ],
   "source": [
    "sub <- sub_HKY85(pi_tcag = sub_pi_tcag, mu = sub_mu,\n",
    "                 alpha = sub_alpha, beta = sub_beta, gamma_shape=1, gamma_k = 5,\n",
    "                 invariant = sub_invariant)\n",
    "ins <- indels(rate = ins_rate, max_length = ins_max_length, a = ins_a)\n",
    "del <- indels(rate = del_rate, max_length = del_max_length, a = del_a)\n",
    "\n",
    "ref_haplotypes <- create_haplotypes(reference, haps_phylo(tree), sub=sub, ins=ins, del=del)\n",
    "ref_haplotypes"
   ]
  },
  {
   "cell_type": "markdown",
   "id": "535fa02d-c76c-4067-9582-74f3694d16ea",
   "metadata": {
    "papermill": {
     "duration": 0.004589,
     "end_time": "2022-09-29T18:49:05.000459",
     "exception": false,
     "start_time": "2022-09-29T18:49:04.995870",
     "status": "completed"
    },
    "tags": []
   },
   "source": [
    "# 3. Write simulated data"
   ]
  },
  {
   "cell_type": "code",
   "execution_count": 8,
   "id": "smoking-geology",
   "metadata": {
    "execution": {
     "iopub.execute_input": "2022-09-29T18:49:05.011941Z",
     "iopub.status.busy": "2022-09-29T18:49:05.010073Z",
     "iopub.status.idle": "2022-09-29T18:49:05.072923Z",
     "shell.execute_reply": "2022-09-29T18:49:05.071733Z"
    },
    "papermill": {
     "duration": 0.069963,
     "end_time": "2022-09-29T18:49:05.075046",
     "exception": false,
     "start_time": "2022-09-29T18:49:05.005083",
     "status": "completed"
    },
    "tags": []
   },
   "outputs": [],
   "source": [
    "write_vcf(ref_haplotypes, out_prefix=output_vcf_prefix, compress=TRUE)"
   ]
  },
  {
   "cell_type": "code",
   "execution_count": 9,
   "id": "d2657fc5-481e-4b24-bbf8-78c02ee735ce",
   "metadata": {
    "execution": {
     "iopub.execute_input": "2022-09-29T18:49:05.089642Z",
     "iopub.status.busy": "2022-09-29T18:49:05.088404Z",
     "iopub.status.idle": "2022-09-29T18:49:05.183953Z",
     "shell.execute_reply": "2022-09-29T18:49:05.179915Z"
    },
    "papermill": {
     "duration": 0.106464,
     "end_time": "2022-09-29T18:49:05.187603",
     "exception": false,
     "start_time": "2022-09-29T18:49:05.081139",
     "status": "completed"
    },
    "tags": []
   },
   "outputs": [],
   "source": [
    "assemblies_prefix = file.path(output_dir, \"assemblies\", \"data\")\n",
    "\n",
    "write_fasta(ref_haplotypes, out_prefix=assemblies_prefix,\n",
    "            compress=TRUE, n_threads=ncores, overwrite=TRUE)"
   ]
  },
  {
   "cell_type": "code",
   "execution_count": 10,
   "id": "continent-freeze",
   "metadata": {
    "execution": {
     "iopub.execute_input": "2022-09-29T18:49:05.198123Z",
     "iopub.status.busy": "2022-09-29T18:49:05.196610Z",
     "iopub.status.idle": "2022-09-29T18:54:04.274751Z",
     "shell.execute_reply": "2022-09-29T18:54:04.271944Z"
    },
    "papermill": {
     "duration": 299.086891,
     "end_time": "2022-09-29T18:54:04.278130",
     "exception": false,
     "start_time": "2022-09-29T18:49:05.191239",
     "status": "completed"
    },
    "tags": []
   },
   "outputs": [
    {
     "name": "stdout",
     "output_type": "stream",
     "text": [
      "[1] \"Number of reads for coverage 30X and read length 250 over 60 samples with respect to reference with length 19699: 141833\"\n"
     ]
    }
   ],
   "source": [
    "n_samples <- length(tree$tip)\n",
    "n_reads <- round((reference_len * read_coverage * n_samples) / read_length)\n",
    "print(sprintf(\"Number of reads for coverage %sX and read length %s over %s samples with respect to reference with length %s: %s\", \n",
    "              read_coverage, read_length, n_samples, reference_len, n_reads))\n",
    "\n",
    "illumina(ref_haplotypes, out_prefix = reads_data_initial_prefix, sep_files=TRUE, n_reads = n_reads,\n",
    "         frag_mean = read_length * 2 + 50, frag_sd = 100,\n",
    "         compress=TRUE, comp_method=\"bgzip\", n_threads=ncores,\n",
    "         paired=TRUE, read_length = read_length)"
   ]
  }
 ],
 "metadata": {
  "kernelspec": {
   "display_name": "R",
   "language": "R",
   "name": "ir"
  },
  "language_info": {
   "codemirror_mode": "r",
   "file_extension": ".r",
   "mimetype": "text/x-r-source",
   "name": "R",
   "pygments_lexer": "r",
   "version": "4.1.3"
  },
  "papermill": {
   "default_parameters": {},
   "duration": 301.96945,
   "end_time": "2022-09-29T18:54:04.941047",
   "environment_variables": {},
   "exception": null,
   "input_path": "template-1-simulate-reads.ipynb",
   "output_path": "1-simulate-reads.simulation-alpha-1.0.ipynb",
   "parameters": {
    "iterations": 3,
    "mincov": 10,
    "read_coverage": 30,
    "simulation_dir": "simulations/alpha-1.0-cov-30",
    "sub_alpha": 1.0
   },
   "start_time": "2022-09-29T18:49:02.971597",
   "version": "2.3.4"
  }
 },
 "nbformat": 4,
 "nbformat_minor": 5
}