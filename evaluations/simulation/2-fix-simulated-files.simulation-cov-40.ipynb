{
 "cells": [
  {
   "cell_type": "markdown",
   "id": "acfa5482-d626-44d6-b613-863e6911fa98",
   "metadata": {
    "papermill": {
     "duration": 0.007418,
     "end_time": "2022-10-18T23:05:31.964874",
     "exception": false,
     "start_time": "2022-10-18T23:05:31.957456",
     "status": "completed"
    },
    "tags": []
   },
   "source": [
    "# 1. Parameters"
   ]
  },
  {
   "cell_type": "code",
   "execution_count": 1,
   "id": "36126d74-a9d8-4431-ba49-767c1fc2ec49",
   "metadata": {
    "execution": {
     "iopub.execute_input": "2022-10-18T23:05:31.977867Z",
     "iopub.status.busy": "2022-10-18T23:05:31.977027Z",
     "iopub.status.idle": "2022-10-18T23:05:31.993670Z",
     "shell.execute_reply": "2022-10-18T23:05:31.992483Z"
    },
    "papermill": {
     "duration": 0.026537,
     "end_time": "2022-10-18T23:05:31.997542",
     "exception": false,
     "start_time": "2022-10-18T23:05:31.971005",
     "status": "completed"
    },
    "tags": [
     "parameters"
    ]
   },
   "outputs": [],
   "source": [
    "# Defaults\n",
    "simulation_dir = 'simulations/unset'\n",
    "ncores = 48"
   ]
  },
  {
   "cell_type": "code",
   "execution_count": 2,
   "id": "703c66d9",
   "metadata": {
    "execution": {
     "iopub.execute_input": "2022-10-18T23:05:32.011243Z",
     "iopub.status.busy": "2022-10-18T23:05:32.010719Z",
     "iopub.status.idle": "2022-10-18T23:05:32.017955Z",
     "shell.execute_reply": "2022-10-18T23:05:32.016467Z"
    },
    "papermill": {
     "duration": 0.017771,
     "end_time": "2022-10-18T23:05:32.021045",
     "exception": false,
     "start_time": "2022-10-18T23:05:32.003274",
     "status": "completed"
    },
    "tags": [
     "injected-parameters"
    ]
   },
   "outputs": [],
   "source": [
    "# Parameters\n",
    "read_coverage = 40\n",
    "mincov = 10\n",
    "simulation_dir = \"simulations/cov-40\"\n",
    "iterations = 1\n",
    "sub_alpha = 0.2\n"
   ]
  },
  {
   "cell_type": "code",
   "execution_count": 3,
   "id": "15e911d7-0ffc-4110-aefe-71bc77e689cd",
   "metadata": {
    "execution": {
     "iopub.execute_input": "2022-10-18T23:05:32.034951Z",
     "iopub.status.busy": "2022-10-18T23:05:32.033877Z",
     "iopub.status.idle": "2022-10-18T23:05:32.043571Z",
     "shell.execute_reply": "2022-10-18T23:05:32.042316Z"
    },
    "papermill": {
     "duration": 0.019696,
     "end_time": "2022-10-18T23:05:32.046836",
     "exception": false,
     "start_time": "2022-10-18T23:05:32.027140",
     "status": "completed"
    },
    "tags": []
   },
   "outputs": [],
   "source": [
    "from pathlib import Path\n",
    "import os\n",
    "\n",
    "simulation_data_dir = Path(simulation_dir) / 'simulated_data'\n",
    "initial_reads_dir = simulation_data_dir / 'reads_initial'\n",
    "reads_dir = simulation_data_dir / 'reads'\n",
    "assemblies_dir = simulation_data_dir / 'assemblies'\n",
    "assembled_reads_dir = simulation_data_dir / 'assembled_reads'\n",
    "\n",
    "if not reads_dir.exists():\n",
    "    os.mkdir(reads_dir)\n",
    "    \n",
    "if not assembled_reads_dir.exists():\n",
    "    os.mkdir(assembled_reads_dir)"
   ]
  },
  {
   "cell_type": "markdown",
   "id": "rotary-regard",
   "metadata": {
    "papermill": {
     "duration": 0.003786,
     "end_time": "2022-10-18T23:05:32.055480",
     "exception": false,
     "start_time": "2022-10-18T23:05:32.051694",
     "status": "completed"
    },
    "tags": []
   },
   "source": [
    "# 2. Fix reads\n",
    "\n",
    "Fix read file names and data so they can be indexed."
   ]
  },
  {
   "cell_type": "code",
   "execution_count": 4,
   "id": "convenient-blackberry",
   "metadata": {
    "execution": {
     "iopub.execute_input": "2022-10-18T23:05:32.064624Z",
     "iopub.status.busy": "2022-10-18T23:05:32.064111Z",
     "iopub.status.idle": "2022-10-18T23:05:32.248543Z",
     "shell.execute_reply": "2022-10-18T23:05:32.246886Z"
    },
    "papermill": {
     "duration": 0.192877,
     "end_time": "2022-10-18T23:05:32.252227",
     "exception": false,
     "start_time": "2022-10-18T23:05:32.059350",
     "status": "completed"
    },
    "tags": []
   },
   "outputs": [
    {
     "name": "stdout",
     "output_type": "stream",
     "text": [
      "~/workspace/genomics-data-index-evaluation-manuscript/evaluations/simulation/simulations/cov-40/simulated_data/reads_initial ~/workspace/genomics-data-index-evaluation-manuscript/evaluations/simulation\r\n"
     ]
    },
    {
     "name": "stdout",
     "output_type": "stream",
     "text": [
      "~/workspace/genomics-data-index-evaluation-manuscript/evaluations/simulation\r\n"
     ]
    }
   ],
   "source": [
    "import os\n",
    "\n",
    "# Fix warning about locale unset\n",
    "os.environ['LANG'] = 'en_US.UTF-8'\n",
    "\n",
    "!pushd {initial_reads_dir}; prename 's/data_//' *.fq.gz; popd"
   ]
  },
  {
   "cell_type": "markdown",
   "id": "median-belle",
   "metadata": {
    "papermill": {
     "duration": 0.005359,
     "end_time": "2022-10-18T23:05:32.264005",
     "exception": false,
     "start_time": "2022-10-18T23:05:32.258646",
     "status": "completed"
    },
    "tags": []
   },
   "source": [
    "Jackalope produces reads with non-standard identifiers where pairs of reads don't have matching identifiers. For example:\n",
    "\n",
    "* Pair 1: `@SH08-001-NC_011083-3048632-R/1`\n",
    "* Pair 2: `@SH08-001-NC_011083-3048396-F/2`\n",
    "\n",
    "In order to run snippy, these paired identifiers need to match (except for the `/1` and `/2` suffix).\n",
    "\n",
    "So, I have to replace them all with something unique, but which matches in each pair of files. I do this by replacing the position (I think) with the read number (as it appears in the file). So the above identifiers become:\n",
    "\n",
    "* Pair 1: `@SH08-001-NC_011083-1/1`\n",
    "* Pair 2: `@SH08-001-NC_011083-1/2`"
   ]
  },
  {
   "cell_type": "code",
   "execution_count": 5,
   "id": "remarkable-berry",
   "metadata": {
    "execution": {
     "iopub.execute_input": "2022-10-18T23:05:32.274486Z",
     "iopub.status.busy": "2022-10-18T23:05:32.273796Z",
     "iopub.status.idle": "2022-10-18T23:05:33.294840Z",
     "shell.execute_reply": "2022-10-18T23:05:33.292638Z"
    },
    "papermill": {
     "duration": 1.03127,
     "end_time": "2022-10-18T23:05:33.299179",
     "exception": false,
     "start_time": "2022-10-18T23:05:32.267909",
     "status": "completed"
    },
    "tags": []
   },
   "outputs": [],
   "source": [
    "import glob\n",
    "import os\n",
    "\n",
    "files = [os.path.basename(f) for f in glob.glob(f'{initial_reads_dir}/*.fq.gz')]\n",
    "!parallel -j {ncores} -I% 'gzip -d --stdout {initial_reads_dir}/% | perl scripts/replace-fastq-header.pl | gzip > {reads_dir}/%' \\\n",
    "    ::: {' '.join(files)}"
   ]
  },
  {
   "cell_type": "code",
   "execution_count": 6,
   "id": "8318e7a8-1057-4e4f-aaec-fccdec42a75f",
   "metadata": {
    "execution": {
     "iopub.execute_input": "2022-10-18T23:05:33.317335Z",
     "iopub.status.busy": "2022-10-18T23:05:33.316753Z",
     "iopub.status.idle": "2022-10-18T23:05:33.340945Z",
     "shell.execute_reply": "2022-10-18T23:05:33.339893Z"
    },
    "papermill": {
     "duration": 0.038097,
     "end_time": "2022-10-18T23:05:33.344501",
     "exception": false,
     "start_time": "2022-10-18T23:05:33.306404",
     "status": "completed"
    },
    "tags": []
   },
   "outputs": [],
   "source": [
    "import shutil\n",
    "\n",
    "shutil.rmtree(initial_reads_dir)"
   ]
  },
  {
   "cell_type": "markdown",
   "id": "cf630b4f-ed63-4e14-9657-e0aaea0953ab",
   "metadata": {
    "papermill": {
     "duration": 0.005108,
     "end_time": "2022-10-18T23:05:33.355934",
     "exception": false,
     "start_time": "2022-10-18T23:05:33.350826",
     "status": "completed"
    },
    "tags": []
   },
   "source": [
    "# 3. Fix assemblies\n",
    "\n",
    "Fix assembly genome names"
   ]
  },
  {
   "cell_type": "code",
   "execution_count": 7,
   "id": "08fac610-3ab3-4afa-9873-406973041963",
   "metadata": {
    "execution": {
     "iopub.execute_input": "2022-10-18T23:05:33.366661Z",
     "iopub.status.busy": "2022-10-18T23:05:33.366084Z",
     "iopub.status.idle": "2022-10-18T23:05:33.548993Z",
     "shell.execute_reply": "2022-10-18T23:05:33.547116Z"
    },
    "papermill": {
     "duration": 0.191856,
     "end_time": "2022-10-18T23:05:33.552713",
     "exception": false,
     "start_time": "2022-10-18T23:05:33.360857",
     "status": "completed"
    },
    "tags": []
   },
   "outputs": [
    {
     "name": "stdout",
     "output_type": "stream",
     "text": [
      "~/workspace/genomics-data-index-evaluation-manuscript/evaluations/simulation/simulations/cov-40/simulated_data/assemblies ~/workspace/genomics-data-index-evaluation-manuscript/evaluations/simulation\r\n"
     ]
    },
    {
     "name": "stdout",
     "output_type": "stream",
     "text": [
      "~/workspace/genomics-data-index-evaluation-manuscript/evaluations/simulation\r\n"
     ]
    }
   ],
   "source": [
    "!pushd {assemblies_dir}; prename 's/data__//' *.fa.gz; popd"
   ]
  },
  {
   "cell_type": "markdown",
   "id": "a0856fbc-ba98-4ba1-870b-6923cd636892",
   "metadata": {
    "papermill": {
     "duration": 0.005649,
     "end_time": "2022-10-18T23:05:33.565045",
     "exception": false,
     "start_time": "2022-10-18T23:05:33.559396",
     "status": "completed"
    },
    "tags": []
   },
   "source": [
    "# 4. Assemble reads\n",
    "\n",
    "Assemble reads to have another scenario of imperfect assemblies."
   ]
  },
  {
   "cell_type": "code",
   "execution_count": 8,
   "id": "c1a1b18f-ecd1-4ca3-af9f-ef44648edbd3",
   "metadata": {
    "execution": {
     "iopub.execute_input": "2022-10-18T23:05:33.592539Z",
     "iopub.status.busy": "2022-10-18T23:05:33.591987Z",
     "iopub.status.idle": "2022-10-18T23:05:34.871888Z",
     "shell.execute_reply": "2022-10-18T23:05:34.869857Z"
    },
    "papermill": {
     "duration": 1.29215,
     "end_time": "2022-10-18T23:05:34.875983",
     "exception": false,
     "start_time": "2022-10-18T23:05:33.583833",
     "status": "completed"
    },
    "tags": []
   },
   "outputs": [
    {
     "name": "stdout",
     "output_type": "stream",
     "text": [
      "SKESA 2.4.0\r\n",
      "\r\n",
      "skesa --version \r\n",
      "\r\n",
      "\r\n"
     ]
    }
   ],
   "source": [
    "!conda run -n skesa skesa --version"
   ]
  },
  {
   "cell_type": "code",
   "execution_count": 9,
   "id": "419476b6-ecce-477b-a838-d2419d1d160e",
   "metadata": {
    "execution": {
     "iopub.execute_input": "2022-10-18T23:05:34.892042Z",
     "iopub.status.busy": "2022-10-18T23:05:34.891299Z",
     "iopub.status.idle": "2022-10-18T23:05:54.938179Z",
     "shell.execute_reply": "2022-10-18T23:05:54.936148Z"
    },
    "papermill": {
     "duration": 20.05881,
     "end_time": "2022-10-18T23:05:54.942388",
     "exception": false,
     "start_time": "2022-10-18T23:05:34.883578",
     "status": "completed"
    },
    "tags": []
   },
   "outputs": [],
   "source": [
    "import glob\n",
    "import re\n",
    "\n",
    "fastq_names = [os.path.basename(f) for f in glob.glob(f'{reads_dir}/*_R1.fq.gz')]\n",
    "sample_names = [re.sub(r'_R\\d.fq.gz', '', f) for f in fastq_names]\n",
    "!parallel -j {ncores} -I% 'conda run -n skesa skesa --reads {reads_dir}/%_R1.fq.gz,{reads_dir}/%_R2.fq.gz --contigs_out {assembled_reads_dir}/%.fasta > {assembled_reads_dir}/log.% 2>&1' \\\n",
    "    ::: {' '.join(sample_names)}"
   ]
  }
 ],
 "metadata": {
  "kernelspec": {
   "display_name": "Python 3 (ipykernel)",
   "language": "python",
   "name": "python3"
  },
  "language_info": {
   "codemirror_mode": {
    "name": "ipython",
    "version": 3
   },
   "file_extension": ".py",
   "mimetype": "text/x-python",
   "name": "python",
   "nbconvert_exporter": "python",
   "pygments_lexer": "ipython3",
   "version": "3.8.13"
  },
  "papermill": {
   "default_parameters": {},
   "duration": 24.602278,
   "end_time": "2022-10-18T23:05:55.172466",
   "environment_variables": {},
   "exception": null,
   "input_path": "template-2-fix-simulated-files.ipynb",
   "output_path": "2-fix-simulated-files.simulation-cov-40.ipynb",
   "parameters": {
    "iterations": 1,
    "mincov": 10,
    "read_coverage": 40,
    "simulation_dir": "simulations/cov-40",
    "sub_alpha": 0.2
   },
   "start_time": "2022-10-18T23:05:30.570188",
   "version": "2.3.4"
  }
 },
 "nbformat": 4,
 "nbformat_minor": 5
}