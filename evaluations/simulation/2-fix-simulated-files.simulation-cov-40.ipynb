{
 "cells": [
  {
   "cell_type": "markdown",
   "id": "acfa5482-d626-44d6-b613-863e6911fa98",
   "metadata": {
    "papermill": {
     "duration": 0.006496,
     "end_time": "2022-09-29T19:30:01.339841",
     "exception": false,
     "start_time": "2022-09-29T19:30:01.333345",
     "status": "completed"
    },
    "tags": []
   },
   "source": [
    "# 1. Parameters"
   ]
  },
  {
   "cell_type": "code",
   "execution_count": 1,
   "id": "36126d74-a9d8-4431-ba49-767c1fc2ec49",
   "metadata": {
    "execution": {
     "iopub.execute_input": "2022-09-29T19:30:01.349821Z",
     "iopub.status.busy": "2022-09-29T19:30:01.349229Z",
     "iopub.status.idle": "2022-09-29T19:30:01.364991Z",
     "shell.execute_reply": "2022-09-29T19:30:01.363873Z"
    },
    "papermill": {
     "duration": 0.023837,
     "end_time": "2022-09-29T19:30:01.368469",
     "exception": false,
     "start_time": "2022-09-29T19:30:01.344632",
     "status": "completed"
    },
    "tags": [
     "parameters"
    ]
   },
   "outputs": [],
   "source": [
    "# Defaults\n",
    "simulation_dir = 'simulations/unset'\n",
    "ncores = 48"
   ]
  },
  {
   "cell_type": "code",
   "execution_count": 2,
   "id": "b11e6d2a",
   "metadata": {
    "execution": {
     "iopub.execute_input": "2022-09-29T19:30:01.379182Z",
     "iopub.status.busy": "2022-09-29T19:30:01.378659Z",
     "iopub.status.idle": "2022-09-29T19:30:01.385471Z",
     "shell.execute_reply": "2022-09-29T19:30:01.384023Z"
    },
    "papermill": {
     "duration": 0.015905,
     "end_time": "2022-09-29T19:30:01.388834",
     "exception": false,
     "start_time": "2022-09-29T19:30:01.372929",
     "status": "completed"
    },
    "tags": [
     "injected-parameters"
    ]
   },
   "outputs": [],
   "source": [
    "# Parameters\n",
    "read_coverage = 40\n",
    "mincov = 10\n",
    "simulation_dir = \"simulations/cov-40\"\n",
    "iterations = 3\n",
    "sub_alpha = 0.2\n"
   ]
  },
  {
   "cell_type": "code",
   "execution_count": 3,
   "id": "15e911d7-0ffc-4110-aefe-71bc77e689cd",
   "metadata": {
    "execution": {
     "iopub.execute_input": "2022-09-29T19:30:01.398971Z",
     "iopub.status.busy": "2022-09-29T19:30:01.398328Z",
     "iopub.status.idle": "2022-09-29T19:30:01.407094Z",
     "shell.execute_reply": "2022-09-29T19:30:01.405651Z"
    },
    "papermill": {
     "duration": 0.017047,
     "end_time": "2022-09-29T19:30:01.410397",
     "exception": false,
     "start_time": "2022-09-29T19:30:01.393350",
     "status": "completed"
    },
    "tags": []
   },
   "outputs": [],
   "source": [
    "from pathlib import Path\n",
    "import os\n",
    "\n",
    "simulation_data_dir = Path(simulation_dir) / 'simulated_data'\n",
    "initial_reads_dir = simulation_data_dir / 'reads_initial'\n",
    "reads_dir = simulation_data_dir / 'reads'\n",
    "assemblies_dir = simulation_data_dir / 'assemblies'\n",
    "\n",
    "if not reads_dir.exists():\n",
    "    os.mkdir(reads_dir)"
   ]
  },
  {
   "cell_type": "markdown",
   "id": "rotary-regard",
   "metadata": {
    "papermill": {
     "duration": 0.003994,
     "end_time": "2022-09-29T19:30:01.418832",
     "exception": false,
     "start_time": "2022-09-29T19:30:01.414838",
     "status": "completed"
    },
    "tags": []
   },
   "source": [
    "# 2. Fix reads\n",
    "\n",
    "Fix read file names and data so they can be indexed."
   ]
  },
  {
   "cell_type": "code",
   "execution_count": 4,
   "id": "convenient-blackberry",
   "metadata": {
    "execution": {
     "iopub.execute_input": "2022-09-29T19:30:01.427562Z",
     "iopub.status.busy": "2022-09-29T19:30:01.426921Z",
     "iopub.status.idle": "2022-09-29T19:30:01.629663Z",
     "shell.execute_reply": "2022-09-29T19:30:01.628041Z"
    },
    "papermill": {
     "duration": 0.210737,
     "end_time": "2022-09-29T19:30:01.633418",
     "exception": false,
     "start_time": "2022-09-29T19:30:01.422681",
     "status": "completed"
    },
    "tags": []
   },
   "outputs": [
    {
     "name": "stdout",
     "output_type": "stream",
     "text": [
      "~/workspace/genomics-data-index-evaluation-manuscript/evaluations/simulation/simulations/cov-40/simulated_data/reads_initial ~/workspace/genomics-data-index-evaluation-manuscript/evaluations/simulation\r\n"
     ]
    },
    {
     "name": "stdout",
     "output_type": "stream",
     "text": [
      "~/workspace/genomics-data-index-evaluation-manuscript/evaluations/simulation\r\n"
     ]
    }
   ],
   "source": [
    "import os\n",
    "\n",
    "# Fix warning about locale unset\n",
    "os.environ['LANG'] = 'en_US.UTF-8'\n",
    "\n",
    "!pushd {initial_reads_dir}; prename 's/data_//' *.fq.gz; popd"
   ]
  },
  {
   "cell_type": "markdown",
   "id": "median-belle",
   "metadata": {
    "papermill": {
     "duration": 0.005304,
     "end_time": "2022-09-29T19:30:01.644205",
     "exception": false,
     "start_time": "2022-09-29T19:30:01.638901",
     "status": "completed"
    },
    "tags": []
   },
   "source": [
    "Jackalope produces reads with non-standard identifiers where pairs of reads don't have matching identifiers. For example:\n",
    "\n",
    "* Pair 1: `@SH08-001-NC_011083-3048632-R/1`\n",
    "* Pair 2: `@SH08-001-NC_011083-3048396-F/2`\n",
    "\n",
    "In order to run snippy, these paired identifiers need to match (except for the `/1` and `/2` suffix).\n",
    "\n",
    "So, I have to replace them all with something unique, but which matches in each pair of files. I do this by replacing the position (I think) with the read number (as it appears in the file). So the above identifiers become:\n",
    "\n",
    "* Pair 1: `@SH08-001-NC_011083-1/1`\n",
    "* Pair 2: `@SH08-001-NC_011083-1/2`"
   ]
  },
  {
   "cell_type": "code",
   "execution_count": 5,
   "id": "remarkable-berry",
   "metadata": {
    "execution": {
     "iopub.execute_input": "2022-09-29T19:30:01.658927Z",
     "iopub.status.busy": "2022-09-29T19:30:01.658212Z",
     "iopub.status.idle": "2022-09-29T19:30:02.702973Z",
     "shell.execute_reply": "2022-09-29T19:30:02.700789Z"
    },
    "papermill": {
     "duration": 1.059121,
     "end_time": "2022-09-29T19:30:02.707095",
     "exception": false,
     "start_time": "2022-09-29T19:30:01.647974",
     "status": "completed"
    },
    "tags": []
   },
   "outputs": [],
   "source": [
    "import glob\n",
    "import os\n",
    "\n",
    "files = [os.path.basename(f) for f in glob.glob(f'{initial_reads_dir}/*.fq.gz')]\n",
    "!parallel -j {ncores} -I% 'gzip -d --stdout {initial_reads_dir}/% | perl scripts/replace-fastq-header.pl | gzip > {reads_dir}/%' \\\n",
    "    ::: {' '.join(files)}"
   ]
  },
  {
   "cell_type": "code",
   "execution_count": 6,
   "id": "8318e7a8-1057-4e4f-aaec-fccdec42a75f",
   "metadata": {
    "execution": {
     "iopub.execute_input": "2022-09-29T19:30:02.720372Z",
     "iopub.status.busy": "2022-09-29T19:30:02.719757Z",
     "iopub.status.idle": "2022-09-29T19:30:02.740693Z",
     "shell.execute_reply": "2022-09-29T19:30:02.739226Z"
    },
    "papermill": {
     "duration": 0.03062,
     "end_time": "2022-09-29T19:30:02.744003",
     "exception": false,
     "start_time": "2022-09-29T19:30:02.713383",
     "status": "completed"
    },
    "tags": []
   },
   "outputs": [],
   "source": [
    "import shutil\n",
    "\n",
    "shutil.rmtree(initial_reads_dir)"
   ]
  },
  {
   "cell_type": "markdown",
   "id": "cf630b4f-ed63-4e14-9657-e0aaea0953ab",
   "metadata": {
    "papermill": {
     "duration": 0.005325,
     "end_time": "2022-09-29T19:30:02.754962",
     "exception": false,
     "start_time": "2022-09-29T19:30:02.749637",
     "status": "completed"
    },
    "tags": []
   },
   "source": [
    "# 3. Fix assemblies\n",
    "\n",
    "Fix assembly genome names"
   ]
  },
  {
   "cell_type": "code",
   "execution_count": 7,
   "id": "08fac610-3ab3-4afa-9873-406973041963",
   "metadata": {
    "execution": {
     "iopub.execute_input": "2022-09-29T19:30:02.764692Z",
     "iopub.status.busy": "2022-09-29T19:30:02.763906Z",
     "iopub.status.idle": "2022-09-29T19:30:02.942277Z",
     "shell.execute_reply": "2022-09-29T19:30:02.940474Z"
    },
    "papermill": {
     "duration": 0.187284,
     "end_time": "2022-09-29T19:30:02.946044",
     "exception": false,
     "start_time": "2022-09-29T19:30:02.758760",
     "status": "completed"
    },
    "tags": []
   },
   "outputs": [
    {
     "name": "stdout",
     "output_type": "stream",
     "text": [
      "~/workspace/genomics-data-index-evaluation-manuscript/evaluations/simulation/simulations/cov-40/simulated_data/assemblies ~/workspace/genomics-data-index-evaluation-manuscript/evaluations/simulation\r\n"
     ]
    },
    {
     "name": "stdout",
     "output_type": "stream",
     "text": [
      "~/workspace/genomics-data-index-evaluation-manuscript/evaluations/simulation\r\n"
     ]
    }
   ],
   "source": [
    "!pushd {assemblies_dir}; prename 's/data__//' *.fa.gz; popd"
   ]
  }
 ],
 "metadata": {
  "kernelspec": {
   "display_name": "Python 3 (ipykernel)",
   "language": "python",
   "name": "python3"
  },
  "language_info": {
   "codemirror_mode": {
    "name": "ipython",
    "version": 3
   },
   "file_extension": ".py",
   "mimetype": "text/x-python",
   "name": "python",
   "nbconvert_exporter": "python",
   "pygments_lexer": "ipython3",
   "version": "3.8.13"
  },
  "papermill": {
   "default_parameters": {},
   "duration": 3.36476,
   "end_time": "2022-09-29T19:30:03.174836",
   "environment_variables": {},
   "exception": null,
   "input_path": "template-2-fix-simulated-files.ipynb",
   "output_path": "2-fix-simulated-files.simulation-cov-40.ipynb",
   "parameters": {
    "iterations": 3,
    "mincov": 10,
    "read_coverage": 40,
    "simulation_dir": "simulations/cov-40",
    "sub_alpha": 0.2
   },
   "start_time": "2022-09-29T19:29:59.810076",
   "version": "2.3.4"
  }
 },
 "nbformat": 4,
 "nbformat_minor": 5
}