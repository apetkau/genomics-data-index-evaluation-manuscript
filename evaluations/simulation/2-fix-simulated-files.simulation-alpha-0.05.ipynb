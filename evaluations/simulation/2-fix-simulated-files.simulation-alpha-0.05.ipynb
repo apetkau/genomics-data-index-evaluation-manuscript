{
 "cells": [
  {
   "cell_type": "markdown",
   "id": "acfa5482-d626-44d6-b613-863e6911fa98",
   "metadata": {
    "papermill": {
     "duration": 0.00747,
     "end_time": "2022-10-18T22:05:28.782110",
     "exception": false,
     "start_time": "2022-10-18T22:05:28.774640",
     "status": "completed"
    },
    "tags": []
   },
   "source": [
    "# 1. Parameters"
   ]
  },
  {
   "cell_type": "code",
   "execution_count": 1,
   "id": "36126d74-a9d8-4431-ba49-767c1fc2ec49",
   "metadata": {
    "execution": {
     "iopub.execute_input": "2022-10-18T22:05:28.794127Z",
     "iopub.status.busy": "2022-10-18T22:05:28.793418Z",
     "iopub.status.idle": "2022-10-18T22:05:28.809322Z",
     "shell.execute_reply": "2022-10-18T22:05:28.808054Z"
    },
    "papermill": {
     "duration": 0.024901,
     "end_time": "2022-10-18T22:05:28.812651",
     "exception": false,
     "start_time": "2022-10-18T22:05:28.787750",
     "status": "completed"
    },
    "tags": [
     "parameters"
    ]
   },
   "outputs": [],
   "source": [
    "# Defaults\n",
    "simulation_dir = 'simulations/unset'\n",
    "ncores = 48"
   ]
  },
  {
   "cell_type": "code",
   "execution_count": 2,
   "id": "906227a4",
   "metadata": {
    "execution": {
     "iopub.execute_input": "2022-10-18T22:05:28.823467Z",
     "iopub.status.busy": "2022-10-18T22:05:28.822921Z",
     "iopub.status.idle": "2022-10-18T22:05:28.830063Z",
     "shell.execute_reply": "2022-10-18T22:05:28.828533Z"
    },
    "papermill": {
     "duration": 0.016186,
     "end_time": "2022-10-18T22:05:28.833082",
     "exception": false,
     "start_time": "2022-10-18T22:05:28.816896",
     "status": "completed"
    },
    "tags": [
     "injected-parameters"
    ]
   },
   "outputs": [],
   "source": [
    "# Parameters\n",
    "read_coverage = 30\n",
    "mincov = 10\n",
    "simulation_dir = \"simulations/alpha-0.05-cov-30\"\n",
    "iterations = 1\n",
    "sub_alpha = 0.05\n"
   ]
  },
  {
   "cell_type": "code",
   "execution_count": 3,
   "id": "15e911d7-0ffc-4110-aefe-71bc77e689cd",
   "metadata": {
    "execution": {
     "iopub.execute_input": "2022-10-18T22:05:28.843797Z",
     "iopub.status.busy": "2022-10-18T22:05:28.843080Z",
     "iopub.status.idle": "2022-10-18T22:05:28.853436Z",
     "shell.execute_reply": "2022-10-18T22:05:28.851934Z"
    },
    "papermill": {
     "duration": 0.018905,
     "end_time": "2022-10-18T22:05:28.856436",
     "exception": false,
     "start_time": "2022-10-18T22:05:28.837531",
     "status": "completed"
    },
    "tags": []
   },
   "outputs": [],
   "source": [
    "from pathlib import Path\n",
    "import os\n",
    "\n",
    "simulation_data_dir = Path(simulation_dir) / 'simulated_data'\n",
    "initial_reads_dir = simulation_data_dir / 'reads_initial'\n",
    "reads_dir = simulation_data_dir / 'reads'\n",
    "assemblies_dir = simulation_data_dir / 'assemblies'\n",
    "assembled_reads_dir = simulation_data_dir / 'assembled_reads'\n",
    "\n",
    "if not reads_dir.exists():\n",
    "    os.mkdir(reads_dir)\n",
    "    \n",
    "if not assembled_reads_dir.exists():\n",
    "    os.mkdir(assembled_reads_dir)"
   ]
  },
  {
   "cell_type": "markdown",
   "id": "rotary-regard",
   "metadata": {
    "papermill": {
     "duration": 0.004598,
     "end_time": "2022-10-18T22:05:28.865902",
     "exception": false,
     "start_time": "2022-10-18T22:05:28.861304",
     "status": "completed"
    },
    "tags": []
   },
   "source": [
    "# 2. Fix reads\n",
    "\n",
    "Fix read file names and data so they can be indexed."
   ]
  },
  {
   "cell_type": "code",
   "execution_count": 4,
   "id": "convenient-blackberry",
   "metadata": {
    "execution": {
     "iopub.execute_input": "2022-10-18T22:05:28.874349Z",
     "iopub.status.busy": "2022-10-18T22:05:28.873666Z",
     "iopub.status.idle": "2022-10-18T22:05:29.078579Z",
     "shell.execute_reply": "2022-10-18T22:05:29.076726Z"
    },
    "papermill": {
     "duration": 0.213236,
     "end_time": "2022-10-18T22:05:29.082261",
     "exception": false,
     "start_time": "2022-10-18T22:05:28.869025",
     "status": "completed"
    },
    "tags": []
   },
   "outputs": [
    {
     "name": "stdout",
     "output_type": "stream",
     "text": [
      "~/workspace/genomics-data-index-evaluation-manuscript/evaluations/simulation/simulations/alpha-0.05-cov-30/simulated_data/reads_initial ~/workspace/genomics-data-index-evaluation-manuscript/evaluations/simulation\r\n"
     ]
    },
    {
     "name": "stdout",
     "output_type": "stream",
     "text": [
      "~/workspace/genomics-data-index-evaluation-manuscript/evaluations/simulation\r\n"
     ]
    }
   ],
   "source": [
    "import os\n",
    "\n",
    "# Fix warning about locale unset\n",
    "os.environ['LANG'] = 'en_US.UTF-8'\n",
    "\n",
    "!pushd {initial_reads_dir}; prename 's/data_//' *.fq.gz; popd"
   ]
  },
  {
   "cell_type": "markdown",
   "id": "median-belle",
   "metadata": {
    "papermill": {
     "duration": 0.00555,
     "end_time": "2022-10-18T22:05:29.094101",
     "exception": false,
     "start_time": "2022-10-18T22:05:29.088551",
     "status": "completed"
    },
    "tags": []
   },
   "source": [
    "Jackalope produces reads with non-standard identifiers where pairs of reads don't have matching identifiers. For example:\n",
    "\n",
    "* Pair 1: `@SH08-001-NC_011083-3048632-R/1`\n",
    "* Pair 2: `@SH08-001-NC_011083-3048396-F/2`\n",
    "\n",
    "In order to run snippy, these paired identifiers need to match (except for the `/1` and `/2` suffix).\n",
    "\n",
    "So, I have to replace them all with something unique, but which matches in each pair of files. I do this by replacing the position (I think) with the read number (as it appears in the file). So the above identifiers become:\n",
    "\n",
    "* Pair 1: `@SH08-001-NC_011083-1/1`\n",
    "* Pair 2: `@SH08-001-NC_011083-1/2`"
   ]
  },
  {
   "cell_type": "code",
   "execution_count": 5,
   "id": "remarkable-berry",
   "metadata": {
    "execution": {
     "iopub.execute_input": "2022-10-18T22:05:29.105609Z",
     "iopub.status.busy": "2022-10-18T22:05:29.104915Z",
     "iopub.status.idle": "2022-10-18T22:05:30.155230Z",
     "shell.execute_reply": "2022-10-18T22:05:30.153004Z"
    },
    "papermill": {
     "duration": 1.060456,
     "end_time": "2022-10-18T22:05:30.159461",
     "exception": false,
     "start_time": "2022-10-18T22:05:29.099005",
     "status": "completed"
    },
    "tags": []
   },
   "outputs": [],
   "source": [
    "import glob\n",
    "import os\n",
    "\n",
    "files = [os.path.basename(f) for f in glob.glob(f'{initial_reads_dir}/*.fq.gz')]\n",
    "!parallel -j {ncores} -I% 'gzip -d --stdout {initial_reads_dir}/% | perl scripts/replace-fastq-header.pl | gzip > {reads_dir}/%' \\\n",
    "    ::: {' '.join(files)}"
   ]
  },
  {
   "cell_type": "code",
   "execution_count": 6,
   "id": "8318e7a8-1057-4e4f-aaec-fccdec42a75f",
   "metadata": {
    "execution": {
     "iopub.execute_input": "2022-10-18T22:05:30.174412Z",
     "iopub.status.busy": "2022-10-18T22:05:30.173836Z",
     "iopub.status.idle": "2022-10-18T22:05:30.195697Z",
     "shell.execute_reply": "2022-10-18T22:05:30.194681Z"
    },
    "papermill": {
     "duration": 0.032359,
     "end_time": "2022-10-18T22:05:30.199048",
     "exception": false,
     "start_time": "2022-10-18T22:05:30.166689",
     "status": "completed"
    },
    "tags": []
   },
   "outputs": [],
   "source": [
    "import shutil\n",
    "\n",
    "shutil.rmtree(initial_reads_dir)"
   ]
  },
  {
   "cell_type": "markdown",
   "id": "cf630b4f-ed63-4e14-9657-e0aaea0953ab",
   "metadata": {
    "papermill": {
     "duration": 0.004659,
     "end_time": "2022-10-18T22:05:30.210132",
     "exception": false,
     "start_time": "2022-10-18T22:05:30.205473",
     "status": "completed"
    },
    "tags": []
   },
   "source": [
    "# 3. Fix assemblies\n",
    "\n",
    "Fix assembly genome names"
   ]
  },
  {
   "cell_type": "code",
   "execution_count": 7,
   "id": "08fac610-3ab3-4afa-9873-406973041963",
   "metadata": {
    "execution": {
     "iopub.execute_input": "2022-10-18T22:05:30.220343Z",
     "iopub.status.busy": "2022-10-18T22:05:30.219813Z",
     "iopub.status.idle": "2022-10-18T22:05:30.402686Z",
     "shell.execute_reply": "2022-10-18T22:05:30.401122Z"
    },
    "papermill": {
     "duration": 0.191968,
     "end_time": "2022-10-18T22:05:30.406385",
     "exception": false,
     "start_time": "2022-10-18T22:05:30.214417",
     "status": "completed"
    },
    "tags": []
   },
   "outputs": [
    {
     "name": "stdout",
     "output_type": "stream",
     "text": [
      "~/workspace/genomics-data-index-evaluation-manuscript/evaluations/simulation/simulations/alpha-0.05-cov-30/simulated_data/assemblies ~/workspace/genomics-data-index-evaluation-manuscript/evaluations/simulation\r\n"
     ]
    },
    {
     "name": "stdout",
     "output_type": "stream",
     "text": [
      "~/workspace/genomics-data-index-evaluation-manuscript/evaluations/simulation\r\n"
     ]
    }
   ],
   "source": [
    "!pushd {assemblies_dir}; prename 's/data__//' *.fa.gz; popd"
   ]
  },
  {
   "cell_type": "markdown",
   "id": "a0856fbc-ba98-4ba1-870b-6923cd636892",
   "metadata": {
    "papermill": {
     "duration": 0.005877,
     "end_time": "2022-10-18T22:05:30.419011",
     "exception": false,
     "start_time": "2022-10-18T22:05:30.413134",
     "status": "completed"
    },
    "tags": []
   },
   "source": [
    "# 4. Assemble reads\n",
    "\n",
    "Assemble reads to have another scenario of imperfect assemblies."
   ]
  },
  {
   "cell_type": "code",
   "execution_count": 8,
   "id": "c1a1b18f-ecd1-4ca3-af9f-ef44648edbd3",
   "metadata": {
    "execution": {
     "iopub.execute_input": "2022-10-18T22:05:30.449159Z",
     "iopub.status.busy": "2022-10-18T22:05:30.448459Z",
     "iopub.status.idle": "2022-10-18T22:05:31.748678Z",
     "shell.execute_reply": "2022-10-18T22:05:31.746644Z"
    },
    "papermill": {
     "duration": 1.312949,
     "end_time": "2022-10-18T22:05:31.752869",
     "exception": false,
     "start_time": "2022-10-18T22:05:30.439920",
     "status": "completed"
    },
    "tags": []
   },
   "outputs": [
    {
     "name": "stdout",
     "output_type": "stream",
     "text": [
      "SKESA 2.4.0\r\n",
      "\r\n",
      "skesa --version \r\n",
      "\r\n",
      "\r\n"
     ]
    }
   ],
   "source": [
    "!conda run -n skesa skesa --version"
   ]
  },
  {
   "cell_type": "code",
   "execution_count": 9,
   "id": "419476b6-ecce-477b-a838-d2419d1d160e",
   "metadata": {
    "execution": {
     "iopub.execute_input": "2022-10-18T22:05:31.770113Z",
     "iopub.status.busy": "2022-10-18T22:05:31.769534Z",
     "iopub.status.idle": "2022-10-18T22:05:49.539751Z",
     "shell.execute_reply": "2022-10-18T22:05:49.537459Z"
    },
    "papermill": {
     "duration": 17.787616,
     "end_time": "2022-10-18T22:05:49.548182",
     "exception": false,
     "start_time": "2022-10-18T22:05:31.760566",
     "status": "completed"
    },
    "tags": []
   },
   "outputs": [],
   "source": [
    "import glob\n",
    "import re\n",
    "\n",
    "fastq_names = [os.path.basename(f) for f in glob.glob(f'{reads_dir}/*_R1.fq.gz')]\n",
    "sample_names = [re.sub(r'_R\\d.fq.gz', '', f) for f in fastq_names]\n",
    "!parallel -j {ncores} -I% 'conda run -n skesa skesa --reads {reads_dir}/%_R1.fq.gz,{reads_dir}/%_R2.fq.gz --contigs_out {assembled_reads_dir}/%.fasta > {assembled_reads_dir}/log.% 2>&1' \\\n",
    "    ::: {' '.join(sample_names)}"
   ]
  }
 ],
 "metadata": {
  "kernelspec": {
   "display_name": "Python 3 (ipykernel)",
   "language": "python",
   "name": "python3"
  },
  "language_info": {
   "codemirror_mode": {
    "name": "ipython",
    "version": 3
   },
   "file_extension": ".py",
   "mimetype": "text/x-python",
   "name": "python",
   "nbconvert_exporter": "python",
   "pygments_lexer": "ipython3",
   "version": "3.8.13"
  },
  "papermill": {
   "default_parameters": {},
   "duration": 22.395346,
   "end_time": "2022-10-18T22:05:49.782091",
   "environment_variables": {},
   "exception": null,
   "input_path": "template-2-fix-simulated-files.ipynb",
   "output_path": "2-fix-simulated-files.simulation-alpha-0.05.ipynb",
   "parameters": {
    "iterations": 1,
    "mincov": 10,
    "read_coverage": 30,
    "simulation_dir": "simulations/alpha-0.05-cov-30",
    "sub_alpha": 0.05
   },
   "start_time": "2022-10-18T22:05:27.386745",
   "version": "2.3.4"
  }
 },
 "nbformat": 4,
 "nbformat_minor": 5
}