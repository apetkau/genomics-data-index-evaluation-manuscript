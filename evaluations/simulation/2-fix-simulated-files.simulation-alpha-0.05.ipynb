{
 "cells": [
  {
   "cell_type": "markdown",
   "id": "acfa5482-d626-44d6-b613-863e6911fa98",
   "metadata": {
    "papermill": {
     "duration": 0.006446,
     "end_time": "2022-09-29T18:38:24.844414",
     "exception": false,
     "start_time": "2022-09-29T18:38:24.837968",
     "status": "completed"
    },
    "tags": []
   },
   "source": [
    "# 1. Parameters"
   ]
  },
  {
   "cell_type": "code",
   "execution_count": 1,
   "id": "36126d74-a9d8-4431-ba49-767c1fc2ec49",
   "metadata": {
    "execution": {
     "iopub.execute_input": "2022-09-29T18:38:24.855918Z",
     "iopub.status.busy": "2022-09-29T18:38:24.855200Z",
     "iopub.status.idle": "2022-09-29T18:38:24.870808Z",
     "shell.execute_reply": "2022-09-29T18:38:24.869560Z"
    },
    "papermill": {
     "duration": 0.025491,
     "end_time": "2022-09-29T18:38:24.874789",
     "exception": false,
     "start_time": "2022-09-29T18:38:24.849298",
     "status": "completed"
    },
    "tags": [
     "parameters"
    ]
   },
   "outputs": [],
   "source": [
    "# Defaults\n",
    "simulation_dir = 'simulations/unset'\n",
    "ncores = 48"
   ]
  },
  {
   "cell_type": "code",
   "execution_count": 2,
   "id": "6380a426",
   "metadata": {
    "execution": {
     "iopub.execute_input": "2022-09-29T18:38:24.886305Z",
     "iopub.status.busy": "2022-09-29T18:38:24.885776Z",
     "iopub.status.idle": "2022-09-29T18:38:24.893154Z",
     "shell.execute_reply": "2022-09-29T18:38:24.891612Z"
    },
    "papermill": {
     "duration": 0.016637,
     "end_time": "2022-09-29T18:38:24.896351",
     "exception": false,
     "start_time": "2022-09-29T18:38:24.879714",
     "status": "completed"
    },
    "tags": [
     "injected-parameters"
    ]
   },
   "outputs": [],
   "source": [
    "# Parameters\n",
    "read_coverage = 30\n",
    "mincov = 10\n",
    "simulation_dir = \"simulations/alpha-0.05-cov-30\"\n",
    "iterations = 3\n",
    "sub_alpha = 0.05\n"
   ]
  },
  {
   "cell_type": "code",
   "execution_count": 3,
   "id": "15e911d7-0ffc-4110-aefe-71bc77e689cd",
   "metadata": {
    "execution": {
     "iopub.execute_input": "2022-09-29T18:38:24.905989Z",
     "iopub.status.busy": "2022-09-29T18:38:24.905308Z",
     "iopub.status.idle": "2022-09-29T18:38:24.913855Z",
     "shell.execute_reply": "2022-09-29T18:38:24.912584Z"
    },
    "papermill": {
     "duration": 0.016954,
     "end_time": "2022-09-29T18:38:24.917142",
     "exception": false,
     "start_time": "2022-09-29T18:38:24.900188",
     "status": "completed"
    },
    "tags": []
   },
   "outputs": [],
   "source": [
    "from pathlib import Path\n",
    "import os\n",
    "\n",
    "simulation_data_dir = Path(simulation_dir) / 'simulated_data'\n",
    "initial_reads_dir = simulation_data_dir / 'reads_initial'\n",
    "reads_dir = simulation_data_dir / 'reads'\n",
    "assemblies_dir = simulation_data_dir / 'assemblies'\n",
    "\n",
    "if not reads_dir.exists():\n",
    "    os.mkdir(reads_dir)"
   ]
  },
  {
   "cell_type": "markdown",
   "id": "rotary-regard",
   "metadata": {
    "papermill": {
     "duration": 0.004011,
     "end_time": "2022-09-29T18:38:24.925368",
     "exception": false,
     "start_time": "2022-09-29T18:38:24.921357",
     "status": "completed"
    },
    "tags": []
   },
   "source": [
    "# 2. Fix reads\n",
    "\n",
    "Fix read file names and data so they can be indexed."
   ]
  },
  {
   "cell_type": "code",
   "execution_count": 4,
   "id": "convenient-blackberry",
   "metadata": {
    "execution": {
     "iopub.execute_input": "2022-09-29T18:38:24.934901Z",
     "iopub.status.busy": "2022-09-29T18:38:24.933956Z",
     "iopub.status.idle": "2022-09-29T18:38:25.125071Z",
     "shell.execute_reply": "2022-09-29T18:38:25.123116Z"
    },
    "papermill": {
     "duration": 0.200067,
     "end_time": "2022-09-29T18:38:25.129016",
     "exception": false,
     "start_time": "2022-09-29T18:38:24.928949",
     "status": "completed"
    },
    "tags": []
   },
   "outputs": [
    {
     "name": "stdout",
     "output_type": "stream",
     "text": [
      "~/workspace/genomics-data-index-evaluation-manuscript/evaluations/simulation/simulations/alpha-0.05-cov-30/simulated_data/reads_initial ~/workspace/genomics-data-index-evaluation-manuscript/evaluations/simulation\r\n"
     ]
    },
    {
     "name": "stdout",
     "output_type": "stream",
     "text": [
      "~/workspace/genomics-data-index-evaluation-manuscript/evaluations/simulation\r\n"
     ]
    }
   ],
   "source": [
    "import os\n",
    "\n",
    "# Fix warning about locale unset\n",
    "os.environ['LANG'] = 'en_US.UTF-8'\n",
    "\n",
    "!pushd {initial_reads_dir}; prename 's/data_//' *.fq.gz; popd"
   ]
  },
  {
   "cell_type": "markdown",
   "id": "median-belle",
   "metadata": {
    "papermill": {
     "duration": 0.004869,
     "end_time": "2022-09-29T18:38:25.139394",
     "exception": false,
     "start_time": "2022-09-29T18:38:25.134525",
     "status": "completed"
    },
    "tags": []
   },
   "source": [
    "Jackalope produces reads with non-standard identifiers where pairs of reads don't have matching identifiers. For example:\n",
    "\n",
    "* Pair 1: `@SH08-001-NC_011083-3048632-R/1`\n",
    "* Pair 2: `@SH08-001-NC_011083-3048396-F/2`\n",
    "\n",
    "In order to run snippy, these paired identifiers need to match (except for the `/1` and `/2` suffix).\n",
    "\n",
    "So, I have to replace them all with something unique, but which matches in each pair of files. I do this by replacing the position (I think) with the read number (as it appears in the file). So the above identifiers become:\n",
    "\n",
    "* Pair 1: `@SH08-001-NC_011083-1/1`\n",
    "* Pair 2: `@SH08-001-NC_011083-1/2`"
   ]
  },
  {
   "cell_type": "code",
   "execution_count": 5,
   "id": "remarkable-berry",
   "metadata": {
    "execution": {
     "iopub.execute_input": "2022-09-29T18:38:25.150796Z",
     "iopub.status.busy": "2022-09-29T18:38:25.150032Z",
     "iopub.status.idle": "2022-09-29T18:38:26.152555Z",
     "shell.execute_reply": "2022-09-29T18:38:26.150395Z"
    },
    "papermill": {
     "duration": 1.015816,
     "end_time": "2022-09-29T18:38:26.160425",
     "exception": false,
     "start_time": "2022-09-29T18:38:25.144609",
     "status": "completed"
    },
    "tags": []
   },
   "outputs": [],
   "source": [
    "import glob\n",
    "import os\n",
    "\n",
    "files = [os.path.basename(f) for f in glob.glob(f'{initial_reads_dir}/*.fq.gz')]\n",
    "!parallel -j {ncores} -I% 'gzip -d --stdout {initial_reads_dir}/% | perl scripts/replace-fastq-header.pl | gzip > {reads_dir}/%' \\\n",
    "    ::: {' '.join(files)}"
   ]
  },
  {
   "cell_type": "code",
   "execution_count": 6,
   "id": "8318e7a8-1057-4e4f-aaec-fccdec42a75f",
   "metadata": {
    "execution": {
     "iopub.execute_input": "2022-09-29T18:38:26.176085Z",
     "iopub.status.busy": "2022-09-29T18:38:26.175497Z",
     "iopub.status.idle": "2022-09-29T18:38:26.196644Z",
     "shell.execute_reply": "2022-09-29T18:38:26.195197Z"
    },
    "papermill": {
     "duration": 0.032219,
     "end_time": "2022-09-29T18:38:26.200249",
     "exception": false,
     "start_time": "2022-09-29T18:38:26.168030",
     "status": "completed"
    },
    "tags": []
   },
   "outputs": [],
   "source": [
    "import shutil\n",
    "\n",
    "shutil.rmtree(initial_reads_dir)"
   ]
  },
  {
   "cell_type": "markdown",
   "id": "cf630b4f-ed63-4e14-9657-e0aaea0953ab",
   "metadata": {
    "papermill": {
     "duration": 0.005379,
     "end_time": "2022-09-29T18:38:26.211232",
     "exception": false,
     "start_time": "2022-09-29T18:38:26.205853",
     "status": "completed"
    },
    "tags": []
   },
   "source": [
    "# 3. Fix assemblies\n",
    "\n",
    "Fix assembly genome names"
   ]
  },
  {
   "cell_type": "code",
   "execution_count": 7,
   "id": "08fac610-3ab3-4afa-9873-406973041963",
   "metadata": {
    "execution": {
     "iopub.execute_input": "2022-09-29T18:38:26.221338Z",
     "iopub.status.busy": "2022-09-29T18:38:26.220807Z",
     "iopub.status.idle": "2022-09-29T18:38:26.400346Z",
     "shell.execute_reply": "2022-09-29T18:38:26.398738Z"
    },
    "papermill": {
     "duration": 0.188457,
     "end_time": "2022-09-29T18:38:26.404118",
     "exception": false,
     "start_time": "2022-09-29T18:38:26.215661",
     "status": "completed"
    },
    "tags": []
   },
   "outputs": [
    {
     "name": "stdout",
     "output_type": "stream",
     "text": [
      "~/workspace/genomics-data-index-evaluation-manuscript/evaluations/simulation/simulations/alpha-0.05-cov-30/simulated_data/assemblies ~/workspace/genomics-data-index-evaluation-manuscript/evaluations/simulation\r\n"
     ]
    },
    {
     "name": "stdout",
     "output_type": "stream",
     "text": [
      "~/workspace/genomics-data-index-evaluation-manuscript/evaluations/simulation\r\n"
     ]
    }
   ],
   "source": [
    "!pushd {assemblies_dir}; prename 's/data__//' *.fa.gz; popd"
   ]
  }
 ],
 "metadata": {
  "kernelspec": {
   "display_name": "Python 3 (ipykernel)",
   "language": "python",
   "name": "python3"
  },
  "language_info": {
   "codemirror_mode": {
    "name": "ipython",
    "version": 3
   },
   "file_extension": ".py",
   "mimetype": "text/x-python",
   "name": "python",
   "nbconvert_exporter": "python",
   "pygments_lexer": "ipython3",
   "version": "3.8.13"
  },
  "papermill": {
   "default_parameters": {},
   "duration": 3.158061,
   "end_time": "2022-09-29T18:38:26.633265",
   "environment_variables": {},
   "exception": null,
   "input_path": "template-2-fix-simulated-files.ipynb",
   "output_path": "2-fix-simulated-files.simulation-alpha-0.05.ipynb",
   "parameters": {
    "iterations": 3,
    "mincov": 10,
    "read_coverage": 30,
    "simulation_dir": "simulations/alpha-0.05-cov-30",
    "sub_alpha": 0.05
   },
   "start_time": "2022-09-29T18:38:23.475204",
   "version": "2.3.4"
  }
 },
 "nbformat": 4,
 "nbformat_minor": 5
}