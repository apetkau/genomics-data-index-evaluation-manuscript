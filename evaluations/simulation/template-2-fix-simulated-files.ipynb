{
 "cells": [
  {
   "cell_type": "markdown",
   "id": "acfa5482-d626-44d6-b613-863e6911fa98",
   "metadata": {
    "tags": []
   },
   "source": [
    "# 1. Parameters"
   ]
  },
  {
   "cell_type": "code",
   "execution_count": 1,
   "id": "36126d74-a9d8-4431-ba49-767c1fc2ec49",
   "metadata": {
    "tags": [
     "parameters"
    ]
   },
   "outputs": [],
   "source": [
    "# Defaults\n",
    "simulation_dir = 'simulations/unset'\n",
    "ncores = 48"
   ]
  },
  {
   "cell_type": "code",
   "execution_count": 2,
   "id": "15e911d7-0ffc-4110-aefe-71bc77e689cd",
   "metadata": {},
   "outputs": [],
   "source": [
    "from pathlib import Path\n",
    "import os\n",
    "\n",
    "simulation_data_dir = Path(simulation_dir) / 'simulated_data'\n",
    "initial_reads_dir = simulation_data_dir / 'reads_initial'\n",
    "reads_dir = simulation_data_dir / 'reads'\n",
    "assemblies_dir = simulation_data_dir / 'assemblies'\n",
    "\n",
    "if not reads_dir.exists():\n",
    "    os.mkdir(reads_dir)"
   ]
  },
  {
   "cell_type": "markdown",
   "id": "rotary-regard",
   "metadata": {},
   "source": [
    "# 2. Fix reads\n",
    "\n",
    "Fix read file names and data so they can be indexed."
   ]
  },
  {
   "cell_type": "code",
   "execution_count": 3,
   "id": "convenient-blackberry",
   "metadata": {},
   "outputs": [
    {
     "name": "stdout",
     "output_type": "stream",
     "text": [
      "~/workspace/genomics-data-index-evaluation-manuscript/evaluations/simulation/simulations/unset/simulated_data/reads_initial ~/workspace/genomics-data-index-evaluation-manuscript/evaluations/simulation\n",
      "~/workspace/genomics-data-index-evaluation-manuscript/evaluations/simulation\n"
     ]
    }
   ],
   "source": [
    "import os\n",
    "\n",
    "# Fix warning about locale unset\n",
    "os.environ['LANG'] = 'en_US.UTF-8'\n",
    "\n",
    "!pushd {initial_reads_dir}; prename 's/data_//' *.fq.gz; popd"
   ]
  },
  {
   "cell_type": "markdown",
   "id": "median-belle",
   "metadata": {},
   "source": [
    "Jackalope produces reads with non-standard identifiers where pairs of reads don't have matching identifiers. For example:\n",
    "\n",
    "* Pair 1: `@SH08-001-NC_011083-3048632-R/1`\n",
    "* Pair 2: `@SH08-001-NC_011083-3048396-F/2`\n",
    "\n",
    "In order to run snippy, these paired identifiers need to match (except for the `/1` and `/2` suffix).\n",
    "\n",
    "So, I have to replace them all with something unique, but which matches in each pair of files. I do this by replacing the position (I think) with the read number (as it appears in the file). So the above identifiers become:\n",
    "\n",
    "* Pair 1: `@SH08-001-NC_011083-1/1`\n",
    "* Pair 2: `@SH08-001-NC_011083-1/2`"
   ]
  },
  {
   "cell_type": "code",
   "execution_count": 4,
   "id": "remarkable-berry",
   "metadata": {},
   "outputs": [],
   "source": [
    "import glob\n",
    "import os\n",
    "\n",
    "files = [os.path.basename(f) for f in glob.glob(f'{initial_reads_dir}/*.fq.gz')]\n",
    "!parallel -j {ncores} -I% 'gzip -d --stdout {initial_reads_dir}/% | perl scripts/replace-fastq-header.pl | gzip > {reads_dir}/%' \\\n",
    "    ::: {' '.join(files)}"
   ]
  },
  {
   "cell_type": "code",
   "execution_count": 5,
   "id": "8318e7a8-1057-4e4f-aaec-fccdec42a75f",
   "metadata": {},
   "outputs": [],
   "source": [
    "import shutil\n",
    "\n",
    "shutil.rmtree(initial_reads_dir)"
   ]
  },
  {
   "cell_type": "markdown",
   "id": "cf630b4f-ed63-4e14-9657-e0aaea0953ab",
   "metadata": {},
   "source": [
    "# 3. Fix assemblies\n",
    "\n",
    "Fix assembly genome names"
   ]
  },
  {
   "cell_type": "code",
   "execution_count": 6,
   "id": "08fac610-3ab3-4afa-9873-406973041963",
   "metadata": {},
   "outputs": [
    {
     "name": "stdout",
     "output_type": "stream",
     "text": [
      "~/workspace/genomics-data-index-evaluation-manuscript/evaluations/simulation/simulations/unset/simulated_data/assemblies ~/workspace/genomics-data-index-evaluation-manuscript/evaluations/simulation\n",
      "~/workspace/genomics-data-index-evaluation-manuscript/evaluations/simulation\n"
     ]
    }
   ],
   "source": [
    "!pushd {assemblies_dir}; prename 's/data__//' *.fa.gz; popd"
   ]
  }
 ],
 "metadata": {
  "kernelspec": {
   "display_name": "Python 3 (ipykernel)",
   "language": "python",
   "name": "python3"
  },
  "language_info": {
   "codemirror_mode": {
    "name": "ipython",
    "version": 3
   },
   "file_extension": ".py",
   "mimetype": "text/x-python",
   "name": "python",
   "nbconvert_exporter": "python",
   "pygments_lexer": "ipython3",
   "version": "3.8.13"
  }
 },
 "nbformat": 4,
 "nbformat_minor": 5
}
