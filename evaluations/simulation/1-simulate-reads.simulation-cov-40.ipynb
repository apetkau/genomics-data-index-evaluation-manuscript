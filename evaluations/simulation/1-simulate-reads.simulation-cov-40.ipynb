{
 "cells": [
  {
   "cell_type": "markdown",
   "id": "39afc998-7d9f-4d4e-9147-fb6198f83f2d",
   "metadata": {
    "papermill": {
     "duration": 0.007728,
     "end_time": "2022-10-18T22:59:50.416851",
     "exception": false,
     "start_time": "2022-10-18T22:59:50.409123",
     "status": "completed"
    },
    "tags": []
   },
   "source": [
    "# 1. Parameters"
   ]
  },
  {
   "cell_type": "code",
   "execution_count": 1,
   "id": "8eee723b-55a2-4355-b867-c5e682a9f800",
   "metadata": {
    "execution": {
     "iopub.execute_input": "2022-10-18T22:59:50.473183Z",
     "iopub.status.busy": "2022-10-18T22:59:50.470670Z",
     "iopub.status.idle": "2022-10-18T22:59:50.528231Z",
     "shell.execute_reply": "2022-10-18T22:59:50.526599Z"
    },
    "papermill": {
     "duration": 0.109256,
     "end_time": "2022-10-18T22:59:50.531882",
     "exception": false,
     "start_time": "2022-10-18T22:59:50.422626",
     "status": "completed"
    },
    "tags": [
     "parameters"
    ]
   },
   "outputs": [],
   "source": [
    "# Defaults\n",
    "\n",
    "## Random seed\n",
    "random_seed <- 25524\n",
    "\n",
    "## Directories\n",
    "simulation_dir <- \"simulations/unset\"\n",
    "reference_file <- \"simulations/reference/reference.fa.gz\"\n",
    "initial_tree_file <- \"input/salmonella.tre\"\n",
    "\n",
    "## Simulation parameters\n",
    "sub_lambda <- 1e-2\n",
    "sub_pi_tcag <- c(0.1, 0.2, 0.3, 0.4)\n",
    "sub_alpha <- 0.2\n",
    "sub_beta <- sub_alpha/2\n",
    "sub_mu <- 1\n",
    "sub_invariant <- 0.3\n",
    "ins_rate <- 1e-4\n",
    "ins_max_length <- 60\n",
    "ins_a <- 1.6\n",
    "del_rate <- 1e-4\n",
    "del_max_length <- 60\n",
    "del_a <- 1.6\n",
    "\n",
    "## Read simulation information\n",
    "read_coverage <- 30\n",
    "read_length <- 250\n",
    "\n",
    "## Other\n",
    "ncores <- 48"
   ]
  },
  {
   "cell_type": "code",
   "execution_count": 2,
   "id": "6dbb94ae",
   "metadata": {
    "execution": {
     "iopub.execute_input": "2022-10-18T22:59:50.580945Z",
     "iopub.status.busy": "2022-10-18T22:59:50.544869Z",
     "iopub.status.idle": "2022-10-18T22:59:50.594608Z",
     "shell.execute_reply": "2022-10-18T22:59:50.593376Z"
    },
    "papermill": {
     "duration": 0.059636,
     "end_time": "2022-10-18T22:59:50.597734",
     "exception": false,
     "start_time": "2022-10-18T22:59:50.538098",
     "status": "completed"
    },
    "tags": [
     "injected-parameters"
    ]
   },
   "outputs": [],
   "source": [
    "# Parameters\n",
    "read_coverage = 40\n",
    "mincov = 10\n",
    "simulation_dir = \"simulations/cov-40\"\n",
    "iterations = 1\n",
    "sub_alpha = 0.2\n"
   ]
  },
  {
   "cell_type": "code",
   "execution_count": 3,
   "id": "845350c4-9369-4350-bcce-504d05f5ff55",
   "metadata": {
    "execution": {
     "iopub.execute_input": "2022-10-18T22:59:50.611632Z",
     "iopub.status.busy": "2022-10-18T22:59:50.610218Z",
     "iopub.status.idle": "2022-10-18T22:59:50.631819Z",
     "shell.execute_reply": "2022-10-18T22:59:50.630538Z"
    },
    "papermill": {
     "duration": 0.031318,
     "end_time": "2022-10-18T22:59:50.635050",
     "exception": false,
     "start_time": "2022-10-18T22:59:50.603732",
     "status": "completed"
    },
    "tags": []
   },
   "outputs": [
    {
     "name": "stdout",
     "output_type": "stream",
     "text": [
      "[1] \"simulations/cov-40/simulated_data\"\n"
     ]
    },
    {
     "name": "stdout",
     "output_type": "stream",
     "text": [
      "[1] \"simulations/cov-40/simulated_data/haplotypes\"\n"
     ]
    }
   ],
   "source": [
    "output_dir <- file.path(simulation_dir, \"simulated_data\")\n",
    "output_vcf_prefix <- file.path(output_dir, \"haplotypes\")\n",
    "reads_data_initial_prefix <- file.path(output_dir, \"reads_initial\", \"data\")\n",
    "set.seed(random_seed)\n",
    "print(output_dir)\n",
    "print(output_vcf_prefix)"
   ]
  },
  {
   "cell_type": "markdown",
   "id": "noticed-coating",
   "metadata": {
    "papermill": {
     "duration": 0.004835,
     "end_time": "2022-10-18T22:59:50.645245",
     "exception": false,
     "start_time": "2022-10-18T22:59:50.640410",
     "status": "completed"
    },
    "tags": []
   },
   "source": [
    "# 2. Generate simulated data\n",
    "\n",
    "This simulates *Salmonella* data using a reference genome and a tree."
   ]
  },
  {
   "cell_type": "code",
   "execution_count": 4,
   "id": "bright-polymer",
   "metadata": {
    "execution": {
     "iopub.execute_input": "2022-10-18T22:59:50.654611Z",
     "iopub.status.busy": "2022-10-18T22:59:50.653327Z",
     "iopub.status.idle": "2022-10-18T22:59:50.743004Z",
     "shell.execute_reply": "2022-10-18T22:59:50.741800Z"
    },
    "papermill": {
     "duration": 0.097202,
     "end_time": "2022-10-18T22:59:50.746288",
     "exception": false,
     "start_time": "2022-10-18T22:59:50.649086",
     "status": "completed"
    },
    "tags": []
   },
   "outputs": [
    {
     "data": {
      "text/html": [
       "TRUE"
      ],
      "text/latex": [
       "TRUE"
      ],
      "text/markdown": [
       "TRUE"
      ],
      "text/plain": [
       "[1] TRUE"
      ]
     },
     "metadata": {},
     "output_type": "display_data"
    }
   ],
   "source": [
    "library(jackalope)\n",
    "\n",
    "# Make sure we've complied with openmp\n",
    "jackalope:::using_openmp()"
   ]
  },
  {
   "cell_type": "code",
   "execution_count": 5,
   "id": "303635b1-41dc-4917-8e90-30832a9acafd",
   "metadata": {
    "execution": {
     "iopub.execute_input": "2022-10-18T22:59:50.760751Z",
     "iopub.status.busy": "2022-10-18T22:59:50.759425Z",
     "iopub.status.idle": "2022-10-18T22:59:50.777593Z",
     "shell.execute_reply": "2022-10-18T22:59:50.776326Z"
    },
    "papermill": {
     "duration": 0.02815,
     "end_time": "2022-10-18T22:59:50.780315",
     "exception": false,
     "start_time": "2022-10-18T22:59:50.752165",
     "status": "completed"
    },
    "tags": []
   },
   "outputs": [
    {
     "data": {
      "text/plain": [
       "< Set of 2 chromosomes >\n",
       "# Total size: 19,699 bp\n",
       "  name                             chromosome                             length\n",
       "chrom0     GTATTGCGAGGGTGGGGGAGTACGGCAG...CAAGAATGCAACCGACTCTGTCGGGACT     10834\n",
       "chrom1     CACCTCGAGCAGATCCTAGTTTGCGCGA...TGCGAATTTATCGCCTAATCCAATGTTA      8865"
      ]
     },
     "metadata": {},
     "output_type": "display_data"
    }
   ],
   "source": [
    "reference <- read_fasta(reference_file)\n",
    "reference_len <- sum(reference$sizes())\n",
    "reference"
   ]
  },
  {
   "cell_type": "code",
   "execution_count": 6,
   "id": "documented-helmet",
   "metadata": {
    "execution": {
     "iopub.execute_input": "2022-10-18T22:59:50.794996Z",
     "iopub.status.busy": "2022-10-18T22:59:50.793605Z",
     "iopub.status.idle": "2022-10-18T22:59:50.878335Z",
     "shell.execute_reply": "2022-10-18T22:59:50.876819Z"
    },
    "papermill": {
     "duration": 0.094069,
     "end_time": "2022-10-18T22:59:50.881466",
     "exception": false,
     "start_time": "2022-10-18T22:59:50.787397",
     "status": "completed"
    },
    "tags": []
   },
   "outputs": [
    {
     "data": {
      "text/plain": [
       "\n",
       "Phylogenetic tree with 60 tips and 59 internal nodes.\n",
       "\n",
       "Tip labels:\n",
       "  reference, SH12-013, SH12-014, SH10-015, SH10-014, SH11-002, ...\n",
       "Node labels:\n",
       "  Root, 1.000000, 0.000000, 0.000000, 1.000000, 0.000000, ...\n",
       "\n",
       "Rooted; includes branch lengths."
      ]
     },
     "metadata": {},
     "output_type": "display_data"
    }
   ],
   "source": [
    "library(ape)\n",
    "\n",
    "tree <- read.tree(initial_tree_file)\n",
    "tree <- root(tree, \"reference\", resolve.root=TRUE)\n",
    "tree"
   ]
  },
  {
   "cell_type": "code",
   "execution_count": 7,
   "id": "proved-silver",
   "metadata": {
    "execution": {
     "iopub.execute_input": "2022-10-18T22:59:50.896641Z",
     "iopub.status.busy": "2022-10-18T22:59:50.894984Z",
     "iopub.status.idle": "2022-10-18T22:59:51.033979Z",
     "shell.execute_reply": "2022-10-18T22:59:51.032643Z"
    },
    "papermill": {
     "duration": 0.14891,
     "end_time": "2022-10-18T22:59:51.037385",
     "exception": false,
     "start_time": "2022-10-18T22:59:50.888475",
     "status": "completed"
    },
    "tags": []
   },
   "outputs": [
    {
     "data": {
      "text/plain": [
       "                              << haplotypes object >>\n",
       "# Haplotypes: 60\n",
       "# Mutations: 16,932\n",
       "\n",
       "                          << Reference genome info: >>\n",
       "< Set of 2 chromosomes >\n",
       "# Total size: 19,699 bp\n",
       "  name                             chromosome                             length\n",
       "chrom0     GTATTGCGAGGGTGGGGGAGTACGGCAG...CAAGAATGCAACCGACTCTGTCGGGACT     10834\n",
       "chrom1     CACCTCGAGCAGATCCTAGTTTGCGCGA...TGCGAATTTATCGCCTAATCCAATGTTA      8865"
      ]
     },
     "metadata": {},
     "output_type": "display_data"
    }
   ],
   "source": [
    "sub <- sub_HKY85(pi_tcag = sub_pi_tcag, mu = sub_mu,\n",
    "                 alpha = sub_alpha, beta = sub_beta, gamma_shape=1, gamma_k = 5,\n",
    "                 invariant = sub_invariant)\n",
    "ins <- indels(rate = ins_rate, max_length = ins_max_length, a = ins_a)\n",
    "del <- indels(rate = del_rate, max_length = del_max_length, a = del_a)\n",
    "\n",
    "ref_haplotypes <- create_haplotypes(reference, haps_phylo(tree), sub=sub, ins=ins, del=del)\n",
    "ref_haplotypes"
   ]
  },
  {
   "cell_type": "markdown",
   "id": "535fa02d-c76c-4067-9582-74f3694d16ea",
   "metadata": {
    "papermill": {
     "duration": 0.006464,
     "end_time": "2022-10-18T22:59:51.051183",
     "exception": false,
     "start_time": "2022-10-18T22:59:51.044719",
     "status": "completed"
    },
    "tags": []
   },
   "source": [
    "# 3. Write simulated data"
   ]
  },
  {
   "cell_type": "code",
   "execution_count": 8,
   "id": "smoking-geology",
   "metadata": {
    "execution": {
     "iopub.execute_input": "2022-10-18T22:59:51.063614Z",
     "iopub.status.busy": "2022-10-18T22:59:51.061466Z",
     "iopub.status.idle": "2022-10-18T22:59:51.095844Z",
     "shell.execute_reply": "2022-10-18T22:59:51.094511Z"
    },
    "papermill": {
     "duration": 0.04275,
     "end_time": "2022-10-18T22:59:51.098205",
     "exception": false,
     "start_time": "2022-10-18T22:59:51.055455",
     "status": "completed"
    },
    "tags": []
   },
   "outputs": [],
   "source": [
    "write_vcf(ref_haplotypes, out_prefix=output_vcf_prefix, compress=TRUE)"
   ]
  },
  {
   "cell_type": "code",
   "execution_count": 9,
   "id": "d2657fc5-481e-4b24-bbf8-78c02ee735ce",
   "metadata": {
    "execution": {
     "iopub.execute_input": "2022-10-18T22:59:51.114585Z",
     "iopub.status.busy": "2022-10-18T22:59:51.113178Z",
     "iopub.status.idle": "2022-10-18T22:59:51.221788Z",
     "shell.execute_reply": "2022-10-18T22:59:51.217406Z"
    },
    "papermill": {
     "duration": 0.122042,
     "end_time": "2022-10-18T22:59:51.226968",
     "exception": false,
     "start_time": "2022-10-18T22:59:51.104926",
     "status": "completed"
    },
    "tags": []
   },
   "outputs": [],
   "source": [
    "assemblies_prefix = file.path(output_dir, \"assemblies\", \"data\")\n",
    "\n",
    "write_fasta(ref_haplotypes, out_prefix=assemblies_prefix,\n",
    "            compress=TRUE, n_threads=ncores, overwrite=TRUE)"
   ]
  },
  {
   "cell_type": "code",
   "execution_count": 10,
   "id": "continent-freeze",
   "metadata": {
    "execution": {
     "iopub.execute_input": "2022-10-18T22:59:51.243822Z",
     "iopub.status.busy": "2022-10-18T22:59:51.242130Z",
     "iopub.status.idle": "2022-10-18T23:05:29.485858Z",
     "shell.execute_reply": "2022-10-18T23:05:29.482995Z"
    },
    "papermill": {
     "duration": 338.254535,
     "end_time": "2022-10-18T23:05:29.489173",
     "exception": false,
     "start_time": "2022-10-18T22:59:51.234638",
     "status": "completed"
    },
    "tags": []
   },
   "outputs": [
    {
     "name": "stdout",
     "output_type": "stream",
     "text": [
      "[1] \"Number of reads for coverage 40X and read length 250 over 60 samples with respect to reference with length 19699: 189110\"\n"
     ]
    }
   ],
   "source": [
    "n_samples <- length(tree$tip)\n",
    "n_reads <- round((reference_len * read_coverage * n_samples) / read_length)\n",
    "print(sprintf(\"Number of reads for coverage %sX and read length %s over %s samples with respect to reference with length %s: %s\", \n",
    "              read_coverage, read_length, n_samples, reference_len, n_reads))\n",
    "\n",
    "illumina(ref_haplotypes, out_prefix = reads_data_initial_prefix, sep_files=TRUE, n_reads = n_reads,\n",
    "         frag_mean = read_length * 2 + 50, frag_sd = 100,\n",
    "         compress=TRUE, comp_method=\"bgzip\", n_threads=ncores,\n",
    "         paired=TRUE, read_length = read_length)"
   ]
  },
  {
   "cell_type": "code",
   "execution_count": 11,
   "id": "22be4c4e-3289-43f7-852b-4357eb4dd758",
   "metadata": {
    "execution": {
     "iopub.execute_input": "2022-10-18T23:05:29.510888Z",
     "iopub.status.busy": "2022-10-18T23:05:29.509589Z",
     "iopub.status.idle": "2022-10-18T23:05:29.547641Z",
     "shell.execute_reply": "2022-10-18T23:05:29.546241Z"
    },
    "papermill": {
     "duration": 0.053026,
     "end_time": "2022-10-18T23:05:29.550482",
     "exception": false,
     "start_time": "2022-10-18T23:05:29.497456",
     "status": "completed"
    },
    "tags": []
   },
   "outputs": [
    {
     "name": "stdout",
     "output_type": "stream",
     "text": [
      "[1] \"Renaming: simulations/cov-40/simulated_data/reads_initial/data_reference_R1.fq.gz to simulations/cov-40/simulated_data/reads_initial/data_reference-simulated_R1.fq.gz\"\n"
     ]
    },
    {
     "name": "stdout",
     "output_type": "stream",
     "text": [
      "[1] \"Renaming: simulations/cov-40/simulated_data/reads_initial/data_reference_R2.fq.gz to simulations/cov-40/simulated_data/reads_initial/data_reference-simulated_R2.fq.gz\"\n"
     ]
    }
   ],
   "source": [
    "# Rename the simulated reads for the reference genome\n",
    "ref1 <- paste(toString(reads_data_initial_prefix), \"_reference_R1.fq.gz\", sep=\"\")\n",
    "ref2 <- paste(toString(reads_data_initial_prefix), \"_reference_R2.fq.gz\", sep=\"\")\n",
    "\n",
    "newref1 <- paste(toString(reads_data_initial_prefix), \"_reference-simulated_R1.fq.gz\", sep=\"\")\n",
    "newref2 <- paste(toString(reads_data_initial_prefix), \"_reference-simulated_R2.fq.gz\", sep=\"\")\n",
    "\n",
    "if (file.exists(ref1)) {\n",
    "    file.rename(ref1, newref1)\n",
    "    print(sprintf(\"Renaming: %s to %s\", ref1, newref1))\n",
    "}\n",
    "if (file.exists(ref2)) {\n",
    "    file.rename(ref2, newref2)\n",
    "    print(sprintf(\"Renaming: %s to %s\", ref2, newref2))\n",
    "}"
   ]
  }
 ],
 "metadata": {
  "kernelspec": {
   "display_name": "R",
   "language": "R",
   "name": "ir"
  },
  "language_info": {
   "codemirror_mode": "r",
   "file_extension": ".r",
   "mimetype": "text/x-r-source",
   "name": "R",
   "pygments_lexer": "r",
   "version": "4.1.3"
  },
  "papermill": {
   "default_parameters": {},
   "duration": 340.749751,
   "end_time": "2022-10-18T23:05:30.079235",
   "environment_variables": {},
   "exception": null,
   "input_path": "template-1-simulate-reads.ipynb",
   "output_path": "1-simulate-reads.simulation-cov-40.ipynb",
   "parameters": {
    "iterations": 1,
    "mincov": 10,
    "read_coverage": 40,
    "simulation_dir": "simulations/cov-40",
    "sub_alpha": 0.2
   },
   "start_time": "2022-10-18T22:59:49.329484",
   "version": "2.3.4"
  }
 },
 "nbformat": 4,
 "nbformat_minor": 5
}