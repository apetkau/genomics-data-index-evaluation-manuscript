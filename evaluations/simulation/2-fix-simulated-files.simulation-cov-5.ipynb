{
 "cells": [
  {
   "cell_type": "markdown",
   "id": "acfa5482-d626-44d6-b613-863e6911fa98",
   "metadata": {
    "papermill": {
     "duration": 0.006538,
     "end_time": "2022-09-29T19:35:03.604739",
     "exception": false,
     "start_time": "2022-09-29T19:35:03.598201",
     "status": "completed"
    },
    "tags": []
   },
   "source": [
    "# 1. Parameters"
   ]
  },
  {
   "cell_type": "code",
   "execution_count": 1,
   "id": "36126d74-a9d8-4431-ba49-767c1fc2ec49",
   "metadata": {
    "execution": {
     "iopub.execute_input": "2022-09-29T19:35:03.616080Z",
     "iopub.status.busy": "2022-09-29T19:35:03.615226Z",
     "iopub.status.idle": "2022-09-29T19:35:03.631555Z",
     "shell.execute_reply": "2022-09-29T19:35:03.630339Z"
    },
    "papermill": {
     "duration": 0.025334,
     "end_time": "2022-09-29T19:35:03.635323",
     "exception": false,
     "start_time": "2022-09-29T19:35:03.609989",
     "status": "completed"
    },
    "tags": [
     "parameters"
    ]
   },
   "outputs": [],
   "source": [
    "# Defaults\n",
    "simulation_dir = 'simulations/unset'\n",
    "ncores = 48"
   ]
  },
  {
   "cell_type": "code",
   "execution_count": 2,
   "id": "549f5d50",
   "metadata": {
    "execution": {
     "iopub.execute_input": "2022-09-29T19:35:03.650287Z",
     "iopub.status.busy": "2022-09-29T19:35:03.649659Z",
     "iopub.status.idle": "2022-09-29T19:35:03.656270Z",
     "shell.execute_reply": "2022-09-29T19:35:03.654825Z"
    },
    "papermill": {
     "duration": 0.018751,
     "end_time": "2022-09-29T19:35:03.658991",
     "exception": false,
     "start_time": "2022-09-29T19:35:03.640240",
     "status": "completed"
    },
    "tags": [
     "injected-parameters"
    ]
   },
   "outputs": [],
   "source": [
    "# Parameters\n",
    "read_coverage = 5\n",
    "mincov = 10\n",
    "simulation_dir = \"simulations/cov-5\"\n",
    "iterations = 3\n",
    "sub_alpha = 0.2\n"
   ]
  },
  {
   "cell_type": "code",
   "execution_count": 3,
   "id": "15e911d7-0ffc-4110-aefe-71bc77e689cd",
   "metadata": {
    "execution": {
     "iopub.execute_input": "2022-09-29T19:35:03.668138Z",
     "iopub.status.busy": "2022-09-29T19:35:03.667621Z",
     "iopub.status.idle": "2022-09-29T19:35:03.676412Z",
     "shell.execute_reply": "2022-09-29T19:35:03.674959Z"
    },
    "papermill": {
     "duration": 0.016021,
     "end_time": "2022-09-29T19:35:03.679089",
     "exception": false,
     "start_time": "2022-09-29T19:35:03.663068",
     "status": "completed"
    },
    "tags": []
   },
   "outputs": [],
   "source": [
    "from pathlib import Path\n",
    "import os\n",
    "\n",
    "simulation_data_dir = Path(simulation_dir) / 'simulated_data'\n",
    "initial_reads_dir = simulation_data_dir / 'reads_initial'\n",
    "reads_dir = simulation_data_dir / 'reads'\n",
    "assemblies_dir = simulation_data_dir / 'assemblies'\n",
    "\n",
    "if not reads_dir.exists():\n",
    "    os.mkdir(reads_dir)"
   ]
  },
  {
   "cell_type": "markdown",
   "id": "rotary-regard",
   "metadata": {
    "papermill": {
     "duration": 0.003847,
     "end_time": "2022-09-29T19:35:03.686355",
     "exception": false,
     "start_time": "2022-09-29T19:35:03.682508",
     "status": "completed"
    },
    "tags": []
   },
   "source": [
    "# 2. Fix reads\n",
    "\n",
    "Fix read file names and data so they can be indexed."
   ]
  },
  {
   "cell_type": "code",
   "execution_count": 4,
   "id": "convenient-blackberry",
   "metadata": {
    "execution": {
     "iopub.execute_input": "2022-09-29T19:35:03.694914Z",
     "iopub.status.busy": "2022-09-29T19:35:03.694260Z",
     "iopub.status.idle": "2022-09-29T19:35:03.884657Z",
     "shell.execute_reply": "2022-09-29T19:35:03.883028Z"
    },
    "papermill": {
     "duration": 0.198431,
     "end_time": "2022-09-29T19:35:03.888380",
     "exception": false,
     "start_time": "2022-09-29T19:35:03.689949",
     "status": "completed"
    },
    "tags": []
   },
   "outputs": [
    {
     "name": "stdout",
     "output_type": "stream",
     "text": [
      "~/workspace/genomics-data-index-evaluation-manuscript/evaluations/simulation/simulations/cov-5/simulated_data/reads_initial ~/workspace/genomics-data-index-evaluation-manuscript/evaluations/simulation\r\n"
     ]
    },
    {
     "name": "stdout",
     "output_type": "stream",
     "text": [
      "~/workspace/genomics-data-index-evaluation-manuscript/evaluations/simulation\r\n"
     ]
    }
   ],
   "source": [
    "import os\n",
    "\n",
    "# Fix warning about locale unset\n",
    "os.environ['LANG'] = 'en_US.UTF-8'\n",
    "\n",
    "!pushd {initial_reads_dir}; prename 's/data_//' *.fq.gz; popd"
   ]
  },
  {
   "cell_type": "markdown",
   "id": "median-belle",
   "metadata": {
    "papermill": {
     "duration": 0.005278,
     "end_time": "2022-09-29T19:35:03.899291",
     "exception": false,
     "start_time": "2022-09-29T19:35:03.894013",
     "status": "completed"
    },
    "tags": []
   },
   "source": [
    "Jackalope produces reads with non-standard identifiers where pairs of reads don't have matching identifiers. For example:\n",
    "\n",
    "* Pair 1: `@SH08-001-NC_011083-3048632-R/1`\n",
    "* Pair 2: `@SH08-001-NC_011083-3048396-F/2`\n",
    "\n",
    "In order to run snippy, these paired identifiers need to match (except for the `/1` and `/2` suffix).\n",
    "\n",
    "So, I have to replace them all with something unique, but which matches in each pair of files. I do this by replacing the position (I think) with the read number (as it appears in the file). So the above identifiers become:\n",
    "\n",
    "* Pair 1: `@SH08-001-NC_011083-1/1`\n",
    "* Pair 2: `@SH08-001-NC_011083-1/2`"
   ]
  },
  {
   "cell_type": "code",
   "execution_count": 5,
   "id": "remarkable-berry",
   "metadata": {
    "execution": {
     "iopub.execute_input": "2022-09-29T19:35:03.910468Z",
     "iopub.status.busy": "2022-09-29T19:35:03.909739Z",
     "iopub.status.idle": "2022-09-29T19:35:04.774511Z",
     "shell.execute_reply": "2022-09-29T19:35:04.772337Z"
    },
    "papermill": {
     "duration": 0.87457,
     "end_time": "2022-09-29T19:35:04.778684",
     "exception": false,
     "start_time": "2022-09-29T19:35:03.904114",
     "status": "completed"
    },
    "tags": []
   },
   "outputs": [],
   "source": [
    "import glob\n",
    "import os\n",
    "\n",
    "files = [os.path.basename(f) for f in glob.glob(f'{initial_reads_dir}/*.fq.gz')]\n",
    "!parallel -j {ncores} -I% 'gzip -d --stdout {initial_reads_dir}/% | perl scripts/replace-fastq-header.pl | gzip > {reads_dir}/%' \\\n",
    "    ::: {' '.join(files)}"
   ]
  },
  {
   "cell_type": "code",
   "execution_count": 6,
   "id": "8318e7a8-1057-4e4f-aaec-fccdec42a75f",
   "metadata": {
    "execution": {
     "iopub.execute_input": "2022-09-29T19:35:04.792693Z",
     "iopub.status.busy": "2022-09-29T19:35:04.792096Z",
     "iopub.status.idle": "2022-09-29T19:35:04.805796Z",
     "shell.execute_reply": "2022-09-29T19:35:04.804355Z"
    },
    "papermill": {
     "duration": 0.024478,
     "end_time": "2022-09-29T19:35:04.808930",
     "exception": false,
     "start_time": "2022-09-29T19:35:04.784452",
     "status": "completed"
    },
    "tags": []
   },
   "outputs": [],
   "source": [
    "import shutil\n",
    "\n",
    "shutil.rmtree(initial_reads_dir)"
   ]
  },
  {
   "cell_type": "markdown",
   "id": "cf630b4f-ed63-4e14-9657-e0aaea0953ab",
   "metadata": {
    "papermill": {
     "duration": 0.005406,
     "end_time": "2022-09-29T19:35:04.819541",
     "exception": false,
     "start_time": "2022-09-29T19:35:04.814135",
     "status": "completed"
    },
    "tags": []
   },
   "source": [
    "# 3. Fix assemblies\n",
    "\n",
    "Fix assembly genome names"
   ]
  },
  {
   "cell_type": "code",
   "execution_count": 7,
   "id": "08fac610-3ab3-4afa-9873-406973041963",
   "metadata": {
    "execution": {
     "iopub.execute_input": "2022-09-29T19:35:04.829641Z",
     "iopub.status.busy": "2022-09-29T19:35:04.829106Z",
     "iopub.status.idle": "2022-09-29T19:35:05.007755Z",
     "shell.execute_reply": "2022-09-29T19:35:05.005948Z"
    },
    "papermill": {
     "duration": 0.187767,
     "end_time": "2022-09-29T19:35:05.011488",
     "exception": false,
     "start_time": "2022-09-29T19:35:04.823721",
     "status": "completed"
    },
    "tags": []
   },
   "outputs": [
    {
     "name": "stdout",
     "output_type": "stream",
     "text": [
      "~/workspace/genomics-data-index-evaluation-manuscript/evaluations/simulation/simulations/cov-5/simulated_data/assemblies ~/workspace/genomics-data-index-evaluation-manuscript/evaluations/simulation\r\n"
     ]
    },
    {
     "name": "stdout",
     "output_type": "stream",
     "text": [
      "~/workspace/genomics-data-index-evaluation-manuscript/evaluations/simulation\r\n"
     ]
    }
   ],
   "source": [
    "!pushd {assemblies_dir}; prename 's/data__//' *.fa.gz; popd"
   ]
  }
 ],
 "metadata": {
  "kernelspec": {
   "display_name": "Python 3 (ipykernel)",
   "language": "python",
   "name": "python3"
  },
  "language_info": {
   "codemirror_mode": {
    "name": "ipython",
    "version": 3
   },
   "file_extension": ".py",
   "mimetype": "text/x-python",
   "name": "python",
   "nbconvert_exporter": "python",
   "pygments_lexer": "ipython3",
   "version": "3.8.13"
  },
  "papermill": {
   "default_parameters": {},
   "duration": 3.190472,
   "end_time": "2022-09-29T19:35:05.240638",
   "environment_variables": {},
   "exception": null,
   "input_path": "template-2-fix-simulated-files.ipynb",
   "output_path": "2-fix-simulated-files.simulation-cov-5.ipynb",
   "parameters": {
    "iterations": 3,
    "mincov": 10,
    "read_coverage": 5,
    "simulation_dir": "simulations/cov-5",
    "sub_alpha": 0.2
   },
   "start_time": "2022-09-29T19:35:02.050166",
   "version": "2.3.4"
  }
 },
 "nbformat": 4,
 "nbformat_minor": 5
}