{
 "cells": [
  {
   "cell_type": "markdown",
   "id": "acfa5482-d626-44d6-b613-863e6911fa98",
   "metadata": {
    "papermill": {
     "duration": 0.007296,
     "end_time": "2022-10-18T23:11:38.761690",
     "exception": false,
     "start_time": "2022-10-18T23:11:38.754394",
     "status": "completed"
    },
    "tags": []
   },
   "source": [
    "# 1. Parameters"
   ]
  },
  {
   "cell_type": "code",
   "execution_count": 1,
   "id": "36126d74-a9d8-4431-ba49-767c1fc2ec49",
   "metadata": {
    "execution": {
     "iopub.execute_input": "2022-10-18T23:11:38.774468Z",
     "iopub.status.busy": "2022-10-18T23:11:38.773651Z",
     "iopub.status.idle": "2022-10-18T23:11:38.789905Z",
     "shell.execute_reply": "2022-10-18T23:11:38.788675Z"
    },
    "papermill": {
     "duration": 0.026004,
     "end_time": "2022-10-18T23:11:38.793784",
     "exception": false,
     "start_time": "2022-10-18T23:11:38.767780",
     "status": "completed"
    },
    "tags": [
     "parameters"
    ]
   },
   "outputs": [],
   "source": [
    "# Defaults\n",
    "simulation_dir = 'simulations/unset'\n",
    "ncores = 48"
   ]
  },
  {
   "cell_type": "code",
   "execution_count": 2,
   "id": "952a6404",
   "metadata": {
    "execution": {
     "iopub.execute_input": "2022-10-18T23:11:38.806418Z",
     "iopub.status.busy": "2022-10-18T23:11:38.805894Z",
     "iopub.status.idle": "2022-10-18T23:11:38.812742Z",
     "shell.execute_reply": "2022-10-18T23:11:38.811498Z"
    },
    "papermill": {
     "duration": 0.0167,
     "end_time": "2022-10-18T23:11:38.816192",
     "exception": false,
     "start_time": "2022-10-18T23:11:38.799492",
     "status": "completed"
    },
    "tags": [
     "injected-parameters"
    ]
   },
   "outputs": [],
   "source": [
    "# Parameters\n",
    "read_coverage = 5\n",
    "mincov = 10\n",
    "simulation_dir = \"simulations/cov-5\"\n",
    "iterations = 1\n",
    "sub_alpha = 0.2\n"
   ]
  },
  {
   "cell_type": "code",
   "execution_count": 3,
   "id": "15e911d7-0ffc-4110-aefe-71bc77e689cd",
   "metadata": {
    "execution": {
     "iopub.execute_input": "2022-10-18T23:11:38.827724Z",
     "iopub.status.busy": "2022-10-18T23:11:38.827051Z",
     "iopub.status.idle": "2022-10-18T23:11:38.836800Z",
     "shell.execute_reply": "2022-10-18T23:11:38.835346Z"
    },
    "papermill": {
     "duration": 0.018039,
     "end_time": "2022-10-18T23:11:38.839559",
     "exception": false,
     "start_time": "2022-10-18T23:11:38.821520",
     "status": "completed"
    },
    "tags": []
   },
   "outputs": [],
   "source": [
    "from pathlib import Path\n",
    "import os\n",
    "\n",
    "simulation_data_dir = Path(simulation_dir) / 'simulated_data'\n",
    "initial_reads_dir = simulation_data_dir / 'reads_initial'\n",
    "reads_dir = simulation_data_dir / 'reads'\n",
    "assemblies_dir = simulation_data_dir / 'assemblies'\n",
    "assembled_reads_dir = simulation_data_dir / 'assembled_reads'\n",
    "\n",
    "if not reads_dir.exists():\n",
    "    os.mkdir(reads_dir)\n",
    "    \n",
    "if not assembled_reads_dir.exists():\n",
    "    os.mkdir(assembled_reads_dir)"
   ]
  },
  {
   "cell_type": "markdown",
   "id": "rotary-regard",
   "metadata": {
    "papermill": {
     "duration": 0.005053,
     "end_time": "2022-10-18T23:11:38.849482",
     "exception": false,
     "start_time": "2022-10-18T23:11:38.844429",
     "status": "completed"
    },
    "tags": []
   },
   "source": [
    "# 2. Fix reads\n",
    "\n",
    "Fix read file names and data so they can be indexed."
   ]
  },
  {
   "cell_type": "code",
   "execution_count": 4,
   "id": "convenient-blackberry",
   "metadata": {
    "execution": {
     "iopub.execute_input": "2022-10-18T23:11:38.859198Z",
     "iopub.status.busy": "2022-10-18T23:11:38.858264Z",
     "iopub.status.idle": "2022-10-18T23:11:39.040867Z",
     "shell.execute_reply": "2022-10-18T23:11:39.039016Z"
    },
    "papermill": {
     "duration": 0.191382,
     "end_time": "2022-10-18T23:11:39.044668",
     "exception": false,
     "start_time": "2022-10-18T23:11:38.853286",
     "status": "completed"
    },
    "tags": []
   },
   "outputs": [
    {
     "name": "stdout",
     "output_type": "stream",
     "text": [
      "~/workspace/genomics-data-index-evaluation-manuscript/evaluations/simulation/simulations/cov-5/simulated_data/reads_initial ~/workspace/genomics-data-index-evaluation-manuscript/evaluations/simulation\r\n"
     ]
    },
    {
     "name": "stdout",
     "output_type": "stream",
     "text": [
      "~/workspace/genomics-data-index-evaluation-manuscript/evaluations/simulation\r\n"
     ]
    }
   ],
   "source": [
    "import os\n",
    "\n",
    "# Fix warning about locale unset\n",
    "os.environ['LANG'] = 'en_US.UTF-8'\n",
    "\n",
    "!pushd {initial_reads_dir}; prename 's/data_//' *.fq.gz; popd"
   ]
  },
  {
   "cell_type": "markdown",
   "id": "median-belle",
   "metadata": {
    "papermill": {
     "duration": 0.004983,
     "end_time": "2022-10-18T23:11:39.055889",
     "exception": false,
     "start_time": "2022-10-18T23:11:39.050906",
     "status": "completed"
    },
    "tags": []
   },
   "source": [
    "Jackalope produces reads with non-standard identifiers where pairs of reads don't have matching identifiers. For example:\n",
    "\n",
    "* Pair 1: `@SH08-001-NC_011083-3048632-R/1`\n",
    "* Pair 2: `@SH08-001-NC_011083-3048396-F/2`\n",
    "\n",
    "In order to run snippy, these paired identifiers need to match (except for the `/1` and `/2` suffix).\n",
    "\n",
    "So, I have to replace them all with something unique, but which matches in each pair of files. I do this by replacing the position (I think) with the read number (as it appears in the file). So the above identifiers become:\n",
    "\n",
    "* Pair 1: `@SH08-001-NC_011083-1/1`\n",
    "* Pair 2: `@SH08-001-NC_011083-1/2`"
   ]
  },
  {
   "cell_type": "code",
   "execution_count": 5,
   "id": "remarkable-berry",
   "metadata": {
    "execution": {
     "iopub.execute_input": "2022-10-18T23:11:39.067311Z",
     "iopub.status.busy": "2022-10-18T23:11:39.066730Z",
     "iopub.status.idle": "2022-10-18T23:11:40.125123Z",
     "shell.execute_reply": "2022-10-18T23:11:40.122861Z"
    },
    "papermill": {
     "duration": 1.068627,
     "end_time": "2022-10-18T23:11:40.129357",
     "exception": false,
     "start_time": "2022-10-18T23:11:39.060730",
     "status": "completed"
    },
    "tags": []
   },
   "outputs": [],
   "source": [
    "import glob\n",
    "import os\n",
    "\n",
    "files = [os.path.basename(f) for f in glob.glob(f'{initial_reads_dir}/*.fq.gz')]\n",
    "!parallel -j {ncores} -I% 'gzip -d --stdout {initial_reads_dir}/% | perl scripts/replace-fastq-header.pl | gzip > {reads_dir}/%' \\\n",
    "    ::: {' '.join(files)}"
   ]
  },
  {
   "cell_type": "code",
   "execution_count": 6,
   "id": "8318e7a8-1057-4e4f-aaec-fccdec42a75f",
   "metadata": {
    "execution": {
     "iopub.execute_input": "2022-10-18T23:11:40.144770Z",
     "iopub.status.busy": "2022-10-18T23:11:40.144033Z",
     "iopub.status.idle": "2022-10-18T23:11:40.158892Z",
     "shell.execute_reply": "2022-10-18T23:11:40.157553Z"
    },
    "papermill": {
     "duration": 0.026056,
     "end_time": "2022-10-18T23:11:40.162493",
     "exception": false,
     "start_time": "2022-10-18T23:11:40.136437",
     "status": "completed"
    },
    "tags": []
   },
   "outputs": [],
   "source": [
    "import shutil\n",
    "\n",
    "shutil.rmtree(initial_reads_dir)"
   ]
  },
  {
   "cell_type": "markdown",
   "id": "cf630b4f-ed63-4e14-9657-e0aaea0953ab",
   "metadata": {
    "papermill": {
     "duration": 0.004718,
     "end_time": "2022-10-18T23:11:40.173501",
     "exception": false,
     "start_time": "2022-10-18T23:11:40.168783",
     "status": "completed"
    },
    "tags": []
   },
   "source": [
    "# 3. Fix assemblies\n",
    "\n",
    "Fix assembly genome names"
   ]
  },
  {
   "cell_type": "code",
   "execution_count": 7,
   "id": "08fac610-3ab3-4afa-9873-406973041963",
   "metadata": {
    "execution": {
     "iopub.execute_input": "2022-10-18T23:11:40.183914Z",
     "iopub.status.busy": "2022-10-18T23:11:40.183231Z",
     "iopub.status.idle": "2022-10-18T23:11:40.367867Z",
     "shell.execute_reply": "2022-10-18T23:11:40.365784Z"
    },
    "papermill": {
     "duration": 0.194106,
     "end_time": "2022-10-18T23:11:40.371831",
     "exception": false,
     "start_time": "2022-10-18T23:11:40.177725",
     "status": "completed"
    },
    "tags": []
   },
   "outputs": [
    {
     "name": "stdout",
     "output_type": "stream",
     "text": [
      "~/workspace/genomics-data-index-evaluation-manuscript/evaluations/simulation/simulations/cov-5/simulated_data/assemblies ~/workspace/genomics-data-index-evaluation-manuscript/evaluations/simulation\r\n"
     ]
    },
    {
     "name": "stdout",
     "output_type": "stream",
     "text": [
      "~/workspace/genomics-data-index-evaluation-manuscript/evaluations/simulation\r\n"
     ]
    }
   ],
   "source": [
    "!pushd {assemblies_dir}; prename 's/data__//' *.fa.gz; popd"
   ]
  },
  {
   "cell_type": "markdown",
   "id": "a0856fbc-ba98-4ba1-870b-6923cd636892",
   "metadata": {
    "papermill": {
     "duration": 0.00548,
     "end_time": "2022-10-18T23:11:40.383919",
     "exception": false,
     "start_time": "2022-10-18T23:11:40.378439",
     "status": "completed"
    },
    "tags": []
   },
   "source": [
    "# 4. Assemble reads\n",
    "\n",
    "Assemble reads to have another scenario of imperfect assemblies."
   ]
  },
  {
   "cell_type": "code",
   "execution_count": 8,
   "id": "c1a1b18f-ecd1-4ca3-af9f-ef44648edbd3",
   "metadata": {
    "execution": {
     "iopub.execute_input": "2022-10-18T23:11:40.413442Z",
     "iopub.status.busy": "2022-10-18T23:11:40.412665Z",
     "iopub.status.idle": "2022-10-18T23:11:41.708442Z",
     "shell.execute_reply": "2022-10-18T23:11:41.706339Z"
    },
    "papermill": {
     "duration": 1.308933,
     "end_time": "2022-10-18T23:11:41.712883",
     "exception": false,
     "start_time": "2022-10-18T23:11:40.403950",
     "status": "completed"
    },
    "tags": []
   },
   "outputs": [
    {
     "name": "stdout",
     "output_type": "stream",
     "text": [
      "SKESA 2.4.0\r\n",
      "\r\n",
      "skesa --version \r\n",
      "\r\n",
      "\r\n"
     ]
    }
   ],
   "source": [
    "!conda run -n skesa skesa --version"
   ]
  },
  {
   "cell_type": "code",
   "execution_count": 9,
   "id": "419476b6-ecce-477b-a838-d2419d1d160e",
   "metadata": {
    "execution": {
     "iopub.execute_input": "2022-10-18T23:11:41.728385Z",
     "iopub.status.busy": "2022-10-18T23:11:41.727794Z",
     "iopub.status.idle": "2022-10-18T23:11:48.119831Z",
     "shell.execute_reply": "2022-10-18T23:11:48.117643Z"
    },
    "papermill": {
     "duration": 6.403389,
     "end_time": "2022-10-18T23:11:48.124023",
     "exception": false,
     "start_time": "2022-10-18T23:11:41.720634",
     "status": "completed"
    },
    "tags": []
   },
   "outputs": [],
   "source": [
    "import glob\n",
    "import re\n",
    "\n",
    "fastq_names = [os.path.basename(f) for f in glob.glob(f'{reads_dir}/*_R1.fq.gz')]\n",
    "sample_names = [re.sub(r'_R\\d.fq.gz', '', f) for f in fastq_names]\n",
    "!parallel -j {ncores} -I% 'conda run -n skesa skesa --reads {reads_dir}/%_R1.fq.gz,{reads_dir}/%_R2.fq.gz --contigs_out {assembled_reads_dir}/%.fasta > {assembled_reads_dir}/log.% 2>&1' \\\n",
    "    ::: {' '.join(sample_names)}"
   ]
  }
 ],
 "metadata": {
  "kernelspec": {
   "display_name": "Python 3 (ipykernel)",
   "language": "python",
   "name": "python3"
  },
  "language_info": {
   "codemirror_mode": {
    "name": "ipython",
    "version": 3
   },
   "file_extension": ".py",
   "mimetype": "text/x-python",
   "name": "python",
   "nbconvert_exporter": "python",
   "pygments_lexer": "ipython3",
   "version": "3.8.13"
  },
  "papermill": {
   "default_parameters": {},
   "duration": 10.989862,
   "end_time": "2022-10-18T23:11:48.352594",
   "environment_variables": {},
   "exception": null,
   "input_path": "template-2-fix-simulated-files.ipynb",
   "output_path": "2-fix-simulated-files.simulation-cov-5.ipynb",
   "parameters": {
    "iterations": 1,
    "mincov": 10,
    "read_coverage": 5,
    "simulation_dir": "simulations/cov-5",
    "sub_alpha": 0.2
   },
   "start_time": "2022-10-18T23:11:37.362732",
   "version": "2.3.4"
  }
 },
 "nbformat": 4,
 "nbformat_minor": 5
}