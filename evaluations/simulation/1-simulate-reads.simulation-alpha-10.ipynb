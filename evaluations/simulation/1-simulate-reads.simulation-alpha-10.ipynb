{
 "cells": [
  {
   "cell_type": "markdown",
   "id": "39afc998-7d9f-4d4e-9147-fb6198f83f2d",
   "metadata": {
    "papermill": {
     "duration": 0.007236,
     "end_time": "2022-09-29T18:54:10.666345",
     "exception": false,
     "start_time": "2022-09-29T18:54:10.659109",
     "status": "completed"
    },
    "tags": []
   },
   "source": [
    "# 1. Parameters"
   ]
  },
  {
   "cell_type": "code",
   "execution_count": 1,
   "id": "8eee723b-55a2-4355-b867-c5e682a9f800",
   "metadata": {
    "execution": {
     "iopub.execute_input": "2022-09-29T18:54:10.720017Z",
     "iopub.status.busy": "2022-09-29T18:54:10.717312Z",
     "iopub.status.idle": "2022-09-29T18:54:10.775016Z",
     "shell.execute_reply": "2022-09-29T18:54:10.773322Z"
    },
    "papermill": {
     "duration": 0.10675,
     "end_time": "2022-09-29T18:54:10.778539",
     "exception": false,
     "start_time": "2022-09-29T18:54:10.671789",
     "status": "completed"
    },
    "tags": [
     "parameters"
    ]
   },
   "outputs": [],
   "source": [
    "# Defaults\n",
    "\n",
    "## Random seed\n",
    "random_seed <- 25524\n",
    "\n",
    "## Directories\n",
    "simulation_dir <- \"simulations/unset\"\n",
    "reference_file <- \"simulations/reference/reference.fa.gz\"\n",
    "initial_tree_file <- \"input/salmonella.tre\"\n",
    "\n",
    "## Simulation parameters\n",
    "sub_lambda <- 1e-2\n",
    "sub_pi_tcag <- c(0.1, 0.2, 0.3, 0.4)\n",
    "sub_alpha <- 0.2\n",
    "sub_beta <- sub_alpha/2\n",
    "sub_mu <- 1\n",
    "sub_invariant <- 0.3\n",
    "ins_rate <- 1e-4\n",
    "ins_max_length <- 60\n",
    "ins_a <- 1.6\n",
    "del_rate <- 1e-4\n",
    "del_max_length <- 60\n",
    "del_a <- 1.6\n",
    "\n",
    "## Read simulation information\n",
    "read_coverage <- 30\n",
    "read_length <- 250\n",
    "\n",
    "## Other\n",
    "ncores <- 48"
   ]
  },
  {
   "cell_type": "code",
   "execution_count": 2,
   "id": "bd892705",
   "metadata": {
    "execution": {
     "iopub.execute_input": "2022-09-29T18:54:10.824598Z",
     "iopub.status.busy": "2022-09-29T18:54:10.791035Z",
     "iopub.status.idle": "2022-09-29T18:54:10.838152Z",
     "shell.execute_reply": "2022-09-29T18:54:10.836925Z"
    },
    "papermill": {
     "duration": 0.056952,
     "end_time": "2022-09-29T18:54:10.841181",
     "exception": false,
     "start_time": "2022-09-29T18:54:10.784229",
     "status": "completed"
    },
    "tags": [
     "injected-parameters"
    ]
   },
   "outputs": [],
   "source": [
    "# Parameters\n",
    "read_coverage = 30\n",
    "mincov = 10\n",
    "simulation_dir = \"simulations/alpha-10-cov-30\"\n",
    "iterations = 3\n",
    "sub_alpha = 10\n"
   ]
  },
  {
   "cell_type": "code",
   "execution_count": 3,
   "id": "845350c4-9369-4350-bcce-504d05f5ff55",
   "metadata": {
    "execution": {
     "iopub.execute_input": "2022-09-29T18:54:10.855060Z",
     "iopub.status.busy": "2022-09-29T18:54:10.853669Z",
     "iopub.status.idle": "2022-09-29T18:54:10.874623Z",
     "shell.execute_reply": "2022-09-29T18:54:10.873359Z"
    },
    "papermill": {
     "duration": 0.03029,
     "end_time": "2022-09-29T18:54:10.877447",
     "exception": false,
     "start_time": "2022-09-29T18:54:10.847157",
     "status": "completed"
    },
    "tags": []
   },
   "outputs": [
    {
     "name": "stdout",
     "output_type": "stream",
     "text": [
      "[1] \"simulations/alpha-10-cov-30/simulated_data\"\n"
     ]
    },
    {
     "name": "stdout",
     "output_type": "stream",
     "text": [
      "[1] \"simulations/alpha-10-cov-30/simulated_data/haplotypes\"\n"
     ]
    }
   ],
   "source": [
    "output_dir <- file.path(simulation_dir, \"simulated_data\")\n",
    "output_vcf_prefix <- file.path(output_dir, \"haplotypes\")\n",
    "reads_data_initial_prefix <- file.path(output_dir, \"reads_initial\", \"data\")\n",
    "set.seed(random_seed)\n",
    "print(output_dir)\n",
    "print(output_vcf_prefix)"
   ]
  },
  {
   "cell_type": "markdown",
   "id": "noticed-coating",
   "metadata": {
    "papermill": {
     "duration": 0.003513,
     "end_time": "2022-09-29T18:54:10.886122",
     "exception": false,
     "start_time": "2022-09-29T18:54:10.882609",
     "status": "completed"
    },
    "tags": []
   },
   "source": [
    "# 2. Generate simulated data\n",
    "\n",
    "This simulates *Salmonella* data using a reference genome and a tree."
   ]
  },
  {
   "cell_type": "code",
   "execution_count": 4,
   "id": "bright-polymer",
   "metadata": {
    "execution": {
     "iopub.execute_input": "2022-09-29T18:54:10.895869Z",
     "iopub.status.busy": "2022-09-29T18:54:10.894276Z",
     "iopub.status.idle": "2022-09-29T18:54:10.988241Z",
     "shell.execute_reply": "2022-09-29T18:54:10.986973Z"
    },
    "papermill": {
     "duration": 0.102356,
     "end_time": "2022-09-29T18:54:10.992048",
     "exception": false,
     "start_time": "2022-09-29T18:54:10.889692",
     "status": "completed"
    },
    "tags": []
   },
   "outputs": [
    {
     "data": {
      "text/html": [
       "TRUE"
      ],
      "text/latex": [
       "TRUE"
      ],
      "text/markdown": [
       "TRUE"
      ],
      "text/plain": [
       "[1] TRUE"
      ]
     },
     "metadata": {},
     "output_type": "display_data"
    }
   ],
   "source": [
    "library(jackalope)\n",
    "\n",
    "# Make sure we've complied with openmp\n",
    "jackalope:::using_openmp()"
   ]
  },
  {
   "cell_type": "code",
   "execution_count": 5,
   "id": "303635b1-41dc-4917-8e90-30832a9acafd",
   "metadata": {
    "execution": {
     "iopub.execute_input": "2022-09-29T18:54:11.006744Z",
     "iopub.status.busy": "2022-09-29T18:54:11.005420Z",
     "iopub.status.idle": "2022-09-29T18:54:11.025683Z",
     "shell.execute_reply": "2022-09-29T18:54:11.024442Z"
    },
    "papermill": {
     "duration": 0.030402,
     "end_time": "2022-09-29T18:54:11.028715",
     "exception": false,
     "start_time": "2022-09-29T18:54:10.998313",
     "status": "completed"
    },
    "tags": []
   },
   "outputs": [
    {
     "data": {
      "text/plain": [
       "< Set of 2 chromosomes >\n",
       "# Total size: 19,699 bp\n",
       "  name                             chromosome                             length\n",
       "chrom0     GTATTGCGAGGGTGGGGGAGTACGGCAG...CAAGAATGCAACCGACTCTGTCGGGACT     10834\n",
       "chrom1     CACCTCGAGCAGATCCTAGTTTGCGCGA...TGCGAATTTATCGCCTAATCCAATGTTA      8865"
      ]
     },
     "metadata": {},
     "output_type": "display_data"
    }
   ],
   "source": [
    "reference <- read_fasta(reference_file)\n",
    "reference_len <- sum(reference$sizes())\n",
    "reference"
   ]
  },
  {
   "cell_type": "code",
   "execution_count": 6,
   "id": "documented-helmet",
   "metadata": {
    "execution": {
     "iopub.execute_input": "2022-09-29T18:54:11.042666Z",
     "iopub.status.busy": "2022-09-29T18:54:11.041423Z",
     "iopub.status.idle": "2022-09-29T18:54:11.142664Z",
     "shell.execute_reply": "2022-09-29T18:54:11.141112Z"
    },
    "papermill": {
     "duration": 0.111245,
     "end_time": "2022-09-29T18:54:11.146072",
     "exception": false,
     "start_time": "2022-09-29T18:54:11.034827",
     "status": "completed"
    },
    "tags": []
   },
   "outputs": [
    {
     "data": {
      "text/plain": [
       "\n",
       "Phylogenetic tree with 60 tips and 59 internal nodes.\n",
       "\n",
       "Tip labels:\n",
       "  reference, SH12-013, SH12-014, SH10-015, SH10-014, SH11-002, ...\n",
       "Node labels:\n",
       "  Root, 1.000000, 0.000000, 0.000000, 1.000000, 0.000000, ...\n",
       "\n",
       "Rooted; includes branch lengths."
      ]
     },
     "metadata": {},
     "output_type": "display_data"
    }
   ],
   "source": [
    "library(ape)\n",
    "\n",
    "tree <- read.tree(initial_tree_file)\n",
    "tree <- root(tree, \"reference\", resolve.root=TRUE)\n",
    "tree"
   ]
  },
  {
   "cell_type": "code",
   "execution_count": 7,
   "id": "proved-silver",
   "metadata": {
    "execution": {
     "iopub.execute_input": "2022-09-29T18:54:11.160436Z",
     "iopub.status.busy": "2022-09-29T18:54:11.158881Z",
     "iopub.status.idle": "2022-09-29T18:54:11.330336Z",
     "shell.execute_reply": "2022-09-29T18:54:11.328770Z"
    },
    "papermill": {
     "duration": 0.182404,
     "end_time": "2022-09-29T18:54:11.335202",
     "exception": false,
     "start_time": "2022-09-29T18:54:11.152798",
     "status": "completed"
    },
    "tags": []
   },
   "outputs": [
    {
     "data": {
      "text/plain": [
       "                              << haplotypes object >>\n",
       "# Haplotypes: 60\n",
       "# Mutations: 224,567\n",
       "\n",
       "                          << Reference genome info: >>\n",
       "< Set of 2 chromosomes >\n",
       "# Total size: 19,699 bp\n",
       "  name                             chromosome                             length\n",
       "chrom0     GTATTGCGAGGGTGGGGGAGTACGGCAG...CAAGAATGCAACCGACTCTGTCGGGACT     10834\n",
       "chrom1     CACCTCGAGCAGATCCTAGTTTGCGCGA...TGCGAATTTATCGCCTAATCCAATGTTA      8865"
      ]
     },
     "metadata": {},
     "output_type": "display_data"
    }
   ],
   "source": [
    "sub <- sub_HKY85(pi_tcag = sub_pi_tcag, mu = sub_mu,\n",
    "                 alpha = sub_alpha, beta = sub_beta, gamma_shape=1, gamma_k = 5,\n",
    "                 invariant = sub_invariant)\n",
    "ins <- indels(rate = ins_rate, max_length = ins_max_length, a = ins_a)\n",
    "del <- indels(rate = del_rate, max_length = del_max_length, a = del_a)\n",
    "\n",
    "ref_haplotypes <- create_haplotypes(reference, haps_phylo(tree), sub=sub, ins=ins, del=del)\n",
    "ref_haplotypes"
   ]
  },
  {
   "cell_type": "markdown",
   "id": "535fa02d-c76c-4067-9582-74f3694d16ea",
   "metadata": {
    "papermill": {
     "duration": 0.005545,
     "end_time": "2022-09-29T18:54:11.347918",
     "exception": false,
     "start_time": "2022-09-29T18:54:11.342373",
     "status": "completed"
    },
    "tags": []
   },
   "source": [
    "# 3. Write simulated data"
   ]
  },
  {
   "cell_type": "code",
   "execution_count": 8,
   "id": "smoking-geology",
   "metadata": {
    "execution": {
     "iopub.execute_input": "2022-09-29T18:54:11.359671Z",
     "iopub.status.busy": "2022-09-29T18:54:11.357825Z",
     "iopub.status.idle": "2022-09-29T18:54:11.521695Z",
     "shell.execute_reply": "2022-09-29T18:54:11.520275Z"
    },
    "papermill": {
     "duration": 0.172451,
     "end_time": "2022-09-29T18:54:11.524852",
     "exception": false,
     "start_time": "2022-09-29T18:54:11.352401",
     "status": "completed"
    },
    "tags": []
   },
   "outputs": [],
   "source": [
    "write_vcf(ref_haplotypes, out_prefix=output_vcf_prefix, compress=TRUE)"
   ]
  },
  {
   "cell_type": "code",
   "execution_count": 9,
   "id": "d2657fc5-481e-4b24-bbf8-78c02ee735ce",
   "metadata": {
    "execution": {
     "iopub.execute_input": "2022-09-29T18:54:11.541020Z",
     "iopub.status.busy": "2022-09-29T18:54:11.539600Z",
     "iopub.status.idle": "2022-09-29T18:54:11.641351Z",
     "shell.execute_reply": "2022-09-29T18:54:11.637166Z"
    },
    "papermill": {
     "duration": 0.114368,
     "end_time": "2022-09-29T18:54:11.646294",
     "exception": false,
     "start_time": "2022-09-29T18:54:11.531926",
     "status": "completed"
    },
    "tags": []
   },
   "outputs": [],
   "source": [
    "assemblies_prefix = file.path(output_dir, \"assemblies\", \"data\")\n",
    "\n",
    "write_fasta(ref_haplotypes, out_prefix=assemblies_prefix,\n",
    "            compress=TRUE, n_threads=ncores, overwrite=TRUE)"
   ]
  },
  {
   "cell_type": "code",
   "execution_count": 10,
   "id": "continent-freeze",
   "metadata": {
    "execution": {
     "iopub.execute_input": "2022-09-29T18:54:11.660951Z",
     "iopub.status.busy": "2022-09-29T18:54:11.659410Z",
     "iopub.status.idle": "2022-09-29T18:59:11.782470Z",
     "shell.execute_reply": "2022-09-29T18:59:11.779645Z"
    },
    "papermill": {
     "duration": 300.133202,
     "end_time": "2022-09-29T18:59:11.785958",
     "exception": false,
     "start_time": "2022-09-29T18:54:11.652756",
     "status": "completed"
    },
    "tags": []
   },
   "outputs": [
    {
     "name": "stdout",
     "output_type": "stream",
     "text": [
      "[1] \"Number of reads for coverage 30X and read length 250 over 60 samples with respect to reference with length 19699: 141833\"\n"
     ]
    }
   ],
   "source": [
    "n_samples <- length(tree$tip)\n",
    "n_reads <- round((reference_len * read_coverage * n_samples) / read_length)\n",
    "print(sprintf(\"Number of reads for coverage %sX and read length %s over %s samples with respect to reference with length %s: %s\", \n",
    "              read_coverage, read_length, n_samples, reference_len, n_reads))\n",
    "\n",
    "illumina(ref_haplotypes, out_prefix = reads_data_initial_prefix, sep_files=TRUE, n_reads = n_reads,\n",
    "         frag_mean = read_length * 2 + 50, frag_sd = 100,\n",
    "         compress=TRUE, comp_method=\"bgzip\", n_threads=ncores,\n",
    "         paired=TRUE, read_length = read_length)"
   ]
  }
 ],
 "metadata": {
  "kernelspec": {
   "display_name": "R",
   "language": "R",
   "name": "ir"
  },
  "language_info": {
   "codemirror_mode": "r",
   "file_extension": ".r",
   "mimetype": "text/x-r-source",
   "name": "R",
   "pygments_lexer": "r",
   "version": "4.1.3"
  },
  "papermill": {
   "default_parameters": {},
   "duration": 302.871384,
   "end_time": "2022-09-29T18:59:12.324968",
   "environment_variables": {},
   "exception": null,
   "input_path": "template-1-simulate-reads.ipynb",
   "output_path": "1-simulate-reads.simulation-alpha-10.ipynb",
   "parameters": {
    "iterations": 3,
    "mincov": 10,
    "read_coverage": 30,
    "simulation_dir": "simulations/alpha-10-cov-30",
    "sub_alpha": 10
   },
   "start_time": "2022-09-29T18:54:09.453584",
   "version": "2.3.4"
  }
 },
 "nbformat": 4,
 "nbformat_minor": 5
}