{
 "cells": [
  {
   "cell_type": "markdown",
   "id": "acfa5482-d626-44d6-b613-863e6911fa98",
   "metadata": {
    "papermill": {
     "duration": 0.006509,
     "end_time": "2022-09-29T19:19:32.224344",
     "exception": false,
     "start_time": "2022-09-29T19:19:32.217835",
     "status": "completed"
    },
    "tags": []
   },
   "source": [
    "# 1. Parameters"
   ]
  },
  {
   "cell_type": "code",
   "execution_count": 1,
   "id": "36126d74-a9d8-4431-ba49-767c1fc2ec49",
   "metadata": {
    "execution": {
     "iopub.execute_input": "2022-09-29T19:19:32.235323Z",
     "iopub.status.busy": "2022-09-29T19:19:32.234712Z",
     "iopub.status.idle": "2022-09-29T19:19:32.250962Z",
     "shell.execute_reply": "2022-09-29T19:19:32.249546Z"
    },
    "papermill": {
     "duration": 0.025054,
     "end_time": "2022-09-29T19:19:32.254246",
     "exception": false,
     "start_time": "2022-09-29T19:19:32.229192",
     "status": "completed"
    },
    "tags": [
     "parameters"
    ]
   },
   "outputs": [],
   "source": [
    "# Defaults\n",
    "simulation_dir = 'simulations/unset'\n",
    "ncores = 48"
   ]
  },
  {
   "cell_type": "code",
   "execution_count": 2,
   "id": "84179da2",
   "metadata": {
    "execution": {
     "iopub.execute_input": "2022-09-29T19:19:32.269917Z",
     "iopub.status.busy": "2022-09-29T19:19:32.269385Z",
     "iopub.status.idle": "2022-09-29T19:19:32.276242Z",
     "shell.execute_reply": "2022-09-29T19:19:32.274797Z"
    },
    "papermill": {
     "duration": 0.020897,
     "end_time": "2022-09-29T19:19:32.279264",
     "exception": false,
     "start_time": "2022-09-29T19:19:32.258367",
     "status": "completed"
    },
    "tags": [
     "injected-parameters"
    ]
   },
   "outputs": [],
   "source": [
    "# Parameters\n",
    "read_coverage = 20\n",
    "mincov = 10\n",
    "simulation_dir = \"simulations/cov-20\"\n",
    "iterations = 3\n",
    "sub_alpha = 0.2\n"
   ]
  },
  {
   "cell_type": "code",
   "execution_count": 3,
   "id": "15e911d7-0ffc-4110-aefe-71bc77e689cd",
   "metadata": {
    "execution": {
     "iopub.execute_input": "2022-09-29T19:19:32.289146Z",
     "iopub.status.busy": "2022-09-29T19:19:32.288484Z",
     "iopub.status.idle": "2022-09-29T19:19:32.296910Z",
     "shell.execute_reply": "2022-09-29T19:19:32.295647Z"
    },
    "papermill": {
     "duration": 0.016138,
     "end_time": "2022-09-29T19:19:32.299615",
     "exception": false,
     "start_time": "2022-09-29T19:19:32.283477",
     "status": "completed"
    },
    "tags": []
   },
   "outputs": [],
   "source": [
    "from pathlib import Path\n",
    "import os\n",
    "\n",
    "simulation_data_dir = Path(simulation_dir) / 'simulated_data'\n",
    "initial_reads_dir = simulation_data_dir / 'reads_initial'\n",
    "reads_dir = simulation_data_dir / 'reads'\n",
    "assemblies_dir = simulation_data_dir / 'assemblies'\n",
    "\n",
    "if not reads_dir.exists():\n",
    "    os.mkdir(reads_dir)"
   ]
  },
  {
   "cell_type": "markdown",
   "id": "rotary-regard",
   "metadata": {
    "papermill": {
     "duration": 0.003567,
     "end_time": "2022-09-29T19:19:32.306629",
     "exception": false,
     "start_time": "2022-09-29T19:19:32.303062",
     "status": "completed"
    },
    "tags": []
   },
   "source": [
    "# 2. Fix reads\n",
    "\n",
    "Fix read file names and data so they can be indexed."
   ]
  },
  {
   "cell_type": "code",
   "execution_count": 4,
   "id": "convenient-blackberry",
   "metadata": {
    "execution": {
     "iopub.execute_input": "2022-09-29T19:19:32.313930Z",
     "iopub.status.busy": "2022-09-29T19:19:32.313412Z",
     "iopub.status.idle": "2022-09-29T19:19:32.503594Z",
     "shell.execute_reply": "2022-09-29T19:19:32.501983Z"
    },
    "papermill": {
     "duration": 0.197845,
     "end_time": "2022-09-29T19:19:32.507279",
     "exception": false,
     "start_time": "2022-09-29T19:19:32.309434",
     "status": "completed"
    },
    "tags": []
   },
   "outputs": [
    {
     "name": "stdout",
     "output_type": "stream",
     "text": [
      "~/workspace/genomics-data-index-evaluation-manuscript/evaluations/simulation/simulations/cov-20/simulated_data/reads_initial ~/workspace/genomics-data-index-evaluation-manuscript/evaluations/simulation\r\n"
     ]
    },
    {
     "name": "stdout",
     "output_type": "stream",
     "text": [
      "~/workspace/genomics-data-index-evaluation-manuscript/evaluations/simulation\r\n"
     ]
    }
   ],
   "source": [
    "import os\n",
    "\n",
    "# Fix warning about locale unset\n",
    "os.environ['LANG'] = 'en_US.UTF-8'\n",
    "\n",
    "!pushd {initial_reads_dir}; prename 's/data_//' *.fq.gz; popd"
   ]
  },
  {
   "cell_type": "markdown",
   "id": "median-belle",
   "metadata": {
    "papermill": {
     "duration": 0.005232,
     "end_time": "2022-09-29T19:19:32.518130",
     "exception": false,
     "start_time": "2022-09-29T19:19:32.512898",
     "status": "completed"
    },
    "tags": []
   },
   "source": [
    "Jackalope produces reads with non-standard identifiers where pairs of reads don't have matching identifiers. For example:\n",
    "\n",
    "* Pair 1: `@SH08-001-NC_011083-3048632-R/1`\n",
    "* Pair 2: `@SH08-001-NC_011083-3048396-F/2`\n",
    "\n",
    "In order to run snippy, these paired identifiers need to match (except for the `/1` and `/2` suffix).\n",
    "\n",
    "So, I have to replace them all with something unique, but which matches in each pair of files. I do this by replacing the position (I think) with the read number (as it appears in the file). So the above identifiers become:\n",
    "\n",
    "* Pair 1: `@SH08-001-NC_011083-1/1`\n",
    "* Pair 2: `@SH08-001-NC_011083-1/2`"
   ]
  },
  {
   "cell_type": "code",
   "execution_count": 5,
   "id": "remarkable-berry",
   "metadata": {
    "execution": {
     "iopub.execute_input": "2022-09-29T19:19:32.528219Z",
     "iopub.status.busy": "2022-09-29T19:19:32.527660Z",
     "iopub.status.idle": "2022-09-29T19:19:33.443984Z",
     "shell.execute_reply": "2022-09-29T19:19:33.441795Z"
    },
    "papermill": {
     "duration": 0.928316,
     "end_time": "2022-09-29T19:19:33.450409",
     "exception": false,
     "start_time": "2022-09-29T19:19:32.522093",
     "status": "completed"
    },
    "tags": []
   },
   "outputs": [],
   "source": [
    "import glob\n",
    "import os\n",
    "\n",
    "files = [os.path.basename(f) for f in glob.glob(f'{initial_reads_dir}/*.fq.gz')]\n",
    "!parallel -j {ncores} -I% 'gzip -d --stdout {initial_reads_dir}/% | perl scripts/replace-fastq-header.pl | gzip > {reads_dir}/%' \\\n",
    "    ::: {' '.join(files)}"
   ]
  },
  {
   "cell_type": "code",
   "execution_count": 6,
   "id": "8318e7a8-1057-4e4f-aaec-fccdec42a75f",
   "metadata": {
    "execution": {
     "iopub.execute_input": "2022-09-29T19:19:33.462583Z",
     "iopub.status.busy": "2022-09-29T19:19:33.461992Z",
     "iopub.status.idle": "2022-09-29T19:19:33.479295Z",
     "shell.execute_reply": "2022-09-29T19:19:33.478220Z"
    },
    "papermill": {
     "duration": 0.026644,
     "end_time": "2022-09-29T19:19:33.482797",
     "exception": false,
     "start_time": "2022-09-29T19:19:33.456153",
     "status": "completed"
    },
    "tags": []
   },
   "outputs": [],
   "source": [
    "import shutil\n",
    "\n",
    "shutil.rmtree(initial_reads_dir)"
   ]
  },
  {
   "cell_type": "markdown",
   "id": "cf630b4f-ed63-4e14-9657-e0aaea0953ab",
   "metadata": {
    "papermill": {
     "duration": 0.005331,
     "end_time": "2022-09-29T19:19:33.493683",
     "exception": false,
     "start_time": "2022-09-29T19:19:33.488352",
     "status": "completed"
    },
    "tags": []
   },
   "source": [
    "# 3. Fix assemblies\n",
    "\n",
    "Fix assembly genome names"
   ]
  },
  {
   "cell_type": "code",
   "execution_count": 7,
   "id": "08fac610-3ab3-4afa-9873-406973041963",
   "metadata": {
    "execution": {
     "iopub.execute_input": "2022-09-29T19:19:33.504444Z",
     "iopub.status.busy": "2022-09-29T19:19:33.503887Z",
     "iopub.status.idle": "2022-09-29T19:19:33.684251Z",
     "shell.execute_reply": "2022-09-29T19:19:33.682624Z"
    },
    "papermill": {
     "duration": 0.189253,
     "end_time": "2022-09-29T19:19:33.688004",
     "exception": false,
     "start_time": "2022-09-29T19:19:33.498751",
     "status": "completed"
    },
    "tags": []
   },
   "outputs": [
    {
     "name": "stdout",
     "output_type": "stream",
     "text": [
      "~/workspace/genomics-data-index-evaluation-manuscript/evaluations/simulation/simulations/cov-20/simulated_data/assemblies ~/workspace/genomics-data-index-evaluation-manuscript/evaluations/simulation\r\n"
     ]
    },
    {
     "name": "stdout",
     "output_type": "stream",
     "text": [
      "~/workspace/genomics-data-index-evaluation-manuscript/evaluations/simulation\r\n"
     ]
    }
   ],
   "source": [
    "!pushd {assemblies_dir}; prename 's/data__//' *.fa.gz; popd"
   ]
  }
 ],
 "metadata": {
  "kernelspec": {
   "display_name": "Python 3 (ipykernel)",
   "language": "python",
   "name": "python3"
  },
  "language_info": {
   "codemirror_mode": {
    "name": "ipython",
    "version": 3
   },
   "file_extension": ".py",
   "mimetype": "text/x-python",
   "name": "python",
   "nbconvert_exporter": "python",
   "pygments_lexer": "ipython3",
   "version": "3.8.13"
  },
  "papermill": {
   "default_parameters": {},
   "duration": 3.28451,
   "end_time": "2022-09-29T19:19:33.917048",
   "environment_variables": {},
   "exception": null,
   "input_path": "template-2-fix-simulated-files.ipynb",
   "output_path": "2-fix-simulated-files.simulation-cov-20.ipynb",
   "parameters": {
    "iterations": 3,
    "mincov": 10,
    "read_coverage": 20,
    "simulation_dir": "simulations/cov-20",
    "sub_alpha": 0.2
   },
   "start_time": "2022-09-29T19:19:30.632538",
   "version": "2.3.4"
  }
 },
 "nbformat": 4,
 "nbformat_minor": 5
}