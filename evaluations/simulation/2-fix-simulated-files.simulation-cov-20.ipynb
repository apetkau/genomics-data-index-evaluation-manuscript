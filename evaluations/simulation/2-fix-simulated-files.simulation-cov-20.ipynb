{
 "cells": [
  {
   "cell_type": "markdown",
   "id": "acfa5482-d626-44d6-b613-863e6911fa98",
   "metadata": {
    "papermill": {
     "duration": 0.007883,
     "end_time": "2022-10-18T22:53:32.809513",
     "exception": false,
     "start_time": "2022-10-18T22:53:32.801630",
     "status": "completed"
    },
    "tags": []
   },
   "source": [
    "# 1. Parameters"
   ]
  },
  {
   "cell_type": "code",
   "execution_count": 1,
   "id": "36126d74-a9d8-4431-ba49-767c1fc2ec49",
   "metadata": {
    "execution": {
     "iopub.execute_input": "2022-10-18T22:53:32.821394Z",
     "iopub.status.busy": "2022-10-18T22:53:32.820655Z",
     "iopub.status.idle": "2022-10-18T22:53:32.836554Z",
     "shell.execute_reply": "2022-10-18T22:53:32.835461Z"
    },
    "papermill": {
     "duration": 0.024848,
     "end_time": "2022-10-18T22:53:32.839790",
     "exception": false,
     "start_time": "2022-10-18T22:53:32.814942",
     "status": "completed"
    },
    "tags": [
     "parameters"
    ]
   },
   "outputs": [],
   "source": [
    "# Defaults\n",
    "simulation_dir = 'simulations/unset'\n",
    "ncores = 48"
   ]
  },
  {
   "cell_type": "code",
   "execution_count": 2,
   "id": "515ce0e5",
   "metadata": {
    "execution": {
     "iopub.execute_input": "2022-10-18T22:53:32.851345Z",
     "iopub.status.busy": "2022-10-18T22:53:32.850817Z",
     "iopub.status.idle": "2022-10-18T22:53:32.857829Z",
     "shell.execute_reply": "2022-10-18T22:53:32.856610Z"
    },
    "papermill": {
     "duration": 0.016307,
     "end_time": "2022-10-18T22:53:32.860853",
     "exception": false,
     "start_time": "2022-10-18T22:53:32.844546",
     "status": "completed"
    },
    "tags": [
     "injected-parameters"
    ]
   },
   "outputs": [],
   "source": [
    "# Parameters\n",
    "read_coverage = 20\n",
    "mincov = 10\n",
    "simulation_dir = \"simulations/cov-20\"\n",
    "iterations = 1\n",
    "sub_alpha = 0.2\n"
   ]
  },
  {
   "cell_type": "code",
   "execution_count": 3,
   "id": "15e911d7-0ffc-4110-aefe-71bc77e689cd",
   "metadata": {
    "execution": {
     "iopub.execute_input": "2022-10-18T22:53:32.871562Z",
     "iopub.status.busy": "2022-10-18T22:53:32.871027Z",
     "iopub.status.idle": "2022-10-18T22:53:32.880745Z",
     "shell.execute_reply": "2022-10-18T22:53:32.879517Z"
    },
    "papermill": {
     "duration": 0.017908,
     "end_time": "2022-10-18T22:53:32.883419",
     "exception": false,
     "start_time": "2022-10-18T22:53:32.865511",
     "status": "completed"
    },
    "tags": []
   },
   "outputs": [],
   "source": [
    "from pathlib import Path\n",
    "import os\n",
    "\n",
    "simulation_data_dir = Path(simulation_dir) / 'simulated_data'\n",
    "initial_reads_dir = simulation_data_dir / 'reads_initial'\n",
    "reads_dir = simulation_data_dir / 'reads'\n",
    "assemblies_dir = simulation_data_dir / 'assemblies'\n",
    "assembled_reads_dir = simulation_data_dir / 'assembled_reads'\n",
    "\n",
    "if not reads_dir.exists():\n",
    "    os.mkdir(reads_dir)\n",
    "    \n",
    "if not assembled_reads_dir.exists():\n",
    "    os.mkdir(assembled_reads_dir)"
   ]
  },
  {
   "cell_type": "markdown",
   "id": "rotary-regard",
   "metadata": {
    "papermill": {
     "duration": 0.00504,
     "end_time": "2022-10-18T22:53:32.893482",
     "exception": false,
     "start_time": "2022-10-18T22:53:32.888442",
     "status": "completed"
    },
    "tags": []
   },
   "source": [
    "# 2. Fix reads\n",
    "\n",
    "Fix read file names and data so they can be indexed."
   ]
  },
  {
   "cell_type": "code",
   "execution_count": 4,
   "id": "convenient-blackberry",
   "metadata": {
    "execution": {
     "iopub.execute_input": "2022-10-18T22:53:32.902685Z",
     "iopub.status.busy": "2022-10-18T22:53:32.902034Z",
     "iopub.status.idle": "2022-10-18T22:53:33.084773Z",
     "shell.execute_reply": "2022-10-18T22:53:33.082758Z"
    },
    "papermill": {
     "duration": 0.191587,
     "end_time": "2022-10-18T22:53:33.088659",
     "exception": false,
     "start_time": "2022-10-18T22:53:32.897072",
     "status": "completed"
    },
    "tags": []
   },
   "outputs": [
    {
     "name": "stdout",
     "output_type": "stream",
     "text": [
      "~/workspace/genomics-data-index-evaluation-manuscript/evaluations/simulation/simulations/cov-20/simulated_data/reads_initial ~/workspace/genomics-data-index-evaluation-manuscript/evaluations/simulation\r\n"
     ]
    },
    {
     "name": "stdout",
     "output_type": "stream",
     "text": [
      "~/workspace/genomics-data-index-evaluation-manuscript/evaluations/simulation\r\n"
     ]
    }
   ],
   "source": [
    "import os\n",
    "\n",
    "# Fix warning about locale unset\n",
    "os.environ['LANG'] = 'en_US.UTF-8'\n",
    "\n",
    "!pushd {initial_reads_dir}; prename 's/data_//' *.fq.gz; popd"
   ]
  },
  {
   "cell_type": "markdown",
   "id": "median-belle",
   "metadata": {
    "papermill": {
     "duration": 0.004885,
     "end_time": "2022-10-18T22:53:33.099805",
     "exception": false,
     "start_time": "2022-10-18T22:53:33.094920",
     "status": "completed"
    },
    "tags": []
   },
   "source": [
    "Jackalope produces reads with non-standard identifiers where pairs of reads don't have matching identifiers. For example:\n",
    "\n",
    "* Pair 1: `@SH08-001-NC_011083-3048632-R/1`\n",
    "* Pair 2: `@SH08-001-NC_011083-3048396-F/2`\n",
    "\n",
    "In order to run snippy, these paired identifiers need to match (except for the `/1` and `/2` suffix).\n",
    "\n",
    "So, I have to replace them all with something unique, but which matches in each pair of files. I do this by replacing the position (I think) with the read number (as it appears in the file). So the above identifiers become:\n",
    "\n",
    "* Pair 1: `@SH08-001-NC_011083-1/1`\n",
    "* Pair 2: `@SH08-001-NC_011083-1/2`"
   ]
  },
  {
   "cell_type": "code",
   "execution_count": 5,
   "id": "remarkable-berry",
   "metadata": {
    "execution": {
     "iopub.execute_input": "2022-10-18T22:53:33.110867Z",
     "iopub.status.busy": "2022-10-18T22:53:33.110079Z",
     "iopub.status.idle": "2022-10-18T22:53:34.029856Z",
     "shell.execute_reply": "2022-10-18T22:53:34.027645Z"
    },
    "papermill": {
     "duration": 0.929608,
     "end_time": "2022-10-18T22:53:34.034106",
     "exception": false,
     "start_time": "2022-10-18T22:53:33.104498",
     "status": "completed"
    },
    "tags": []
   },
   "outputs": [],
   "source": [
    "import glob\n",
    "import os\n",
    "\n",
    "files = [os.path.basename(f) for f in glob.glob(f'{initial_reads_dir}/*.fq.gz')]\n",
    "!parallel -j {ncores} -I% 'gzip -d --stdout {initial_reads_dir}/% | perl scripts/replace-fastq-header.pl | gzip > {reads_dir}/%' \\\n",
    "    ::: {' '.join(files)}"
   ]
  },
  {
   "cell_type": "code",
   "execution_count": 6,
   "id": "8318e7a8-1057-4e4f-aaec-fccdec42a75f",
   "metadata": {
    "execution": {
     "iopub.execute_input": "2022-10-18T22:53:34.049091Z",
     "iopub.status.busy": "2022-10-18T22:53:34.048516Z",
     "iopub.status.idle": "2022-10-18T22:53:34.068294Z",
     "shell.execute_reply": "2022-10-18T22:53:34.067027Z"
    },
    "papermill": {
     "duration": 0.030412,
     "end_time": "2022-10-18T22:53:34.071745",
     "exception": false,
     "start_time": "2022-10-18T22:53:34.041333",
     "status": "completed"
    },
    "tags": []
   },
   "outputs": [],
   "source": [
    "import shutil\n",
    "\n",
    "shutil.rmtree(initial_reads_dir)"
   ]
  },
  {
   "cell_type": "markdown",
   "id": "cf630b4f-ed63-4e14-9657-e0aaea0953ab",
   "metadata": {
    "papermill": {
     "duration": 0.006147,
     "end_time": "2022-10-18T22:53:34.084146",
     "exception": false,
     "start_time": "2022-10-18T22:53:34.077999",
     "status": "completed"
    },
    "tags": []
   },
   "source": [
    "# 3. Fix assemblies\n",
    "\n",
    "Fix assembly genome names"
   ]
  },
  {
   "cell_type": "code",
   "execution_count": 7,
   "id": "08fac610-3ab3-4afa-9873-406973041963",
   "metadata": {
    "execution": {
     "iopub.execute_input": "2022-10-18T22:53:34.094314Z",
     "iopub.status.busy": "2022-10-18T22:53:34.093785Z",
     "iopub.status.idle": "2022-10-18T22:53:34.279513Z",
     "shell.execute_reply": "2022-10-18T22:53:34.277449Z"
    },
    "papermill": {
     "duration": 0.195125,
     "end_time": "2022-10-18T22:53:34.283286",
     "exception": false,
     "start_time": "2022-10-18T22:53:34.088161",
     "status": "completed"
    },
    "tags": []
   },
   "outputs": [
    {
     "name": "stdout",
     "output_type": "stream",
     "text": [
      "~/workspace/genomics-data-index-evaluation-manuscript/evaluations/simulation/simulations/cov-20/simulated_data/assemblies ~/workspace/genomics-data-index-evaluation-manuscript/evaluations/simulation\r\n"
     ]
    },
    {
     "name": "stdout",
     "output_type": "stream",
     "text": [
      "~/workspace/genomics-data-index-evaluation-manuscript/evaluations/simulation\r\n"
     ]
    }
   ],
   "source": [
    "!pushd {assemblies_dir}; prename 's/data__//' *.fa.gz; popd"
   ]
  },
  {
   "cell_type": "markdown",
   "id": "a0856fbc-ba98-4ba1-870b-6923cd636892",
   "metadata": {
    "papermill": {
     "duration": 0.005959,
     "end_time": "2022-10-18T22:53:34.295894",
     "exception": false,
     "start_time": "2022-10-18T22:53:34.289935",
     "status": "completed"
    },
    "tags": []
   },
   "source": [
    "# 4. Assemble reads\n",
    "\n",
    "Assemble reads to have another scenario of imperfect assemblies."
   ]
  },
  {
   "cell_type": "code",
   "execution_count": 8,
   "id": "c1a1b18f-ecd1-4ca3-af9f-ef44648edbd3",
   "metadata": {
    "execution": {
     "iopub.execute_input": "2022-10-18T22:53:34.325448Z",
     "iopub.status.busy": "2022-10-18T22:53:34.324660Z",
     "iopub.status.idle": "2022-10-18T22:53:35.620022Z",
     "shell.execute_reply": "2022-10-18T22:53:35.618092Z"
    },
    "papermill": {
     "duration": 1.308275,
     "end_time": "2022-10-18T22:53:35.624197",
     "exception": false,
     "start_time": "2022-10-18T22:53:34.315922",
     "status": "completed"
    },
    "tags": []
   },
   "outputs": [
    {
     "name": "stdout",
     "output_type": "stream",
     "text": [
      "SKESA 2.4.0\r\n",
      "\r\n",
      "skesa --version \r\n",
      "\r\n",
      "\r\n"
     ]
    }
   ],
   "source": [
    "!conda run -n skesa skesa --version"
   ]
  },
  {
   "cell_type": "code",
   "execution_count": 9,
   "id": "419476b6-ecce-477b-a838-d2419d1d160e",
   "metadata": {
    "execution": {
     "iopub.execute_input": "2022-10-18T22:53:35.640520Z",
     "iopub.status.busy": "2022-10-18T22:53:35.639942Z",
     "iopub.status.idle": "2022-10-18T22:53:50.909896Z",
     "shell.execute_reply": "2022-10-18T22:53:50.907640Z"
    },
    "papermill": {
     "duration": 15.282225,
     "end_time": "2022-10-18T22:53:50.914089",
     "exception": false,
     "start_time": "2022-10-18T22:53:35.631864",
     "status": "completed"
    },
    "tags": []
   },
   "outputs": [],
   "source": [
    "import glob\n",
    "import re\n",
    "\n",
    "fastq_names = [os.path.basename(f) for f in glob.glob(f'{reads_dir}/*_R1.fq.gz')]\n",
    "sample_names = [re.sub(r'_R\\d.fq.gz', '', f) for f in fastq_names]\n",
    "!parallel -j {ncores} -I% 'conda run -n skesa skesa --reads {reads_dir}/%_R1.fq.gz,{reads_dir}/%_R2.fq.gz --contigs_out {assembled_reads_dir}/%.fasta > {assembled_reads_dir}/log.% 2>&1' \\\n",
    "    ::: {' '.join(sample_names)}"
   ]
  }
 ],
 "metadata": {
  "kernelspec": {
   "display_name": "Python 3 (ipykernel)",
   "language": "python",
   "name": "python3"
  },
  "language_info": {
   "codemirror_mode": {
    "name": "ipython",
    "version": 3
   },
   "file_extension": ".py",
   "mimetype": "text/x-python",
   "name": "python",
   "nbconvert_exporter": "python",
   "pygments_lexer": "ipython3",
   "version": "3.8.13"
  },
  "papermill": {
   "default_parameters": {},
   "duration": 19.725168,
   "end_time": "2022-10-18T22:53:51.144216",
   "environment_variables": {},
   "exception": null,
   "input_path": "template-2-fix-simulated-files.ipynb",
   "output_path": "2-fix-simulated-files.simulation-cov-20.ipynb",
   "parameters": {
    "iterations": 1,
    "mincov": 10,
    "read_coverage": 20,
    "simulation_dir": "simulations/cov-20",
    "sub_alpha": 0.2
   },
   "start_time": "2022-10-18T22:53:31.419048",
   "version": "2.3.4"
  }
 },
 "nbformat": 4,
 "nbformat_minor": 5
}