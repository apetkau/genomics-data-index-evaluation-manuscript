{
 "cells": [
  {
   "cell_type": "markdown",
   "id": "acfa5482-d626-44d6-b613-863e6911fa98",
   "metadata": {
    "papermill": {
     "duration": 0.006521,
     "end_time": "2022-09-29T18:43:49.835931",
     "exception": false,
     "start_time": "2022-09-29T18:43:49.829410",
     "status": "completed"
    },
    "tags": []
   },
   "source": [
    "# 1. Parameters"
   ]
  },
  {
   "cell_type": "code",
   "execution_count": 1,
   "id": "36126d74-a9d8-4431-ba49-767c1fc2ec49",
   "metadata": {
    "execution": {
     "iopub.execute_input": "2022-09-29T18:43:49.847893Z",
     "iopub.status.busy": "2022-09-29T18:43:49.847006Z",
     "iopub.status.idle": "2022-09-29T18:43:49.863119Z",
     "shell.execute_reply": "2022-09-29T18:43:49.861850Z"
    },
    "papermill": {
     "duration": 0.025827,
     "end_time": "2022-09-29T18:43:49.866994",
     "exception": false,
     "start_time": "2022-09-29T18:43:49.841167",
     "status": "completed"
    },
    "tags": [
     "parameters"
    ]
   },
   "outputs": [],
   "source": [
    "# Defaults\n",
    "simulation_dir = 'simulations/unset'\n",
    "ncores = 48"
   ]
  },
  {
   "cell_type": "code",
   "execution_count": 2,
   "id": "20793a3c",
   "metadata": {
    "execution": {
     "iopub.execute_input": "2022-09-29T18:43:49.878248Z",
     "iopub.status.busy": "2022-09-29T18:43:49.877704Z",
     "iopub.status.idle": "2022-09-29T18:43:49.884681Z",
     "shell.execute_reply": "2022-09-29T18:43:49.883207Z"
    },
    "papermill": {
     "duration": 0.015955,
     "end_time": "2022-09-29T18:43:49.887882",
     "exception": false,
     "start_time": "2022-09-29T18:43:49.871927",
     "status": "completed"
    },
    "tags": [
     "injected-parameters"
    ]
   },
   "outputs": [],
   "source": [
    "# Parameters\n",
    "read_coverage = 30\n",
    "mincov = 10\n",
    "simulation_dir = \"simulations/alpha-0.1-cov-30\"\n",
    "iterations = 3\n",
    "sub_alpha = 0.1\n"
   ]
  },
  {
   "cell_type": "code",
   "execution_count": 3,
   "id": "15e911d7-0ffc-4110-aefe-71bc77e689cd",
   "metadata": {
    "execution": {
     "iopub.execute_input": "2022-09-29T18:43:49.897912Z",
     "iopub.status.busy": "2022-09-29T18:43:49.897243Z",
     "iopub.status.idle": "2022-09-29T18:43:49.905832Z",
     "shell.execute_reply": "2022-09-29T18:43:49.904574Z"
    },
    "papermill": {
     "duration": 0.016925,
     "end_time": "2022-09-29T18:43:49.908972",
     "exception": false,
     "start_time": "2022-09-29T18:43:49.892047",
     "status": "completed"
    },
    "tags": []
   },
   "outputs": [],
   "source": [
    "from pathlib import Path\n",
    "import os\n",
    "\n",
    "simulation_data_dir = Path(simulation_dir) / 'simulated_data'\n",
    "initial_reads_dir = simulation_data_dir / 'reads_initial'\n",
    "reads_dir = simulation_data_dir / 'reads'\n",
    "assemblies_dir = simulation_data_dir / 'assemblies'\n",
    "\n",
    "if not reads_dir.exists():\n",
    "    os.mkdir(reads_dir)"
   ]
  },
  {
   "cell_type": "markdown",
   "id": "rotary-regard",
   "metadata": {
    "papermill": {
     "duration": 0.002789,
     "end_time": "2022-09-29T18:43:49.916763",
     "exception": false,
     "start_time": "2022-09-29T18:43:49.913974",
     "status": "completed"
    },
    "tags": []
   },
   "source": [
    "# 2. Fix reads\n",
    "\n",
    "Fix read file names and data so they can be indexed."
   ]
  },
  {
   "cell_type": "code",
   "execution_count": 4,
   "id": "convenient-blackberry",
   "metadata": {
    "execution": {
     "iopub.execute_input": "2022-09-29T18:43:49.923641Z",
     "iopub.status.busy": "2022-09-29T18:43:49.922974Z",
     "iopub.status.idle": "2022-09-29T18:43:50.110474Z",
     "shell.execute_reply": "2022-09-29T18:43:50.108838Z"
    },
    "papermill": {
     "duration": 0.195109,
     "end_time": "2022-09-29T18:43:50.114223",
     "exception": false,
     "start_time": "2022-09-29T18:43:49.919114",
     "status": "completed"
    },
    "tags": []
   },
   "outputs": [
    {
     "name": "stdout",
     "output_type": "stream",
     "text": [
      "~/workspace/genomics-data-index-evaluation-manuscript/evaluations/simulation/simulations/alpha-0.1-cov-30/simulated_data/reads_initial ~/workspace/genomics-data-index-evaluation-manuscript/evaluations/simulation\r\n"
     ]
    },
    {
     "name": "stdout",
     "output_type": "stream",
     "text": [
      "~/workspace/genomics-data-index-evaluation-manuscript/evaluations/simulation\r\n"
     ]
    }
   ],
   "source": [
    "import os\n",
    "\n",
    "# Fix warning about locale unset\n",
    "os.environ['LANG'] = 'en_US.UTF-8'\n",
    "\n",
    "!pushd {initial_reads_dir}; prename 's/data_//' *.fq.gz; popd"
   ]
  },
  {
   "cell_type": "markdown",
   "id": "median-belle",
   "metadata": {
    "papermill": {
     "duration": 0.00532,
     "end_time": "2022-09-29T18:43:50.125136",
     "exception": false,
     "start_time": "2022-09-29T18:43:50.119816",
     "status": "completed"
    },
    "tags": []
   },
   "source": [
    "Jackalope produces reads with non-standard identifiers where pairs of reads don't have matching identifiers. For example:\n",
    "\n",
    "* Pair 1: `@SH08-001-NC_011083-3048632-R/1`\n",
    "* Pair 2: `@SH08-001-NC_011083-3048396-F/2`\n",
    "\n",
    "In order to run snippy, these paired identifiers need to match (except for the `/1` and `/2` suffix).\n",
    "\n",
    "So, I have to replace them all with something unique, but which matches in each pair of files. I do this by replacing the position (I think) with the read number (as it appears in the file). So the above identifiers become:\n",
    "\n",
    "* Pair 1: `@SH08-001-NC_011083-1/1`\n",
    "* Pair 2: `@SH08-001-NC_011083-1/2`"
   ]
  },
  {
   "cell_type": "code",
   "execution_count": 5,
   "id": "remarkable-berry",
   "metadata": {
    "execution": {
     "iopub.execute_input": "2022-09-29T18:43:50.135195Z",
     "iopub.status.busy": "2022-09-29T18:43:50.134500Z",
     "iopub.status.idle": "2022-09-29T18:43:51.151319Z",
     "shell.execute_reply": "2022-09-29T18:43:51.149108Z"
    },
    "papermill": {
     "duration": 1.026524,
     "end_time": "2022-09-29T18:43:51.155398",
     "exception": false,
     "start_time": "2022-09-29T18:43:50.128874",
     "status": "completed"
    },
    "tags": []
   },
   "outputs": [],
   "source": [
    "import glob\n",
    "import os\n",
    "\n",
    "files = [os.path.basename(f) for f in glob.glob(f'{initial_reads_dir}/*.fq.gz')]\n",
    "!parallel -j {ncores} -I% 'gzip -d --stdout {initial_reads_dir}/% | perl scripts/replace-fastq-header.pl | gzip > {reads_dir}/%' \\\n",
    "    ::: {' '.join(files)}"
   ]
  },
  {
   "cell_type": "code",
   "execution_count": 6,
   "id": "8318e7a8-1057-4e4f-aaec-fccdec42a75f",
   "metadata": {
    "execution": {
     "iopub.execute_input": "2022-09-29T18:43:51.168927Z",
     "iopub.status.busy": "2022-09-29T18:43:51.168334Z",
     "iopub.status.idle": "2022-09-29T18:43:51.187908Z",
     "shell.execute_reply": "2022-09-29T18:43:51.186543Z"
    },
    "papermill": {
     "duration": 0.030264,
     "end_time": "2022-09-29T18:43:51.191446",
     "exception": false,
     "start_time": "2022-09-29T18:43:51.161182",
     "status": "completed"
    },
    "tags": []
   },
   "outputs": [],
   "source": [
    "import shutil\n",
    "\n",
    "shutil.rmtree(initial_reads_dir)"
   ]
  },
  {
   "cell_type": "markdown",
   "id": "cf630b4f-ed63-4e14-9657-e0aaea0953ab",
   "metadata": {
    "papermill": {
     "duration": 0.005678,
     "end_time": "2022-09-29T18:43:51.202772",
     "exception": false,
     "start_time": "2022-09-29T18:43:51.197094",
     "status": "completed"
    },
    "tags": []
   },
   "source": [
    "# 3. Fix assemblies\n",
    "\n",
    "Fix assembly genome names"
   ]
  },
  {
   "cell_type": "code",
   "execution_count": 7,
   "id": "08fac610-3ab3-4afa-9873-406973041963",
   "metadata": {
    "execution": {
     "iopub.execute_input": "2022-09-29T18:43:51.213226Z",
     "iopub.status.busy": "2022-09-29T18:43:51.212680Z",
     "iopub.status.idle": "2022-09-29T18:43:51.392056Z",
     "shell.execute_reply": "2022-09-29T18:43:51.390208Z"
    },
    "papermill": {
     "duration": 0.188345,
     "end_time": "2022-09-29T18:43:51.395794",
     "exception": false,
     "start_time": "2022-09-29T18:43:51.207449",
     "status": "completed"
    },
    "tags": []
   },
   "outputs": [
    {
     "name": "stdout",
     "output_type": "stream",
     "text": [
      "~/workspace/genomics-data-index-evaluation-manuscript/evaluations/simulation/simulations/alpha-0.1-cov-30/simulated_data/assemblies ~/workspace/genomics-data-index-evaluation-manuscript/evaluations/simulation\r\n"
     ]
    },
    {
     "name": "stdout",
     "output_type": "stream",
     "text": [
      "~/workspace/genomics-data-index-evaluation-manuscript/evaluations/simulation\r\n"
     ]
    }
   ],
   "source": [
    "!pushd {assemblies_dir}; prename 's/data__//' *.fa.gz; popd"
   ]
  }
 ],
 "metadata": {
  "kernelspec": {
   "display_name": "Python 3 (ipykernel)",
   "language": "python",
   "name": "python3"
  },
  "language_info": {
   "codemirror_mode": {
    "name": "ipython",
    "version": 3
   },
   "file_extension": ".py",
   "mimetype": "text/x-python",
   "name": "python",
   "nbconvert_exporter": "python",
   "pygments_lexer": "ipython3",
   "version": "3.8.13"
  },
  "papermill": {
   "default_parameters": {},
   "duration": 3.373824,
   "end_time": "2022-09-29T18:43:51.624705",
   "environment_variables": {},
   "exception": null,
   "input_path": "template-2-fix-simulated-files.ipynb",
   "output_path": "2-fix-simulated-files.simulation-alpha-0.1.ipynb",
   "parameters": {
    "iterations": 3,
    "mincov": 10,
    "read_coverage": 30,
    "simulation_dir": "simulations/alpha-0.1-cov-30",
    "sub_alpha": 0.1
   },
   "start_time": "2022-09-29T18:43:48.250881",
   "version": "2.3.4"
  }
 },
 "nbformat": 4,
 "nbformat_minor": 5
}