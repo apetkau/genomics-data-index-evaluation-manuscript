{
 "cells": [
  {
   "cell_type": "markdown",
   "id": "acfa5482-d626-44d6-b613-863e6911fa98",
   "metadata": {
    "papermill": {
     "duration": 0.007434,
     "end_time": "2022-10-18T22:11:29.231513",
     "exception": false,
     "start_time": "2022-10-18T22:11:29.224079",
     "status": "completed"
    },
    "tags": []
   },
   "source": [
    "# 1. Parameters"
   ]
  },
  {
   "cell_type": "code",
   "execution_count": 1,
   "id": "36126d74-a9d8-4431-ba49-767c1fc2ec49",
   "metadata": {
    "execution": {
     "iopub.execute_input": "2022-10-18T22:11:29.243301Z",
     "iopub.status.busy": "2022-10-18T22:11:29.242545Z",
     "iopub.status.idle": "2022-10-18T22:11:29.258313Z",
     "shell.execute_reply": "2022-10-18T22:11:29.257217Z"
    },
    "papermill": {
     "duration": 0.024267,
     "end_time": "2022-10-18T22:11:29.261724",
     "exception": false,
     "start_time": "2022-10-18T22:11:29.237457",
     "status": "completed"
    },
    "tags": [
     "parameters"
    ]
   },
   "outputs": [],
   "source": [
    "# Defaults\n",
    "simulation_dir = 'simulations/unset'\n",
    "ncores = 48"
   ]
  },
  {
   "cell_type": "code",
   "execution_count": 2,
   "id": "145334ce",
   "metadata": {
    "execution": {
     "iopub.execute_input": "2022-10-18T22:11:29.273778Z",
     "iopub.status.busy": "2022-10-18T22:11:29.273255Z",
     "iopub.status.idle": "2022-10-18T22:11:29.280301Z",
     "shell.execute_reply": "2022-10-18T22:11:29.279001Z"
    },
    "papermill": {
     "duration": 0.016662,
     "end_time": "2022-10-18T22:11:29.283580",
     "exception": false,
     "start_time": "2022-10-18T22:11:29.266918",
     "status": "completed"
    },
    "tags": [
     "injected-parameters"
    ]
   },
   "outputs": [],
   "source": [
    "# Parameters\n",
    "read_coverage = 30\n",
    "mincov = 10\n",
    "simulation_dir = \"simulations/alpha-0.1-cov-30\"\n",
    "iterations = 1\n",
    "sub_alpha = 0.1\n"
   ]
  },
  {
   "cell_type": "code",
   "execution_count": 3,
   "id": "15e911d7-0ffc-4110-aefe-71bc77e689cd",
   "metadata": {
    "execution": {
     "iopub.execute_input": "2022-10-18T22:11:29.294826Z",
     "iopub.status.busy": "2022-10-18T22:11:29.294211Z",
     "iopub.status.idle": "2022-10-18T22:11:29.304084Z",
     "shell.execute_reply": "2022-10-18T22:11:29.302833Z"
    },
    "papermill": {
     "duration": 0.017988,
     "end_time": "2022-10-18T22:11:29.306711",
     "exception": false,
     "start_time": "2022-10-18T22:11:29.288723",
     "status": "completed"
    },
    "tags": []
   },
   "outputs": [],
   "source": [
    "from pathlib import Path\n",
    "import os\n",
    "\n",
    "simulation_data_dir = Path(simulation_dir) / 'simulated_data'\n",
    "initial_reads_dir = simulation_data_dir / 'reads_initial'\n",
    "reads_dir = simulation_data_dir / 'reads'\n",
    "assemblies_dir = simulation_data_dir / 'assemblies'\n",
    "assembled_reads_dir = simulation_data_dir / 'assembled_reads'\n",
    "\n",
    "if not reads_dir.exists():\n",
    "    os.mkdir(reads_dir)\n",
    "    \n",
    "if not assembled_reads_dir.exists():\n",
    "    os.mkdir(assembled_reads_dir)"
   ]
  },
  {
   "cell_type": "markdown",
   "id": "rotary-regard",
   "metadata": {
    "papermill": {
     "duration": 0.005057,
     "end_time": "2022-10-18T22:11:29.316895",
     "exception": false,
     "start_time": "2022-10-18T22:11:29.311838",
     "status": "completed"
    },
    "tags": []
   },
   "source": [
    "# 2. Fix reads\n",
    "\n",
    "Fix read file names and data so they can be indexed."
   ]
  },
  {
   "cell_type": "code",
   "execution_count": 4,
   "id": "convenient-blackberry",
   "metadata": {
    "execution": {
     "iopub.execute_input": "2022-10-18T22:11:29.325854Z",
     "iopub.status.busy": "2022-10-18T22:11:29.325332Z",
     "iopub.status.idle": "2022-10-18T22:11:29.511045Z",
     "shell.execute_reply": "2022-10-18T22:11:29.509049Z"
    },
    "papermill": {
     "duration": 0.194396,
     "end_time": "2022-10-18T22:11:29.514825",
     "exception": false,
     "start_time": "2022-10-18T22:11:29.320429",
     "status": "completed"
    },
    "tags": []
   },
   "outputs": [
    {
     "name": "stdout",
     "output_type": "stream",
     "text": [
      "~/workspace/genomics-data-index-evaluation-manuscript/evaluations/simulation/simulations/alpha-0.1-cov-30/simulated_data/reads_initial ~/workspace/genomics-data-index-evaluation-manuscript/evaluations/simulation\r\n"
     ]
    },
    {
     "name": "stdout",
     "output_type": "stream",
     "text": [
      "~/workspace/genomics-data-index-evaluation-manuscript/evaluations/simulation\r\n"
     ]
    }
   ],
   "source": [
    "import os\n",
    "\n",
    "# Fix warning about locale unset\n",
    "os.environ['LANG'] = 'en_US.UTF-8'\n",
    "\n",
    "!pushd {initial_reads_dir}; prename 's/data_//' *.fq.gz; popd"
   ]
  },
  {
   "cell_type": "markdown",
   "id": "median-belle",
   "metadata": {
    "papermill": {
     "duration": 0.005986,
     "end_time": "2022-10-18T22:11:29.527015",
     "exception": false,
     "start_time": "2022-10-18T22:11:29.521029",
     "status": "completed"
    },
    "tags": []
   },
   "source": [
    "Jackalope produces reads with non-standard identifiers where pairs of reads don't have matching identifiers. For example:\n",
    "\n",
    "* Pair 1: `@SH08-001-NC_011083-3048632-R/1`\n",
    "* Pair 2: `@SH08-001-NC_011083-3048396-F/2`\n",
    "\n",
    "In order to run snippy, these paired identifiers need to match (except for the `/1` and `/2` suffix).\n",
    "\n",
    "So, I have to replace them all with something unique, but which matches in each pair of files. I do this by replacing the position (I think) with the read number (as it appears in the file). So the above identifiers become:\n",
    "\n",
    "* Pair 1: `@SH08-001-NC_011083-1/1`\n",
    "* Pair 2: `@SH08-001-NC_011083-1/2`"
   ]
  },
  {
   "cell_type": "code",
   "execution_count": 5,
   "id": "remarkable-berry",
   "metadata": {
    "execution": {
     "iopub.execute_input": "2022-10-18T22:11:29.538445Z",
     "iopub.status.busy": "2022-10-18T22:11:29.537673Z",
     "iopub.status.idle": "2022-10-18T22:11:30.516306Z",
     "shell.execute_reply": "2022-10-18T22:11:30.514081Z"
    },
    "papermill": {
     "duration": 0.98891,
     "end_time": "2022-10-18T22:11:30.520517",
     "exception": false,
     "start_time": "2022-10-18T22:11:29.531607",
     "status": "completed"
    },
    "tags": []
   },
   "outputs": [],
   "source": [
    "import glob\n",
    "import os\n",
    "\n",
    "files = [os.path.basename(f) for f in glob.glob(f'{initial_reads_dir}/*.fq.gz')]\n",
    "!parallel -j {ncores} -I% 'gzip -d --stdout {initial_reads_dir}/% | perl scripts/replace-fastq-header.pl | gzip > {reads_dir}/%' \\\n",
    "    ::: {' '.join(files)}"
   ]
  },
  {
   "cell_type": "code",
   "execution_count": 6,
   "id": "8318e7a8-1057-4e4f-aaec-fccdec42a75f",
   "metadata": {
    "execution": {
     "iopub.execute_input": "2022-10-18T22:11:30.535241Z",
     "iopub.status.busy": "2022-10-18T22:11:30.534676Z",
     "iopub.status.idle": "2022-10-18T22:11:30.556644Z",
     "shell.execute_reply": "2022-10-18T22:11:30.555361Z"
    },
    "papermill": {
     "duration": 0.032559,
     "end_time": "2022-10-18T22:11:30.560172",
     "exception": false,
     "start_time": "2022-10-18T22:11:30.527613",
     "status": "completed"
    },
    "tags": []
   },
   "outputs": [],
   "source": [
    "import shutil\n",
    "\n",
    "shutil.rmtree(initial_reads_dir)"
   ]
  },
  {
   "cell_type": "markdown",
   "id": "cf630b4f-ed63-4e14-9657-e0aaea0953ab",
   "metadata": {
    "papermill": {
     "duration": 0.005099,
     "end_time": "2022-10-18T22:11:30.571695",
     "exception": false,
     "start_time": "2022-10-18T22:11:30.566596",
     "status": "completed"
    },
    "tags": []
   },
   "source": [
    "# 3. Fix assemblies\n",
    "\n",
    "Fix assembly genome names"
   ]
  },
  {
   "cell_type": "code",
   "execution_count": 7,
   "id": "08fac610-3ab3-4afa-9873-406973041963",
   "metadata": {
    "execution": {
     "iopub.execute_input": "2022-10-18T22:11:30.582567Z",
     "iopub.status.busy": "2022-10-18T22:11:30.582041Z",
     "iopub.status.idle": "2022-10-18T22:11:30.765327Z",
     "shell.execute_reply": "2022-10-18T22:11:30.763266Z"
    },
    "papermill": {
     "duration": 0.192755,
     "end_time": "2022-10-18T22:11:30.769347",
     "exception": false,
     "start_time": "2022-10-18T22:11:30.576592",
     "status": "completed"
    },
    "tags": []
   },
   "outputs": [
    {
     "name": "stdout",
     "output_type": "stream",
     "text": [
      "~/workspace/genomics-data-index-evaluation-manuscript/evaluations/simulation/simulations/alpha-0.1-cov-30/simulated_data/assemblies ~/workspace/genomics-data-index-evaluation-manuscript/evaluations/simulation\r\n"
     ]
    },
    {
     "name": "stdout",
     "output_type": "stream",
     "text": [
      "~/workspace/genomics-data-index-evaluation-manuscript/evaluations/simulation\r\n"
     ]
    }
   ],
   "source": [
    "!pushd {assemblies_dir}; prename 's/data__//' *.fa.gz; popd"
   ]
  },
  {
   "cell_type": "markdown",
   "id": "a0856fbc-ba98-4ba1-870b-6923cd636892",
   "metadata": {
    "papermill": {
     "duration": 0.005412,
     "end_time": "2022-10-18T22:11:30.781431",
     "exception": false,
     "start_time": "2022-10-18T22:11:30.776019",
     "status": "completed"
    },
    "tags": []
   },
   "source": [
    "# 4. Assemble reads\n",
    "\n",
    "Assemble reads to have another scenario of imperfect assemblies."
   ]
  },
  {
   "cell_type": "code",
   "execution_count": 8,
   "id": "c1a1b18f-ecd1-4ca3-af9f-ef44648edbd3",
   "metadata": {
    "execution": {
     "iopub.execute_input": "2022-10-18T22:11:30.811696Z",
     "iopub.status.busy": "2022-10-18T22:11:30.811078Z",
     "iopub.status.idle": "2022-10-18T22:11:32.105156Z",
     "shell.execute_reply": "2022-10-18T22:11:32.103075Z"
    },
    "papermill": {
     "duration": 1.305296,
     "end_time": "2022-10-18T22:11:32.109146",
     "exception": false,
     "start_time": "2022-10-18T22:11:30.803850",
     "status": "completed"
    },
    "tags": []
   },
   "outputs": [
    {
     "name": "stdout",
     "output_type": "stream",
     "text": [
      "SKESA 2.4.0\r\n",
      "\r\n",
      "skesa --version \r\n",
      "\r\n",
      "\r\n"
     ]
    }
   ],
   "source": [
    "!conda run -n skesa skesa --version"
   ]
  },
  {
   "cell_type": "code",
   "execution_count": 9,
   "id": "419476b6-ecce-477b-a838-d2419d1d160e",
   "metadata": {
    "execution": {
     "iopub.execute_input": "2022-10-18T22:11:32.125046Z",
     "iopub.status.busy": "2022-10-18T22:11:32.124256Z",
     "iopub.status.idle": "2022-10-18T22:11:49.902275Z",
     "shell.execute_reply": "2022-10-18T22:11:49.900093Z"
    },
    "papermill": {
     "duration": 17.789712,
     "end_time": "2022-10-18T22:11:49.906524",
     "exception": false,
     "start_time": "2022-10-18T22:11:32.116812",
     "status": "completed"
    },
    "tags": []
   },
   "outputs": [],
   "source": [
    "import glob\n",
    "import re\n",
    "\n",
    "fastq_names = [os.path.basename(f) for f in glob.glob(f'{reads_dir}/*_R1.fq.gz')]\n",
    "sample_names = [re.sub(r'_R\\d.fq.gz', '', f) for f in fastq_names]\n",
    "!parallel -j {ncores} -I% 'conda run -n skesa skesa --reads {reads_dir}/%_R1.fq.gz,{reads_dir}/%_R2.fq.gz --contigs_out {assembled_reads_dir}/%.fasta > {assembled_reads_dir}/log.% 2>&1' \\\n",
    "    ::: {' '.join(sample_names)}"
   ]
  }
 ],
 "metadata": {
  "kernelspec": {
   "display_name": "Python 3 (ipykernel)",
   "language": "python",
   "name": "python3"
  },
  "language_info": {
   "codemirror_mode": {
    "name": "ipython",
    "version": 3
   },
   "file_extension": ".py",
   "mimetype": "text/x-python",
   "name": "python",
   "nbconvert_exporter": "python",
   "pygments_lexer": "ipython3",
   "version": "3.8.13"
  },
  "papermill": {
   "default_parameters": {},
   "duration": 22.299217,
   "end_time": "2022-10-18T22:11:50.136134",
   "environment_variables": {},
   "exception": null,
   "input_path": "template-2-fix-simulated-files.ipynb",
   "output_path": "2-fix-simulated-files.simulation-alpha-0.1.ipynb",
   "parameters": {
    "iterations": 1,
    "mincov": 10,
    "read_coverage": 30,
    "simulation_dir": "simulations/alpha-0.1-cov-30",
    "sub_alpha": 0.1
   },
   "start_time": "2022-10-18T22:11:27.836917",
   "version": "2.3.4"
  }
 },
 "nbformat": 4,
 "nbformat_minor": 5
}