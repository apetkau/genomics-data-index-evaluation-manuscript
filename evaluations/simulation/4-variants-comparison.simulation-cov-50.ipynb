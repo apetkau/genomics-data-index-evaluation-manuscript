{
 "cells": [
  {
   "cell_type": "markdown",
   "id": "2f66aa00-6c01-46a5-8f31-0e579da614b2",
   "metadata": {
    "papermill": {
     "duration": 0.010905,
     "end_time": "2022-10-19T02:00:54.389018",
     "exception": false,
     "start_time": "2022-10-19T02:00:54.378113",
     "status": "completed"
    },
    "tags": []
   },
   "source": [
    "# 1. Parameters"
   ]
  },
  {
   "cell_type": "code",
   "execution_count": 1,
   "id": "f2cfe9b4-3c45-4e2e-9ba2-17f4119f5f6d",
   "metadata": {
    "execution": {
     "iopub.execute_input": "2022-10-19T02:00:54.403701Z",
     "iopub.status.busy": "2022-10-19T02:00:54.402137Z",
     "iopub.status.idle": "2022-10-19T02:00:54.418884Z",
     "shell.execute_reply": "2022-10-19T02:00:54.417609Z"
    },
    "papermill": {
     "duration": 0.027631,
     "end_time": "2022-10-19T02:00:54.422698",
     "exception": false,
     "start_time": "2022-10-19T02:00:54.395067",
     "status": "completed"
    },
    "tags": [
     "parameters"
    ]
   },
   "outputs": [],
   "source": [
    "# Defaults\n",
    "\n",
    "simulation_dir = 'simulations/unset'\n",
    "reference_file = 'simulations/reference/reference.fa.gz'"
   ]
  },
  {
   "cell_type": "code",
   "execution_count": 2,
   "id": "2c6d2f84",
   "metadata": {
    "execution": {
     "iopub.execute_input": "2022-10-19T02:00:54.440935Z",
     "iopub.status.busy": "2022-10-19T02:00:54.440403Z",
     "iopub.status.idle": "2022-10-19T02:00:54.447637Z",
     "shell.execute_reply": "2022-10-19T02:00:54.446134Z"
    },
    "papermill": {
     "duration": 0.019021,
     "end_time": "2022-10-19T02:00:54.450719",
     "exception": false,
     "start_time": "2022-10-19T02:00:54.431698",
     "status": "completed"
    },
    "tags": [
     "injected-parameters"
    ]
   },
   "outputs": [],
   "source": [
    "# Parameters\n",
    "read_coverage = 50\n",
    "mincov = 10\n",
    "simulation_dir = \"simulations/cov-50\"\n",
    "iterations = 1\n",
    "sub_alpha = 0.2\n"
   ]
  },
  {
   "cell_type": "code",
   "execution_count": 3,
   "id": "9ddaa924-b1ac-4740-8070-0eaa05b80e96",
   "metadata": {
    "execution": {
     "iopub.execute_input": "2022-10-19T02:00:54.465379Z",
     "iopub.status.busy": "2022-10-19T02:00:54.464732Z",
     "iopub.status.idle": "2022-10-19T02:00:54.473796Z",
     "shell.execute_reply": "2022-10-19T02:00:54.472340Z"
    },
    "papermill": {
     "duration": 0.01864,
     "end_time": "2022-10-19T02:00:54.476250",
     "exception": false,
     "start_time": "2022-10-19T02:00:54.457610",
     "status": "completed"
    },
    "tags": []
   },
   "outputs": [],
   "source": [
    "from pathlib import Path\n",
    "\n",
    "simulation_dir_path = Path(simulation_dir)\n",
    "\n",
    "case_name = str(simulation_dir_path.name)\n",
    "\n",
    "simulation_data_path = simulation_dir_path / 'simulated_data'\n",
    "simulated_variants_file = simulation_data_path / 'haplotypes.vcf.gz'\n",
    "\n",
    "case_name = str(simulation_dir_path.name)\n",
    "index_reads_path = simulation_dir_path / 'index-reads'\n",
    "index_assemblies_path = simulation_dir_path / 'index-assemblies'\n",
    "index_assemblies_reads_path = simulation_dir_path / 'index-assemblies-reads'"
   ]
  },
  {
   "cell_type": "markdown",
   "id": "2b6c7ffd-d5d7-447f-ba62-7ec7d1b0b583",
   "metadata": {
    "papermill": {
     "duration": 0.006253,
     "end_time": "2022-10-19T02:00:54.488786",
     "exception": false,
     "start_time": "2022-10-19T02:00:54.482533",
     "status": "completed"
    },
    "tags": []
   },
   "source": [
    "# 2. Load simulated variants (VCF)"
   ]
  },
  {
   "cell_type": "code",
   "execution_count": 4,
   "id": "e01f3458-fb5e-4fc1-b1f0-69b7a9c9d033",
   "metadata": {
    "execution": {
     "iopub.execute_input": "2022-10-19T02:00:54.500025Z",
     "iopub.status.busy": "2022-10-19T02:00:54.499360Z",
     "iopub.status.idle": "2022-10-19T02:00:55.380702Z",
     "shell.execute_reply": "2022-10-19T02:00:55.379969Z"
    },
    "papermill": {
     "duration": 0.892254,
     "end_time": "2022-10-19T02:00:55.385749",
     "exception": false,
     "start_time": "2022-10-19T02:00:54.493495",
     "status": "completed"
    },
    "tags": []
   },
   "outputs": [
    {
     "data": {
      "text/html": [
       "<div>\n",
       "<style scoped>\n",
       "    .dataframe tbody tr th:only-of-type {\n",
       "        vertical-align: middle;\n",
       "    }\n",
       "\n",
       "    .dataframe tbody tr th {\n",
       "        vertical-align: top;\n",
       "    }\n",
       "\n",
       "    .dataframe thead th {\n",
       "        text-align: right;\n",
       "    }\n",
       "</style>\n",
       "<table border=\"1\" class=\"dataframe\">\n",
       "  <thead>\n",
       "    <tr style=\"text-align: right;\">\n",
       "      <th></th>\n",
       "      <th>CHROM</th>\n",
       "      <th>POS</th>\n",
       "      <th>REF</th>\n",
       "      <th>samples</th>\n",
       "    </tr>\n",
       "  </thead>\n",
       "  <tbody>\n",
       "    <tr>\n",
       "      <th>0</th>\n",
       "      <td>chrom0</td>\n",
       "      <td>18</td>\n",
       "      <td>G</td>\n",
       "      <td>[Call(sample=reference, CallData(GT=0, GQ=4414...</td>\n",
       "    </tr>\n",
       "    <tr>\n",
       "      <th>1</th>\n",
       "      <td>chrom0</td>\n",
       "      <td>22</td>\n",
       "      <td>A</td>\n",
       "      <td>[Call(sample=reference, CallData(GT=0, GQ=4414...</td>\n",
       "    </tr>\n",
       "    <tr>\n",
       "      <th>2</th>\n",
       "      <td>chrom0</td>\n",
       "      <td>43</td>\n",
       "      <td>A</td>\n",
       "      <td>[Call(sample=reference, CallData(GT=0, GQ=4414...</td>\n",
       "    </tr>\n",
       "    <tr>\n",
       "      <th>3</th>\n",
       "      <td>chrom0</td>\n",
       "      <td>67</td>\n",
       "      <td>A</td>\n",
       "      <td>[Call(sample=reference, CallData(GT=0, GQ=4414...</td>\n",
       "    </tr>\n",
       "    <tr>\n",
       "      <th>4</th>\n",
       "      <td>chrom0</td>\n",
       "      <td>107</td>\n",
       "      <td>G</td>\n",
       "      <td>[Call(sample=reference, CallData(GT=0, GQ=4414...</td>\n",
       "    </tr>\n",
       "  </tbody>\n",
       "</table>\n",
       "</div>"
      ],
      "text/plain": [
       "    CHROM  POS REF                                            samples\n",
       "0  chrom0   18   G  [Call(sample=reference, CallData(GT=0, GQ=4414...\n",
       "1  chrom0   22   A  [Call(sample=reference, CallData(GT=0, GQ=4414...\n",
       "2  chrom0   43   A  [Call(sample=reference, CallData(GT=0, GQ=4414...\n",
       "3  chrom0   67   A  [Call(sample=reference, CallData(GT=0, GQ=4414...\n",
       "4  chrom0  107   G  [Call(sample=reference, CallData(GT=0, GQ=4414..."
      ]
     },
     "execution_count": 4,
     "metadata": {},
     "output_type": "execute_result"
    }
   ],
   "source": [
    "import vcf\n",
    "import pandas as pd\n",
    "import time\n",
    "\n",
    "reader = vcf.Reader(filename=str(simulated_variants_file))\n",
    "simulated_df = pd.DataFrame([vars(r) for r in reader])\n",
    "simulated_df = simulated_df[['CHROM', 'POS', 'REF', 'samples']]\n",
    "simulated_df.head(5)"
   ]
  },
  {
   "cell_type": "markdown",
   "id": "f1c95d8a-de3e-4bb4-b13f-0f88e6466925",
   "metadata": {
    "papermill": {
     "duration": 0.006058,
     "end_time": "2022-10-19T02:00:55.401743",
     "exception": false,
     "start_time": "2022-10-19T02:00:55.395685",
     "status": "completed"
    },
    "tags": []
   },
   "source": [
    "## 2.1. Construct sample:variant identifiers"
   ]
  },
  {
   "cell_type": "code",
   "execution_count": 5,
   "id": "bac0a5e7-a844-47bb-9204-3b4711d0c329",
   "metadata": {
    "execution": {
     "iopub.execute_input": "2022-10-19T02:00:55.412698Z",
     "iopub.status.busy": "2022-10-19T02:00:55.412050Z",
     "iopub.status.idle": "2022-10-19T02:00:55.794484Z",
     "shell.execute_reply": "2022-10-19T02:00:55.793776Z"
    },
    "papermill": {
     "duration": 0.391896,
     "end_time": "2022-10-19T02:00:55.798590",
     "exception": false,
     "start_time": "2022-10-19T02:00:55.406694",
     "status": "completed"
    },
    "tags": []
   },
   "outputs": [
    {
     "name": "stdout",
     "output_type": "stream",
     "text": [
      "There are 16932 expected sample/variant pairs like: ['SH12-014:chrom0:18:G:C', 'SH10-002:chrom0:22:A:G', 'SH10-015:chrom0:43:A:G']\n",
      "Took 0.0 minutes\n"
     ]
    }
   ],
   "source": [
    "before = time.time()\n",
    "\n",
    "# Explode dataframe so that we have one row per sample\n",
    "simulated_df_exploded = simulated_df.explode('samples')\n",
    "simulated_df_exploded['SAMPLE'] = simulated_df_exploded['samples'].apply(lambda x: x.sample)\n",
    "\n",
    "# Extrat ALT for each sample\n",
    "simulated_df_exploded['ALT'] = simulated_df_exploded['samples'].apply(lambda x: x.gt_bases)\n",
    "\n",
    "# Only keep mutations/those where REF and ALT are different\n",
    "simulated_df_exploded = simulated_df_exploded[simulated_df_exploded['REF'] != simulated_df_exploded['ALT']]\n",
    "\n",
    "# Create SPDI-like identifier with Sample name for comparison (SAMPLE:CHROM:POS:REF:ALT)\n",
    "simulated_df_exploded['ID'] = simulated_df_exploded.apply(\n",
    "    lambda x: f\"{x['SAMPLE']}:{x['CHROM']}:{x['POS']}:{x['REF']}:{x['ALT']}\", axis='columns')\n",
    "\n",
    "simulated_variants = simulated_df_exploded['ID'].reset_index(drop=True)\n",
    "expected_sample_variants = set(simulated_variants)\n",
    "\n",
    "after = time.time()\n",
    "\n",
    "print(f'There are {len(expected_sample_variants)} expected sample/variant pairs like: '\n",
    "      f'{list(simulated_variants[0:3])}')\n",
    "print(f'Took {(after - before)/60:0.1f} minutes')"
   ]
  },
  {
   "cell_type": "code",
   "execution_count": 6,
   "id": "e3f05c50-a98a-431f-b8c8-a5083738255c",
   "metadata": {
    "execution": {
     "iopub.execute_input": "2022-10-19T02:00:55.816386Z",
     "iopub.status.busy": "2022-10-19T02:00:55.816079Z",
     "iopub.status.idle": "2022-10-19T02:00:55.833630Z",
     "shell.execute_reply": "2022-10-19T02:00:55.832795Z"
    },
    "papermill": {
     "duration": 0.02724,
     "end_time": "2022-10-19T02:00:55.835920",
     "exception": false,
     "start_time": "2022-10-19T02:00:55.808680",
     "status": "completed"
    },
    "tags": []
   },
   "outputs": [
    {
     "data": {
      "text/html": [
       "<div>\n",
       "<style scoped>\n",
       "    .dataframe tbody tr th:only-of-type {\n",
       "        vertical-align: middle;\n",
       "    }\n",
       "\n",
       "    .dataframe tbody tr th {\n",
       "        vertical-align: top;\n",
       "    }\n",
       "\n",
       "    .dataframe thead th {\n",
       "        text-align: right;\n",
       "    }\n",
       "</style>\n",
       "<table border=\"1\" class=\"dataframe\">\n",
       "  <thead>\n",
       "    <tr style=\"text-align: right;\">\n",
       "      <th></th>\n",
       "      <th>CHROM</th>\n",
       "      <th>POS</th>\n",
       "      <th>REF</th>\n",
       "      <th>samples</th>\n",
       "      <th>SAMPLE</th>\n",
       "      <th>ALT</th>\n",
       "      <th>ID</th>\n",
       "    </tr>\n",
       "  </thead>\n",
       "  <tbody>\n",
       "    <tr>\n",
       "      <th>0</th>\n",
       "      <td>chrom0</td>\n",
       "      <td>18</td>\n",
       "      <td>G</td>\n",
       "      <td>Call(sample=SH12-014, CallData(GT=1, GQ=441453))</td>\n",
       "      <td>SH12-014</td>\n",
       "      <td>C</td>\n",
       "      <td>SH12-014:chrom0:18:G:C</td>\n",
       "    </tr>\n",
       "    <tr>\n",
       "      <th>1</th>\n",
       "      <td>chrom0</td>\n",
       "      <td>22</td>\n",
       "      <td>A</td>\n",
       "      <td>Call(sample=SH10-002, CallData(GT=1, GQ=441453))</td>\n",
       "      <td>SH10-002</td>\n",
       "      <td>G</td>\n",
       "      <td>SH10-002:chrom0:22:A:G</td>\n",
       "    </tr>\n",
       "    <tr>\n",
       "      <th>2</th>\n",
       "      <td>chrom0</td>\n",
       "      <td>43</td>\n",
       "      <td>A</td>\n",
       "      <td>Call(sample=SH10-015, CallData(GT=1, GQ=441453))</td>\n",
       "      <td>SH10-015</td>\n",
       "      <td>G</td>\n",
       "      <td>SH10-015:chrom0:43:A:G</td>\n",
       "    </tr>\n",
       "    <tr>\n",
       "      <th>2</th>\n",
       "      <td>chrom0</td>\n",
       "      <td>43</td>\n",
       "      <td>A</td>\n",
       "      <td>Call(sample=SH10-014, CallData(GT=1, GQ=441453))</td>\n",
       "      <td>SH10-014</td>\n",
       "      <td>G</td>\n",
       "      <td>SH10-014:chrom0:43:A:G</td>\n",
       "    </tr>\n",
       "    <tr>\n",
       "      <th>2</th>\n",
       "      <td>chrom0</td>\n",
       "      <td>43</td>\n",
       "      <td>A</td>\n",
       "      <td>Call(sample=SH11-002, CallData(GT=1, GQ=441453))</td>\n",
       "      <td>SH11-002</td>\n",
       "      <td>G</td>\n",
       "      <td>SH11-002:chrom0:43:A:G</td>\n",
       "    </tr>\n",
       "    <tr>\n",
       "      <th>...</th>\n",
       "      <td>...</td>\n",
       "      <td>...</td>\n",
       "      <td>...</td>\n",
       "      <td>...</td>\n",
       "      <td>...</td>\n",
       "      <td>...</td>\n",
       "      <td>...</td>\n",
       "    </tr>\n",
       "    <tr>\n",
       "      <th>1356</th>\n",
       "      <td>chrom1</td>\n",
       "      <td>8862</td>\n",
       "      <td>G</td>\n",
       "      <td>Call(sample=SH12-001, CallData(GT=1, GQ=441453))</td>\n",
       "      <td>SH12-001</td>\n",
       "      <td>A</td>\n",
       "      <td>SH12-001:chrom1:8862:G:A</td>\n",
       "    </tr>\n",
       "    <tr>\n",
       "      <th>1356</th>\n",
       "      <td>chrom1</td>\n",
       "      <td>8862</td>\n",
       "      <td>G</td>\n",
       "      <td>Call(sample=SH12-009, CallData(GT=1, GQ=441453))</td>\n",
       "      <td>SH12-009</td>\n",
       "      <td>A</td>\n",
       "      <td>SH12-009:chrom1:8862:G:A</td>\n",
       "    </tr>\n",
       "    <tr>\n",
       "      <th>1356</th>\n",
       "      <td>chrom1</td>\n",
       "      <td>8862</td>\n",
       "      <td>G</td>\n",
       "      <td>Call(sample=SH12-010, CallData(GT=1, GQ=441453))</td>\n",
       "      <td>SH12-010</td>\n",
       "      <td>A</td>\n",
       "      <td>SH12-010:chrom1:8862:G:A</td>\n",
       "    </tr>\n",
       "    <tr>\n",
       "      <th>1356</th>\n",
       "      <td>chrom1</td>\n",
       "      <td>8862</td>\n",
       "      <td>G</td>\n",
       "      <td>Call(sample=SH12-002, CallData(GT=1, GQ=441453))</td>\n",
       "      <td>SH12-002</td>\n",
       "      <td>A</td>\n",
       "      <td>SH12-002:chrom1:8862:G:A</td>\n",
       "    </tr>\n",
       "    <tr>\n",
       "      <th>1356</th>\n",
       "      <td>chrom1</td>\n",
       "      <td>8862</td>\n",
       "      <td>G</td>\n",
       "      <td>Call(sample=SH12-007, CallData(GT=1, GQ=441453))</td>\n",
       "      <td>SH12-007</td>\n",
       "      <td>A</td>\n",
       "      <td>SH12-007:chrom1:8862:G:A</td>\n",
       "    </tr>\n",
       "  </tbody>\n",
       "</table>\n",
       "<p>16932 rows × 7 columns</p>\n",
       "</div>"
      ],
      "text/plain": [
       "       CHROM   POS REF                                           samples  \\\n",
       "0     chrom0    18   G  Call(sample=SH12-014, CallData(GT=1, GQ=441453))   \n",
       "1     chrom0    22   A  Call(sample=SH10-002, CallData(GT=1, GQ=441453))   \n",
       "2     chrom0    43   A  Call(sample=SH10-015, CallData(GT=1, GQ=441453))   \n",
       "2     chrom0    43   A  Call(sample=SH10-014, CallData(GT=1, GQ=441453))   \n",
       "2     chrom0    43   A  Call(sample=SH11-002, CallData(GT=1, GQ=441453))   \n",
       "...      ...   ...  ..                                               ...   \n",
       "1356  chrom1  8862   G  Call(sample=SH12-001, CallData(GT=1, GQ=441453))   \n",
       "1356  chrom1  8862   G  Call(sample=SH12-009, CallData(GT=1, GQ=441453))   \n",
       "1356  chrom1  8862   G  Call(sample=SH12-010, CallData(GT=1, GQ=441453))   \n",
       "1356  chrom1  8862   G  Call(sample=SH12-002, CallData(GT=1, GQ=441453))   \n",
       "1356  chrom1  8862   G  Call(sample=SH12-007, CallData(GT=1, GQ=441453))   \n",
       "\n",
       "        SAMPLE ALT                        ID  \n",
       "0     SH12-014   C    SH12-014:chrom0:18:G:C  \n",
       "1     SH10-002   G    SH10-002:chrom0:22:A:G  \n",
       "2     SH10-015   G    SH10-015:chrom0:43:A:G  \n",
       "2     SH10-014   G    SH10-014:chrom0:43:A:G  \n",
       "2     SH11-002   G    SH11-002:chrom0:43:A:G  \n",
       "...        ...  ..                       ...  \n",
       "1356  SH12-001   A  SH12-001:chrom1:8862:G:A  \n",
       "1356  SH12-009   A  SH12-009:chrom1:8862:G:A  \n",
       "1356  SH12-010   A  SH12-010:chrom1:8862:G:A  \n",
       "1356  SH12-002   A  SH12-002:chrom1:8862:G:A  \n",
       "1356  SH12-007   A  SH12-007:chrom1:8862:G:A  \n",
       "\n",
       "[16932 rows x 7 columns]"
      ]
     },
     "execution_count": 6,
     "metadata": {},
     "output_type": "execute_result"
    }
   ],
   "source": [
    "simulated_df_exploded"
   ]
  },
  {
   "cell_type": "markdown",
   "id": "85d49181-9782-48b6-bdef-dfa2b19cd6b6",
   "metadata": {
    "papermill": {
     "duration": 0.006503,
     "end_time": "2022-10-19T02:00:55.849443",
     "exception": false,
     "start_time": "2022-10-19T02:00:55.842940",
     "status": "completed"
    },
    "tags": []
   },
   "source": [
    "## 1.2. Load reference genome for use with positive/negative calculations"
   ]
  },
  {
   "cell_type": "code",
   "execution_count": 7,
   "id": "bfaacd7f-746e-452a-9b4b-cb4526424b13",
   "metadata": {
    "execution": {
     "iopub.execute_input": "2022-10-19T02:00:55.860654Z",
     "iopub.status.busy": "2022-10-19T02:00:55.859996Z",
     "iopub.status.idle": "2022-10-19T02:00:55.937471Z",
     "shell.execute_reply": "2022-10-19T02:00:55.936842Z"
    },
    "papermill": {
     "duration": 0.087138,
     "end_time": "2022-10-19T02:00:55.941108",
     "exception": false,
     "start_time": "2022-10-19T02:00:55.853970",
     "status": "completed"
    },
    "tags": []
   },
   "outputs": [
    {
     "name": "stdout",
     "output_type": "stream",
     "text": [
      "Reference length: 10834\n",
      "Number samples: 59\n"
     ]
    }
   ],
   "source": [
    "import gzip\n",
    "from Bio import SeqIO\n",
    "\n",
    "with gzip.open(reference_file, mode='rt') as f:\n",
    "    sequences = list(SeqIO.parse(f, 'fasta'))\n",
    "    reference_length = len(sequences[0])\n",
    "    \n",
    "sample_names = set(simulated_df_exploded.groupby('SAMPLE').agg({'SAMPLE': 'count'}).index)\n",
    "sample_names = sample_names - {'reference'}\n",
    "number_samples = len(sample_names)\n",
    "\n",
    "print(f'Reference length: {reference_length}')\n",
    "print(f'Number samples: {number_samples}')"
   ]
  },
  {
   "cell_type": "markdown",
   "id": "31d39af6-8bcb-416b-ba4c-38c06fc6085e",
   "metadata": {
    "papermill": {
     "duration": 0.006514,
     "end_time": "2022-10-19T02:00:55.957410",
     "exception": false,
     "start_time": "2022-10-19T02:00:55.950896",
     "status": "completed"
    },
    "tags": []
   },
   "source": [
    "# 3. Load detected variants\n",
    "\n",
    "## 3.1. Load from reads index"
   ]
  },
  {
   "cell_type": "code",
   "execution_count": 8,
   "id": "89978058-5e1b-4c20-ba21-fc23daa74dcb",
   "metadata": {
    "execution": {
     "iopub.execute_input": "2022-10-19T02:00:56.005041Z",
     "iopub.status.busy": "2022-10-19T02:00:56.004365Z",
     "iopub.status.idle": "2022-10-19T02:01:01.703030Z",
     "shell.execute_reply": "2022-10-19T02:01:01.702254Z"
    },
    "papermill": {
     "duration": 5.728302,
     "end_time": "2022-10-19T02:01:01.720287",
     "exception": false,
     "start_time": "2022-10-19T02:00:55.991985",
     "status": "completed"
    },
    "tags": []
   },
   "outputs": [
    {
     "name": "stdout",
     "output_type": "stream",
     "text": [
      "There are 15756 actual sample/variant pairs (reads)\n",
      "Took 0.1 minutes\n",
      "Actual variants look like: ['SH13-006:chrom0:9542:G:A', 'SH10-001:chrom1:2665:C:G', 'SH14-007:chrom1:3608:A:C', 'SH14-026:chrom0:7909:G:C', 'SH14-018:chrom0:683:T:C']\n"
     ]
    }
   ],
   "source": [
    "from typing import Set\n",
    "import genomics_data_index.api as gdi\n",
    "\n",
    "def get_sample_variant_idenifiers(index_dir: Path) -> Set[str]:\n",
    "    db = gdi.GenomicsDataIndex.connect(index_dir)\n",
    "    q = db.samples_query()\n",
    "\n",
    "    actual_sample_variants = set()\n",
    "    for sample in q.tolist():\n",
    "        sample_features = q.isa(sample).features_summary().reset_index()\n",
    "        sample_features_set = set(sample_features['Mutation'].apply(lambda x: f\"{sample}:{x}\"))\n",
    "        actual_sample_variants.update(sample_features_set)\n",
    "    return actual_sample_variants\n",
    "\n",
    "before = time.time()\n",
    "actual_sample_variants_reads = get_sample_variant_idenifiers(index_reads_path)\n",
    "after = time.time()\n",
    "\n",
    "print(f'There are {len(actual_sample_variants_reads)} actual sample/variant pairs (reads)')\n",
    "print(f'Took {(after - before)/60:0.1f} minutes')\n",
    "print(f'Actual variants look like: {list(actual_sample_variants_reads)[0:5]}')"
   ]
  },
  {
   "cell_type": "markdown",
   "id": "4eb6bf76-40f0-449f-8cac-72679f484e8c",
   "metadata": {
    "papermill": {
     "duration": 0.004829,
     "end_time": "2022-10-19T02:01:01.735158",
     "exception": false,
     "start_time": "2022-10-19T02:01:01.730329",
     "status": "completed"
    },
    "tags": []
   },
   "source": [
    "## 2.2. Load from assemblies index"
   ]
  },
  {
   "cell_type": "code",
   "execution_count": 9,
   "id": "b91c4675-1b29-4a1c-b976-ba88a80d2c78",
   "metadata": {
    "execution": {
     "iopub.execute_input": "2022-10-19T02:01:01.746061Z",
     "iopub.status.busy": "2022-10-19T02:01:01.745227Z",
     "iopub.status.idle": "2022-10-19T02:01:05.146177Z",
     "shell.execute_reply": "2022-10-19T02:01:05.145456Z"
    },
    "papermill": {
     "duration": 3.410392,
     "end_time": "2022-10-19T02:01:05.150097",
     "exception": false,
     "start_time": "2022-10-19T02:01:01.739705",
     "status": "completed"
    },
    "tags": []
   },
   "outputs": [
    {
     "name": "stderr",
     "output_type": "stream",
     "text": [
      "Attempting to set global database_path_translator=<genomics_data_index.storage.model.db.DatabasePathTranslator.DatabasePathTranslator object at 0x7f582482b700> but it is already set\n"
     ]
    },
    {
     "name": "stdout",
     "output_type": "stream",
     "text": [
      "There are 16838 actual sample/variant pairs (assemblies)\n",
      "Took 0.1 minutes\n"
     ]
    }
   ],
   "source": [
    "before = time.time()\n",
    "actual_sample_variants_assemblies = get_sample_variant_idenifiers(index_assemblies_path)\n",
    "after = time.time()\n",
    "\n",
    "print(f'There are {len(actual_sample_variants_assemblies)} actual sample/variant pairs (assemblies)')\n",
    "print(f'Took {(after - before)/60:0.1f} minutes')"
   ]
  },
  {
   "cell_type": "markdown",
   "id": "d44443ae-96df-4372-9eca-06c7a3f5c347",
   "metadata": {
    "papermill": {
     "duration": 0.006239,
     "end_time": "2022-10-19T02:01:05.172487",
     "exception": false,
     "start_time": "2022-10-19T02:01:05.166248",
     "status": "completed"
    },
    "tags": []
   },
   "source": [
    "## 2.3. Load from assemblies reads index"
   ]
  },
  {
   "cell_type": "code",
   "execution_count": 10,
   "id": "434390d4-3b8a-4391-966b-00ff61b38724",
   "metadata": {
    "execution": {
     "iopub.execute_input": "2022-10-19T02:01:05.183343Z",
     "iopub.status.busy": "2022-10-19T02:01:05.182803Z",
     "iopub.status.idle": "2022-10-19T02:01:08.679126Z",
     "shell.execute_reply": "2022-10-19T02:01:08.678412Z"
    },
    "papermill": {
     "duration": 3.505671,
     "end_time": "2022-10-19T02:01:08.682929",
     "exception": false,
     "start_time": "2022-10-19T02:01:05.177258",
     "status": "completed"
    },
    "tags": []
   },
   "outputs": [
    {
     "name": "stderr",
     "output_type": "stream",
     "text": [
      "Attempting to set global database_path_translator=<genomics_data_index.storage.model.db.DatabasePathTranslator.DatabasePathTranslator object at 0x7f5984116a30> but it is already set\n"
     ]
    },
    {
     "name": "stdout",
     "output_type": "stream",
     "text": [
      "There are 16535 actual sample/variant pairs (assemblies reads)\n",
      "Took 0.1 minutes\n"
     ]
    }
   ],
   "source": [
    "before = time.time()\n",
    "actual_sample_variants_assemblies_reads = get_sample_variant_idenifiers(index_assemblies_reads_path)\n",
    "after = time.time()\n",
    "\n",
    "print(f'There are {len(actual_sample_variants_assemblies_reads)} actual sample/variant pairs (assemblies reads)')\n",
    "print(f'Took {(after - before)/60:0.1f} minutes')"
   ]
  },
  {
   "cell_type": "markdown",
   "id": "52efd18a-5198-45cc-a092-4dfaba600ca1",
   "metadata": {
    "papermill": {
     "duration": 0.011579,
     "end_time": "2022-10-19T02:01:08.707491",
     "exception": false,
     "start_time": "2022-10-19T02:01:08.695912",
     "status": "completed"
    },
    "tags": []
   },
   "source": [
    "# 3. Compare expected/actual variants\n",
    "\n",
    "## 3.1. Compare with reads index"
   ]
  },
  {
   "cell_type": "code",
   "execution_count": 11,
   "id": "3897d419-cc74-49d0-92d6-371f365f3ff1",
   "metadata": {
    "execution": {
     "iopub.execute_input": "2022-10-19T02:01:08.723977Z",
     "iopub.status.busy": "2022-10-19T02:01:08.723380Z",
     "iopub.status.idle": "2022-10-19T02:01:08.759614Z",
     "shell.execute_reply": "2022-10-19T02:01:08.758725Z"
    },
    "papermill": {
     "duration": 0.048788,
     "end_time": "2022-10-19T02:01:08.763984",
     "exception": false,
     "start_time": "2022-10-19T02:01:08.715196",
     "status": "completed"
    },
    "tags": []
   },
   "outputs": [
    {
     "name": "stdout",
     "output_type": "stream",
     "text": [
      "Sensitivity: 0.8860\n",
      "Specificity: ~1 (not calculated)\n",
      "Precision: 0.9521\n",
      "F1 Score: 0.9178\n"
     ]
    },
    {
     "data": {
      "text/html": [
       "<div>\n",
       "<style scoped>\n",
       "    .dataframe tbody tr th:only-of-type {\n",
       "        vertical-align: middle;\n",
       "    }\n",
       "\n",
       "    .dataframe tbody tr th {\n",
       "        vertical-align: top;\n",
       "    }\n",
       "\n",
       "    .dataframe thead th {\n",
       "        text-align: right;\n",
       "    }\n",
       "</style>\n",
       "<table border=\"1\" class=\"dataframe\">\n",
       "  <thead>\n",
       "    <tr style=\"text-align: right;\">\n",
       "      <th></th>\n",
       "      <th>Name</th>\n",
       "      <th>True Positives</th>\n",
       "      <th>True Negatives</th>\n",
       "      <th>False Positives</th>\n",
       "      <th>False Negatives</th>\n",
       "      <th>Sensitivity</th>\n",
       "      <th>Specificity</th>\n",
       "      <th>Precision</th>\n",
       "      <th>F1 Score</th>\n",
       "    </tr>\n",
       "  </thead>\n",
       "  <tbody>\n",
       "    <tr>\n",
       "      <th>0</th>\n",
       "      <td>cov-50 reads</td>\n",
       "      <td>15001</td>\n",
       "      <td>&lt;NA&gt;</td>\n",
       "      <td>755</td>\n",
       "      <td>1931</td>\n",
       "      <td>0.885956</td>\n",
       "      <td>~1 (not calculated)</td>\n",
       "      <td>0.952082</td>\n",
       "      <td>0.917829</td>\n",
       "    </tr>\n",
       "  </tbody>\n",
       "</table>\n",
       "</div>"
      ],
      "text/plain": [
       "           Name  True Positives True Negatives  False Positives  \\\n",
       "0  cov-50 reads           15001           <NA>              755   \n",
       "\n",
       "   False Negatives  Sensitivity          Specificity  Precision  F1 Score  \n",
       "0             1931     0.885956  ~1 (not calculated)   0.952082  0.917829  "
      ]
     },
     "execution_count": 11,
     "metadata": {},
     "output_type": "execute_result"
    }
   ],
   "source": [
    "def compare_expected_actual(name: str, actual_sample_variants: Set[str]) -> pd.DataFrame:\n",
    "    number_expected = len(expected_sample_variants)\n",
    "    number_actual = len(actual_sample_variants)\n",
    "\n",
    "    true_positives = actual_sample_variants & expected_sample_variants\n",
    "    false_negatives = expected_sample_variants - actual_sample_variants\n",
    "    false_positives = actual_sample_variants - expected_sample_variants\n",
    "    # I cannot get true negatives since I would need to know the total number of negatives (i.e., all possible \n",
    "    #  variants with respect to the reference genome that were not simulated). This would be a finite, but \n",
    "    #  very very large number (and I haven't worked out how to calculate it).\n",
    "    # For example, one negative is Sample:1:A:T, another negative is Sample:1:AG:TT, and so on for the entire \n",
    "    # length of the genome.\n",
    "    # true_negatives = set()\n",
    "\n",
    "    sensitivity = len(true_positives) / (len(true_positives) + len(false_negatives))\n",
    "    precision = len(true_positives) / (len(true_positives) + len(false_positives))\n",
    "    f1_score = 2 * len(true_positives) / (2 * len(true_positives) + len(false_positives) + len(false_negatives))\n",
    "\n",
    "    # Since true_negatives are a very large number, then for all intents and purposes\n",
    "    # specificity will be very very close to 1. So instead of trying to calculate it\n",
    "    # I just call it ~1, but it's also not very useful because of this.\n",
    "    #specificity = len(true_negatives) / (len(true_negatives) + len(false_positives))\n",
    "    specificity = '~1 (not calculated)'\n",
    "\n",
    "    print(f'Sensitivity: {sensitivity:0.4f}')\n",
    "    print(f'Specificity: {specificity}')\n",
    "    print(f'Precision: {precision:0.4f}')\n",
    "    print(f'F1 Score: {f1_score:0.4f}')\n",
    "    \n",
    "    comparison_df = pd.DataFrame([{\n",
    "        'Name': name,\n",
    "        'True Positives': len(true_positives),\n",
    "        'True Negatives': pd.NA,\n",
    "        'False Positives': len(false_positives),\n",
    "        'False Negatives': len(false_negatives),\n",
    "        'Sensitivity': sensitivity,\n",
    "        'Specificity': specificity,\n",
    "        'Precision': precision,\n",
    "        'F1 Score': f1_score,\n",
    "    }])\n",
    "    \n",
    "    data = {\n",
    "        'tp': true_positives,\n",
    "        'fp': false_positives,\n",
    "        'fn': false_negatives\n",
    "    }\n",
    "    \n",
    "    return comparison_df, data\n",
    "    \n",
    "comparison_reads_df, data_reads = compare_expected_actual(name=f'{case_name} reads',\n",
    "                                                          actual_sample_variants=actual_sample_variants_reads)\n",
    "comparison_reads_df"
   ]
  },
  {
   "cell_type": "markdown",
   "id": "d5f3bf59-c828-40e1-9394-f0c40a73dfa6",
   "metadata": {
    "papermill": {
     "duration": 0.007021,
     "end_time": "2022-10-19T02:01:08.781314",
     "exception": false,
     "start_time": "2022-10-19T02:01:08.774293",
     "status": "completed"
    },
    "tags": []
   },
   "source": [
    "## 3.2. Compare with assemblies index"
   ]
  },
  {
   "cell_type": "code",
   "execution_count": 12,
   "id": "341de1ba-a120-471c-97f8-f85537dca10b",
   "metadata": {
    "execution": {
     "iopub.execute_input": "2022-10-19T02:01:08.793294Z",
     "iopub.status.busy": "2022-10-19T02:01:08.792650Z",
     "iopub.status.idle": "2022-10-19T02:01:08.818484Z",
     "shell.execute_reply": "2022-10-19T02:01:08.817520Z"
    },
    "papermill": {
     "duration": 0.034776,
     "end_time": "2022-10-19T02:01:08.821099",
     "exception": false,
     "start_time": "2022-10-19T02:01:08.786323",
     "status": "completed"
    },
    "tags": []
   },
   "outputs": [
    {
     "name": "stdout",
     "output_type": "stream",
     "text": [
      "Sensitivity: 0.9944\n",
      "Specificity: ~1 (not calculated)\n",
      "Precision: 1.0000\n",
      "F1 Score: 0.9972\n"
     ]
    },
    {
     "data": {
      "text/html": [
       "<div>\n",
       "<style scoped>\n",
       "    .dataframe tbody tr th:only-of-type {\n",
       "        vertical-align: middle;\n",
       "    }\n",
       "\n",
       "    .dataframe tbody tr th {\n",
       "        vertical-align: top;\n",
       "    }\n",
       "\n",
       "    .dataframe thead th {\n",
       "        text-align: right;\n",
       "    }\n",
       "</style>\n",
       "<table border=\"1\" class=\"dataframe\">\n",
       "  <thead>\n",
       "    <tr style=\"text-align: right;\">\n",
       "      <th></th>\n",
       "      <th>Name</th>\n",
       "      <th>True Positives</th>\n",
       "      <th>True Negatives</th>\n",
       "      <th>False Positives</th>\n",
       "      <th>False Negatives</th>\n",
       "      <th>Sensitivity</th>\n",
       "      <th>Specificity</th>\n",
       "      <th>Precision</th>\n",
       "      <th>F1 Score</th>\n",
       "    </tr>\n",
       "  </thead>\n",
       "  <tbody>\n",
       "    <tr>\n",
       "      <th>0</th>\n",
       "      <td>cov-50 assemblies</td>\n",
       "      <td>16838</td>\n",
       "      <td>&lt;NA&gt;</td>\n",
       "      <td>0</td>\n",
       "      <td>94</td>\n",
       "      <td>0.994448</td>\n",
       "      <td>~1 (not calculated)</td>\n",
       "      <td>1.0</td>\n",
       "      <td>0.997216</td>\n",
       "    </tr>\n",
       "  </tbody>\n",
       "</table>\n",
       "</div>"
      ],
      "text/plain": [
       "                Name  True Positives True Negatives  False Positives  \\\n",
       "0  cov-50 assemblies           16838           <NA>                0   \n",
       "\n",
       "   False Negatives  Sensitivity          Specificity  Precision  F1 Score  \n",
       "0               94     0.994448  ~1 (not calculated)        1.0  0.997216  "
      ]
     },
     "execution_count": 12,
     "metadata": {},
     "output_type": "execute_result"
    }
   ],
   "source": [
    "comparison_assemblies_df, data_assemblies = compare_expected_actual(name=f'{case_name} assemblies',\n",
    "                                                                    actual_sample_variants=actual_sample_variants_assemblies)\n",
    "comparison_assemblies_df"
   ]
  },
  {
   "cell_type": "markdown",
   "id": "1027e408-91e0-4323-a4f2-8e0d3c799e15",
   "metadata": {
    "papermill": {
     "duration": 0.00733,
     "end_time": "2022-10-19T02:01:08.839376",
     "exception": false,
     "start_time": "2022-10-19T02:01:08.832046",
     "status": "completed"
    },
    "tags": []
   },
   "source": [
    "## 3.3. Compare with assemblies reads index"
   ]
  },
  {
   "cell_type": "code",
   "execution_count": 13,
   "id": "a413335c-f55f-4367-abc4-6d33562e6ea8",
   "metadata": {
    "execution": {
     "iopub.execute_input": "2022-10-19T02:01:08.851942Z",
     "iopub.status.busy": "2022-10-19T02:01:08.851370Z",
     "iopub.status.idle": "2022-10-19T02:01:08.877329Z",
     "shell.execute_reply": "2022-10-19T02:01:08.876357Z"
    },
    "papermill": {
     "duration": 0.035004,
     "end_time": "2022-10-19T02:01:08.879765",
     "exception": false,
     "start_time": "2022-10-19T02:01:08.844761",
     "status": "completed"
    },
    "tags": []
   },
   "outputs": [
    {
     "name": "stdout",
     "output_type": "stream",
     "text": [
      "Sensitivity: 0.9720\n",
      "Specificity: ~1 (not calculated)\n",
      "Precision: 0.9953\n",
      "F1 Score: 0.9835\n"
     ]
    },
    {
     "data": {
      "text/html": [
       "<div>\n",
       "<style scoped>\n",
       "    .dataframe tbody tr th:only-of-type {\n",
       "        vertical-align: middle;\n",
       "    }\n",
       "\n",
       "    .dataframe tbody tr th {\n",
       "        vertical-align: top;\n",
       "    }\n",
       "\n",
       "    .dataframe thead th {\n",
       "        text-align: right;\n",
       "    }\n",
       "</style>\n",
       "<table border=\"1\" class=\"dataframe\">\n",
       "  <thead>\n",
       "    <tr style=\"text-align: right;\">\n",
       "      <th></th>\n",
       "      <th>Name</th>\n",
       "      <th>True Positives</th>\n",
       "      <th>True Negatives</th>\n",
       "      <th>False Positives</th>\n",
       "      <th>False Negatives</th>\n",
       "      <th>Sensitivity</th>\n",
       "      <th>Specificity</th>\n",
       "      <th>Precision</th>\n",
       "      <th>F1 Score</th>\n",
       "    </tr>\n",
       "  </thead>\n",
       "  <tbody>\n",
       "    <tr>\n",
       "      <th>0</th>\n",
       "      <td>cov-50 assemblies reads</td>\n",
       "      <td>16458</td>\n",
       "      <td>&lt;NA&gt;</td>\n",
       "      <td>77</td>\n",
       "      <td>474</td>\n",
       "      <td>0.972006</td>\n",
       "      <td>~1 (not calculated)</td>\n",
       "      <td>0.995343</td>\n",
       "      <td>0.983536</td>\n",
       "    </tr>\n",
       "  </tbody>\n",
       "</table>\n",
       "</div>"
      ],
      "text/plain": [
       "                      Name  True Positives True Negatives  False Positives  \\\n",
       "0  cov-50 assemblies reads           16458           <NA>               77   \n",
       "\n",
       "   False Negatives  Sensitivity          Specificity  Precision  F1 Score  \n",
       "0              474     0.972006  ~1 (not calculated)   0.995343  0.983536  "
      ]
     },
     "execution_count": 13,
     "metadata": {},
     "output_type": "execute_result"
    }
   ],
   "source": [
    "comparison_assemblies_reads_df, data_assemblies_reads = compare_expected_actual(name=f'{case_name} assemblies reads',\n",
    "                                                                    actual_sample_variants=actual_sample_variants_assemblies_reads)\n",
    "comparison_assemblies_reads_df"
   ]
  },
  {
   "cell_type": "markdown",
   "id": "13ddcf68-f5d4-494f-8a13-e9325390b953",
   "metadata": {
    "papermill": {
     "duration": 0.006337,
     "end_time": "2022-10-19T02:01:08.895706",
     "exception": false,
     "start_time": "2022-10-19T02:01:08.889369",
     "status": "completed"
    },
    "tags": []
   },
   "source": [
    "## 3.3. Combine results"
   ]
  },
  {
   "cell_type": "code",
   "execution_count": 14,
   "id": "17df418e-5244-4000-b9f9-2f35f8ce998f",
   "metadata": {
    "execution": {
     "iopub.execute_input": "2022-10-19T02:01:08.908133Z",
     "iopub.status.busy": "2022-10-19T02:01:08.907450Z",
     "iopub.status.idle": "2022-10-19T02:01:08.930717Z",
     "shell.execute_reply": "2022-10-19T02:01:08.929657Z"
    },
    "papermill": {
     "duration": 0.031885,
     "end_time": "2022-10-19T02:01:08.933310",
     "exception": false,
     "start_time": "2022-10-19T02:01:08.901425",
     "status": "completed"
    },
    "tags": []
   },
   "outputs": [
    {
     "data": {
      "text/html": [
       "<div>\n",
       "<style scoped>\n",
       "    .dataframe tbody tr th:only-of-type {\n",
       "        vertical-align: middle;\n",
       "    }\n",
       "\n",
       "    .dataframe tbody tr th {\n",
       "        vertical-align: top;\n",
       "    }\n",
       "\n",
       "    .dataframe thead th {\n",
       "        text-align: right;\n",
       "    }\n",
       "</style>\n",
       "<table border=\"1\" class=\"dataframe\">\n",
       "  <thead>\n",
       "    <tr style=\"text-align: right;\">\n",
       "      <th></th>\n",
       "      <th>Name</th>\n",
       "      <th>True Positives</th>\n",
       "      <th>True Negatives</th>\n",
       "      <th>False Positives</th>\n",
       "      <th>False Negatives</th>\n",
       "      <th>Sensitivity</th>\n",
       "      <th>Specificity</th>\n",
       "      <th>Precision</th>\n",
       "      <th>F1 Score</th>\n",
       "    </tr>\n",
       "  </thead>\n",
       "  <tbody>\n",
       "    <tr>\n",
       "      <th>0</th>\n",
       "      <td>cov-50 reads</td>\n",
       "      <td>15001</td>\n",
       "      <td>&lt;NA&gt;</td>\n",
       "      <td>755</td>\n",
       "      <td>1931</td>\n",
       "      <td>0.885956</td>\n",
       "      <td>~1 (not calculated)</td>\n",
       "      <td>0.952082</td>\n",
       "      <td>0.917829</td>\n",
       "    </tr>\n",
       "    <tr>\n",
       "      <th>0</th>\n",
       "      <td>cov-50 assemblies</td>\n",
       "      <td>16838</td>\n",
       "      <td>&lt;NA&gt;</td>\n",
       "      <td>0</td>\n",
       "      <td>94</td>\n",
       "      <td>0.994448</td>\n",
       "      <td>~1 (not calculated)</td>\n",
       "      <td>1.000000</td>\n",
       "      <td>0.997216</td>\n",
       "    </tr>\n",
       "    <tr>\n",
       "      <th>0</th>\n",
       "      <td>cov-50 assemblies reads</td>\n",
       "      <td>16458</td>\n",
       "      <td>&lt;NA&gt;</td>\n",
       "      <td>77</td>\n",
       "      <td>474</td>\n",
       "      <td>0.972006</td>\n",
       "      <td>~1 (not calculated)</td>\n",
       "      <td>0.995343</td>\n",
       "      <td>0.983536</td>\n",
       "    </tr>\n",
       "  </tbody>\n",
       "</table>\n",
       "</div>"
      ],
      "text/plain": [
       "                      Name  True Positives True Negatives  False Positives  \\\n",
       "0             cov-50 reads           15001           <NA>              755   \n",
       "0        cov-50 assemblies           16838           <NA>                0   \n",
       "0  cov-50 assemblies reads           16458           <NA>               77   \n",
       "\n",
       "   False Negatives  Sensitivity          Specificity  Precision  F1 Score  \n",
       "0             1931     0.885956  ~1 (not calculated)   0.952082  0.917829  \n",
       "0               94     0.994448  ~1 (not calculated)   1.000000  0.997216  \n",
       "0              474     0.972006  ~1 (not calculated)   0.995343  0.983536  "
      ]
     },
     "execution_count": 14,
     "metadata": {},
     "output_type": "execute_result"
    }
   ],
   "source": [
    "results_df = pd.concat([comparison_reads_df, comparison_assemblies_df, comparison_assemblies_reads_df])\n",
    "results_df"
   ]
  },
  {
   "cell_type": "code",
   "execution_count": 15,
   "id": "20211251-04f9-4a94-ae10-473c6d52aaf2",
   "metadata": {
    "execution": {
     "iopub.execute_input": "2022-10-19T02:01:08.951566Z",
     "iopub.status.busy": "2022-10-19T02:01:08.950845Z",
     "iopub.status.idle": "2022-10-19T02:01:08.962579Z",
     "shell.execute_reply": "2022-10-19T02:01:08.961124Z"
    },
    "papermill": {
     "duration": 0.022479,
     "end_time": "2022-10-19T02:01:08.964797",
     "exception": false,
     "start_time": "2022-10-19T02:01:08.942318",
     "status": "completed"
    },
    "tags": []
   },
   "outputs": [],
   "source": [
    "results_df_output = simulation_dir_path / 'variants-comparison.tsv'\n",
    "results_df.to_csv(results_df_output, sep='\\t', index=False)"
   ]
  }
 ],
 "metadata": {
  "kernelspec": {
   "display_name": "Python 3 (ipykernel)",
   "language": "python",
   "name": "python3"
  },
  "language_info": {
   "codemirror_mode": {
    "name": "ipython",
    "version": 3
   },
   "file_extension": ".py",
   "mimetype": "text/x-python",
   "name": "python",
   "nbconvert_exporter": "python",
   "pygments_lexer": "ipython3",
   "version": "3.8.13"
  },
  "papermill": {
   "default_parameters": {},
   "duration": 16.609844,
   "end_time": "2022-10-19T02:01:09.595114",
   "environment_variables": {},
   "exception": null,
   "input_path": "template-4-variants-comparison.ipynb",
   "output_path": "4-variants-comparison.simulation-cov-50.ipynb",
   "parameters": {
    "iterations": 1,
    "mincov": 10,
    "read_coverage": 50,
    "simulation_dir": "simulations/cov-50",
    "sub_alpha": 0.2
   },
   "start_time": "2022-10-19T02:00:52.985270",
   "version": "2.3.4"
  }
 },
 "nbformat": 4,
 "nbformat_minor": 5
}