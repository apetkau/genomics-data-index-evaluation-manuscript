{
 "cells": [
  {
   "cell_type": "markdown",
   "id": "39afc998-7d9f-4d4e-9147-fb6198f83f2d",
   "metadata": {
    "papermill": {
     "duration": 0.007059,
     "end_time": "2022-09-29T19:19:35.677729",
     "exception": false,
     "start_time": "2022-09-29T19:19:35.670670",
     "status": "completed"
    },
    "tags": []
   },
   "source": [
    "# 1. Parameters"
   ]
  },
  {
   "cell_type": "code",
   "execution_count": 1,
   "id": "8eee723b-55a2-4355-b867-c5e682a9f800",
   "metadata": {
    "execution": {
     "iopub.execute_input": "2022-09-29T19:19:35.731304Z",
     "iopub.status.busy": "2022-09-29T19:19:35.728648Z",
     "iopub.status.idle": "2022-09-29T19:19:35.785385Z",
     "shell.execute_reply": "2022-09-29T19:19:35.783781Z"
    },
    "papermill": {
     "duration": 0.105655,
     "end_time": "2022-09-29T19:19:35.789048",
     "exception": false,
     "start_time": "2022-09-29T19:19:35.683393",
     "status": "completed"
    },
    "tags": [
     "parameters"
    ]
   },
   "outputs": [],
   "source": [
    "# Defaults\n",
    "\n",
    "## Random seed\n",
    "random_seed <- 25524\n",
    "\n",
    "## Directories\n",
    "simulation_dir <- \"simulations/unset\"\n",
    "reference_file <- \"simulations/reference/reference.fa.gz\"\n",
    "initial_tree_file <- \"input/salmonella.tre\"\n",
    "\n",
    "## Simulation parameters\n",
    "sub_lambda <- 1e-2\n",
    "sub_pi_tcag <- c(0.1, 0.2, 0.3, 0.4)\n",
    "sub_alpha <- 0.2\n",
    "sub_beta <- sub_alpha/2\n",
    "sub_mu <- 1\n",
    "sub_invariant <- 0.3\n",
    "ins_rate <- 1e-4\n",
    "ins_max_length <- 60\n",
    "ins_a <- 1.6\n",
    "del_rate <- 1e-4\n",
    "del_max_length <- 60\n",
    "del_a <- 1.6\n",
    "\n",
    "## Read simulation information\n",
    "read_coverage <- 30\n",
    "read_length <- 250\n",
    "\n",
    "## Other\n",
    "ncores <- 48"
   ]
  },
  {
   "cell_type": "code",
   "execution_count": 2,
   "id": "8fcd68af",
   "metadata": {
    "execution": {
     "iopub.execute_input": "2022-09-29T19:19:35.836868Z",
     "iopub.status.busy": "2022-09-29T19:19:35.801224Z",
     "iopub.status.idle": "2022-09-29T19:19:35.850244Z",
     "shell.execute_reply": "2022-09-29T19:19:35.849028Z"
    },
    "papermill": {
     "duration": 0.058585,
     "end_time": "2022-09-29T19:19:35.853310",
     "exception": false,
     "start_time": "2022-09-29T19:19:35.794725",
     "status": "completed"
    },
    "tags": [
     "injected-parameters"
    ]
   },
   "outputs": [],
   "source": [
    "# Parameters\n",
    "read_coverage = 30\n",
    "mincov = 10\n",
    "simulation_dir = \"simulations/cov-30\"\n",
    "iterations = 3\n",
    "sub_alpha = 0.2\n"
   ]
  },
  {
   "cell_type": "code",
   "execution_count": 3,
   "id": "845350c4-9369-4350-bcce-504d05f5ff55",
   "metadata": {
    "execution": {
     "iopub.execute_input": "2022-09-29T19:19:35.867407Z",
     "iopub.status.busy": "2022-09-29T19:19:35.866174Z",
     "iopub.status.idle": "2022-09-29T19:19:35.885108Z",
     "shell.execute_reply": "2022-09-29T19:19:35.883833Z"
    },
    "papermill": {
     "duration": 0.028865,
     "end_time": "2022-09-29T19:19:35.887808",
     "exception": false,
     "start_time": "2022-09-29T19:19:35.858943",
     "status": "completed"
    },
    "tags": []
   },
   "outputs": [
    {
     "name": "stdout",
     "output_type": "stream",
     "text": [
      "[1] \"simulations/cov-30/simulated_data\"\n"
     ]
    },
    {
     "name": "stdout",
     "output_type": "stream",
     "text": [
      "[1] \"simulations/cov-30/simulated_data/haplotypes\"\n"
     ]
    }
   ],
   "source": [
    "output_dir <- file.path(simulation_dir, \"simulated_data\")\n",
    "output_vcf_prefix <- file.path(output_dir, \"haplotypes\")\n",
    "reads_data_initial_prefix <- file.path(output_dir, \"reads_initial\", \"data\")\n",
    "set.seed(random_seed)\n",
    "print(output_dir)\n",
    "print(output_vcf_prefix)"
   ]
  },
  {
   "cell_type": "markdown",
   "id": "noticed-coating",
   "metadata": {
    "papermill": {
     "duration": 0.004143,
     "end_time": "2022-09-29T19:19:35.897738",
     "exception": false,
     "start_time": "2022-09-29T19:19:35.893595",
     "status": "completed"
    },
    "tags": []
   },
   "source": [
    "# 2. Generate simulated data\n",
    "\n",
    "This simulates *Salmonella* data using a reference genome and a tree."
   ]
  },
  {
   "cell_type": "code",
   "execution_count": 4,
   "id": "bright-polymer",
   "metadata": {
    "execution": {
     "iopub.execute_input": "2022-09-29T19:19:35.908533Z",
     "iopub.status.busy": "2022-09-29T19:19:35.906743Z",
     "iopub.status.idle": "2022-09-29T19:19:36.001219Z",
     "shell.execute_reply": "2022-09-29T19:19:35.999908Z"
    },
    "papermill": {
     "duration": 0.10351,
     "end_time": "2022-09-29T19:19:36.005060",
     "exception": false,
     "start_time": "2022-09-29T19:19:35.901550",
     "status": "completed"
    },
    "tags": []
   },
   "outputs": [
    {
     "data": {
      "text/html": [
       "TRUE"
      ],
      "text/latex": [
       "TRUE"
      ],
      "text/markdown": [
       "TRUE"
      ],
      "text/plain": [
       "[1] TRUE"
      ]
     },
     "metadata": {},
     "output_type": "display_data"
    }
   ],
   "source": [
    "library(jackalope)\n",
    "\n",
    "# Make sure we've complied with openmp\n",
    "jackalope:::using_openmp()"
   ]
  },
  {
   "cell_type": "code",
   "execution_count": 5,
   "id": "303635b1-41dc-4917-8e90-30832a9acafd",
   "metadata": {
    "execution": {
     "iopub.execute_input": "2022-09-29T19:19:36.021054Z",
     "iopub.status.busy": "2022-09-29T19:19:36.019706Z",
     "iopub.status.idle": "2022-09-29T19:19:36.040518Z",
     "shell.execute_reply": "2022-09-29T19:19:36.039262Z"
    },
    "papermill": {
     "duration": 0.029413,
     "end_time": "2022-09-29T19:19:36.043202",
     "exception": false,
     "start_time": "2022-09-29T19:19:36.013789",
     "status": "completed"
    },
    "tags": []
   },
   "outputs": [
    {
     "data": {
      "text/plain": [
       "< Set of 2 chromosomes >\n",
       "# Total size: 19,699 bp\n",
       "  name                             chromosome                             length\n",
       "chrom0     GTATTGCGAGGGTGGGGGAGTACGGCAG...CAAGAATGCAACCGACTCTGTCGGGACT     10834\n",
       "chrom1     CACCTCGAGCAGATCCTAGTTTGCGCGA...TGCGAATTTATCGCCTAATCCAATGTTA      8865"
      ]
     },
     "metadata": {},
     "output_type": "display_data"
    }
   ],
   "source": [
    "reference <- read_fasta(reference_file)\n",
    "reference_len <- sum(reference$sizes())\n",
    "reference"
   ]
  },
  {
   "cell_type": "code",
   "execution_count": 6,
   "id": "documented-helmet",
   "metadata": {
    "execution": {
     "iopub.execute_input": "2022-09-29T19:19:36.058299Z",
     "iopub.status.busy": "2022-09-29T19:19:36.056982Z",
     "iopub.status.idle": "2022-09-29T19:19:36.147785Z",
     "shell.execute_reply": "2022-09-29T19:19:36.146513Z"
    },
    "papermill": {
     "duration": 0.101831,
     "end_time": "2022-09-29T19:19:36.151224",
     "exception": false,
     "start_time": "2022-09-29T19:19:36.049393",
     "status": "completed"
    },
    "tags": []
   },
   "outputs": [
    {
     "data": {
      "text/plain": [
       "\n",
       "Phylogenetic tree with 60 tips and 59 internal nodes.\n",
       "\n",
       "Tip labels:\n",
       "  reference, SH12-013, SH12-014, SH10-015, SH10-014, SH11-002, ...\n",
       "Node labels:\n",
       "  Root, 1.000000, 0.000000, 0.000000, 1.000000, 0.000000, ...\n",
       "\n",
       "Rooted; includes branch lengths."
      ]
     },
     "metadata": {},
     "output_type": "display_data"
    }
   ],
   "source": [
    "library(ape)\n",
    "\n",
    "tree <- read.tree(initial_tree_file)\n",
    "tree <- root(tree, \"reference\", resolve.root=TRUE)\n",
    "tree"
   ]
  },
  {
   "cell_type": "code",
   "execution_count": 7,
   "id": "proved-silver",
   "metadata": {
    "execution": {
     "iopub.execute_input": "2022-09-29T19:19:36.165014Z",
     "iopub.status.busy": "2022-09-29T19:19:36.163751Z",
     "iopub.status.idle": "2022-09-29T19:19:36.290310Z",
     "shell.execute_reply": "2022-09-29T19:19:36.289052Z"
    },
    "papermill": {
     "duration": 0.136113,
     "end_time": "2022-09-29T19:19:36.293750",
     "exception": false,
     "start_time": "2022-09-29T19:19:36.157637",
     "status": "completed"
    },
    "tags": []
   },
   "outputs": [
    {
     "data": {
      "text/plain": [
       "                              << haplotypes object >>\n",
       "# Haplotypes: 60\n",
       "# Mutations: 16,932\n",
       "\n",
       "                          << Reference genome info: >>\n",
       "< Set of 2 chromosomes >\n",
       "# Total size: 19,699 bp\n",
       "  name                             chromosome                             length\n",
       "chrom0     GTATTGCGAGGGTGGGGGAGTACGGCAG...CAAGAATGCAACCGACTCTGTCGGGACT     10834\n",
       "chrom1     CACCTCGAGCAGATCCTAGTTTGCGCGA...TGCGAATTTATCGCCTAATCCAATGTTA      8865"
      ]
     },
     "metadata": {},
     "output_type": "display_data"
    }
   ],
   "source": [
    "sub <- sub_HKY85(pi_tcag = sub_pi_tcag, mu = sub_mu,\n",
    "                 alpha = sub_alpha, beta = sub_beta, gamma_shape=1, gamma_k = 5,\n",
    "                 invariant = sub_invariant)\n",
    "ins <- indels(rate = ins_rate, max_length = ins_max_length, a = ins_a)\n",
    "del <- indels(rate = del_rate, max_length = del_max_length, a = del_a)\n",
    "\n",
    "ref_haplotypes <- create_haplotypes(reference, haps_phylo(tree), sub=sub, ins=ins, del=del)\n",
    "ref_haplotypes"
   ]
  },
  {
   "cell_type": "markdown",
   "id": "535fa02d-c76c-4067-9582-74f3694d16ea",
   "metadata": {
    "papermill": {
     "duration": 0.00574,
     "end_time": "2022-09-29T19:19:36.305956",
     "exception": false,
     "start_time": "2022-09-29T19:19:36.300216",
     "status": "completed"
    },
    "tags": []
   },
   "source": [
    "# 3. Write simulated data"
   ]
  },
  {
   "cell_type": "code",
   "execution_count": 8,
   "id": "smoking-geology",
   "metadata": {
    "execution": {
     "iopub.execute_input": "2022-09-29T19:19:36.317454Z",
     "iopub.status.busy": "2022-09-29T19:19:36.315804Z",
     "iopub.status.idle": "2022-09-29T19:19:36.352472Z",
     "shell.execute_reply": "2022-09-29T19:19:36.351265Z"
    },
    "papermill": {
     "duration": 0.045071,
     "end_time": "2022-09-29T19:19:36.355431",
     "exception": false,
     "start_time": "2022-09-29T19:19:36.310360",
     "status": "completed"
    },
    "tags": []
   },
   "outputs": [],
   "source": [
    "write_vcf(ref_haplotypes, out_prefix=output_vcf_prefix, compress=TRUE)"
   ]
  },
  {
   "cell_type": "code",
   "execution_count": 9,
   "id": "d2657fc5-481e-4b24-bbf8-78c02ee735ce",
   "metadata": {
    "execution": {
     "iopub.execute_input": "2022-09-29T19:19:36.371803Z",
     "iopub.status.busy": "2022-09-29T19:19:36.370520Z",
     "iopub.status.idle": "2022-09-29T19:19:36.458928Z",
     "shell.execute_reply": "2022-09-29T19:19:36.454898Z"
    },
    "papermill": {
     "duration": 0.101132,
     "end_time": "2022-09-29T19:19:36.463521",
     "exception": false,
     "start_time": "2022-09-29T19:19:36.362389",
     "status": "completed"
    },
    "tags": []
   },
   "outputs": [],
   "source": [
    "assemblies_prefix = file.path(output_dir, \"assemblies\", \"data\")\n",
    "\n",
    "write_fasta(ref_haplotypes, out_prefix=assemblies_prefix,\n",
    "            compress=TRUE, n_threads=ncores, overwrite=TRUE)"
   ]
  },
  {
   "cell_type": "code",
   "execution_count": 10,
   "id": "continent-freeze",
   "metadata": {
    "execution": {
     "iopub.execute_input": "2022-09-29T19:19:36.477830Z",
     "iopub.status.busy": "2022-09-29T19:19:36.475666Z",
     "iopub.status.idle": "2022-09-29T19:24:46.469841Z",
     "shell.execute_reply": "2022-09-29T19:24:46.466953Z"
    },
    "papermill": {
     "duration": 310.003572,
     "end_time": "2022-09-29T19:24:46.473284",
     "exception": false,
     "start_time": "2022-09-29T19:19:36.469712",
     "status": "completed"
    },
    "tags": []
   },
   "outputs": [
    {
     "name": "stdout",
     "output_type": "stream",
     "text": [
      "[1] \"Number of reads for coverage 30X and read length 250 over 60 samples with respect to reference with length 19699: 141833\"\n"
     ]
    }
   ],
   "source": [
    "n_samples <- length(tree$tip)\n",
    "n_reads <- round((reference_len * read_coverage * n_samples) / read_length)\n",
    "print(sprintf(\"Number of reads for coverage %sX and read length %s over %s samples with respect to reference with length %s: %s\", \n",
    "              read_coverage, read_length, n_samples, reference_len, n_reads))\n",
    "\n",
    "illumina(ref_haplotypes, out_prefix = reads_data_initial_prefix, sep_files=TRUE, n_reads = n_reads,\n",
    "         frag_mean = read_length * 2 + 50, frag_sd = 100,\n",
    "         compress=TRUE, comp_method=\"bgzip\", n_threads=ncores,\n",
    "         paired=TRUE, read_length = read_length)"
   ]
  }
 ],
 "metadata": {
  "kernelspec": {
   "display_name": "R",
   "language": "R",
   "name": "ir"
  },
  "language_info": {
   "codemirror_mode": "r",
   "file_extension": ".r",
   "mimetype": "text/x-r-source",
   "name": "R",
   "pygments_lexer": "r",
   "version": "4.1.3"
  },
  "papermill": {
   "default_parameters": {},
   "duration": 312.753938,
   "end_time": "2022-09-29T19:24:47.140590",
   "environment_variables": {},
   "exception": null,
   "input_path": "template-1-simulate-reads.ipynb",
   "output_path": "1-simulate-reads.simulation-cov-30.ipynb",
   "parameters": {
    "iterations": 3,
    "mincov": 10,
    "read_coverage": 30,
    "simulation_dir": "simulations/cov-30",
    "sub_alpha": 0.2
   },
   "start_time": "2022-09-29T19:19:34.386652",
   "version": "2.3.4"
  }
 },
 "nbformat": 4,
 "nbformat_minor": 5
}