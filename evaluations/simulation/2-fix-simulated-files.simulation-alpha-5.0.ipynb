{
 "cells": [
  {
   "cell_type": "markdown",
   "id": "acfa5482-d626-44d6-b613-863e6911fa98",
   "metadata": {
    "papermill": {
     "duration": 0.007414,
     "end_time": "2022-10-18T22:41:48.612326",
     "exception": false,
     "start_time": "2022-10-18T22:41:48.604912",
     "status": "completed"
    },
    "tags": []
   },
   "source": [
    "# 1. Parameters"
   ]
  },
  {
   "cell_type": "code",
   "execution_count": 1,
   "id": "36126d74-a9d8-4431-ba49-767c1fc2ec49",
   "metadata": {
    "execution": {
     "iopub.execute_input": "2022-10-18T22:41:48.625401Z",
     "iopub.status.busy": "2022-10-18T22:41:48.624624Z",
     "iopub.status.idle": "2022-10-18T22:41:48.640004Z",
     "shell.execute_reply": "2022-10-18T22:41:48.638791Z"
    },
    "papermill": {
     "duration": 0.02526,
     "end_time": "2022-10-18T22:41:48.643839",
     "exception": false,
     "start_time": "2022-10-18T22:41:48.618579",
     "status": "completed"
    },
    "tags": [
     "parameters"
    ]
   },
   "outputs": [],
   "source": [
    "# Defaults\n",
    "simulation_dir = 'simulations/unset'\n",
    "ncores = 48"
   ]
  },
  {
   "cell_type": "code",
   "execution_count": 2,
   "id": "8fe4f088",
   "metadata": {
    "execution": {
     "iopub.execute_input": "2022-10-18T22:41:48.656356Z",
     "iopub.status.busy": "2022-10-18T22:41:48.655739Z",
     "iopub.status.idle": "2022-10-18T22:41:48.662624Z",
     "shell.execute_reply": "2022-10-18T22:41:48.661190Z"
    },
    "papermill": {
     "duration": 0.016427,
     "end_time": "2022-10-18T22:41:48.666010",
     "exception": false,
     "start_time": "2022-10-18T22:41:48.649583",
     "status": "completed"
    },
    "tags": [
     "injected-parameters"
    ]
   },
   "outputs": [],
   "source": [
    "# Parameters\n",
    "read_coverage = 30\n",
    "mincov = 10\n",
    "simulation_dir = \"simulations/alpha-5.0-cov-30\"\n",
    "iterations = 1\n",
    "sub_alpha = 5.0\n"
   ]
  },
  {
   "cell_type": "code",
   "execution_count": 3,
   "id": "15e911d7-0ffc-4110-aefe-71bc77e689cd",
   "metadata": {
    "execution": {
     "iopub.execute_input": "2022-10-18T22:41:48.677411Z",
     "iopub.status.busy": "2022-10-18T22:41:48.676888Z",
     "iopub.status.idle": "2022-10-18T22:41:48.686736Z",
     "shell.execute_reply": "2022-10-18T22:41:48.685284Z"
    },
    "papermill": {
     "duration": 0.018106,
     "end_time": "2022-10-18T22:41:48.689579",
     "exception": false,
     "start_time": "2022-10-18T22:41:48.671473",
     "status": "completed"
    },
    "tags": []
   },
   "outputs": [],
   "source": [
    "from pathlib import Path\n",
    "import os\n",
    "\n",
    "simulation_data_dir = Path(simulation_dir) / 'simulated_data'\n",
    "initial_reads_dir = simulation_data_dir / 'reads_initial'\n",
    "reads_dir = simulation_data_dir / 'reads'\n",
    "assemblies_dir = simulation_data_dir / 'assemblies'\n",
    "assembled_reads_dir = simulation_data_dir / 'assembled_reads'\n",
    "\n",
    "if not reads_dir.exists():\n",
    "    os.mkdir(reads_dir)\n",
    "    \n",
    "if not assembled_reads_dir.exists():\n",
    "    os.mkdir(assembled_reads_dir)"
   ]
  },
  {
   "cell_type": "markdown",
   "id": "rotary-regard",
   "metadata": {
    "papermill": {
     "duration": 0.005063,
     "end_time": "2022-10-18T22:41:48.699525",
     "exception": false,
     "start_time": "2022-10-18T22:41:48.694462",
     "status": "completed"
    },
    "tags": []
   },
   "source": [
    "# 2. Fix reads\n",
    "\n",
    "Fix read file names and data so they can be indexed."
   ]
  },
  {
   "cell_type": "code",
   "execution_count": 4,
   "id": "convenient-blackberry",
   "metadata": {
    "execution": {
     "iopub.execute_input": "2022-10-18T22:41:48.709183Z",
     "iopub.status.busy": "2022-10-18T22:41:48.708591Z",
     "iopub.status.idle": "2022-10-18T22:41:48.889397Z",
     "shell.execute_reply": "2022-10-18T22:41:48.887604Z"
    },
    "papermill": {
     "duration": 0.189601,
     "end_time": "2022-10-18T22:41:48.893138",
     "exception": false,
     "start_time": "2022-10-18T22:41:48.703537",
     "status": "completed"
    },
    "tags": []
   },
   "outputs": [
    {
     "name": "stdout",
     "output_type": "stream",
     "text": [
      "~/workspace/genomics-data-index-evaluation-manuscript/evaluations/simulation/simulations/alpha-5.0-cov-30/simulated_data/reads_initial ~/workspace/genomics-data-index-evaluation-manuscript/evaluations/simulation\r\n"
     ]
    },
    {
     "name": "stdout",
     "output_type": "stream",
     "text": [
      "~/workspace/genomics-data-index-evaluation-manuscript/evaluations/simulation\r\n"
     ]
    }
   ],
   "source": [
    "import os\n",
    "\n",
    "# Fix warning about locale unset\n",
    "os.environ['LANG'] = 'en_US.UTF-8'\n",
    "\n",
    "!pushd {initial_reads_dir}; prename 's/data_//' *.fq.gz; popd"
   ]
  },
  {
   "cell_type": "markdown",
   "id": "median-belle",
   "metadata": {
    "papermill": {
     "duration": 0.004992,
     "end_time": "2022-10-18T22:41:48.904366",
     "exception": false,
     "start_time": "2022-10-18T22:41:48.899374",
     "status": "completed"
    },
    "tags": []
   },
   "source": [
    "Jackalope produces reads with non-standard identifiers where pairs of reads don't have matching identifiers. For example:\n",
    "\n",
    "* Pair 1: `@SH08-001-NC_011083-3048632-R/1`\n",
    "* Pair 2: `@SH08-001-NC_011083-3048396-F/2`\n",
    "\n",
    "In order to run snippy, these paired identifiers need to match (except for the `/1` and `/2` suffix).\n",
    "\n",
    "So, I have to replace them all with something unique, but which matches in each pair of files. I do this by replacing the position (I think) with the read number (as it appears in the file). So the above identifiers become:\n",
    "\n",
    "* Pair 1: `@SH08-001-NC_011083-1/1`\n",
    "* Pair 2: `@SH08-001-NC_011083-1/2`"
   ]
  },
  {
   "cell_type": "code",
   "execution_count": 5,
   "id": "remarkable-berry",
   "metadata": {
    "execution": {
     "iopub.execute_input": "2022-10-18T22:41:48.914727Z",
     "iopub.status.busy": "2022-10-18T22:41:48.914028Z",
     "iopub.status.idle": "2022-10-18T22:41:49.913399Z",
     "shell.execute_reply": "2022-10-18T22:41:49.911093Z"
    },
    "papermill": {
     "duration": 1.009615,
     "end_time": "2022-10-18T22:41:49.917864",
     "exception": false,
     "start_time": "2022-10-18T22:41:48.908249",
     "status": "completed"
    },
    "tags": []
   },
   "outputs": [],
   "source": [
    "import glob\n",
    "import os\n",
    "\n",
    "files = [os.path.basename(f) for f in glob.glob(f'{initial_reads_dir}/*.fq.gz')]\n",
    "!parallel -j {ncores} -I% 'gzip -d --stdout {initial_reads_dir}/% | perl scripts/replace-fastq-header.pl | gzip > {reads_dir}/%' \\\n",
    "    ::: {' '.join(files)}"
   ]
  },
  {
   "cell_type": "code",
   "execution_count": 6,
   "id": "8318e7a8-1057-4e4f-aaec-fccdec42a75f",
   "metadata": {
    "execution": {
     "iopub.execute_input": "2022-10-18T22:41:49.934782Z",
     "iopub.status.busy": "2022-10-18T22:41:49.934191Z",
     "iopub.status.idle": "2022-10-18T22:41:49.956560Z",
     "shell.execute_reply": "2022-10-18T22:41:49.955524Z"
    },
    "papermill": {
     "duration": 0.034667,
     "end_time": "2022-10-18T22:41:49.960096",
     "exception": false,
     "start_time": "2022-10-18T22:41:49.925429",
     "status": "completed"
    },
    "tags": []
   },
   "outputs": [],
   "source": [
    "import shutil\n",
    "\n",
    "shutil.rmtree(initial_reads_dir)"
   ]
  },
  {
   "cell_type": "markdown",
   "id": "cf630b4f-ed63-4e14-9657-e0aaea0953ab",
   "metadata": {
    "papermill": {
     "duration": 0.005729,
     "end_time": "2022-10-18T22:41:49.972117",
     "exception": false,
     "start_time": "2022-10-18T22:41:49.966388",
     "status": "completed"
    },
    "tags": []
   },
   "source": [
    "# 3. Fix assemblies\n",
    "\n",
    "Fix assembly genome names"
   ]
  },
  {
   "cell_type": "code",
   "execution_count": 7,
   "id": "08fac610-3ab3-4afa-9873-406973041963",
   "metadata": {
    "execution": {
     "iopub.execute_input": "2022-10-18T22:41:49.982442Z",
     "iopub.status.busy": "2022-10-18T22:41:49.981811Z",
     "iopub.status.idle": "2022-10-18T22:41:50.162590Z",
     "shell.execute_reply": "2022-10-18T22:41:50.160988Z"
    },
    "papermill": {
     "duration": 0.190203,
     "end_time": "2022-10-18T22:41:50.166293",
     "exception": false,
     "start_time": "2022-10-18T22:41:49.976090",
     "status": "completed"
    },
    "tags": []
   },
   "outputs": [
    {
     "name": "stdout",
     "output_type": "stream",
     "text": [
      "~/workspace/genomics-data-index-evaluation-manuscript/evaluations/simulation/simulations/alpha-5.0-cov-30/simulated_data/assemblies ~/workspace/genomics-data-index-evaluation-manuscript/evaluations/simulation\r\n"
     ]
    },
    {
     "name": "stdout",
     "output_type": "stream",
     "text": [
      "~/workspace/genomics-data-index-evaluation-manuscript/evaluations/simulation\r\n"
     ]
    }
   ],
   "source": [
    "!pushd {assemblies_dir}; prename 's/data__//' *.fa.gz; popd"
   ]
  },
  {
   "cell_type": "markdown",
   "id": "a0856fbc-ba98-4ba1-870b-6923cd636892",
   "metadata": {
    "papermill": {
     "duration": 0.005397,
     "end_time": "2022-10-18T22:41:50.178300",
     "exception": false,
     "start_time": "2022-10-18T22:41:50.172903",
     "status": "completed"
    },
    "tags": []
   },
   "source": [
    "# 4. Assemble reads\n",
    "\n",
    "Assemble reads to have another scenario of imperfect assemblies."
   ]
  },
  {
   "cell_type": "code",
   "execution_count": 8,
   "id": "c1a1b18f-ecd1-4ca3-af9f-ef44648edbd3",
   "metadata": {
    "execution": {
     "iopub.execute_input": "2022-10-18T22:41:50.209177Z",
     "iopub.status.busy": "2022-10-18T22:41:50.208623Z",
     "iopub.status.idle": "2022-10-18T22:41:51.483328Z",
     "shell.execute_reply": "2022-10-18T22:41:51.481339Z"
    },
    "papermill": {
     "duration": 1.287282,
     "end_time": "2022-10-18T22:41:51.487246",
     "exception": false,
     "start_time": "2022-10-18T22:41:50.199964",
     "status": "completed"
    },
    "tags": []
   },
   "outputs": [
    {
     "name": "stdout",
     "output_type": "stream",
     "text": [
      "SKESA 2.4.0\r\n",
      "\r\n",
      "skesa --version \r\n",
      "\r\n",
      "\r\n"
     ]
    }
   ],
   "source": [
    "!conda run -n skesa skesa --version"
   ]
  },
  {
   "cell_type": "code",
   "execution_count": 9,
   "id": "419476b6-ecce-477b-a838-d2419d1d160e",
   "metadata": {
    "execution": {
     "iopub.execute_input": "2022-10-18T22:41:51.504440Z",
     "iopub.status.busy": "2022-10-18T22:41:51.503836Z",
     "iopub.status.idle": "2022-10-18T22:42:09.376032Z",
     "shell.execute_reply": "2022-10-18T22:42:09.373853Z"
    },
    "papermill": {
     "duration": 17.888102,
     "end_time": "2022-10-18T22:42:09.382924",
     "exception": false,
     "start_time": "2022-10-18T22:41:51.494822",
     "status": "completed"
    },
    "tags": []
   },
   "outputs": [],
   "source": [
    "import glob\n",
    "import re\n",
    "\n",
    "fastq_names = [os.path.basename(f) for f in glob.glob(f'{reads_dir}/*_R1.fq.gz')]\n",
    "sample_names = [re.sub(r'_R\\d.fq.gz', '', f) for f in fastq_names]\n",
    "!parallel -j {ncores} -I% 'conda run -n skesa skesa --reads {reads_dir}/%_R1.fq.gz,{reads_dir}/%_R2.fq.gz --contigs_out {assembled_reads_dir}/%.fasta > {assembled_reads_dir}/log.% 2>&1' \\\n",
    "    ::: {' '.join(sample_names)}"
   ]
  }
 ],
 "metadata": {
  "kernelspec": {
   "display_name": "Python 3 (ipykernel)",
   "language": "python",
   "name": "python3"
  },
  "language_info": {
   "codemirror_mode": {
    "name": "ipython",
    "version": 3
   },
   "file_extension": ".py",
   "mimetype": "text/x-python",
   "name": "python",
   "nbconvert_exporter": "python",
   "pygments_lexer": "ipython3",
   "version": "3.8.13"
  },
  "papermill": {
   "default_parameters": {},
   "duration": 22.417867,
   "end_time": "2022-10-18T22:42:09.616958",
   "environment_variables": {},
   "exception": null,
   "input_path": "template-2-fix-simulated-files.ipynb",
   "output_path": "2-fix-simulated-files.simulation-alpha-5.0.ipynb",
   "parameters": {
    "iterations": 1,
    "mincov": 10,
    "read_coverage": 30,
    "simulation_dir": "simulations/alpha-5.0-cov-30",
    "sub_alpha": 5.0
   },
   "start_time": "2022-10-18T22:41:47.199091",
   "version": "2.3.4"
  }
 },
 "nbformat": 4,
 "nbformat_minor": 5
}