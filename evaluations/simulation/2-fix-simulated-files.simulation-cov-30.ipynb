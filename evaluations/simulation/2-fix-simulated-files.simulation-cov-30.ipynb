{
 "cells": [
  {
   "cell_type": "markdown",
   "id": "acfa5482-d626-44d6-b613-863e6911fa98",
   "metadata": {
    "papermill": {
     "duration": 0.007412,
     "end_time": "2022-10-18T22:59:27.596959",
     "exception": false,
     "start_time": "2022-10-18T22:59:27.589547",
     "status": "completed"
    },
    "tags": []
   },
   "source": [
    "# 1. Parameters"
   ]
  },
  {
   "cell_type": "code",
   "execution_count": 1,
   "id": "36126d74-a9d8-4431-ba49-767c1fc2ec49",
   "metadata": {
    "execution": {
     "iopub.execute_input": "2022-10-18T22:59:27.609322Z",
     "iopub.status.busy": "2022-10-18T22:59:27.608631Z",
     "iopub.status.idle": "2022-10-18T22:59:27.624575Z",
     "shell.execute_reply": "2022-10-18T22:59:27.623476Z"
    },
    "papermill": {
     "duration": 0.025025,
     "end_time": "2022-10-18T22:59:27.628042",
     "exception": false,
     "start_time": "2022-10-18T22:59:27.603017",
     "status": "completed"
    },
    "tags": [
     "parameters"
    ]
   },
   "outputs": [],
   "source": [
    "# Defaults\n",
    "simulation_dir = 'simulations/unset'\n",
    "ncores = 48"
   ]
  },
  {
   "cell_type": "code",
   "execution_count": 2,
   "id": "3d077772",
   "metadata": {
    "execution": {
     "iopub.execute_input": "2022-10-18T22:59:27.640754Z",
     "iopub.status.busy": "2022-10-18T22:59:27.640137Z",
     "iopub.status.idle": "2022-10-18T22:59:27.647013Z",
     "shell.execute_reply": "2022-10-18T22:59:27.645752Z"
    },
    "papermill": {
     "duration": 0.01669,
     "end_time": "2022-10-18T22:59:27.649978",
     "exception": false,
     "start_time": "2022-10-18T22:59:27.633288",
     "status": "completed"
    },
    "tags": [
     "injected-parameters"
    ]
   },
   "outputs": [],
   "source": [
    "# Parameters\n",
    "read_coverage = 30\n",
    "mincov = 10\n",
    "simulation_dir = \"simulations/cov-30\"\n",
    "iterations = 1\n",
    "sub_alpha = 0.2\n"
   ]
  },
  {
   "cell_type": "code",
   "execution_count": 3,
   "id": "15e911d7-0ffc-4110-aefe-71bc77e689cd",
   "metadata": {
    "execution": {
     "iopub.execute_input": "2022-10-18T22:59:27.661376Z",
     "iopub.status.busy": "2022-10-18T22:59:27.660722Z",
     "iopub.status.idle": "2022-10-18T22:59:27.670227Z",
     "shell.execute_reply": "2022-10-18T22:59:27.668992Z"
    },
    "papermill": {
     "duration": 0.017885,
     "end_time": "2022-10-18T22:59:27.672835",
     "exception": false,
     "start_time": "2022-10-18T22:59:27.654950",
     "status": "completed"
    },
    "tags": []
   },
   "outputs": [],
   "source": [
    "from pathlib import Path\n",
    "import os\n",
    "\n",
    "simulation_data_dir = Path(simulation_dir) / 'simulated_data'\n",
    "initial_reads_dir = simulation_data_dir / 'reads_initial'\n",
    "reads_dir = simulation_data_dir / 'reads'\n",
    "assemblies_dir = simulation_data_dir / 'assemblies'\n",
    "assembled_reads_dir = simulation_data_dir / 'assembled_reads'\n",
    "\n",
    "if not reads_dir.exists():\n",
    "    os.mkdir(reads_dir)\n",
    "    \n",
    "if not assembled_reads_dir.exists():\n",
    "    os.mkdir(assembled_reads_dir)"
   ]
  },
  {
   "cell_type": "markdown",
   "id": "rotary-regard",
   "metadata": {
    "papermill": {
     "duration": 0.005027,
     "end_time": "2022-10-18T22:59:27.682886",
     "exception": false,
     "start_time": "2022-10-18T22:59:27.677859",
     "status": "completed"
    },
    "tags": []
   },
   "source": [
    "# 2. Fix reads\n",
    "\n",
    "Fix read file names and data so they can be indexed."
   ]
  },
  {
   "cell_type": "code",
   "execution_count": 4,
   "id": "convenient-blackberry",
   "metadata": {
    "execution": {
     "iopub.execute_input": "2022-10-18T22:59:27.692836Z",
     "iopub.status.busy": "2022-10-18T22:59:27.691670Z",
     "iopub.status.idle": "2022-10-18T22:59:27.873325Z",
     "shell.execute_reply": "2022-10-18T22:59:27.871507Z"
    },
    "papermill": {
     "duration": 0.190582,
     "end_time": "2022-10-18T22:59:27.877095",
     "exception": false,
     "start_time": "2022-10-18T22:59:27.686513",
     "status": "completed"
    },
    "tags": []
   },
   "outputs": [
    {
     "name": "stdout",
     "output_type": "stream",
     "text": [
      "~/workspace/genomics-data-index-evaluation-manuscript/evaluations/simulation/simulations/cov-30/simulated_data/reads_initial ~/workspace/genomics-data-index-evaluation-manuscript/evaluations/simulation\r\n"
     ]
    },
    {
     "name": "stdout",
     "output_type": "stream",
     "text": [
      "~/workspace/genomics-data-index-evaluation-manuscript/evaluations/simulation\r\n"
     ]
    }
   ],
   "source": [
    "import os\n",
    "\n",
    "# Fix warning about locale unset\n",
    "os.environ['LANG'] = 'en_US.UTF-8'\n",
    "\n",
    "!pushd {initial_reads_dir}; prename 's/data_//' *.fq.gz; popd"
   ]
  },
  {
   "cell_type": "markdown",
   "id": "median-belle",
   "metadata": {
    "papermill": {
     "duration": 0.004652,
     "end_time": "2022-10-18T22:59:27.887947",
     "exception": false,
     "start_time": "2022-10-18T22:59:27.883295",
     "status": "completed"
    },
    "tags": []
   },
   "source": [
    "Jackalope produces reads with non-standard identifiers where pairs of reads don't have matching identifiers. For example:\n",
    "\n",
    "* Pair 1: `@SH08-001-NC_011083-3048632-R/1`\n",
    "* Pair 2: `@SH08-001-NC_011083-3048396-F/2`\n",
    "\n",
    "In order to run snippy, these paired identifiers need to match (except for the `/1` and `/2` suffix).\n",
    "\n",
    "So, I have to replace them all with something unique, but which matches in each pair of files. I do this by replacing the position (I think) with the read number (as it appears in the file). So the above identifiers become:\n",
    "\n",
    "* Pair 1: `@SH08-001-NC_011083-1/1`\n",
    "* Pair 2: `@SH08-001-NC_011083-1/2`"
   ]
  },
  {
   "cell_type": "code",
   "execution_count": 5,
   "id": "remarkable-berry",
   "metadata": {
    "execution": {
     "iopub.execute_input": "2022-10-18T22:59:27.898623Z",
     "iopub.status.busy": "2022-10-18T22:59:27.897831Z",
     "iopub.status.idle": "2022-10-18T22:59:28.915459Z",
     "shell.execute_reply": "2022-10-18T22:59:28.913183Z"
    },
    "papermill": {
     "duration": 1.027606,
     "end_time": "2022-10-18T22:59:28.919668",
     "exception": false,
     "start_time": "2022-10-18T22:59:27.892062",
     "status": "completed"
    },
    "tags": []
   },
   "outputs": [],
   "source": [
    "import glob\n",
    "import os\n",
    "\n",
    "files = [os.path.basename(f) for f in glob.glob(f'{initial_reads_dir}/*.fq.gz')]\n",
    "!parallel -j {ncores} -I% 'gzip -d --stdout {initial_reads_dir}/% | perl scripts/replace-fastq-header.pl | gzip > {reads_dir}/%' \\\n",
    "    ::: {' '.join(files)}"
   ]
  },
  {
   "cell_type": "code",
   "execution_count": 6,
   "id": "8318e7a8-1057-4e4f-aaec-fccdec42a75f",
   "metadata": {
    "execution": {
     "iopub.execute_input": "2022-10-18T22:59:28.935738Z",
     "iopub.status.busy": "2022-10-18T22:59:28.935140Z",
     "iopub.status.idle": "2022-10-18T22:59:28.957818Z",
     "shell.execute_reply": "2022-10-18T22:59:28.956475Z"
    },
    "papermill": {
     "duration": 0.034618,
     "end_time": "2022-10-18T22:59:28.961340",
     "exception": false,
     "start_time": "2022-10-18T22:59:28.926722",
     "status": "completed"
    },
    "tags": []
   },
   "outputs": [],
   "source": [
    "import shutil\n",
    "\n",
    "shutil.rmtree(initial_reads_dir)"
   ]
  },
  {
   "cell_type": "markdown",
   "id": "cf630b4f-ed63-4e14-9657-e0aaea0953ab",
   "metadata": {
    "papermill": {
     "duration": 0.00597,
     "end_time": "2022-10-18T22:59:28.973699",
     "exception": false,
     "start_time": "2022-10-18T22:59:28.967729",
     "status": "completed"
    },
    "tags": []
   },
   "source": [
    "# 3. Fix assemblies\n",
    "\n",
    "Fix assembly genome names"
   ]
  },
  {
   "cell_type": "code",
   "execution_count": 7,
   "id": "08fac610-3ab3-4afa-9873-406973041963",
   "metadata": {
    "execution": {
     "iopub.execute_input": "2022-10-18T22:59:28.984120Z",
     "iopub.status.busy": "2022-10-18T22:59:28.983333Z",
     "iopub.status.idle": "2022-10-18T22:59:29.161507Z",
     "shell.execute_reply": "2022-10-18T22:59:29.159931Z"
    },
    "papermill": {
     "duration": 0.187572,
     "end_time": "2022-10-18T22:59:29.165207",
     "exception": false,
     "start_time": "2022-10-18T22:59:28.977635",
     "status": "completed"
    },
    "tags": []
   },
   "outputs": [
    {
     "name": "stdout",
     "output_type": "stream",
     "text": [
      "~/workspace/genomics-data-index-evaluation-manuscript/evaluations/simulation/simulations/cov-30/simulated_data/assemblies ~/workspace/genomics-data-index-evaluation-manuscript/evaluations/simulation\r\n"
     ]
    },
    {
     "name": "stdout",
     "output_type": "stream",
     "text": [
      "~/workspace/genomics-data-index-evaluation-manuscript/evaluations/simulation\r\n"
     ]
    }
   ],
   "source": [
    "!pushd {assemblies_dir}; prename 's/data__//' *.fa.gz; popd"
   ]
  },
  {
   "cell_type": "markdown",
   "id": "a0856fbc-ba98-4ba1-870b-6923cd636892",
   "metadata": {
    "papermill": {
     "duration": 0.005242,
     "end_time": "2022-10-18T22:59:29.177039",
     "exception": false,
     "start_time": "2022-10-18T22:59:29.171797",
     "status": "completed"
    },
    "tags": []
   },
   "source": [
    "# 4. Assemble reads\n",
    "\n",
    "Assemble reads to have another scenario of imperfect assemblies."
   ]
  },
  {
   "cell_type": "code",
   "execution_count": 8,
   "id": "c1a1b18f-ecd1-4ca3-af9f-ef44648edbd3",
   "metadata": {
    "execution": {
     "iopub.execute_input": "2022-10-18T22:59:29.203983Z",
     "iopub.status.busy": "2022-10-18T22:59:29.203203Z",
     "iopub.status.idle": "2022-10-18T22:59:30.481842Z",
     "shell.execute_reply": "2022-10-18T22:59:30.479921Z"
    },
    "papermill": {
     "duration": 1.289829,
     "end_time": "2022-10-18T22:59:30.485671",
     "exception": false,
     "start_time": "2022-10-18T22:59:29.195842",
     "status": "completed"
    },
    "tags": []
   },
   "outputs": [
    {
     "name": "stdout",
     "output_type": "stream",
     "text": [
      "SKESA 2.4.0\r\n",
      "\r\n",
      "skesa --version \r\n",
      "\r\n",
      "\r\n"
     ]
    }
   ],
   "source": [
    "!conda run -n skesa skesa --version"
   ]
  },
  {
   "cell_type": "code",
   "execution_count": 9,
   "id": "419476b6-ecce-477b-a838-d2419d1d160e",
   "metadata": {
    "execution": {
     "iopub.execute_input": "2022-10-18T22:59:30.500956Z",
     "iopub.status.busy": "2022-10-18T22:59:30.500383Z",
     "iopub.status.idle": "2022-10-18T22:59:48.582588Z",
     "shell.execute_reply": "2022-10-18T22:59:48.580624Z"
    },
    "papermill": {
     "duration": 18.093824,
     "end_time": "2022-10-18T22:59:48.587018",
     "exception": false,
     "start_time": "2022-10-18T22:59:30.493194",
     "status": "completed"
    },
    "tags": []
   },
   "outputs": [],
   "source": [
    "import glob\n",
    "import re\n",
    "\n",
    "fastq_names = [os.path.basename(f) for f in glob.glob(f'{reads_dir}/*_R1.fq.gz')]\n",
    "sample_names = [re.sub(r'_R\\d.fq.gz', '', f) for f in fastq_names]\n",
    "!parallel -j {ncores} -I% 'conda run -n skesa skesa --reads {reads_dir}/%_R1.fq.gz,{reads_dir}/%_R2.fq.gz --contigs_out {assembled_reads_dir}/%.fasta > {assembled_reads_dir}/log.% 2>&1' \\\n",
    "    ::: {' '.join(sample_names)}"
   ]
  }
 ],
 "metadata": {
  "kernelspec": {
   "display_name": "Python 3 (ipykernel)",
   "language": "python",
   "name": "python3"
  },
  "language_info": {
   "codemirror_mode": {
    "name": "ipython",
    "version": 3
   },
   "file_extension": ".py",
   "mimetype": "text/x-python",
   "name": "python",
   "nbconvert_exporter": "python",
   "pygments_lexer": "ipython3",
   "version": "3.8.13"
  },
  "papermill": {
   "default_parameters": {},
   "duration": 22.613637,
   "end_time": "2022-10-18T22:59:48.816351",
   "environment_variables": {},
   "exception": null,
   "input_path": "template-2-fix-simulated-files.ipynb",
   "output_path": "2-fix-simulated-files.simulation-cov-30.ipynb",
   "parameters": {
    "iterations": 1,
    "mincov": 10,
    "read_coverage": 30,
    "simulation_dir": "simulations/cov-30",
    "sub_alpha": 0.2
   },
   "start_time": "2022-10-18T22:59:26.202714",
   "version": "2.3.4"
  }
 },
 "nbformat": 4,
 "nbformat_minor": 5
}