{
 "cells": [
  {
   "cell_type": "markdown",
   "id": "acfa5482-d626-44d6-b613-863e6911fa98",
   "metadata": {
    "papermill": {
     "duration": 0.006517,
     "end_time": "2022-09-29T19:24:49.382660",
     "exception": false,
     "start_time": "2022-09-29T19:24:49.376143",
     "status": "completed"
    },
    "tags": []
   },
   "source": [
    "# 1. Parameters"
   ]
  },
  {
   "cell_type": "code",
   "execution_count": 1,
   "id": "36126d74-a9d8-4431-ba49-767c1fc2ec49",
   "metadata": {
    "execution": {
     "iopub.execute_input": "2022-09-29T19:24:49.394597Z",
     "iopub.status.busy": "2022-09-29T19:24:49.393826Z",
     "iopub.status.idle": "2022-09-29T19:24:49.410260Z",
     "shell.execute_reply": "2022-09-29T19:24:49.408762Z"
    },
    "papermill": {
     "duration": 0.026256,
     "end_time": "2022-09-29T19:24:49.414139",
     "exception": false,
     "start_time": "2022-09-29T19:24:49.387883",
     "status": "completed"
    },
    "tags": [
     "parameters"
    ]
   },
   "outputs": [],
   "source": [
    "# Defaults\n",
    "simulation_dir = 'simulations/unset'\n",
    "ncores = 48"
   ]
  },
  {
   "cell_type": "code",
   "execution_count": 2,
   "id": "a14b02a2",
   "metadata": {
    "execution": {
     "iopub.execute_input": "2022-09-29T19:24:49.425493Z",
     "iopub.status.busy": "2022-09-29T19:24:49.424955Z",
     "iopub.status.idle": "2022-09-29T19:24:49.432362Z",
     "shell.execute_reply": "2022-09-29T19:24:49.430838Z"
    },
    "papermill": {
     "duration": 0.016707,
     "end_time": "2022-09-29T19:24:49.435728",
     "exception": false,
     "start_time": "2022-09-29T19:24:49.419021",
     "status": "completed"
    },
    "tags": [
     "injected-parameters"
    ]
   },
   "outputs": [],
   "source": [
    "# Parameters\n",
    "read_coverage = 30\n",
    "mincov = 10\n",
    "simulation_dir = \"simulations/cov-30\"\n",
    "iterations = 3\n",
    "sub_alpha = 0.2\n"
   ]
  },
  {
   "cell_type": "code",
   "execution_count": 3,
   "id": "15e911d7-0ffc-4110-aefe-71bc77e689cd",
   "metadata": {
    "execution": {
     "iopub.execute_input": "2022-09-29T19:24:49.446045Z",
     "iopub.status.busy": "2022-09-29T19:24:49.445382Z",
     "iopub.status.idle": "2022-09-29T19:24:49.454093Z",
     "shell.execute_reply": "2022-09-29T19:24:49.452831Z"
    },
    "papermill": {
     "duration": 0.022503,
     "end_time": "2022-09-29T19:24:49.462726",
     "exception": false,
     "start_time": "2022-09-29T19:24:49.440223",
     "status": "completed"
    },
    "tags": []
   },
   "outputs": [],
   "source": [
    "from pathlib import Path\n",
    "import os\n",
    "\n",
    "simulation_data_dir = Path(simulation_dir) / 'simulated_data'\n",
    "initial_reads_dir = simulation_data_dir / 'reads_initial'\n",
    "reads_dir = simulation_data_dir / 'reads'\n",
    "assemblies_dir = simulation_data_dir / 'assemblies'\n",
    "\n",
    "if not reads_dir.exists():\n",
    "    os.mkdir(reads_dir)"
   ]
  },
  {
   "cell_type": "markdown",
   "id": "rotary-regard",
   "metadata": {
    "papermill": {
     "duration": 0.003966,
     "end_time": "2022-09-29T19:24:49.472159",
     "exception": false,
     "start_time": "2022-09-29T19:24:49.468193",
     "status": "completed"
    },
    "tags": []
   },
   "source": [
    "# 2. Fix reads\n",
    "\n",
    "Fix read file names and data so they can be indexed."
   ]
  },
  {
   "cell_type": "code",
   "execution_count": 4,
   "id": "convenient-blackberry",
   "metadata": {
    "execution": {
     "iopub.execute_input": "2022-09-29T19:24:49.479352Z",
     "iopub.status.busy": "2022-09-29T19:24:49.478829Z",
     "iopub.status.idle": "2022-09-29T19:24:49.669229Z",
     "shell.execute_reply": "2022-09-29T19:24:49.667537Z"
    },
    "papermill": {
     "duration": 0.198268,
     "end_time": "2022-09-29T19:24:49.673004",
     "exception": false,
     "start_time": "2022-09-29T19:24:49.474736",
     "status": "completed"
    },
    "tags": []
   },
   "outputs": [
    {
     "name": "stdout",
     "output_type": "stream",
     "text": [
      "~/workspace/genomics-data-index-evaluation-manuscript/evaluations/simulation/simulations/cov-30/simulated_data/reads_initial ~/workspace/genomics-data-index-evaluation-manuscript/evaluations/simulation\r\n"
     ]
    },
    {
     "name": "stdout",
     "output_type": "stream",
     "text": [
      "~/workspace/genomics-data-index-evaluation-manuscript/evaluations/simulation\r\n"
     ]
    }
   ],
   "source": [
    "import os\n",
    "\n",
    "# Fix warning about locale unset\n",
    "os.environ['LANG'] = 'en_US.UTF-8'\n",
    "\n",
    "!pushd {initial_reads_dir}; prename 's/data_//' *.fq.gz; popd"
   ]
  },
  {
   "cell_type": "markdown",
   "id": "median-belle",
   "metadata": {
    "papermill": {
     "duration": 0.005012,
     "end_time": "2022-09-29T19:24:49.683610",
     "exception": false,
     "start_time": "2022-09-29T19:24:49.678598",
     "status": "completed"
    },
    "tags": []
   },
   "source": [
    "Jackalope produces reads with non-standard identifiers where pairs of reads don't have matching identifiers. For example:\n",
    "\n",
    "* Pair 1: `@SH08-001-NC_011083-3048632-R/1`\n",
    "* Pair 2: `@SH08-001-NC_011083-3048396-F/2`\n",
    "\n",
    "In order to run snippy, these paired identifiers need to match (except for the `/1` and `/2` suffix).\n",
    "\n",
    "So, I have to replace them all with something unique, but which matches in each pair of files. I do this by replacing the position (I think) with the read number (as it appears in the file). So the above identifiers become:\n",
    "\n",
    "* Pair 1: `@SH08-001-NC_011083-1/1`\n",
    "* Pair 2: `@SH08-001-NC_011083-1/2`"
   ]
  },
  {
   "cell_type": "code",
   "execution_count": 5,
   "id": "remarkable-berry",
   "metadata": {
    "execution": {
     "iopub.execute_input": "2022-09-29T19:24:49.693394Z",
     "iopub.status.busy": "2022-09-29T19:24:49.692680Z",
     "iopub.status.idle": "2022-09-29T19:24:50.724484Z",
     "shell.execute_reply": "2022-09-29T19:24:50.722244Z"
    },
    "papermill": {
     "duration": 1.041602,
     "end_time": "2022-09-29T19:24:50.728620",
     "exception": false,
     "start_time": "2022-09-29T19:24:49.687018",
     "status": "completed"
    },
    "tags": []
   },
   "outputs": [],
   "source": [
    "import glob\n",
    "import os\n",
    "\n",
    "files = [os.path.basename(f) for f in glob.glob(f'{initial_reads_dir}/*.fq.gz')]\n",
    "!parallel -j {ncores} -I% 'gzip -d --stdout {initial_reads_dir}/% | perl scripts/replace-fastq-header.pl | gzip > {reads_dir}/%' \\\n",
    "    ::: {' '.join(files)}"
   ]
  },
  {
   "cell_type": "code",
   "execution_count": 6,
   "id": "8318e7a8-1057-4e4f-aaec-fccdec42a75f",
   "metadata": {
    "execution": {
     "iopub.execute_input": "2022-09-29T19:24:50.742573Z",
     "iopub.status.busy": "2022-09-29T19:24:50.741991Z",
     "iopub.status.idle": "2022-09-29T19:24:50.759946Z",
     "shell.execute_reply": "2022-09-29T19:24:50.758797Z"
    },
    "papermill": {
     "duration": 0.029062,
     "end_time": "2022-09-29T19:24:50.763443",
     "exception": false,
     "start_time": "2022-09-29T19:24:50.734381",
     "status": "completed"
    },
    "tags": []
   },
   "outputs": [],
   "source": [
    "import shutil\n",
    "\n",
    "shutil.rmtree(initial_reads_dir)"
   ]
  },
  {
   "cell_type": "markdown",
   "id": "cf630b4f-ed63-4e14-9657-e0aaea0953ab",
   "metadata": {
    "papermill": {
     "duration": 0.004464,
     "end_time": "2022-09-29T19:24:50.773449",
     "exception": false,
     "start_time": "2022-09-29T19:24:50.768985",
     "status": "completed"
    },
    "tags": []
   },
   "source": [
    "# 3. Fix assemblies\n",
    "\n",
    "Fix assembly genome names"
   ]
  },
  {
   "cell_type": "code",
   "execution_count": 7,
   "id": "08fac610-3ab3-4afa-9873-406973041963",
   "metadata": {
    "execution": {
     "iopub.execute_input": "2022-09-29T19:24:50.783098Z",
     "iopub.status.busy": "2022-09-29T19:24:50.782235Z",
     "iopub.status.idle": "2022-09-29T19:24:50.960534Z",
     "shell.execute_reply": "2022-09-29T19:24:50.958629Z"
    },
    "papermill": {
     "duration": 0.187173,
     "end_time": "2022-09-29T19:24:50.964344",
     "exception": false,
     "start_time": "2022-09-29T19:24:50.777171",
     "status": "completed"
    },
    "tags": []
   },
   "outputs": [
    {
     "name": "stdout",
     "output_type": "stream",
     "text": [
      "~/workspace/genomics-data-index-evaluation-manuscript/evaluations/simulation/simulations/cov-30/simulated_data/assemblies ~/workspace/genomics-data-index-evaluation-manuscript/evaluations/simulation\r\n"
     ]
    },
    {
     "name": "stdout",
     "output_type": "stream",
     "text": [
      "~/workspace/genomics-data-index-evaluation-manuscript/evaluations/simulation\r\n"
     ]
    }
   ],
   "source": [
    "!pushd {assemblies_dir}; prename 's/data__//' *.fa.gz; popd"
   ]
  }
 ],
 "metadata": {
  "kernelspec": {
   "display_name": "Python 3 (ipykernel)",
   "language": "python",
   "name": "python3"
  },
  "language_info": {
   "codemirror_mode": {
    "name": "ipython",
    "version": 3
   },
   "file_extension": ".py",
   "mimetype": "text/x-python",
   "name": "python",
   "nbconvert_exporter": "python",
   "pygments_lexer": "ipython3",
   "version": "3.8.13"
  },
  "papermill": {
   "default_parameters": {},
   "duration": 3.380178,
   "end_time": "2022-09-29T19:24:51.192850",
   "environment_variables": {},
   "exception": null,
   "input_path": "template-2-fix-simulated-files.ipynb",
   "output_path": "2-fix-simulated-files.simulation-cov-30.ipynb",
   "parameters": {
    "iterations": 3,
    "mincov": 10,
    "read_coverage": 30,
    "simulation_dir": "simulations/cov-30",
    "sub_alpha": 0.2
   },
   "start_time": "2022-09-29T19:24:47.812672",
   "version": "2.3.4"
  }
 },
 "nbformat": 4,
 "nbformat_minor": 5
}