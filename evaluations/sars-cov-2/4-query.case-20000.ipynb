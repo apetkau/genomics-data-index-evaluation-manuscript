{
 "cells": [
  {
   "cell_type": "markdown",
   "id": "d14f2d52",
   "metadata": {
    "tags": [
     "papermill-error-cell-tag"
    ]
   },
   "source": [
    "<span style=\"color:red; font-family:Helvetica Neue, Helvetica, Arial, sans-serif; font-size:2em;\">An Exception was encountered at '<a href=\"#papermill-error-cell\">In [9]</a>'.</span>"
   ]
  },
  {
   "cell_type": "markdown",
   "id": "f1bc3e40-3158-4009-8a9b-371a7d2d2efe",
   "metadata": {
    "papermill": {
     "duration": 0.008246,
     "end_time": "2022-10-11T15:27:42.092696",
     "exception": false,
     "start_time": "2022-10-11T15:27:42.084450",
     "status": "completed"
    },
    "tags": []
   },
   "source": [
    "# 1. Parameters"
   ]
  },
  {
   "cell_type": "code",
   "execution_count": 1,
   "id": "cf8880a6-5194-4ced-be67-c0610a332a31",
   "metadata": {
    "execution": {
     "iopub.execute_input": "2022-10-11T15:27:42.104964Z",
     "iopub.status.busy": "2022-10-11T15:27:42.104187Z",
     "iopub.status.idle": "2022-10-11T15:27:42.120611Z",
     "shell.execute_reply": "2022-10-11T15:27:42.119153Z"
    },
    "papermill": {
     "duration": 0.025451,
     "end_time": "2022-10-11T15:27:42.123522",
     "exception": false,
     "start_time": "2022-10-11T15:27:42.098071",
     "status": "completed"
    },
    "tags": [
     "parameters"
    ]
   },
   "outputs": [],
   "source": [
    "cases_dir = 'cases/unset'\n",
    "metadata_file = 'input/metadata-subsample-pangolin.tsv'\n",
    "build_tree = False"
   ]
  },
  {
   "cell_type": "code",
   "execution_count": 2,
   "id": "c2b7c10d",
   "metadata": {
    "execution": {
     "iopub.execute_input": "2022-10-11T15:27:42.136137Z",
     "iopub.status.busy": "2022-10-11T15:27:42.135609Z",
     "iopub.status.idle": "2022-10-11T15:27:42.146541Z",
     "shell.execute_reply": "2022-10-11T15:27:42.145105Z"
    },
    "papermill": {
     "duration": 0.020869,
     "end_time": "2022-10-11T15:27:42.149454",
     "exception": false,
     "start_time": "2022-10-11T15:27:42.128585",
     "status": "completed"
    },
    "tags": [
     "injected-parameters"
    ]
   },
   "outputs": [],
   "source": [
    "# Parameters\n",
    "cases_dir = \"cases/case-20000\"\n",
    "iterations = 3\n",
    "number_samples = 20000\n",
    "build_tree = True\n"
   ]
  },
  {
   "cell_type": "code",
   "execution_count": 3,
   "id": "7e54ac3f-8dff-492e-8096-65a2ed9f5c90",
   "metadata": {
    "execution": {
     "iopub.execute_input": "2022-10-11T15:27:42.160342Z",
     "iopub.status.busy": "2022-10-11T15:27:42.159668Z",
     "iopub.status.idle": "2022-10-11T15:27:45.023179Z",
     "shell.execute_reply": "2022-10-11T15:27:45.021725Z"
    },
    "papermill": {
     "duration": 2.872987,
     "end_time": "2022-10-11T15:27:45.027277",
     "exception": false,
     "start_time": "2022-10-11T15:27:42.154290",
     "status": "completed"
    },
    "tags": []
   },
   "outputs": [
    {
     "name": "stderr",
     "output_type": "stream",
     "text": [
      "/tmp/ipykernel_9314/108103996.py:2: DeprecationWarning: the imp module is deprecated in favour of importlib; see the module's documentation for alternative uses\n",
      "  import imp\n"
     ]
    }
   ],
   "source": [
    "from pathlib import Path\n",
    "import imp\n",
    "fp, pathname, description = imp.find_module('gdi_benchmark', ['../../lib'])\n",
    "gdi_benchmark = imp.load_module('gdi_benchmark', fp, pathname, description)\n",
    "\n",
    "cases_dir_path = Path(cases_dir)\n",
    "\n",
    "case_name = str(cases_dir_path.name)\n",
    "index_path = cases_dir_path / 'index'\n",
    "\n",
    "output_api_path = cases_dir_path / 'query-api.tsv'\n",
    "output_cli_path = cases_dir_path / 'query-cli.tsv'"
   ]
  },
  {
   "cell_type": "markdown",
   "id": "54537d03-809a-487c-8686-5e1791dc11de",
   "metadata": {
    "papermill": {
     "duration": 0.004629,
     "end_time": "2022-10-11T15:27:45.039003",
     "exception": false,
     "start_time": "2022-10-11T15:27:45.034374",
     "status": "completed"
    },
    "tags": []
   },
   "source": [
    "# 2. Benchmark command-line"
   ]
  },
  {
   "cell_type": "code",
   "execution_count": 4,
   "id": "9f4b5122-586c-440f-be52-0b7ab161de46",
   "metadata": {
    "execution": {
     "iopub.execute_input": "2022-10-11T15:27:45.049951Z",
     "iopub.status.busy": "2022-10-11T15:27:45.049000Z",
     "iopub.status.idle": "2022-10-11T15:27:45.063468Z",
     "shell.execute_reply": "2022-10-11T15:27:45.062276Z"
    },
    "papermill": {
     "duration": 0.02317,
     "end_time": "2022-10-11T15:27:45.066803",
     "exception": false,
     "start_time": "2022-10-11T15:27:45.043633",
     "status": "completed"
    },
    "tags": []
   },
   "outputs": [],
   "source": [
    "import pandas as pd\n",
    "import genomics_data_index.api as gdi\n",
    "\n",
    "def benchmark_cli_index(name: str, index_path: Path, build_tree: bool) -> pd.DataFrame:\n",
    "    benchmark_commands = {\n",
    "        'query hasa':               f'gdi --project-dir {index_path} --ncores 1 query \"hasa:hgvs_gn:NC_045512.2:S:p.D614G\"',\n",
    "        'query isa':                f'gdi --project-dir {index_path} --ncores 1 query \"isa:Switzerland/100108/2020\"',\n",
    "        'query --summary':          f'gdi --project-dir {index_path} --ncores 1 query \"hasa:hgvs_gn:NC_045512.2:S:p.D614G\" --summary',\n",
    "        'query --features-summary': f'gdi --project-dir {index_path} --ncores 1 query --features-summary mutations',\n",
    "        'list samples':             f'gdi --project-dir {index_path} --ncores 1 list samples',\n",
    "    }\n",
    "    \n",
    "    if build_tree:\n",
    "        benchmark_commands['query isin'] = f'gdi --project-dir {index_path} --ncores 1 query --reference-name NC_045512 \"isin_5_substitutions:Switzerland/100108/2020\"'\n",
    "    \n",
    "    db = gdi.GenomicsDataIndex.connect(index_path)\n",
    "    number_samples = db.count_samples()\n",
    "    number_features_no_unknown = db.count_mutations(reference_genome='NC_045512', include_unknown=False)\n",
    "    number_features_all = db.count_mutations(reference_genome='NC_045512', include_unknown=True)\n",
    "    iterations = 10\n",
    "    \n",
    "    benchmarker = gdi_benchmark.QueryBenchmarkHandler()\n",
    "    return benchmarker.benchmark_cli(name=name, kind_commands=benchmark_commands, number_samples=number_samples,\n",
    "                                    number_features_no_unknown=number_features_no_unknown, number_features_all=number_features_all,\n",
    "                                     iterations=iterations)"
   ]
  },
  {
   "cell_type": "code",
   "execution_count": 5,
   "id": "c339bf1b-f934-4e3a-9796-25374627e237",
   "metadata": {
    "execution": {
     "iopub.execute_input": "2022-10-11T15:27:45.080358Z",
     "iopub.status.busy": "2022-10-11T15:27:45.079834Z",
     "iopub.status.idle": "2022-10-11T15:31:46.346573Z",
     "shell.execute_reply": "2022-10-11T15:31:46.344401Z"
    },
    "papermill": {
     "duration": 241.277416,
     "end_time": "2022-10-11T15:31:46.351009",
     "exception": false,
     "start_time": "2022-10-11T15:27:45.073593",
     "status": "completed"
    },
    "tags": []
   },
   "outputs": [
    {
     "name": "stderr",
     "output_type": "stream",
     "text": [
      "/home/CSCScience.ca/apetkau/miniconda3/envs/gdi-manuscript/lib/python3.8/multiprocessing/popen_fork.py:70: ResourceWarning: Unclosed socket <zmq.Socket(zmq.PUSH) at 0x7ff5e9f65fa0>\n",
      "  self.pid = os.fork()\n",
      "ResourceWarning: Enable tracemalloc to get the object allocation traceback\n"
     ]
    },
    {
     "name": "stderr",
     "output_type": "stream",
     "text": [
      "/home/CSCScience.ca/apetkau/miniconda3/envs/gdi-manuscript/lib/python3.8/multiprocessing/popen_fork.py:70: ResourceWarning: Unclosed socket <zmq.Socket(zmq.PUSH) at 0x7ff5e9f65fa0>\n",
      "  self.pid = os.fork()\n",
      "ResourceWarning: Enable tracemalloc to get the object allocation traceback\n"
     ]
    },
    {
     "name": "stderr",
     "output_type": "stream",
     "text": [
      "/home/CSCScience.ca/apetkau/miniconda3/envs/gdi-manuscript/lib/python3.8/multiprocessing/popen_fork.py:70: ResourceWarning: Unclosed socket <zmq.Socket(zmq.PUSH) at 0x7ff5e9f65fa0>\n",
      "  self.pid = os.fork()\n",
      "ResourceWarning: Enable tracemalloc to get the object allocation traceback\n"
     ]
    },
    {
     "name": "stderr",
     "output_type": "stream",
     "text": [
      "/home/CSCScience.ca/apetkau/miniconda3/envs/gdi-manuscript/lib/python3.8/multiprocessing/popen_fork.py:70: ResourceWarning: Unclosed socket <zmq.Socket(zmq.PUSH) at 0x7ff5e9f65fa0>\n",
      "  self.pid = os.fork()\n",
      "ResourceWarning: Enable tracemalloc to get the object allocation traceback\n"
     ]
    },
    {
     "name": "stderr",
     "output_type": "stream",
     "text": [
      "/home/CSCScience.ca/apetkau/miniconda3/envs/gdi-manuscript/lib/python3.8/multiprocessing/popen_fork.py:70: ResourceWarning: Unclosed socket <zmq.Socket(zmq.PUSH) at 0x7ff5e9f65fa0>\n",
      "  self.pid = os.fork()\n",
      "ResourceWarning: Enable tracemalloc to get the object allocation traceback\n"
     ]
    },
    {
     "name": "stderr",
     "output_type": "stream",
     "text": [
      "/home/CSCScience.ca/apetkau/miniconda3/envs/gdi-manuscript/lib/python3.8/multiprocessing/popen_fork.py:70: ResourceWarning: Unclosed socket <zmq.Socket(zmq.PUSH) at 0x7ff5e9f65fa0>\n",
      "  self.pid = os.fork()\n",
      "ResourceWarning: Enable tracemalloc to get the object allocation traceback\n"
     ]
    },
    {
     "name": "stderr",
     "output_type": "stream",
     "text": [
      "/home/CSCScience.ca/apetkau/miniconda3/envs/gdi-manuscript/lib/python3.8/multiprocessing/popen_fork.py:70: ResourceWarning: Unclosed socket <zmq.Socket(zmq.PUSH) at 0x7ff5e9f65fa0>\n",
      "  self.pid = os.fork()\n",
      "ResourceWarning: Enable tracemalloc to get the object allocation traceback\n"
     ]
    },
    {
     "name": "stderr",
     "output_type": "stream",
     "text": [
      "/home/CSCScience.ca/apetkau/miniconda3/envs/gdi-manuscript/lib/python3.8/multiprocessing/popen_fork.py:70: ResourceWarning: Unclosed socket <zmq.Socket(zmq.PUSH) at 0x7ff5e9f65fa0>\n",
      "  self.pid = os.fork()\n",
      "ResourceWarning: Enable tracemalloc to get the object allocation traceback\n"
     ]
    },
    {
     "name": "stderr",
     "output_type": "stream",
     "text": [
      "/home/CSCScience.ca/apetkau/miniconda3/envs/gdi-manuscript/lib/python3.8/multiprocessing/popen_fork.py:70: ResourceWarning: Unclosed socket <zmq.Socket(zmq.PUSH) at 0x7ff5e9f65fa0>\n",
      "  self.pid = os.fork()\n",
      "ResourceWarning: Enable tracemalloc to get the object allocation traceback\n"
     ]
    },
    {
     "name": "stderr",
     "output_type": "stream",
     "text": [
      "/home/CSCScience.ca/apetkau/miniconda3/envs/gdi-manuscript/lib/python3.8/multiprocessing/popen_fork.py:70: ResourceWarning: Unclosed socket <zmq.Socket(zmq.PUSH) at 0x7ff5e9f65fa0>\n",
      "  self.pid = os.fork()\n",
      "ResourceWarning: Enable tracemalloc to get the object allocation traceback\n"
     ]
    },
    {
     "name": "stderr",
     "output_type": "stream",
     "text": [
      "/home/CSCScience.ca/apetkau/miniconda3/envs/gdi-manuscript/lib/python3.8/multiprocessing/popen_fork.py:70: ResourceWarning: Unclosed socket <zmq.Socket(zmq.PUSH) at 0x7ff5e9f65fa0>\n",
      "  self.pid = os.fork()\n",
      "ResourceWarning: Enable tracemalloc to get the object allocation traceback\n"
     ]
    },
    {
     "name": "stderr",
     "output_type": "stream",
     "text": [
      "/home/CSCScience.ca/apetkau/miniconda3/envs/gdi-manuscript/lib/python3.8/multiprocessing/popen_fork.py:70: ResourceWarning: Unclosed socket <zmq.Socket(zmq.PUSH) at 0x7ff5e9f65fa0>\n",
      "  self.pid = os.fork()\n",
      "ResourceWarning: Enable tracemalloc to get the object allocation traceback\n"
     ]
    },
    {
     "name": "stderr",
     "output_type": "stream",
     "text": [
      "/home/CSCScience.ca/apetkau/miniconda3/envs/gdi-manuscript/lib/python3.8/multiprocessing/popen_fork.py:70: ResourceWarning: Unclosed socket <zmq.Socket(zmq.PUSH) at 0x7ff5e9f65fa0>\n",
      "  self.pid = os.fork()\n",
      "ResourceWarning: Enable tracemalloc to get the object allocation traceback\n"
     ]
    },
    {
     "name": "stderr",
     "output_type": "stream",
     "text": [
      "/home/CSCScience.ca/apetkau/miniconda3/envs/gdi-manuscript/lib/python3.8/multiprocessing/popen_fork.py:70: ResourceWarning: Unclosed socket <zmq.Socket(zmq.PUSH) at 0x7ff5e9f65fa0>\n",
      "  self.pid = os.fork()\n",
      "ResourceWarning: Enable tracemalloc to get the object allocation traceback\n"
     ]
    },
    {
     "name": "stderr",
     "output_type": "stream",
     "text": [
      "/home/CSCScience.ca/apetkau/miniconda3/envs/gdi-manuscript/lib/python3.8/multiprocessing/popen_fork.py:70: ResourceWarning: Unclosed socket <zmq.Socket(zmq.PUSH) at 0x7ff5e9f65fa0>\n",
      "  self.pid = os.fork()\n",
      "ResourceWarning: Enable tracemalloc to get the object allocation traceback\n"
     ]
    },
    {
     "name": "stderr",
     "output_type": "stream",
     "text": [
      "/home/CSCScience.ca/apetkau/miniconda3/envs/gdi-manuscript/lib/python3.8/multiprocessing/popen_fork.py:70: ResourceWarning: Unclosed socket <zmq.Socket(zmq.PUSH) at 0x7ff5e9f65fa0>\n",
      "  self.pid = os.fork()\n",
      "ResourceWarning: Enable tracemalloc to get the object allocation traceback\n"
     ]
    },
    {
     "name": "stderr",
     "output_type": "stream",
     "text": [
      "/home/CSCScience.ca/apetkau/miniconda3/envs/gdi-manuscript/lib/python3.8/multiprocessing/popen_fork.py:70: ResourceWarning: Unclosed socket <zmq.Socket(zmq.PUSH) at 0x7ff5e9f65fa0>\n",
      "  self.pid = os.fork()\n",
      "ResourceWarning: Enable tracemalloc to get the object allocation traceback\n"
     ]
    },
    {
     "name": "stderr",
     "output_type": "stream",
     "text": [
      "/home/CSCScience.ca/apetkau/miniconda3/envs/gdi-manuscript/lib/python3.8/multiprocessing/popen_fork.py:70: ResourceWarning: Unclosed socket <zmq.Socket(zmq.PUSH) at 0x7ff5e9f65fa0>\n",
      "  self.pid = os.fork()\n",
      "ResourceWarning: Enable tracemalloc to get the object allocation traceback\n"
     ]
    },
    {
     "name": "stderr",
     "output_type": "stream",
     "text": [
      "/home/CSCScience.ca/apetkau/miniconda3/envs/gdi-manuscript/lib/python3.8/multiprocessing/popen_fork.py:70: ResourceWarning: Unclosed socket <zmq.Socket(zmq.PUSH) at 0x7ff5e9f65fa0>\n",
      "  self.pid = os.fork()\n",
      "ResourceWarning: Enable tracemalloc to get the object allocation traceback\n"
     ]
    },
    {
     "name": "stderr",
     "output_type": "stream",
     "text": [
      "/home/CSCScience.ca/apetkau/miniconda3/envs/gdi-manuscript/lib/python3.8/multiprocessing/popen_fork.py:70: ResourceWarning: Unclosed socket <zmq.Socket(zmq.PUSH) at 0x7ff5e9f65fa0>\n",
      "  self.pid = os.fork()\n",
      "ResourceWarning: Enable tracemalloc to get the object allocation traceback\n"
     ]
    },
    {
     "name": "stderr",
     "output_type": "stream",
     "text": [
      "/home/CSCScience.ca/apetkau/miniconda3/envs/gdi-manuscript/lib/python3.8/multiprocessing/popen_fork.py:70: ResourceWarning: Unclosed socket <zmq.Socket(zmq.PUSH) at 0x7ff5e9f65fa0>\n",
      "  self.pid = os.fork()\n",
      "ResourceWarning: Enable tracemalloc to get the object allocation traceback\n"
     ]
    },
    {
     "name": "stderr",
     "output_type": "stream",
     "text": [
      "/home/CSCScience.ca/apetkau/miniconda3/envs/gdi-manuscript/lib/python3.8/multiprocessing/popen_fork.py:70: ResourceWarning: Unclosed socket <zmq.Socket(zmq.PUSH) at 0x7ff5e9f65fa0>\n",
      "  self.pid = os.fork()\n",
      "ResourceWarning: Enable tracemalloc to get the object allocation traceback\n"
     ]
    },
    {
     "name": "stderr",
     "output_type": "stream",
     "text": [
      "/home/CSCScience.ca/apetkau/miniconda3/envs/gdi-manuscript/lib/python3.8/multiprocessing/popen_fork.py:70: ResourceWarning: Unclosed socket <zmq.Socket(zmq.PUSH) at 0x7ff5e9f65fa0>\n",
      "  self.pid = os.fork()\n",
      "ResourceWarning: Enable tracemalloc to get the object allocation traceback\n"
     ]
    },
    {
     "name": "stderr",
     "output_type": "stream",
     "text": [
      "/home/CSCScience.ca/apetkau/miniconda3/envs/gdi-manuscript/lib/python3.8/multiprocessing/popen_fork.py:70: ResourceWarning: Unclosed socket <zmq.Socket(zmq.PUSH) at 0x7ff5e9f65fa0>\n",
      "  self.pid = os.fork()\n",
      "ResourceWarning: Enable tracemalloc to get the object allocation traceback\n"
     ]
    },
    {
     "name": "stderr",
     "output_type": "stream",
     "text": [
      "/home/CSCScience.ca/apetkau/miniconda3/envs/gdi-manuscript/lib/python3.8/multiprocessing/popen_fork.py:70: ResourceWarning: Unclosed socket <zmq.Socket(zmq.PUSH) at 0x7ff5e9f65fa0>\n",
      "  self.pid = os.fork()\n",
      "ResourceWarning: Enable tracemalloc to get the object allocation traceback\n"
     ]
    },
    {
     "name": "stderr",
     "output_type": "stream",
     "text": [
      "/home/CSCScience.ca/apetkau/miniconda3/envs/gdi-manuscript/lib/python3.8/multiprocessing/popen_fork.py:70: ResourceWarning: Unclosed socket <zmq.Socket(zmq.PUSH) at 0x7ff5e9f65fa0>\n",
      "  self.pid = os.fork()\n",
      "ResourceWarning: Enable tracemalloc to get the object allocation traceback\n"
     ]
    },
    {
     "name": "stderr",
     "output_type": "stream",
     "text": [
      "/home/CSCScience.ca/apetkau/miniconda3/envs/gdi-manuscript/lib/python3.8/multiprocessing/popen_fork.py:70: ResourceWarning: Unclosed socket <zmq.Socket(zmq.PUSH) at 0x7ff5e9f65fa0>\n",
      "  self.pid = os.fork()\n",
      "ResourceWarning: Enable tracemalloc to get the object allocation traceback\n"
     ]
    },
    {
     "name": "stderr",
     "output_type": "stream",
     "text": [
      "/home/CSCScience.ca/apetkau/miniconda3/envs/gdi-manuscript/lib/python3.8/multiprocessing/popen_fork.py:70: ResourceWarning: Unclosed socket <zmq.Socket(zmq.PUSH) at 0x7ff5e9f65fa0>\n",
      "  self.pid = os.fork()\n",
      "ResourceWarning: Enable tracemalloc to get the object allocation traceback\n"
     ]
    },
    {
     "name": "stderr",
     "output_type": "stream",
     "text": [
      "/home/CSCScience.ca/apetkau/miniconda3/envs/gdi-manuscript/lib/python3.8/multiprocessing/popen_fork.py:70: ResourceWarning: Unclosed socket <zmq.Socket(zmq.PUSH) at 0x7ff5e9f65fa0>\n",
      "  self.pid = os.fork()\n",
      "ResourceWarning: Enable tracemalloc to get the object allocation traceback\n"
     ]
    },
    {
     "name": "stderr",
     "output_type": "stream",
     "text": [
      "/home/CSCScience.ca/apetkau/miniconda3/envs/gdi-manuscript/lib/python3.8/multiprocessing/popen_fork.py:70: ResourceWarning: Unclosed socket <zmq.Socket(zmq.PUSH) at 0x7ff5e9f65fa0>\n",
      "  self.pid = os.fork()\n",
      "ResourceWarning: Enable tracemalloc to get the object allocation traceback\n"
     ]
    },
    {
     "name": "stderr",
     "output_type": "stream",
     "text": [
      "/home/CSCScience.ca/apetkau/miniconda3/envs/gdi-manuscript/lib/python3.8/multiprocessing/popen_fork.py:70: ResourceWarning: Unclosed socket <zmq.Socket(zmq.PUSH) at 0x7ff5e9f65fa0>\n",
      "  self.pid = os.fork()\n",
      "ResourceWarning: Enable tracemalloc to get the object allocation traceback\n"
     ]
    },
    {
     "name": "stderr",
     "output_type": "stream",
     "text": [
      "/home/CSCScience.ca/apetkau/miniconda3/envs/gdi-manuscript/lib/python3.8/multiprocessing/popen_fork.py:70: ResourceWarning: Unclosed socket <zmq.Socket(zmq.PUSH) at 0x7ff5e9f65fa0>\n",
      "  self.pid = os.fork()\n",
      "ResourceWarning: Enable tracemalloc to get the object allocation traceback\n"
     ]
    },
    {
     "name": "stderr",
     "output_type": "stream",
     "text": [
      "/home/CSCScience.ca/apetkau/miniconda3/envs/gdi-manuscript/lib/python3.8/multiprocessing/popen_fork.py:70: ResourceWarning: Unclosed socket <zmq.Socket(zmq.PUSH) at 0x7ff5e9f65fa0>\n",
      "  self.pid = os.fork()\n",
      "ResourceWarning: Enable tracemalloc to get the object allocation traceback\n"
     ]
    },
    {
     "name": "stderr",
     "output_type": "stream",
     "text": [
      "/home/CSCScience.ca/apetkau/miniconda3/envs/gdi-manuscript/lib/python3.8/multiprocessing/popen_fork.py:70: ResourceWarning: Unclosed socket <zmq.Socket(zmq.PUSH) at 0x7ff5e9f65fa0>\n",
      "  self.pid = os.fork()\n",
      "ResourceWarning: Enable tracemalloc to get the object allocation traceback\n"
     ]
    },
    {
     "name": "stderr",
     "output_type": "stream",
     "text": [
      "/home/CSCScience.ca/apetkau/miniconda3/envs/gdi-manuscript/lib/python3.8/multiprocessing/popen_fork.py:70: ResourceWarning: Unclosed socket <zmq.Socket(zmq.PUSH) at 0x7ff5e9f65fa0>\n",
      "  self.pid = os.fork()\n",
      "ResourceWarning: Enable tracemalloc to get the object allocation traceback\n"
     ]
    },
    {
     "name": "stderr",
     "output_type": "stream",
     "text": [
      "/home/CSCScience.ca/apetkau/miniconda3/envs/gdi-manuscript/lib/python3.8/multiprocessing/popen_fork.py:70: ResourceWarning: Unclosed socket <zmq.Socket(zmq.PUSH) at 0x7ff5e9f65fa0>\n",
      "  self.pid = os.fork()\n",
      "ResourceWarning: Enable tracemalloc to get the object allocation traceback\n"
     ]
    },
    {
     "name": "stderr",
     "output_type": "stream",
     "text": [
      "/home/CSCScience.ca/apetkau/miniconda3/envs/gdi-manuscript/lib/python3.8/multiprocessing/popen_fork.py:70: ResourceWarning: Unclosed socket <zmq.Socket(zmq.PUSH) at 0x7ff5e9f65fa0>\n",
      "  self.pid = os.fork()\n",
      "ResourceWarning: Enable tracemalloc to get the object allocation traceback\n"
     ]
    },
    {
     "name": "stderr",
     "output_type": "stream",
     "text": [
      "/home/CSCScience.ca/apetkau/miniconda3/envs/gdi-manuscript/lib/python3.8/multiprocessing/popen_fork.py:70: ResourceWarning: Unclosed socket <zmq.Socket(zmq.PUSH) at 0x7ff5e9f65fa0>\n",
      "  self.pid = os.fork()\n",
      "ResourceWarning: Enable tracemalloc to get the object allocation traceback\n"
     ]
    },
    {
     "name": "stderr",
     "output_type": "stream",
     "text": [
      "/home/CSCScience.ca/apetkau/miniconda3/envs/gdi-manuscript/lib/python3.8/multiprocessing/popen_fork.py:70: ResourceWarning: Unclosed socket <zmq.Socket(zmq.PUSH) at 0x7ff5e9f65fa0>\n",
      "  self.pid = os.fork()\n",
      "ResourceWarning: Enable tracemalloc to get the object allocation traceback\n"
     ]
    },
    {
     "name": "stderr",
     "output_type": "stream",
     "text": [
      "/home/CSCScience.ca/apetkau/miniconda3/envs/gdi-manuscript/lib/python3.8/multiprocessing/popen_fork.py:70: ResourceWarning: Unclosed socket <zmq.Socket(zmq.PUSH) at 0x7ff5e9f65fa0>\n",
      "  self.pid = os.fork()\n",
      "ResourceWarning: Enable tracemalloc to get the object allocation traceback\n"
     ]
    },
    {
     "name": "stderr",
     "output_type": "stream",
     "text": [
      "/home/CSCScience.ca/apetkau/miniconda3/envs/gdi-manuscript/lib/python3.8/multiprocessing/popen_fork.py:70: ResourceWarning: Unclosed socket <zmq.Socket(zmq.PUSH) at 0x7ff5e9f65fa0>\n",
      "  self.pid = os.fork()\n",
      "ResourceWarning: Enable tracemalloc to get the object allocation traceback\n"
     ]
    },
    {
     "name": "stderr",
     "output_type": "stream",
     "text": [
      "/home/CSCScience.ca/apetkau/miniconda3/envs/gdi-manuscript/lib/python3.8/multiprocessing/popen_fork.py:70: ResourceWarning: Unclosed socket <zmq.Socket(zmq.PUSH) at 0x7ff5e9f65fa0>\n",
      "  self.pid = os.fork()\n",
      "ResourceWarning: Enable tracemalloc to get the object allocation traceback\n"
     ]
    },
    {
     "name": "stderr",
     "output_type": "stream",
     "text": [
      "/home/CSCScience.ca/apetkau/miniconda3/envs/gdi-manuscript/lib/python3.8/multiprocessing/popen_fork.py:70: ResourceWarning: Unclosed socket <zmq.Socket(zmq.PUSH) at 0x7ff5e9f65fa0>\n",
      "  self.pid = os.fork()\n",
      "ResourceWarning: Enable tracemalloc to get the object allocation traceback\n"
     ]
    },
    {
     "name": "stderr",
     "output_type": "stream",
     "text": [
      "/home/CSCScience.ca/apetkau/miniconda3/envs/gdi-manuscript/lib/python3.8/multiprocessing/popen_fork.py:70: ResourceWarning: Unclosed socket <zmq.Socket(zmq.PUSH) at 0x7ff5e9f65fa0>\n",
      "  self.pid = os.fork()\n",
      "ResourceWarning: Enable tracemalloc to get the object allocation traceback\n"
     ]
    },
    {
     "name": "stderr",
     "output_type": "stream",
     "text": [
      "/home/CSCScience.ca/apetkau/miniconda3/envs/gdi-manuscript/lib/python3.8/multiprocessing/popen_fork.py:70: ResourceWarning: Unclosed socket <zmq.Socket(zmq.PUSH) at 0x7ff5e9f65fa0>\n",
      "  self.pid = os.fork()\n",
      "ResourceWarning: Enable tracemalloc to get the object allocation traceback\n"
     ]
    },
    {
     "name": "stderr",
     "output_type": "stream",
     "text": [
      "/home/CSCScience.ca/apetkau/miniconda3/envs/gdi-manuscript/lib/python3.8/multiprocessing/popen_fork.py:70: ResourceWarning: Unclosed socket <zmq.Socket(zmq.PUSH) at 0x7ff5e9f65fa0>\n",
      "  self.pid = os.fork()\n",
      "ResourceWarning: Enable tracemalloc to get the object allocation traceback\n"
     ]
    },
    {
     "name": "stderr",
     "output_type": "stream",
     "text": [
      "/home/CSCScience.ca/apetkau/miniconda3/envs/gdi-manuscript/lib/python3.8/multiprocessing/popen_fork.py:70: ResourceWarning: Unclosed socket <zmq.Socket(zmq.PUSH) at 0x7ff5e9f65fa0>\n",
      "  self.pid = os.fork()\n",
      "ResourceWarning: Enable tracemalloc to get the object allocation traceback\n"
     ]
    },
    {
     "name": "stderr",
     "output_type": "stream",
     "text": [
      "/home/CSCScience.ca/apetkau/miniconda3/envs/gdi-manuscript/lib/python3.8/multiprocessing/popen_fork.py:70: ResourceWarning: Unclosed socket <zmq.Socket(zmq.PUSH) at 0x7ff5e9f65fa0>\n",
      "  self.pid = os.fork()\n",
      "ResourceWarning: Enable tracemalloc to get the object allocation traceback\n"
     ]
    },
    {
     "name": "stderr",
     "output_type": "stream",
     "text": [
      "/home/CSCScience.ca/apetkau/miniconda3/envs/gdi-manuscript/lib/python3.8/multiprocessing/popen_fork.py:70: ResourceWarning: Unclosed socket <zmq.Socket(zmq.PUSH) at 0x7ff5e9f65fa0>\n",
      "  self.pid = os.fork()\n",
      "ResourceWarning: Enable tracemalloc to get the object allocation traceback\n"
     ]
    },
    {
     "name": "stderr",
     "output_type": "stream",
     "text": [
      "/home/CSCScience.ca/apetkau/miniconda3/envs/gdi-manuscript/lib/python3.8/multiprocessing/popen_fork.py:70: ResourceWarning: Unclosed socket <zmq.Socket(zmq.PUSH) at 0x7ff5e9f65fa0>\n",
      "  self.pid = os.fork()\n",
      "ResourceWarning: Enable tracemalloc to get the object allocation traceback\n"
     ]
    },
    {
     "name": "stderr",
     "output_type": "stream",
     "text": [
      "/home/CSCScience.ca/apetkau/miniconda3/envs/gdi-manuscript/lib/python3.8/multiprocessing/popen_fork.py:70: ResourceWarning: Unclosed socket <zmq.Socket(zmq.PUSH) at 0x7ff5e9f65fa0>\n",
      "  self.pid = os.fork()\n",
      "ResourceWarning: Enable tracemalloc to get the object allocation traceback\n"
     ]
    },
    {
     "name": "stderr",
     "output_type": "stream",
     "text": [
      "/home/CSCScience.ca/apetkau/miniconda3/envs/gdi-manuscript/lib/python3.8/multiprocessing/popen_fork.py:70: ResourceWarning: Unclosed socket <zmq.Socket(zmq.PUSH) at 0x7ff5e9f65fa0>\n",
      "  self.pid = os.fork()\n",
      "ResourceWarning: Enable tracemalloc to get the object allocation traceback\n"
     ]
    },
    {
     "name": "stderr",
     "output_type": "stream",
     "text": [
      "/home/CSCScience.ca/apetkau/miniconda3/envs/gdi-manuscript/lib/python3.8/multiprocessing/popen_fork.py:70: ResourceWarning: Unclosed socket <zmq.Socket(zmq.PUSH) at 0x7ff5e9f65fa0>\n",
      "  self.pid = os.fork()\n",
      "ResourceWarning: Enable tracemalloc to get the object allocation traceback\n"
     ]
    },
    {
     "name": "stderr",
     "output_type": "stream",
     "text": [
      "/home/CSCScience.ca/apetkau/miniconda3/envs/gdi-manuscript/lib/python3.8/multiprocessing/popen_fork.py:70: ResourceWarning: Unclosed socket <zmq.Socket(zmq.PUSH) at 0x7ff5e9f65fa0>\n",
      "  self.pid = os.fork()\n",
      "ResourceWarning: Enable tracemalloc to get the object allocation traceback\n"
     ]
    },
    {
     "name": "stderr",
     "output_type": "stream",
     "text": [
      "/home/CSCScience.ca/apetkau/miniconda3/envs/gdi-manuscript/lib/python3.8/multiprocessing/popen_fork.py:70: ResourceWarning: Unclosed socket <zmq.Socket(zmq.PUSH) at 0x7ff5e9f65fa0>\n",
      "  self.pid = os.fork()\n",
      "ResourceWarning: Enable tracemalloc to get the object allocation traceback\n"
     ]
    },
    {
     "name": "stderr",
     "output_type": "stream",
     "text": [
      "/home/CSCScience.ca/apetkau/miniconda3/envs/gdi-manuscript/lib/python3.8/multiprocessing/popen_fork.py:70: ResourceWarning: Unclosed socket <zmq.Socket(zmq.PUSH) at 0x7ff5e9f65fa0>\n",
      "  self.pid = os.fork()\n",
      "ResourceWarning: Enable tracemalloc to get the object allocation traceback\n"
     ]
    },
    {
     "name": "stderr",
     "output_type": "stream",
     "text": [
      "/home/CSCScience.ca/apetkau/miniconda3/envs/gdi-manuscript/lib/python3.8/multiprocessing/popen_fork.py:70: ResourceWarning: Unclosed socket <zmq.Socket(zmq.PUSH) at 0x7ff5e9f65fa0>\n",
      "  self.pid = os.fork()\n",
      "ResourceWarning: Enable tracemalloc to get the object allocation traceback\n"
     ]
    },
    {
     "name": "stderr",
     "output_type": "stream",
     "text": [
      "/home/CSCScience.ca/apetkau/miniconda3/envs/gdi-manuscript/lib/python3.8/multiprocessing/popen_fork.py:70: ResourceWarning: Unclosed socket <zmq.Socket(zmq.PUSH) at 0x7ff5e9f65fa0>\n",
      "  self.pid = os.fork()\n",
      "ResourceWarning: Enable tracemalloc to get the object allocation traceback\n"
     ]
    },
    {
     "name": "stderr",
     "output_type": "stream",
     "text": [
      "/home/CSCScience.ca/apetkau/miniconda3/envs/gdi-manuscript/lib/python3.8/multiprocessing/popen_fork.py:70: ResourceWarning: Unclosed socket <zmq.Socket(zmq.PUSH) at 0x7ff5e9f65fa0>\n",
      "  self.pid = os.fork()\n",
      "ResourceWarning: Enable tracemalloc to get the object allocation traceback\n"
     ]
    },
    {
     "name": "stderr",
     "output_type": "stream",
     "text": [
      "/home/CSCScience.ca/apetkau/miniconda3/envs/gdi-manuscript/lib/python3.8/multiprocessing/popen_fork.py:70: ResourceWarning: Unclosed socket <zmq.Socket(zmq.PUSH) at 0x7ff5e9f65fa0>\n",
      "  self.pid = os.fork()\n",
      "ResourceWarning: Enable tracemalloc to get the object allocation traceback\n"
     ]
    },
    {
     "name": "stderr",
     "output_type": "stream",
     "text": [
      "/home/CSCScience.ca/apetkau/miniconda3/envs/gdi-manuscript/lib/python3.8/multiprocessing/popen_fork.py:70: ResourceWarning: Unclosed socket <zmq.Socket(zmq.PUSH) at 0x7ff5e9f65fa0>\n",
      "  self.pid = os.fork()\n",
      "ResourceWarning: Enable tracemalloc to get the object allocation traceback\n"
     ]
    },
    {
     "name": "stderr",
     "output_type": "stream",
     "text": [
      "/home/CSCScience.ca/apetkau/miniconda3/envs/gdi-manuscript/lib/python3.8/multiprocessing/popen_fork.py:70: ResourceWarning: Unclosed socket <zmq.Socket(zmq.PUSH) at 0x7ff5e9f65fa0>\n",
      "  self.pid = os.fork()\n",
      "ResourceWarning: Enable tracemalloc to get the object allocation traceback\n"
     ]
    },
    {
     "name": "stderr",
     "output_type": "stream",
     "text": [
      "/home/CSCScience.ca/apetkau/miniconda3/envs/gdi-manuscript/lib/python3.8/multiprocessing/popen_fork.py:70: ResourceWarning: Unclosed socket <zmq.Socket(zmq.PUSH) at 0x7ff5e9f65fa0>\n",
      "  self.pid = os.fork()\n",
      "ResourceWarning: Enable tracemalloc to get the object allocation traceback\n"
     ]
    },
    {
     "name": "stderr",
     "output_type": "stream",
     "text": [
      "/home/CSCScience.ca/apetkau/miniconda3/envs/gdi-manuscript/lib/python3.8/multiprocessing/popen_fork.py:70: ResourceWarning: Unclosed socket <zmq.Socket(zmq.PUSH) at 0x7ff5e9f65fa0>\n",
      "  self.pid = os.fork()\n",
      "ResourceWarning: Enable tracemalloc to get the object allocation traceback\n"
     ]
    },
    {
     "name": "stderr",
     "output_type": "stream",
     "text": [
      "/home/CSCScience.ca/apetkau/miniconda3/envs/gdi-manuscript/lib/python3.8/multiprocessing/popen_fork.py:70: ResourceWarning: Unclosed socket <zmq.Socket(zmq.PUSH) at 0x7ff5e9f65fa0>\n",
      "  self.pid = os.fork()\n",
      "ResourceWarning: Enable tracemalloc to get the object allocation traceback\n"
     ]
    },
    {
     "name": "stderr",
     "output_type": "stream",
     "text": [
      "/home/CSCScience.ca/apetkau/miniconda3/envs/gdi-manuscript/lib/python3.8/multiprocessing/popen_fork.py:70: ResourceWarning: Unclosed socket <zmq.Socket(zmq.PUSH) at 0x7ff5e9f65fa0>\n",
      "  self.pid = os.fork()\n",
      "ResourceWarning: Enable tracemalloc to get the object allocation traceback\n"
     ]
    },
    {
     "name": "stderr",
     "output_type": "stream",
     "text": [
      "/home/CSCScience.ca/apetkau/miniconda3/envs/gdi-manuscript/lib/python3.8/multiprocessing/popen_fork.py:70: ResourceWarning: Unclosed socket <zmq.Socket(zmq.PUSH) at 0x7ff5e9f65fa0>\n",
      "  self.pid = os.fork()\n",
      "ResourceWarning: Enable tracemalloc to get the object allocation traceback\n"
     ]
    },
    {
     "name": "stderr",
     "output_type": "stream",
     "text": [
      "/home/CSCScience.ca/apetkau/miniconda3/envs/gdi-manuscript/lib/python3.8/multiprocessing/popen_fork.py:70: ResourceWarning: Unclosed socket <zmq.Socket(zmq.PUSH) at 0x7ff5e9f65fa0>\n",
      "  self.pid = os.fork()\n",
      "ResourceWarning: Enable tracemalloc to get the object allocation traceback\n"
     ]
    },
    {
     "name": "stderr",
     "output_type": "stream",
     "text": [
      "/home/CSCScience.ca/apetkau/miniconda3/envs/gdi-manuscript/lib/python3.8/multiprocessing/popen_fork.py:70: ResourceWarning: Unclosed socket <zmq.Socket(zmq.PUSH) at 0x7ff5e9f65fa0>\n",
      "  self.pid = os.fork()\n",
      "ResourceWarning: Enable tracemalloc to get the object allocation traceback\n"
     ]
    },
    {
     "name": "stderr",
     "output_type": "stream",
     "text": [
      "/home/CSCScience.ca/apetkau/miniconda3/envs/gdi-manuscript/lib/python3.8/multiprocessing/popen_fork.py:70: ResourceWarning: Unclosed socket <zmq.Socket(zmq.PUSH) at 0x7ff5e9f65fa0>\n",
      "  self.pid = os.fork()\n",
      "ResourceWarning: Enable tracemalloc to get the object allocation traceback\n"
     ]
    },
    {
     "name": "stderr",
     "output_type": "stream",
     "text": [
      "/home/CSCScience.ca/apetkau/miniconda3/envs/gdi-manuscript/lib/python3.8/multiprocessing/popen_fork.py:70: ResourceWarning: Unclosed socket <zmq.Socket(zmq.PUSH) at 0x7ff5e9f65fa0>\n",
      "  self.pid = os.fork()\n",
      "ResourceWarning: Enable tracemalloc to get the object allocation traceback\n"
     ]
    },
    {
     "name": "stderr",
     "output_type": "stream",
     "text": [
      "/home/CSCScience.ca/apetkau/miniconda3/envs/gdi-manuscript/lib/python3.8/multiprocessing/popen_fork.py:70: ResourceWarning: Unclosed socket <zmq.Socket(zmq.PUSH) at 0x7ff5e9f65fa0>\n",
      "  self.pid = os.fork()\n",
      "ResourceWarning: Enable tracemalloc to get the object allocation traceback\n"
     ]
    },
    {
     "name": "stderr",
     "output_type": "stream",
     "text": [
      "/home/CSCScience.ca/apetkau/miniconda3/envs/gdi-manuscript/lib/python3.8/multiprocessing/popen_fork.py:70: ResourceWarning: Unclosed socket <zmq.Socket(zmq.PUSH) at 0x7ff5e9f65fa0>\n",
      "  self.pid = os.fork()\n",
      "ResourceWarning: Enable tracemalloc to get the object allocation traceback\n"
     ]
    },
    {
     "name": "stderr",
     "output_type": "stream",
     "text": [
      "/home/CSCScience.ca/apetkau/miniconda3/envs/gdi-manuscript/lib/python3.8/multiprocessing/popen_fork.py:70: ResourceWarning: Unclosed socket <zmq.Socket(zmq.PUSH) at 0x7ff5e9f65fa0>\n",
      "  self.pid = os.fork()\n",
      "ResourceWarning: Enable tracemalloc to get the object allocation traceback\n"
     ]
    },
    {
     "name": "stderr",
     "output_type": "stream",
     "text": [
      "/home/CSCScience.ca/apetkau/miniconda3/envs/gdi-manuscript/lib/python3.8/multiprocessing/popen_fork.py:70: ResourceWarning: Unclosed socket <zmq.Socket(zmq.PUSH) at 0x7ff5e9f65fa0>\n",
      "  self.pid = os.fork()\n",
      "ResourceWarning: Enable tracemalloc to get the object allocation traceback\n"
     ]
    },
    {
     "name": "stderr",
     "output_type": "stream",
     "text": [
      "/home/CSCScience.ca/apetkau/miniconda3/envs/gdi-manuscript/lib/python3.8/multiprocessing/popen_fork.py:70: ResourceWarning: Unclosed socket <zmq.Socket(zmq.PUSH) at 0x7ff5e9f65fa0>\n",
      "  self.pid = os.fork()\n",
      "ResourceWarning: Enable tracemalloc to get the object allocation traceback\n"
     ]
    },
    {
     "name": "stderr",
     "output_type": "stream",
     "text": [
      "/home/CSCScience.ca/apetkau/miniconda3/envs/gdi-manuscript/lib/python3.8/multiprocessing/popen_fork.py:70: ResourceWarning: Unclosed socket <zmq.Socket(zmq.PUSH) at 0x7ff5e9f65fa0>\n",
      "  self.pid = os.fork()\n",
      "ResourceWarning: Enable tracemalloc to get the object allocation traceback\n"
     ]
    },
    {
     "name": "stderr",
     "output_type": "stream",
     "text": [
      "/home/CSCScience.ca/apetkau/miniconda3/envs/gdi-manuscript/lib/python3.8/multiprocessing/popen_fork.py:70: ResourceWarning: Unclosed socket <zmq.Socket(zmq.PUSH) at 0x7ff5e9f65fa0>\n",
      "  self.pid = os.fork()\n",
      "ResourceWarning: Enable tracemalloc to get the object allocation traceback\n"
     ]
    },
    {
     "name": "stderr",
     "output_type": "stream",
     "text": [
      "/home/CSCScience.ca/apetkau/miniconda3/envs/gdi-manuscript/lib/python3.8/multiprocessing/popen_fork.py:70: ResourceWarning: Unclosed socket <zmq.Socket(zmq.PUSH) at 0x7ff5e9f65fa0>\n",
      "  self.pid = os.fork()\n",
      "ResourceWarning: Enable tracemalloc to get the object allocation traceback\n"
     ]
    },
    {
     "name": "stderr",
     "output_type": "stream",
     "text": [
      "/home/CSCScience.ca/apetkau/miniconda3/envs/gdi-manuscript/lib/python3.8/multiprocessing/popen_fork.py:70: ResourceWarning: Unclosed socket <zmq.Socket(zmq.PUSH) at 0x7ff5e9f65fa0>\n",
      "  self.pid = os.fork()\n",
      "ResourceWarning: Enable tracemalloc to get the object allocation traceback\n"
     ]
    },
    {
     "name": "stderr",
     "output_type": "stream",
     "text": [
      "/home/CSCScience.ca/apetkau/miniconda3/envs/gdi-manuscript/lib/python3.8/multiprocessing/popen_fork.py:70: ResourceWarning: Unclosed socket <zmq.Socket(zmq.PUSH) at 0x7ff5e9f65fa0>\n",
      "  self.pid = os.fork()\n",
      "ResourceWarning: Enable tracemalloc to get the object allocation traceback\n"
     ]
    },
    {
     "name": "stderr",
     "output_type": "stream",
     "text": [
      "/home/CSCScience.ca/apetkau/miniconda3/envs/gdi-manuscript/lib/python3.8/multiprocessing/popen_fork.py:70: ResourceWarning: Unclosed socket <zmq.Socket(zmq.PUSH) at 0x7ff5e9f65fa0>\n",
      "  self.pid = os.fork()\n",
      "ResourceWarning: Enable tracemalloc to get the object allocation traceback\n"
     ]
    },
    {
     "name": "stderr",
     "output_type": "stream",
     "text": [
      "/home/CSCScience.ca/apetkau/miniconda3/envs/gdi-manuscript/lib/python3.8/multiprocessing/popen_fork.py:70: ResourceWarning: Unclosed socket <zmq.Socket(zmq.PUSH) at 0x7ff5e9f65fa0>\n",
      "  self.pid = os.fork()\n",
      "ResourceWarning: Enable tracemalloc to get the object allocation traceback\n"
     ]
    },
    {
     "name": "stderr",
     "output_type": "stream",
     "text": [
      "/home/CSCScience.ca/apetkau/miniconda3/envs/gdi-manuscript/lib/python3.8/multiprocessing/popen_fork.py:70: ResourceWarning: Unclosed socket <zmq.Socket(zmq.PUSH) at 0x7ff5e9f65fa0>\n",
      "  self.pid = os.fork()\n",
      "ResourceWarning: Enable tracemalloc to get the object allocation traceback\n"
     ]
    },
    {
     "name": "stderr",
     "output_type": "stream",
     "text": [
      "/home/CSCScience.ca/apetkau/miniconda3/envs/gdi-manuscript/lib/python3.8/multiprocessing/popen_fork.py:70: ResourceWarning: Unclosed socket <zmq.Socket(zmq.PUSH) at 0x7ff5e9f65fa0>\n",
      "  self.pid = os.fork()\n",
      "ResourceWarning: Enable tracemalloc to get the object allocation traceback\n"
     ]
    },
    {
     "name": "stderr",
     "output_type": "stream",
     "text": [
      "/home/CSCScience.ca/apetkau/miniconda3/envs/gdi-manuscript/lib/python3.8/multiprocessing/popen_fork.py:70: ResourceWarning: Unclosed socket <zmq.Socket(zmq.PUSH) at 0x7ff5e9f65fa0>\n",
      "  self.pid = os.fork()\n",
      "ResourceWarning: Enable tracemalloc to get the object allocation traceback\n"
     ]
    },
    {
     "name": "stderr",
     "output_type": "stream",
     "text": [
      "/home/CSCScience.ca/apetkau/miniconda3/envs/gdi-manuscript/lib/python3.8/multiprocessing/popen_fork.py:70: ResourceWarning: Unclosed socket <zmq.Socket(zmq.PUSH) at 0x7ff5e9f65fa0>\n",
      "  self.pid = os.fork()\n",
      "ResourceWarning: Enable tracemalloc to get the object allocation traceback\n"
     ]
    },
    {
     "name": "stderr",
     "output_type": "stream",
     "text": [
      "/home/CSCScience.ca/apetkau/miniconda3/envs/gdi-manuscript/lib/python3.8/multiprocessing/popen_fork.py:70: ResourceWarning: Unclosed socket <zmq.Socket(zmq.PUSH) at 0x7ff5e9f65fa0>\n",
      "  self.pid = os.fork()\n",
      "ResourceWarning: Enable tracemalloc to get the object allocation traceback\n"
     ]
    },
    {
     "name": "stderr",
     "output_type": "stream",
     "text": [
      "/home/CSCScience.ca/apetkau/miniconda3/envs/gdi-manuscript/lib/python3.8/multiprocessing/popen_fork.py:70: ResourceWarning: Unclosed socket <zmq.Socket(zmq.PUSH) at 0x7ff5e9f65fa0>\n",
      "  self.pid = os.fork()\n",
      "ResourceWarning: Enable tracemalloc to get the object allocation traceback\n"
     ]
    },
    {
     "name": "stderr",
     "output_type": "stream",
     "text": [
      "/home/CSCScience.ca/apetkau/miniconda3/envs/gdi-manuscript/lib/python3.8/multiprocessing/popen_fork.py:70: ResourceWarning: Unclosed socket <zmq.Socket(zmq.PUSH) at 0x7ff5e9f65fa0>\n",
      "  self.pid = os.fork()\n",
      "ResourceWarning: Enable tracemalloc to get the object allocation traceback\n"
     ]
    },
    {
     "name": "stderr",
     "output_type": "stream",
     "text": [
      "/home/CSCScience.ca/apetkau/miniconda3/envs/gdi-manuscript/lib/python3.8/multiprocessing/popen_fork.py:70: ResourceWarning: Unclosed socket <zmq.Socket(zmq.PUSH) at 0x7ff5e9f65fa0>\n",
      "  self.pid = os.fork()\n",
      "ResourceWarning: Enable tracemalloc to get the object allocation traceback\n"
     ]
    },
    {
     "name": "stderr",
     "output_type": "stream",
     "text": [
      "/home/CSCScience.ca/apetkau/miniconda3/envs/gdi-manuscript/lib/python3.8/multiprocessing/popen_fork.py:70: ResourceWarning: Unclosed socket <zmq.Socket(zmq.PUSH) at 0x7ff5e9f65fa0>\n",
      "  self.pid = os.fork()\n",
      "ResourceWarning: Enable tracemalloc to get the object allocation traceback\n"
     ]
    },
    {
     "name": "stderr",
     "output_type": "stream",
     "text": [
      "/home/CSCScience.ca/apetkau/miniconda3/envs/gdi-manuscript/lib/python3.8/multiprocessing/popen_fork.py:70: ResourceWarning: Unclosed socket <zmq.Socket(zmq.PUSH) at 0x7ff5e9f65fa0>\n",
      "  self.pid = os.fork()\n",
      "ResourceWarning: Enable tracemalloc to get the object allocation traceback\n"
     ]
    },
    {
     "name": "stderr",
     "output_type": "stream",
     "text": [
      "/home/CSCScience.ca/apetkau/miniconda3/envs/gdi-manuscript/lib/python3.8/multiprocessing/popen_fork.py:70: ResourceWarning: Unclosed socket <zmq.Socket(zmq.PUSH) at 0x7ff5e9f65fa0>\n",
      "  self.pid = os.fork()\n",
      "ResourceWarning: Enable tracemalloc to get the object allocation traceback\n"
     ]
    },
    {
     "name": "stderr",
     "output_type": "stream",
     "text": [
      "/home/CSCScience.ca/apetkau/miniconda3/envs/gdi-manuscript/lib/python3.8/multiprocessing/popen_fork.py:70: ResourceWarning: Unclosed socket <zmq.Socket(zmq.PUSH) at 0x7ff5e9f65fa0>\n",
      "  self.pid = os.fork()\n",
      "ResourceWarning: Enable tracemalloc to get the object allocation traceback\n"
     ]
    },
    {
     "name": "stderr",
     "output_type": "stream",
     "text": [
      "/home/CSCScience.ca/apetkau/miniconda3/envs/gdi-manuscript/lib/python3.8/multiprocessing/popen_fork.py:70: ResourceWarning: Unclosed socket <zmq.Socket(zmq.PUSH) at 0x7ff5e9f65fa0>\n",
      "  self.pid = os.fork()\n",
      "ResourceWarning: Enable tracemalloc to get the object allocation traceback\n"
     ]
    },
    {
     "name": "stderr",
     "output_type": "stream",
     "text": [
      "/home/CSCScience.ca/apetkau/miniconda3/envs/gdi-manuscript/lib/python3.8/multiprocessing/popen_fork.py:70: ResourceWarning: Unclosed socket <zmq.Socket(zmq.PUSH) at 0x7ff5e9f65fa0>\n",
      "  self.pid = os.fork()\n",
      "ResourceWarning: Enable tracemalloc to get the object allocation traceback\n"
     ]
    },
    {
     "name": "stderr",
     "output_type": "stream",
     "text": [
      "/home/CSCScience.ca/apetkau/miniconda3/envs/gdi-manuscript/lib/python3.8/multiprocessing/popen_fork.py:70: ResourceWarning: Unclosed socket <zmq.Socket(zmq.PUSH) at 0x7ff5e9f65fa0>\n",
      "  self.pid = os.fork()\n",
      "ResourceWarning: Enable tracemalloc to get the object allocation traceback\n"
     ]
    },
    {
     "name": "stderr",
     "output_type": "stream",
     "text": [
      "/home/CSCScience.ca/apetkau/miniconda3/envs/gdi-manuscript/lib/python3.8/multiprocessing/popen_fork.py:70: ResourceWarning: Unclosed socket <zmq.Socket(zmq.PUSH) at 0x7ff5e9f65fa0>\n",
      "  self.pid = os.fork()\n",
      "ResourceWarning: Enable tracemalloc to get the object allocation traceback\n"
     ]
    },
    {
     "name": "stderr",
     "output_type": "stream",
     "text": [
      "/home/CSCScience.ca/apetkau/miniconda3/envs/gdi-manuscript/lib/python3.8/multiprocessing/popen_fork.py:70: ResourceWarning: Unclosed socket <zmq.Socket(zmq.PUSH) at 0x7ff5e9f65fa0>\n",
      "  self.pid = os.fork()\n",
      "ResourceWarning: Enable tracemalloc to get the object allocation traceback\n"
     ]
    },
    {
     "name": "stderr",
     "output_type": "stream",
     "text": [
      "/home/CSCScience.ca/apetkau/miniconda3/envs/gdi-manuscript/lib/python3.8/multiprocessing/popen_fork.py:70: ResourceWarning: Unclosed socket <zmq.Socket(zmq.PUSH) at 0x7ff5e9f65fa0>\n",
      "  self.pid = os.fork()\n",
      "ResourceWarning: Enable tracemalloc to get the object allocation traceback\n"
     ]
    },
    {
     "name": "stderr",
     "output_type": "stream",
     "text": [
      "/home/CSCScience.ca/apetkau/miniconda3/envs/gdi-manuscript/lib/python3.8/multiprocessing/popen_fork.py:70: ResourceWarning: Unclosed socket <zmq.Socket(zmq.PUSH) at 0x7ff5e9f65fa0>\n",
      "  self.pid = os.fork()\n",
      "ResourceWarning: Enable tracemalloc to get the object allocation traceback\n"
     ]
    },
    {
     "name": "stderr",
     "output_type": "stream",
     "text": [
      "/home/CSCScience.ca/apetkau/miniconda3/envs/gdi-manuscript/lib/python3.8/multiprocessing/popen_fork.py:70: ResourceWarning: Unclosed socket <zmq.Socket(zmq.PUSH) at 0x7ff5e9f65fa0>\n",
      "  self.pid = os.fork()\n",
      "ResourceWarning: Enable tracemalloc to get the object allocation traceback\n"
     ]
    },
    {
     "name": "stderr",
     "output_type": "stream",
     "text": [
      "/home/CSCScience.ca/apetkau/miniconda3/envs/gdi-manuscript/lib/python3.8/multiprocessing/popen_fork.py:70: ResourceWarning: Unclosed socket <zmq.Socket(zmq.PUSH) at 0x7ff5e9f65fa0>\n",
      "  self.pid = os.fork()\n",
      "ResourceWarning: Enable tracemalloc to get the object allocation traceback\n"
     ]
    },
    {
     "name": "stderr",
     "output_type": "stream",
     "text": [
      "/home/CSCScience.ca/apetkau/miniconda3/envs/gdi-manuscript/lib/python3.8/multiprocessing/popen_fork.py:70: ResourceWarning: Unclosed socket <zmq.Socket(zmq.PUSH) at 0x7ff5e9f65fa0>\n",
      "  self.pid = os.fork()\n",
      "ResourceWarning: Enable tracemalloc to get the object allocation traceback\n"
     ]
    },
    {
     "name": "stderr",
     "output_type": "stream",
     "text": [
      "/home/CSCScience.ca/apetkau/miniconda3/envs/gdi-manuscript/lib/python3.8/multiprocessing/popen_fork.py:70: ResourceWarning: Unclosed socket <zmq.Socket(zmq.PUSH) at 0x7ff5e9f65fa0>\n",
      "  self.pid = os.fork()\n",
      "ResourceWarning: Enable tracemalloc to get the object allocation traceback\n"
     ]
    },
    {
     "name": "stderr",
     "output_type": "stream",
     "text": [
      "/home/CSCScience.ca/apetkau/miniconda3/envs/gdi-manuscript/lib/python3.8/multiprocessing/popen_fork.py:70: ResourceWarning: Unclosed socket <zmq.Socket(zmq.PUSH) at 0x7ff5e9f65fa0>\n",
      "  self.pid = os.fork()\n",
      "ResourceWarning: Enable tracemalloc to get the object allocation traceback\n"
     ]
    },
    {
     "name": "stderr",
     "output_type": "stream",
     "text": [
      "/home/CSCScience.ca/apetkau/miniconda3/envs/gdi-manuscript/lib/python3.8/multiprocessing/popen_fork.py:70: ResourceWarning: Unclosed socket <zmq.Socket(zmq.PUSH) at 0x7ff5e9f65fa0>\n",
      "  self.pid = os.fork()\n",
      "ResourceWarning: Enable tracemalloc to get the object allocation traceback\n"
     ]
    },
    {
     "name": "stderr",
     "output_type": "stream",
     "text": [
      "/home/CSCScience.ca/apetkau/miniconda3/envs/gdi-manuscript/lib/python3.8/multiprocessing/popen_fork.py:70: ResourceWarning: Unclosed socket <zmq.Socket(zmq.PUSH) at 0x7ff5e9f65fa0>\n",
      "  self.pid = os.fork()\n",
      "ResourceWarning: Enable tracemalloc to get the object allocation traceback\n"
     ]
    },
    {
     "name": "stderr",
     "output_type": "stream",
     "text": [
      "/home/CSCScience.ca/apetkau/miniconda3/envs/gdi-manuscript/lib/python3.8/multiprocessing/popen_fork.py:70: ResourceWarning: Unclosed socket <zmq.Socket(zmq.PUSH) at 0x7ff5e9f65fa0>\n",
      "  self.pid = os.fork()\n",
      "ResourceWarning: Enable tracemalloc to get the object allocation traceback\n"
     ]
    },
    {
     "name": "stderr",
     "output_type": "stream",
     "text": [
      "/home/CSCScience.ca/apetkau/miniconda3/envs/gdi-manuscript/lib/python3.8/multiprocessing/popen_fork.py:70: ResourceWarning: Unclosed socket <zmq.Socket(zmq.PUSH) at 0x7ff5e9f65fa0>\n",
      "  self.pid = os.fork()\n",
      "ResourceWarning: Enable tracemalloc to get the object allocation traceback\n"
     ]
    },
    {
     "name": "stderr",
     "output_type": "stream",
     "text": [
      "/home/CSCScience.ca/apetkau/miniconda3/envs/gdi-manuscript/lib/python3.8/multiprocessing/popen_fork.py:70: ResourceWarning: Unclosed socket <zmq.Socket(zmq.PUSH) at 0x7ff5e9f65fa0>\n",
      "  self.pid = os.fork()\n",
      "ResourceWarning: Enable tracemalloc to get the object allocation traceback\n"
     ]
    },
    {
     "name": "stderr",
     "output_type": "stream",
     "text": [
      "/home/CSCScience.ca/apetkau/miniconda3/envs/gdi-manuscript/lib/python3.8/multiprocessing/popen_fork.py:70: ResourceWarning: Unclosed socket <zmq.Socket(zmq.PUSH) at 0x7ff5e9f65fa0>\n",
      "  self.pid = os.fork()\n",
      "ResourceWarning: Enable tracemalloc to get the object allocation traceback\n"
     ]
    },
    {
     "name": "stderr",
     "output_type": "stream",
     "text": [
      "/home/CSCScience.ca/apetkau/miniconda3/envs/gdi-manuscript/lib/python3.8/multiprocessing/popen_fork.py:70: ResourceWarning: Unclosed socket <zmq.Socket(zmq.PUSH) at 0x7ff5e9f65fa0>\n",
      "  self.pid = os.fork()\n",
      "ResourceWarning: Enable tracemalloc to get the object allocation traceback\n"
     ]
    },
    {
     "name": "stderr",
     "output_type": "stream",
     "text": [
      "/home/CSCScience.ca/apetkau/miniconda3/envs/gdi-manuscript/lib/python3.8/multiprocessing/popen_fork.py:70: ResourceWarning: Unclosed socket <zmq.Socket(zmq.PUSH) at 0x7ff5e9f65fa0>\n",
      "  self.pid = os.fork()\n",
      "ResourceWarning: Enable tracemalloc to get the object allocation traceback\n"
     ]
    },
    {
     "name": "stderr",
     "output_type": "stream",
     "text": [
      "/home/CSCScience.ca/apetkau/miniconda3/envs/gdi-manuscript/lib/python3.8/multiprocessing/popen_fork.py:70: ResourceWarning: Unclosed socket <zmq.Socket(zmq.PUSH) at 0x7ff5e9f65fa0>\n",
      "  self.pid = os.fork()\n",
      "ResourceWarning: Enable tracemalloc to get the object allocation traceback\n"
     ]
    },
    {
     "name": "stderr",
     "output_type": "stream",
     "text": [
      "/home/CSCScience.ca/apetkau/miniconda3/envs/gdi-manuscript/lib/python3.8/multiprocessing/popen_fork.py:70: ResourceWarning: Unclosed socket <zmq.Socket(zmq.PUSH) at 0x7ff5e9f65fa0>\n",
      "  self.pid = os.fork()\n",
      "ResourceWarning: Enable tracemalloc to get the object allocation traceback\n"
     ]
    },
    {
     "name": "stderr",
     "output_type": "stream",
     "text": [
      "/home/CSCScience.ca/apetkau/miniconda3/envs/gdi-manuscript/lib/python3.8/multiprocessing/popen_fork.py:70: ResourceWarning: Unclosed socket <zmq.Socket(zmq.PUSH) at 0x7ff5e9f65fa0>\n",
      "  self.pid = os.fork()\n",
      "ResourceWarning: Enable tracemalloc to get the object allocation traceback\n"
     ]
    },
    {
     "name": "stderr",
     "output_type": "stream",
     "text": [
      "/home/CSCScience.ca/apetkau/miniconda3/envs/gdi-manuscript/lib/python3.8/multiprocessing/popen_fork.py:70: ResourceWarning: Unclosed socket <zmq.Socket(zmq.PUSH) at 0x7ff5e9f65fa0>\n",
      "  self.pid = os.fork()\n",
      "ResourceWarning: Enable tracemalloc to get the object allocation traceback\n"
     ]
    },
    {
     "name": "stderr",
     "output_type": "stream",
     "text": [
      "/home/CSCScience.ca/apetkau/miniconda3/envs/gdi-manuscript/lib/python3.8/multiprocessing/popen_fork.py:70: ResourceWarning: Unclosed socket <zmq.Socket(zmq.PUSH) at 0x7ff5e9f65fa0>\n",
      "  self.pid = os.fork()\n",
      "ResourceWarning: Enable tracemalloc to get the object allocation traceback\n"
     ]
    },
    {
     "data": {
      "text/html": [
       "<div>\n",
       "<style scoped>\n",
       "    .dataframe tbody tr th:only-of-type {\n",
       "        vertical-align: middle;\n",
       "    }\n",
       "\n",
       "    .dataframe tbody tr th {\n",
       "        vertical-align: top;\n",
       "    }\n",
       "\n",
       "    .dataframe thead th {\n",
       "        text-align: right;\n",
       "    }\n",
       "</style>\n",
       "<table border=\"1\" class=\"dataframe\">\n",
       "  <thead>\n",
       "    <tr style=\"text-align: right;\">\n",
       "      <th></th>\n",
       "      <th>Name</th>\n",
       "      <th>Kind</th>\n",
       "      <th>Iteration</th>\n",
       "      <th>Number samples</th>\n",
       "      <th>Number features (no unknown)</th>\n",
       "      <th>Number features (all)</th>\n",
       "      <th>Runtime</th>\n",
       "      <th>Memory (max)</th>\n",
       "      <th>Mmemory (max/process)</th>\n",
       "    </tr>\n",
       "  </thead>\n",
       "  <tbody>\n",
       "    <tr>\n",
       "      <th>0</th>\n",
       "      <td>case-20000</td>\n",
       "      <td>query hasa</td>\n",
       "      <td>1</td>\n",
       "      <td>20000</td>\n",
       "      <td>20593</td>\n",
       "      <td>50496</td>\n",
       "      <td>4.17</td>\n",
       "      <td>289308672.0</td>\n",
       "      <td>289308672.0</td>\n",
       "    </tr>\n",
       "    <tr>\n",
       "      <th>0</th>\n",
       "      <td>case-20000</td>\n",
       "      <td>query hasa</td>\n",
       "      <td>2</td>\n",
       "      <td>20000</td>\n",
       "      <td>20593</td>\n",
       "      <td>50496</td>\n",
       "      <td>3.82</td>\n",
       "      <td>289542144.0</td>\n",
       "      <td>289542144.0</td>\n",
       "    </tr>\n",
       "    <tr>\n",
       "      <th>0</th>\n",
       "      <td>case-20000</td>\n",
       "      <td>query hasa</td>\n",
       "      <td>3</td>\n",
       "      <td>20000</td>\n",
       "      <td>20593</td>\n",
       "      <td>50496</td>\n",
       "      <td>4.11</td>\n",
       "      <td>290304000.0</td>\n",
       "      <td>290304000.0</td>\n",
       "    </tr>\n",
       "  </tbody>\n",
       "</table>\n",
       "</div>"
      ],
      "text/plain": [
       "         Name        Kind  Iteration  Number samples  \\\n",
       "0  case-20000  query hasa          1           20000   \n",
       "0  case-20000  query hasa          2           20000   \n",
       "0  case-20000  query hasa          3           20000   \n",
       "\n",
       "   Number features (no unknown)  Number features (all)  Runtime  Memory (max)  \\\n",
       "0                         20593                  50496     4.17   289308672.0   \n",
       "0                         20593                  50496     3.82   289542144.0   \n",
       "0                         20593                  50496     4.11   290304000.0   \n",
       "\n",
       "   Mmemory (max/process)  \n",
       "0            289308672.0  \n",
       "0            289542144.0  \n",
       "0            290304000.0  "
      ]
     },
     "execution_count": 5,
     "metadata": {},
     "output_type": "execute_result"
    }
   ],
   "source": [
    "cli_df = benchmark_cli_index(name=case_name, index_path=index_path, build_tree=build_tree)\n",
    "cli_df.head(3)"
   ]
  },
  {
   "cell_type": "code",
   "execution_count": 6,
   "id": "1b71ed98-d69a-4038-b337-3b8bbf421bf3",
   "metadata": {
    "execution": {
     "iopub.execute_input": "2022-10-11T15:31:46.380781Z",
     "iopub.status.busy": "2022-10-11T15:31:46.380172Z",
     "iopub.status.idle": "2022-10-11T15:31:46.396870Z",
     "shell.execute_reply": "2022-10-11T15:31:46.395413Z"
    },
    "papermill": {
     "duration": 0.033532,
     "end_time": "2022-10-11T15:31:46.399232",
     "exception": false,
     "start_time": "2022-10-11T15:31:46.365700",
     "status": "completed"
    },
    "tags": []
   },
   "outputs": [],
   "source": [
    "cli_df.to_csv(output_cli_path, sep='\\t', index=False)"
   ]
  },
  {
   "cell_type": "markdown",
   "id": "163cd729-a654-499a-a5b7-dc0bd78d8128",
   "metadata": {
    "papermill": {
     "duration": 0.009312,
     "end_time": "2022-10-11T15:31:46.420488",
     "exception": false,
     "start_time": "2022-10-11T15:31:46.411176",
     "status": "completed"
    },
    "tags": []
   },
   "source": [
    "# 3. Test query API"
   ]
  },
  {
   "cell_type": "markdown",
   "id": "777dbb2e-330f-4de7-b451-1ca902cc3386",
   "metadata": {
    "papermill": {
     "duration": 0.006693,
     "end_time": "2022-10-11T15:31:46.434582",
     "exception": false,
     "start_time": "2022-10-11T15:31:46.427889",
     "status": "completed"
    },
    "tags": []
   },
   "source": [
    "## 3.1. Load (example) metadata\n",
    "\n",
    "The simulated data is based off of real sample names and a real tree. So I can load up real metadata and attach it to a query (though the mutations and reference genome are all simulated)."
   ]
  },
  {
   "cell_type": "code",
   "execution_count": 7,
   "id": "19e1d02c-7bb7-44ef-a1ce-3d20dc420686",
   "metadata": {
    "execution": {
     "iopub.execute_input": "2022-10-11T15:31:46.450340Z",
     "iopub.status.busy": "2022-10-11T15:31:46.449675Z",
     "iopub.status.idle": "2022-10-11T15:31:48.388299Z",
     "shell.execute_reply": "2022-10-11T15:31:48.387210Z"
    },
    "papermill": {
     "duration": 1.950781,
     "end_time": "2022-10-11T15:31:48.392280",
     "exception": false,
     "start_time": "2022-10-11T15:31:46.441499",
     "status": "completed"
    },
    "tags": []
   },
   "outputs": [
    {
     "data": {
      "text/html": [
       "<div>\n",
       "<style scoped>\n",
       "    .dataframe tbody tr th:only-of-type {\n",
       "        vertical-align: middle;\n",
       "    }\n",
       "\n",
       "    .dataframe tbody tr th {\n",
       "        vertical-align: top;\n",
       "    }\n",
       "\n",
       "    .dataframe thead th {\n",
       "        text-align: right;\n",
       "    }\n",
       "</style>\n",
       "<table border=\"1\" class=\"dataframe\">\n",
       "  <thead>\n",
       "    <tr style=\"text-align: right;\">\n",
       "      <th></th>\n",
       "      <th>strain</th>\n",
       "      <th>virus</th>\n",
       "      <th>gisaid_epi_isl</th>\n",
       "      <th>genbank_accession</th>\n",
       "      <th>sra_accession</th>\n",
       "      <th>date</th>\n",
       "      <th>region</th>\n",
       "      <th>country</th>\n",
       "      <th>division</th>\n",
       "      <th>location</th>\n",
       "      <th>...</th>\n",
       "      <th>scorpio_conflict</th>\n",
       "      <th>scorpio_notes</th>\n",
       "      <th>version</th>\n",
       "      <th>pangolin_version</th>\n",
       "      <th>scorpio_version</th>\n",
       "      <th>constellation_version</th>\n",
       "      <th>is_designated</th>\n",
       "      <th>qc_status</th>\n",
       "      <th>qc_notes</th>\n",
       "      <th>note</th>\n",
       "    </tr>\n",
       "  </thead>\n",
       "  <tbody>\n",
       "    <tr>\n",
       "      <th>0</th>\n",
       "      <td>Scotland/QEUH-3DF3D03/2022</td>\n",
       "      <td>ncov</td>\n",
       "      <td>EPI_ISL_12630193</td>\n",
       "      <td>OW855487</td>\n",
       "      <td>ERR9720965</td>\n",
       "      <td>2022-05-03</td>\n",
       "      <td>Europe</td>\n",
       "      <td>United Kingdom</td>\n",
       "      <td>Scotland</td>\n",
       "      <td>NaN</td>\n",
       "      <td>...</td>\n",
       "      <td>0.0</td>\n",
       "      <td>scorpio call: Alt alleles 64; Ref alleles 0; A...</td>\n",
       "      <td>PANGO-v1.14</td>\n",
       "      <td>4.1.2</td>\n",
       "      <td>0.3.17</td>\n",
       "      <td>v0.1.10</td>\n",
       "      <td>True</td>\n",
       "      <td>pass</td>\n",
       "      <td>Ambiguous_content:0.02</td>\n",
       "      <td>Assigned from designation hash.</td>\n",
       "    </tr>\n",
       "    <tr>\n",
       "      <th>1</th>\n",
       "      <td>Denmark/DCGC-384569/2022</td>\n",
       "      <td>ncov</td>\n",
       "      <td>EPI_ISL_10258944</td>\n",
       "      <td>OX022835</td>\n",
       "      <td>ERS12093125</td>\n",
       "      <td>2022-02-15</td>\n",
       "      <td>Europe</td>\n",
       "      <td>Denmark</td>\n",
       "      <td>Syddanmark</td>\n",
       "      <td>NaN</td>\n",
       "      <td>...</td>\n",
       "      <td>0.0</td>\n",
       "      <td>scorpio call: Alt alleles 64; Ref alleles 0; A...</td>\n",
       "      <td>PANGO-v1.14</td>\n",
       "      <td>4.1.2</td>\n",
       "      <td>0.3.17</td>\n",
       "      <td>v0.1.10</td>\n",
       "      <td>True</td>\n",
       "      <td>pass</td>\n",
       "      <td>Ambiguous_content:0.02</td>\n",
       "      <td>Assigned from designation hash.</td>\n",
       "    </tr>\n",
       "  </tbody>\n",
       "</table>\n",
       "<p>2 rows × 68 columns</p>\n",
       "</div>"
      ],
      "text/plain": [
       "                       strain virus    gisaid_epi_isl genbank_accession  \\\n",
       "0  Scotland/QEUH-3DF3D03/2022  ncov  EPI_ISL_12630193          OW855487   \n",
       "1    Denmark/DCGC-384569/2022  ncov  EPI_ISL_10258944          OX022835   \n",
       "\n",
       "  sra_accession        date  region         country    division location  ...  \\\n",
       "0    ERR9720965  2022-05-03  Europe  United Kingdom    Scotland      NaN  ...   \n",
       "1   ERS12093125  2022-02-15  Europe         Denmark  Syddanmark      NaN  ...   \n",
       "\n",
       "  scorpio_conflict                                      scorpio_notes  \\\n",
       "0              0.0  scorpio call: Alt alleles 64; Ref alleles 0; A...   \n",
       "1              0.0  scorpio call: Alt alleles 64; Ref alleles 0; A...   \n",
       "\n",
       "       version pangolin_version  scorpio_version constellation_version  \\\n",
       "0  PANGO-v1.14            4.1.2           0.3.17               v0.1.10   \n",
       "1  PANGO-v1.14            4.1.2           0.3.17               v0.1.10   \n",
       "\n",
       "  is_designated qc_status                qc_notes  \\\n",
       "0          True      pass  Ambiguous_content:0.02   \n",
       "1          True      pass  Ambiguous_content:0.02   \n",
       "\n",
       "                              note  \n",
       "0  Assigned from designation hash.  \n",
       "1  Assigned from designation hash.  \n",
       "\n",
       "[2 rows x 68 columns]"
      ]
     },
     "execution_count": 7,
     "metadata": {},
     "output_type": "execute_result"
    }
   ],
   "source": [
    "import pandas as pd\n",
    "\n",
    "metadata_df = pd.read_csv(metadata_file, sep='\\t')\n",
    "metadata_df.head(2)"
   ]
  },
  {
   "cell_type": "markdown",
   "id": "6471c107-835d-4dac-812c-951d0527982e",
   "metadata": {
    "papermill": {
     "duration": 0.00915,
     "end_time": "2022-10-11T15:31:48.417692",
     "exception": false,
     "start_time": "2022-10-11T15:31:48.408542",
     "status": "completed"
    },
    "tags": []
   },
   "source": [
    "## 3.2. Define benchmark cases"
   ]
  },
  {
   "cell_type": "code",
   "execution_count": 8,
   "id": "e347bcfb-4d0c-4fe8-b68c-00de30d924d9",
   "metadata": {
    "execution": {
     "iopub.execute_input": "2022-10-11T15:31:48.433410Z",
     "iopub.status.busy": "2022-10-11T15:31:48.432974Z",
     "iopub.status.idle": "2022-10-11T15:31:48.447549Z",
     "shell.execute_reply": "2022-10-11T15:31:48.446304Z"
    },
    "papermill": {
     "duration": 0.025199,
     "end_time": "2022-10-11T15:31:48.449934",
     "exception": false,
     "start_time": "2022-10-11T15:31:48.424735",
     "status": "completed"
    },
    "tags": []
   },
   "outputs": [],
   "source": [
    "from typing import List\n",
    "import genomics_data_index.api as gdi\n",
    "\n",
    "def benchmark_api_index(name: str, index_path: Path, build_tree: bool) -> pd.DataFrame:\n",
    "    db = gdi.GenomicsDataIndex.connect(index_path)\n",
    "    q_no_join = db.samples_query(reference_name='NC_045512', universe='mutations')\n",
    "    q_join = db.samples_query(reference_name='NC_045512', universe='mutations').join(metadata_df, sample_names_column='strain')\n",
    "\n",
    "    q = q_join.hasa('hgvs_gn:NC_045512.2:S:p.D614G')\n",
    "    r = q_join.hasa('hgvs_gn:NC_045512.2:N:p.R203K')\n",
    "    \n",
    "    number_samples = db.count_samples()\n",
    "    number_features_no_unknown = db.count_mutations(reference_genome='NC_045512', include_unknown=False)\n",
    "    number_features_all = db.count_mutations(reference_genome='NC_045512', include_unknown=True)\n",
    "    repeat = 10\n",
    "\n",
    "    benchmark_cases = {\n",
    "        'db.samples_query':      lambda: db.samples_query(reference_name='NC_045512', universe='mutations'),\n",
    "        'q.join':                lambda: q_no_join.join(metadata_df, sample_names_column='strain'),\n",
    "        'q.features_summary':    lambda: q_join.features_summary(),\n",
    "        'q.features_comparison': lambda: q_join.features_comparison(sample_categories='lineage', categories_kind='dataframe', kind='mutations', unit='proportion'),\n",
    "        'q.hasa':                lambda: q_join.hasa(\"hgvs_gn:NC_045512.2:N:p.R203K\"),\n",
    "        'q.isa':                 lambda: q_join.isa(\"Switzerland/100112/2020\"),\n",
    "        'q AND r':               lambda: q & r,\n",
    "        'q.toframe':             lambda: q_join.toframe(),\n",
    "        'q.summary':             lambda: q_join.summary(),\n",
    "    }\n",
    "    \n",
    "    if build_tree:\n",
    "        benchmark_cases['q.isin (distance)'] = lambda: q_join.isin(\"Switzerland/100108/2020\", kind='distance', distance=5, units='substitutions')\n",
    "        benchmark_cases['q.isin (mrca)'] = lambda: q_join.isin([\"Switzerland/100108/2020\", \"FR993751\"], kind='mrca')\n",
    "\n",
    "    benchmarker = gdi_benchmark.QueryBenchmarkHandler()\n",
    "    return benchmarker.benchmark_api(name=name, kind_functions=benchmark_cases,\n",
    "                                       number_samples=number_samples,\n",
    "                                       number_features_no_unknown=number_features_no_unknown,\n",
    "                                       number_features_all=number_features_all,\n",
    "                                       repeat=repeat)"
   ]
  },
  {
   "cell_type": "markdown",
   "id": "f2180ae5-7850-4680-8e9e-45872d56accb",
   "metadata": {
    "papermill": {
     "duration": 0.01086,
     "end_time": "2022-10-11T15:31:48.478812",
     "exception": false,
     "start_time": "2022-10-11T15:31:48.467952",
     "status": "completed"
    },
    "tags": []
   },
   "source": [
    "## 3.3. Benchmark reads index"
   ]
  },
  {
   "cell_type": "markdown",
   "id": "e30ff687",
   "metadata": {
    "tags": [
     "papermill-error-cell-tag"
    ]
   },
   "source": [
    "<span id=\"papermill-error-cell\" style=\"color:red; font-family:Helvetica Neue, Helvetica, Arial, sans-serif; font-size:2em;\">Execution using papermill encountered an exception here and stopped:</span>"
   ]
  },
  {
   "cell_type": "code",
   "execution_count": 9,
   "id": "04d3a9c7-23a6-4a04-8735-a637c5534ba8",
   "metadata": {
    "execution": {
     "iopub.execute_input": "2022-10-11T15:31:48.495370Z",
     "iopub.status.busy": "2022-10-11T15:31:48.494715Z",
     "iopub.status.idle": "2022-10-11T15:39:34.511733Z",
     "shell.execute_reply": "2022-10-11T15:39:34.509150Z"
    },
    "papermill": {
     "duration": 466.040171,
     "end_time": "2022-10-11T15:39:34.526302",
     "exception": true,
     "start_time": "2022-10-11T15:31:48.486131",
     "status": "failed"
    },
    "tags": []
   },
   "outputs": [
    {
     "name": "stderr",
     "output_type": "stream",
     "text": [
      "Attempting to set global database_path_translator=<genomics_data_index.storage.model.db.DatabasePathTranslator.DatabasePathTranslator object at 0x7ff7603ed850> but it is already set\n"
     ]
    },
    {
     "ename": "Exception",
     "evalue": "units=[substitutions] is not supported. Must be one of ['kmer_jaccard']. For additional distance queries you perhaps need to build or attach a tree to the query.",
     "output_type": "error",
     "traceback": [
      "\u001b[0;31m---------------------------------------------------------------------------\u001b[0m",
      "\u001b[0;31mException\u001b[0m                                 Traceback (most recent call last)",
      "Cell \u001b[0;32mIn [9], line 1\u001b[0m\n\u001b[0;32m----> 1\u001b[0m api_df \u001b[38;5;241m=\u001b[39m benchmark_api_index(name\u001b[38;5;241m=\u001b[39mcase_name, index_path\u001b[38;5;241m=\u001b[39mindex_path, build_tree\u001b[38;5;241m=\u001b[39mbuild_tree)\n\u001b[1;32m      2\u001b[0m api_df\u001b[38;5;241m.\u001b[39mhead(\u001b[38;5;241m5\u001b[39m)\n",
      "Cell \u001b[0;32mIn [8], line 34\u001b[0m, in \u001b[0;36mbenchmark_api_index\u001b[0;34m(name, index_path, build_tree)\u001b[0m\n\u001b[1;32m     31\u001b[0m     benchmark_cases[\u001b[38;5;124m'\u001b[39m\u001b[38;5;124mq.isin (mrca)\u001b[39m\u001b[38;5;124m'\u001b[39m] \u001b[38;5;241m=\u001b[39m \u001b[38;5;28;01mlambda\u001b[39;00m: q_join\u001b[38;5;241m.\u001b[39misin([\u001b[38;5;124m\"\u001b[39m\u001b[38;5;124mSwitzerland/100108/2020\u001b[39m\u001b[38;5;124m\"\u001b[39m, \u001b[38;5;124m\"\u001b[39m\u001b[38;5;124mFR993751\u001b[39m\u001b[38;5;124m\"\u001b[39m], kind\u001b[38;5;241m=\u001b[39m\u001b[38;5;124m'\u001b[39m\u001b[38;5;124mmrca\u001b[39m\u001b[38;5;124m'\u001b[39m)\n\u001b[1;32m     33\u001b[0m benchmarker \u001b[38;5;241m=\u001b[39m gdi_benchmark\u001b[38;5;241m.\u001b[39mQueryBenchmarkHandler()\n\u001b[0;32m---> 34\u001b[0m \u001b[38;5;28;01mreturn\u001b[39;00m \u001b[43mbenchmarker\u001b[49m\u001b[38;5;241;43m.\u001b[39;49m\u001b[43mbenchmark_api\u001b[49m\u001b[43m(\u001b[49m\u001b[43mname\u001b[49m\u001b[38;5;241;43m=\u001b[39;49m\u001b[43mname\u001b[49m\u001b[43m,\u001b[49m\u001b[43m \u001b[49m\u001b[43mkind_functions\u001b[49m\u001b[38;5;241;43m=\u001b[39;49m\u001b[43mbenchmark_cases\u001b[49m\u001b[43m,\u001b[49m\n\u001b[1;32m     35\u001b[0m \u001b[43m                                   \u001b[49m\u001b[43mnumber_samples\u001b[49m\u001b[38;5;241;43m=\u001b[39;49m\u001b[43mnumber_samples\u001b[49m\u001b[43m,\u001b[49m\n\u001b[1;32m     36\u001b[0m \u001b[43m                                   \u001b[49m\u001b[43mnumber_features_no_unknown\u001b[49m\u001b[38;5;241;43m=\u001b[39;49m\u001b[43mnumber_features_no_unknown\u001b[49m\u001b[43m,\u001b[49m\n\u001b[1;32m     37\u001b[0m \u001b[43m                                   \u001b[49m\u001b[43mnumber_features_all\u001b[49m\u001b[38;5;241;43m=\u001b[39;49m\u001b[43mnumber_features_all\u001b[49m\u001b[43m,\u001b[49m\n\u001b[1;32m     38\u001b[0m \u001b[43m                                   \u001b[49m\u001b[43mrepeat\u001b[49m\u001b[38;5;241;43m=\u001b[39;49m\u001b[43mrepeat\u001b[49m\u001b[43m)\u001b[49m\n",
      "File \u001b[0;32m~/workspace/genomics-data-index-evaluation-manuscript/evaluations/sars-cov-2/../../lib/gdi_benchmark/EvaluationBenchmarker.py:59\u001b[0m, in \u001b[0;36mQueryBenchmarkHandler.benchmark_api\u001b[0;34m(self, name, kind_functions, number_samples, number_features_no_unknown, number_features_all, repeat)\u001b[0m\n\u001b[1;32m     57\u001b[0m func \u001b[38;5;241m=\u001b[39m kind_functions[kind]\n\u001b[1;32m     58\u001b[0m timer \u001b[38;5;241m=\u001b[39m timeit\u001b[38;5;241m.\u001b[39mTimer(func)\n\u001b[0;32m---> 59\u001b[0m number_loops \u001b[38;5;241m=\u001b[39m \u001b[43mtimer\u001b[49m\u001b[38;5;241;43m.\u001b[39;49m\u001b[43mautorange\u001b[49m\u001b[43m(\u001b[49m\u001b[43m)\u001b[49m[\u001b[38;5;241m0\u001b[39m]\n\u001b[1;32m     60\u001b[0m result \u001b[38;5;241m=\u001b[39m timer\u001b[38;5;241m.\u001b[39mrepeat(repeat\u001b[38;5;241m=\u001b[39mrepeat, number\u001b[38;5;241m=\u001b[39mnumber_loops)\n\u001b[1;32m     61\u001b[0m result \u001b[38;5;241m=\u001b[39m \u001b[38;5;28mlist\u001b[39m(\u001b[38;5;28mmap\u001b[39m(\u001b[38;5;28;01mlambda\u001b[39;00m x: x\u001b[38;5;241m/\u001b[39mnumber_loops, result)) \u001b[38;5;66;03m# Convert to time per single execution\u001b[39;00m\n",
      "File \u001b[0;32m~/miniconda3/envs/gdi-manuscript/lib/python3.8/timeit.py:223\u001b[0m, in \u001b[0;36mTimer.autorange\u001b[0;34m(self, callback)\u001b[0m\n\u001b[1;32m    221\u001b[0m \u001b[38;5;28;01mfor\u001b[39;00m j \u001b[38;5;129;01min\u001b[39;00m \u001b[38;5;241m1\u001b[39m, \u001b[38;5;241m2\u001b[39m, \u001b[38;5;241m5\u001b[39m:\n\u001b[1;32m    222\u001b[0m     number \u001b[38;5;241m=\u001b[39m i \u001b[38;5;241m*\u001b[39m j\n\u001b[0;32m--> 223\u001b[0m     time_taken \u001b[38;5;241m=\u001b[39m \u001b[38;5;28;43mself\u001b[39;49m\u001b[38;5;241;43m.\u001b[39;49m\u001b[43mtimeit\u001b[49m\u001b[43m(\u001b[49m\u001b[43mnumber\u001b[49m\u001b[43m)\u001b[49m\n\u001b[1;32m    224\u001b[0m     \u001b[38;5;28;01mif\u001b[39;00m callback:\n\u001b[1;32m    225\u001b[0m         callback(number, time_taken)\n",
      "File \u001b[0;32m~/miniconda3/envs/gdi-manuscript/lib/python3.8/timeit.py:177\u001b[0m, in \u001b[0;36mTimer.timeit\u001b[0;34m(self, number)\u001b[0m\n\u001b[1;32m    175\u001b[0m gc\u001b[38;5;241m.\u001b[39mdisable()\n\u001b[1;32m    176\u001b[0m \u001b[38;5;28;01mtry\u001b[39;00m:\n\u001b[0;32m--> 177\u001b[0m     timing \u001b[38;5;241m=\u001b[39m \u001b[38;5;28;43mself\u001b[39;49m\u001b[38;5;241;43m.\u001b[39;49m\u001b[43minner\u001b[49m\u001b[43m(\u001b[49m\u001b[43mit\u001b[49m\u001b[43m,\u001b[49m\u001b[43m \u001b[49m\u001b[38;5;28;43mself\u001b[39;49m\u001b[38;5;241;43m.\u001b[39;49m\u001b[43mtimer\u001b[49m\u001b[43m)\u001b[49m\n\u001b[1;32m    178\u001b[0m \u001b[38;5;28;01mfinally\u001b[39;00m:\n\u001b[1;32m    179\u001b[0m     \u001b[38;5;28;01mif\u001b[39;00m gcold:\n",
      "File \u001b[0;32m<timeit-src>:6\u001b[0m, in \u001b[0;36minner\u001b[0;34m(_it, _timer, _stmt)\u001b[0m\n",
      "Cell \u001b[0;32mIn [8], line 30\u001b[0m, in \u001b[0;36mbenchmark_api_index.<locals>.<lambda>\u001b[0;34m()\u001b[0m\n\u001b[1;32m     17\u001b[0m benchmark_cases \u001b[38;5;241m=\u001b[39m {\n\u001b[1;32m     18\u001b[0m     \u001b[38;5;124m'\u001b[39m\u001b[38;5;124mdb.samples_query\u001b[39m\u001b[38;5;124m'\u001b[39m:      \u001b[38;5;28;01mlambda\u001b[39;00m: db\u001b[38;5;241m.\u001b[39msamples_query(reference_name\u001b[38;5;241m=\u001b[39m\u001b[38;5;124m'\u001b[39m\u001b[38;5;124mNC_045512\u001b[39m\u001b[38;5;124m'\u001b[39m, universe\u001b[38;5;241m=\u001b[39m\u001b[38;5;124m'\u001b[39m\u001b[38;5;124mmutations\u001b[39m\u001b[38;5;124m'\u001b[39m),\n\u001b[1;32m     19\u001b[0m     \u001b[38;5;124m'\u001b[39m\u001b[38;5;124mq.join\u001b[39m\u001b[38;5;124m'\u001b[39m:                \u001b[38;5;28;01mlambda\u001b[39;00m: q_no_join\u001b[38;5;241m.\u001b[39mjoin(metadata_df, sample_names_column\u001b[38;5;241m=\u001b[39m\u001b[38;5;124m'\u001b[39m\u001b[38;5;124mstrain\u001b[39m\u001b[38;5;124m'\u001b[39m),\n\u001b[0;32m   (...)\u001b[0m\n\u001b[1;32m     26\u001b[0m     \u001b[38;5;124m'\u001b[39m\u001b[38;5;124mq.summary\u001b[39m\u001b[38;5;124m'\u001b[39m:             \u001b[38;5;28;01mlambda\u001b[39;00m: q_join\u001b[38;5;241m.\u001b[39msummary(),\n\u001b[1;32m     27\u001b[0m }\n\u001b[1;32m     29\u001b[0m \u001b[38;5;28;01mif\u001b[39;00m build_tree:\n\u001b[0;32m---> 30\u001b[0m     benchmark_cases[\u001b[38;5;124m'\u001b[39m\u001b[38;5;124mq.isin (distance)\u001b[39m\u001b[38;5;124m'\u001b[39m] \u001b[38;5;241m=\u001b[39m \u001b[38;5;28;01mlambda\u001b[39;00m: \u001b[43mq_join\u001b[49m\u001b[38;5;241;43m.\u001b[39;49m\u001b[43misin\u001b[49m\u001b[43m(\u001b[49m\u001b[38;5;124;43m\"\u001b[39;49m\u001b[38;5;124;43mSwitzerland/100108/2020\u001b[39;49m\u001b[38;5;124;43m\"\u001b[39;49m\u001b[43m,\u001b[49m\u001b[43m \u001b[49m\u001b[43mkind\u001b[49m\u001b[38;5;241;43m=\u001b[39;49m\u001b[38;5;124;43m'\u001b[39;49m\u001b[38;5;124;43mdistance\u001b[39;49m\u001b[38;5;124;43m'\u001b[39;49m\u001b[43m,\u001b[49m\u001b[43m \u001b[49m\u001b[43mdistance\u001b[49m\u001b[38;5;241;43m=\u001b[39;49m\u001b[38;5;241;43m5\u001b[39;49m\u001b[43m,\u001b[49m\u001b[43m \u001b[49m\u001b[43munits\u001b[49m\u001b[38;5;241;43m=\u001b[39;49m\u001b[38;5;124;43m'\u001b[39;49m\u001b[38;5;124;43msubstitutions\u001b[39;49m\u001b[38;5;124;43m'\u001b[39;49m\u001b[43m)\u001b[49m\n\u001b[1;32m     31\u001b[0m     benchmark_cases[\u001b[38;5;124m'\u001b[39m\u001b[38;5;124mq.isin (mrca)\u001b[39m\u001b[38;5;124m'\u001b[39m] \u001b[38;5;241m=\u001b[39m \u001b[38;5;28;01mlambda\u001b[39;00m: q_join\u001b[38;5;241m.\u001b[39misin([\u001b[38;5;124m\"\u001b[39m\u001b[38;5;124mSwitzerland/100108/2020\u001b[39m\u001b[38;5;124m\"\u001b[39m, \u001b[38;5;124m\"\u001b[39m\u001b[38;5;124mFR993751\u001b[39m\u001b[38;5;124m\"\u001b[39m], kind\u001b[38;5;241m=\u001b[39m\u001b[38;5;124m'\u001b[39m\u001b[38;5;124mmrca\u001b[39m\u001b[38;5;124m'\u001b[39m)\n\u001b[1;32m     33\u001b[0m benchmarker \u001b[38;5;241m=\u001b[39m gdi_benchmark\u001b[38;5;241m.\u001b[39mQueryBenchmarkHandler()\n",
      "File \u001b[0;32m~/miniconda3/envs/gdi-manuscript/lib/python3.8/site-packages/genomics_data_index/api/query/impl/WrappedSamplesQuery.py:201\u001b[0m, in \u001b[0;36mWrappedSamplesQuery.isin\u001b[0;34m(self, data, kind, **kwargs)\u001b[0m\n\u001b[1;32m    199\u001b[0m     \u001b[38;5;28;01mreturn\u001b[39;00m \u001b[38;5;28mself\u001b[39m\u001b[38;5;241m.\u001b[39m_isin_internal(data\u001b[38;5;241m=\u001b[39mdata, kind\u001b[38;5;241m=\u001b[39mkind, \u001b[38;5;241m*\u001b[39m\u001b[38;5;241m*\u001b[39mkwargs)\n\u001b[1;32m    200\u001b[0m \u001b[38;5;28;01melse\u001b[39;00m:\n\u001b[0;32m--> 201\u001b[0m     \u001b[38;5;28;01mreturn\u001b[39;00m \u001b[38;5;28mself\u001b[39m\u001b[38;5;241m.\u001b[39m_wrap_create(\u001b[38;5;28;43mself\u001b[39;49m\u001b[38;5;241;43m.\u001b[39;49m\u001b[43m_wrapped_query\u001b[49m\u001b[38;5;241;43m.\u001b[39;49m\u001b[43misin\u001b[49m\u001b[43m(\u001b[49m\u001b[43mdata\u001b[49m\u001b[38;5;241;43m=\u001b[39;49m\u001b[43mdata\u001b[49m\u001b[43m,\u001b[49m\u001b[43m \u001b[49m\u001b[43mkind\u001b[49m\u001b[38;5;241;43m=\u001b[39;49m\u001b[43mkind\u001b[49m\u001b[43m,\u001b[49m\u001b[43m \u001b[49m\u001b[38;5;241;43m*\u001b[39;49m\u001b[38;5;241;43m*\u001b[39;49m\u001b[43mkwargs\u001b[49m\u001b[43m)\u001b[49m)\n",
      "File \u001b[0;32m~/miniconda3/envs/gdi-manuscript/lib/python3.8/site-packages/genomics_data_index/api/query/impl/SamplesQueryIndex.py:623\u001b[0m, in \u001b[0;36mSamplesQueryIndex.isin\u001b[0;34m(self, data, kind, **kwargs)\u001b[0m\n\u001b[1;32m    621\u001b[0m     \u001b[38;5;28;01mreturn\u001b[39;00m \u001b[38;5;28mself\u001b[39m\u001b[38;5;241m.\u001b[39m_isin_samples(data\u001b[38;5;241m=\u001b[39mdata, query_message_prefix\u001b[38;5;241m=\u001b[39m\u001b[38;5;124m'\u001b[39m\u001b[38;5;124misin_samples\u001b[39m\u001b[38;5;124m'\u001b[39m)\n\u001b[1;32m    622\u001b[0m \u001b[38;5;28;01melif\u001b[39;00m kind \u001b[38;5;241m==\u001b[39m \u001b[38;5;124m'\u001b[39m\u001b[38;5;124mdistance\u001b[39m\u001b[38;5;124m'\u001b[39m \u001b[38;5;129;01mor\u001b[39;00m kind \u001b[38;5;241m==\u001b[39m \u001b[38;5;124m'\u001b[39m\u001b[38;5;124mdistances\u001b[39m\u001b[38;5;124m'\u001b[39m:\n\u001b[0;32m--> 623\u001b[0m     \u001b[38;5;28;01mreturn\u001b[39;00m \u001b[38;5;28;43mself\u001b[39;49m\u001b[38;5;241;43m.\u001b[39;49m\u001b[43m_within_distance\u001b[49m\u001b[43m(\u001b[49m\u001b[43mdata\u001b[49m\u001b[38;5;241;43m=\u001b[39;49m\u001b[43mdata\u001b[49m\u001b[43m,\u001b[49m\u001b[43m \u001b[49m\u001b[38;5;241;43m*\u001b[39;49m\u001b[38;5;241;43m*\u001b[39;49m\u001b[43mkwargs\u001b[49m\u001b[43m)\u001b[49m\n\u001b[1;32m    624\u001b[0m \u001b[38;5;28;01melse\u001b[39;00m:\n\u001b[1;32m    625\u001b[0m     \u001b[38;5;28;01mraise\u001b[39;00m \u001b[38;5;167;01mException\u001b[39;00m(\u001b[38;5;124mf\u001b[39m\u001b[38;5;124m'\u001b[39m\u001b[38;5;124mkind=[\u001b[39m\u001b[38;5;132;01m{\u001b[39;00mkind\u001b[38;5;132;01m}\u001b[39;00m\u001b[38;5;124m] is not supported. Must be one of \u001b[39m\u001b[38;5;132;01m{\u001b[39;00m\u001b[38;5;28mself\u001b[39m\u001b[38;5;241m.\u001b[39mISIN_TYPES\u001b[38;5;132;01m}\u001b[39;00m\u001b[38;5;124m'\u001b[39m)\n",
      "File \u001b[0;32m~/miniconda3/envs/gdi-manuscript/lib/python3.8/site-packages/genomics_data_index/api/query/impl/SamplesQueryIndex.py:558\u001b[0m, in \u001b[0;36mSamplesQueryIndex._within_distance\u001b[0;34m(self, data, distance, units, **kwargs)\u001b[0m\n\u001b[1;32m    556\u001b[0m     \u001b[38;5;28;01mreturn\u001b[39;00m \u001b[38;5;28mself\u001b[39m\u001b[38;5;241m.\u001b[39m_within_kmer_jaccard(data\u001b[38;5;241m=\u001b[39mdata, distance\u001b[38;5;241m=\u001b[39mdistance, \u001b[38;5;241m*\u001b[39m\u001b[38;5;241m*\u001b[39mkwargs)\n\u001b[1;32m    557\u001b[0m \u001b[38;5;28;01melse\u001b[39;00m:\n\u001b[0;32m--> 558\u001b[0m     \u001b[38;5;28;01mraise\u001b[39;00m \u001b[38;5;167;01mException\u001b[39;00m(\u001b[38;5;124mf\u001b[39m\u001b[38;5;124m'\u001b[39m\u001b[38;5;124munits=[\u001b[39m\u001b[38;5;132;01m{\u001b[39;00munits\u001b[38;5;132;01m}\u001b[39;00m\u001b[38;5;124m] is not supported. Must be one of \u001b[39m\u001b[38;5;132;01m{\u001b[39;00m\u001b[38;5;28mself\u001b[39m\u001b[38;5;241m.\u001b[39m_distance_units()\u001b[38;5;132;01m}\u001b[39;00m\u001b[38;5;124m. \u001b[39m\u001b[38;5;124m'\u001b[39m\n\u001b[1;32m    559\u001b[0m                     \u001b[38;5;124mf\u001b[39m\u001b[38;5;124m'\u001b[39m\u001b[38;5;124mFor additional distance queries you perhaps need to build or attach a tree to \u001b[39m\u001b[38;5;124m'\u001b[39m\n\u001b[1;32m    560\u001b[0m                     \u001b[38;5;124mf\u001b[39m\u001b[38;5;124m'\u001b[39m\u001b[38;5;124mthe query.\u001b[39m\u001b[38;5;124m'\u001b[39m)\n",
      "\u001b[0;31mException\u001b[0m: units=[substitutions] is not supported. Must be one of ['kmer_jaccard']. For additional distance queries you perhaps need to build or attach a tree to the query."
     ]
    }
   ],
   "source": [
    "api_df = benchmark_api_index(name=case_name, index_path=index_path, build_tree=build_tree)\n",
    "api_df.head(5)"
   ]
  },
  {
   "cell_type": "code",
   "execution_count": null,
   "id": "09e7fb11-5c83-4983-82b9-4a54fca23b52",
   "metadata": {
    "papermill": {
     "duration": null,
     "end_time": null,
     "exception": null,
     "start_time": null,
     "status": "pending"
    },
    "tags": []
   },
   "outputs": [],
   "source": [
    "api_df.to_csv(output_api_path, sep='\\t', index=False)"
   ]
  },
  {
   "cell_type": "code",
   "execution_count": null,
   "id": "d29f35f8-2056-46f1-a506-379a0add43b9",
   "metadata": {
    "papermill": {
     "duration": null,
     "end_time": null,
     "exception": null,
     "start_time": null,
     "status": "pending"
    },
    "tags": []
   },
   "outputs": [],
   "source": []
  }
 ],
 "metadata": {
  "kernelspec": {
   "display_name": "Python 3 (ipykernel)",
   "language": "python",
   "name": "python3"
  },
  "language_info": {
   "codemirror_mode": {
    "name": "ipython",
    "version": 3
   },
   "file_extension": ".py",
   "mimetype": "text/x-python",
   "name": "python",
   "nbconvert_exporter": "python",
   "pygments_lexer": "ipython3",
   "version": "3.8.13"
  },
  "papermill": {
   "default_parameters": {},
   "duration": 714.671268,
   "end_time": "2022-10-11T15:39:35.362277",
   "environment_variables": {},
   "exception": true,
   "input_path": "template-4-query.ipynb",
   "output_path": "4-query.case-20000.ipynb",
   "parameters": {
    "build_tree": true,
    "cases_dir": "cases/case-20000",
    "iterations": 3,
    "number_samples": 20000
   },
   "start_time": "2022-10-11T15:27:40.691009",
   "version": "2.3.4"
  }
 },
 "nbformat": 4,
 "nbformat_minor": 5
}